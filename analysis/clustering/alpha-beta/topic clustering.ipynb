{
 "cells": [
  {
   "cell_type": "markdown",
   "metadata": {},
   "source": [
    "###### import pandas as pd\n",
    "import numpy as np\n",
    "\n",
    "num_topics = 24\n",
    "data_path = \"~/Desktop/DataViz/whisper/whisperVis/data/topicModeling/con\"\n",
    "df = pd.read_csv(data_path + f\"/{num_topics}/beta.csv\")\n",
    "\n",
    "display(df.head())\n",
    "print(df.shape)"
   ]
  },
  {
   "cell_type": "markdown",
   "metadata": {},
   "source": [
    "## Computing topic word distribution"
   ]
  },
  {
   "cell_type": "code",
   "execution_count": 33,
   "metadata": {},
   "outputs": [
    {
     "name": "stdout",
     "output_type": "stream",
     "text": [
      "24\n",
      "24\n"
     ]
    }
   ],
   "source": [
    "topic_word_distr = []\n",
    "imp_words = []\n",
    "terms = df[df.topic == 1].term.values.tolist()\n",
    "\n",
    "num_topics = len(df.topic.unique())\n",
    "for i in range(1, num_topics+1):\n",
    "    topic = df[df.topic == i] \n",
    "    vals = topic.beta.values.tolist()\n",
    "    topic_word_distr += [np.asarray(vals)]\n",
    "    words = [terms[i] for i in np.asarray(vals).argsort()[-10:][::-1].tolist()]\n",
    "    imp_words.append(words)\n",
    "    \n",
    "print(len(topic_word_distr))\n",
    "print(len(imp_words))"
   ]
  },
  {
   "cell_type": "markdown",
   "metadata": {},
   "source": [
    "# Dissimilarity Measure"
   ]
  },
  {
   "cell_type": "code",
   "execution_count": 34,
   "metadata": {},
   "outputs": [
    {
     "name": "stdout",
     "output_type": "stream",
     "text": [
      "[[0.0, 0.8318505311239278, 0.8312021533915369, 0.8320485583343156, 0.8321128900254099, 0.8324293416480609, 0.8322647968521858, 0.8315499913285773, 0.8314502576574654, 0.8313410162830989, 0.8318673826591025, 0.8322670761680295, 0.8323356471332289, 0.8320855578739523, 0.832107596712574, 0.8321045456000236, 0.8325544343930518, 0.831211928678588, 0.8315322833577191, 0.8325543603455217, 0.8325100851302332, 0.8320754815400431, 0.8321912193592951, 0.8325546046019562], [0.8318505311239278, 0.0, 0.8319934793477604, 0.8324414189485437, 0.8325519648911994, 0.8322366373493445, 0.8323481823597412, 0.8322503781423616, 0.8317051047518907, 0.8315438319356244, 0.8318749906112564, 0.8306857620340468, 0.832554597529757, 0.8322224858117766, 0.829300239412496, 0.8325509932443316, 0.8325545947442692, 0.8312956933641839, 0.8325360644422971, 0.8324486442264223, 0.832379951496198, 0.8318429146085543, 0.8321674517883927, 0.8325532819260727], [0.8312021533915369, 0.8319934793477604, 0.0, 0.8324279385002008, 0.8316135921397005, 0.8321238369072025, 0.8319197915306504, 0.8323834901237278, 0.8271410351515246, 0.831161282151616, 0.8315916743830686, 0.8319579304912794, 0.8319802510696023, 0.831155125302857, 0.8323151636930602, 0.8279308728032093, 0.8288687453390453, 0.8317064160827873, 0.8322310032775139, 0.832290463748638, 0.832002285793518, 0.8320328618723194, 0.8318042035681044, 0.8325542573019983], [0.8320485583343156, 0.8324414189485437, 0.8324279385002008, 0.0, 0.8324472038080015, 0.8324228041182419, 0.8318489312867676, 0.8325546111443594, 0.8298908595520444, 0.8322544838093975, 0.8323628210705065, 0.8314758675739208, 0.8323885874260636, 0.8323289073478742, 0.8324874442780075, 0.8323452056007662, 0.8325544726264767, 0.8325540529378362, 0.8325545950122013, 0.8317220061816352, 0.8323491196921405, 0.8323999114619859, 0.8324408240297663, 0.8325546088015033], [0.8321128900254099, 0.8325519648911994, 0.8316135921397005, 0.8324472038080015, 0.0, 0.8325229943056583, 0.8324644118559397, 0.8323826103286758, 0.8316367390501564, 0.8325416481797516, 0.8325106121923551, 0.8323702005641402, 0.8240288411784017, 0.8324875721261663, 0.8324510068886959, 0.8324237688038133, 0.8319694236631477, 0.8325546102425788, 0.8323948992866762, 0.8323780179159397, 0.8323970775378337, 0.8321652635119071, 0.8325545152192233, 0.8325467036254065], [0.8324293416480609, 0.8322366373493445, 0.8321238369072025, 0.8324228041182419, 0.8325229943056583, 0.0, 0.8322169263048315, 0.8325349982864434, 0.8323806458101226, 0.8324388536476084, 0.8323441207233641, 0.8323748797948051, 0.8323603617325871, 0.8318459435844696, 0.8324470292728641, 0.8323552719249837, 0.8319937900953902, 0.8313446593763703, 0.8320726920821861, 0.8178612436947301, 0.8324611945420056, 0.8324325677221819, 0.8323308419011324, 0.8325546007989022], [0.8322647968521858, 0.8323481823597412, 0.8319197915306504, 0.8318489312867676, 0.8324644118559397, 0.8322169263048315, 0.0, 0.8316164651714405, 0.8323639272025888, 0.8315115753402962, 0.8322776028969671, 0.8307322585497269, 0.8323143232821695, 0.832449454170645, 0.832365116978153, 0.8321876825707495, 0.8323344504690436, 0.8323873418108889, 0.8322584399287629, 0.8316952189245459, 0.8325091643952243, 0.832029457502586, 0.8317398344236714, 0.8324543541752835], [0.8315499913285773, 0.8322503781423616, 0.8323834901237278, 0.8325546111443594, 0.8323826103286758, 0.8325349982864434, 0.8316164651714405, 0.0, 0.8325486289405858, 0.831754638333065, 0.8325546107750924, 0.8325546107115201, 0.8323323011471466, 0.8319445448938325, 0.8322375524153073, 0.832554606162046, 0.8321268015947452, 0.832247147263227, 0.8322320417836501, 0.831046009084506, 0.8323689469743145, 0.8325035251577576, 0.8325368034284876, 0.8325533739692407], [0.8314502576574654, 0.8317051047518907, 0.8271410351515246, 0.8298908595520444, 0.8316367390501564, 0.8323806458101226, 0.8323639272025888, 0.8325486289405858, 0.0, 0.8313727533082109, 0.8325546109697192, 0.8318560331188865, 0.8323280008547755, 0.7955501706082189, 0.8302538186775463, 0.8321223570228978, 0.8323996338510247, 0.8319931366974538, 0.8322473111549207, 0.8298591564689394, 0.8323653180150958, 0.8322586014476422, 0.8319302632039313, 0.8318814119606558], [0.8313410162830989, 0.8315438319356244, 0.831161282151616, 0.8322544838093975, 0.8325416481797516, 0.8324388536476084, 0.8315115753402962, 0.831754638333065, 0.8313727533082109, 0.0, 0.8322106727518865, 0.8319173648567131, 0.8319886273668202, 0.8318443040666172, 0.8309105752086122, 0.8320495617125374, 0.8323267579695582, 0.8315713241582448, 0.8320829706879995, 0.8318398670892442, 0.832256664935379, 0.8319812373596868, 0.8320430194936127, 0.8325519112066108], [0.8318673826591025, 0.8318749906112564, 0.8315916743830686, 0.8323628210705065, 0.8325106121923551, 0.8323441207233641, 0.8322776028969671, 0.8325546107750924, 0.8325546109697192, 0.8322106727518865, 0.0, 0.8323940179554457, 0.826737701705201, 0.8322845060015177, 0.8322583397689389, 0.8322978844482263, 0.8322626177713869, 0.8324351941506971, 0.8323693296559166, 0.8321744029724036, 0.832081279023161, 0.8325456414379732, 0.832287585571087, 0.8325546077237075], [0.8322670761680295, 0.8306857620340468, 0.8319579304912794, 0.8314758675739208, 0.8323702005641402, 0.8323748797948051, 0.8307322585497269, 0.8325546107115201, 0.8318560331188865, 0.8319173648567131, 0.8323940179554457, 0.0, 0.8324424450693315, 0.8317151741113313, 0.8324742127620405, 0.8324005443845981, 0.8324311406236442, 0.8324824403005243, 0.8324975759300028, 0.8325470012089233, 0.8323023750073515, 0.832367417145576, 0.8321977407057215, 0.8325542176432494], [0.8323356471332289, 0.832554597529757, 0.8319802510696023, 0.8323885874260636, 0.8240288411784017, 0.8323603617325871, 0.8323143232821695, 0.8323323011471466, 0.8323280008547755, 0.8319886273668202, 0.826737701705201, 0.8324424450693315, 0.0, 0.8318337255117402, 0.8318093674411345, 0.8323756097484682, 0.8324261410697615, 0.8323534729580891, 0.8323763230598177, 0.8319881207129818, 0.8323758218788349, 0.8324115986532628, 0.8321511239461566, 0.8325543409832213], [0.8320855578739523, 0.8322224858117766, 0.831155125302857, 0.8323289073478742, 0.8324875721261663, 0.8318459435844696, 0.832449454170645, 0.8319445448938325, 0.7955501706082189, 0.8318443040666172, 0.8322845060015177, 0.8317151741113313, 0.8318337255117402, 0.0, 0.8322477322768658, 0.8323249141024825, 0.8322043040646183, 0.8324154242808036, 0.8324017015116374, 0.8324570794419728, 0.8323732695682118, 0.8319414198293795, 0.8320598376844729, 0.8325546111576839], [0.832107596712574, 0.829300239412496, 0.8323151636930602, 0.8324874442780075, 0.8324510068886959, 0.8324470292728641, 0.832365116978153, 0.8322375524153073, 0.8302538186775463, 0.8309105752086122, 0.8322583397689389, 0.8324742127620405, 0.8318093674411345, 0.8322477322768658, 0.0, 0.8325545946407918, 0.8325459517988488, 0.831467235458495, 0.8322285745947885, 0.8322274630904286, 0.8318897181929633, 0.8321187026726748, 0.8321720594247929, 0.8325423576729751], [0.8321045456000236, 0.8325509932443316, 0.8279308728032093, 0.8323452056007662, 0.8324237688038133, 0.8323552719249837, 0.8321876825707495, 0.832554606162046, 0.8321223570228978, 0.8320495617125374, 0.8322978844482263, 0.8324005443845981, 0.8323756097484682, 0.8323249141024825, 0.8325545946407918, 0.0, 0.8294607515703141, 0.8323925517383325, 0.8325546077023425, 0.8325545823459651, 0.8325209895315897, 0.8275272853746394, 0.8322492252137067, 0.832111444408461], [0.8325544343930518, 0.8325545947442692, 0.8288687453390453, 0.8325544726264767, 0.8319694236631477, 0.8319937900953902, 0.8323344504690436, 0.8321268015947452, 0.8323996338510247, 0.8323267579695582, 0.8322626177713869, 0.8324311406236442, 0.8324261410697615, 0.8322043040646183, 0.8325459517988488, 0.8294607515703141, 0.0, 0.8319361990843974, 0.8325262578325013, 0.8324568801809706, 0.8324161611225861, 0.8321888186887076, 0.8316527021017117, 0.8325546058321782], [0.831211928678588, 0.8312956933641839, 0.8317064160827873, 0.8325540529378362, 0.8325546102425788, 0.8313446593763703, 0.8323873418108889, 0.832247147263227, 0.8319931366974538, 0.8315713241582448, 0.8324351941506971, 0.8324824403005243, 0.8323534729580891, 0.8324154242808036, 0.831467235458495, 0.8323925517383325, 0.8319361990843974, 0.0, 0.8323132991250539, 0.832306904898809, 0.83244553546547, 0.8309811130027192, 0.8324189979994567, 0.8325546022216288], [0.8315322833577191, 0.8325360644422971, 0.8322310032775139, 0.8325545950122013, 0.8323948992866762, 0.8320726920821861, 0.8322584399287629, 0.8322320417836501, 0.8322473111549207, 0.8320829706879995, 0.8323693296559166, 0.8324975759300028, 0.8323763230598177, 0.8324017015116374, 0.8322285745947885, 0.8325546077023425, 0.8325262578325013, 0.8323132991250539, 0.0, 0.8324760465847877, 0.8320125741541103, 0.8312189221523395, 0.8322897271252052, 0.8325545233849355], [0.8325543603455217, 0.8324486442264223, 0.832290463748638, 0.8317220061816352, 0.8323780179159397, 0.8178612436947301, 0.8316952189245459, 0.831046009084506, 0.8298591564689394, 0.8318398670892442, 0.8321744029724036, 0.8325470012089233, 0.8319881207129818, 0.8324570794419728, 0.8322274630904286, 0.8325545823459651, 0.8324568801809706, 0.832306904898809, 0.8324760465847877, 0.0, 0.8317619182057131, 0.832153284403478, 0.8324812211923659, 0.8325546110924313], [0.8325100851302332, 0.832379951496198, 0.832002285793518, 0.8323491196921405, 0.8323970775378337, 0.8324611945420056, 0.8325091643952243, 0.8323689469743145, 0.8323653180150958, 0.832256664935379, 0.832081279023161, 0.8323023750073515, 0.8323758218788349, 0.8323732695682118, 0.8318897181929633, 0.8325209895315897, 0.8324161611225861, 0.83244553546547, 0.8320125741541103, 0.8317619182057131, 0.0, 0.8322861104232251, 0.8320285692673991, 0.8323427524457159], [0.8320754815400431, 0.8318429146085543, 0.8320328618723194, 0.8323999114619859, 0.8321652635119071, 0.8324325677221819, 0.832029457502586, 0.8325035251577576, 0.8322586014476422, 0.8319812373596868, 0.8325456414379732, 0.832367417145576, 0.8324115986532628, 0.8319414198293795, 0.8321187026726748, 0.8275272853746394, 0.8321888186887076, 0.8309811130027192, 0.8312189221523395, 0.832153284403478, 0.8322861104232251, 0.0, 0.8321095881710607, 0.8325518320542558], [0.8321912193592951, 0.8321674517883927, 0.8318042035681044, 0.8324408240297663, 0.8325545152192233, 0.8323308419011324, 0.8317398344236714, 0.8325368034284876, 0.8319302632039313, 0.8320430194936127, 0.832287585571087, 0.8321977407057215, 0.8321511239461566, 0.8320598376844729, 0.8321720594247929, 0.8322492252137067, 0.8316527021017117, 0.8324189979994567, 0.8322897271252052, 0.8324812211923659, 0.8320285692673991, 0.8321095881710607, 0.0, 0.832554214434099], [0.8325546046019562, 0.8325532819260727, 0.8325542573019983, 0.8325546088015033, 0.8325467036254065, 0.8325546007989022, 0.8324543541752835, 0.8325533739692407, 0.8318814119606558, 0.8325519112066108, 0.8325546077237075, 0.8325542176432494, 0.8325543409832213, 0.8325546111576839, 0.8325423576729751, 0.832111444408461, 0.8325546058321782, 0.8325546022216288, 0.8325545233849355, 0.8325546110924313, 0.8323427524457159, 0.8325518320542558, 0.832554214434099, 0.0]]\n"
     ]
    }
   ],
   "source": [
    "from scipy.spatial import distance\n",
    "\n",
    "dist = []\n",
    "for i in range(num_topics): \n",
    "    t1 = topic_word_distr[i]\n",
    "    d1 = []\n",
    "    for j in range(num_topics):\n",
    "        t2 = topic_word_distr[j]\n",
    "        d = distance.jensenshannon(t1, t2)\n",
    "        d1.append(d)\n",
    "    dist.append(d1)\n",
    "\n",
    "print(dist)"
   ]
  },
  {
   "cell_type": "markdown",
   "metadata": {},
   "source": [
    "# Dimensionality Reduction"
   ]
  },
  {
   "cell_type": "markdown",
   "metadata": {},
   "source": [
    "## TSNE"
   ]
  },
  {
   "cell_type": "code",
   "execution_count": 35,
   "metadata": {},
   "outputs": [
    {
     "name": "stdout",
     "output_type": "stream",
     "text": [
      "[t-SNE] Computing 23 nearest neighbors...\n",
      "[t-SNE] Indexed 24 samples in 0.000s...\n",
      "[t-SNE] Computed neighbors for 24 samples in 0.117s...\n",
      "[t-SNE] Computed conditional probabilities for sample 24 / 24\n",
      "[t-SNE] Mean sigma: 1125899906842624.000000\n",
      "[t-SNE] KL divergence after 250 iterations with early exaggeration: 62.469181\n",
      "[t-SNE] KL divergence after 1000 iterations: 0.398044\n"
     ]
    }
   ],
   "source": [
    "# Clustering\n",
    "from sklearn.manifold import TSNE\n",
    "# tsne = TSNE(n_components=2)\n",
    "tsne = TSNE(n_components=2, verbose=1, random_state=0, angle=.99, init='pca')\n",
    "X_tsne = tsne.fit_transform(topic_word_distr)"
   ]
  },
  {
   "cell_type": "markdown",
   "metadata": {},
   "source": [
    "## PCA"
   ]
  },
  {
   "cell_type": "code",
   "execution_count": 36,
   "metadata": {},
   "outputs": [],
   "source": [
    "from sklearn.decomposition import PCA\n",
    "\n",
    "pca = PCA(n_components=2)\n",
    "X_tsne = pca.fit_transform(topic_word_distr)"
   ]
  },
  {
   "cell_type": "code",
   "execution_count": 37,
   "metadata": {},
   "outputs": [
    {
     "name": "stdout",
     "output_type": "stream",
     "text": [
      "[[-0.01622605 -0.01049528]\n",
      " [-0.01604029 -0.01031833]\n",
      " [-0.01580061 -0.0100419 ]\n",
      " [-0.01719617 -0.01158023]\n",
      " [-0.04162576  0.37008723]\n",
      " [-0.02690406 -0.03154019]\n",
      " [-0.02566454 -0.02768826]\n",
      " [-0.01713373 -0.01153001]\n",
      " [-0.01961396 -0.01487922]\n",
      " [-0.01548574 -0.00971705]\n",
      " [-0.01609956 -0.01036037]\n",
      " [-0.01964971 -0.01490861]\n",
      " [-0.01871176 -0.01206551]\n",
      " [-0.02103097 -0.0170131 ]\n",
      " [-0.03302337 -0.07407712]\n",
      " [-0.01861852 -0.01982292]\n",
      " [-0.01994841 -0.01532807]\n",
      " [-0.01675665 -0.01112712]\n",
      " [-0.01624495 -0.01053543]\n",
      " [-0.01743872 -0.01206387]\n",
      " [-0.02480152 -0.02521869]\n",
      " [ 0.46900491  0.01434281]\n",
      " [-0.01593736 -0.01018502]\n",
      " [-0.0190525  -0.01393373]]\n"
     ]
    }
   ],
   "source": [
    "print(X_tsne)"
   ]
  },
  {
   "cell_type": "markdown",
   "metadata": {},
   "source": [
    "# Visualization"
   ]
  },
  {
   "cell_type": "code",
   "execution_count": 38,
   "metadata": {},
   "outputs": [
    {
     "name": "stdout",
     "output_type": "stream",
     "text": [
      "['#fdb2f1' '#5fc3e0' '#35fefe' '#4792e9' '#5ccdfd' '#74d8d4' '#d0a10c'\n",
      " '#6f2ba4' '#e5261f' '#e0f56a' '#9fb894' '#f4ca8b' '#d40b12' '#241503'\n",
      " '#41e2e2' '#a75113' '#c06af7' '#801d15' '#c82e52' '#38161f' '#6972c7'\n",
      " '#79e2a9' '#2ddf74' '#bf0e73']\n"
     ]
    }
   ],
   "source": [
    "# Generate random colors\n",
    "\n",
    "import random\n",
    "get_colors = lambda n: list(map(lambda i: \"#\" + \"%06x\" % random.randint(0, 0xFFFFFF),range(n)))\n",
    "colormap = np.asarray(get_colors(num_topics)) \n",
    "print(colormap)"
   ]
  },
  {
   "cell_type": "code",
   "execution_count": 39,
   "metadata": {},
   "outputs": [
    {
     "data": {
      "text/html": [
       "<div>\n",
       "<style scoped>\n",
       "    .dataframe tbody tr th:only-of-type {\n",
       "        vertical-align: middle;\n",
       "    }\n",
       "\n",
       "    .dataframe tbody tr th {\n",
       "        vertical-align: top;\n",
       "    }\n",
       "\n",
       "    .dataframe thead th {\n",
       "        text-align: right;\n",
       "    }\n",
       "</style>\n",
       "<table border=\"1\" class=\"dataframe\">\n",
       "  <thead>\n",
       "    <tr style=\"text-align: right;\">\n",
       "      <th></th>\n",
       "      <th>X</th>\n",
       "      <th>Y</th>\n",
       "      <th>Topic</th>\n",
       "      <th>Topic_Words</th>\n",
       "      <th>Colors</th>\n",
       "    </tr>\n",
       "  </thead>\n",
       "  <tbody>\n",
       "    <tr>\n",
       "      <th>0</th>\n",
       "      <td>-0.016226</td>\n",
       "      <td>-0.010495</td>\n",
       "      <td>1</td>\n",
       "      <td>[cultur, salari, start, structur, competit, in...</td>\n",
       "      <td>#fdb2f1</td>\n",
       "    </tr>\n",
       "    <tr>\n",
       "      <th>1</th>\n",
       "      <td>-0.016040</td>\n",
       "      <td>-0.010318</td>\n",
       "      <td>2</td>\n",
       "      <td>[leadership, skill, travel, intern, develop, s...</td>\n",
       "      <td>#5fc3e0</td>\n",
       "    </tr>\n",
       "    <tr>\n",
       "      <th>2</th>\n",
       "      <td>-0.015801</td>\n",
       "      <td>-0.010042</td>\n",
       "      <td>3</td>\n",
       "      <td>[difficult, system, forc, hot, cold, live, tec...</td>\n",
       "      <td>#35fefe</td>\n",
       "    </tr>\n",
       "    <tr>\n",
       "      <th>3</th>\n",
       "      <td>-0.017196</td>\n",
       "      <td>-0.011580</td>\n",
       "      <td>4</td>\n",
       "      <td>[worker, extrem, heavi, workload, qualiti, lif...</td>\n",
       "      <td>#4792e9</td>\n",
       "    </tr>\n",
       "    <tr>\n",
       "      <th>4</th>\n",
       "      <td>-0.041626</td>\n",
       "      <td>0.370087</td>\n",
       "      <td>5</td>\n",
       "      <td>[hour, day, shift, sometim, call, home, cut, c...</td>\n",
       "      <td>#5ccdfd</td>\n",
       "    </tr>\n",
       "  </tbody>\n",
       "</table>\n",
       "</div>"
      ],
      "text/plain": [
       "          X         Y  Topic  \\\n",
       "0 -0.016226 -0.010495      1   \n",
       "1 -0.016040 -0.010318      2   \n",
       "2 -0.015801 -0.010042      3   \n",
       "3 -0.017196 -0.011580      4   \n",
       "4 -0.041626  0.370087      5   \n",
       "\n",
       "                                         Topic_Words   Colors  \n",
       "0  [cultur, salari, start, structur, competit, in...  #fdb2f1  \n",
       "1  [leadership, skill, travel, intern, develop, s...  #5fc3e0  \n",
       "2  [difficult, system, forc, hot, cold, live, tec...  #35fefe  \n",
       "3  [worker, extrem, heavi, workload, qualiti, lif...  #4792e9  \n",
       "4  [hour, day, shift, sometim, call, home, cut, c...  #5ccdfd  "
      ]
     },
     "metadata": {},
     "output_type": "display_data"
    }
   ],
   "source": [
    "df_cluster = pd.DataFrame()\n",
    "df_cluster['X'] = X_tsne[:, 0]\n",
    "df_cluster['Y'] = X_tsne[:, 1]\n",
    "df_cluster['Topic'] = range(num_topics)\n",
    "df_cluster['Topic_Words'] = imp_words\n",
    "\n",
    "cluster_colors = dict()\n",
    "for c in range(num_topics): \n",
    "    cluster_colors[c] = colormap[c]\n",
    "    \n",
    "df_cluster['Colors'] = df_cluster['Topic'].apply(lambda l: cluster_colors[l])\n",
    "df_cluster.sort_values(by=['Topic'], inplace=True)\n",
    "\n",
    "df_cluster['Topic'] = df_cluster['Topic']+1\n",
    "display(df_cluster.head())"
   ]
  },
  {
   "cell_type": "code",
   "execution_count": 40,
   "metadata": {},
   "outputs": [],
   "source": [
    "# import seaborn as sns\n",
    "# import matplotlib.pyplot as plt\n",
    "# import os\n",
    "# sns.scatterplot(x = \"X\", y=\"Y\", hue=\"Topic\", data=df_cluster)\n",
    "# plt.xlabel(\"PCA1\")\n",
    "# plt.ylabel(\"PCA2\")\n",
    "# plt.title(\"PCA Visualization of topics\")\n",
    "# plt.savefig(os.path.expanduser(\"~/Desktop/img/PCApro.png\"))\n",
    "# plt.show()"
   ]
  },
  {
   "cell_type": "code",
   "execution_count": 41,
   "metadata": {},
   "outputs": [
    {
     "data": {
      "text/html": [
       "\n",
       "    <div class=\"bk-root\">\n",
       "        <a href=\"https://bokeh.pydata.org\" target=\"_blank\" class=\"bk-logo bk-logo-small bk-logo-notebook\"></a>\n",
       "        <span id=\"1109\">Loading BokehJS ...</span>\n",
       "    </div>"
      ]
     },
     "metadata": {},
     "output_type": "display_data"
    },
    {
     "data": {
      "application/javascript": [
       "\n",
       "(function(root) {\n",
       "  function now() {\n",
       "    return new Date();\n",
       "  }\n",
       "\n",
       "  var force = true;\n",
       "\n",
       "  if (typeof (root._bokeh_onload_callbacks) === \"undefined\" || force === true) {\n",
       "    root._bokeh_onload_callbacks = [];\n",
       "    root._bokeh_is_loading = undefined;\n",
       "  }\n",
       "\n",
       "  var JS_MIME_TYPE = 'application/javascript';\n",
       "  var HTML_MIME_TYPE = 'text/html';\n",
       "  var EXEC_MIME_TYPE = 'application/vnd.bokehjs_exec.v0+json';\n",
       "  var CLASS_NAME = 'output_bokeh rendered_html';\n",
       "\n",
       "  /**\n",
       "   * Render data to the DOM node\n",
       "   */\n",
       "  function render(props, node) {\n",
       "    var script = document.createElement(\"script\");\n",
       "    node.appendChild(script);\n",
       "  }\n",
       "\n",
       "  /**\n",
       "   * Handle when an output is cleared or removed\n",
       "   */\n",
       "  function handleClearOutput(event, handle) {\n",
       "    var cell = handle.cell;\n",
       "\n",
       "    var id = cell.output_area._bokeh_element_id;\n",
       "    var server_id = cell.output_area._bokeh_server_id;\n",
       "    // Clean up Bokeh references\n",
       "    if (id != null && id in Bokeh.index) {\n",
       "      Bokeh.index[id].model.document.clear();\n",
       "      delete Bokeh.index[id];\n",
       "    }\n",
       "\n",
       "    if (server_id !== undefined) {\n",
       "      // Clean up Bokeh references\n",
       "      var cmd = \"from bokeh.io.state import curstate; print(curstate().uuid_to_server['\" + server_id + \"'].get_sessions()[0].document.roots[0]._id)\";\n",
       "      cell.notebook.kernel.execute(cmd, {\n",
       "        iopub: {\n",
       "          output: function(msg) {\n",
       "            var id = msg.content.text.trim();\n",
       "            if (id in Bokeh.index) {\n",
       "              Bokeh.index[id].model.document.clear();\n",
       "              delete Bokeh.index[id];\n",
       "            }\n",
       "          }\n",
       "        }\n",
       "      });\n",
       "      // Destroy server and session\n",
       "      var cmd = \"import bokeh.io.notebook as ion; ion.destroy_server('\" + server_id + \"')\";\n",
       "      cell.notebook.kernel.execute(cmd);\n",
       "    }\n",
       "  }\n",
       "\n",
       "  /**\n",
       "   * Handle when a new output is added\n",
       "   */\n",
       "  function handleAddOutput(event, handle) {\n",
       "    var output_area = handle.output_area;\n",
       "    var output = handle.output;\n",
       "\n",
       "    // limit handleAddOutput to display_data with EXEC_MIME_TYPE content only\n",
       "    if ((output.output_type != \"display_data\") || (!output.data.hasOwnProperty(EXEC_MIME_TYPE))) {\n",
       "      return\n",
       "    }\n",
       "\n",
       "    var toinsert = output_area.element.find(\".\" + CLASS_NAME.split(' ')[0]);\n",
       "\n",
       "    if (output.metadata[EXEC_MIME_TYPE][\"id\"] !== undefined) {\n",
       "      toinsert[toinsert.length - 1].firstChild.textContent = output.data[JS_MIME_TYPE];\n",
       "      // store reference to embed id on output_area\n",
       "      output_area._bokeh_element_id = output.metadata[EXEC_MIME_TYPE][\"id\"];\n",
       "    }\n",
       "    if (output.metadata[EXEC_MIME_TYPE][\"server_id\"] !== undefined) {\n",
       "      var bk_div = document.createElement(\"div\");\n",
       "      bk_div.innerHTML = output.data[HTML_MIME_TYPE];\n",
       "      var script_attrs = bk_div.children[0].attributes;\n",
       "      for (var i = 0; i < script_attrs.length; i++) {\n",
       "        toinsert[toinsert.length - 1].firstChild.setAttribute(script_attrs[i].name, script_attrs[i].value);\n",
       "      }\n",
       "      // store reference to server id on output_area\n",
       "      output_area._bokeh_server_id = output.metadata[EXEC_MIME_TYPE][\"server_id\"];\n",
       "    }\n",
       "  }\n",
       "\n",
       "  function register_renderer(events, OutputArea) {\n",
       "\n",
       "    function append_mime(data, metadata, element) {\n",
       "      // create a DOM node to render to\n",
       "      var toinsert = this.create_output_subarea(\n",
       "        metadata,\n",
       "        CLASS_NAME,\n",
       "        EXEC_MIME_TYPE\n",
       "      );\n",
       "      this.keyboard_manager.register_events(toinsert);\n",
       "      // Render to node\n",
       "      var props = {data: data, metadata: metadata[EXEC_MIME_TYPE]};\n",
       "      render(props, toinsert[toinsert.length - 1]);\n",
       "      element.append(toinsert);\n",
       "      return toinsert\n",
       "    }\n",
       "\n",
       "    /* Handle when an output is cleared or removed */\n",
       "    events.on('clear_output.CodeCell', handleClearOutput);\n",
       "    events.on('delete.Cell', handleClearOutput);\n",
       "\n",
       "    /* Handle when a new output is added */\n",
       "    events.on('output_added.OutputArea', handleAddOutput);\n",
       "\n",
       "    /**\n",
       "     * Register the mime type and append_mime function with output_area\n",
       "     */\n",
       "    OutputArea.prototype.register_mime_type(EXEC_MIME_TYPE, append_mime, {\n",
       "      /* Is output safe? */\n",
       "      safe: true,\n",
       "      /* Index of renderer in `output_area.display_order` */\n",
       "      index: 0\n",
       "    });\n",
       "  }\n",
       "\n",
       "  // register the mime type if in Jupyter Notebook environment and previously unregistered\n",
       "  if (root.Jupyter !== undefined) {\n",
       "    var events = require('base/js/events');\n",
       "    var OutputArea = require('notebook/js/outputarea').OutputArea;\n",
       "\n",
       "    if (OutputArea.prototype.mime_types().indexOf(EXEC_MIME_TYPE) == -1) {\n",
       "      register_renderer(events, OutputArea);\n",
       "    }\n",
       "  }\n",
       "\n",
       "  \n",
       "  if (typeof (root._bokeh_timeout) === \"undefined\" || force === true) {\n",
       "    root._bokeh_timeout = Date.now() + 5000;\n",
       "    root._bokeh_failed_load = false;\n",
       "  }\n",
       "\n",
       "  var NB_LOAD_WARNING = {'data': {'text/html':\n",
       "     \"<div style='background-color: #fdd'>\\n\"+\n",
       "     \"<p>\\n\"+\n",
       "     \"BokehJS does not appear to have successfully loaded. If loading BokehJS from CDN, this \\n\"+\n",
       "     \"may be due to a slow or bad network connection. Possible fixes:\\n\"+\n",
       "     \"</p>\\n\"+\n",
       "     \"<ul>\\n\"+\n",
       "     \"<li>re-rerun `output_notebook()` to attempt to load from CDN again, or</li>\\n\"+\n",
       "     \"<li>use INLINE resources instead, as so:</li>\\n\"+\n",
       "     \"</ul>\\n\"+\n",
       "     \"<code>\\n\"+\n",
       "     \"from bokeh.resources import INLINE\\n\"+\n",
       "     \"output_notebook(resources=INLINE)\\n\"+\n",
       "     \"</code>\\n\"+\n",
       "     \"</div>\"}};\n",
       "\n",
       "  function display_loaded() {\n",
       "    var el = document.getElementById(\"1109\");\n",
       "    if (el != null) {\n",
       "      el.textContent = \"BokehJS is loading...\";\n",
       "    }\n",
       "    if (root.Bokeh !== undefined) {\n",
       "      if (el != null) {\n",
       "        el.textContent = \"BokehJS \" + root.Bokeh.version + \" successfully loaded.\";\n",
       "      }\n",
       "    } else if (Date.now() < root._bokeh_timeout) {\n",
       "      setTimeout(display_loaded, 100)\n",
       "    }\n",
       "  }\n",
       "\n",
       "\n",
       "  function run_callbacks() {\n",
       "    try {\n",
       "      root._bokeh_onload_callbacks.forEach(function(callback) { callback() });\n",
       "    }\n",
       "    finally {\n",
       "      delete root._bokeh_onload_callbacks\n",
       "    }\n",
       "    console.info(\"Bokeh: all callbacks have finished\");\n",
       "  }\n",
       "\n",
       "  function load_libs(js_urls, callback) {\n",
       "    root._bokeh_onload_callbacks.push(callback);\n",
       "    if (root._bokeh_is_loading > 0) {\n",
       "      console.log(\"Bokeh: BokehJS is being loaded, scheduling callback at\", now());\n",
       "      return null;\n",
       "    }\n",
       "    if (js_urls == null || js_urls.length === 0) {\n",
       "      run_callbacks();\n",
       "      return null;\n",
       "    }\n",
       "    console.log(\"Bokeh: BokehJS not loaded, scheduling load and callback at\", now());\n",
       "    root._bokeh_is_loading = js_urls.length;\n",
       "    for (var i = 0; i < js_urls.length; i++) {\n",
       "      var url = js_urls[i];\n",
       "      var s = document.createElement('script');\n",
       "      s.src = url;\n",
       "      s.async = false;\n",
       "      s.onreadystatechange = s.onload = function() {\n",
       "        root._bokeh_is_loading--;\n",
       "        if (root._bokeh_is_loading === 0) {\n",
       "          console.log(\"Bokeh: all BokehJS libraries loaded\");\n",
       "          run_callbacks()\n",
       "        }\n",
       "      };\n",
       "      s.onerror = function() {\n",
       "        console.warn(\"failed to load library \" + url);\n",
       "      };\n",
       "      console.log(\"Bokeh: injecting script tag for BokehJS library: \", url);\n",
       "      document.getElementsByTagName(\"head\")[0].appendChild(s);\n",
       "    }\n",
       "  };var element = document.getElementById(\"1109\");\n",
       "  if (element == null) {\n",
       "    console.log(\"Bokeh: ERROR: autoload.js configured with elementid '1109' but no matching script tag was found. \")\n",
       "    return false;\n",
       "  }\n",
       "\n",
       "  var js_urls = [\"https://cdn.pydata.org/bokeh/release/bokeh-1.0.4.min.js\", \"https://cdn.pydata.org/bokeh/release/bokeh-widgets-1.0.4.min.js\", \"https://cdn.pydata.org/bokeh/release/bokeh-tables-1.0.4.min.js\", \"https://cdn.pydata.org/bokeh/release/bokeh-gl-1.0.4.min.js\"];\n",
       "\n",
       "  var inline_js = [\n",
       "    function(Bokeh) {\n",
       "      Bokeh.set_log_level(\"info\");\n",
       "    },\n",
       "    \n",
       "    function(Bokeh) {\n",
       "      \n",
       "    },\n",
       "    function(Bokeh) {\n",
       "      console.log(\"Bokeh: injecting CSS: https://cdn.pydata.org/bokeh/release/bokeh-1.0.4.min.css\");\n",
       "      Bokeh.embed.inject_css(\"https://cdn.pydata.org/bokeh/release/bokeh-1.0.4.min.css\");\n",
       "      console.log(\"Bokeh: injecting CSS: https://cdn.pydata.org/bokeh/release/bokeh-widgets-1.0.4.min.css\");\n",
       "      Bokeh.embed.inject_css(\"https://cdn.pydata.org/bokeh/release/bokeh-widgets-1.0.4.min.css\");\n",
       "      console.log(\"Bokeh: injecting CSS: https://cdn.pydata.org/bokeh/release/bokeh-tables-1.0.4.min.css\");\n",
       "      Bokeh.embed.inject_css(\"https://cdn.pydata.org/bokeh/release/bokeh-tables-1.0.4.min.css\");\n",
       "    }\n",
       "  ];\n",
       "\n",
       "  function run_inline_js() {\n",
       "    \n",
       "    if ((root.Bokeh !== undefined) || (force === true)) {\n",
       "      for (var i = 0; i < inline_js.length; i++) {\n",
       "        inline_js[i].call(root, root.Bokeh);\n",
       "      }if (force === true) {\n",
       "        display_loaded();\n",
       "      }} else if (Date.now() < root._bokeh_timeout) {\n",
       "      setTimeout(run_inline_js, 100);\n",
       "    } else if (!root._bokeh_failed_load) {\n",
       "      console.log(\"Bokeh: BokehJS failed to load within specified timeout.\");\n",
       "      root._bokeh_failed_load = true;\n",
       "    } else if (force !== true) {\n",
       "      var cell = $(document.getElementById(\"1109\")).parents('.cell').data().cell;\n",
       "      cell.output_area.append_execute_result(NB_LOAD_WARNING)\n",
       "    }\n",
       "\n",
       "  }\n",
       "\n",
       "  if (root._bokeh_is_loading === 0) {\n",
       "    console.log(\"Bokeh: BokehJS loaded, going straight to plotting\");\n",
       "    run_inline_js();\n",
       "  } else {\n",
       "    load_libs(js_urls, function() {\n",
       "      console.log(\"Bokeh: BokehJS plotting callback run at\", now());\n",
       "      run_inline_js();\n",
       "    });\n",
       "  }\n",
       "}(window));"
      ],
      "application/vnd.bokehjs_load.v0+json": "\n(function(root) {\n  function now() {\n    return new Date();\n  }\n\n  var force = true;\n\n  if (typeof (root._bokeh_onload_callbacks) === \"undefined\" || force === true) {\n    root._bokeh_onload_callbacks = [];\n    root._bokeh_is_loading = undefined;\n  }\n\n  \n\n  \n  if (typeof (root._bokeh_timeout) === \"undefined\" || force === true) {\n    root._bokeh_timeout = Date.now() + 5000;\n    root._bokeh_failed_load = false;\n  }\n\n  var NB_LOAD_WARNING = {'data': {'text/html':\n     \"<div style='background-color: #fdd'>\\n\"+\n     \"<p>\\n\"+\n     \"BokehJS does not appear to have successfully loaded. If loading BokehJS from CDN, this \\n\"+\n     \"may be due to a slow or bad network connection. Possible fixes:\\n\"+\n     \"</p>\\n\"+\n     \"<ul>\\n\"+\n     \"<li>re-rerun `output_notebook()` to attempt to load from CDN again, or</li>\\n\"+\n     \"<li>use INLINE resources instead, as so:</li>\\n\"+\n     \"</ul>\\n\"+\n     \"<code>\\n\"+\n     \"from bokeh.resources import INLINE\\n\"+\n     \"output_notebook(resources=INLINE)\\n\"+\n     \"</code>\\n\"+\n     \"</div>\"}};\n\n  function display_loaded() {\n    var el = document.getElementById(\"1109\");\n    if (el != null) {\n      el.textContent = \"BokehJS is loading...\";\n    }\n    if (root.Bokeh !== undefined) {\n      if (el != null) {\n        el.textContent = \"BokehJS \" + root.Bokeh.version + \" successfully loaded.\";\n      }\n    } else if (Date.now() < root._bokeh_timeout) {\n      setTimeout(display_loaded, 100)\n    }\n  }\n\n\n  function run_callbacks() {\n    try {\n      root._bokeh_onload_callbacks.forEach(function(callback) { callback() });\n    }\n    finally {\n      delete root._bokeh_onload_callbacks\n    }\n    console.info(\"Bokeh: all callbacks have finished\");\n  }\n\n  function load_libs(js_urls, callback) {\n    root._bokeh_onload_callbacks.push(callback);\n    if (root._bokeh_is_loading > 0) {\n      console.log(\"Bokeh: BokehJS is being loaded, scheduling callback at\", now());\n      return null;\n    }\n    if (js_urls == null || js_urls.length === 0) {\n      run_callbacks();\n      return null;\n    }\n    console.log(\"Bokeh: BokehJS not loaded, scheduling load and callback at\", now());\n    root._bokeh_is_loading = js_urls.length;\n    for (var i = 0; i < js_urls.length; i++) {\n      var url = js_urls[i];\n      var s = document.createElement('script');\n      s.src = url;\n      s.async = false;\n      s.onreadystatechange = s.onload = function() {\n        root._bokeh_is_loading--;\n        if (root._bokeh_is_loading === 0) {\n          console.log(\"Bokeh: all BokehJS libraries loaded\");\n          run_callbacks()\n        }\n      };\n      s.onerror = function() {\n        console.warn(\"failed to load library \" + url);\n      };\n      console.log(\"Bokeh: injecting script tag for BokehJS library: \", url);\n      document.getElementsByTagName(\"head\")[0].appendChild(s);\n    }\n  };var element = document.getElementById(\"1109\");\n  if (element == null) {\n    console.log(\"Bokeh: ERROR: autoload.js configured with elementid '1109' but no matching script tag was found. \")\n    return false;\n  }\n\n  var js_urls = [\"https://cdn.pydata.org/bokeh/release/bokeh-1.0.4.min.js\", \"https://cdn.pydata.org/bokeh/release/bokeh-widgets-1.0.4.min.js\", \"https://cdn.pydata.org/bokeh/release/bokeh-tables-1.0.4.min.js\", \"https://cdn.pydata.org/bokeh/release/bokeh-gl-1.0.4.min.js\"];\n\n  var inline_js = [\n    function(Bokeh) {\n      Bokeh.set_log_level(\"info\");\n    },\n    \n    function(Bokeh) {\n      \n    },\n    function(Bokeh) {\n      console.log(\"Bokeh: injecting CSS: https://cdn.pydata.org/bokeh/release/bokeh-1.0.4.min.css\");\n      Bokeh.embed.inject_css(\"https://cdn.pydata.org/bokeh/release/bokeh-1.0.4.min.css\");\n      console.log(\"Bokeh: injecting CSS: https://cdn.pydata.org/bokeh/release/bokeh-widgets-1.0.4.min.css\");\n      Bokeh.embed.inject_css(\"https://cdn.pydata.org/bokeh/release/bokeh-widgets-1.0.4.min.css\");\n      console.log(\"Bokeh: injecting CSS: https://cdn.pydata.org/bokeh/release/bokeh-tables-1.0.4.min.css\");\n      Bokeh.embed.inject_css(\"https://cdn.pydata.org/bokeh/release/bokeh-tables-1.0.4.min.css\");\n    }\n  ];\n\n  function run_inline_js() {\n    \n    if ((root.Bokeh !== undefined) || (force === true)) {\n      for (var i = 0; i < inline_js.length; i++) {\n        inline_js[i].call(root, root.Bokeh);\n      }if (force === true) {\n        display_loaded();\n      }} else if (Date.now() < root._bokeh_timeout) {\n      setTimeout(run_inline_js, 100);\n    } else if (!root._bokeh_failed_load) {\n      console.log(\"Bokeh: BokehJS failed to load within specified timeout.\");\n      root._bokeh_failed_load = true;\n    } else if (force !== true) {\n      var cell = $(document.getElementById(\"1109\")).parents('.cell').data().cell;\n      cell.output_area.append_execute_result(NB_LOAD_WARNING)\n    }\n\n  }\n\n  if (root._bokeh_is_loading === 0) {\n    console.log(\"Bokeh: BokehJS loaded, going straight to plotting\");\n    run_inline_js();\n  } else {\n    load_libs(js_urls, function() {\n      console.log(\"Bokeh: BokehJS plotting callback run at\", now());\n      run_inline_js();\n    });\n  }\n}(window));"
     },
     "metadata": {},
     "output_type": "display_data"
    }
   ],
   "source": [
    "from bokeh.plotting import figure, show, output_notebook, save#, output_file\n",
    "from bokeh.models import HoverTool, value, LabelSet, Legend, ColumnDataSource\n",
    "from bokeh.io import export_png\n",
    "output_notebook()"
   ]
  },
  {
   "cell_type": "code",
   "execution_count": 42,
   "metadata": {},
   "outputs": [],
   "source": [
    "source = ColumnDataSource(dict(\n",
    "    x=df_cluster['X'],\n",
    "    y=df_cluster['Y'],\n",
    "    color=df_cluster['Colors'],\n",
    "    label=df_cluster['Topic'],\n",
    "    topic_words = df_cluster[\"Topic_Words\"]\n",
    "))"
   ]
  },
  {
   "cell_type": "code",
   "execution_count": 43,
   "metadata": {
    "scrolled": false
   },
   "outputs": [
    {
     "data": {
      "text/html": [
       "\n",
       "\n",
       "\n",
       "\n",
       "\n",
       "\n",
       "  <div class=\"bk-root\" id=\"d8920159-fea1-49bd-94ab-cf99e8b0e967\" data-root-id=\"1112\"></div>\n"
      ]
     },
     "metadata": {},
     "output_type": "display_data"
    },
    {
     "data": {
      "application/javascript": [
       "(function(root) {\n",
       "  function embed_document(root) {\n",
       "    \n",
       "  var docs_json = {\"c827064a-5c48-402e-bb5a-af54a540b985\":{\"roots\":{\"references\":[{\"attributes\":{\"min_border\":1,\"plot_height\":700,\"plot_width\":1000,\"renderers\":[{\"id\":\"1130\",\"type\":\"BoxAnnotation\"},{\"id\":\"1144\",\"type\":\"Legend\"},{\"id\":\"1140\",\"type\":\"GlyphRenderer\"}],\"title\":{\"id\":\"1111\",\"type\":\"Title\"},\"toolbar\":{\"id\":\"1128\",\"type\":\"Toolbar\"},\"x_range\":{\"id\":\"1114\",\"type\":\"DataRange1d\"},\"x_scale\":{\"id\":\"1118\",\"type\":\"LinearScale\"},\"y_range\":{\"id\":\"1116\",\"type\":\"DataRange1d\"},\"y_scale\":{\"id\":\"1120\",\"type\":\"LinearScale\"}},\"id\":\"1112\",\"subtype\":\"Figure\",\"type\":\"Plot\"},{\"attributes\":{\"data_source\":{\"id\":\"1110\",\"type\":\"ColumnDataSource\"},\"glyph\":{\"id\":\"1138\",\"type\":\"Scatter\"},\"hover_glyph\":null,\"muted_glyph\":null,\"nonselection_glyph\":{\"id\":\"1139\",\"type\":\"Scatter\"},\"selection_glyph\":null,\"view\":{\"id\":\"1141\",\"type\":\"CDSView\"}},\"id\":\"1140\",\"type\":\"GlyphRenderer\"},{\"attributes\":{\"fill_alpha\":{\"value\":0.1},\"fill_color\":{\"value\":\"#1f77b4\"},\"line_alpha\":{\"value\":0.1},\"line_color\":{\"value\":\"#1f77b4\"},\"x\":{\"field\":\"x\"},\"y\":{\"field\":\"y\"}},\"id\":\"1139\",\"type\":\"Scatter\"},{\"attributes\":{\"active_drag\":\"auto\",\"active_inspect\":\"auto\",\"active_multi\":null,\"active_scroll\":\"auto\",\"active_tap\":\"auto\",\"tools\":[{\"id\":\"1122\",\"type\":\"PanTool\"},{\"id\":\"1123\",\"type\":\"WheelZoomTool\"},{\"id\":\"1124\",\"type\":\"BoxZoomTool\"},{\"id\":\"1125\",\"type\":\"ResetTool\"},{\"id\":\"1126\",\"type\":\"HoverTool\"},{\"id\":\"1127\",\"type\":\"SaveTool\"}]},\"id\":\"1128\",\"type\":\"Toolbar\"},{\"attributes\":{\"bottom_units\":\"screen\",\"fill_alpha\":{\"value\":0.5},\"fill_color\":{\"value\":\"lightgrey\"},\"left_units\":\"screen\",\"level\":\"overlay\",\"line_alpha\":{\"value\":1.0},\"line_color\":{\"value\":\"black\"},\"line_dash\":[4,4],\"line_width\":{\"value\":2},\"plot\":null,\"render_mode\":\"css\",\"right_units\":\"screen\",\"top_units\":\"screen\"},\"id\":\"1130\",\"type\":\"BoxAnnotation\"},{\"attributes\":{},\"id\":\"1120\",\"type\":\"LinearScale\"},{\"attributes\":{\"callback\":null},\"id\":\"1116\",\"type\":\"DataRange1d\"},{\"attributes\":{\"fill_alpha\":{\"value\":0.8},\"fill_color\":{\"field\":\"color\"},\"line_alpha\":{\"value\":0.8},\"line_color\":{\"field\":\"color\"},\"x\":{\"field\":\"x\"},\"y\":{\"field\":\"y\"}},\"id\":\"1138\",\"type\":\"Scatter\"},{\"attributes\":{\"items\":[{\"id\":\"1145\",\"type\":\"LegendItem\"}],\"location\":\"top_left\",\"plot\":{\"id\":\"1112\",\"subtype\":\"Figure\",\"type\":\"Plot\"}},\"id\":\"1144\",\"type\":\"Legend\"},{\"attributes\":{\"callback\":null},\"id\":\"1114\",\"type\":\"DataRange1d\"},{\"attributes\":{\"overlay\":{\"id\":\"1130\",\"type\":\"BoxAnnotation\"}},\"id\":\"1124\",\"type\":\"BoxZoomTool\"},{\"attributes\":{\"label\":{\"field\":\"label\"},\"renderers\":[{\"id\":\"1140\",\"type\":\"GlyphRenderer\"}]},\"id\":\"1145\",\"type\":\"LegendItem\"},{\"attributes\":{\"plot\":null,\"text\":\"PCA visualization of topics (pro)\"},\"id\":\"1111\",\"type\":\"Title\"},{\"attributes\":{\"callback\":null,\"tooltips\":[[\"Topic\",\"@label  <br> Topic_words: @topic_words \"]]},\"id\":\"1126\",\"type\":\"HoverTool\"},{\"attributes\":{},\"id\":\"1118\",\"type\":\"LinearScale\"},{\"attributes\":{},\"id\":\"1125\",\"type\":\"ResetTool\"},{\"attributes\":{\"source\":{\"id\":\"1110\",\"type\":\"ColumnDataSource\"}},\"id\":\"1141\",\"type\":\"CDSView\"},{\"attributes\":{},\"id\":\"1127\",\"type\":\"SaveTool\"},{\"attributes\":{},\"id\":\"1148\",\"type\":\"Selection\"},{\"attributes\":{\"callback\":null,\"data\":{\"color\":[\"#fdb2f1\",\"#5fc3e0\",\"#35fefe\",\"#4792e9\",\"#5ccdfd\",\"#74d8d4\",\"#d0a10c\",\"#6f2ba4\",\"#e5261f\",\"#e0f56a\",\"#9fb894\",\"#f4ca8b\",\"#d40b12\",\"#241503\",\"#41e2e2\",\"#a75113\",\"#c06af7\",\"#801d15\",\"#c82e52\",\"#38161f\",\"#6972c7\",\"#79e2a9\",\"#2ddf74\",\"#bf0e73\"],\"label\":[1,2,3,4,5,6,7,8,9,10,11,12,13,14,15,16,17,18,19,20,21,22,23,24],\"topic_words\":[[\"cultur\",\"salari\",\"start\",\"structur\",\"competit\",\"increas\",\"commiss\",\"industri\",\"lower\",\"market\"],[\"leadership\",\"skill\",\"travel\",\"intern\",\"develop\",\"sell\",\"bank\",\"individu\",\"poor_leadership\",\"ethic\"],[\"difficult\",\"system\",\"forc\",\"hot\",\"cold\",\"live\",\"technolog\",\"summer\",\"discount\",\"upward\"],[\"worker\",\"extrem\",\"heavi\",\"workload\",\"qualiti\",\"lift\",\"volum\",\"hour_pay\",\"bureaucraci\",\"heavi_lift\"],[\"hour\",\"day\",\"shift\",\"sometim\",\"call\",\"home\",\"cut\",\"center\",\"hour_day\",\"call_center\"],[\"pay\",\"advanc\",\"low\",\"low_pay\",\"opportun\",\"littl\",\"career\",\"growth\",\"advanc_opportun\",\"career_advanc\"],[\"lack\",\"train\",\"support\",\"direct\",\"manag_lack\",\"lack_commun\",\"program\",\"equip\",\"lack_train\",\"profession\"],[\"compens\",\"amount\",\"unless\",\"employ\",\"associ\",\"minim\",\"medic\",\"incent\",\"break_low\",\"respons\"],[\"benefit\",\"care\",\"health\",\"worklif\",\"worklif_balanc\",\"balanc\",\"limit\",\"healthcar\",\"insur\",\"health_care\"],[\"week\",\"product\",\"demand\",\"physic\",\"labor\",\"hour_week\",\"rotat\",\"unfair\",\"day_week\",\"practic\"],[\"sale\",\"goal\",\"polici\",\"meet\",\"pressur\",\"strict\",\"perform\",\"metric\",\"quota\",\"unrealist\"],[\"stress\",\"lot\",\"peopl\",\"environ\",\"dont\",\"promot\",\"person\",\"rude\",\"base\",\"senior\"],[\"employe\",\"expect\",\"rais\",\"horribl\",\"rate\",\"level\",\"wage\",\"moral\",\"treat\",\"doesnt\"],[\"chang\",\"life\",\"balanc\",\"life_balanc\",\"constantli\",\"turnov\",\"challeng\",\"frequent\",\"line\",\"consist\"],[\"time\",\"famili\",\"help\",\"paid\",\"vacat\",\"take\",\"sick\",\"abl\",\"phone\",\"avail\"],[\"poor\",\"poor_manag\",\"commun\",\"could\",\"overtim\",\"better\",\"mandatori\",\"condit\",\"could_better\",\"manag_poor\"],[\"schedul\",\"retail\",\"month\",\"inconsist\",\"flexibl\",\"set\",\"leav\",\"drive\",\"miss\",\"schedul_chang\"],[\"hard\",\"move\",\"corpor\",\"polit\",\"offic\",\"store\",\"job\",\"close\",\"process\",\"supervisor\"],[\"due\",\"slow\",\"requir\",\"layoff\",\"outsid\",\"etc\",\"con\",\"reloc\",\"fire\",\"continu\"],[\"custom\",\"secur\",\"constant\",\"depart\",\"issu\",\"servic\",\"cowork\",\"deal\",\"depend\",\"littl\"],[\"break\",\"short\",\"short_break\",\"lunch\",\"lunch_break\",\"short_lunch\",\"holiday\",\"minut\",\"weekend\",\"night\"],[\"manag\",\"bad\",\"team\",\"upper\",\"upper_manag\",\"bad_manag\",\"terribl\",\"pace\",\"fast\",\"favorit\"],[\"posit\",\"busi\",\"hire\",\"staff\",\"contract\",\"didnt\",\"get\",\"stand\",\"staf\",\"contractor\"],[\"micromanag\",\"differ\",\"certain\",\"stay\",\"money\",\"task\",\"learn\",\"stress_time\",\"hour_time\",\"matter\"]],\"x\":{\"__ndarray__\":\"K/wU2o+dkL8EqSVT3WyQv+vkBRAJLpC/bV/6ed+bkb+aLeHY+E+lvyRg+g29jJu/MsZJMM5Hmr/E1ItfgYuRvxnUlk+uFZS/i+0ro/y2j7+0c+R8Z3yQv5/RJPANH5S/lwW7CS0pk7/plyatJImVvwHtL1Nw6KC/5RKgZLsQk78R/SzPWm2Uv8j9H++nKJG/2y686oOikL8PLGBvdNuRv9zLORmSZZm/vwbKLy0E3j8qFMUa4lGQv2pbU9l/gpO/\",\"dtype\":\"float64\",\"shape\":[24]},\"y\":{\"__ndarray__\":\"Dory/ox+hb+54MI0xiGFvxKouJnZkIS/sv1kK2C3h7+BtUZWgq/XP2rkExoJJqC/WnBxrk9anL/LEL9fC52Hv4Z3Ip3/eI6/ha4X+ojmg78s1TLl0TeFvwpEGW1niI6/79a038y1iL/7HZ584WuRv0GPT8a39rK/NuXGyXVMlL+sVXiLUmSPv0dkKkTRyYa/NUPi/ZmThb89aqM78bSIv514rF7t0pm/AinmM8NfjT95Gt964tuEv3c8FhVKiYy/\",\"dtype\":\"float64\",\"shape\":[24]}},\"selected\":{\"id\":\"1148\",\"type\":\"Selection\"},\"selection_policy\":{\"id\":\"1147\",\"type\":\"UnionRenderers\"}},\"id\":\"1110\",\"type\":\"ColumnDataSource\"},{\"attributes\":{},\"id\":\"1122\",\"type\":\"PanTool\"},{\"attributes\":{},\"id\":\"1147\",\"type\":\"UnionRenderers\"},{\"attributes\":{},\"id\":\"1123\",\"type\":\"WheelZoomTool\"}],\"root_ids\":[\"1112\"]},\"title\":\"Bokeh Application\",\"version\":\"1.0.4\"}};\n",
       "  var render_items = [{\"docid\":\"c827064a-5c48-402e-bb5a-af54a540b985\",\"roots\":{\"1112\":\"d8920159-fea1-49bd-94ab-cf99e8b0e967\"}}];\n",
       "  root.Bokeh.embed.embed_items_notebook(docs_json, render_items);\n",
       "\n",
       "  }\n",
       "  if (root.Bokeh !== undefined) {\n",
       "    embed_document(root);\n",
       "  } else {\n",
       "    var attempts = 0;\n",
       "    var timer = setInterval(function(root) {\n",
       "      if (root.Bokeh !== undefined) {\n",
       "        embed_document(root);\n",
       "        clearInterval(timer);\n",
       "      }\n",
       "      attempts++;\n",
       "      if (attempts > 100) {\n",
       "        console.log(\"Bokeh: ERROR: Unable to run BokehJS code because BokehJS library is missing\");\n",
       "        clearInterval(timer);\n",
       "      }\n",
       "    }, 10, root)\n",
       "  }\n",
       "})(window);"
      ],
      "application/vnd.bokehjs_exec.v0+json": ""
     },
     "metadata": {
      "application/vnd.bokehjs_exec.v0+json": {
       "id": "1112"
      }
     },
     "output_type": "display_data"
    }
   ],
   "source": [
    "title = 'PCA visualization of topics (pro)'\n",
    "\n",
    "plot_lda = figure(plot_width=1000, plot_height=700,\n",
    "                     title=title, tools=\"pan,wheel_zoom,box_zoom,reset,hover,previewsave\",\n",
    "                     x_axis_type=None, y_axis_type=None, min_border=1, \n",
    "                     x_axis_label = \"PCA1\", y_axis_label = \"PCA2\")\n",
    "\n",
    "plot_lda.scatter(x='x', y='y',  legend='label', source=source,\n",
    "                 color='color', alpha=0.8)#'msize', )\n",
    "\n",
    "# hover tools\n",
    "hover = plot_lda.select(dict(type=HoverTool))\n",
    "hover.tooltips = { \"Topic\": \"@label  <br> Topic_words: @topic_words \"}\n",
    "plot_lda.legend.location = \"top_left\"\n",
    "\n",
    "# export_png(plot_lda, filename=os.path.expanduser(\"~/Desktop/img/PCAcon.png\"))\n",
    "show(plot_lda)"
   ]
  },
  {
   "cell_type": "markdown",
   "metadata": {},
   "source": [
    "# Saving File"
   ]
  },
  {
   "cell_type": "code",
   "execution_count": 44,
   "metadata": {},
   "outputs": [
    {
     "data": {
      "text/html": [
       "<div>\n",
       "<style scoped>\n",
       "    .dataframe tbody tr th:only-of-type {\n",
       "        vertical-align: middle;\n",
       "    }\n",
       "\n",
       "    .dataframe tbody tr th {\n",
       "        vertical-align: top;\n",
       "    }\n",
       "\n",
       "    .dataframe thead th {\n",
       "        text-align: right;\n",
       "    }\n",
       "</style>\n",
       "<table border=\"1\" class=\"dataframe\">\n",
       "  <thead>\n",
       "    <tr style=\"text-align: right;\">\n",
       "      <th></th>\n",
       "      <th>X</th>\n",
       "      <th>Y</th>\n",
       "      <th>Topic</th>\n",
       "      <th>Topic_Words</th>\n",
       "      <th>Colors</th>\n",
       "    </tr>\n",
       "  </thead>\n",
       "  <tbody>\n",
       "    <tr>\n",
       "      <th>0</th>\n",
       "      <td>-0.016226</td>\n",
       "      <td>-0.010495</td>\n",
       "      <td>1</td>\n",
       "      <td>[cultur, salari, start, structur, competit, in...</td>\n",
       "      <td>#fdb2f1</td>\n",
       "    </tr>\n",
       "    <tr>\n",
       "      <th>1</th>\n",
       "      <td>-0.016040</td>\n",
       "      <td>-0.010318</td>\n",
       "      <td>2</td>\n",
       "      <td>[leadership, skill, travel, intern, develop, s...</td>\n",
       "      <td>#5fc3e0</td>\n",
       "    </tr>\n",
       "    <tr>\n",
       "      <th>2</th>\n",
       "      <td>-0.015801</td>\n",
       "      <td>-0.010042</td>\n",
       "      <td>3</td>\n",
       "      <td>[difficult, system, forc, hot, cold, live, tec...</td>\n",
       "      <td>#35fefe</td>\n",
       "    </tr>\n",
       "    <tr>\n",
       "      <th>3</th>\n",
       "      <td>-0.017196</td>\n",
       "      <td>-0.011580</td>\n",
       "      <td>4</td>\n",
       "      <td>[worker, extrem, heavi, workload, qualiti, lif...</td>\n",
       "      <td>#4792e9</td>\n",
       "    </tr>\n",
       "    <tr>\n",
       "      <th>4</th>\n",
       "      <td>-0.041626</td>\n",
       "      <td>0.370087</td>\n",
       "      <td>5</td>\n",
       "      <td>[hour, day, shift, sometim, call, home, cut, c...</td>\n",
       "      <td>#5ccdfd</td>\n",
       "    </tr>\n",
       "  </tbody>\n",
       "</table>\n",
       "</div>"
      ],
      "text/plain": [
       "          X         Y  Topic  \\\n",
       "0 -0.016226 -0.010495      1   \n",
       "1 -0.016040 -0.010318      2   \n",
       "2 -0.015801 -0.010042      3   \n",
       "3 -0.017196 -0.011580      4   \n",
       "4 -0.041626  0.370087      5   \n",
       "\n",
       "                                         Topic_Words   Colors  \n",
       "0  [cultur, salari, start, structur, competit, in...  #fdb2f1  \n",
       "1  [leadership, skill, travel, intern, develop, s...  #5fc3e0  \n",
       "2  [difficult, system, forc, hot, cold, live, tec...  #35fefe  \n",
       "3  [worker, extrem, heavi, workload, qualiti, lif...  #4792e9  \n",
       "4  [hour, day, shift, sometim, call, home, cut, c...  #5ccdfd  "
      ]
     },
     "metadata": {},
     "output_type": "display_data"
    },
    {
     "data": {
      "text/plain": [
       "(24, 5)"
      ]
     },
     "metadata": {},
     "output_type": "display_data"
    }
   ],
   "source": [
    "display(df_cluster.head())\n",
    "display(df_cluster.shape)"
   ]
  },
  {
   "cell_type": "code",
   "execution_count": 49,
   "metadata": {},
   "outputs": [],
   "source": [
    "import os\n",
    "df_cluster.to_csv(os.path.expanduser(data_path + f\"/{num_topics}/topic_center.csv\"))"
   ]
  },
  {
   "cell_type": "markdown",
   "metadata": {},
   "source": [
    "# Topic Proportion"
   ]
  },
  {
   "cell_type": "code",
   "execution_count": 50,
   "metadata": {},
   "outputs": [
    {
     "data": {
      "text/html": [
       "<div>\n",
       "<style scoped>\n",
       "    .dataframe tbody tr th:only-of-type {\n",
       "        vertical-align: middle;\n",
       "    }\n",
       "\n",
       "    .dataframe tbody tr th {\n",
       "        vertical-align: top;\n",
       "    }\n",
       "\n",
       "    .dataframe thead th {\n",
       "        text-align: right;\n",
       "    }\n",
       "</style>\n",
       "<table border=\"1\" class=\"dataframe\">\n",
       "  <thead>\n",
       "    <tr style=\"text-align: right;\">\n",
       "      <th></th>\n",
       "      <th>document</th>\n",
       "      <th>topic</th>\n",
       "      <th>gamma</th>\n",
       "    </tr>\n",
       "  </thead>\n",
       "  <tbody>\n",
       "    <tr>\n",
       "      <th>0</th>\n",
       "      <td>1</td>\n",
       "      <td>1</td>\n",
       "      <td>0.014057</td>\n",
       "    </tr>\n",
       "    <tr>\n",
       "      <th>1</th>\n",
       "      <td>2</td>\n",
       "      <td>1</td>\n",
       "      <td>0.017850</td>\n",
       "    </tr>\n",
       "    <tr>\n",
       "      <th>2</th>\n",
       "      <td>3</td>\n",
       "      <td>1</td>\n",
       "      <td>0.028949</td>\n",
       "    </tr>\n",
       "    <tr>\n",
       "      <th>3</th>\n",
       "      <td>4</td>\n",
       "      <td>1</td>\n",
       "      <td>0.013493</td>\n",
       "    </tr>\n",
       "    <tr>\n",
       "      <th>4</th>\n",
       "      <td>5</td>\n",
       "      <td>1</td>\n",
       "      <td>0.007612</td>\n",
       "    </tr>\n",
       "  </tbody>\n",
       "</table>\n",
       "</div>"
      ],
      "text/plain": [
       "   document  topic     gamma\n",
       "0         1      1  0.014057\n",
       "1         2      1  0.017850\n",
       "2         3      1  0.028949\n",
       "3         4      1  0.013493\n",
       "4         5      1  0.007612"
      ]
     },
     "metadata": {},
     "output_type": "display_data"
    },
    {
     "name": "stdout",
     "output_type": "stream",
     "text": [
      "(791520, 3)\n"
     ]
    }
   ],
   "source": [
    "df = pd.read_csv(data_path + f\"/{num_topics}/gamma.csv\")\n",
    "\n",
    "display(df.head())\n",
    "print(df.shape)"
   ]
  },
  {
   "cell_type": "code",
   "execution_count": 51,
   "metadata": {},
   "outputs": [
    {
     "data": {
      "text/html": [
       "<div>\n",
       "<style scoped>\n",
       "    .dataframe tbody tr th:only-of-type {\n",
       "        vertical-align: middle;\n",
       "    }\n",
       "\n",
       "    .dataframe tbody tr th {\n",
       "        vertical-align: top;\n",
       "    }\n",
       "\n",
       "    .dataframe thead th {\n",
       "        text-align: right;\n",
       "    }\n",
       "</style>\n",
       "<table border=\"1\" class=\"dataframe\">\n",
       "  <thead>\n",
       "    <tr style=\"text-align: right;\">\n",
       "      <th></th>\n",
       "      <th>X</th>\n",
       "      <th>Y</th>\n",
       "      <th>Topic</th>\n",
       "      <th>Topic_Words</th>\n",
       "      <th>Colors</th>\n",
       "      <th>Topic_Proportion</th>\n",
       "    </tr>\n",
       "  </thead>\n",
       "  <tbody>\n",
       "    <tr>\n",
       "      <th>0</th>\n",
       "      <td>-0.016226</td>\n",
       "      <td>-0.010495</td>\n",
       "      <td>1</td>\n",
       "      <td>[cultur, salari, start, structur, competit, in...</td>\n",
       "      <td>#fdb2f1</td>\n",
       "      <td>0.0303</td>\n",
       "    </tr>\n",
       "    <tr>\n",
       "      <th>1</th>\n",
       "      <td>-0.016040</td>\n",
       "      <td>-0.010318</td>\n",
       "      <td>2</td>\n",
       "      <td>[leadership, skill, travel, intern, develop, s...</td>\n",
       "      <td>#5fc3e0</td>\n",
       "      <td>0.0208</td>\n",
       "    </tr>\n",
       "    <tr>\n",
       "      <th>2</th>\n",
       "      <td>-0.015801</td>\n",
       "      <td>-0.010042</td>\n",
       "      <td>3</td>\n",
       "      <td>[difficult, system, forc, hot, cold, live, tec...</td>\n",
       "      <td>#35fefe</td>\n",
       "      <td>0.0301</td>\n",
       "    </tr>\n",
       "    <tr>\n",
       "      <th>3</th>\n",
       "      <td>-0.017196</td>\n",
       "      <td>-0.011580</td>\n",
       "      <td>4</td>\n",
       "      <td>[worker, extrem, heavi, workload, qualiti, lif...</td>\n",
       "      <td>#4792e9</td>\n",
       "      <td>0.0189</td>\n",
       "    </tr>\n",
       "    <tr>\n",
       "      <th>4</th>\n",
       "      <td>-0.041626</td>\n",
       "      <td>0.370087</td>\n",
       "      <td>5</td>\n",
       "      <td>[hour, day, shift, sometim, call, home, cut, c...</td>\n",
       "      <td>#5ccdfd</td>\n",
       "      <td>0.0632</td>\n",
       "    </tr>\n",
       "  </tbody>\n",
       "</table>\n",
       "</div>"
      ],
      "text/plain": [
       "          X         Y  Topic  \\\n",
       "0 -0.016226 -0.010495      1   \n",
       "1 -0.016040 -0.010318      2   \n",
       "2 -0.015801 -0.010042      3   \n",
       "3 -0.017196 -0.011580      4   \n",
       "4 -0.041626  0.370087      5   \n",
       "\n",
       "                                         Topic_Words   Colors  \\\n",
       "0  [cultur, salari, start, structur, competit, in...  #fdb2f1   \n",
       "1  [leadership, skill, travel, intern, develop, s...  #5fc3e0   \n",
       "2  [difficult, system, forc, hot, cold, live, tec...  #35fefe   \n",
       "3  [worker, extrem, heavi, workload, qualiti, lif...  #4792e9   \n",
       "4  [hour, day, shift, sometim, call, home, cut, c...  #5ccdfd   \n",
       "\n",
       "   Topic_Proportion  \n",
       "0            0.0303  \n",
       "1            0.0208  \n",
       "2            0.0301  \n",
       "3            0.0189  \n",
       "4            0.0632  "
      ]
     },
     "metadata": {},
     "output_type": "display_data"
    }
   ],
   "source": [
    "lst = []\n",
    "for t in range(1, num_topics+1): \n",
    "    df_topic = df[df.topic == t]\n",
    "    lst.append(df_topic.gamma.sum())\n",
    "\n",
    "tot = sum(lst)\n",
    "lst = np.array([round(i/tot, 4) for i in lst])\n",
    "\n",
    "df_cluster[\"Topic_Proportion\"] = lst\n",
    "display(df_cluster.head())"
   ]
  },
  {
   "cell_type": "code",
   "execution_count": 52,
   "metadata": {},
   "outputs": [],
   "source": [
    "df_cluster.to_csv(data_path + f\"/{num_topics}/topic_center.csv\")"
   ]
  },
  {
   "cell_type": "markdown",
   "metadata": {},
   "source": [
    "# Topic Term Distribution"
   ]
  },
  {
   "cell_type": "code",
   "execution_count": 53,
   "metadata": {},
   "outputs": [
    {
     "data": {
      "text/html": [
       "<div>\n",
       "<style scoped>\n",
       "    .dataframe tbody tr th:only-of-type {\n",
       "        vertical-align: middle;\n",
       "    }\n",
       "\n",
       "    .dataframe tbody tr th {\n",
       "        vertical-align: top;\n",
       "    }\n",
       "\n",
       "    .dataframe thead th {\n",
       "        text-align: right;\n",
       "    }\n",
       "</style>\n",
       "<table border=\"1\" class=\"dataframe\">\n",
       "  <thead>\n",
       "    <tr style=\"text-align: right;\">\n",
       "      <th></th>\n",
       "      <th>topic</th>\n",
       "      <th>term</th>\n",
       "      <th>beta</th>\n",
       "    </tr>\n",
       "  </thead>\n",
       "  <tbody>\n",
       "    <tr>\n",
       "      <th>0</th>\n",
       "      <td>1</td>\n",
       "      <td>’_care</td>\n",
       "      <td>8.624717e-100</td>\n",
       "    </tr>\n",
       "    <tr>\n",
       "      <th>1</th>\n",
       "      <td>2</td>\n",
       "      <td>’_care</td>\n",
       "      <td>2.555270e-93</td>\n",
       "    </tr>\n",
       "    <tr>\n",
       "      <th>2</th>\n",
       "      <td>3</td>\n",
       "      <td>’_care</td>\n",
       "      <td>1.219269e-114</td>\n",
       "    </tr>\n",
       "    <tr>\n",
       "      <th>3</th>\n",
       "      <td>4</td>\n",
       "      <td>’_care</td>\n",
       "      <td>3.194975e-91</td>\n",
       "    </tr>\n",
       "    <tr>\n",
       "      <th>4</th>\n",
       "      <td>5</td>\n",
       "      <td>’_care</td>\n",
       "      <td>7.375773e-119</td>\n",
       "    </tr>\n",
       "  </tbody>\n",
       "</table>\n",
       "</div>"
      ],
      "text/plain": [
       "   topic    term           beta\n",
       "0      1  ’_care  8.624717e-100\n",
       "1      2  ’_care   2.555270e-93\n",
       "2      3  ’_care  1.219269e-114\n",
       "3      4  ’_care   3.194975e-91\n",
       "4      5  ’_care  7.375773e-119"
      ]
     },
     "metadata": {},
     "output_type": "display_data"
    },
    {
     "name": "stdout",
     "output_type": "stream",
     "text": [
      "6420\n"
     ]
    }
   ],
   "source": [
    "df = pd.read_csv(data_path + f\"/{num_topics}/beta.csv\")\n",
    "display(df.head())\n",
    "tot_term = df[df.topic == 1]['term'].count()\n",
    "print(tot_term)"
   ]
  },
  {
   "cell_type": "code",
   "execution_count": 54,
   "metadata": {},
   "outputs": [
    {
     "data": {
      "text/html": [
       "<div>\n",
       "<style scoped>\n",
       "    .dataframe tbody tr th:only-of-type {\n",
       "        vertical-align: middle;\n",
       "    }\n",
       "\n",
       "    .dataframe tbody tr th {\n",
       "        vertical-align: top;\n",
       "    }\n",
       "\n",
       "    .dataframe thead th {\n",
       "        text-align: right;\n",
       "    }\n",
       "</style>\n",
       "<table border=\"1\" class=\"dataframe\">\n",
       "  <thead>\n",
       "    <tr style=\"text-align: right;\">\n",
       "      <th></th>\n",
       "      <th>Term_Id</th>\n",
       "      <th>Term</th>\n",
       "      <th>Term_Prob</th>\n",
       "    </tr>\n",
       "  </thead>\n",
       "  <tbody>\n",
       "    <tr>\n",
       "      <th>0</th>\n",
       "      <td>1</td>\n",
       "      <td>’_care</td>\n",
       "      <td>0.000009</td>\n",
       "    </tr>\n",
       "    <tr>\n",
       "      <th>1</th>\n",
       "      <td>2</td>\n",
       "      <td>’_re</td>\n",
       "      <td>0.000042</td>\n",
       "    </tr>\n",
       "    <tr>\n",
       "      <th>2</th>\n",
       "      <td>3</td>\n",
       "      <td>1_hour_lunch</td>\n",
       "      <td>0.000018</td>\n",
       "    </tr>\n",
       "    <tr>\n",
       "      <th>3</th>\n",
       "      <td>4</td>\n",
       "      <td>1_minut_late</td>\n",
       "      <td>0.000004</td>\n",
       "    </tr>\n",
       "    <tr>\n",
       "      <th>4</th>\n",
       "      <td>5</td>\n",
       "      <td>1_short_break</td>\n",
       "      <td>0.000007</td>\n",
       "    </tr>\n",
       "  </tbody>\n",
       "</table>\n",
       "</div>"
      ],
      "text/plain": [
       "   Term_Id           Term  Term_Prob\n",
       "0        1         ’_care   0.000009\n",
       "1        2           ’_re   0.000042\n",
       "2        3   1_hour_lunch   0.000018\n",
       "3        4   1_minut_late   0.000004\n",
       "4        5  1_short_break   0.000007"
      ]
     },
     "metadata": {},
     "output_type": "display_data"
    },
    {
     "data": {
      "text/plain": [
       "(6420, 3)"
      ]
     },
     "metadata": {},
     "output_type": "display_data"
    }
   ],
   "source": [
    "terms = df[df.topic == 1][\"term\"].values.tolist()\n",
    "lst = []\n",
    "i = 1\n",
    "for t in terms: \n",
    "    term_prob = df[df.term == t]['beta'].sum()/num_topics\n",
    "    lst.append([i, t, term_prob])\n",
    "    i = i+1\n",
    "df_term = pd.DataFrame(lst, columns=['Term_Id', 'Term', 'Term_Prob'])\n",
    "display(df_term.head())\n",
    "display(df_term.shape)"
   ]
  },
  {
   "cell_type": "code",
   "execution_count": 55,
   "metadata": {},
   "outputs": [],
   "source": [
    "for t in terms: \n",
    "    term_prob = df_term.loc[df_term.Term == t, \"Term_Prob\"].iloc[0]\n",
    "    df.loc[df.term == t, \"Term_Prob\"] = term_prob\n",
    "    \n",
    "df[\"Term_Freq\"] = df.Term_Prob * tot_term"
   ]
  },
  {
   "cell_type": "code",
   "execution_count": 56,
   "metadata": {},
   "outputs": [
    {
     "data": {
      "text/html": [
       "<div>\n",
       "<style scoped>\n",
       "    .dataframe tbody tr th:only-of-type {\n",
       "        vertical-align: middle;\n",
       "    }\n",
       "\n",
       "    .dataframe tbody tr th {\n",
       "        vertical-align: top;\n",
       "    }\n",
       "\n",
       "    .dataframe thead th {\n",
       "        text-align: right;\n",
       "    }\n",
       "</style>\n",
       "<table border=\"1\" class=\"dataframe\">\n",
       "  <thead>\n",
       "    <tr style=\"text-align: right;\">\n",
       "      <th></th>\n",
       "      <th>topic</th>\n",
       "      <th>term</th>\n",
       "      <th>beta</th>\n",
       "      <th>Term_Prob</th>\n",
       "      <th>Term_Freq</th>\n",
       "    </tr>\n",
       "  </thead>\n",
       "  <tbody>\n",
       "    <tr>\n",
       "      <th>0</th>\n",
       "      <td>1</td>\n",
       "      <td>’_care</td>\n",
       "      <td>8.624717e-100</td>\n",
       "      <td>0.000009</td>\n",
       "      <td>0.056805</td>\n",
       "    </tr>\n",
       "    <tr>\n",
       "      <th>1</th>\n",
       "      <td>2</td>\n",
       "      <td>’_care</td>\n",
       "      <td>2.555270e-93</td>\n",
       "      <td>0.000009</td>\n",
       "      <td>0.056805</td>\n",
       "    </tr>\n",
       "    <tr>\n",
       "      <th>2</th>\n",
       "      <td>3</td>\n",
       "      <td>’_care</td>\n",
       "      <td>1.219269e-114</td>\n",
       "      <td>0.000009</td>\n",
       "      <td>0.056805</td>\n",
       "    </tr>\n",
       "    <tr>\n",
       "      <th>3</th>\n",
       "      <td>4</td>\n",
       "      <td>’_care</td>\n",
       "      <td>3.194975e-91</td>\n",
       "      <td>0.000009</td>\n",
       "      <td>0.056805</td>\n",
       "    </tr>\n",
       "    <tr>\n",
       "      <th>4</th>\n",
       "      <td>5</td>\n",
       "      <td>’_care</td>\n",
       "      <td>7.375773e-119</td>\n",
       "      <td>0.000009</td>\n",
       "      <td>0.056805</td>\n",
       "    </tr>\n",
       "  </tbody>\n",
       "</table>\n",
       "</div>"
      ],
      "text/plain": [
       "   topic    term           beta  Term_Prob  Term_Freq\n",
       "0      1  ’_care  8.624717e-100   0.000009   0.056805\n",
       "1      2  ’_care   2.555270e-93   0.000009   0.056805\n",
       "2      3  ’_care  1.219269e-114   0.000009   0.056805\n",
       "3      4  ’_care   3.194975e-91   0.000009   0.056805\n",
       "4      5  ’_care  7.375773e-119   0.000009   0.056805"
      ]
     },
     "metadata": {},
     "output_type": "display_data"
    }
   ],
   "source": [
    "display(df.head())"
   ]
  },
  {
   "cell_type": "code",
   "execution_count": 57,
   "metadata": {},
   "outputs": [
    {
     "data": {
      "text/html": [
       "<div>\n",
       "<style scoped>\n",
       "    .dataframe tbody tr th:only-of-type {\n",
       "        vertical-align: middle;\n",
       "    }\n",
       "\n",
       "    .dataframe tbody tr th {\n",
       "        vertical-align: top;\n",
       "    }\n",
       "\n",
       "    .dataframe thead th {\n",
       "        text-align: right;\n",
       "    }\n",
       "</style>\n",
       "<table border=\"1\" class=\"dataframe\">\n",
       "  <thead>\n",
       "    <tr style=\"text-align: right;\">\n",
       "      <th></th>\n",
       "      <th>Topic</th>\n",
       "      <th>Term</th>\n",
       "      <th>Beta</th>\n",
       "      <th>Term_Prob</th>\n",
       "      <th>Term_Freq</th>\n",
       "    </tr>\n",
       "  </thead>\n",
       "  <tbody>\n",
       "    <tr>\n",
       "      <th>0</th>\n",
       "      <td>1</td>\n",
       "      <td>’_care</td>\n",
       "      <td>8.624717e-100</td>\n",
       "      <td>0.000009</td>\n",
       "      <td>0.056805</td>\n",
       "    </tr>\n",
       "    <tr>\n",
       "      <th>1</th>\n",
       "      <td>2</td>\n",
       "      <td>’_care</td>\n",
       "      <td>2.555270e-93</td>\n",
       "      <td>0.000009</td>\n",
       "      <td>0.056805</td>\n",
       "    </tr>\n",
       "    <tr>\n",
       "      <th>2</th>\n",
       "      <td>3</td>\n",
       "      <td>’_care</td>\n",
       "      <td>1.219269e-114</td>\n",
       "      <td>0.000009</td>\n",
       "      <td>0.056805</td>\n",
       "    </tr>\n",
       "    <tr>\n",
       "      <th>3</th>\n",
       "      <td>4</td>\n",
       "      <td>’_care</td>\n",
       "      <td>3.194975e-91</td>\n",
       "      <td>0.000009</td>\n",
       "      <td>0.056805</td>\n",
       "    </tr>\n",
       "    <tr>\n",
       "      <th>4</th>\n",
       "      <td>5</td>\n",
       "      <td>’_care</td>\n",
       "      <td>7.375773e-119</td>\n",
       "      <td>0.000009</td>\n",
       "      <td>0.056805</td>\n",
       "    </tr>\n",
       "  </tbody>\n",
       "</table>\n",
       "</div>"
      ],
      "text/plain": [
       "   Topic    Term           Beta  Term_Prob  Term_Freq\n",
       "0      1  ’_care  8.624717e-100   0.000009   0.056805\n",
       "1      2  ’_care   2.555270e-93   0.000009   0.056805\n",
       "2      3  ’_care  1.219269e-114   0.000009   0.056805\n",
       "3      4  ’_care   3.194975e-91   0.000009   0.056805\n",
       "4      5  ’_care  7.375773e-119   0.000009   0.056805"
      ]
     },
     "metadata": {},
     "output_type": "display_data"
    }
   ],
   "source": [
    "df.rename(columns={\"topic\": \"Topic\", \"term\": \"Term\", \"beta\": \"Beta\"}, inplace=True)\n",
    "display(df.head())"
   ]
  },
  {
   "cell_type": "markdown",
   "metadata": {},
   "source": [
    "# Save File"
   ]
  },
  {
   "cell_type": "code",
   "execution_count": 58,
   "metadata": {},
   "outputs": [],
   "source": [
    "df.to_csv(data_path + f\"/{num_topics}/topic_term_distr.csv\")"
   ]
  },
  {
   "cell_type": "markdown",
   "metadata": {},
   "source": [
    "# How to calculate relevance?"
   ]
  },
  {
   "cell_type": "code",
   "execution_count": 23,
   "metadata": {},
   "outputs": [],
   "source": [
    "df_relevance = df.copy()"
   ]
  },
  {
   "cell_type": "code",
   "execution_count": 24,
   "metadata": {},
   "outputs": [
    {
     "data": {
      "text/html": [
       "<div>\n",
       "<style scoped>\n",
       "    .dataframe tbody tr th:only-of-type {\n",
       "        vertical-align: middle;\n",
       "    }\n",
       "\n",
       "    .dataframe tbody tr th {\n",
       "        vertical-align: top;\n",
       "    }\n",
       "\n",
       "    .dataframe thead th {\n",
       "        text-align: right;\n",
       "    }\n",
       "</style>\n",
       "<table border=\"1\" class=\"dataframe\">\n",
       "  <thead>\n",
       "    <tr style=\"text-align: right;\">\n",
       "      <th></th>\n",
       "      <th>Topic</th>\n",
       "      <th>Term</th>\n",
       "      <th>Beta</th>\n",
       "      <th>Term_Prob</th>\n",
       "      <th>Term_Freq</th>\n",
       "      <th>Relevance</th>\n",
       "    </tr>\n",
       "  </thead>\n",
       "  <tbody>\n",
       "    <tr>\n",
       "      <th>0</th>\n",
       "      <td>1</td>\n",
       "      <td>1_hour_break</td>\n",
       "      <td>3.672673e-208</td>\n",
       "      <td>0.000008</td>\n",
       "      <td>0.054787</td>\n",
       "      <td>2.225913e-203</td>\n",
       "    </tr>\n",
       "    <tr>\n",
       "      <th>1</th>\n",
       "      <td>2</td>\n",
       "      <td>1_hour_break</td>\n",
       "      <td>1.351000e-189</td>\n",
       "      <td>0.000008</td>\n",
       "      <td>0.054787</td>\n",
       "      <td>8.188065e-185</td>\n",
       "    </tr>\n",
       "    <tr>\n",
       "      <th>2</th>\n",
       "      <td>3</td>\n",
       "      <td>1_hour_break</td>\n",
       "      <td>8.675901e-213</td>\n",
       "      <td>0.000008</td>\n",
       "      <td>0.054787</td>\n",
       "      <td>5.258241e-208</td>\n",
       "    </tr>\n",
       "    <tr>\n",
       "      <th>3</th>\n",
       "      <td>4</td>\n",
       "      <td>1_hour_break</td>\n",
       "      <td>4.690151e-197</td>\n",
       "      <td>0.000008</td>\n",
       "      <td>0.054787</td>\n",
       "      <td>2.842581e-192</td>\n",
       "    </tr>\n",
       "    <tr>\n",
       "      <th>4</th>\n",
       "      <td>5</td>\n",
       "      <td>1_hour_break</td>\n",
       "      <td>6.897081e-192</td>\n",
       "      <td>0.000008</td>\n",
       "      <td>0.054787</td>\n",
       "      <td>4.180144e-187</td>\n",
       "    </tr>\n",
       "  </tbody>\n",
       "</table>\n",
       "</div>"
      ],
      "text/plain": [
       "   Topic          Term           Beta  Term_Prob  Term_Freq      Relevance\n",
       "0      1  1_hour_break  3.672673e-208   0.000008   0.054787  2.225913e-203\n",
       "1      2  1_hour_break  1.351000e-189   0.000008   0.054787  8.188065e-185\n",
       "2      3  1_hour_break  8.675901e-213   0.000008   0.054787  5.258241e-208\n",
       "3      4  1_hour_break  4.690151e-197   0.000008   0.054787  2.842581e-192\n",
       "4      5  1_hour_break  6.897081e-192   0.000008   0.054787  4.180144e-187"
      ]
     },
     "metadata": {},
     "output_type": "display_data"
    }
   ],
   "source": [
    "lam = .5\n",
    "df_relevance[\"Relevance\"] = lam*df_relevance.Beta + (1-lam)*df_relevance.Beta/df_relevance.Term_Prob\n",
    "display(df_relevance.head())"
   ]
  },
  {
   "cell_type": "code",
   "execution_count": 25,
   "metadata": {},
   "outputs": [],
   "source": [
    "df5 = df_relevance[df_relevance.Topic == 1]\n",
    "relevant_term = df5.sort_values(by=\"Relevance\", ascending=False)[:10]"
   ]
  },
  {
   "cell_type": "code",
   "execution_count": 26,
   "metadata": {},
   "outputs": [],
   "source": [
    "relevant_term.sort_values(by=\"Term_Freq\", ascending=False, inplace=True)"
   ]
  },
  {
   "cell_type": "code",
   "execution_count": 27,
   "metadata": {},
   "outputs": [],
   "source": [
    "relevant_term[\"Term_Freq\"] = np.round(relevant_term[\"Term_Freq\"])"
   ]
  },
  {
   "cell_type": "code",
   "execution_count": 31,
   "metadata": {},
   "outputs": [
    {
     "data": {
      "image/png": "[encoded data removed]",
      "text/plain": [
       "<Figure size 432x288 with 1 Axes>"
      ]
     },
     "metadata": {
      "needs_background": "light"
     },
     "output_type": "display_data"
    }
   ],
   "source": [
    "import seaborn as sns\n",
    "import matplotlib.pyplot as plt\n",
    "sns.barplot(x=\"Term_Freq\", y=\"Term\", data=relevant_term)\n",
    "plt.show()"
   ]
  },
  {
   "cell_type": "markdown",
   "metadata": {},
   "source": [
    "# Pro Con Similarity"
   ]
  },
  {
   "cell_type": "code",
   "execution_count": 59,
   "metadata": {},
   "outputs": [
    {
     "data": {
      "text/html": [
       "<div>\n",
       "<style scoped>\n",
       "    .dataframe tbody tr th:only-of-type {\n",
       "        vertical-align: middle;\n",
       "    }\n",
       "\n",
       "    .dataframe tbody tr th {\n",
       "        vertical-align: top;\n",
       "    }\n",
       "\n",
       "    .dataframe thead th {\n",
       "        text-align: right;\n",
       "    }\n",
       "</style>\n",
       "<table border=\"1\" class=\"dataframe\">\n",
       "  <thead>\n",
       "    <tr style=\"text-align: right;\">\n",
       "      <th></th>\n",
       "      <th>topic</th>\n",
       "      <th>term</th>\n",
       "      <th>beta</th>\n",
       "    </tr>\n",
       "  </thead>\n",
       "  <tbody>\n",
       "    <tr>\n",
       "      <th>0</th>\n",
       "      <td>1</td>\n",
       "      <td>1_hour_break</td>\n",
       "      <td>3.672673e-208</td>\n",
       "    </tr>\n",
       "    <tr>\n",
       "      <th>1</th>\n",
       "      <td>2</td>\n",
       "      <td>1_hour_break</td>\n",
       "      <td>1.351000e-189</td>\n",
       "    </tr>\n",
       "    <tr>\n",
       "      <th>2</th>\n",
       "      <td>3</td>\n",
       "      <td>1_hour_break</td>\n",
       "      <td>8.675901e-213</td>\n",
       "    </tr>\n",
       "    <tr>\n",
       "      <th>3</th>\n",
       "      <td>4</td>\n",
       "      <td>1_hour_break</td>\n",
       "      <td>4.690151e-197</td>\n",
       "    </tr>\n",
       "    <tr>\n",
       "      <th>4</th>\n",
       "      <td>5</td>\n",
       "      <td>1_hour_break</td>\n",
       "      <td>6.897081e-192</td>\n",
       "    </tr>\n",
       "  </tbody>\n",
       "</table>\n",
       "</div>"
      ],
      "text/plain": [
       "   topic          term           beta\n",
       "0      1  1_hour_break  3.672673e-208\n",
       "1      2  1_hour_break  1.351000e-189\n",
       "2      3  1_hour_break  8.675901e-213\n",
       "3      4  1_hour_break  4.690151e-197\n",
       "4      5  1_hour_break  6.897081e-192"
      ]
     },
     "metadata": {},
     "output_type": "display_data"
    },
    {
     "data": {
      "text/plain": [
       "(172666, 3)"
      ]
     },
     "metadata": {},
     "output_type": "display_data"
    },
    {
     "data": {
      "text/html": [
       "<div>\n",
       "<style scoped>\n",
       "    .dataframe tbody tr th:only-of-type {\n",
       "        vertical-align: middle;\n",
       "    }\n",
       "\n",
       "    .dataframe tbody tr th {\n",
       "        vertical-align: top;\n",
       "    }\n",
       "\n",
       "    .dataframe thead th {\n",
       "        text-align: right;\n",
       "    }\n",
       "</style>\n",
       "<table border=\"1\" class=\"dataframe\">\n",
       "  <thead>\n",
       "    <tr style=\"text-align: right;\">\n",
       "      <th></th>\n",
       "      <th>topic</th>\n",
       "      <th>term</th>\n",
       "      <th>beta</th>\n",
       "    </tr>\n",
       "  </thead>\n",
       "  <tbody>\n",
       "    <tr>\n",
       "      <th>0</th>\n",
       "      <td>1</td>\n",
       "      <td>’_care</td>\n",
       "      <td>8.624717e-100</td>\n",
       "    </tr>\n",
       "    <tr>\n",
       "      <th>1</th>\n",
       "      <td>2</td>\n",
       "      <td>’_care</td>\n",
       "      <td>2.555270e-93</td>\n",
       "    </tr>\n",
       "    <tr>\n",
       "      <th>2</th>\n",
       "      <td>3</td>\n",
       "      <td>’_care</td>\n",
       "      <td>1.219269e-114</td>\n",
       "    </tr>\n",
       "    <tr>\n",
       "      <th>3</th>\n",
       "      <td>4</td>\n",
       "      <td>’_care</td>\n",
       "      <td>3.194975e-91</td>\n",
       "    </tr>\n",
       "    <tr>\n",
       "      <th>4</th>\n",
       "      <td>5</td>\n",
       "      <td>’_care</td>\n",
       "      <td>7.375773e-119</td>\n",
       "    </tr>\n",
       "  </tbody>\n",
       "</table>\n",
       "</div>"
      ],
      "text/plain": [
       "   topic    term           beta\n",
       "0      1  ’_care  8.624717e-100\n",
       "1      2  ’_care   2.555270e-93\n",
       "2      3  ’_care  1.219269e-114\n",
       "3      4  ’_care   3.194975e-91\n",
       "4      5  ’_care  7.375773e-119"
      ]
     },
     "metadata": {},
     "output_type": "display_data"
    },
    {
     "data": {
      "text/plain": [
       "(154080, 3)"
      ]
     },
     "metadata": {},
     "output_type": "display_data"
    }
   ],
   "source": [
    "import pandas as pd\n",
    "import numpy as np\n",
    "\n",
    "# num_topics_pro = 8\n",
    "num_topics_pro = 26\n",
    "\n",
    "df_pro = pd.read_csv(f\"~/Desktop/R_js/data/beta/pro{num_topics_pro}_beta.csv\")\n",
    "\n",
    "# num_topics_con = 10\n",
    "num_topics_con = 24\n",
    "\n",
    "df_con = pd.read_csv(f\"~/Desktop/R_js/data/beta/con{num_topics_con}_beta.csv\")\n",
    "\n",
    "display(df_pro.head())\n",
    "display(df_pro.shape)\n",
    "\n",
    "display(df_con.head())\n",
    "display(df_con.shape)"
   ]
  },
  {
   "cell_type": "code",
   "execution_count": 60,
   "metadata": {},
   "outputs": [
    {
     "name": "stdout",
     "output_type": "stream",
     "text": [
      "2096\n",
      "['peopl', 'whenev', 'manag_pay_benefit', 'inform', 'sweat', 'commun', 'sort', 'specialist', 'probabl', 'opportun_advanc', 'tie', 'research', 'life_balanc', 'off', 'lax', 'stretch', '1_hour_lunch', 'hear', 'grate', 'ect', 'special', 'hour_lunch_break', 'benefit_pay', 'worklif_balanc_manag', 'thru', 'solv', 'command', 'coordin', 'respons', 'friend', 'hold', 'dental', 'pocket', 'center', '15_minut_break', 'acquir', 'main', 'deliveri', '30_min_break', 'crowd', 'workweek', 'mechan', 'nation', 'benefit_retir', 'inclement', 'commut', 'obtain', 'sick', 'accur', 'pay_health_benefit', 'cost_studi', 'time_home', 'appropri', 'race', 'day_weekend', 'famili_friendli', 'anytim', 'feedback', 'hit', 'solut', 'believ', 'insur_benefit', 'zero', 'primarili', 'garag', 'mentor', 'independ', 'citigroup', 'bar', 'liter', 'pay_posit', 'staff', 'enrol', 'break_4_hour', 'aggress', 'vacat', 'hour_overtim', 'machineri', 'manag_worklif_balanc', 'guarante', 'cloud', 'round', 'help_custom', 'stock_option', 'eat', 'locat', 'instead', 'lock', 'tell', 'sea', 'equal', 'deadlin', 'evolv', 'data', 'seri', 'honest', 'count', 'lunch_break', 'brake', 'benefit_break', 'addit', 'health_plan', 'traffic', 'policyhold', 'temp', 'hour_week', 'couldnt', 'approach', 'meal', 'discount', 'major', 'bay', 'bank_industri', 'licens', 'smart_peopl', 'pay_hard', 'demand', 'come', 'kept', 'offer_home', 'ran', 'check', 'held', 'alot', 'access', '8_hour_day', 'manag_environ', 'guy', 'support_manag', 'shutdown', '30_minut_lunch', 'human', 'stop', 'goe', 'direct_manag', 'eventu', 'boa', 'lab', 'product', 'bond', '45_min_lunch', 'releas', '10_minut_break', 'take', 'matter', 'distribut', 'sight', 'platform', 'chanc', 'worker_manag', 'walk', 'bad', 'pharmaci', 'break_employe', 'plan', 'career_path', 'deal_custom', 'experienc', 'foreign', 'fill', 'ensur', 'random', 'desir', 'insur', 'support', 'cultur', 'user', 'person_time', 'telecommut', 'retail', 'enter', 'prior', 'appreci', 'discount_product', 'fastpac', 'observ', 'shift_schedul', 'militari', 'appl', 'bid', 'produc', 'pleas', '10_hour_day', 'matur', 'bank_america', 'parttim_employe', 'etc', 'health_benefit', 'due', 'cardin_health', 'guess', 'heath', 'music', 'switch', 'loyal', 'balanc_manag', 'compress_week', 'virtual', 'ten', 'extend', 'longev', 'lot_peopl', 'youll', 'polic', 'ton', 'help_peopl', 'success', 'accomod', 'gain', 'volunt', 'team_manag', 'global', 'warehous', 'absolut', 'snow', 'envior', 'telephon', 'heat', 'park', 'break_15_minut', 'profit_share', 'dental_vision', 'station', 'life', 'manag_hour', 'contact', 'benefit_hour', 'instal', 'view', 'fuel', 'workplac_cultur', 'legal', 'manag_care', 'cross', 'focus', 'strict', 'previou', 'time_benefit', 'reli', 'lifework', 'cultur_worklif_balanc', 'opportun_manag', 'start_time', 'cohes', 'activ', 'rotat_schedul', 'micromanag', 'lost', 'hour_time', 'track', 'pay_schedul', 'late', 'immedi', 'inventori', 'heavili', 'wife', 'hour_home', 'district', 'suck', 'profit', 'administr', 'own', 'cafeteria_food', 'care_employe', 'line_manag', 'pay_manag', 'correctli', 'reliabl', 'bonu_structur', 'proactiv', 'break_30_minut', 'lifework_balanc', 'payout', 'money_hour', 'break_custom', 'requir', 'trade', 'employe_pay', 'supervis', 'use', 'offic_environ', 'caus', 'pretti', 'beak', 'pickup', 'rang', 'pro', 'break_lunch_time', 'prospect', 'move', 'educ', 'bottom', 'pound', 'later', 'plano', 'technolog', 'clinic', 'driver', 'hour_health', 'comput', 'intern_travel', 'opportun_career', 'succeed', 'schedul_pay', 'groceri', 'throw', 'lunch_pay', 'supervisor', 'let', 'insur_employe', 'throughout', '15_min_break', '4_hour_shift', 'ate', 'session', 'break_break', 'capit', 'partner', 'purpos', 'share', 'automot', 'flight', 'paid_vacat', 'salari', 'start_pay', 'countri', 'health_insur_benefit', 'complet', 'chang', 'treat', 'subject', 'schedul', 'mission', 'privat', 'ticket', 'emerg', 'compani', 'time_break', 'rais', 'save', 'enforc', 'face', 'manag_friendli', 'bank', 'remot', 'easier', 'fit', 'begin', 'social', 'restaur', 'infrastructur', '40_hour_week', 'sens', 'occassion', 'manageri', 'industri', 'break_schedul', 'recommend', 'health_care_401k', 'perman_posit', 'lifestyl', 'softwar', 'style', 'custom_pay', 'continu', 'joint', 'standard', 'valuabl', 'hous', 'toler', 'mobil', 'paid_lunch', 'learn', 'stock', 'upper_manag', 'street', 'sector', 'committe', 'movement', 'short_term', 'tight', 'resolv', 'ideal', 'ethic', 'neighborhood', 'mckesson', 'picnic', 'manipul', 'open', 'micro_manag', 'site', 'sick_time', 'competet', 'game', 'understand', 'opportun_pay', 'oil_ga', 'payment', 'manag_care_employe', 'poor', 'stay_busi', 'real', 'motiv', 'energi', 'certif', 'mileag', 'pay_healthcar', 'peopl_manag', 'incom', 'univers', 'home_offic', 'direct', 'instor', 'offic', 'regulatori', 'enviorn', 'diem', 'cash', 'youv', 'leadership_program', 'auto', 'afford', 'reason', 'adapt', 'receiv', 'expens', 'organiz', 'half_hour_lunch', 'pace_environ', 'medicin', 'joke', 'practic', 'spend_time', 'time_pay', 'valu_employe', 'christma', 'method', 'paid_sick', 'pay_time', 'restroom', 'weekend_holiday', 'amongst', 'certain', 'schedul_hour', 'unpaid', 'hospit', 'firm', 'massiv', 'box', 'signific', 'past', 'freedom', 'environ_cultur', 'corpor_environ', 'half_hour', 'choos', 'balanc_cultur', 'balanc_pay', 'commun_skill', 'custom_servic', 'time_time', 'mother', 'materi', 'empresa', 'kroger', 'ship', 'phone', 'suppli', 'bother', 'learn_curv', 'friendli', 'caller', 'oppurtun', 'surpris', 'union_employe', 'leverag', 'skill', 'centric', 'consult', 'bore', 'routin', 'cubicl', 'healthi', 'crazi', 'separ', 'summer', 'abus', 'career_growth', 'time_person', 'pay_structur', 'honor', 'bill', 'power', 'trajectori', 'idea', 'balanc_life', 'person_vehicl', 'mortgag_industri', 'chair', 'worth', 'workday', 'fanni', 'hour_schedul', 'issu', 'includ', 'discount_store', 'colleagu', 'break_hour', 'bunch', 'increas', 'manag_pay', 'sound', 'break_discount', 'climat', 'flow', 'spring', 'vend_machin', 'vto', 'car', 'space', 'sunday', 'buy', 'lot_hour', 'pay_retail', 'buse', 'despit', 'women', 'channel', 'worklif_balanc', 'tier', 'labor', 'pay_insur', 'incent_plan', 'annual', 'conduct', 'night', 'object', 'time_lunch', 'true', 'medicar', 'measur', 'god', 'enviro', 'lead', 'merit', 'sit', 'board', 'properli', 'consist_schedul', 'oil', 'injuri', 'pick', 'mental', 'differ', 'health_dental', 'cap', 'phoenix', 'wouldnt', 'choic', 'redcard', 'pay_commiss', 'abil_move', 'age', 'contractor', 'model', 'short_hour', 'built', 'growth', 'appli', 'schedul_day', 'integr', 'control', 'workload', 'pay_industri', 'elderli', 'locker', 'bathroom', 'excel_health_care', 'product_servic', 'son', 'tuition', 'confin', 'custom_base', 'confid', 'break_15', 'break_8_hour', 'home', 'foot', 'jump', 'rank', 'keep', 'inhous', 'pay_scale', 'pharmacist', 'tri', 'schedul_worklif', 'thanksgiv', 'valu', 'benefit_time', 'steadi', 'even', 'admin', 'satisfi', 'advantag', 'environ', 'distanc', 'perfect', 'holiday_season', 'convers', 'occasion', 'manag_benefit', 'script', 'boe', 'contract', 'process', 'multitask', 'benefit', 'train_program', 'forklift', 'opinion', 'schedul_break', 'overtim_pay', 'scale', 'grow', 'salari_compens', 'short_shift', 'design', 'train_support', 'bonus', 'children', 'goal', 'solo', 'awar', 'inclus', 'break_1_hour', 'break_hour_lunch', 'par', 'parti', 'option', 'multipl', 'longterm', 'faster', 'mortgag', 'degre', 'corp', 'cube', 'hour_peopl', 'rid', 'transform', 'friday', 'collect', 'career', 'lot_overtim', 'finish', 'dell', 'write', 'hire', 'start_wage', 'top', 'employ', 'risk', 'big', 'hour_fast', 'vest', 'background', 'worri', 'input', 'pay_opportun', 'minimum', 'machin', 'major_holiday', 'date', 'focu', 'detail', 'excess', 'make', 'temporari', 'midlevel', 'quick', 'reimburs', 'forev', 'resid', 'okay', 'badg', 'salari_benefit', 'blue', 'hundr', 'physic', 'dedic', 'start', 'salari_manag', 'leav', 'leisur', 'result', 'para', 'employe_friendli', 'fargo', 'unfortun', 'cut', 'flexibl_schedul', 'class', 'monday', 'singl', 'york', 'membership', 'care', 'applic', 'rule', 'que', 'till', 'altern', 'support_staff', 'colleg', 'roll', 'hard_worker', 'tool', 'retir_benefit', 'competit', 'base', 'expect', 'million', 'gear', 'especi', 'dull', 'benifit', 'shuttl', 'fast_pace_environ', 'mistak', 'cultur_life', 'grade', 'term', 'schedual', 'fair', 'qualifi', 'time', 'local', 'peer', 'bonus_pay', 'pay_minimum', 'presenc', 'post', 'breath', 'offer', 'home_base', 'yearli', 'por', 'wonder', 'charg', 'manag_team', 'deduct', 'soft', 'relat', 'deliv', 'staf', 'shift', 'migrat', 'realist', 'excel_benefit', 'server', 'enjoy', 'free_time', 'hora', 'stabil', 'aircraft', '30_minut_break', 'employe_recognit', 'boost', 'nasa', 'annual_review', 'basi', 'break_lunch', 'trabajo', 'shift_pay', 'person_life', 'facil', 'moral', 'exercis', 'mean', 'kitchen', 'somtim', 'decis', 'adult', 'pay_life_balanc', 'highli', 'employe_peopl', 'short_break', 'polici', 'form', 'evalu', 'costco', 'thirti', 'break_15_min', 'citibank', 'manag_compens', 'schedul_flexibl', 'util', 'know', 'cell', 'drug', 'five', 'motor', 'earn', 'manger', 'plenti', 'print', 'folk', 'involv', 'rel', 'break_lot', 'occas', 'relax', 'commit', 'natur', 'incent_pay', 'depot', 'career_opportun', 'cowork_manag', 'drink', 'particular', 'headquart', 'workout', 'payrol', 'setup', 'break_4', 'look', 'via', 'vacat_sick_time', 'pressur', 'benefit_packag', 'report', 'complic', 'loan', 'benefit_vacat', 'ride', 'anthem', 'lunch', 'manag_advanc', 'clientel', 'merchandis', 'ford', 'pay_break', 'rehir', 'horribl', 'difficult', 'six', 'team_support', 'tast', 'express', 'apart', 'rise', 'meritocraci', 'plu', 'reput', 'get', 'protect', 'short_day', 'break_lunch_break', 'cover', 'balanc_benefit', 'treatment', 'quit', 'aircondit', 'zone', 'heart', 'excel', 'drive_car', 'guidelin', 'crew', 'credit', 'accru', 'tough', 'dress_code', 'institut', 'famili_orient', 'transact', 'sale_goal', 'explain', 'ceo', 'seek', 'hub', 'test', 'financ', 'achiev', 'doubl', 'teller', 'stand', 'lend', 'product_employe', 'event', 'hourli_rate', 'mandatori_overtim', 'preload', 'cabl', 'workfamili', 'internship', 'ownership', 'secur_advanc', 'trainer', 'quiet', 'extra', 'talk_peopl', 'heathcar', 'improv', 'encourag', 'meet', 'pool', 'pay_better', 'commiss_base', 'benefit_time_employe', 'short', 'randomli', 'prudenti', 'attempt', 'huge', 'familiar', 'multi', 'compress', 'custom_employe', 'competit_environ', 'hardwar', 'bank_center', 'snack', 'beyond', 'vacat_sick_day', 'cowork', 'verizon', 'care_benefit', 'forgiv', 'exampl', 'super', 'system', 'insid', 'temperatur', 'prescript', 'retain', 'assign', 'cost', 'peak', 'favorit', 'corpor_cultur', 'elsewher', 'smoke', 'team_lead', 'manag_lot', 'potenti', 'usa', 'conveni', 'constant', 'effici', 'everyday', 'competit_pay', 'winter', 'updat', 'oper', 'drama', 'gym', 'wear', 'healthcar_benefit', 'ago', 'kind', 'soon', 'lucki', 'attract', 'black', 'mediocr', 'orient', 'meaning', 'carri', 'usual', 'werent', 'employe_custom', 'biweekli', 'project', 'that', 'break_30', 'vehicl', 'task', 'watch', 'lower_level', 'recognit', 'day', 'breakroom', 'statu', 'drive', 'pay_life', 'flexibl', 'safe', 'starbuck', 'experi', 'exceed', 'close', 'averag', 'accommod', 'sold', 'spread', 'parttim_hour', 'amount', 'food_court', 'unless', 'product_line', 'holiday_pay', 'rest', 'agenc', 'pay_union', 'coke', 'handl', 'coffe', 'air_condit', 'break_time', 'hotel', 'expand', 'place', 'weekend_month', 'belong', 'flexibl_manag', 'promot_opportun', 'stress', 'contribut', 'compens', 'search', 'push', 'cooper', 'teach', 'concern', 'lot_employe', 'busi_time', 'type', 'defin', 'decid', 'provid', 'screen', 'manufactur', 'minut_lunch_break', 'step', 'lunch_break_hour', 'time_hour', 'secur', 'wide', 'pay_rais', 'gift', 'marketplac', 'fast_pace_time', 'final', 'autonomi', 'hope', 'costum', 'care_manag', 'weather', 'base_salari', 'court', 'rate_pay', 'fast', 'break_manag', 'challeng', 'holiday_vacat', 'dtv', 'internet', 'thrive', 'kid', 'famili', 'intern', 'satisfactori', 'upward_mobil', 'red_card', '10_min_break', 'period', 'negoti', 'seat', 'paid_time', 'schdule', 'free_lunch', 'hour_lot', 'emot', 'don', 'insur_dental', 'benefit_advanc', 'decent', 'paid', 'repeat', 'placement', 'campu', 'sourc', 'welcom', 'core', 'dupont', 'holiday_time', 'metlif', 'card', 'min_break', 'shortag', 'pay_lot', 'hr_week', 'pay_secur', 'purchas', 'vast', 'opportun_promot', 'wage', 'time_associ', 'interview', 'benefit_health', 'approv', 'fairli', 'time_peopl', 'opportun_growth', 'manag_train', 'won', 'anymor', 'paycheck', 'cheap', 'duti', 'adjust', 'see', 'matern_leav', 'lol', 'hour', 'eye', 'reciev', 'truli', 'cheaper', 'line', 'time_manag', 'arrang', 'paperwork', 'capabl', 'spirit', 'extra_hour', 'recruit', 'floor', 'hour_custom', 'found', 'downtown', 'develop_program', 'person_growth', 'fee', 'structur', 'instant', 'love', 'fork', 'afternoon', 'rais_hour', 'glove', 'sale_manag', 'holder', 'read', 'bring', 'workspac', 'benefit_overtim', 'train_peopl', 'consid', 'serv', 'employe', 'launch', 'dont', 'mix', 'account', 'economi', 'construct', 'field', 'deposit', 'product_custom', 'advisor', 'behavior', 'flex', 'benefit_timer', 'balanc', 'cross_train', 'live', 'safeti', 'club', 'fedex', 'custom', 'varieti', 'titl', 'mind', 'market', 'personnel', 'wait', 'award', 'seen', 'school', 'nearli', 'histori', 'hourli', 'fine', 'pay_lunch', 'deli', 'drop', 'train_manag', 'cafeteria', 'branch', 'reduc', 'allow', 'manag_time', 'expos', 'local_manag', 'fulltim', 'progress', 'workplac', 'repres', 'help_manag', 'hair', 'growth_potenti', 'pressur_sale', 'vision', 'flexabl', 'exist', 'address', 'advanc_peopl', 'surround', 'list', 'econom', 'smell', 'manag_opportun', 'document', 'manag_support', 'reinforc', 'suffici', 'follow', 'qualiti_life', 'perman', 'matern', 'specif', 'fast_pace', 'pay_increas', 'guest', 'manag_life_balanc', 'boss', 'pay_advanc', 'fix', 'disciplin', 'repet', 'rais_benefit', 'train_advanc', 'refer', 'book', 'medic_benefit', 'leadership', 'mate', 'item', 'associ', 'benefit_union', 'door', 'girl', 'holiday', 'benefit_sometim', 'compar', 'beer', 'pay_worklif_balanc', 'definit', 'muy', 'opportun_career_growth', 'technician', 'opportun', 'warm', 'shift_bid', 'put', 'red', 'reloc', 'employe_benefit', 'mid', 'truck', 'middl', 'mainten', 'seriou', 'pay_competit', 'doesnt', 'stone', 'cook', 'better_pay', 'wish', 'night_shift', 'ahead', 'effort', 'typic', 'employess', 'fresh', 'disabl', 'travel', 'soda', 'refriger', 'break_paid', 'weight', 'tour', 'dynam', 'intel', 'name', 'fun', 'schedul_time', 'hour_pay', 'exposur', 'store_level', 'temporari_employe', 'pay_hour', 'food', 'senior_manag', 'servic', 'cashier', 'pay_incent', 'annual_rais', 'overtim', 'opportunti', 'overtim_hour', 'menu', 'slight', 'talent', 'principl', 'morn_shift', 'pay_bad', 'plant', 'mangement', 'secur_benefit', 'creativ', 'devic', 'one', 'except', 'select', 'world', 'aerospac', 'mark', 'regist', 'day_day', 'day_shift', 'ibm', 'forc', 'cater', 'lunch_manag', 'breakfast', 'chevron', 'directli', 'fund', 'territori', 'challang', 'individu', 'properti', 'pay_benifit', 'rush', 'window', 'stay', 'sometim', 'jpmorgan', 'town', 'intens', 'water', 'vacat_time', 'slightli', 'action', 'childcar', 'cool', 'assist', 'paid_holiday', 'quarter', 'benefit_commiss', 'breakslunch', 'tabl', 'benefit_lunch', 'pay_salari', 'sign', 'procedur', 'talk', 'break_1', 'pepsi', 'popular', 'total', 'person', 'oversea', 'hour_avail', 'burn', 'muscl', 'lean', 'home_day', 'co_worker', 'guidanc', 'client', 'buis', 'cell_phone', 'thier', 'help', 'healthcar_pay', 'chase', 'exempt', 'possibl', 'review', 'citi', 'directv', 'moment', '45_minut_lunch', 'vari', 'pay_short', 'overcom', 'balanc_secur', 'eight', 'minim', 'abl_help', 'hour_manag', 'manag_co_worker', 'promot', 'metric', 'return', 'teamwork', 'child', 'repair', 'recent', 'parent', 'onsit', 'morn', 'averag_pay', 'mayb', 'fellow', 'ge_product', 'emplye', 'mall', 'commiss_structur', 'benefit_employe', 'lift', 'union', 'frontlin', 'health_dental_vision', 'meet_goal', 'schedul_manag', 'greatli', 'brought', 'benefit_secur', 'break_shift', 'light', 'fed_ex', 'differ_depart', 'pay_employe', 'manner', 'dollar', 'could', 'larger', 'garden', 'air', 'interact', 'daili', 'none', 'train', 'pay_employe_discount', 'technic', 'lot_money', 'quota', 'sell', 'match', 'whatev', 'loos', 'regard', 'cultur_life_balanc', 'con', 'abil', 'rotat', 'healthcar_401k', 'patient', 'budget', 'agil', 'bakeri', 'break_overtim', 'unload', 'prize', 'climat_control', 'sick_leav', 'opportunit', 'rate', 'volum', 'comp', 'limit', 'thorough', 'hassl', 'innov', 'toward', 'extern', 'green', 'situat', 'punch', 'benefit_short', 'neg', 'program', 'play', 'team_leader', 'acknowledg', 'treat_employe', 'claim', 'bonu', 'owner', 'equip', 'size', 'manag_store', 'laid', 'health_insur_401k', 'union_represent', 'life_balanc_opportun', 'clean', 'visibl', 'invest', 'exclus', 'prepar', 'pass', 'hsa', 'spot', 'time_famili', 'entri_level', 'benefit_401k', 'supplier', 'luch', 'outsid', 'microwav', 'road', 'health_care', 'offici', 'busi', 'compens_manag', 'peac', 'team_cultur', 'perform_review', 'critic', 'near', 'agent_pay', 'subway', 'mgmt', 'pension_plan', 'author', 'environ_manag', 'stack', 'fte', 'lot_time', 'referr', 'elig', 'speak', 'attend', 'engin', 'monitor', 'pay_peopl', 'pace', 'mandatori', 'huddl', 'time_schedul', 'execut', 'regularli', 'revenu', 'avail', 'miss', 'simpl', 'brand', 'relief', 'assembl', 'auto_industri', 'notic', 'houston', 'break', 'uniform', 'quickli', 'tension', 'send', 'awesom', 'medic_insur', 'free_soda', 'chain', 'retir', 'pace_time', 'studi', 'life_balanc_manag', 'sick_day', 'andor', 'profession', 'cloth', 'normal', 'free', 'cardin', 'manag', 'peopl_time', 'float', 'length', 'career_develop', 'speed', 'pto', 'best', 'america', 'easili', 'onlin', 'resolut', 'didnt', 'ground', 'extens', 'schedul_worklif_balanc', 'corpor', 'financi', 'readi', 'cent', 'employe_discount', 'wise', 'hour_compens', 'ice', 'hoilday', 'curv', 'coupl', 'paper', 'credo', 'tenur', 'collabor', 'scope', 'hang', 'airplan', 'manag_commun', 'employe_appreci', 'pull', 'student', 'line_busi', 'compens_plan', 'saturday', 'insent', 'time_opportun', 'hour_flexibl', 'incred', 'mac', 'impact', 'manag_cowork', 'bought', 'postion', 'offic_space', 'vet', 'insan', 'dress', 'restrict', 'besid', 'clearli', 'network', 'attent', 'renew', 'resourc', 'depend', 'break_10', 'worklif', 'empti', 'add', 'time_day', 'surviv', 'log', 'organ', 'holiday_weekend', 'upper', 'happi', 'health_care_benefit', 'break_day', 'comput_system', 'happen', 'lunch_time', 'level', 'veteran', 'like', 'team', 'lot_opportun_advanc', 'transpar', 'advanc_opportun', 'defens', 'differ_locat', 'sever', 'accomplish', 'corner', 'actual', 'find', 'hot', 'peak_season', 'coach', 'healthcar', 'store_discount', 'period_time', 'half', 'retent', 'assembl_line', 'low', 'common', 'commiss', 'regular', 'extrem', 'team_environ', 'uaw', 'front', 'rep', 'month', 'tree', 'nimbl', 'depend_manag', 'mail', 'break_peopl', 'atmospher', 'concept', 'debit', 'vacat_day', 'emc', 'maintain', 'divers', 'time_holiday', 'visit', 'benefit_manag', 'bit', '12_hour_shift', 'wifi', 'mile', 'parttim', 'broker', 'basic', 'employe_moral', 'key', 'theyll', 'nonmanag', 'credit_card', 'player', 'micro', 'train_class', 'hour_hour', 'lake', 'hour_team', 'met', 'superior', 'set', 'easi', 'walmart', 'chemic', 'busi_day', 'minut', 'nice', 'secur_pay', 'shift_hour', 'error', 'perform', 'your', 'embrac', 'littl', 'trip', 'envirn', 'better', 'function', 'timer', 'leader', 'establish', 'graduat', 'ive', 'strong', 'vacat_benefit', 'minut_break', 'growth_pay', 'healthcar_insur', 'percent', 'harder', 'pay_check', 'discount_ge', 'allot', 'day_vacat', 'custom_manag', 'austin', 'qualif', 'adequ', 'represent', 'pension', 'lot_travel', 'proper', 'time_health', 'pay', 'career_advanc', 'growth_opportun', 'hat', 'director', 'terribl', 'driven', 'compens_benefit', 'break_benefit', 'coverag', 'upward', 'posit', 'benefit_low', 'connect', 'oblig', 'vacat_sick', 'ill', 'call', 'outlook', 'contributor', 'custom_interact', 'quick_pace', 'rare', 'creat', 'stuck', 'health_coverag', 'mgt', 'frequent', 'complex', 'cafe', 'unit', 'insur_pay', 'environ_hour', 'twice', 'futur', 'profess', 'there', 'numer', 'central', 'develop', 'reach', 'constantli', 'fmla', 'pay_low', 'role', 'outdoor', 'fifteen', 'hand', 'sleep', 'heavi', 'request', 'sale', 'dog', 'lot_opportun', 'sensit', 'asset', 'quarterli', 'knowledg', 'strategi', 'tax', 'store_manag', 'minut_break_hour', 'break_pay', 'cart', 'consist', 'att', 'hard', 'chanc_advanc', 'rout', 'third', 'min_lunch_break', 'build', 'stuff', 'compens_packag', 'straight', 'news', 'run', 'dispatch', 'free_coffe', 'hour_shift', '8_hour_shift', 'implement', 'stabl', 'medic', 'transit', 'break_free', 'self', 'commiss_pay', 'consum', 'autom', 'fifteen_minut_break', 'vendor', 'doctor', 'lose', 'weekli', 'hour_benefit', 'wont', 'manag_peopl', 'incent', 'rememb', 'effect', 'condit', 'pay_rate', 'applianc', 'accid', 'pay_overtim', 'will', 'hour_lunch', 'underwrit', 'time_employe', 'els', 'opportun_move', 'farm', 'variou', 'price', 'accept', 'ppl', 'break_healthcar', 'peopl_cultur', 'ceil', 'record', 'advanc', 'free_food', 'feel', 'hourli_pay', 'minimum_wage', 'suit', 'outstand', 'home_life', 'smart', 'govern', 'turnov', 'set_schedul', 'cold', 'agent', 'satellit', 'question', 'dept', 'custom_satisfact', 'discount_ge_product', 'deal', 'appoint', 'excit', 'clear', 'comfort', 'premium', 'arent', 'differenti', 'min_lunch', 'aspect', 'health_insur', 'hour_weekend', 'left', 'pharmaci_manag', 'manag_staff', 'perk', 'consider', 'path', 'out', 'gener', 'ford_motor', 'benefit_paid', 'prefer', 'day_hour', 'pay_benefit', 'avoid', 'pay_pay', 'manag_cultur', 'competitv', 'grant', 'tend', 'workhom', 'flexibl_hour', 'feet', 'competit_salari', 'pay_advanc_opportun', 'transfer', 'profession_growth', 'free_health', 'environ_time', 'recogn', 'hour_paid', 'law', 'buck', 'pack', 'set_hour', 'packag', 'mgr', 'attitud', 'benefit_offer', 'give', 'continu_educ', 'shop', 'arriv', 'comcast', 'transport', 'confer', 'spend', 'tech_compani', 'lower', 'polit', 'respect', 'lay', 'remov', 'desk', 'think', 'cultur_worklif', 'target', 'shoe', 'job', 'american', 'ongo', 'honesti', 'week', 'engag', 'benefit_health_insur', 'career_advanc_opportun', 'shape', 'cultur_manag', 'hour_day', 'partial', 'overnight', 'hourli_wage', 'reward', 'retir_packag', 'regul', 'glass', 'bodi', 'compet', 'health', 'entri', 'estat', 'shown', 'break_2', 'public', 'fire', 'break_30_min', 'benefit_life_balanc', 'abl', 'passion', 'worker', 'pay_minimum_wage', 'paid_holiday_vacat', 'forward', 'senior', 'googl', 'loyalti', 'toe', 'home_depot', 'workforc', 'monthli', 'utc', 'benefit_temp', 'hour_break', 'listen', 'microsoft', 'satisfact', 'advanc_pay', 'vibe', 'hour_discount', 'call_center', 'banker', 'pay_health', 'overal', 'emphasi', 'initi', 'store', 'somewhat', 'current', 'code', 'solid', 'descanso', 'vend', 'dinner', 'fed', 'done', 'daili_basi', 'hardwork', 'guid', 'nurs', 'benfit', 'hour_employe', 'minut_lunch', 'particip', 'factori', 'lunch_hour', 'lack', 'wasnt', 'led', 'prioriti', 'season', 'tech', 'life_insur', 'opportun_grow', 'weekend', 'employe_manag', 'loss', 'clock', 'figur', '30_min_lunch', 'benefit_parttim', 'manag_help', 'trust', 'flexibl_life', 'oportun', 'busi_season', 'day_week', 'flexibl_life_balanc', 'guarante_hour', 'theyr', 'qualiti', 'digit', 'relationship', 'slow', 'expertis', 'money', 'charlott', 'pay_worklif', 'manag_employe', 'comiss', 'depart', 'promo', 'divis', 'famili_time', 'answer', 'home_time', 'head', 'discount_employe', 'entir', 'nyc', 'lot', 'load', 'commis', 'turnaround', 'base_pay', 'min', 'join', 'break_8', 'cost_live', 'accord']\n"
     ]
    }
   ],
   "source": [
    "pro_terms = df_pro[df_pro.topic == 1][\"term\"].values.tolist()\n",
    "con_terms = df_con[df_con.topic == 1][\"term\"].values.tolist()\n",
    "\n",
    "pro_con = list(set(pro_terms) & set(con_terms))\n",
    "print(len(pro_con))\n",
    "print(pro_con)"
   ]
  },
  {
   "cell_type": "code",
   "execution_count": 61,
   "metadata": {},
   "outputs": [
    {
     "name": "stdout",
     "output_type": "stream",
     "text": [
      "13061\n",
      "13061\n"
     ]
    }
   ],
   "source": [
    "just_pro = list(set(pro_terms) - set(con_terms))\n",
    "just_con = list(set(con_terms) - set(pro_terms))\n",
    "\n",
    "\n",
    "print(len(just_pro) + len(just_con) + 2*len(pro_con))\n",
    "print(len(pro_terms) + len(con_terms))"
   ]
  },
  {
   "cell_type": "code",
   "execution_count": 62,
   "metadata": {},
   "outputs": [
    {
     "data": {
      "text/html": [
       "<div>\n",
       "<style scoped>\n",
       "    .dataframe tbody tr th:only-of-type {\n",
       "        vertical-align: middle;\n",
       "    }\n",
       "\n",
       "    .dataframe tbody tr th {\n",
       "        vertical-align: top;\n",
       "    }\n",
       "\n",
       "    .dataframe thead th {\n",
       "        text-align: right;\n",
       "    }\n",
       "</style>\n",
       "<table border=\"1\" class=\"dataframe\">\n",
       "  <thead>\n",
       "    <tr style=\"text-align: right;\">\n",
       "      <th></th>\n",
       "      <th>topic</th>\n",
       "      <th>term</th>\n",
       "      <th>beta</th>\n",
       "      <th>procon</th>\n",
       "      <th>color</th>\n",
       "    </tr>\n",
       "  </thead>\n",
       "  <tbody>\n",
       "    <tr>\n",
       "      <th>0</th>\n",
       "      <td>1</td>\n",
       "      <td>1_hour_break</td>\n",
       "      <td>3.672673e-208</td>\n",
       "      <td>pro</td>\n",
       "      <td>#c67f1f</td>\n",
       "    </tr>\n",
       "    <tr>\n",
       "      <th>1</th>\n",
       "      <td>2</td>\n",
       "      <td>1_hour_break</td>\n",
       "      <td>1.351000e-189</td>\n",
       "      <td>pro</td>\n",
       "      <td>#c67f1f</td>\n",
       "    </tr>\n",
       "    <tr>\n",
       "      <th>2</th>\n",
       "      <td>3</td>\n",
       "      <td>1_hour_break</td>\n",
       "      <td>8.675901e-213</td>\n",
       "      <td>pro</td>\n",
       "      <td>#c67f1f</td>\n",
       "    </tr>\n",
       "    <tr>\n",
       "      <th>3</th>\n",
       "      <td>4</td>\n",
       "      <td>1_hour_break</td>\n",
       "      <td>4.690151e-197</td>\n",
       "      <td>pro</td>\n",
       "      <td>#c67f1f</td>\n",
       "    </tr>\n",
       "    <tr>\n",
       "      <th>4</th>\n",
       "      <td>5</td>\n",
       "      <td>1_hour_break</td>\n",
       "      <td>6.897081e-192</td>\n",
       "      <td>pro</td>\n",
       "      <td>#c67f1f</td>\n",
       "    </tr>\n",
       "  </tbody>\n",
       "</table>\n",
       "</div>"
      ],
      "text/plain": [
       "   topic          term           beta procon    color\n",
       "0      1  1_hour_break  3.672673e-208    pro  #c67f1f\n",
       "1      2  1_hour_break  1.351000e-189    pro  #c67f1f\n",
       "2      3  1_hour_break  8.675901e-213    pro  #c67f1f\n",
       "3      4  1_hour_break  4.690151e-197    pro  #c67f1f\n",
       "4      5  1_hour_break  6.897081e-192    pro  #c67f1f"
      ]
     },
     "metadata": {},
     "output_type": "display_data"
    },
    {
     "data": {
      "text/html": [
       "<div>\n",
       "<style scoped>\n",
       "    .dataframe tbody tr th:only-of-type {\n",
       "        vertical-align: middle;\n",
       "    }\n",
       "\n",
       "    .dataframe tbody tr th {\n",
       "        vertical-align: top;\n",
       "    }\n",
       "\n",
       "    .dataframe thead th {\n",
       "        text-align: right;\n",
       "    }\n",
       "</style>\n",
       "<table border=\"1\" class=\"dataframe\">\n",
       "  <thead>\n",
       "    <tr style=\"text-align: right;\">\n",
       "      <th></th>\n",
       "      <th>topic</th>\n",
       "      <th>term</th>\n",
       "      <th>beta</th>\n",
       "      <th>procon</th>\n",
       "      <th>color</th>\n",
       "    </tr>\n",
       "  </thead>\n",
       "  <tbody>\n",
       "    <tr>\n",
       "      <th>0</th>\n",
       "      <td>1</td>\n",
       "      <td>’_care</td>\n",
       "      <td>8.624717e-100</td>\n",
       "      <td>con</td>\n",
       "      <td>#20e560</td>\n",
       "    </tr>\n",
       "    <tr>\n",
       "      <th>1</th>\n",
       "      <td>2</td>\n",
       "      <td>’_care</td>\n",
       "      <td>2.555270e-93</td>\n",
       "      <td>con</td>\n",
       "      <td>#20e560</td>\n",
       "    </tr>\n",
       "    <tr>\n",
       "      <th>2</th>\n",
       "      <td>3</td>\n",
       "      <td>’_care</td>\n",
       "      <td>1.219269e-114</td>\n",
       "      <td>con</td>\n",
       "      <td>#20e560</td>\n",
       "    </tr>\n",
       "    <tr>\n",
       "      <th>3</th>\n",
       "      <td>4</td>\n",
       "      <td>’_care</td>\n",
       "      <td>3.194975e-91</td>\n",
       "      <td>con</td>\n",
       "      <td>#20e560</td>\n",
       "    </tr>\n",
       "    <tr>\n",
       "      <th>4</th>\n",
       "      <td>5</td>\n",
       "      <td>’_care</td>\n",
       "      <td>7.375773e-119</td>\n",
       "      <td>con</td>\n",
       "      <td>#20e560</td>\n",
       "    </tr>\n",
       "  </tbody>\n",
       "</table>\n",
       "</div>"
      ],
      "text/plain": [
       "   topic    term           beta procon    color\n",
       "0      1  ’_care  8.624717e-100    con  #20e560\n",
       "1      2  ’_care   2.555270e-93    con  #20e560\n",
       "2      3  ’_care  1.219269e-114    con  #20e560\n",
       "3      4  ’_care   3.194975e-91    con  #20e560\n",
       "4      5  ’_care  7.375773e-119    con  #20e560"
      ]
     },
     "metadata": {},
     "output_type": "display_data"
    }
   ],
   "source": [
    "\n",
    "n = len(just_con)\n",
    "for i in range(1, num_topics_pro+1):\n",
    "    topic = np.full(n, i)\n",
    "    beta = np.full(n, 0)\n",
    "    df_temp = pd.DataFrame()\n",
    "    df_temp[\"topic\"] = topic\n",
    "    df_temp[\"term\"] = just_con\n",
    "    df_temp[\"beta\"] = beta\n",
    "    df_pro = pd.concat([df_pro, df_temp], ignore_index=True, sort=False)\n",
    "    \n",
    "n = len(just_pro)\n",
    "for i in range(1, num_topics_con+1):\n",
    "    topic = np.full(n, i)\n",
    "    beta = np.full(n, 0)\n",
    "    df_temp = pd.DataFrame()\n",
    "    df_temp[\"topic\"] = topic\n",
    "    df_temp[\"term\"] = just_pro\n",
    "    df_temp[\"beta\"] = beta\n",
    "    df_con = pd.concat([df_con, df_temp], ignore_index=True, sort=False)\n",
    "    \n",
    "    \n",
    "df_pro[\"procon\"] = \"pro\"\n",
    "df_pro[\"color\"] = \"#c67f1f\"\n",
    "df_con[\"procon\"] = \"con\"\n",
    "df_con[\"color\"] = \"#20e560\"\n",
    "\n",
    "display(df_pro.head())\n",
    "display(df_con.head())"
   ]
  },
  {
   "cell_type": "code",
   "execution_count": 63,
   "metadata": {},
   "outputs": [],
   "source": [
    "df = pd.concat([df_pro, df_con], ignore_index=True, sort=False)\n"
   ]
  },
  {
   "cell_type": "code",
   "execution_count": null,
   "metadata": {},
   "outputs": [],
   "source": []
  }
 ],
 "metadata": {
  "kernelspec": {
   "display_name": "Python 3",
   "language": "python",
   "name": "python3"
  },
  "language_info": {
   "codemirror_mode": {
    "name": "ipython",
    "version": 3
   },
   "file_extension": ".py",
   "mimetype": "text/x-python",
   "name": "python",
   "nbconvert_exporter": "python",
   "pygments_lexer": "ipython3",
   "version": "3.7.3"
  }
 },
 "nbformat": 4,
 "nbformat_minor": 2
}
