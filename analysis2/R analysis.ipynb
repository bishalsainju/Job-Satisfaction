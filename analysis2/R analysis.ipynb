{
 "cells": [
  {
   "cell_type": "code",
   "execution_count": 1,
   "metadata": {},
   "outputs": [],
   "source": [
    "import pandas as pd\n",
    "import seaborn as sns\n",
    "import numpy as np\n",
    "import matplotlib.pyplot as plt\n",
    "\n",
    "num_topics = 16"
   ]
  },
  {
   "cell_type": "code",
   "execution_count": 2,
   "metadata": {},
   "outputs": [],
   "source": [
    "path=f\"~/Desktop/R_js/data1/gamma/procon{num_topics}_gamma.csv\"\n",
    "df = pd.read_csv(path)\n"
   ]
  },
  {
   "cell_type": "code",
   "execution_count": 3,
   "metadata": {},
   "outputs": [
    {
     "data": {
      "text/html": [
       "<div>\n",
       "<style scoped>\n",
       "    .dataframe tbody tr th:only-of-type {\n",
       "        vertical-align: middle;\n",
       "    }\n",
       "\n",
       "    .dataframe tbody tr th {\n",
       "        vertical-align: top;\n",
       "    }\n",
       "\n",
       "    .dataframe thead th {\n",
       "        text-align: right;\n",
       "    }\n",
       "</style>\n",
       "<table border=\"1\" class=\"dataframe\">\n",
       "  <thead>\n",
       "    <tr style=\"text-align: right;\">\n",
       "      <th></th>\n",
       "      <th>document</th>\n",
       "      <th>topic</th>\n",
       "      <th>gamma</th>\n",
       "    </tr>\n",
       "  </thead>\n",
       "  <tbody>\n",
       "    <tr>\n",
       "      <th>0</th>\n",
       "      <td>1</td>\n",
       "      <td>1</td>\n",
       "      <td>0.009334</td>\n",
       "    </tr>\n",
       "    <tr>\n",
       "      <th>1</th>\n",
       "      <td>2</td>\n",
       "      <td>1</td>\n",
       "      <td>0.040223</td>\n",
       "    </tr>\n",
       "    <tr>\n",
       "      <th>2</th>\n",
       "      <td>3</td>\n",
       "      <td>1</td>\n",
       "      <td>0.022405</td>\n",
       "    </tr>\n",
       "    <tr>\n",
       "      <th>3</th>\n",
       "      <td>4</td>\n",
       "      <td>1</td>\n",
       "      <td>0.013671</td>\n",
       "    </tr>\n",
       "    <tr>\n",
       "      <th>4</th>\n",
       "      <td>5</td>\n",
       "      <td>1</td>\n",
       "      <td>0.024645</td>\n",
       "    </tr>\n",
       "  </tbody>\n",
       "</table>\n",
       "</div>"
      ],
      "text/plain": [
       "   document  topic     gamma\n",
       "0         1      1  0.009334\n",
       "1         2      1  0.040223\n",
       "2         3      1  0.022405\n",
       "3         4      1  0.013671\n",
       "4         5      1  0.024645"
      ]
     },
     "execution_count": 3,
     "metadata": {},
     "output_type": "execute_result"
    }
   ],
   "source": [
    "df.head()"
   ]
  },
  {
   "cell_type": "markdown",
   "metadata": {},
   "source": [
    "# Gamma Distribution"
   ]
  },
  {
   "cell_type": "code",
   "execution_count": 4,
   "metadata": {},
   "outputs": [
    {
     "data": {
      "text/plain": [
       "<matplotlib.axes._subplots.AxesSubplot at 0x10b689250>"
      ]
     },
     "execution_count": 4,
     "metadata": {},
     "output_type": "execute_result"
    },
    {
     "data": {
      "image/png": "[encoded data removed]",
      "text/plain": [
       "<Figure size 432x288 with 1 Axes>"
      ]
     },
     "metadata": {
      "needs_background": "light"
     },
     "output_type": "display_data"
    }
   ],
   "source": [
    "sns.distplot(df[df.topic==14]['gamma'])"
   ]
  },
  {
   "cell_type": "code",
   "execution_count": 5,
   "metadata": {},
   "outputs": [
    {
     "data": {
      "text/plain": [
       "<matplotlib.axes._subplots.AxesSubplot at 0x10afa4490>"
      ]
     },
     "execution_count": 5,
     "metadata": {},
     "output_type": "execute_result"
    },
    {
     "data": {
      "image/png": "[encoded data removed]",
      "text/plain": [
       "<Figure size 432x288 with 1 Axes>"
      ]
     },
     "metadata": {
      "needs_background": "light"
     },
     "output_type": "display_data"
    }
   ],
   "source": [
    "doc = 160\n",
    "sns.barplot(df[df.document == doc]['topic'], df[df.document == doc]['gamma'])"
   ]
  },
  {
   "cell_type": "markdown",
   "metadata": {},
   "source": [
    "# Topic Proportions"
   ]
  },
  {
   "cell_type": "code",
   "execution_count": 6,
   "metadata": {},
   "outputs": [
    {
     "data": {
      "text/html": [
       "<div>\n",
       "<style scoped>\n",
       "    .dataframe tbody tr th:only-of-type {\n",
       "        vertical-align: middle;\n",
       "    }\n",
       "\n",
       "    .dataframe tbody tr th {\n",
       "        vertical-align: top;\n",
       "    }\n",
       "\n",
       "    .dataframe thead th {\n",
       "        text-align: right;\n",
       "    }\n",
       "</style>\n",
       "<table border=\"1\" class=\"dataframe\">\n",
       "  <thead>\n",
       "    <tr style=\"text-align: right;\">\n",
       "      <th></th>\n",
       "      <th>topic_num</th>\n",
       "      <th>topic_prop</th>\n",
       "    </tr>\n",
       "  </thead>\n",
       "  <tbody>\n",
       "    <tr>\n",
       "      <th>0</th>\n",
       "      <td>1</td>\n",
       "      <td>0.069327</td>\n",
       "    </tr>\n",
       "    <tr>\n",
       "      <th>1</th>\n",
       "      <td>2</td>\n",
       "      <td>0.041563</td>\n",
       "    </tr>\n",
       "    <tr>\n",
       "      <th>2</th>\n",
       "      <td>3</td>\n",
       "      <td>0.082624</td>\n",
       "    </tr>\n",
       "    <tr>\n",
       "      <th>3</th>\n",
       "      <td>4</td>\n",
       "      <td>0.058762</td>\n",
       "    </tr>\n",
       "    <tr>\n",
       "      <th>4</th>\n",
       "      <td>5</td>\n",
       "      <td>0.054892</td>\n",
       "    </tr>\n",
       "  </tbody>\n",
       "</table>\n",
       "</div>"
      ],
      "text/plain": [
       "  topic_num  topic_prop\n",
       "0         1    0.069327\n",
       "1         2    0.041563\n",
       "2         3    0.082624\n",
       "3         4    0.058762\n",
       "4         5    0.054892"
      ]
     },
     "execution_count": 6,
     "metadata": {},
     "output_type": "execute_result"
    }
   ],
   "source": [
    "# df[df.topic == 6]['gamma'].mean()\n",
    "\n",
    "\n",
    "props = []\n",
    "for i in range(num_topics):\n",
    "    props.append([str(i+1), df[df.topic == i+1]['gamma'].mean()])\n",
    "\n",
    "df_prop = pd.DataFrame(props, columns = [\"topic_num\", \"topic_prop\"])\n",
    "df_prop.head()"
   ]
  },
  {
   "cell_type": "code",
   "execution_count": 7,
   "metadata": {},
   "outputs": [
    {
     "data": {
      "image/png": "[encoded data removed]",
      "text/plain": [
       "<Figure size 576x432 with 1 Axes>"
      ]
     },
     "metadata": {
      "needs_background": "light"
     },
     "output_type": "display_data"
    }
   ],
   "source": [
    "\n",
    "plt.figure(figsize=(8,6))\n",
    "df_prop = df_prop.sort_values(by=\"topic_prop\", ascending=True)\n",
    "plt.barh(df_prop[\"topic_num\"], df_prop[\"topic_prop\"])\n",
    "plt.xlabel('topic_prop')\n",
    "plt.ylabel('topic_num')\n",
    "plt.title('Topic Proportion')\n",
    "plt.show()"
   ]
  },
  {
   "cell_type": "markdown",
   "metadata": {},
   "source": [
    "# Topic Word Distribution"
   ]
  },
  {
   "cell_type": "code",
   "execution_count": 8,
   "metadata": {},
   "outputs": [
    {
     "data": {
      "text/html": [
       "<div>\n",
       "<style scoped>\n",
       "    .dataframe tbody tr th:only-of-type {\n",
       "        vertical-align: middle;\n",
       "    }\n",
       "\n",
       "    .dataframe tbody tr th {\n",
       "        vertical-align: top;\n",
       "    }\n",
       "\n",
       "    .dataframe thead th {\n",
       "        text-align: right;\n",
       "    }\n",
       "</style>\n",
       "<table border=\"1\" class=\"dataframe\">\n",
       "  <thead>\n",
       "    <tr style=\"text-align: right;\">\n",
       "      <th></th>\n",
       "      <th>topic</th>\n",
       "      <th>term</th>\n",
       "      <th>beta</th>\n",
       "    </tr>\n",
       "  </thead>\n",
       "  <tbody>\n",
       "    <tr>\n",
       "      <th>0</th>\n",
       "      <td>1</td>\n",
       "      <td>’_care</td>\n",
       "      <td>9.819446e-104</td>\n",
       "    </tr>\n",
       "    <tr>\n",
       "      <th>1</th>\n",
       "      <td>2</td>\n",
       "      <td>’_care</td>\n",
       "      <td>1.292321e-95</td>\n",
       "    </tr>\n",
       "    <tr>\n",
       "      <th>2</th>\n",
       "      <td>3</td>\n",
       "      <td>’_care</td>\n",
       "      <td>5.657391e-274</td>\n",
       "    </tr>\n",
       "    <tr>\n",
       "      <th>3</th>\n",
       "      <td>4</td>\n",
       "      <td>’_care</td>\n",
       "      <td>2.442556e-151</td>\n",
       "    </tr>\n",
       "    <tr>\n",
       "      <th>4</th>\n",
       "      <td>5</td>\n",
       "      <td>’_care</td>\n",
       "      <td>2.576796e-188</td>\n",
       "    </tr>\n",
       "  </tbody>\n",
       "</table>\n",
       "</div>"
      ],
      "text/plain": [
       "   topic    term           beta\n",
       "0      1  ’_care  9.819446e-104\n",
       "1      2  ’_care   1.292321e-95\n",
       "2      3  ’_care  5.657391e-274\n",
       "3      4  ’_care  2.442556e-151\n",
       "4      5  ’_care  2.576796e-188"
      ]
     },
     "execution_count": 8,
     "metadata": {},
     "output_type": "execute_result"
    }
   ],
   "source": [
    "path=f\"~/Desktop/R_js/data1/beta/procon{num_topics}_beta.csv\"\n",
    "df_beta = pd.read_csv(path)\n",
    "df_beta.head()"
   ]
  },
  {
   "cell_type": "code",
   "execution_count": 9,
   "metadata": {},
   "outputs": [],
   "source": [
    "df_prune = df_beta[df_beta.topic == 1].sort_values(by=\"beta\", ascending=False)[:10]"
   ]
  },
  {
   "cell_type": "code",
   "execution_count": 10,
   "metadata": {},
   "outputs": [
    {
     "data": {
      "image/png": "[encoded data removed]",
      "text/plain": [
       "<Figure size 432x288 with 1 Axes>"
      ]
     },
     "metadata": {
      "needs_background": "light"
     },
     "output_type": "display_data"
    }
   ],
   "source": [
    "sns.barplot(x = \"term\", y = \"beta\", data = df_prune)\n",
    "plt.show()"
   ]
  },
  {
   "cell_type": "code",
   "execution_count": 11,
   "metadata": {},
   "outputs": [],
   "source": [
    "df = df_beta.copy()\n",
    "\n",
    "topic_word_distr = []\n",
    "imp_words = []\n",
    "imp_word_prob = []\n",
    "terms = df[df.topic == 1].term.values.tolist()\n",
    "\n",
    "num_topics = len(df.topic.unique())\n",
    "for i in range(1, num_topics+1):\n",
    "    topic = df[df.topic == i] \n",
    "    vals = topic.beta.values.tolist()\n",
    "    topic_word_distr += [np.asarray(vals)]\n",
    "    words = [terms[i] for i in np.asarray(vals).argsort()[-10:][::-1].tolist()]\n",
    "    word_prob = [np.round(vals[i], 2) for i in np.asarray(vals).argsort()[-10:][::-1].tolist()]\n",
    "    imp_words.append(words)\n",
    "    imp_word_prob.append(word_prob)\n",
    "    \n",
    "# print(len(topic_word_distr))\n",
    "# print(len(imp_words))\n",
    "\n",
    "# print(imp_words)\n",
    "# print(imp_word_prob)"
   ]
  },
  {
   "cell_type": "code",
   "execution_count": 12,
   "metadata": {},
   "outputs": [
    {
     "data": {
      "image/png": "[encoded data removed]",
      "text/plain": [
       "<Figure size 432x288 with 1 Axes>"
      ]
     },
     "metadata": {
      "needs_background": "light"
     },
     "output_type": "display_data"
    }
   ],
   "source": [
    "import seaborn as sns\n",
    "import matplotlib.pyplot as plt\n",
    "\n",
    "sns.barplot(imp_words[0], imp_word_prob[0])\n",
    "plt.show()"
   ]
  },
  {
   "cell_type": "code",
   "execution_count": 14,
   "metadata": {},
   "outputs": [
    {
     "data": {
      "text/html": [
       "\n",
       "    <div class=\"bk-root\">\n",
       "        <a href=\"https://bokeh.org\" target=\"_blank\" class=\"bk-logo bk-logo-small bk-logo-notebook\"></a>\n",
       "        <span id=\"1001\">Loading BokehJS ...</span>\n",
       "    </div>"
      ]
     },
     "metadata": {},
     "output_type": "display_data"
    },
    {
     "data": {
      "application/javascript": [
       "\n",
       "(function(root) {\n",
       "  function now() {\n",
       "    return new Date();\n",
       "  }\n",
       "\n",
       "  var force = true;\n",
       "\n",
       "  if (typeof root._bokeh_onload_callbacks === \"undefined\" || force === true) {\n",
       "    root._bokeh_onload_callbacks = [];\n",
       "    root._bokeh_is_loading = undefined;\n",
       "  }\n",
       "\n",
       "  var JS_MIME_TYPE = 'application/javascript';\n",
       "  var HTML_MIME_TYPE = 'text/html';\n",
       "  var EXEC_MIME_TYPE = 'application/vnd.bokehjs_exec.v0+json';\n",
       "  var CLASS_NAME = 'output_bokeh rendered_html';\n",
       "\n",
       "  /**\n",
       "   * Render data to the DOM node\n",
       "   */\n",
       "  function render(props, node) {\n",
       "    var script = document.createElement(\"script\");\n",
       "    node.appendChild(script);\n",
       "  }\n",
       "\n",
       "  /**\n",
       "   * Handle when an output is cleared or removed\n",
       "   */\n",
       "  function handleClearOutput(event, handle) {\n",
       "    var cell = handle.cell;\n",
       "\n",
       "    var id = cell.output_area._bokeh_element_id;\n",
       "    var server_id = cell.output_area._bokeh_server_id;\n",
       "    // Clean up Bokeh references\n",
       "    if (id != null && id in Bokeh.index) {\n",
       "      Bokeh.index[id].model.document.clear();\n",
       "      delete Bokeh.index[id];\n",
       "    }\n",
       "\n",
       "    if (server_id !== undefined) {\n",
       "      // Clean up Bokeh references\n",
       "      var cmd = \"from bokeh.io.state import curstate; print(curstate().uuid_to_server['\" + server_id + \"'].get_sessions()[0].document.roots[0]._id)\";\n",
       "      cell.notebook.kernel.execute(cmd, {\n",
       "        iopub: {\n",
       "          output: function(msg) {\n",
       "            var id = msg.content.text.trim();\n",
       "            if (id in Bokeh.index) {\n",
       "              Bokeh.index[id].model.document.clear();\n",
       "              delete Bokeh.index[id];\n",
       "            }\n",
       "          }\n",
       "        }\n",
       "      });\n",
       "      // Destroy server and session\n",
       "      var cmd = \"import bokeh.io.notebook as ion; ion.destroy_server('\" + server_id + \"')\";\n",
       "      cell.notebook.kernel.execute(cmd);\n",
       "    }\n",
       "  }\n",
       "\n",
       "  /**\n",
       "   * Handle when a new output is added\n",
       "   */\n",
       "  function handleAddOutput(event, handle) {\n",
       "    var output_area = handle.output_area;\n",
       "    var output = handle.output;\n",
       "\n",
       "    // limit handleAddOutput to display_data with EXEC_MIME_TYPE content only\n",
       "    if ((output.output_type != \"display_data\") || (!output.data.hasOwnProperty(EXEC_MIME_TYPE))) {\n",
       "      return\n",
       "    }\n",
       "\n",
       "    var toinsert = output_area.element.find(\".\" + CLASS_NAME.split(' ')[0]);\n",
       "\n",
       "    if (output.metadata[EXEC_MIME_TYPE][\"id\"] !== undefined) {\n",
       "      toinsert[toinsert.length - 1].firstChild.textContent = output.data[JS_MIME_TYPE];\n",
       "      // store reference to embed id on output_area\n",
       "      output_area._bokeh_element_id = output.metadata[EXEC_MIME_TYPE][\"id\"];\n",
       "    }\n",
       "    if (output.metadata[EXEC_MIME_TYPE][\"server_id\"] !== undefined) {\n",
       "      var bk_div = document.createElement(\"div\");\n",
       "      bk_div.innerHTML = output.data[HTML_MIME_TYPE];\n",
       "      var script_attrs = bk_div.children[0].attributes;\n",
       "      for (var i = 0; i < script_attrs.length; i++) {\n",
       "        toinsert[toinsert.length - 1].firstChild.setAttribute(script_attrs[i].name, script_attrs[i].value);\n",
       "      }\n",
       "      // store reference to server id on output_area\n",
       "      output_area._bokeh_server_id = output.metadata[EXEC_MIME_TYPE][\"server_id\"];\n",
       "    }\n",
       "  }\n",
       "\n",
       "  function register_renderer(events, OutputArea) {\n",
       "\n",
       "    function append_mime(data, metadata, element) {\n",
       "      // create a DOM node to render to\n",
       "      var toinsert = this.create_output_subarea(\n",
       "        metadata,\n",
       "        CLASS_NAME,\n",
       "        EXEC_MIME_TYPE\n",
       "      );\n",
       "      this.keyboard_manager.register_events(toinsert);\n",
       "      // Render to node\n",
       "      var props = {data: data, metadata: metadata[EXEC_MIME_TYPE]};\n",
       "      render(props, toinsert[toinsert.length - 1]);\n",
       "      element.append(toinsert);\n",
       "      return toinsert\n",
       "    }\n",
       "\n",
       "    /* Handle when an output is cleared or removed */\n",
       "    events.on('clear_output.CodeCell', handleClearOutput);\n",
       "    events.on('delete.Cell', handleClearOutput);\n",
       "\n",
       "    /* Handle when a new output is added */\n",
       "    events.on('output_added.OutputArea', handleAddOutput);\n",
       "\n",
       "    /**\n",
       "     * Register the mime type and append_mime function with output_area\n",
       "     */\n",
       "    OutputArea.prototype.register_mime_type(EXEC_MIME_TYPE, append_mime, {\n",
       "      /* Is output safe? */\n",
       "      safe: true,\n",
       "      /* Index of renderer in `output_area.display_order` */\n",
       "      index: 0\n",
       "    });\n",
       "  }\n",
       "\n",
       "  // register the mime type if in Jupyter Notebook environment and previously unregistered\n",
       "  if (root.Jupyter !== undefined) {\n",
       "    var events = require('base/js/events');\n",
       "    var OutputArea = require('notebook/js/outputarea').OutputArea;\n",
       "\n",
       "    if (OutputArea.prototype.mime_types().indexOf(EXEC_MIME_TYPE) == -1) {\n",
       "      register_renderer(events, OutputArea);\n",
       "    }\n",
       "  }\n",
       "\n",
       "  \n",
       "  if (typeof (root._bokeh_timeout) === \"undefined\" || force === true) {\n",
       "    root._bokeh_timeout = Date.now() + 5000;\n",
       "    root._bokeh_failed_load = false;\n",
       "  }\n",
       "\n",
       "  var NB_LOAD_WARNING = {'data': {'text/html':\n",
       "     \"<div style='background-color: #fdd'>\\n\"+\n",
       "     \"<p>\\n\"+\n",
       "     \"BokehJS does not appear to have successfully loaded. If loading BokehJS from CDN, this \\n\"+\n",
       "     \"may be due to a slow or bad network connection. Possible fixes:\\n\"+\n",
       "     \"</p>\\n\"+\n",
       "     \"<ul>\\n\"+\n",
       "     \"<li>re-rerun `output_notebook()` to attempt to load from CDN again, or</li>\\n\"+\n",
       "     \"<li>use INLINE resources instead, as so:</li>\\n\"+\n",
       "     \"</ul>\\n\"+\n",
       "     \"<code>\\n\"+\n",
       "     \"from bokeh.resources import INLINE\\n\"+\n",
       "     \"output_notebook(resources=INLINE)\\n\"+\n",
       "     \"</code>\\n\"+\n",
       "     \"</div>\"}};\n",
       "\n",
       "  function display_loaded() {\n",
       "    var el = document.getElementById(\"1001\");\n",
       "    if (el != null) {\n",
       "      el.textContent = \"BokehJS is loading...\";\n",
       "    }\n",
       "    if (root.Bokeh !== undefined) {\n",
       "      if (el != null) {\n",
       "        el.textContent = \"BokehJS \" + root.Bokeh.version + \" successfully loaded.\";\n",
       "      }\n",
       "    } else if (Date.now() < root._bokeh_timeout) {\n",
       "      setTimeout(display_loaded, 100)\n",
       "    }\n",
       "  }\n",
       "\n",
       "\n",
       "  function run_callbacks() {\n",
       "    try {\n",
       "      root._bokeh_onload_callbacks.forEach(function(callback) {\n",
       "        if (callback != null)\n",
       "          callback();\n",
       "      });\n",
       "    } finally {\n",
       "      delete root._bokeh_onload_callbacks\n",
       "    }\n",
       "    console.debug(\"Bokeh: all callbacks have finished\");\n",
       "  }\n",
       "\n",
       "  function load_libs(css_urls, js_urls, callback) {\n",
       "    if (css_urls == null) css_urls = [];\n",
       "    if (js_urls == null) js_urls = [];\n",
       "\n",
       "    root._bokeh_onload_callbacks.push(callback);\n",
       "    if (root._bokeh_is_loading > 0) {\n",
       "      console.debug(\"Bokeh: BokehJS is being loaded, scheduling callback at\", now());\n",
       "      return null;\n",
       "    }\n",
       "    if (js_urls == null || js_urls.length === 0) {\n",
       "      run_callbacks();\n",
       "      return null;\n",
       "    }\n",
       "    console.debug(\"Bokeh: BokehJS not loaded, scheduling load and callback at\", now());\n",
       "    root._bokeh_is_loading = css_urls.length + js_urls.length;\n",
       "\n",
       "    function on_load() {\n",
       "      root._bokeh_is_loading--;\n",
       "      if (root._bokeh_is_loading === 0) {\n",
       "        console.debug(\"Bokeh: all BokehJS libraries/stylesheets loaded\");\n",
       "        run_callbacks()\n",
       "      }\n",
       "    }\n",
       "\n",
       "    function on_error() {\n",
       "      console.error(\"failed to load \" + url);\n",
       "    }\n",
       "\n",
       "    for (var i = 0; i < css_urls.length; i++) {\n",
       "      var url = css_urls[i];\n",
       "      const element = document.createElement(\"link\");\n",
       "      element.onload = on_load;\n",
       "      element.onerror = on_error;\n",
       "      element.rel = \"stylesheet\";\n",
       "      element.type = \"text/css\";\n",
       "      element.href = url;\n",
       "      console.debug(\"Bokeh: injecting link tag for BokehJS stylesheet: \", url);\n",
       "      document.body.appendChild(element);\n",
       "    }\n",
       "\n",
       "    for (var i = 0; i < js_urls.length; i++) {\n",
       "      var url = js_urls[i];\n",
       "      var element = document.createElement('script');\n",
       "      element.onload = on_load;\n",
       "      element.onerror = on_error;\n",
       "      element.async = false;\n",
       "      element.src = url;\n",
       "      console.debug(\"Bokeh: injecting script tag for BokehJS library: \", url);\n",
       "      document.head.appendChild(element);\n",
       "    }\n",
       "  };var element = document.getElementById(\"1001\");\n",
       "  if (element == null) {\n",
       "    console.error(\"Bokeh: ERROR: autoload.js configured with elementid '1001' but no matching script tag was found. \")\n",
       "    return false;\n",
       "  }\n",
       "\n",
       "  function inject_raw_css(css) {\n",
       "    const element = document.createElement(\"style\");\n",
       "    element.appendChild(document.createTextNode(css));\n",
       "    document.body.appendChild(element);\n",
       "  }\n",
       "\n",
       "  \n",
       "  var js_urls = [\"https://cdn.pydata.org/bokeh/release/bokeh-1.4.0.min.js\", \"https://cdn.pydata.org/bokeh/release/bokeh-widgets-1.4.0.min.js\", \"https://cdn.pydata.org/bokeh/release/bokeh-tables-1.4.0.min.js\", \"https://cdn.pydata.org/bokeh/release/bokeh-gl-1.4.0.min.js\"];\n",
       "  var css_urls = [];\n",
       "  \n",
       "\n",
       "  var inline_js = [\n",
       "    function(Bokeh) {\n",
       "      Bokeh.set_log_level(\"info\");\n",
       "    },\n",
       "    function(Bokeh) {\n",
       "    \n",
       "    \n",
       "    }\n",
       "  ];\n",
       "\n",
       "  function run_inline_js() {\n",
       "    \n",
       "    if (root.Bokeh !== undefined || force === true) {\n",
       "      \n",
       "    for (var i = 0; i < inline_js.length; i++) {\n",
       "      inline_js[i].call(root, root.Bokeh);\n",
       "    }\n",
       "    if (force === true) {\n",
       "        display_loaded();\n",
       "      }} else if (Date.now() < root._bokeh_timeout) {\n",
       "      setTimeout(run_inline_js, 100);\n",
       "    } else if (!root._bokeh_failed_load) {\n",
       "      console.log(\"Bokeh: BokehJS failed to load within specified timeout.\");\n",
       "      root._bokeh_failed_load = true;\n",
       "    } else if (force !== true) {\n",
       "      var cell = $(document.getElementById(\"1001\")).parents('.cell').data().cell;\n",
       "      cell.output_area.append_execute_result(NB_LOAD_WARNING)\n",
       "    }\n",
       "\n",
       "  }\n",
       "\n",
       "  if (root._bokeh_is_loading === 0) {\n",
       "    console.debug(\"Bokeh: BokehJS loaded, going straight to plotting\");\n",
       "    run_inline_js();\n",
       "  } else {\n",
       "    load_libs(css_urls, js_urls, function() {\n",
       "      console.debug(\"Bokeh: BokehJS plotting callback run at\", now());\n",
       "      run_inline_js();\n",
       "    });\n",
       "  }\n",
       "}(window));"
      ],
      "application/vnd.bokehjs_load.v0+json": "\n(function(root) {\n  function now() {\n    return new Date();\n  }\n\n  var force = true;\n\n  if (typeof root._bokeh_onload_callbacks === \"undefined\" || force === true) {\n    root._bokeh_onload_callbacks = [];\n    root._bokeh_is_loading = undefined;\n  }\n\n  \n\n  \n  if (typeof (root._bokeh_timeout) === \"undefined\" || force === true) {\n    root._bokeh_timeout = Date.now() + 5000;\n    root._bokeh_failed_load = false;\n  }\n\n  var NB_LOAD_WARNING = {'data': {'text/html':\n     \"<div style='background-color: #fdd'>\\n\"+\n     \"<p>\\n\"+\n     \"BokehJS does not appear to have successfully loaded. If loading BokehJS from CDN, this \\n\"+\n     \"may be due to a slow or bad network connection. Possible fixes:\\n\"+\n     \"</p>\\n\"+\n     \"<ul>\\n\"+\n     \"<li>re-rerun `output_notebook()` to attempt to load from CDN again, or</li>\\n\"+\n     \"<li>use INLINE resources instead, as so:</li>\\n\"+\n     \"</ul>\\n\"+\n     \"<code>\\n\"+\n     \"from bokeh.resources import INLINE\\n\"+\n     \"output_notebook(resources=INLINE)\\n\"+\n     \"</code>\\n\"+\n     \"</div>\"}};\n\n  function display_loaded() {\n    var el = document.getElementById(\"1001\");\n    if (el != null) {\n      el.textContent = \"BokehJS is loading...\";\n    }\n    if (root.Bokeh !== undefined) {\n      if (el != null) {\n        el.textContent = \"BokehJS \" + root.Bokeh.version + \" successfully loaded.\";\n      }\n    } else if (Date.now() < root._bokeh_timeout) {\n      setTimeout(display_loaded, 100)\n    }\n  }\n\n\n  function run_callbacks() {\n    try {\n      root._bokeh_onload_callbacks.forEach(function(callback) {\n        if (callback != null)\n          callback();\n      });\n    } finally {\n      delete root._bokeh_onload_callbacks\n    }\n    console.debug(\"Bokeh: all callbacks have finished\");\n  }\n\n  function load_libs(css_urls, js_urls, callback) {\n    if (css_urls == null) css_urls = [];\n    if (js_urls == null) js_urls = [];\n\n    root._bokeh_onload_callbacks.push(callback);\n    if (root._bokeh_is_loading > 0) {\n      console.debug(\"Bokeh: BokehJS is being loaded, scheduling callback at\", now());\n      return null;\n    }\n    if (js_urls == null || js_urls.length === 0) {\n      run_callbacks();\n      return null;\n    }\n    console.debug(\"Bokeh: BokehJS not loaded, scheduling load and callback at\", now());\n    root._bokeh_is_loading = css_urls.length + js_urls.length;\n\n    function on_load() {\n      root._bokeh_is_loading--;\n      if (root._bokeh_is_loading === 0) {\n        console.debug(\"Bokeh: all BokehJS libraries/stylesheets loaded\");\n        run_callbacks()\n      }\n    }\n\n    function on_error() {\n      console.error(\"failed to load \" + url);\n    }\n\n    for (var i = 0; i < css_urls.length; i++) {\n      var url = css_urls[i];\n      const element = document.createElement(\"link\");\n      element.onload = on_load;\n      element.onerror = on_error;\n      element.rel = \"stylesheet\";\n      element.type = \"text/css\";\n      element.href = url;\n      console.debug(\"Bokeh: injecting link tag for BokehJS stylesheet: \", url);\n      document.body.appendChild(element);\n    }\n\n    for (var i = 0; i < js_urls.length; i++) {\n      var url = js_urls[i];\n      var element = document.createElement('script');\n      element.onload = on_load;\n      element.onerror = on_error;\n      element.async = false;\n      element.src = url;\n      console.debug(\"Bokeh: injecting script tag for BokehJS library: \", url);\n      document.head.appendChild(element);\n    }\n  };var element = document.getElementById(\"1001\");\n  if (element == null) {\n    console.error(\"Bokeh: ERROR: autoload.js configured with elementid '1001' but no matching script tag was found. \")\n    return false;\n  }\n\n  function inject_raw_css(css) {\n    const element = document.createElement(\"style\");\n    element.appendChild(document.createTextNode(css));\n    document.body.appendChild(element);\n  }\n\n  \n  var js_urls = [\"https://cdn.pydata.org/bokeh/release/bokeh-1.4.0.min.js\", \"https://cdn.pydata.org/bokeh/release/bokeh-widgets-1.4.0.min.js\", \"https://cdn.pydata.org/bokeh/release/bokeh-tables-1.4.0.min.js\", \"https://cdn.pydata.org/bokeh/release/bokeh-gl-1.4.0.min.js\"];\n  var css_urls = [];\n  \n\n  var inline_js = [\n    function(Bokeh) {\n      Bokeh.set_log_level(\"info\");\n    },\n    function(Bokeh) {\n    \n    \n    }\n  ];\n\n  function run_inline_js() {\n    \n    if (root.Bokeh !== undefined || force === true) {\n      \n    for (var i = 0; i < inline_js.length; i++) {\n      inline_js[i].call(root, root.Bokeh);\n    }\n    if (force === true) {\n        display_loaded();\n      }} else if (Date.now() < root._bokeh_timeout) {\n      setTimeout(run_inline_js, 100);\n    } else if (!root._bokeh_failed_load) {\n      console.log(\"Bokeh: BokehJS failed to load within specified timeout.\");\n      root._bokeh_failed_load = true;\n    } else if (force !== true) {\n      var cell = $(document.getElementById(\"1001\")).parents('.cell').data().cell;\n      cell.output_area.append_execute_result(NB_LOAD_WARNING)\n    }\n\n  }\n\n  if (root._bokeh_is_loading === 0) {\n    console.debug(\"Bokeh: BokehJS loaded, going straight to plotting\");\n    run_inline_js();\n  } else {\n    load_libs(css_urls, js_urls, function() {\n      console.debug(\"Bokeh: BokehJS plotting callback run at\", now());\n      run_inline_js();\n    });\n  }\n}(window));"
     },
     "metadata": {},
     "output_type": "display_data"
    }
   ],
   "source": [
    "from bokeh.plotting import figure, show, output_notebook, save, output_file\n",
    "from bokeh.models import HoverTool, value, LabelSet, Legend, ColumnDataSource\n",
    "from bokeh.io import export_png\n",
    "output_notebook()"
   ]
  },
  {
   "cell_type": "code",
   "execution_count": 15,
   "metadata": {},
   "outputs": [
    {
     "data": {
      "text/html": [
       "\n",
       "\n",
       "\n",
       "\n",
       "\n",
       "\n",
       "  <div class=\"bk-root\" id=\"f67e9fca-3c40-444b-a671-c45faaeaee9c\" data-root-id=\"1003\"></div>\n"
      ]
     },
     "metadata": {},
     "output_type": "display_data"
    },
    {
     "data": {
      "application/javascript": [
       "(function(root) {\n",
       "  function embed_document(root) {\n",
       "    \n",
       "  var docs_json = {\"23a26ab3-20ec-42f9-b2e8-d9cdf8f8ef88\":{\"roots\":{\"references\":[{\"attributes\":{\"below\":[{\"id\":\"1014\",\"type\":\"CategoricalAxis\"}],\"center\":[{\"id\":\"1017\",\"type\":\"Grid\"},{\"id\":\"1022\",\"type\":\"Grid\"}],\"left\":[{\"id\":\"1018\",\"type\":\"LinearAxis\"}],\"plot_height\":250,\"plot_width\":400,\"renderers\":[{\"id\":\"1029\",\"type\":\"GlyphRenderer\"}],\"title\":{\"id\":\"1004\",\"type\":\"Title\"},\"toolbar\":{\"id\":\"1024\",\"type\":\"Toolbar\"},\"toolbar_location\":null,\"x_range\":{\"id\":\"1006\",\"type\":\"FactorRange\"},\"x_scale\":{\"id\":\"1010\",\"type\":\"CategoricalScale\"},\"y_range\":{\"id\":\"1008\",\"type\":\"DataRange1d\"},\"y_scale\":{\"id\":\"1012\",\"type\":\"LinearScale\"}},\"id\":\"1003\",\"subtype\":\"Figure\",\"type\":\"Plot\"},{\"attributes\":{\"callback\":null},\"id\":\"1008\",\"type\":\"DataRange1d\"},{\"attributes\":{\"dimension\":1,\"ticker\":{\"id\":\"1019\",\"type\":\"BasicTicker\"}},\"id\":\"1022\",\"type\":\"Grid\"},{\"attributes\":{},\"id\":\"1012\",\"type\":\"LinearScale\"},{\"attributes\":{},\"id\":\"1010\",\"type\":\"CategoricalScale\"},{\"attributes\":{\"data_source\":{\"id\":\"1002\",\"type\":\"ColumnDataSource\"},\"glyph\":{\"id\":\"1027\",\"type\":\"VBar\"},\"hover_glyph\":null,\"muted_glyph\":null,\"nonselection_glyph\":{\"id\":\"1028\",\"type\":\"VBar\"},\"selection_glyph\":null,\"view\":{\"id\":\"1030\",\"type\":\"CDSView\"}},\"id\":\"1029\",\"type\":\"GlyphRenderer\"},{\"attributes\":{\"fill_color\":{\"value\":\"#1f77b4\"},\"line_color\":{\"value\":\"#1f77b4\"},\"top\":{\"field\":\"top\"},\"width\":{\"value\":0.8},\"x\":{\"field\":\"x\"}},\"id\":\"1027\",\"type\":\"VBar\"},{\"attributes\":{\"formatter\":{\"id\":\"1033\",\"type\":\"CategoricalTickFormatter\"},\"major_label_orientation\":1.5707963267948966,\"ticker\":{\"id\":\"1015\",\"type\":\"CategoricalTicker\"}},\"id\":\"1014\",\"type\":\"CategoricalAxis\"},{\"attributes\":{},\"id\":\"1015\",\"type\":\"CategoricalTicker\"},{\"attributes\":{},\"id\":\"1037\",\"type\":\"Selection\"},{\"attributes\":{\"callback\":null,\"tooltips\":[[\"Prob\",\"@top\"]]},\"id\":\"1023\",\"type\":\"HoverTool\"},{\"attributes\":{},\"id\":\"1033\",\"type\":\"CategoricalTickFormatter\"},{\"attributes\":{\"callback\":null,\"factors\":[\"advanc\",\"opportun\",\"stress\",\"littl\",\"career\",\"support\",\"limit\",\"leadership\",\"expect\",\"upper\"]},\"id\":\"1006\",\"type\":\"FactorRange\"},{\"attributes\":{\"fill_alpha\":{\"value\":0.1},\"fill_color\":{\"value\":\"#1f77b4\"},\"line_alpha\":{\"value\":0.1},\"line_color\":{\"value\":\"#1f77b4\"},\"top\":{\"field\":\"top\"},\"width\":{\"value\":0.8},\"x\":{\"field\":\"x\"}},\"id\":\"1028\",\"type\":\"VBar\"},{\"attributes\":{\"callback\":null,\"data\":{\"top\":{\"__ndarray__\":\"KVyPwvUovD8K16NwPQq3P5qZmZmZmak/exSuR+F6pD+4HoXrUbieP7gehetRuJ4/exSuR+F6lD97FK5H4XqUP3sUrkfhepQ/exSuR+F6lD8=\",\"dtype\":\"float64\",\"shape\":[10]},\"x\":[\"advanc\",\"opportun\",\"stress\",\"littl\",\"career\",\"support\",\"limit\",\"leadership\",\"expect\",\"upper\"]},\"selected\":{\"id\":\"1037\",\"type\":\"Selection\"},\"selection_policy\":{\"id\":\"1036\",\"type\":\"UnionRenderers\"}},\"id\":\"1002\",\"type\":\"ColumnDataSource\"},{\"attributes\":{\"source\":{\"id\":\"1002\",\"type\":\"ColumnDataSource\"}},\"id\":\"1030\",\"type\":\"CDSView\"},{\"attributes\":{},\"id\":\"1035\",\"type\":\"BasicTickFormatter\"},{\"attributes\":{},\"id\":\"1036\",\"type\":\"UnionRenderers\"},{\"attributes\":{\"ticker\":{\"id\":\"1015\",\"type\":\"CategoricalTicker\"}},\"id\":\"1017\",\"type\":\"Grid\"},{\"attributes\":{\"formatter\":{\"id\":\"1035\",\"type\":\"BasicTickFormatter\"},\"ticker\":{\"id\":\"1019\",\"type\":\"BasicTicker\"}},\"id\":\"1018\",\"type\":\"LinearAxis\"},{\"attributes\":{},\"id\":\"1019\",\"type\":\"BasicTicker\"},{\"attributes\":{\"text\":\"Top Ten Words\"},\"id\":\"1004\",\"type\":\"Title\"},{\"attributes\":{\"active_drag\":\"auto\",\"active_inspect\":\"auto\",\"active_multi\":null,\"active_scroll\":\"auto\",\"active_tap\":\"auto\",\"tools\":[{\"id\":\"1023\",\"type\":\"HoverTool\"}]},\"id\":\"1024\",\"type\":\"Toolbar\"}],\"root_ids\":[\"1003\"]},\"title\":\"Bokeh Application\",\"version\":\"1.4.0\"}};\n",
       "  var render_items = [{\"docid\":\"23a26ab3-20ec-42f9-b2e8-d9cdf8f8ef88\",\"roots\":{\"1003\":\"f67e9fca-3c40-444b-a671-c45faaeaee9c\"}}];\n",
       "  root.Bokeh.embed.embed_items_notebook(docs_json, render_items);\n",
       "\n",
       "  }\n",
       "  if (root.Bokeh !== undefined) {\n",
       "    embed_document(root);\n",
       "  } else {\n",
       "    var attempts = 0;\n",
       "    var timer = setInterval(function(root) {\n",
       "      if (root.Bokeh !== undefined) {\n",
       "        clearInterval(timer);\n",
       "        embed_document(root);\n",
       "      } else {\n",
       "        attempts++;\n",
       "        if (attempts > 100) {\n",
       "          clearInterval(timer);\n",
       "          console.log(\"Bokeh: ERROR: Unable to run BokehJS code because BokehJS library is missing\");\n",
       "        }\n",
       "      }\n",
       "    }, 10, root)\n",
       "  }\n",
       "})(window);"
      ],
      "application/vnd.bokehjs_exec.v0+json": ""
     },
     "metadata": {
      "application/vnd.bokehjs_exec.v0+json": {
       "id": "1003"
      }
     },
     "output_type": "display_data"
    }
   ],
   "source": [
    "import math\n",
    "df_ = pd.DataFrame()\n",
    "df_[\"x\"] = imp_words[0]\n",
    "df_[\"top\"] = imp_word_prob[0]\n",
    "\n",
    "source = ColumnDataSource(dict(\n",
    "    x=df_['x'],\n",
    "    top=df_['top']\n",
    "))\n",
    "\n",
    "# p = figure(plot_width=1000, plot_height=700,\n",
    "#                      title=title, tools=\"pan,wheel_zoom,box_zoom,reset,hover,previewsave\",\n",
    "#                      x_axis_type=None, y_axis_type=None, min_border=1)\n",
    "\n",
    "p = figure(x_range=imp_words[0], plot_height=250, plot_width=400, title=\"Top Ten Words\",\n",
    "           toolbar_location=None, tools=\"hover\")\n",
    "\n",
    "p.vbar(x='x', top= 'top', width=0.8, source=source)#'msize', )\n",
    "\n",
    "# hover tools\n",
    "hover = p.select(dict(type=HoverTool))\n",
    "hover.tooltips = { \"Prob\": \"@top\"}\n",
    "p.xaxis.major_label_orientation = math.pi/2\n",
    "# plot_lda.legend.location = \"top_left\"\n",
    "\n",
    "show(p)"
   ]
  },
  {
   "cell_type": "code",
   "execution_count": 16,
   "metadata": {
    "scrolled": true
   },
   "outputs": [
    {
     "data": {
      "text/html": [
       "\n",
       "\n",
       "\n",
       "\n",
       "\n",
       "\n",
       "  <div class=\"bk-root\" id=\"210c3568-ca2b-4217-bc4c-48d2e775397d\" data-root-id=\"1795\"></div>\n"
      ]
     },
     "metadata": {},
     "output_type": "display_data"
    },
    {
     "data": {
      "application/javascript": [
       "(function(root) {\n",
       "  function embed_document(root) {\n",
       "    \n",
       "  var docs_json = {\"2b565eb8-ddf6-4bee-ba2e-06385008a106\":{\"roots\":{\"references\":[{\"attributes\":{\"children\":[{\"id\":\"1794\",\"type\":\"ToolbarBox\"},{\"id\":\"1792\",\"type\":\"GridBox\"}]},\"id\":\"1795\",\"type\":\"Column\"},{\"attributes\":{\"dimension\":1,\"ticker\":{\"id\":\"1176\",\"type\":\"BasicTicker\"}},\"id\":\"1179\",\"type\":\"Grid\"},{\"attributes\":{\"ticker\":{\"id\":\"1172\",\"type\":\"CategoricalTicker\"}},\"id\":\"1174\",\"type\":\"Grid\"},{\"attributes\":{},\"id\":\"1176\",\"type\":\"BasicTicker\"},{\"attributes\":{\"axis_label\":\"Term-Prob\",\"formatter\":{\"id\":\"1192\",\"type\":\"BasicTickFormatter\"},\"ticker\":{\"id\":\"1176\",\"type\":\"BasicTicker\"}},\"id\":\"1175\",\"type\":\"LinearAxis\"},{\"attributes\":{\"active_drag\":\"auto\",\"active_inspect\":\"auto\",\"active_multi\":null,\"active_scroll\":\"auto\",\"active_tap\":\"auto\",\"tools\":[{\"id\":\"1180\",\"type\":\"HoverTool\"}]},\"id\":\"1181\",\"type\":\"Toolbar\"},{\"attributes\":{\"callback\":null,\"tooltips\":[[\"Prob\",\"@top\"]]},\"id\":\"1180\",\"type\":\"HoverTool\"},{\"attributes\":{\"fill_alpha\":{\"value\":0.1},\"fill_color\":{\"value\":\"#1f77b4\"},\"line_alpha\":{\"value\":0.1},\"line_color\":{\"value\":\"#1f77b4\"},\"top\":{\"field\":\"top\"},\"width\":{\"value\":0.8},\"x\":{\"field\":\"x\"}},\"id\":\"1185\",\"type\":\"VBar\"},{\"attributes\":{\"data_source\":{\"id\":\"1159\",\"type\":\"ColumnDataSource\"},\"glyph\":{\"id\":\"1184\",\"type\":\"VBar\"},\"hover_glyph\":null,\"muted_glyph\":null,\"nonselection_glyph\":{\"id\":\"1185\",\"type\":\"VBar\"},\"selection_glyph\":null,\"view\":{\"id\":\"1187\",\"type\":\"CDSView\"}},\"id\":\"1186\",\"type\":\"GlyphRenderer\"},{\"attributes\":{\"source\":{\"id\":\"1159\",\"type\":\"ColumnDataSource\"}},\"id\":\"1187\",\"type\":\"CDSView\"},{\"attributes\":{\"below\":[{\"id\":\"1207\",\"type\":\"CategoricalAxis\"}],\"center\":[{\"id\":\"1210\",\"type\":\"Grid\"},{\"id\":\"1215\",\"type\":\"Grid\"}],\"left\":[{\"id\":\"1211\",\"type\":\"LinearAxis\"}],\"plot_height\":250,\"plot_width\":400,\"renderers\":[{\"id\":\"1222\",\"type\":\"GlyphRenderer\"}],\"title\":{\"id\":\"1197\",\"type\":\"Title\"},\"toolbar\":{\"id\":\"1217\",\"type\":\"Toolbar\"},\"toolbar_location\":null,\"x_range\":{\"id\":\"1199\",\"type\":\"FactorRange\"},\"x_scale\":{\"id\":\"1203\",\"type\":\"CategoricalScale\"},\"y_range\":{\"id\":\"1201\",\"type\":\"DataRange1d\"},\"y_scale\":{\"id\":\"1205\",\"type\":\"LinearScale\"}},\"id\":\"1196\",\"subtype\":\"Figure\",\"type\":\"Plot\"},{\"attributes\":{},\"id\":\"1193\",\"type\":\"UnionRenderers\"},{\"attributes\":{},\"id\":\"1194\",\"type\":\"Selection\"},{\"attributes\":{\"callback\":null,\"data\":{\"top\":{\"__ndarray__\":\"pHA9CtejwD+4HoXrUbiuP3sUrkfheqQ/exSuR+F6pD+4HoXrUbieP7gehetRuJ4/uB6F61G4nj+4HoXrUbieP3sUrkfhepQ/exSuR+F6lD8=\",\"dtype\":\"float64\",\"shape\":[10]},\"x\":[\"environ\",\"hard\",\"posit\",\"worker\",\"sale\",\"move\",\"differ\",\"locat\",\"base\",\"system\"]},\"selected\":{\"id\":\"1230\",\"type\":\"Selection\"},\"selection_policy\":{\"id\":\"1229\",\"type\":\"UnionRenderers\"}},\"id\":\"1195\",\"type\":\"ColumnDataSource\"},{\"attributes\":{\"align\":\"center\",\"text\":\"Topic: 4\"},\"id\":\"1197\",\"type\":\"Title\"},{\"attributes\":{\"fill_color\":{\"value\":\"#1f77b4\"},\"line_color\":{\"value\":\"#1f77b4\"},\"top\":{\"field\":\"top\"},\"width\":{\"value\":0.8},\"x\":{\"field\":\"x\"}},\"id\":\"1220\",\"type\":\"VBar\"},{\"attributes\":{\"callback\":null,\"factors\":[\"environ\",\"hard\",\"posit\",\"worker\",\"sale\",\"move\",\"differ\",\"locat\",\"base\",\"system\"]},\"id\":\"1199\",\"type\":\"FactorRange\"},{\"attributes\":{},\"id\":\"1203\",\"type\":\"CategoricalScale\"},{\"attributes\":{\"callback\":null},\"id\":\"1201\",\"type\":\"DataRange1d\"},{\"attributes\":{},\"id\":\"1205\",\"type\":\"LinearScale\"},{\"attributes\":{\"axis_label\":\"Terms\",\"formatter\":{\"id\":\"1226\",\"type\":\"CategoricalTickFormatter\"},\"major_label_orientation\":1.5707963267948966,\"ticker\":{\"id\":\"1208\",\"type\":\"CategoricalTicker\"}},\"id\":\"1207\",\"type\":\"CategoricalAxis\"},{\"attributes\":{\"dimension\":1,\"ticker\":{\"id\":\"1212\",\"type\":\"BasicTicker\"}},\"id\":\"1215\",\"type\":\"Grid\"},{\"attributes\":{},\"id\":\"1208\",\"type\":\"CategoricalTicker\"},{\"attributes\":{\"ticker\":{\"id\":\"1208\",\"type\":\"CategoricalTicker\"}},\"id\":\"1210\",\"type\":\"Grid\"},{\"attributes\":{},\"id\":\"1212\",\"type\":\"BasicTicker\"},{\"attributes\":{\"axis_label\":\"Term-Prob\",\"formatter\":{\"id\":\"1228\",\"type\":\"BasicTickFormatter\"},\"ticker\":{\"id\":\"1212\",\"type\":\"BasicTicker\"}},\"id\":\"1211\",\"type\":\"LinearAxis\"},{\"attributes\":{\"dimension\":1,\"ticker\":{\"id\":\"1248\",\"type\":\"BasicTicker\"}},\"id\":\"1251\",\"type\":\"Grid\"},{\"attributes\":{\"active_drag\":\"auto\",\"active_inspect\":\"auto\",\"active_multi\":null,\"active_scroll\":\"auto\",\"active_tap\":\"auto\",\"tools\":[{\"id\":\"1216\",\"type\":\"HoverTool\"}]},\"id\":\"1217\",\"type\":\"Toolbar\"},{\"attributes\":{\"callback\":null,\"tooltips\":[[\"Prob\",\"@top\"]]},\"id\":\"1216\",\"type\":\"HoverTool\"},{\"attributes\":{\"fill_alpha\":{\"value\":0.1},\"fill_color\":{\"value\":\"#1f77b4\"},\"line_alpha\":{\"value\":0.1},\"line_color\":{\"value\":\"#1f77b4\"},\"top\":{\"field\":\"top\"},\"width\":{\"value\":0.8},\"x\":{\"field\":\"x\"}},\"id\":\"1221\",\"type\":\"VBar\"},{\"attributes\":{\"below\":[{\"id\":\"1171\",\"type\":\"CategoricalAxis\"}],\"center\":[{\"id\":\"1174\",\"type\":\"Grid\"},{\"id\":\"1179\",\"type\":\"Grid\"}],\"left\":[{\"id\":\"1175\",\"type\":\"LinearAxis\"}],\"plot_height\":250,\"plot_width\":400,\"renderers\":[{\"id\":\"1186\",\"type\":\"GlyphRenderer\"}],\"title\":{\"id\":\"1161\",\"type\":\"Title\"},\"toolbar\":{\"id\":\"1181\",\"type\":\"Toolbar\"},\"toolbar_location\":null,\"x_range\":{\"id\":\"1163\",\"type\":\"FactorRange\"},\"x_scale\":{\"id\":\"1167\",\"type\":\"CategoricalScale\"},\"y_range\":{\"id\":\"1165\",\"type\":\"DataRange1d\"},\"y_scale\":{\"id\":\"1169\",\"type\":\"LinearScale\"}},\"id\":\"1160\",\"subtype\":\"Figure\",\"type\":\"Plot\"},{\"attributes\":{},\"id\":\"1121\",\"type\":\"UnionRenderers\"},{\"attributes\":{\"callback\":null,\"data\":{\"top\":{\"__ndarray__\":\"exSuR+F6xD+amZmZmZm5P7gehetRuK4/mpmZmZmZqT97FK5H4XqkP7gehetRuJ4/uB6F61G4nj+4HoXrUbieP7gehetRuJ4/uB6F61G4nj8=\",\"dtype\":\"float64\",\"shape\":[10]},\"x\":[\"break\",\"short\",\"short_break\",\"lunch\",\"worklif\",\"worklif_balanc\",\"balanc\",\"sometim\",\"fast\",\"pace\"]},\"selected\":{\"id\":\"1194\",\"type\":\"Selection\"},\"selection_policy\":{\"id\":\"1193\",\"type\":\"UnionRenderers\"}},\"id\":\"1159\",\"type\":\"ColumnDataSource\"},{\"attributes\":{},\"id\":\"1122\",\"type\":\"Selection\"},{\"attributes\":{\"callback\":null,\"factors\":[\"employe\",\"schedul\",\"wage\",\"plan\",\"start\",\"set\",\"healthcar\",\"month\",\"layoff\",\"rude\"]},\"id\":\"1127\",\"type\":\"FactorRange\"},{\"attributes\":{},\"id\":\"1529\",\"type\":\"LinearScale\"},{\"attributes\":{\"source\":{\"id\":\"1591\",\"type\":\"ColumnDataSource\"}},\"id\":\"1619\",\"type\":\"CDSView\"},{\"attributes\":{},\"id\":\"1446\",\"type\":\"Selection\"},{\"attributes\":{\"callback\":null},\"id\":\"1129\",\"type\":\"DataRange1d\"},{\"attributes\":{},\"id\":\"1624\",\"type\":\"BasicTickFormatter\"},{\"attributes\":{\"axis_label\":\"Terms\",\"formatter\":{\"id\":\"1550\",\"type\":\"CategoricalTickFormatter\"},\"major_label_orientation\":1.5707963267948966,\"ticker\":{\"id\":\"1532\",\"type\":\"CategoricalTicker\"}},\"id\":\"1531\",\"type\":\"CategoricalAxis\"},{\"attributes\":{\"dimension\":1,\"ticker\":{\"id\":\"1536\",\"type\":\"BasicTicker\"}},\"id\":\"1539\",\"type\":\"Grid\"},{\"attributes\":{},\"id\":\"1622\",\"type\":\"CategoricalTickFormatter\"},{\"attributes\":{\"below\":[{\"id\":\"1459\",\"type\":\"CategoricalAxis\"}],\"center\":[{\"id\":\"1462\",\"type\":\"Grid\"},{\"id\":\"1467\",\"type\":\"Grid\"}],\"left\":[{\"id\":\"1463\",\"type\":\"LinearAxis\"}],\"plot_height\":250,\"plot_width\":400,\"renderers\":[{\"id\":\"1474\",\"type\":\"GlyphRenderer\"}],\"title\":{\"id\":\"1449\",\"type\":\"Title\"},\"toolbar\":{\"id\":\"1469\",\"type\":\"Toolbar\"},\"toolbar_location\":null,\"x_range\":{\"id\":\"1451\",\"type\":\"FactorRange\"},\"x_scale\":{\"id\":\"1455\",\"type\":\"CategoricalScale\"},\"y_range\":{\"id\":\"1453\",\"type\":\"DataRange1d\"},\"y_scale\":{\"id\":\"1457\",\"type\":\"LinearScale\"}},\"id\":\"1448\",\"subtype\":\"Figure\",\"type\":\"Plot\"},{\"attributes\":{},\"id\":\"1131\",\"type\":\"CategoricalScale\"},{\"attributes\":{},\"id\":\"1532\",\"type\":\"CategoricalTicker\"},{\"attributes\":{},\"id\":\"1133\",\"type\":\"LinearScale\"},{\"attributes\":{\"align\":\"center\",\"text\":\"Topic: 11\"},\"id\":\"1449\",\"type\":\"Title\"},{\"attributes\":{\"ticker\":{\"id\":\"1532\",\"type\":\"CategoricalTicker\"}},\"id\":\"1534\",\"type\":\"Grid\"},{\"attributes\":{},\"id\":\"1625\",\"type\":\"UnionRenderers\"},{\"attributes\":{\"axis_label\":\"Terms\",\"formatter\":{\"id\":\"1154\",\"type\":\"CategoricalTickFormatter\"},\"major_label_orientation\":1.5707963267948966,\"ticker\":{\"id\":\"1136\",\"type\":\"CategoricalTicker\"}},\"id\":\"1135\",\"type\":\"CategoricalAxis\"},{\"attributes\":{},\"id\":\"1536\",\"type\":\"BasicTicker\"},{\"attributes\":{},\"id\":\"1626\",\"type\":\"Selection\"},{\"attributes\":{\"dimension\":1,\"ticker\":{\"id\":\"1140\",\"type\":\"BasicTicker\"}},\"id\":\"1143\",\"type\":\"Grid\"},{\"attributes\":{\"axis_label\":\"Term-Prob\",\"formatter\":{\"id\":\"1552\",\"type\":\"BasicTickFormatter\"},\"ticker\":{\"id\":\"1536\",\"type\":\"BasicTicker\"}},\"id\":\"1535\",\"type\":\"LinearAxis\"},{\"attributes\":{},\"id\":\"1136\",\"type\":\"CategoricalTicker\"},{\"attributes\":{\"callback\":null,\"factors\":[\"learn\",\"cultur\",\"nice\",\"could\",\"staff\",\"experi\",\"atmospher\",\"skill\",\"easi\",\"better\"]},\"id\":\"1451\",\"type\":\"FactorRange\"},{\"attributes\":{},\"id\":\"1552\",\"type\":\"BasicTickFormatter\"},{\"attributes\":{\"ticker\":{\"id\":\"1136\",\"type\":\"CategoricalTicker\"}},\"id\":\"1138\",\"type\":\"Grid\"},{\"attributes\":{\"callback\":null,\"data\":{\"top\":{\"__ndarray__\":\"pHA9CtejwD+amZmZmZmpP3sUrkfheqQ/exSuR+F6pD+4HoXrUbieP7gehetRuJ4/uB6F61G4nj+4HoXrUbieP3sUrkfhepQ/exSuR+F6lD8=\",\"dtype\":\"float64\",\"shape\":[10]},\"x\":[\"team\",\"bonus\",\"medic\",\"pto\",\"program\",\"develop\",\"reward\",\"best\",\"benifit\",\"reimburs\"]},\"selected\":{\"id\":\"1662\",\"type\":\"Selection\"},\"selection_policy\":{\"id\":\"1661\",\"type\":\"UnionRenderers\"}},\"id\":\"1627\",\"type\":\"ColumnDataSource\"},{\"attributes\":{\"active_drag\":\"auto\",\"active_inspect\":\"auto\",\"active_multi\":null,\"active_scroll\":\"auto\",\"active_tap\":\"auto\",\"tools\":[{\"id\":\"1540\",\"type\":\"HoverTool\"}]},\"id\":\"1541\",\"type\":\"Toolbar\"},{\"attributes\":{\"below\":[{\"id\":\"1639\",\"type\":\"CategoricalAxis\"}],\"center\":[{\"id\":\"1642\",\"type\":\"Grid\"},{\"id\":\"1647\",\"type\":\"Grid\"}],\"left\":[{\"id\":\"1643\",\"type\":\"LinearAxis\"}],\"plot_height\":250,\"plot_width\":400,\"renderers\":[{\"id\":\"1654\",\"type\":\"GlyphRenderer\"}],\"title\":{\"id\":\"1629\",\"type\":\"Title\"},\"toolbar\":{\"id\":\"1649\",\"type\":\"Toolbar\"},\"toolbar_location\":null,\"x_range\":{\"id\":\"1631\",\"type\":\"FactorRange\"},\"x_scale\":{\"id\":\"1635\",\"type\":\"CategoricalScale\"},\"y_range\":{\"id\":\"1633\",\"type\":\"DataRange1d\"},\"y_scale\":{\"id\":\"1637\",\"type\":\"LinearScale\"}},\"id\":\"1628\",\"subtype\":\"Figure\",\"type\":\"Plot\"},{\"attributes\":{},\"id\":\"1140\",\"type\":\"BasicTicker\"},{\"attributes\":{\"callback\":null,\"tooltips\":[[\"Prob\",\"@top\"]]},\"id\":\"1540\",\"type\":\"HoverTool\"},{\"attributes\":{\"fill_color\":{\"value\":\"#1f77b4\"},\"line_color\":{\"value\":\"#1f77b4\"},\"top\":{\"field\":\"top\"},\"width\":{\"value\":0.8},\"x\":{\"field\":\"x\"}},\"id\":\"1184\",\"type\":\"VBar\"},{\"attributes\":{\"axis_label\":\"Term-Prob\",\"formatter\":{\"id\":\"1156\",\"type\":\"BasicTickFormatter\"},\"ticker\":{\"id\":\"1140\",\"type\":\"BasicTicker\"}},\"id\":\"1139\",\"type\":\"LinearAxis\"},{\"attributes\":{\"align\":\"center\",\"text\":\"Topic: 16\"},\"id\":\"1629\",\"type\":\"Title\"},{\"attributes\":{\"fill_alpha\":{\"value\":0.1},\"fill_color\":{\"value\":\"#1f77b4\"},\"line_alpha\":{\"value\":0.1},\"line_color\":{\"value\":\"#1f77b4\"},\"top\":{\"field\":\"top\"},\"width\":{\"value\":0.8},\"x\":{\"field\":\"x\"}},\"id\":\"1545\",\"type\":\"VBar\"},{\"attributes\":{},\"id\":\"1455\",\"type\":\"CategoricalScale\"},{\"attributes\":{\"callback\":null},\"id\":\"1453\",\"type\":\"DataRange1d\"},{\"attributes\":{},\"id\":\"1156\",\"type\":\"BasicTickFormatter\"},{\"attributes\":{\"fill_color\":{\"value\":\"#1f77b4\"},\"line_color\":{\"value\":\"#1f77b4\"},\"top\":{\"field\":\"top\"},\"width\":{\"value\":0.8},\"x\":{\"field\":\"x\"}},\"id\":\"1652\",\"type\":\"VBar\"},{\"attributes\":{\"active_drag\":\"auto\",\"active_inspect\":\"auto\",\"active_multi\":null,\"active_scroll\":\"auto\",\"active_tap\":\"auto\",\"tools\":[{\"id\":\"1144\",\"type\":\"HoverTool\"}]},\"id\":\"1145\",\"type\":\"Toolbar\"},{\"attributes\":{},\"id\":\"1457\",\"type\":\"LinearScale\"},{\"attributes\":{\"callback\":null,\"factors\":[\"team\",\"bonus\",\"medic\",\"pto\",\"program\",\"develop\",\"reward\",\"best\",\"benifit\",\"reimburs\"]},\"id\":\"1631\",\"type\":\"FactorRange\"},{\"attributes\":{\"callback\":null,\"tooltips\":[[\"Prob\",\"@top\"]]},\"id\":\"1144\",\"type\":\"HoverTool\"},{\"attributes\":{\"axis_label\":\"Terms\",\"formatter\":{\"id\":\"1478\",\"type\":\"CategoricalTickFormatter\"},\"major_label_orientation\":1.5707963267948966,\"ticker\":{\"id\":\"1460\",\"type\":\"CategoricalTicker\"}},\"id\":\"1459\",\"type\":\"CategoricalAxis\"},{\"attributes\":{\"data_source\":{\"id\":\"1519\",\"type\":\"ColumnDataSource\"},\"glyph\":{\"id\":\"1544\",\"type\":\"VBar\"},\"hover_glyph\":null,\"muted_glyph\":null,\"nonselection_glyph\":{\"id\":\"1545\",\"type\":\"VBar\"},\"selection_glyph\":null,\"view\":{\"id\":\"1547\",\"type\":\"CDSView\"}},\"id\":\"1546\",\"type\":\"GlyphRenderer\"},{\"attributes\":{\"dimension\":1,\"ticker\":{\"id\":\"1464\",\"type\":\"BasicTicker\"}},\"id\":\"1467\",\"type\":\"Grid\"},{\"attributes\":{\"fill_alpha\":{\"value\":0.1},\"fill_color\":{\"value\":\"#1f77b4\"},\"line_alpha\":{\"value\":0.1},\"line_color\":{\"value\":\"#1f77b4\"},\"top\":{\"field\":\"top\"},\"width\":{\"value\":0.8},\"x\":{\"field\":\"x\"}},\"id\":\"1149\",\"type\":\"VBar\"},{\"attributes\":{},\"id\":\"1460\",\"type\":\"CategoricalTicker\"},{\"attributes\":{\"source\":{\"id\":\"1519\",\"type\":\"ColumnDataSource\"}},\"id\":\"1547\",\"type\":\"CDSView\"},{\"attributes\":{\"ticker\":{\"id\":\"1460\",\"type\":\"CategoricalTicker\"}},\"id\":\"1462\",\"type\":\"Grid\"},{\"attributes\":{},\"id\":\"1635\",\"type\":\"CategoricalScale\"},{\"attributes\":{},\"id\":\"1550\",\"type\":\"CategoricalTickFormatter\"},{\"attributes\":{\"callback\":null},\"id\":\"1633\",\"type\":\"DataRange1d\"},{\"attributes\":{},\"id\":\"1464\",\"type\":\"BasicTicker\"},{\"attributes\":{\"data_source\":{\"id\":\"1123\",\"type\":\"ColumnDataSource\"},\"glyph\":{\"id\":\"1148\",\"type\":\"VBar\"},\"hover_glyph\":null,\"muted_glyph\":null,\"nonselection_glyph\":{\"id\":\"1149\",\"type\":\"VBar\"},\"selection_glyph\":null,\"view\":{\"id\":\"1151\",\"type\":\"CDSView\"}},\"id\":\"1150\",\"type\":\"GlyphRenderer\"},{\"attributes\":{\"axis_label\":\"Term-Prob\",\"formatter\":{\"id\":\"1480\",\"type\":\"BasicTickFormatter\"},\"ticker\":{\"id\":\"1464\",\"type\":\"BasicTicker\"}},\"id\":\"1463\",\"type\":\"LinearAxis\"},{\"attributes\":{},\"id\":\"1637\",\"type\":\"LinearScale\"},{\"attributes\":{\"axis_label\":\"Terms\",\"formatter\":{\"id\":\"1622\",\"type\":\"CategoricalTickFormatter\"},\"major_label_orientation\":1.5707963267948966,\"ticker\":{\"id\":\"1604\",\"type\":\"CategoricalTicker\"}},\"id\":\"1603\",\"type\":\"CategoricalAxis\"},{\"attributes\":{\"source\":{\"id\":\"1123\",\"type\":\"ColumnDataSource\"}},\"id\":\"1151\",\"type\":\"CDSView\"},{\"attributes\":{},\"id\":\"1480\",\"type\":\"BasicTickFormatter\"},{\"attributes\":{\"callback\":null},\"id\":\"1489\",\"type\":\"DataRange1d\"},{\"attributes\":{\"axis_label\":\"Terms\",\"formatter\":{\"id\":\"1658\",\"type\":\"CategoricalTickFormatter\"},\"major_label_orientation\":1.5707963267948966,\"ticker\":{\"id\":\"1640\",\"type\":\"CategoricalTicker\"}},\"id\":\"1639\",\"type\":\"CategoricalAxis\"},{\"attributes\":{\"callback\":null,\"data\":{\"top\":{\"__ndarray__\":\"7FG4HoXrwT+amZmZmZm5P5qZmZmZmak/uB6F61G4nj+4HoXrUbieP3sUrkfhepQ/exSuR+F6lD97FK5H4XqEP3sUrkfheoQ/exSuR+F6hD8=\",\"dtype\":\"float64\",\"shape\":[10]},\"x\":[\"free\",\"lunch\",\"free_lunch\",\"food\",\"fun\",\"hour_lunch\",\"free_food\",\"drink\",\"coffe\",\"event\"]},\"selected\":{\"id\":\"1590\",\"type\":\"Selection\"},\"selection_policy\":{\"id\":\"1589\",\"type\":\"UnionRenderers\"}},\"id\":\"1555\",\"type\":\"ColumnDataSource\"},{\"attributes\":{\"active_drag\":\"auto\",\"active_inspect\":\"auto\",\"active_multi\":null,\"active_scroll\":\"auto\",\"active_tap\":\"auto\",\"tools\":[{\"id\":\"1468\",\"type\":\"HoverTool\"}]},\"id\":\"1469\",\"type\":\"Toolbar\"},{\"attributes\":{\"dimension\":1,\"ticker\":{\"id\":\"1644\",\"type\":\"BasicTicker\"}},\"id\":\"1647\",\"type\":\"Grid\"},{\"attributes\":{\"below\":[{\"id\":\"1567\",\"type\":\"CategoricalAxis\"}],\"center\":[{\"id\":\"1570\",\"type\":\"Grid\"},{\"id\":\"1575\",\"type\":\"Grid\"}],\"left\":[{\"id\":\"1571\",\"type\":\"LinearAxis\"}],\"plot_height\":250,\"plot_width\":400,\"renderers\":[{\"id\":\"1582\",\"type\":\"GlyphRenderer\"}],\"title\":{\"id\":\"1557\",\"type\":\"Title\"},\"toolbar\":{\"id\":\"1577\",\"type\":\"Toolbar\"},\"toolbar_location\":null,\"x_range\":{\"id\":\"1559\",\"type\":\"FactorRange\"},\"x_scale\":{\"id\":\"1563\",\"type\":\"CategoricalScale\"},\"y_range\":{\"id\":\"1561\",\"type\":\"DataRange1d\"},\"y_scale\":{\"id\":\"1565\",\"type\":\"LinearScale\"}},\"id\":\"1556\",\"subtype\":\"Figure\",\"type\":\"Plot\"},{\"attributes\":{},\"id\":\"1154\",\"type\":\"CategoricalTickFormatter\"},{\"attributes\":{},\"id\":\"1640\",\"type\":\"CategoricalTicker\"},{\"attributes\":{\"callback\":null,\"tooltips\":[[\"Prob\",\"@top\"]]},\"id\":\"1468\",\"type\":\"HoverTool\"},{\"attributes\":{\"align\":\"center\",\"text\":\"Topic: 14\"},\"id\":\"1557\",\"type\":\"Title\"},{\"attributes\":{\"ticker\":{\"id\":\"1640\",\"type\":\"CategoricalTicker\"}},\"id\":\"1642\",\"type\":\"Grid\"},{\"attributes\":{\"fill_alpha\":{\"value\":0.1},\"fill_color\":{\"value\":\"#1f77b4\"},\"line_alpha\":{\"value\":0.1},\"line_color\":{\"value\":\"#1f77b4\"},\"top\":{\"field\":\"top\"},\"width\":{\"value\":0.8},\"x\":{\"field\":\"x\"}},\"id\":\"1473\",\"type\":\"VBar\"},{\"attributes\":{},\"id\":\"1157\",\"type\":\"UnionRenderers\"},{\"attributes\":{},\"id\":\"1644\",\"type\":\"BasicTicker\"},{\"attributes\":{\"axis_label\":\"Term-Prob\",\"formatter\":{\"id\":\"1660\",\"type\":\"BasicTickFormatter\"},\"ticker\":{\"id\":\"1644\",\"type\":\"BasicTicker\"}},\"id\":\"1643\",\"type\":\"LinearAxis\"},{\"attributes\":{\"fill_color\":{\"value\":\"#1f77b4\"},\"line_color\":{\"value\":\"#1f77b4\"},\"top\":{\"field\":\"top\"},\"width\":{\"value\":0.8},\"x\":{\"field\":\"x\"}},\"id\":\"1580\",\"type\":\"VBar\"},{\"attributes\":{},\"id\":\"1158\",\"type\":\"Selection\"},{\"attributes\":{\"callback\":null,\"factors\":[\"free\",\"lunch\",\"free_lunch\",\"food\",\"fun\",\"hour_lunch\",\"free_food\",\"drink\",\"coffe\",\"event\"]},\"id\":\"1559\",\"type\":\"FactorRange\"},{\"attributes\":{},\"id\":\"1190\",\"type\":\"CategoricalTickFormatter\"},{\"attributes\":{},\"id\":\"1660\",\"type\":\"BasicTickFormatter\"},{\"attributes\":{\"data_source\":{\"id\":\"1447\",\"type\":\"ColumnDataSource\"},\"glyph\":{\"id\":\"1472\",\"type\":\"VBar\"},\"hover_glyph\":null,\"muted_glyph\":null,\"nonselection_glyph\":{\"id\":\"1473\",\"type\":\"VBar\"},\"selection_glyph\":null,\"view\":{\"id\":\"1475\",\"type\":\"CDSView\"}},\"id\":\"1474\",\"type\":\"GlyphRenderer\"},{\"attributes\":{},\"id\":\"1661\",\"type\":\"UnionRenderers\"},{\"attributes\":{\"align\":\"center\",\"text\":\"Topic: 3\"},\"id\":\"1161\",\"type\":\"Title\"},{\"attributes\":{\"active_drag\":\"auto\",\"active_inspect\":\"auto\",\"active_multi\":null,\"active_scroll\":\"auto\",\"active_tap\":\"auto\",\"tools\":[{\"id\":\"1648\",\"type\":\"HoverTool\"}]},\"id\":\"1649\",\"type\":\"Toolbar\"},{\"attributes\":{\"source\":{\"id\":\"1447\",\"type\":\"ColumnDataSource\"}},\"id\":\"1475\",\"type\":\"CDSView\"},{\"attributes\":{\"callback\":null,\"tooltips\":[[\"Prob\",\"@top\"]]},\"id\":\"1648\",\"type\":\"HoverTool\"},{\"attributes\":{\"fill_alpha\":{\"value\":0.1},\"fill_color\":{\"value\":\"#1f77b4\"},\"line_alpha\":{\"value\":0.1},\"line_color\":{\"value\":\"#1f77b4\"},\"top\":{\"field\":\"top\"},\"width\":{\"value\":0.8},\"x\":{\"field\":\"x\"}},\"id\":\"1653\",\"type\":\"VBar\"},{\"attributes\":{},\"id\":\"1563\",\"type\":\"CategoricalScale\"},{\"attributes\":{},\"id\":\"1478\",\"type\":\"CategoricalTickFormatter\"},{\"attributes\":{\"callback\":null,\"factors\":[\"break\",\"short\",\"short_break\",\"lunch\",\"worklif\",\"worklif_balanc\",\"balanc\",\"sometim\",\"fast\",\"pace\"]},\"id\":\"1163\",\"type\":\"FactorRange\"},{\"attributes\":{\"callback\":null},\"id\":\"1561\",\"type\":\"DataRange1d\"},{\"attributes\":{},\"id\":\"1565\",\"type\":\"LinearScale\"},{\"attributes\":{},\"id\":\"1481\",\"type\":\"UnionRenderers\"},{\"attributes\":{\"axis_label\":\"Terms\",\"formatter\":{\"id\":\"1586\",\"type\":\"CategoricalTickFormatter\"},\"major_label_orientation\":1.5707963267948966,\"ticker\":{\"id\":\"1568\",\"type\":\"CategoricalTicker\"}},\"id\":\"1567\",\"type\":\"CategoricalAxis\"},{\"attributes\":{\"data_source\":{\"id\":\"1627\",\"type\":\"ColumnDataSource\"},\"glyph\":{\"id\":\"1652\",\"type\":\"VBar\"},\"hover_glyph\":null,\"muted_glyph\":null,\"nonselection_glyph\":{\"id\":\"1653\",\"type\":\"VBar\"},\"selection_glyph\":null,\"view\":{\"id\":\"1655\",\"type\":\"CDSView\"}},\"id\":\"1654\",\"type\":\"GlyphRenderer\"},{\"attributes\":{},\"id\":\"1482\",\"type\":\"Selection\"},{\"attributes\":{\"axis_label\":\"Term-Prob\",\"formatter\":{\"id\":\"1588\",\"type\":\"BasicTickFormatter\"},\"ticker\":{\"id\":\"1572\",\"type\":\"BasicTicker\"}},\"id\":\"1571\",\"type\":\"LinearAxis\"},{\"attributes\":{},\"id\":\"1167\",\"type\":\"CategoricalScale\"},{\"attributes\":{\"fill_color\":{\"value\":\"#1f77b4\"},\"line_color\":{\"value\":\"#1f77b4\"},\"top\":{\"field\":\"top\"},\"width\":{\"value\":0.8},\"x\":{\"field\":\"x\"}},\"id\":\"1508\",\"type\":\"VBar\"},{\"attributes\":{},\"id\":\"1568\",\"type\":\"CategoricalTicker\"},{\"attributes\":{\"source\":{\"id\":\"1627\",\"type\":\"ColumnDataSource\"}},\"id\":\"1655\",\"type\":\"CDSView\"},{\"attributes\":{\"callback\":null},\"id\":\"1165\",\"type\":\"DataRange1d\"},{\"attributes\":{\"dimension\":1,\"ticker\":{\"id\":\"1572\",\"type\":\"BasicTicker\"}},\"id\":\"1575\",\"type\":\"Grid\"},{\"attributes\":{\"children\":[[{\"id\":\"1088\",\"subtype\":\"Figure\",\"type\":\"Plot\"},0,0],[{\"id\":\"1124\",\"subtype\":\"Figure\",\"type\":\"Plot\"},0,1],[{\"id\":\"1160\",\"subtype\":\"Figure\",\"type\":\"Plot\"},1,0],[{\"id\":\"1196\",\"subtype\":\"Figure\",\"type\":\"Plot\"},1,1],[{\"id\":\"1232\",\"subtype\":\"Figure\",\"type\":\"Plot\"},2,0],[{\"id\":\"1268\",\"subtype\":\"Figure\",\"type\":\"Plot\"},2,1],[{\"id\":\"1304\",\"subtype\":\"Figure\",\"type\":\"Plot\"},3,0],[{\"id\":\"1340\",\"subtype\":\"Figure\",\"type\":\"Plot\"},3,1],[{\"id\":\"1376\",\"subtype\":\"Figure\",\"type\":\"Plot\"},4,0],[{\"id\":\"1412\",\"subtype\":\"Figure\",\"type\":\"Plot\"},4,1],[{\"id\":\"1448\",\"subtype\":\"Figure\",\"type\":\"Plot\"},5,0],[{\"id\":\"1484\",\"subtype\":\"Figure\",\"type\":\"Plot\"},5,1],[{\"id\":\"1520\",\"subtype\":\"Figure\",\"type\":\"Plot\"},6,0],[{\"id\":\"1556\",\"subtype\":\"Figure\",\"type\":\"Plot\"},6,1],[{\"id\":\"1592\",\"subtype\":\"Figure\",\"type\":\"Plot\"},7,0],[{\"id\":\"1628\",\"subtype\":\"Figure\",\"type\":\"Plot\"},7,1]]},\"id\":\"1792\",\"type\":\"GridBox\"},{\"attributes\":{\"ticker\":{\"id\":\"1568\",\"type\":\"CategoricalTicker\"}},\"id\":\"1570\",\"type\":\"Grid\"},{\"attributes\":{\"callback\":null,\"data\":{\"top\":{\"__ndarray__\":\"SOF6FK5H0T8zMzMzMzPDPwrXo3A9Crc/mpmZmZmZqT97FK5H4XqkP3sUrkfhepQ/exSuR+F6lD97FK5H4XqUP3sUrkfheoQ/exSuR+F6hD8=\",\"dtype\":\"float64\",\"shape\":[10]},\"x\":[\"hour\",\"peopl\",\"lot\",\"home\",\"meet\",\"flexibl_hour\",\"abl\",\"build\",\"provid\",\"meet_peopl\"]},\"selected\":{\"id\":\"1518\",\"type\":\"Selection\"},\"selection_policy\":{\"id\":\"1517\",\"type\":\"UnionRenderers\"}},\"id\":\"1483\",\"type\":\"ColumnDataSource\"},{\"attributes\":{},\"id\":\"1169\",\"type\":\"LinearScale\"},{\"attributes\":{},\"id\":\"1658\",\"type\":\"CategoricalTickFormatter\"},{\"attributes\":{\"below\":[{\"id\":\"1495\",\"type\":\"CategoricalAxis\"}],\"center\":[{\"id\":\"1498\",\"type\":\"Grid\"},{\"id\":\"1503\",\"type\":\"Grid\"}],\"left\":[{\"id\":\"1499\",\"type\":\"LinearAxis\"}],\"plot_height\":250,\"plot_width\":400,\"renderers\":[{\"id\":\"1510\",\"type\":\"GlyphRenderer\"}],\"title\":{\"id\":\"1485\",\"type\":\"Title\"},\"toolbar\":{\"id\":\"1505\",\"type\":\"Toolbar\"},\"toolbar_location\":null,\"x_range\":{\"id\":\"1487\",\"type\":\"FactorRange\"},\"x_scale\":{\"id\":\"1491\",\"type\":\"CategoricalScale\"},\"y_range\":{\"id\":\"1489\",\"type\":\"DataRange1d\"},\"y_scale\":{\"id\":\"1493\",\"type\":\"LinearScale\"}},\"id\":\"1484\",\"subtype\":\"Figure\",\"type\":\"Plot\"},{\"attributes\":{},\"id\":\"1172\",\"type\":\"CategoricalTicker\"},{\"attributes\":{},\"id\":\"1572\",\"type\":\"BasicTicker\"},{\"attributes\":{\"axis_label\":\"Terms\",\"formatter\":{\"id\":\"1190\",\"type\":\"CategoricalTickFormatter\"},\"major_label_orientation\":1.5707963267948966,\"ticker\":{\"id\":\"1172\",\"type\":\"CategoricalTicker\"}},\"id\":\"1171\",\"type\":\"CategoricalAxis\"},{\"attributes\":{\"align\":\"center\",\"text\":\"Topic: 12\"},\"id\":\"1485\",\"type\":\"Title\"},{\"attributes\":{\"fill_alpha\":{\"value\":0.1},\"fill_color\":{\"value\":\"#1f77b4\"},\"line_alpha\":{\"value\":0.1},\"line_color\":{\"value\":\"#1f77b4\"},\"top\":{\"field\":\"top\"},\"width\":{\"value\":0.8},\"x\":{\"field\":\"x\"}},\"id\":\"1401\",\"type\":\"VBar\"},{\"attributes\":{},\"id\":\"1588\",\"type\":\"BasicTickFormatter\"},{\"attributes\":{\"data_source\":{\"id\":\"1375\",\"type\":\"ColumnDataSource\"},\"glyph\":{\"id\":\"1400\",\"type\":\"VBar\"},\"hover_glyph\":null,\"muted_glyph\":null,\"nonselection_glyph\":{\"id\":\"1401\",\"type\":\"VBar\"},\"selection_glyph\":null,\"view\":{\"id\":\"1403\",\"type\":\"CDSView\"}},\"id\":\"1402\",\"type\":\"GlyphRenderer\"},{\"attributes\":{},\"id\":\"1608\",\"type\":\"BasicTicker\"},{\"attributes\":{\"active_drag\":\"auto\",\"active_inspect\":\"auto\",\"active_multi\":null,\"active_scroll\":\"auto\",\"active_tap\":\"auto\",\"tools\":[{\"id\":\"1576\",\"type\":\"HoverTool\"}]},\"id\":\"1577\",\"type\":\"Toolbar\"},{\"attributes\":{\"below\":[{\"id\":\"1099\",\"type\":\"CategoricalAxis\"}],\"center\":[{\"id\":\"1102\",\"type\":\"Grid\"},{\"id\":\"1107\",\"type\":\"Grid\"}],\"left\":[{\"id\":\"1103\",\"type\":\"LinearAxis\"}],\"plot_height\":250,\"plot_width\":400,\"renderers\":[{\"id\":\"1114\",\"type\":\"GlyphRenderer\"}],\"title\":{\"id\":\"1089\",\"type\":\"Title\"},\"toolbar\":{\"id\":\"1109\",\"type\":\"Toolbar\"},\"toolbar_location\":null,\"x_range\":{\"id\":\"1091\",\"type\":\"FactorRange\"},\"x_scale\":{\"id\":\"1095\",\"type\":\"CategoricalScale\"},\"y_range\":{\"id\":\"1093\",\"type\":\"DataRange1d\"},\"y_scale\":{\"id\":\"1097\",\"type\":\"LinearScale\"}},\"id\":\"1088\",\"subtype\":\"Figure\",\"type\":\"Plot\"},{\"attributes\":{\"callback\":null,\"tooltips\":[[\"Prob\",\"@top\"]]},\"id\":\"1576\",\"type\":\"HoverTool\"},{\"attributes\":{\"callback\":null,\"factors\":[\"hour\",\"peopl\",\"lot\",\"home\",\"meet\",\"flexibl_hour\",\"abl\",\"build\",\"provid\",\"meet_peopl\"]},\"id\":\"1487\",\"type\":\"FactorRange\"},{\"attributes\":{},\"id\":\"1408\",\"type\":\"BasicTickFormatter\"},{\"attributes\":{\"fill_alpha\":{\"value\":0.1},\"fill_color\":{\"value\":\"#1f77b4\"},\"line_alpha\":{\"value\":0.1},\"line_color\":{\"value\":\"#1f77b4\"},\"top\":{\"field\":\"top\"},\"width\":{\"value\":0.8},\"x\":{\"field\":\"x\"}},\"id\":\"1581\",\"type\":\"VBar\"},{\"attributes\":{\"source\":{\"id\":\"1375\",\"type\":\"ColumnDataSource\"}},\"id\":\"1403\",\"type\":\"CDSView\"},{\"attributes\":{\"align\":\"center\",\"text\":\"Topic: 1\"},\"id\":\"1089\",\"type\":\"Title\"},{\"attributes\":{\"callback\":null,\"data\":{\"top\":{\"__ndarray__\":\"exSuR+F6tD+4HoXrUbiuP3sUrkfheqQ/uB6F61G4nj+4HoXrUbieP3sUrkfhepQ/exSuR+F6lD97FK5H4XqUP3sUrkfhepQ/exSuR+F6lD8=\",\"dtype\":\"float64\",\"shape\":[10]},\"x\":[\"lack\",\"chang\",\"commun\",\"train\",\"difficult\",\"promot\",\"constant\",\"goal\",\"depart\",\"polici\"]},\"selected\":{\"id\":\"1446\",\"type\":\"Selection\"},\"selection_policy\":{\"id\":\"1445\",\"type\":\"UnionRenderers\"}},\"id\":\"1411\",\"type\":\"ColumnDataSource\"},{\"attributes\":{},\"id\":\"1406\",\"type\":\"CategoricalTickFormatter\"},{\"attributes\":{},\"id\":\"1493\",\"type\":\"LinearScale\"},{\"attributes\":{},\"id\":\"1491\",\"type\":\"CategoricalScale\"},{\"attributes\":{\"data_source\":{\"id\":\"1555\",\"type\":\"ColumnDataSource\"},\"glyph\":{\"id\":\"1580\",\"type\":\"VBar\"},\"hover_glyph\":null,\"muted_glyph\":null,\"nonselection_glyph\":{\"id\":\"1581\",\"type\":\"VBar\"},\"selection_glyph\":null,\"view\":{\"id\":\"1583\",\"type\":\"CDSView\"}},\"id\":\"1582\",\"type\":\"GlyphRenderer\"},{\"attributes\":{\"fill_color\":{\"value\":\"#1f77b4\"},\"line_color\":{\"value\":\"#1f77b4\"},\"top\":{\"field\":\"top\"},\"width\":{\"value\":0.8},\"x\":{\"field\":\"x\"}},\"id\":\"1112\",\"type\":\"VBar\"},{\"attributes\":{},\"id\":\"1409\",\"type\":\"UnionRenderers\"},{\"attributes\":{\"callback\":null,\"factors\":[\"advanc\",\"opportun\",\"stress\",\"littl\",\"career\",\"support\",\"limit\",\"leadership\",\"expect\",\"upper\"]},\"id\":\"1091\",\"type\":\"FactorRange\"},{\"attributes\":{\"axis_label\":\"Terms\",\"formatter\":{\"id\":\"1514\",\"type\":\"CategoricalTickFormatter\"},\"major_label_orientation\":1.5707963267948966,\"ticker\":{\"id\":\"1496\",\"type\":\"CategoricalTicker\"}},\"id\":\"1495\",\"type\":\"CategoricalAxis\"},{\"attributes\":{\"source\":{\"id\":\"1555\",\"type\":\"ColumnDataSource\"}},\"id\":\"1583\",\"type\":\"CDSView\"},{\"attributes\":{\"dimension\":1,\"ticker\":{\"id\":\"1500\",\"type\":\"BasicTicker\"}},\"id\":\"1503\",\"type\":\"Grid\"},{\"attributes\":{},\"id\":\"1410\",\"type\":\"Selection\"},{\"attributes\":{},\"id\":\"1496\",\"type\":\"CategoricalTicker\"},{\"attributes\":{},\"id\":\"1586\",\"type\":\"CategoricalTickFormatter\"},{\"attributes\":{\"below\":[{\"id\":\"1423\",\"type\":\"CategoricalAxis\"}],\"center\":[{\"id\":\"1426\",\"type\":\"Grid\"},{\"id\":\"1431\",\"type\":\"Grid\"}],\"left\":[{\"id\":\"1427\",\"type\":\"LinearAxis\"}],\"plot_height\":250,\"plot_width\":400,\"renderers\":[{\"id\":\"1438\",\"type\":\"GlyphRenderer\"}],\"title\":{\"id\":\"1413\",\"type\":\"Title\"},\"toolbar\":{\"id\":\"1433\",\"type\":\"Toolbar\"},\"toolbar_location\":null,\"x_range\":{\"id\":\"1415\",\"type\":\"FactorRange\"},\"x_scale\":{\"id\":\"1419\",\"type\":\"CategoricalScale\"},\"y_range\":{\"id\":\"1417\",\"type\":\"DataRange1d\"},\"y_scale\":{\"id\":\"1421\",\"type\":\"LinearScale\"}},\"id\":\"1412\",\"subtype\":\"Figure\",\"type\":\"Plot\"},{\"attributes\":{\"ticker\":{\"id\":\"1496\",\"type\":\"CategoricalTicker\"}},\"id\":\"1498\",\"type\":\"Grid\"},{\"attributes\":{},\"id\":\"1095\",\"type\":\"CategoricalScale\"},{\"attributes\":{},\"id\":\"1500\",\"type\":\"BasicTicker\"},{\"attributes\":{},\"id\":\"1589\",\"type\":\"UnionRenderers\"},{\"attributes\":{\"callback\":null},\"id\":\"1093\",\"type\":\"DataRange1d\"},{\"attributes\":{\"axis_label\":\"Term-Prob\",\"formatter\":{\"id\":\"1516\",\"type\":\"BasicTickFormatter\"},\"ticker\":{\"id\":\"1500\",\"type\":\"BasicTicker\"}},\"id\":\"1499\",\"type\":\"LinearAxis\"},{\"attributes\":{\"align\":\"center\",\"text\":\"Topic: 10\"},\"id\":\"1413\",\"type\":\"Title\"},{\"attributes\":{},\"id\":\"1590\",\"type\":\"Selection\"},{\"attributes\":{},\"id\":\"1097\",\"type\":\"LinearScale\"},{\"attributes\":{},\"id\":\"1516\",\"type\":\"BasicTickFormatter\"},{\"attributes\":{},\"id\":\"1554\",\"type\":\"Selection\"},{\"attributes\":{\"axis_label\":\"Terms\",\"formatter\":{\"id\":\"1118\",\"type\":\"CategoricalTickFormatter\"},\"major_label_orientation\":1.5707963267948966,\"ticker\":{\"id\":\"1100\",\"type\":\"CategoricalTicker\"}},\"id\":\"1099\",\"type\":\"CategoricalAxis\"},{\"attributes\":{\"active_drag\":\"auto\",\"active_inspect\":\"auto\",\"active_multi\":null,\"active_scroll\":\"auto\",\"active_tap\":\"auto\",\"tools\":[{\"id\":\"1504\",\"type\":\"HoverTool\"}]},\"id\":\"1505\",\"type\":\"Toolbar\"},{\"attributes\":{\"fill_color\":{\"value\":\"#1f77b4\"},\"line_color\":{\"value\":\"#1f77b4\"},\"top\":{\"field\":\"top\"},\"width\":{\"value\":0.8},\"x\":{\"field\":\"x\"}},\"id\":\"1436\",\"type\":\"VBar\"},{\"attributes\":{\"toolbar\":{\"id\":\"1793\",\"type\":\"ProxyToolbar\"},\"toolbar_location\":\"above\"},\"id\":\"1794\",\"type\":\"ToolbarBox\"},{\"attributes\":{\"dimension\":1,\"ticker\":{\"id\":\"1104\",\"type\":\"BasicTicker\"}},\"id\":\"1107\",\"type\":\"Grid\"},{\"attributes\":{\"callback\":null,\"data\":{\"top\":{\"__ndarray__\":\"exSuR+F6tD+4HoXrUbiuP5qZmZmZmak/exSuR+F6pD+4HoXrUbieP7gehetRuJ4/uB6F61G4nj97FK5H4XqUP3sUrkfheoQ/exSuR+F6hD8=\",\"dtype\":\"float64\",\"shape\":[10]},\"x\":[\"discount\",\"care\",\"busi\",\"health\",\"health_care\",\"dont\",\"store\",\"hire\",\"divers\",\"recognit\"]},\"selected\":{\"id\":\"1626\",\"type\":\"Selection\"},\"selection_policy\":{\"id\":\"1625\",\"type\":\"UnionRenderers\"}},\"id\":\"1591\",\"type\":\"ColumnDataSource\"},{\"attributes\":{\"callback\":null,\"tooltips\":[[\"Prob\",\"@top\"]]},\"id\":\"1504\",\"type\":\"HoverTool\"},{\"attributes\":{\"callback\":null,\"factors\":[\"lack\",\"chang\",\"commun\",\"train\",\"difficult\",\"promot\",\"constant\",\"goal\",\"depart\",\"polici\"]},\"id\":\"1415\",\"type\":\"FactorRange\"},{\"attributes\":{},\"id\":\"1100\",\"type\":\"CategoricalTicker\"},{\"attributes\":{\"below\":[{\"id\":\"1603\",\"type\":\"CategoricalAxis\"}],\"center\":[{\"id\":\"1606\",\"type\":\"Grid\"},{\"id\":\"1611\",\"type\":\"Grid\"}],\"left\":[{\"id\":\"1607\",\"type\":\"LinearAxis\"}],\"plot_height\":250,\"plot_width\":400,\"renderers\":[{\"id\":\"1618\",\"type\":\"GlyphRenderer\"}],\"title\":{\"id\":\"1593\",\"type\":\"Title\"},\"toolbar\":{\"id\":\"1613\",\"type\":\"Toolbar\"},\"toolbar_location\":null,\"x_range\":{\"id\":\"1595\",\"type\":\"FactorRange\"},\"x_scale\":{\"id\":\"1599\",\"type\":\"CategoricalScale\"},\"y_range\":{\"id\":\"1597\",\"type\":\"DataRange1d\"},\"y_scale\":{\"id\":\"1601\",\"type\":\"LinearScale\"}},\"id\":\"1592\",\"subtype\":\"Figure\",\"type\":\"Plot\"},{\"attributes\":{\"fill_alpha\":{\"value\":0.1},\"fill_color\":{\"value\":\"#1f77b4\"},\"line_alpha\":{\"value\":0.1},\"line_color\":{\"value\":\"#1f77b4\"},\"top\":{\"field\":\"top\"},\"width\":{\"value\":0.8},\"x\":{\"field\":\"x\"}},\"id\":\"1509\",\"type\":\"VBar\"},{\"attributes\":{\"ticker\":{\"id\":\"1100\",\"type\":\"CategoricalTicker\"}},\"id\":\"1102\",\"type\":\"Grid\"},{\"attributes\":{\"align\":\"center\",\"text\":\"Topic: 15\"},\"id\":\"1593\",\"type\":\"Title\"},{\"attributes\":{},\"id\":\"1104\",\"type\":\"BasicTicker\"},{\"attributes\":{\"axis_label\":\"Term-Prob\",\"formatter\":{\"id\":\"1120\",\"type\":\"BasicTickFormatter\"},\"ticker\":{\"id\":\"1104\",\"type\":\"BasicTicker\"}},\"id\":\"1103\",\"type\":\"LinearAxis\"},{\"attributes\":{},\"id\":\"1419\",\"type\":\"CategoricalScale\"},{\"attributes\":{\"fill_color\":{\"value\":\"#1f77b4\"},\"line_color\":{\"value\":\"#1f77b4\"},\"top\":{\"field\":\"top\"},\"width\":{\"value\":0.8},\"x\":{\"field\":\"x\"}},\"id\":\"1616\",\"type\":\"VBar\"},{\"attributes\":{\"callback\":null},\"id\":\"1417\",\"type\":\"DataRange1d\"},{\"attributes\":{\"data_source\":{\"id\":\"1483\",\"type\":\"ColumnDataSource\"},\"glyph\":{\"id\":\"1508\",\"type\":\"VBar\"},\"hover_glyph\":null,\"muted_glyph\":null,\"nonselection_glyph\":{\"id\":\"1509\",\"type\":\"VBar\"},\"selection_glyph\":null,\"view\":{\"id\":\"1511\",\"type\":\"CDSView\"}},\"id\":\"1510\",\"type\":\"GlyphRenderer\"},{\"attributes\":{},\"id\":\"1120\",\"type\":\"BasicTickFormatter\"},{\"attributes\":{\"callback\":null,\"factors\":[\"discount\",\"care\",\"busi\",\"health\",\"health_care\",\"dont\",\"store\",\"hire\",\"divers\",\"recognit\"]},\"id\":\"1595\",\"type\":\"FactorRange\"},{\"attributes\":{\"active_drag\":\"auto\",\"active_inspect\":\"auto\",\"active_multi\":null,\"active_scroll\":\"auto\",\"active_tap\":\"auto\",\"tools\":[{\"id\":\"1108\",\"type\":\"HoverTool\"}]},\"id\":\"1109\",\"type\":\"Toolbar\"},{\"attributes\":{},\"id\":\"1421\",\"type\":\"LinearScale\"},{\"attributes\":{\"source\":{\"id\":\"1483\",\"type\":\"ColumnDataSource\"}},\"id\":\"1511\",\"type\":\"CDSView\"},{\"attributes\":{\"ticker\":{\"id\":\"1604\",\"type\":\"CategoricalTicker\"}},\"id\":\"1606\",\"type\":\"Grid\"},{\"attributes\":{\"tools\":[{\"id\":\"1108\",\"type\":\"HoverTool\"},{\"id\":\"1144\",\"type\":\"HoverTool\"},{\"id\":\"1180\",\"type\":\"HoverTool\"},{\"id\":\"1216\",\"type\":\"HoverTool\"},{\"id\":\"1252\",\"type\":\"HoverTool\"},{\"id\":\"1288\",\"type\":\"HoverTool\"},{\"id\":\"1324\",\"type\":\"HoverTool\"},{\"id\":\"1360\",\"type\":\"HoverTool\"},{\"id\":\"1396\",\"type\":\"HoverTool\"},{\"id\":\"1432\",\"type\":\"HoverTool\"},{\"id\":\"1468\",\"type\":\"HoverTool\"},{\"id\":\"1504\",\"type\":\"HoverTool\"},{\"id\":\"1540\",\"type\":\"HoverTool\"},{\"id\":\"1576\",\"type\":\"HoverTool\"},{\"id\":\"1612\",\"type\":\"HoverTool\"},{\"id\":\"1648\",\"type\":\"HoverTool\"}]},\"id\":\"1793\",\"type\":\"ProxyToolbar\"},{\"attributes\":{\"callback\":null,\"tooltips\":[[\"Prob\",\"@top\"]]},\"id\":\"1108\",\"type\":\"HoverTool\"},{\"attributes\":{\"axis_label\":\"Terms\",\"formatter\":{\"id\":\"1442\",\"type\":\"CategoricalTickFormatter\"},\"major_label_orientation\":1.5707963267948966,\"ticker\":{\"id\":\"1424\",\"type\":\"CategoricalTicker\"}},\"id\":\"1423\",\"type\":\"CategoricalAxis\"},{\"attributes\":{},\"id\":\"1604\",\"type\":\"CategoricalTicker\"},{\"attributes\":{\"dimension\":1,\"ticker\":{\"id\":\"1428\",\"type\":\"BasicTicker\"}},\"id\":\"1431\",\"type\":\"Grid\"},{\"attributes\":{\"fill_alpha\":{\"value\":0.1},\"fill_color\":{\"value\":\"#1f77b4\"},\"line_alpha\":{\"value\":0.1},\"line_color\":{\"value\":\"#1f77b4\"},\"top\":{\"field\":\"top\"},\"width\":{\"value\":0.8},\"x\":{\"field\":\"x\"}},\"id\":\"1113\",\"type\":\"VBar\"},{\"attributes\":{},\"id\":\"1514\",\"type\":\"CategoricalTickFormatter\"},{\"attributes\":{},\"id\":\"1424\",\"type\":\"CategoricalTicker\"},{\"attributes\":{},\"id\":\"1599\",\"type\":\"CategoricalScale\"},{\"attributes\":{},\"id\":\"1192\",\"type\":\"BasicTickFormatter\"},{\"attributes\":{\"ticker\":{\"id\":\"1424\",\"type\":\"CategoricalTicker\"}},\"id\":\"1426\",\"type\":\"Grid\"},{\"attributes\":{\"callback\":null},\"id\":\"1597\",\"type\":\"DataRange1d\"},{\"attributes\":{},\"id\":\"1517\",\"type\":\"UnionRenderers\"},{\"attributes\":{},\"id\":\"1601\",\"type\":\"LinearScale\"},{\"attributes\":{},\"id\":\"1428\",\"type\":\"BasicTicker\"},{\"attributes\":{},\"id\":\"1518\",\"type\":\"Selection\"},{\"attributes\":{\"data_source\":{\"id\":\"1087\",\"type\":\"ColumnDataSource\"},\"glyph\":{\"id\":\"1112\",\"type\":\"VBar\"},\"hover_glyph\":null,\"muted_glyph\":null,\"nonselection_glyph\":{\"id\":\"1113\",\"type\":\"VBar\"},\"selection_glyph\":null,\"view\":{\"id\":\"1115\",\"type\":\"CDSView\"}},\"id\":\"1114\",\"type\":\"GlyphRenderer\"},{\"attributes\":{\"axis_label\":\"Term-Prob\",\"formatter\":{\"id\":\"1444\",\"type\":\"BasicTickFormatter\"},\"ticker\":{\"id\":\"1428\",\"type\":\"BasicTicker\"}},\"id\":\"1427\",\"type\":\"LinearAxis\"},{\"attributes\":{},\"id\":\"1553\",\"type\":\"UnionRenderers\"},{\"attributes\":{\"source\":{\"id\":\"1087\",\"type\":\"ColumnDataSource\"}},\"id\":\"1115\",\"type\":\"CDSView\"},{\"attributes\":{\"callback\":null,\"data\":{\"top\":{\"__ndarray__\":\"7FG4HoXrsT/sUbgeheuxP5qZmZmZmak/exSuR+F6pD+4HoXrUbieP7gehetRuJ4/uB6F61G4nj+4HoXrUbieP3sUrkfhepQ/exSuR+F6lD8=\",\"dtype\":\"float64\",\"shape\":[10]},\"x\":[\"learn\",\"cultur\",\"nice\",\"could\",\"staff\",\"experi\",\"atmospher\",\"skill\",\"easi\",\"better\"]},\"selected\":{\"id\":\"1482\",\"type\":\"Selection\"},\"selection_policy\":{\"id\":\"1481\",\"type\":\"UnionRenderers\"}},\"id\":\"1447\",\"type\":\"ColumnDataSource\"},{\"attributes\":{\"below\":[{\"id\":\"1135\",\"type\":\"CategoricalAxis\"}],\"center\":[{\"id\":\"1138\",\"type\":\"Grid\"},{\"id\":\"1143\",\"type\":\"Grid\"}],\"left\":[{\"id\":\"1139\",\"type\":\"LinearAxis\"}],\"plot_height\":250,\"plot_width\":400,\"renderers\":[{\"id\":\"1150\",\"type\":\"GlyphRenderer\"}],\"title\":{\"id\":\"1125\",\"type\":\"Title\"},\"toolbar\":{\"id\":\"1145\",\"type\":\"Toolbar\"},\"toolbar_location\":null,\"x_range\":{\"id\":\"1127\",\"type\":\"FactorRange\"},\"x_scale\":{\"id\":\"1131\",\"type\":\"CategoricalScale\"},\"y_range\":{\"id\":\"1129\",\"type\":\"DataRange1d\"},\"y_scale\":{\"id\":\"1133\",\"type\":\"LinearScale\"}},\"id\":\"1124\",\"subtype\":\"Figure\",\"type\":\"Plot\"},{\"attributes\":{},\"id\":\"1442\",\"type\":\"CategoricalTickFormatter\"},{\"attributes\":{\"callback\":null,\"data\":{\"top\":{\"__ndarray__\":\"exSuR+F61D/sUbgeheuxP7gehetRuJ4/exSuR+F6lD97FK5H4XqUP3sUrkfhepQ/exSuR+F6hD97FK5H4XqEP3sUrkfheoQ/exSuR+F6hD8=\",\"dtype\":\"float64\",\"shape\":[10]},\"x\":[\"manag\",\"poor\",\"poor_manag\",\"due\",\"cut\",\"rais\",\"extrem\",\"terribl\",\"horribl\",\"polit\"]},\"selected\":{\"id\":\"1554\",\"type\":\"Selection\"},\"selection_policy\":{\"id\":\"1553\",\"type\":\"UnionRenderers\"}},\"id\":\"1519\",\"type\":\"ColumnDataSource\"},{\"attributes\":{\"active_drag\":\"auto\",\"active_inspect\":\"auto\",\"active_multi\":null,\"active_scroll\":\"auto\",\"active_tap\":\"auto\",\"tools\":[{\"id\":\"1432\",\"type\":\"HoverTool\"}]},\"id\":\"1433\",\"type\":\"Toolbar\"},{\"attributes\":{\"dimension\":1,\"ticker\":{\"id\":\"1608\",\"type\":\"BasicTicker\"}},\"id\":\"1611\",\"type\":\"Grid\"},{\"attributes\":{\"below\":[{\"id\":\"1531\",\"type\":\"CategoricalAxis\"}],\"center\":[{\"id\":\"1534\",\"type\":\"Grid\"},{\"id\":\"1539\",\"type\":\"Grid\"}],\"left\":[{\"id\":\"1535\",\"type\":\"LinearAxis\"}],\"plot_height\":250,\"plot_width\":400,\"renderers\":[{\"id\":\"1546\",\"type\":\"GlyphRenderer\"}],\"title\":{\"id\":\"1521\",\"type\":\"Title\"},\"toolbar\":{\"id\":\"1541\",\"type\":\"Toolbar\"},\"toolbar_location\":null,\"x_range\":{\"id\":\"1523\",\"type\":\"FactorRange\"},\"x_scale\":{\"id\":\"1527\",\"type\":\"CategoricalScale\"},\"y_range\":{\"id\":\"1525\",\"type\":\"DataRange1d\"},\"y_scale\":{\"id\":\"1529\",\"type\":\"LinearScale\"}},\"id\":\"1520\",\"subtype\":\"Figure\",\"type\":\"Plot\"},{\"attributes\":{},\"id\":\"1118\",\"type\":\"CategoricalTickFormatter\"},{\"attributes\":{\"callback\":null,\"tooltips\":[[\"Prob\",\"@top\"]]},\"id\":\"1432\",\"type\":\"HoverTool\"},{\"attributes\":{\"axis_label\":\"Term-Prob\",\"formatter\":{\"id\":\"1624\",\"type\":\"BasicTickFormatter\"},\"ticker\":{\"id\":\"1608\",\"type\":\"BasicTicker\"}},\"id\":\"1607\",\"type\":\"LinearAxis\"},{\"attributes\":{\"align\":\"center\",\"text\":\"Topic: 13\"},\"id\":\"1521\",\"type\":\"Title\"},{\"attributes\":{\"fill_alpha\":{\"value\":0.1},\"fill_color\":{\"value\":\"#1f77b4\"},\"line_alpha\":{\"value\":0.1},\"line_color\":{\"value\":\"#1f77b4\"},\"top\":{\"field\":\"top\"},\"width\":{\"value\":0.8},\"x\":{\"field\":\"x\"}},\"id\":\"1437\",\"type\":\"VBar\"},{\"attributes\":{\"data_source\":{\"id\":\"1591\",\"type\":\"ColumnDataSource\"},\"glyph\":{\"id\":\"1616\",\"type\":\"VBar\"},\"hover_glyph\":null,\"muted_glyph\":null,\"nonselection_glyph\":{\"id\":\"1617\",\"type\":\"VBar\"},\"selection_glyph\":null,\"view\":{\"id\":\"1619\",\"type\":\"CDSView\"}},\"id\":\"1618\",\"type\":\"GlyphRenderer\"},{\"attributes\":{\"fill_color\":{\"value\":\"#1f77b4\"},\"line_color\":{\"value\":\"#1f77b4\"},\"top\":{\"field\":\"top\"},\"width\":{\"value\":0.8},\"x\":{\"field\":\"x\"}},\"id\":\"1292\",\"type\":\"VBar\"},{\"attributes\":{},\"id\":\"1662\",\"type\":\"Selection\"},{\"attributes\":{\"active_drag\":\"auto\",\"active_inspect\":\"auto\",\"active_multi\":null,\"active_scroll\":\"auto\",\"active_tap\":\"auto\",\"tools\":[{\"id\":\"1612\",\"type\":\"HoverTool\"}]},\"id\":\"1613\",\"type\":\"Toolbar\"},{\"attributes\":{\"fill_color\":{\"value\":\"#1f77b4\"},\"line_color\":{\"value\":\"#1f77b4\"},\"top\":{\"field\":\"top\"},\"width\":{\"value\":0.8},\"x\":{\"field\":\"x\"}},\"id\":\"1544\",\"type\":\"VBar\"},{\"attributes\":{\"callback\":null,\"data\":{\"top\":{\"__ndarray__\":\"KVyPwvUozD/sUbgeheuxP7gehetRuJ4/uB6F61G4nj+4HoXrUbieP7gehetRuJ4/uB6F61G4nj97FK5H4XqUP3sUrkfhepQ/exSuR+F6lD8=\",\"dtype\":\"float64\",\"shape\":[10]},\"x\":[\"employe\",\"schedul\",\"wage\",\"plan\",\"start\",\"set\",\"healthcar\",\"month\",\"layoff\",\"rude\"]},\"selected\":{\"id\":\"1158\",\"type\":\"Selection\"},\"selection_policy\":{\"id\":\"1157\",\"type\":\"UnionRenderers\"}},\"id\":\"1123\",\"type\":\"ColumnDataSource\"},{\"attributes\":{\"callback\":null,\"tooltips\":[[\"Prob\",\"@top\"]]},\"id\":\"1612\",\"type\":\"HoverTool\"},{\"attributes\":{\"align\":\"center\",\"text\":\"Topic: 2\"},\"id\":\"1125\",\"type\":\"Title\"},{\"attributes\":{\"callback\":null,\"factors\":[\"manag\",\"poor\",\"poor_manag\",\"due\",\"cut\",\"rais\",\"extrem\",\"terribl\",\"horribl\",\"polit\"]},\"id\":\"1523\",\"type\":\"FactorRange\"},{\"attributes\":{\"data_source\":{\"id\":\"1411\",\"type\":\"ColumnDataSource\"},\"glyph\":{\"id\":\"1436\",\"type\":\"VBar\"},\"hover_glyph\":null,\"muted_glyph\":null,\"nonselection_glyph\":{\"id\":\"1437\",\"type\":\"VBar\"},\"selection_glyph\":null,\"view\":{\"id\":\"1439\",\"type\":\"CDSView\"}},\"id\":\"1438\",\"type\":\"GlyphRenderer\"},{\"attributes\":{\"fill_alpha\":{\"value\":0.1},\"fill_color\":{\"value\":\"#1f77b4\"},\"line_alpha\":{\"value\":0.1},\"line_color\":{\"value\":\"#1f77b4\"},\"top\":{\"field\":\"top\"},\"width\":{\"value\":0.8},\"x\":{\"field\":\"x\"}},\"id\":\"1617\",\"type\":\"VBar\"},{\"attributes\":{\"callback\":null},\"id\":\"1525\",\"type\":\"DataRange1d\"},{\"attributes\":{},\"id\":\"1444\",\"type\":\"BasicTickFormatter\"},{\"attributes\":{},\"id\":\"1527\",\"type\":\"CategoricalScale\"},{\"attributes\":{\"source\":{\"id\":\"1411\",\"type\":\"ColumnDataSource\"}},\"id\":\"1439\",\"type\":\"CDSView\"},{\"attributes\":{\"fill_color\":{\"value\":\"#1f77b4\"},\"line_color\":{\"value\":\"#1f77b4\"},\"top\":{\"field\":\"top\"},\"width\":{\"value\":0.8},\"x\":{\"field\":\"x\"}},\"id\":\"1148\",\"type\":\"VBar\"},{\"attributes\":{\"fill_color\":{\"value\":\"#1f77b4\"},\"line_color\":{\"value\":\"#1f77b4\"},\"top\":{\"field\":\"top\"},\"width\":{\"value\":0.8},\"x\":{\"field\":\"x\"}},\"id\":\"1472\",\"type\":\"VBar\"},{\"attributes\":{\"dimension\":1,\"ticker\":{\"id\":\"1356\",\"type\":\"BasicTicker\"}},\"id\":\"1359\",\"type\":\"Grid\"},{\"attributes\":{},\"id\":\"1266\",\"type\":\"Selection\"},{\"attributes\":{},\"id\":\"1356\",\"type\":\"BasicTicker\"},{\"attributes\":{\"below\":[{\"id\":\"1279\",\"type\":\"CategoricalAxis\"}],\"center\":[{\"id\":\"1282\",\"type\":\"Grid\"},{\"id\":\"1287\",\"type\":\"Grid\"}],\"left\":[{\"id\":\"1283\",\"type\":\"LinearAxis\"}],\"plot_height\":250,\"plot_width\":400,\"renderers\":[{\"id\":\"1294\",\"type\":\"GlyphRenderer\"}],\"title\":{\"id\":\"1269\",\"type\":\"Title\"},\"toolbar\":{\"id\":\"1289\",\"type\":\"Toolbar\"},\"toolbar_location\":null,\"x_range\":{\"id\":\"1271\",\"type\":\"FactorRange\"},\"x_scale\":{\"id\":\"1275\",\"type\":\"CategoricalScale\"},\"y_range\":{\"id\":\"1273\",\"type\":\"DataRange1d\"},\"y_scale\":{\"id\":\"1277\",\"type\":\"LinearScale\"}},\"id\":\"1268\",\"subtype\":\"Figure\",\"type\":\"Plot\"},{\"attributes\":{\"axis_label\":\"Term-Prob\",\"formatter\":{\"id\":\"1372\",\"type\":\"BasicTickFormatter\"},\"ticker\":{\"id\":\"1356\",\"type\":\"BasicTicker\"}},\"id\":\"1355\",\"type\":\"LinearAxis\"},{\"attributes\":{\"align\":\"center\",\"text\":\"Topic: 6\"},\"id\":\"1269\",\"type\":\"Title\"},{\"attributes\":{},\"id\":\"1372\",\"type\":\"BasicTickFormatter\"},{\"attributes\":{\"active_drag\":\"auto\",\"active_inspect\":\"auto\",\"active_multi\":null,\"active_scroll\":\"auto\",\"active_tap\":\"auto\",\"tools\":[{\"id\":\"1360\",\"type\":\"HoverTool\"}]},\"id\":\"1361\",\"type\":\"Toolbar\"},{\"attributes\":{\"callback\":null,\"tooltips\":[[\"Prob\",\"@top\"]]},\"id\":\"1360\",\"type\":\"HoverTool\"},{\"attributes\":{\"callback\":null,\"factors\":[\"pay\",\"custom\",\"low\",\"pay_benefit\",\"bad\",\"low_pay\",\"servic\",\"benefit_pay\",\"avail\",\"bad_manag\"]},\"id\":\"1271\",\"type\":\"FactorRange\"},{\"attributes\":{\"fill_alpha\":{\"value\":0.1},\"fill_color\":{\"value\":\"#1f77b4\"},\"line_alpha\":{\"value\":0.1},\"line_color\":{\"value\":\"#1f77b4\"},\"top\":{\"field\":\"top\"},\"width\":{\"value\":0.8},\"x\":{\"field\":\"x\"}},\"id\":\"1365\",\"type\":\"VBar\"},{\"attributes\":{},\"id\":\"1275\",\"type\":\"CategoricalScale\"},{\"attributes\":{\"callback\":null},\"id\":\"1273\",\"type\":\"DataRange1d\"},{\"attributes\":{\"data_source\":{\"id\":\"1339\",\"type\":\"ColumnDataSource\"},\"glyph\":{\"id\":\"1364\",\"type\":\"VBar\"},\"hover_glyph\":null,\"muted_glyph\":null,\"nonselection_glyph\":{\"id\":\"1365\",\"type\":\"VBar\"},\"selection_glyph\":null,\"view\":{\"id\":\"1367\",\"type\":\"CDSView\"}},\"id\":\"1366\",\"type\":\"GlyphRenderer\"},{\"attributes\":{},\"id\":\"1277\",\"type\":\"LinearScale\"},{\"attributes\":{\"source\":{\"id\":\"1339\",\"type\":\"ColumnDataSource\"}},\"id\":\"1367\",\"type\":\"CDSView\"},{\"attributes\":{\"axis_label\":\"Terms\",\"formatter\":{\"id\":\"1298\",\"type\":\"CategoricalTickFormatter\"},\"major_label_orientation\":1.5707963267948966,\"ticker\":{\"id\":\"1280\",\"type\":\"CategoricalTicker\"}},\"id\":\"1279\",\"type\":\"CategoricalAxis\"},{\"attributes\":{\"dimension\":1,\"ticker\":{\"id\":\"1284\",\"type\":\"BasicTicker\"}},\"id\":\"1287\",\"type\":\"Grid\"},{\"attributes\":{},\"id\":\"1370\",\"type\":\"CategoricalTickFormatter\"},{\"attributes\":{},\"id\":\"1280\",\"type\":\"CategoricalTicker\"},{\"attributes\":{\"ticker\":{\"id\":\"1280\",\"type\":\"CategoricalTicker\"}},\"id\":\"1282\",\"type\":\"Grid\"},{\"attributes\":{},\"id\":\"1373\",\"type\":\"UnionRenderers\"},{\"attributes\":{},\"id\":\"1284\",\"type\":\"BasicTicker\"},{\"attributes\":{},\"id\":\"1374\",\"type\":\"Selection\"},{\"attributes\":{\"axis_label\":\"Term-Prob\",\"formatter\":{\"id\":\"1300\",\"type\":\"BasicTickFormatter\"},\"ticker\":{\"id\":\"1284\",\"type\":\"BasicTicker\"}},\"id\":\"1283\",\"type\":\"LinearAxis\"},{\"attributes\":{\"below\":[{\"id\":\"1387\",\"type\":\"CategoricalAxis\"}],\"center\":[{\"id\":\"1390\",\"type\":\"Grid\"},{\"id\":\"1395\",\"type\":\"Grid\"}],\"left\":[{\"id\":\"1391\",\"type\":\"LinearAxis\"}],\"plot_height\":250,\"plot_width\":400,\"renderers\":[{\"id\":\"1402\",\"type\":\"GlyphRenderer\"}],\"title\":{\"id\":\"1377\",\"type\":\"Title\"},\"toolbar\":{\"id\":\"1397\",\"type\":\"Toolbar\"},\"toolbar_location\":null,\"x_range\":{\"id\":\"1379\",\"type\":\"FactorRange\"},\"x_scale\":{\"id\":\"1383\",\"type\":\"CategoricalScale\"},\"y_range\":{\"id\":\"1381\",\"type\":\"DataRange1d\"},\"y_scale\":{\"id\":\"1385\",\"type\":\"LinearScale\"}},\"id\":\"1376\",\"subtype\":\"Figure\",\"type\":\"Plot\"},{\"attributes\":{},\"id\":\"1300\",\"type\":\"BasicTickFormatter\"},{\"attributes\":{\"callback\":null,\"factors\":[\"time\",\"paid\",\"vacat\",\"week\",\"holiday\",\"famili\",\"call\",\"person\",\"weekend\",\"sick\"]},\"id\":\"1307\",\"type\":\"FactorRange\"},{\"attributes\":{\"align\":\"center\",\"text\":\"Topic: 9\"},\"id\":\"1377\",\"type\":\"Title\"},{\"attributes\":{\"active_drag\":\"auto\",\"active_inspect\":\"auto\",\"active_multi\":null,\"active_scroll\":\"auto\",\"active_tap\":\"auto\",\"tools\":[{\"id\":\"1288\",\"type\":\"HoverTool\"}]},\"id\":\"1289\",\"type\":\"Toolbar\"},{\"attributes\":{\"callback\":null,\"tooltips\":[[\"Prob\",\"@top\"]]},\"id\":\"1288\",\"type\":\"HoverTool\"},{\"attributes\":{\"fill_alpha\":{\"value\":0.1},\"fill_color\":{\"value\":\"#1f77b4\"},\"line_alpha\":{\"value\":0.1},\"line_color\":{\"value\":\"#1f77b4\"},\"top\":{\"field\":\"top\"},\"width\":{\"value\":0.8},\"x\":{\"field\":\"x\"}},\"id\":\"1293\",\"type\":\"VBar\"},{\"attributes\":{\"callback\":null,\"factors\":[\"benefit\",\"cowork\",\"excel\",\"friendli\",\"train\",\"decent\",\"cafeteria\",\"decent_pay\",\"bonu\",\"packag\"]},\"id\":\"1379\",\"type\":\"FactorRange\"},{\"attributes\":{\"data_source\":{\"id\":\"1267\",\"type\":\"ColumnDataSource\"},\"glyph\":{\"id\":\"1292\",\"type\":\"VBar\"},\"hover_glyph\":null,\"muted_glyph\":null,\"nonselection_glyph\":{\"id\":\"1293\",\"type\":\"VBar\"},\"selection_glyph\":null,\"view\":{\"id\":\"1295\",\"type\":\"CDSView\"}},\"id\":\"1294\",\"type\":\"GlyphRenderer\"},{\"attributes\":{},\"id\":\"1383\",\"type\":\"CategoricalScale\"},{\"attributes\":{\"callback\":null},\"id\":\"1381\",\"type\":\"DataRange1d\"},{\"attributes\":{\"source\":{\"id\":\"1267\",\"type\":\"ColumnDataSource\"}},\"id\":\"1295\",\"type\":\"CDSView\"},{\"attributes\":{},\"id\":\"1385\",\"type\":\"LinearScale\"},{\"attributes\":{},\"id\":\"1298\",\"type\":\"CategoricalTickFormatter\"},{\"attributes\":{\"axis_label\":\"Terms\",\"formatter\":{\"id\":\"1406\",\"type\":\"CategoricalTickFormatter\"},\"major_label_orientation\":1.5707963267948966,\"ticker\":{\"id\":\"1388\",\"type\":\"CategoricalTicker\"}},\"id\":\"1387\",\"type\":\"CategoricalAxis\"},{\"attributes\":{\"dimension\":1,\"ticker\":{\"id\":\"1392\",\"type\":\"BasicTicker\"}},\"id\":\"1395\",\"type\":\"Grid\"},{\"attributes\":{},\"id\":\"1388\",\"type\":\"CategoricalTicker\"},{\"attributes\":{},\"id\":\"1301\",\"type\":\"UnionRenderers\"},{\"attributes\":{\"ticker\":{\"id\":\"1388\",\"type\":\"CategoricalTicker\"}},\"id\":\"1390\",\"type\":\"Grid\"},{\"attributes\":{},\"id\":\"1302\",\"type\":\"Selection\"},{\"attributes\":{},\"id\":\"1392\",\"type\":\"BasicTicker\"},{\"attributes\":{\"axis_label\":\"Term-Prob\",\"formatter\":{\"id\":\"1408\",\"type\":\"BasicTickFormatter\"},\"ticker\":{\"id\":\"1392\",\"type\":\"BasicTicker\"}},\"id\":\"1391\",\"type\":\"LinearAxis\"},{\"attributes\":{\"callback\":null,\"data\":{\"top\":{\"__ndarray__\":\"KVyPwvUozD/sUbgeheuxP5qZmZmZmak/uB6F61G4nj+4HoXrUbieP7gehetRuJ4/uB6F61G4nj97FK5H4XqUP3sUrkfhepQ/exSuR+F6lD8=\",\"dtype\":\"float64\",\"shape\":[10]},\"x\":[\"time\",\"paid\",\"vacat\",\"week\",\"holiday\",\"famili\",\"call\",\"person\",\"weekend\",\"sick\"]},\"selected\":{\"id\":\"1338\",\"type\":\"Selection\"},\"selection_policy\":{\"id\":\"1337\",\"type\":\"UnionRenderers\"}},\"id\":\"1303\",\"type\":\"ColumnDataSource\"},{\"attributes\":{\"below\":[{\"id\":\"1315\",\"type\":\"CategoricalAxis\"}],\"center\":[{\"id\":\"1318\",\"type\":\"Grid\"},{\"id\":\"1323\",\"type\":\"Grid\"}],\"left\":[{\"id\":\"1319\",\"type\":\"LinearAxis\"}],\"plot_height\":250,\"plot_width\":400,\"renderers\":[{\"id\":\"1330\",\"type\":\"GlyphRenderer\"}],\"title\":{\"id\":\"1305\",\"type\":\"Title\"},\"toolbar\":{\"id\":\"1325\",\"type\":\"Toolbar\"},\"toolbar_location\":null,\"x_range\":{\"id\":\"1307\",\"type\":\"FactorRange\"},\"x_scale\":{\"id\":\"1311\",\"type\":\"CategoricalScale\"},\"y_range\":{\"id\":\"1309\",\"type\":\"DataRange1d\"},\"y_scale\":{\"id\":\"1313\",\"type\":\"LinearScale\"}},\"id\":\"1304\",\"subtype\":\"Figure\",\"type\":\"Plot\"},{\"attributes\":{},\"id\":\"1445\",\"type\":\"UnionRenderers\"},{\"attributes\":{\"fill_color\":{\"value\":\"#1f77b4\"},\"line_color\":{\"value\":\"#1f77b4\"},\"top\":{\"field\":\"top\"},\"width\":{\"value\":0.8},\"x\":{\"field\":\"x\"}},\"id\":\"1328\",\"type\":\"VBar\"},{\"attributes\":{\"active_drag\":\"auto\",\"active_inspect\":\"auto\",\"active_multi\":null,\"active_scroll\":\"auto\",\"active_tap\":\"auto\",\"tools\":[{\"id\":\"1396\",\"type\":\"HoverTool\"}]},\"id\":\"1397\",\"type\":\"Toolbar\"},{\"attributes\":{\"align\":\"center\",\"text\":\"Topic: 7\"},\"id\":\"1305\",\"type\":\"Title\"},{\"attributes\":{\"callback\":null,\"tooltips\":[[\"Prob\",\"@top\"]]},\"id\":\"1396\",\"type\":\"HoverTool\"},{\"attributes\":{},\"id\":\"1313\",\"type\":\"LinearScale\"},{\"attributes\":{},\"id\":\"1311\",\"type\":\"CategoricalScale\"},{\"attributes\":{\"axis_label\":\"Terms\",\"formatter\":{\"id\":\"1334\",\"type\":\"CategoricalTickFormatter\"},\"major_label_orientation\":1.5707963267948966,\"ticker\":{\"id\":\"1316\",\"type\":\"CategoricalTicker\"}},\"id\":\"1315\",\"type\":\"CategoricalAxis\"},{\"attributes\":{\"dimension\":1,\"ticker\":{\"id\":\"1320\",\"type\":\"BasicTicker\"}},\"id\":\"1323\",\"type\":\"Grid\"},{\"attributes\":{},\"id\":\"1316\",\"type\":\"CategoricalTicker\"},{\"attributes\":{\"ticker\":{\"id\":\"1316\",\"type\":\"CategoricalTicker\"}},\"id\":\"1318\",\"type\":\"Grid\"},{\"attributes\":{},\"id\":\"1320\",\"type\":\"BasicTicker\"},{\"attributes\":{\"axis_label\":\"Term-Prob\",\"formatter\":{\"id\":\"1336\",\"type\":\"BasicTickFormatter\"},\"ticker\":{\"id\":\"1320\",\"type\":\"BasicTicker\"}},\"id\":\"1319\",\"type\":\"LinearAxis\"},{\"attributes\":{\"below\":[{\"id\":\"1351\",\"type\":\"CategoricalAxis\"}],\"center\":[{\"id\":\"1354\",\"type\":\"Grid\"},{\"id\":\"1359\",\"type\":\"Grid\"}],\"left\":[{\"id\":\"1355\",\"type\":\"LinearAxis\"}],\"plot_height\":250,\"plot_width\":400,\"renderers\":[{\"id\":\"1366\",\"type\":\"GlyphRenderer\"}],\"title\":{\"id\":\"1341\",\"type\":\"Title\"},\"toolbar\":{\"id\":\"1361\",\"type\":\"Toolbar\"},\"toolbar_location\":null,\"x_range\":{\"id\":\"1343\",\"type\":\"FactorRange\"},\"x_scale\":{\"id\":\"1347\",\"type\":\"CategoricalScale\"},\"y_range\":{\"id\":\"1345\",\"type\":\"DataRange1d\"},\"y_scale\":{\"id\":\"1349\",\"type\":\"LinearScale\"}},\"id\":\"1340\",\"subtype\":\"Figure\",\"type\":\"Plot\"},{\"attributes\":{\"fill_color\":{\"value\":\"#1f77b4\"},\"line_color\":{\"value\":\"#1f77b4\"},\"top\":{\"field\":\"top\"},\"width\":{\"value\":0.8},\"x\":{\"field\":\"x\"}},\"id\":\"1400\",\"type\":\"VBar\"},{\"attributes\":{\"active_drag\":\"auto\",\"active_inspect\":\"auto\",\"active_multi\":null,\"active_scroll\":\"auto\",\"active_tap\":\"auto\",\"tools\":[{\"id\":\"1324\",\"type\":\"HoverTool\"}]},\"id\":\"1325\",\"type\":\"Toolbar\"},{\"attributes\":{\"callback\":null,\"tooltips\":[[\"Prob\",\"@top\"]]},\"id\":\"1324\",\"type\":\"HoverTool\"},{\"attributes\":{\"fill_alpha\":{\"value\":0.1},\"fill_color\":{\"value\":\"#1f77b4\"},\"line_alpha\":{\"value\":0.1},\"line_color\":{\"value\":\"#1f77b4\"},\"top\":{\"field\":\"top\"},\"width\":{\"value\":0.8},\"x\":{\"field\":\"x\"}},\"id\":\"1329\",\"type\":\"VBar\"},{\"attributes\":{\"data_source\":{\"id\":\"1303\",\"type\":\"ColumnDataSource\"},\"glyph\":{\"id\":\"1328\",\"type\":\"VBar\"},\"hover_glyph\":null,\"muted_glyph\":null,\"nonselection_glyph\":{\"id\":\"1329\",\"type\":\"VBar\"},\"selection_glyph\":null,\"view\":{\"id\":\"1331\",\"type\":\"CDSView\"}},\"id\":\"1330\",\"type\":\"GlyphRenderer\"},{\"attributes\":{\"source\":{\"id\":\"1303\",\"type\":\"ColumnDataSource\"}},\"id\":\"1331\",\"type\":\"CDSView\"},{\"attributes\":{},\"id\":\"1334\",\"type\":\"CategoricalTickFormatter\"},{\"attributes\":{},\"id\":\"1336\",\"type\":\"BasicTickFormatter\"},{\"attributes\":{},\"id\":\"1337\",\"type\":\"UnionRenderers\"},{\"attributes\":{},\"id\":\"1338\",\"type\":\"Selection\"},{\"attributes\":{\"align\":\"center\",\"text\":\"Topic: 8\"},\"id\":\"1341\",\"type\":\"Title\"},{\"attributes\":{\"callback\":null,\"data\":{\"top\":{\"__ndarray__\":\"exSuR+F6tD/sUbgeheuxP7gehetRuK4/uB6F61G4rj+amZmZmZmpP3sUrkfheqQ/exSuR+F6pD97FK5H4XqkP3sUrkfheqQ/uB6F61G4nj8=\",\"dtype\":\"float64\",\"shape\":[10]},\"x\":[\"flexibl\",\"life\",\"balanc\",\"schedul\",\"life_balanc\",\"health\",\"compens\",\"insur\",\"product\",\"flexibl_schedul\"]},\"selected\":{\"id\":\"1374\",\"type\":\"Selection\"},\"selection_policy\":{\"id\":\"1373\",\"type\":\"UnionRenderers\"}},\"id\":\"1339\",\"type\":\"ColumnDataSource\"},{\"attributes\":{\"callback\":null,\"data\":{\"top\":{\"__ndarray__\":\"H4XrUbge1T+4HoXrUbiuP3sUrkfheqQ/exSuR+F6pD97FK5H4XqkP7gehetRuJ4/exSuR+F6lD97FK5H4XqUP3sUrkfhepQ/exSuR+F6lD8=\",\"dtype\":\"float64\",\"shape\":[10]},\"x\":[\"benefit\",\"cowork\",\"excel\",\"friendli\",\"train\",\"decent\",\"cafeteria\",\"decent_pay\",\"bonu\",\"packag\"]},\"selected\":{\"id\":\"1410\",\"type\":\"Selection\"},\"selection_policy\":{\"id\":\"1409\",\"type\":\"UnionRenderers\"}},\"id\":\"1375\",\"type\":\"ColumnDataSource\"},{\"attributes\":{\"fill_color\":{\"value\":\"#1f77b4\"},\"line_color\":{\"value\":\"#1f77b4\"},\"top\":{\"field\":\"top\"},\"width\":{\"value\":0.8},\"x\":{\"field\":\"x\"}},\"id\":\"1364\",\"type\":\"VBar\"},{\"attributes\":{\"callback\":null,\"factors\":[\"flexibl\",\"life\",\"balanc\",\"schedul\",\"life_balanc\",\"health\",\"compens\",\"insur\",\"product\",\"flexibl_schedul\"]},\"id\":\"1343\",\"type\":\"FactorRange\"},{\"attributes\":{},\"id\":\"1347\",\"type\":\"CategoricalScale\"},{\"attributes\":{\"callback\":null},\"id\":\"1345\",\"type\":\"DataRange1d\"},{\"attributes\":{},\"id\":\"1349\",\"type\":\"LinearScale\"},{\"attributes\":{\"ticker\":{\"id\":\"1352\",\"type\":\"CategoricalTicker\"}},\"id\":\"1354\",\"type\":\"Grid\"},{\"attributes\":{\"axis_label\":\"Terms\",\"formatter\":{\"id\":\"1370\",\"type\":\"CategoricalTickFormatter\"},\"major_label_orientation\":1.5707963267948966,\"ticker\":{\"id\":\"1352\",\"type\":\"CategoricalTicker\"}},\"id\":\"1351\",\"type\":\"CategoricalAxis\"},{\"attributes\":{},\"id\":\"1352\",\"type\":\"CategoricalTicker\"},{\"attributes\":{},\"id\":\"1228\",\"type\":\"BasicTickFormatter\"},{\"attributes\":{\"data_source\":{\"id\":\"1195\",\"type\":\"ColumnDataSource\"},\"glyph\":{\"id\":\"1220\",\"type\":\"VBar\"},\"hover_glyph\":null,\"muted_glyph\":null,\"nonselection_glyph\":{\"id\":\"1221\",\"type\":\"VBar\"},\"selection_glyph\":null,\"view\":{\"id\":\"1223\",\"type\":\"CDSView\"}},\"id\":\"1222\",\"type\":\"GlyphRenderer\"},{\"attributes\":{\"source\":{\"id\":\"1195\",\"type\":\"ColumnDataSource\"}},\"id\":\"1223\",\"type\":\"CDSView\"},{\"attributes\":{\"below\":[{\"id\":\"1243\",\"type\":\"CategoricalAxis\"}],\"center\":[{\"id\":\"1246\",\"type\":\"Grid\"},{\"id\":\"1251\",\"type\":\"Grid\"}],\"left\":[{\"id\":\"1247\",\"type\":\"LinearAxis\"}],\"plot_height\":250,\"plot_width\":400,\"renderers\":[{\"id\":\"1258\",\"type\":\"GlyphRenderer\"}],\"title\":{\"id\":\"1233\",\"type\":\"Title\"},\"toolbar\":{\"id\":\"1253\",\"type\":\"Toolbar\"},\"toolbar_location\":null,\"x_range\":{\"id\":\"1235\",\"type\":\"FactorRange\"},\"x_scale\":{\"id\":\"1239\",\"type\":\"CategoricalScale\"},\"y_range\":{\"id\":\"1237\",\"type\":\"DataRange1d\"},\"y_scale\":{\"id\":\"1241\",\"type\":\"LinearScale\"}},\"id\":\"1232\",\"subtype\":\"Figure\",\"type\":\"Plot\"},{\"attributes\":{},\"id\":\"1226\",\"type\":\"CategoricalTickFormatter\"},{\"attributes\":{},\"id\":\"1229\",\"type\":\"UnionRenderers\"},{\"attributes\":{},\"id\":\"1230\",\"type\":\"Selection\"},{\"attributes\":{\"callback\":null,\"data\":{\"top\":{\"__ndarray__\":\"KVyPwvUovD8K16NwPQq3P5qZmZmZmak/exSuR+F6pD+4HoXrUbieP7gehetRuJ4/exSuR+F6lD97FK5H4XqUP3sUrkfhepQ/exSuR+F6lD8=\",\"dtype\":\"float64\",\"shape\":[10]},\"x\":[\"advanc\",\"opportun\",\"stress\",\"littl\",\"career\",\"support\",\"limit\",\"leadership\",\"expect\",\"upper\"]},\"selected\":{\"id\":\"1122\",\"type\":\"Selection\"},\"selection_policy\":{\"id\":\"1121\",\"type\":\"UnionRenderers\"}},\"id\":\"1087\",\"type\":\"ColumnDataSource\"},{\"attributes\":{\"callback\":null,\"data\":{\"top\":{\"__ndarray__\":\"uB6F61G4vj+4HoXrUbiuP5qZmZmZmak/mpmZmZmZqT97FK5H4XqkP3sUrkfheqQ/exSuR+F6pD97FK5H4XqUP3sUrkfhepQ/exSuR+F6lD8=\",\"dtype\":\"float64\",\"shape\":[10]},\"x\":[\"day\",\"shift\",\"help\",\"salari\",\"overtim\",\"growth\",\"secur\",\"option\",\"stock\",\"requir\"]},\"selected\":{\"id\":\"1266\",\"type\":\"Selection\"},\"selection_policy\":{\"id\":\"1265\",\"type\":\"UnionRenderers\"}},\"id\":\"1231\",\"type\":\"ColumnDataSource\"},{\"attributes\":{\"align\":\"center\",\"text\":\"Topic: 5\"},\"id\":\"1233\",\"type\":\"Title\"},{\"attributes\":{\"fill_color\":{\"value\":\"#1f77b4\"},\"line_color\":{\"value\":\"#1f77b4\"},\"top\":{\"field\":\"top\"},\"width\":{\"value\":0.8},\"x\":{\"field\":\"x\"}},\"id\":\"1256\",\"type\":\"VBar\"},{\"attributes\":{\"callback\":null,\"factors\":[\"day\",\"shift\",\"help\",\"salari\",\"overtim\",\"growth\",\"secur\",\"option\",\"stock\",\"requir\"]},\"id\":\"1235\",\"type\":\"FactorRange\"},{\"attributes\":{},\"id\":\"1239\",\"type\":\"CategoricalScale\"},{\"attributes\":{\"callback\":null},\"id\":\"1237\",\"type\":\"DataRange1d\"},{\"attributes\":{},\"id\":\"1241\",\"type\":\"LinearScale\"},{\"attributes\":{\"axis_label\":\"Terms\",\"formatter\":{\"id\":\"1262\",\"type\":\"CategoricalTickFormatter\"},\"major_label_orientation\":1.5707963267948966,\"ticker\":{\"id\":\"1244\",\"type\":\"CategoricalTicker\"}},\"id\":\"1243\",\"type\":\"CategoricalAxis\"},{\"attributes\":{},\"id\":\"1264\",\"type\":\"BasicTickFormatter\"},{\"attributes\":{},\"id\":\"1244\",\"type\":\"CategoricalTicker\"},{\"attributes\":{\"ticker\":{\"id\":\"1244\",\"type\":\"CategoricalTicker\"}},\"id\":\"1246\",\"type\":\"Grid\"},{\"attributes\":{},\"id\":\"1248\",\"type\":\"BasicTicker\"},{\"attributes\":{\"axis_label\":\"Term-Prob\",\"formatter\":{\"id\":\"1264\",\"type\":\"BasicTickFormatter\"},\"ticker\":{\"id\":\"1248\",\"type\":\"BasicTicker\"}},\"id\":\"1247\",\"type\":\"LinearAxis\"},{\"attributes\":{\"active_drag\":\"auto\",\"active_inspect\":\"auto\",\"active_multi\":null,\"active_scroll\":\"auto\",\"active_tap\":\"auto\",\"tools\":[{\"id\":\"1252\",\"type\":\"HoverTool\"}]},\"id\":\"1253\",\"type\":\"Toolbar\"},{\"attributes\":{\"callback\":null,\"tooltips\":[[\"Prob\",\"@top\"]]},\"id\":\"1252\",\"type\":\"HoverTool\"},{\"attributes\":{\"fill_alpha\":{\"value\":0.1},\"fill_color\":{\"value\":\"#1f77b4\"},\"line_alpha\":{\"value\":0.1},\"line_color\":{\"value\":\"#1f77b4\"},\"top\":{\"field\":\"top\"},\"width\":{\"value\":0.8},\"x\":{\"field\":\"x\"}},\"id\":\"1257\",\"type\":\"VBar\"},{\"attributes\":{\"callback\":null},\"id\":\"1309\",\"type\":\"DataRange1d\"},{\"attributes\":{\"data_source\":{\"id\":\"1231\",\"type\":\"ColumnDataSource\"},\"glyph\":{\"id\":\"1256\",\"type\":\"VBar\"},\"hover_glyph\":null,\"muted_glyph\":null,\"nonselection_glyph\":{\"id\":\"1257\",\"type\":\"VBar\"},\"selection_glyph\":null,\"view\":{\"id\":\"1259\",\"type\":\"CDSView\"}},\"id\":\"1258\",\"type\":\"GlyphRenderer\"},{\"attributes\":{\"source\":{\"id\":\"1231\",\"type\":\"ColumnDataSource\"}},\"id\":\"1259\",\"type\":\"CDSView\"},{\"attributes\":{\"callback\":null,\"data\":{\"top\":{\"__ndarray__\":\"exSuR+F61D97FK5H4Xq0P+xRuB6F67E/mpmZmZmZqT97FK5H4XqkP3sUrkfheqQ/uB6F61G4nj97FK5H4XqUP3sUrkfhepQ/exSuR+F6hD8=\",\"dtype\":\"float64\",\"shape\":[10]},\"x\":[\"pay\",\"custom\",\"low\",\"pay_benefit\",\"bad\",\"low_pay\",\"servic\",\"benefit_pay\",\"avail\",\"bad_manag\"]},\"selected\":{\"id\":\"1302\",\"type\":\"Selection\"},\"selection_policy\":{\"id\":\"1301\",\"type\":\"UnionRenderers\"}},\"id\":\"1267\",\"type\":\"ColumnDataSource\"},{\"attributes\":{},\"id\":\"1262\",\"type\":\"CategoricalTickFormatter\"},{\"attributes\":{},\"id\":\"1265\",\"type\":\"UnionRenderers\"}],\"root_ids\":[\"1795\"]},\"title\":\"Bokeh Application\",\"version\":\"1.4.0\"}};\n",
       "  var render_items = [{\"docid\":\"2b565eb8-ddf6-4bee-ba2e-06385008a106\",\"roots\":{\"1795\":\"210c3568-ca2b-4217-bc4c-48d2e775397d\"}}];\n",
       "  root.Bokeh.embed.embed_items_notebook(docs_json, render_items);\n",
       "\n",
       "  }\n",
       "  if (root.Bokeh !== undefined) {\n",
       "    embed_document(root);\n",
       "  } else {\n",
       "    var attempts = 0;\n",
       "    var timer = setInterval(function(root) {\n",
       "      if (root.Bokeh !== undefined) {\n",
       "        clearInterval(timer);\n",
       "        embed_document(root);\n",
       "      } else {\n",
       "        attempts++;\n",
       "        if (attempts > 100) {\n",
       "          clearInterval(timer);\n",
       "          console.log(\"Bokeh: ERROR: Unable to run BokehJS code because BokehJS library is missing\");\n",
       "        }\n",
       "      }\n",
       "    }, 10, root)\n",
       "  }\n",
       "})(window);"
      ],
      "application/vnd.bokehjs_exec.v0+json": ""
     },
     "metadata": {
      "application/vnd.bokehjs_exec.v0+json": {
       "id": "1795"
      }
     },
     "output_type": "display_data"
    },
    {
     "data": {
      "text/plain": [
       "<Figure size 432x288 with 0 Axes>"
      ]
     },
     "metadata": {},
     "output_type": "display_data"
    }
   ],
   "source": [
    "from bokeh.layouts import gridplot\n",
    "from bokeh.models.annotations import Title\n",
    "from bokeh.io import export_png\n",
    "\n",
    "fs = []\n",
    "for i in range(num_topics):\n",
    "    df_ = pd.DataFrame()\n",
    "    df_[\"x\"] = imp_words[i]\n",
    "    df_[\"top\"] = imp_word_prob[i]\n",
    "    \n",
    "    source = ColumnDataSource(dict(\n",
    "        x=df_['x'],\n",
    "        top=df_['top']\n",
    "    ))\n",
    "    \n",
    "    p = figure(x_range=df_[\"x\"], plot_height=250, plot_width=400, title=f\"Topic: {i+1}\",\n",
    "           toolbar_location=None, tools=\"hover\", x_axis_label=\"Terms\", y_axis_label=\"Term-Prob\")\n",
    "    p.vbar(x='x', top= 'top', width=0.8, source=source)\n",
    "    hover = p.select(dict(type=HoverTool))\n",
    "    hover.tooltips = { \"Prob\": \"@top\"}\n",
    "    p.xaxis.major_label_orientation = math.pi/2\n",
    "    p.title.align = \"center\"\n",
    "    fs.append(p)\n",
    "\n",
    "t = Title()\n",
    "t.text = 'Topic-Term Probability'\n",
    "plt.suptitle(\"Topic-Term Probability\")\n",
    "# plt.show()\n",
    "show(gridplot(fs, ncols=2))\n",
    "# output_file(\"test.html\")\n",
    "import os\n",
    "\n",
    "# root = os.path.expanduser(\"~\")\n",
    "# path = root + \"/Desktop/R_js/img/pros/bar.png\"\n",
    "# export_png(plt, filename=path)\n"
   ]
  },
  {
   "cell_type": "markdown",
   "metadata": {},
   "source": [
    "# Hierarchical Clustering"
   ]
  },
  {
   "cell_type": "code",
   "execution_count": 87,
   "metadata": {},
   "outputs": [],
   "source": [
    "# num_topics = 16\n",
    "df = pd.read_csv(f\"~/Desktop/R_js/data1/beta/pro{num_topics}_beta.csv\")"
   ]
  },
  {
   "cell_type": "code",
   "execution_count": 88,
   "metadata": {},
   "outputs": [
    {
     "data": {
      "text/html": [
       "<div>\n",
       "<style scoped>\n",
       "    .dataframe tbody tr th:only-of-type {\n",
       "        vertical-align: middle;\n",
       "    }\n",
       "\n",
       "    .dataframe tbody tr th {\n",
       "        vertical-align: top;\n",
       "    }\n",
       "\n",
       "    .dataframe thead th {\n",
       "        text-align: right;\n",
       "    }\n",
       "</style>\n",
       "<table border=\"1\" class=\"dataframe\">\n",
       "  <thead>\n",
       "    <tr style=\"text-align: right;\">\n",
       "      <th></th>\n",
       "      <th>topic</th>\n",
       "      <th>term</th>\n",
       "      <th>beta</th>\n",
       "    </tr>\n",
       "  </thead>\n",
       "  <tbody>\n",
       "    <tr>\n",
       "      <td>0</td>\n",
       "      <td>1</td>\n",
       "      <td>1_hour_break</td>\n",
       "      <td>4.443760e-301</td>\n",
       "    </tr>\n",
       "    <tr>\n",
       "      <td>1</td>\n",
       "      <td>2</td>\n",
       "      <td>1_hour_break</td>\n",
       "      <td>0.000000e+00</td>\n",
       "    </tr>\n",
       "    <tr>\n",
       "      <td>2</td>\n",
       "      <td>3</td>\n",
       "      <td>1_hour_break</td>\n",
       "      <td>1.693463e-285</td>\n",
       "    </tr>\n",
       "    <tr>\n",
       "      <td>3</td>\n",
       "      <td>4</td>\n",
       "      <td>1_hour_break</td>\n",
       "      <td>5.632717e-231</td>\n",
       "    </tr>\n",
       "    <tr>\n",
       "      <td>4</td>\n",
       "      <td>5</td>\n",
       "      <td>1_hour_break</td>\n",
       "      <td>0.000000e+00</td>\n",
       "    </tr>\n",
       "  </tbody>\n",
       "</table>\n",
       "</div>"
      ],
      "text/plain": [
       "   topic          term           beta\n",
       "0      1  1_hour_break  4.443760e-301\n",
       "1      2  1_hour_break   0.000000e+00\n",
       "2      3  1_hour_break  1.693463e-285\n",
       "3      4  1_hour_break  5.632717e-231\n",
       "4      5  1_hour_break   0.000000e+00"
      ]
     },
     "execution_count": 88,
     "metadata": {},
     "output_type": "execute_result"
    }
   ],
   "source": [
    "df.head()"
   ]
  },
  {
   "cell_type": "code",
   "execution_count": 89,
   "metadata": {},
   "outputs": [
    {
     "name": "stdout",
     "output_type": "stream",
     "text": [
      "16\n",
      "16\n"
     ]
    }
   ],
   "source": [
    "topic_word_distr = []\n",
    "imp_words = []\n",
    "terms = df[df.topic == 1].term.values.tolist()\n",
    "\n",
    "num_topics = len(df.topic.unique())\n",
    "\n",
    "for i in range(1, num_topics+1):\n",
    "    topic = df[df.topic == i] \n",
    "    vals = topic.beta.values.tolist()\n",
    "    topic_word_distr += [np.asarray(vals)]\n",
    "    words = [terms[i] for i in np.asarray(vals).argsort()[-10:][::-1].tolist()]\n",
    "    imp_words.append(words)\n",
    "    \n",
    "print(len(topic_word_distr))\n",
    "print(len(imp_words))\n"
   ]
  },
  {
   "cell_type": "code",
   "execution_count": 90,
   "metadata": {},
   "outputs": [
    {
     "name": "stdout",
     "output_type": "stream",
     "text": [
      "[[0.0, inf, inf, inf, inf, inf, inf, 0.8320041574735262, inf, 0.83241516788048, inf, inf, inf, inf, inf, 0.8317131581781076], [inf, 0.0, 0.8321510639271059, 0.830746994435888, inf, inf, inf, 0.8318968993283732, inf, inf, inf, inf, inf, inf, inf, 0.8317036099812292], [inf, 0.8321510639271059, 0.0, inf, 0.8324766704918531, inf, inf, 0.8324768012220044, inf, inf, inf, inf, inf, inf, inf, inf], [inf, 0.830746994435888, inf, 0.0, 0.8320672013953118, inf, inf, 0.8323237411236151, 0.8301030610348346, 0.8320602147982433, 0.8325149998412377, inf, inf, inf, 0.8324416674272346, inf], [inf, inf, 0.8324766704918531, 0.8320672013953118, 0.0, inf, inf, inf, 0.8318125706383528, inf, 0.8323137976550453, inf, inf, 0.8319785256189793, 0.8311171130100422, 0.8322892853933841], [inf, inf, inf, inf, inf, 0.0, inf, 0.8316465019834358, inf, 0.8317515151195622, 0.832336999490058, inf, inf, 0.8324342971843687, inf, inf], [inf, inf, inf, inf, inf, inf, 0.0, inf, inf, inf, inf, inf, inf, inf, inf, inf], [0.8320041574735262, 0.8318968993283732, 0.8324768012220044, 0.8323237411236151, inf, 0.8316465019834358, inf, 0.0, 0.8318168802836499, 0.832146442032297, 0.8323353801548613, 0.8048428127304854, 0.8289727379761771, 0.8321947222941357, 0.8323405196603263, 0.8321567996841556], [inf, inf, inf, 0.8301030610348346, 0.8318125706383528, inf, inf, 0.8318168802836499, 0.0, 0.831847684056393, 0.8324837468299101, inf, inf, inf, inf, inf], [0.83241516788048, inf, inf, 0.8320602147982433, inf, 0.8317515151195622, inf, 0.832146442032297, 0.831847684056393, 0.0, inf, inf, 0.8323979157338178, 0.8323788974478886, inf, inf], [inf, inf, inf, 0.8325149998412377, 0.8323137976550453, 0.832336999490058, inf, 0.8323353801548613, 0.8324837468299101, inf, 0.0, inf, 0.8316017485957985, 0.8324986299362174, 0.8324878522176025, 0.8319395866291809], [inf, inf, inf, inf, inf, inf, inf, 0.8048428127304854, inf, inf, inf, 0.0, inf, inf, inf, inf], [inf, inf, inf, inf, inf, inf, inf, 0.8289727379761771, inf, 0.8323979157338178, 0.8316017485957985, inf, 0.0, inf, inf, inf], [inf, inf, inf, inf, 0.8319785256189793, 0.8324342971843687, inf, 0.8321947222941357, inf, 0.8323788974478886, 0.8324986299362174, inf, inf, 0.0, inf, inf], [inf, inf, inf, 0.8324416674272346, 0.8311171130100422, inf, inf, 0.8323405196603263, inf, inf, 0.8324878522176025, inf, inf, inf, 0.0, inf], [0.8317131581781076, 0.8317036099812292, inf, inf, 0.8322892853933841, inf, inf, 0.8321567996841556, inf, inf, 0.8319395866291809, inf, inf, inf, inf, 0.0]]\n"
     ]
    }
   ],
   "source": [
    "from scipy.spatial import distance\n",
    "# import scipy\n",
    "\n",
    "dist = []\n",
    "for i in range(num_topics): \n",
    "    t1 = topic_word_distr[i]\n",
    "    d1 = []\n",
    "    for j in range(num_topics):\n",
    "        t2 = topic_word_distr[j]\n",
    "        d = distance.jensenshannon(t1, t2)\n",
    "        d1.append(d)\n",
    "    dist.append(d1)\n",
    "\n",
    "print(dist)"
   ]
  },
  {
   "cell_type": "code",
   "execution_count": 91,
   "metadata": {},
   "outputs": [
    {
     "name": "stdout",
     "output_type": "stream",
     "text": [
      "16\n"
     ]
    }
   ],
   "source": [
    "from sklearn.metrics.pairwise import cosine_similarity\n",
    "import math\n",
    "\n",
    "cos_sim = cosine_similarity(topic_word_distr, topic_word_distr)\n",
    "# cos_sim = [['{:f}'.format(item) for item in item_array] for item_array in cos_sim]\n",
    "# cos_sim = np.array(cos_sim)\n",
    "np.set_printoptions(suppress=True)\n",
    "cos_sim = np.round(cos_sim, 2)\n",
    "print((len(cos_sim[0])))"
   ]
  },
  {
   "cell_type": "code",
   "execution_count": 92,
   "metadata": {},
   "outputs": [],
   "source": [
    "# import scipy.cluster.hierarchy as shc\n",
    "# import matplotlib.pyplot as plt\n",
    "\n",
    "# plt.figure(figsize=(10, 7))\n",
    "# plt.title(\" Dendograms\")\n",
    "# dend = shc.dendrogram(shc.linkage(cos_sim, method='ward'))"
   ]
  },
  {
   "cell_type": "code",
   "execution_count": 98,
   "metadata": {},
   "outputs": [
    {
     "data": {
      "text/plain": [
       "True"
      ]
     },
     "execution_count": 98,
     "metadata": {},
     "output_type": "execute_result"
    }
   ],
   "source": [
    "import os\n",
    "\n",
    "home = os.path.expanduser(\"~\")\n",
    "os.path.exists(home + \"/Desktop\")"
   ]
  },
  {
   "cell_type": "code",
   "execution_count": 104,
   "metadata": {},
   "outputs": [
    {
     "data": {
      "image/png": "[encoded data removed]",
      "text/plain": [
       "<Figure size 720x504 with 1 Axes>"
      ]
     },
     "metadata": {
      "needs_background": "light"
     },
     "output_type": "display_data"
    }
   ],
   "source": [
    "from scipy.cluster.hierarchy import dendrogram, linkage\n",
    "from matplotlib import pyplot as plt\n",
    "# from scipy.cluster import hierarchy \n",
    "\n",
    "# hierarchy.set_link_color_palette(['C0'])\n",
    "\n",
    "linked = linkage(cos_sim, 'ward')\n",
    "\n",
    "labelList = range(1, num_topics+1)\n",
    "\n",
    "plt.figure(figsize=(10, 7))\n",
    "dendrogram(linked,\n",
    "            orientation='top',\n",
    "            labels=labelList,\n",
    "            show_leaf_counts=True)\n",
    "plt.xlabel(\"Num Topics\")\n",
    "plt.ylabel(\"Similarity\")\n",
    "plt.title(\"Hierarchical Clustering\")\n",
    "# plt.show()\n",
    "\n",
    "plt.savefig(home + \"/Desktop/R_js/img/pros/hier.png\")\n",
    "\n",
    "\n"
   ]
  },
  {
   "cell_type": "code",
   "execution_count": null,
   "metadata": {},
   "outputs": [],
   "source": []
  }
 ],
 "metadata": {
  "kernelspec": {
   "display_name": "Python 3",
   "language": "python",
   "name": "python3"
  },
  "language_info": {
   "codemirror_mode": {
    "name": "ipython",
    "version": 3
   },
   "file_extension": ".py",
   "mimetype": "text/x-python",
   "name": "python",
   "nbconvert_exporter": "python",
   "pygments_lexer": "ipython3",
   "version": "3.7.6"
  }
 },
 "nbformat": 4,
 "nbformat_minor": 2
}
