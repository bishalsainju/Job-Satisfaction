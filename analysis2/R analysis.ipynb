{
 "cells": [
  {
   "cell_type": "code",
   "execution_count": 36,
   "metadata": {},
   "outputs": [],
   "source": [
    "import pandas as pd\n",
    "import seaborn as sns\n",
    "import numpy as np\n",
    "import matplotlib.pyplot as plt\n",
    "\n",
    "num_topics = 16"
   ]
  },
  {
   "cell_type": "code",
   "execution_count": 2,
   "metadata": {},
   "outputs": [],
   "source": [
    "path=f\"~/Desktop/R_js/data1/gamma/pro{num_topics}_gamma.csv\"\n",
    "df = pd.read_csv(path)\n"
   ]
  },
  {
   "cell_type": "code",
   "execution_count": 3,
   "metadata": {},
   "outputs": [
    {
     "data": {
      "text/html": [
       "<div>\n",
       "<style scoped>\n",
       "    .dataframe tbody tr th:only-of-type {\n",
       "        vertical-align: middle;\n",
       "    }\n",
       "\n",
       "    .dataframe tbody tr th {\n",
       "        vertical-align: top;\n",
       "    }\n",
       "\n",
       "    .dataframe thead th {\n",
       "        text-align: right;\n",
       "    }\n",
       "</style>\n",
       "<table border=\"1\" class=\"dataframe\">\n",
       "  <thead>\n",
       "    <tr style=\"text-align: right;\">\n",
       "      <th></th>\n",
       "      <th>document</th>\n",
       "      <th>topic</th>\n",
       "      <th>gamma</th>\n",
       "    </tr>\n",
       "  </thead>\n",
       "  <tbody>\n",
       "    <tr>\n",
       "      <td>0</td>\n",
       "      <td>1</td>\n",
       "      <td>1</td>\n",
       "      <td>0.018924</td>\n",
       "    </tr>\n",
       "    <tr>\n",
       "      <td>1</td>\n",
       "      <td>2</td>\n",
       "      <td>1</td>\n",
       "      <td>0.034041</td>\n",
       "    </tr>\n",
       "    <tr>\n",
       "      <td>2</td>\n",
       "      <td>3</td>\n",
       "      <td>1</td>\n",
       "      <td>0.049521</td>\n",
       "    </tr>\n",
       "    <tr>\n",
       "      <td>3</td>\n",
       "      <td>4</td>\n",
       "      <td>1</td>\n",
       "      <td>0.028633</td>\n",
       "    </tr>\n",
       "    <tr>\n",
       "      <td>4</td>\n",
       "      <td>5</td>\n",
       "      <td>1</td>\n",
       "      <td>0.028980</td>\n",
       "    </tr>\n",
       "  </tbody>\n",
       "</table>\n",
       "</div>"
      ],
      "text/plain": [
       "   document  topic     gamma\n",
       "0         1      1  0.018924\n",
       "1         2      1  0.034041\n",
       "2         3      1  0.049521\n",
       "3         4      1  0.028633\n",
       "4         5      1  0.028980"
      ]
     },
     "execution_count": 3,
     "metadata": {},
     "output_type": "execute_result"
    }
   ],
   "source": [
    "df.head()"
   ]
  },
  {
   "cell_type": "markdown",
   "metadata": {},
   "source": [
    "# Gamma Distribution"
   ]
  },
  {
   "cell_type": "code",
   "execution_count": 5,
   "metadata": {},
   "outputs": [
    {
     "data": {
      "text/plain": [
       "<matplotlib.axes._subplots.AxesSubplot at 0x1a1792b450>"
      ]
     },
     "execution_count": 5,
     "metadata": {},
     "output_type": "execute_result"
    },
    {
     "data": {
      "image/png": "[encoded data removed]",
      "text/plain": [
       "<Figure size 432x288 with 1 Axes>"
      ]
     },
     "metadata": {
      "needs_background": "light"
     },
     "output_type": "display_data"
    }
   ],
   "source": [
    "sns.distplot(df[df.topic==14]['gamma'])"
   ]
  },
  {
   "cell_type": "code",
   "execution_count": 7,
   "metadata": {},
   "outputs": [
    {
     "data": {
      "text/plain": [
       "<matplotlib.axes._subplots.AxesSubplot at 0x1a23160350>"
      ]
     },
     "execution_count": 7,
     "metadata": {},
     "output_type": "execute_result"
    },
    {
     "data": {
      "image/png": "[encoded data removed]",
      "text/plain": [
       "<Figure size 432x288 with 1 Axes>"
      ]
     },
     "metadata": {
      "needs_background": "light"
     },
     "output_type": "display_data"
    }
   ],
   "source": [
    "doc = 160\n",
    "sns.barplot(df[df.document == doc]['topic'], df[df.document == doc]['gamma'])"
   ]
  },
  {
   "cell_type": "markdown",
   "metadata": {},
   "source": [
    "# Topic Proportions"
   ]
  },
  {
   "cell_type": "code",
   "execution_count": 42,
   "metadata": {},
   "outputs": [
    {
     "data": {
      "text/html": [
       "<div>\n",
       "<style scoped>\n",
       "    .dataframe tbody tr th:only-of-type {\n",
       "        vertical-align: middle;\n",
       "    }\n",
       "\n",
       "    .dataframe tbody tr th {\n",
       "        vertical-align: top;\n",
       "    }\n",
       "\n",
       "    .dataframe thead th {\n",
       "        text-align: right;\n",
       "    }\n",
       "</style>\n",
       "<table border=\"1\" class=\"dataframe\">\n",
       "  <thead>\n",
       "    <tr style=\"text-align: right;\">\n",
       "      <th></th>\n",
       "      <th>topic_num</th>\n",
       "      <th>topic_prop</th>\n",
       "    </tr>\n",
       "  </thead>\n",
       "  <tbody>\n",
       "    <tr>\n",
       "      <td>0</td>\n",
       "      <td>1</td>\n",
       "      <td>0.065207</td>\n",
       "    </tr>\n",
       "    <tr>\n",
       "      <td>1</td>\n",
       "      <td>2</td>\n",
       "      <td>0.041748</td>\n",
       "    </tr>\n",
       "    <tr>\n",
       "      <td>2</td>\n",
       "      <td>3</td>\n",
       "      <td>0.073033</td>\n",
       "    </tr>\n",
       "    <tr>\n",
       "      <td>3</td>\n",
       "      <td>4</td>\n",
       "      <td>0.041516</td>\n",
       "    </tr>\n",
       "    <tr>\n",
       "      <td>4</td>\n",
       "      <td>5</td>\n",
       "      <td>0.095124</td>\n",
       "    </tr>\n",
       "  </tbody>\n",
       "</table>\n",
       "</div>"
      ],
      "text/plain": [
       "  topic_num  topic_prop\n",
       "0         1    0.065207\n",
       "1         2    0.041748\n",
       "2         3    0.073033\n",
       "3         4    0.041516\n",
       "4         5    0.095124"
      ]
     },
     "execution_count": 42,
     "metadata": {},
     "output_type": "execute_result"
    }
   ],
   "source": [
    "# df[df.topic == 6]['gamma'].mean()\n",
    "\n",
    "\n",
    "props = []\n",
    "for i in range(num_topics):\n",
    "    props.append([str(i+1), df[df.topic == i+1]['gamma'].mean()])\n",
    "\n",
    "df_prop = pd.DataFrame(props, columns = [\"topic_num\", \"topic_prop\"])\n",
    "df_prop.head()"
   ]
  },
  {
   "cell_type": "code",
   "execution_count": 63,
   "metadata": {},
   "outputs": [
    {
     "data": {
      "image/png": "[encoded data removed]",
      "text/plain": [
       "<Figure size 576x432 with 1 Axes>"
      ]
     },
     "metadata": {
      "needs_background": "light"
     },
     "output_type": "display_data"
    }
   ],
   "source": [
    "\n",
    "plt.figure(figsize=(8,6))\n",
    "df_prop = df_prop.sort_values(by=\"topic_prop\", ascending=True)\n",
    "plt.barh(df_prop[\"topic_num\"], df_prop[\"topic_prop\"])\n",
    "plt.xlabel('topic_prop')\n",
    "plt.ylabel('topic_num')\n",
    "plt.title('Topic Proportion')\n",
    "plt.show()"
   ]
  },
  {
   "cell_type": "markdown",
   "metadata": {},
   "source": [
    "# Topic Word Distribution"
   ]
  },
  {
   "cell_type": "code",
   "execution_count": 65,
   "metadata": {},
   "outputs": [
    {
     "data": {
      "text/html": [
       "<div>\n",
       "<style scoped>\n",
       "    .dataframe tbody tr th:only-of-type {\n",
       "        vertical-align: middle;\n",
       "    }\n",
       "\n",
       "    .dataframe tbody tr th {\n",
       "        vertical-align: top;\n",
       "    }\n",
       "\n",
       "    .dataframe thead th {\n",
       "        text-align: right;\n",
       "    }\n",
       "</style>\n",
       "<table border=\"1\" class=\"dataframe\">\n",
       "  <thead>\n",
       "    <tr style=\"text-align: right;\">\n",
       "      <th></th>\n",
       "      <th>topic</th>\n",
       "      <th>term</th>\n",
       "      <th>beta</th>\n",
       "    </tr>\n",
       "  </thead>\n",
       "  <tbody>\n",
       "    <tr>\n",
       "      <td>0</td>\n",
       "      <td>1</td>\n",
       "      <td>1_hour_break</td>\n",
       "      <td>4.443760e-301</td>\n",
       "    </tr>\n",
       "    <tr>\n",
       "      <td>1</td>\n",
       "      <td>2</td>\n",
       "      <td>1_hour_break</td>\n",
       "      <td>0.000000e+00</td>\n",
       "    </tr>\n",
       "    <tr>\n",
       "      <td>2</td>\n",
       "      <td>3</td>\n",
       "      <td>1_hour_break</td>\n",
       "      <td>1.693463e-285</td>\n",
       "    </tr>\n",
       "    <tr>\n",
       "      <td>3</td>\n",
       "      <td>4</td>\n",
       "      <td>1_hour_break</td>\n",
       "      <td>5.632717e-231</td>\n",
       "    </tr>\n",
       "    <tr>\n",
       "      <td>4</td>\n",
       "      <td>5</td>\n",
       "      <td>1_hour_break</td>\n",
       "      <td>0.000000e+00</td>\n",
       "    </tr>\n",
       "  </tbody>\n",
       "</table>\n",
       "</div>"
      ],
      "text/plain": [
       "   topic          term           beta\n",
       "0      1  1_hour_break  4.443760e-301\n",
       "1      2  1_hour_break   0.000000e+00\n",
       "2      3  1_hour_break  1.693463e-285\n",
       "3      4  1_hour_break  5.632717e-231\n",
       "4      5  1_hour_break   0.000000e+00"
      ]
     },
     "execution_count": 65,
     "metadata": {},
     "output_type": "execute_result"
    }
   ],
   "source": [
    "path=f\"~/Desktop/R_js/data1/beta/pro{num_topics}_beta.csv\"\n",
    "df_beta = pd.read_csv(path)\n",
    "df_beta.head()"
   ]
  },
  {
   "cell_type": "code",
   "execution_count": 67,
   "metadata": {},
   "outputs": [],
   "source": [
    "df_prune = df_beta[df_beta.topic == 1].sort_values(by=\"beta\", ascending=False)[:10]"
   ]
  },
  {
   "cell_type": "code",
   "execution_count": 69,
   "metadata": {},
   "outputs": [
    {
     "data": {
      "image/png": "[encoded data removed]",
      "text/plain": [
       "<Figure size 432x288 with 1 Axes>"
      ]
     },
     "metadata": {
      "needs_background": "light"
     },
     "output_type": "display_data"
    }
   ],
   "source": [
    "sns.barplot(x = \"term\", y = \"beta\", data = df_prune)\n",
    "plt.show()"
   ]
  },
  {
   "cell_type": "code",
   "execution_count": 70,
   "metadata": {},
   "outputs": [],
   "source": [
    "df = df_beta.copy()\n",
    "\n",
    "topic_word_distr = []\n",
    "imp_words = []\n",
    "imp_word_prob = []\n",
    "terms = df[df.topic == 1].term.values.tolist()\n",
    "\n",
    "num_topics = len(df.topic.unique())\n",
    "for i in range(1, num_topics+1):\n",
    "    topic = df[df.topic == i] \n",
    "    vals = topic.beta.values.tolist()\n",
    "    topic_word_distr += [np.asarray(vals)]\n",
    "    words = [terms[i] for i in np.asarray(vals).argsort()[-10:][::-1].tolist()]\n",
    "    word_prob = [np.round(vals[i], 2) for i in np.asarray(vals).argsort()[-10:][::-1].tolist()]\n",
    "    imp_words.append(words)\n",
    "    imp_word_prob.append(word_prob)\n",
    "    \n",
    "# print(len(topic_word_distr))\n",
    "# print(len(imp_words))\n",
    "\n",
    "# print(imp_words)\n",
    "# print(imp_word_prob)"
   ]
  },
  {
   "cell_type": "code",
   "execution_count": 71,
   "metadata": {},
   "outputs": [
    {
     "data": {
      "image/png": "[encoded data removed]",
      "text/plain": [
       "<Figure size 432x288 with 1 Axes>"
      ]
     },
     "metadata": {
      "needs_background": "light"
     },
     "output_type": "display_data"
    }
   ],
   "source": [
    "import seaborn as sns\n",
    "import matplotlib.pyplot as plt\n",
    "\n",
    "sns.barplot(imp_words[0], imp_word_prob[0])\n",
    "plt.show()"
   ]
  },
  {
   "cell_type": "code",
   "execution_count": 106,
   "metadata": {},
   "outputs": [
    {
     "data": {
      "text/html": [
       "\n",
       "    <div class=\"bk-root\">\n",
       "        <a href=\"https://bokeh.pydata.org\" target=\"_blank\" class=\"bk-logo bk-logo-small bk-logo-notebook\"></a>\n",
       "        <span id=\"21101\">Loading BokehJS ...</span>\n",
       "    </div>"
      ]
     },
     "metadata": {},
     "output_type": "display_data"
    },
    {
     "data": {
      "application/javascript": [
       "\n",
       "(function(root) {\n",
       "  function now() {\n",
       "    return new Date();\n",
       "  }\n",
       "\n",
       "  var force = true;\n",
       "\n",
       "  if (typeof root._bokeh_onload_callbacks === \"undefined\" || force === true) {\n",
       "    root._bokeh_onload_callbacks = [];\n",
       "    root._bokeh_is_loading = undefined;\n",
       "  }\n",
       "\n",
       "  var JS_MIME_TYPE = 'application/javascript';\n",
       "  var HTML_MIME_TYPE = 'text/html';\n",
       "  var EXEC_MIME_TYPE = 'application/vnd.bokehjs_exec.v0+json';\n",
       "  var CLASS_NAME = 'output_bokeh rendered_html';\n",
       "\n",
       "  /**\n",
       "   * Render data to the DOM node\n",
       "   */\n",
       "  function render(props, node) {\n",
       "    var script = document.createElement(\"script\");\n",
       "    node.appendChild(script);\n",
       "  }\n",
       "\n",
       "  /**\n",
       "   * Handle when an output is cleared or removed\n",
       "   */\n",
       "  function handleClearOutput(event, handle) {\n",
       "    var cell = handle.cell;\n",
       "\n",
       "    var id = cell.output_area._bokeh_element_id;\n",
       "    var server_id = cell.output_area._bokeh_server_id;\n",
       "    // Clean up Bokeh references\n",
       "    if (id != null && id in Bokeh.index) {\n",
       "      Bokeh.index[id].model.document.clear();\n",
       "      delete Bokeh.index[id];\n",
       "    }\n",
       "\n",
       "    if (server_id !== undefined) {\n",
       "      // Clean up Bokeh references\n",
       "      var cmd = \"from bokeh.io.state import curstate; print(curstate().uuid_to_server['\" + server_id + \"'].get_sessions()[0].document.roots[0]._id)\";\n",
       "      cell.notebook.kernel.execute(cmd, {\n",
       "        iopub: {\n",
       "          output: function(msg) {\n",
       "            var id = msg.content.text.trim();\n",
       "            if (id in Bokeh.index) {\n",
       "              Bokeh.index[id].model.document.clear();\n",
       "              delete Bokeh.index[id];\n",
       "            }\n",
       "          }\n",
       "        }\n",
       "      });\n",
       "      // Destroy server and session\n",
       "      var cmd = \"import bokeh.io.notebook as ion; ion.destroy_server('\" + server_id + \"')\";\n",
       "      cell.notebook.kernel.execute(cmd);\n",
       "    }\n",
       "  }\n",
       "\n",
       "  /**\n",
       "   * Handle when a new output is added\n",
       "   */\n",
       "  function handleAddOutput(event, handle) {\n",
       "    var output_area = handle.output_area;\n",
       "    var output = handle.output;\n",
       "\n",
       "    // limit handleAddOutput to display_data with EXEC_MIME_TYPE content only\n",
       "    if ((output.output_type != \"display_data\") || (!output.data.hasOwnProperty(EXEC_MIME_TYPE))) {\n",
       "      return\n",
       "    }\n",
       "\n",
       "    var toinsert = output_area.element.find(\".\" + CLASS_NAME.split(' ')[0]);\n",
       "\n",
       "    if (output.metadata[EXEC_MIME_TYPE][\"id\"] !== undefined) {\n",
       "      toinsert[toinsert.length - 1].firstChild.textContent = output.data[JS_MIME_TYPE];\n",
       "      // store reference to embed id on output_area\n",
       "      output_area._bokeh_element_id = output.metadata[EXEC_MIME_TYPE][\"id\"];\n",
       "    }\n",
       "    if (output.metadata[EXEC_MIME_TYPE][\"server_id\"] !== undefined) {\n",
       "      var bk_div = document.createElement(\"div\");\n",
       "      bk_div.innerHTML = output.data[HTML_MIME_TYPE];\n",
       "      var script_attrs = bk_div.children[0].attributes;\n",
       "      for (var i = 0; i < script_attrs.length; i++) {\n",
       "        toinsert[toinsert.length - 1].firstChild.setAttribute(script_attrs[i].name, script_attrs[i].value);\n",
       "      }\n",
       "      // store reference to server id on output_area\n",
       "      output_area._bokeh_server_id = output.metadata[EXEC_MIME_TYPE][\"server_id\"];\n",
       "    }\n",
       "  }\n",
       "\n",
       "  function register_renderer(events, OutputArea) {\n",
       "\n",
       "    function append_mime(data, metadata, element) {\n",
       "      // create a DOM node to render to\n",
       "      var toinsert = this.create_output_subarea(\n",
       "        metadata,\n",
       "        CLASS_NAME,\n",
       "        EXEC_MIME_TYPE\n",
       "      );\n",
       "      this.keyboard_manager.register_events(toinsert);\n",
       "      // Render to node\n",
       "      var props = {data: data, metadata: metadata[EXEC_MIME_TYPE]};\n",
       "      render(props, toinsert[toinsert.length - 1]);\n",
       "      element.append(toinsert);\n",
       "      return toinsert\n",
       "    }\n",
       "\n",
       "    /* Handle when an output is cleared or removed */\n",
       "    events.on('clear_output.CodeCell', handleClearOutput);\n",
       "    events.on('delete.Cell', handleClearOutput);\n",
       "\n",
       "    /* Handle when a new output is added */\n",
       "    events.on('output_added.OutputArea', handleAddOutput);\n",
       "\n",
       "    /**\n",
       "     * Register the mime type and append_mime function with output_area\n",
       "     */\n",
       "    OutputArea.prototype.register_mime_type(EXEC_MIME_TYPE, append_mime, {\n",
       "      /* Is output safe? */\n",
       "      safe: true,\n",
       "      /* Index of renderer in `output_area.display_order` */\n",
       "      index: 0\n",
       "    });\n",
       "  }\n",
       "\n",
       "  // register the mime type if in Jupyter Notebook environment and previously unregistered\n",
       "  if (root.Jupyter !== undefined) {\n",
       "    var events = require('base/js/events');\n",
       "    var OutputArea = require('notebook/js/outputarea').OutputArea;\n",
       "\n",
       "    if (OutputArea.prototype.mime_types().indexOf(EXEC_MIME_TYPE) == -1) {\n",
       "      register_renderer(events, OutputArea);\n",
       "    }\n",
       "  }\n",
       "\n",
       "  \n",
       "  if (typeof (root._bokeh_timeout) === \"undefined\" || force === true) {\n",
       "    root._bokeh_timeout = Date.now() + 5000;\n",
       "    root._bokeh_failed_load = false;\n",
       "  }\n",
       "\n",
       "  var NB_LOAD_WARNING = {'data': {'text/html':\n",
       "     \"<div style='background-color: #fdd'>\\n\"+\n",
       "     \"<p>\\n\"+\n",
       "     \"BokehJS does not appear to have successfully loaded. If loading BokehJS from CDN, this \\n\"+\n",
       "     \"may be due to a slow or bad network connection. Possible fixes:\\n\"+\n",
       "     \"</p>\\n\"+\n",
       "     \"<ul>\\n\"+\n",
       "     \"<li>re-rerun `output_notebook()` to attempt to load from CDN again, or</li>\\n\"+\n",
       "     \"<li>use INLINE resources instead, as so:</li>\\n\"+\n",
       "     \"</ul>\\n\"+\n",
       "     \"<code>\\n\"+\n",
       "     \"from bokeh.resources import INLINE\\n\"+\n",
       "     \"output_notebook(resources=INLINE)\\n\"+\n",
       "     \"</code>\\n\"+\n",
       "     \"</div>\"}};\n",
       "\n",
       "  function display_loaded() {\n",
       "    var el = document.getElementById(\"21101\");\n",
       "    if (el != null) {\n",
       "      el.textContent = \"BokehJS is loading...\";\n",
       "    }\n",
       "    if (root.Bokeh !== undefined) {\n",
       "      if (el != null) {\n",
       "        el.textContent = \"BokehJS \" + root.Bokeh.version + \" successfully loaded.\";\n",
       "      }\n",
       "    } else if (Date.now() < root._bokeh_timeout) {\n",
       "      setTimeout(display_loaded, 100)\n",
       "    }\n",
       "  }\n",
       "\n",
       "\n",
       "  function run_callbacks() {\n",
       "    try {\n",
       "      root._bokeh_onload_callbacks.forEach(function(callback) {\n",
       "        if (callback != null)\n",
       "          callback();\n",
       "      });\n",
       "    } finally {\n",
       "      delete root._bokeh_onload_callbacks\n",
       "    }\n",
       "    console.debug(\"Bokeh: all callbacks have finished\");\n",
       "  }\n",
       "\n",
       "  function load_libs(css_urls, js_urls, callback) {\n",
       "    if (css_urls == null) css_urls = [];\n",
       "    if (js_urls == null) js_urls = [];\n",
       "\n",
       "    root._bokeh_onload_callbacks.push(callback);\n",
       "    if (root._bokeh_is_loading > 0) {\n",
       "      console.debug(\"Bokeh: BokehJS is being loaded, scheduling callback at\", now());\n",
       "      return null;\n",
       "    }\n",
       "    if (js_urls == null || js_urls.length === 0) {\n",
       "      run_callbacks();\n",
       "      return null;\n",
       "    }\n",
       "    console.debug(\"Bokeh: BokehJS not loaded, scheduling load and callback at\", now());\n",
       "    root._bokeh_is_loading = css_urls.length + js_urls.length;\n",
       "\n",
       "    function on_load() {\n",
       "      root._bokeh_is_loading--;\n",
       "      if (root._bokeh_is_loading === 0) {\n",
       "        console.debug(\"Bokeh: all BokehJS libraries/stylesheets loaded\");\n",
       "        run_callbacks()\n",
       "      }\n",
       "    }\n",
       "\n",
       "    function on_error() {\n",
       "      console.error(\"failed to load \" + url);\n",
       "    }\n",
       "\n",
       "    for (var i = 0; i < css_urls.length; i++) {\n",
       "      var url = css_urls[i];\n",
       "      const element = document.createElement(\"link\");\n",
       "      element.onload = on_load;\n",
       "      element.onerror = on_error;\n",
       "      element.rel = \"stylesheet\";\n",
       "      element.type = \"text/css\";\n",
       "      element.href = url;\n",
       "      console.debug(\"Bokeh: injecting link tag for BokehJS stylesheet: \", url);\n",
       "      document.body.appendChild(element);\n",
       "    }\n",
       "\n",
       "    for (var i = 0; i < js_urls.length; i++) {\n",
       "      var url = js_urls[i];\n",
       "      var element = document.createElement('script');\n",
       "      element.onload = on_load;\n",
       "      element.onerror = on_error;\n",
       "      element.async = false;\n",
       "      element.src = url;\n",
       "      console.debug(\"Bokeh: injecting script tag for BokehJS library: \", url);\n",
       "      document.head.appendChild(element);\n",
       "    }\n",
       "  };var element = document.getElementById(\"21101\");\n",
       "  if (element == null) {\n",
       "    console.error(\"Bokeh: ERROR: autoload.js configured with elementid '21101' but no matching script tag was found. \")\n",
       "    return false;\n",
       "  }\n",
       "\n",
       "  function inject_raw_css(css) {\n",
       "    const element = document.createElement(\"style\");\n",
       "    element.appendChild(document.createTextNode(css));\n",
       "    document.body.appendChild(element);\n",
       "  }\n",
       "\n",
       "  var js_urls = [\"https://cdn.pydata.org/bokeh/release/bokeh-1.3.4.min.js\", \"https://cdn.pydata.org/bokeh/release/bokeh-widgets-1.3.4.min.js\", \"https://cdn.pydata.org/bokeh/release/bokeh-tables-1.3.4.min.js\", \"https://cdn.pydata.org/bokeh/release/bokeh-gl-1.3.4.min.js\"];\n",
       "  var css_urls = [];\n",
       "\n",
       "  var inline_js = [\n",
       "    function(Bokeh) {\n",
       "      Bokeh.set_log_level(\"info\");\n",
       "    },\n",
       "    \n",
       "    function(Bokeh) {\n",
       "      \n",
       "    },\n",
       "    function(Bokeh) {} // ensure no trailing comma for IE\n",
       "  ];\n",
       "\n",
       "  function run_inline_js() {\n",
       "    \n",
       "    if ((root.Bokeh !== undefined) || (force === true)) {\n",
       "      for (var i = 0; i < inline_js.length; i++) {\n",
       "        inline_js[i].call(root, root.Bokeh);\n",
       "      }if (force === true) {\n",
       "        display_loaded();\n",
       "      }} else if (Date.now() < root._bokeh_timeout) {\n",
       "      setTimeout(run_inline_js, 100);\n",
       "    } else if (!root._bokeh_failed_load) {\n",
       "      console.log(\"Bokeh: BokehJS failed to load within specified timeout.\");\n",
       "      root._bokeh_failed_load = true;\n",
       "    } else if (force !== true) {\n",
       "      var cell = $(document.getElementById(\"21101\")).parents('.cell').data().cell;\n",
       "      cell.output_area.append_execute_result(NB_LOAD_WARNING)\n",
       "    }\n",
       "\n",
       "  }\n",
       "\n",
       "  if (root._bokeh_is_loading === 0) {\n",
       "    console.debug(\"Bokeh: BokehJS loaded, going straight to plotting\");\n",
       "    run_inline_js();\n",
       "  } else {\n",
       "    load_libs(css_urls, js_urls, function() {\n",
       "      console.debug(\"Bokeh: BokehJS plotting callback run at\", now());\n",
       "      run_inline_js();\n",
       "    });\n",
       "  }\n",
       "}(window));"
      ],
      "application/vnd.bokehjs_load.v0+json": "\n(function(root) {\n  function now() {\n    return new Date();\n  }\n\n  var force = true;\n\n  if (typeof root._bokeh_onload_callbacks === \"undefined\" || force === true) {\n    root._bokeh_onload_callbacks = [];\n    root._bokeh_is_loading = undefined;\n  }\n\n  \n\n  \n  if (typeof (root._bokeh_timeout) === \"undefined\" || force === true) {\n    root._bokeh_timeout = Date.now() + 5000;\n    root._bokeh_failed_load = false;\n  }\n\n  var NB_LOAD_WARNING = {'data': {'text/html':\n     \"<div style='background-color: #fdd'>\\n\"+\n     \"<p>\\n\"+\n     \"BokehJS does not appear to have successfully loaded. If loading BokehJS from CDN, this \\n\"+\n     \"may be due to a slow or bad network connection. Possible fixes:\\n\"+\n     \"</p>\\n\"+\n     \"<ul>\\n\"+\n     \"<li>re-rerun `output_notebook()` to attempt to load from CDN again, or</li>\\n\"+\n     \"<li>use INLINE resources instead, as so:</li>\\n\"+\n     \"</ul>\\n\"+\n     \"<code>\\n\"+\n     \"from bokeh.resources import INLINE\\n\"+\n     \"output_notebook(resources=INLINE)\\n\"+\n     \"</code>\\n\"+\n     \"</div>\"}};\n\n  function display_loaded() {\n    var el = document.getElementById(\"21101\");\n    if (el != null) {\n      el.textContent = \"BokehJS is loading...\";\n    }\n    if (root.Bokeh !== undefined) {\n      if (el != null) {\n        el.textContent = \"BokehJS \" + root.Bokeh.version + \" successfully loaded.\";\n      }\n    } else if (Date.now() < root._bokeh_timeout) {\n      setTimeout(display_loaded, 100)\n    }\n  }\n\n\n  function run_callbacks() {\n    try {\n      root._bokeh_onload_callbacks.forEach(function(callback) {\n        if (callback != null)\n          callback();\n      });\n    } finally {\n      delete root._bokeh_onload_callbacks\n    }\n    console.debug(\"Bokeh: all callbacks have finished\");\n  }\n\n  function load_libs(css_urls, js_urls, callback) {\n    if (css_urls == null) css_urls = [];\n    if (js_urls == null) js_urls = [];\n\n    root._bokeh_onload_callbacks.push(callback);\n    if (root._bokeh_is_loading > 0) {\n      console.debug(\"Bokeh: BokehJS is being loaded, scheduling callback at\", now());\n      return null;\n    }\n    if (js_urls == null || js_urls.length === 0) {\n      run_callbacks();\n      return null;\n    }\n    console.debug(\"Bokeh: BokehJS not loaded, scheduling load and callback at\", now());\n    root._bokeh_is_loading = css_urls.length + js_urls.length;\n\n    function on_load() {\n      root._bokeh_is_loading--;\n      if (root._bokeh_is_loading === 0) {\n        console.debug(\"Bokeh: all BokehJS libraries/stylesheets loaded\");\n        run_callbacks()\n      }\n    }\n\n    function on_error() {\n      console.error(\"failed to load \" + url);\n    }\n\n    for (var i = 0; i < css_urls.length; i++) {\n      var url = css_urls[i];\n      const element = document.createElement(\"link\");\n      element.onload = on_load;\n      element.onerror = on_error;\n      element.rel = \"stylesheet\";\n      element.type = \"text/css\";\n      element.href = url;\n      console.debug(\"Bokeh: injecting link tag for BokehJS stylesheet: \", url);\n      document.body.appendChild(element);\n    }\n\n    for (var i = 0; i < js_urls.length; i++) {\n      var url = js_urls[i];\n      var element = document.createElement('script');\n      element.onload = on_load;\n      element.onerror = on_error;\n      element.async = false;\n      element.src = url;\n      console.debug(\"Bokeh: injecting script tag for BokehJS library: \", url);\n      document.head.appendChild(element);\n    }\n  };var element = document.getElementById(\"21101\");\n  if (element == null) {\n    console.error(\"Bokeh: ERROR: autoload.js configured with elementid '21101' but no matching script tag was found. \")\n    return false;\n  }\n\n  function inject_raw_css(css) {\n    const element = document.createElement(\"style\");\n    element.appendChild(document.createTextNode(css));\n    document.body.appendChild(element);\n  }\n\n  var js_urls = [\"https://cdn.pydata.org/bokeh/release/bokeh-1.3.4.min.js\", \"https://cdn.pydata.org/bokeh/release/bokeh-widgets-1.3.4.min.js\", \"https://cdn.pydata.org/bokeh/release/bokeh-tables-1.3.4.min.js\", \"https://cdn.pydata.org/bokeh/release/bokeh-gl-1.3.4.min.js\"];\n  var css_urls = [];\n\n  var inline_js = [\n    function(Bokeh) {\n      Bokeh.set_log_level(\"info\");\n    },\n    \n    function(Bokeh) {\n      \n    },\n    function(Bokeh) {} // ensure no trailing comma for IE\n  ];\n\n  function run_inline_js() {\n    \n    if ((root.Bokeh !== undefined) || (force === true)) {\n      for (var i = 0; i < inline_js.length; i++) {\n        inline_js[i].call(root, root.Bokeh);\n      }if (force === true) {\n        display_loaded();\n      }} else if (Date.now() < root._bokeh_timeout) {\n      setTimeout(run_inline_js, 100);\n    } else if (!root._bokeh_failed_load) {\n      console.log(\"Bokeh: BokehJS failed to load within specified timeout.\");\n      root._bokeh_failed_load = true;\n    } else if (force !== true) {\n      var cell = $(document.getElementById(\"21101\")).parents('.cell').data().cell;\n      cell.output_area.append_execute_result(NB_LOAD_WARNING)\n    }\n\n  }\n\n  if (root._bokeh_is_loading === 0) {\n    console.debug(\"Bokeh: BokehJS loaded, going straight to plotting\");\n    run_inline_js();\n  } else {\n    load_libs(css_urls, js_urls, function() {\n      console.debug(\"Bokeh: BokehJS plotting callback run at\", now());\n      run_inline_js();\n    });\n  }\n}(window));"
     },
     "metadata": {},
     "output_type": "display_data"
    }
   ],
   "source": [
    "from bokeh.plotting import figure, show, output_notebook, save, output_file\n",
    "from bokeh.models import HoverTool, value, LabelSet, Legend, ColumnDataSource\n",
    "from bokeh.io import export_png\n",
    "output_notebook()"
   ]
  },
  {
   "cell_type": "code",
   "execution_count": 107,
   "metadata": {},
   "outputs": [
    {
     "data": {
      "text/html": [
       "\n",
       "\n",
       "\n",
       "\n",
       "\n",
       "\n",
       "  <div class=\"bk-root\" id=\"bbc457ac-7a4a-4ff9-968a-fec9843421b9\" data-root-id=\"21103\"></div>\n"
      ]
     },
     "metadata": {},
     "output_type": "display_data"
    },
    {
     "data": {
      "application/javascript": [
       "(function(root) {\n",
       "  function embed_document(root) {\n",
       "    \n",
       "  var docs_json = {\"92972bcf-e595-4eaf-815b-14edb02adee7\":{\"roots\":{\"references\":[{\"attributes\":{\"below\":[{\"id\":\"21114\",\"type\":\"CategoricalAxis\"}],\"center\":[{\"id\":\"21117\",\"type\":\"Grid\"},{\"id\":\"21122\",\"type\":\"Grid\"}],\"left\":[{\"id\":\"21118\",\"type\":\"LinearAxis\"}],\"plot_height\":250,\"plot_width\":400,\"renderers\":[{\"id\":\"21129\",\"type\":\"GlyphRenderer\"}],\"title\":{\"id\":\"21104\",\"type\":\"Title\"},\"toolbar\":{\"id\":\"21124\",\"type\":\"Toolbar\"},\"toolbar_location\":null,\"x_range\":{\"id\":\"21106\",\"type\":\"FactorRange\"},\"x_scale\":{\"id\":\"21110\",\"type\":\"CategoricalScale\"},\"y_range\":{\"id\":\"21108\",\"type\":\"DataRange1d\"},\"y_scale\":{\"id\":\"21112\",\"type\":\"LinearScale\"}},\"id\":\"21103\",\"subtype\":\"Figure\",\"type\":\"Plot\"},{\"attributes\":{},\"id\":\"21112\",\"type\":\"LinearScale\"},{\"attributes\":{\"ticker\":{\"id\":\"21115\",\"type\":\"CategoricalTicker\"}},\"id\":\"21117\",\"type\":\"Grid\"},{\"attributes\":{},\"id\":\"21135\",\"type\":\"BasicTickFormatter\"},{\"attributes\":{},\"id\":\"21115\",\"type\":\"CategoricalTicker\"},{\"attributes\":{\"formatter\":{\"id\":\"21135\",\"type\":\"BasicTickFormatter\"},\"ticker\":{\"id\":\"21119\",\"type\":\"BasicTicker\"}},\"id\":\"21118\",\"type\":\"LinearAxis\"},{\"attributes\":{\"data_source\":{\"id\":\"21102\",\"type\":\"ColumnDataSource\"},\"glyph\":{\"id\":\"21127\",\"type\":\"VBar\"},\"hover_glyph\":null,\"muted_glyph\":null,\"nonselection_glyph\":{\"id\":\"21128\",\"type\":\"VBar\"},\"selection_glyph\":null,\"view\":{\"id\":\"21130\",\"type\":\"CDSView\"}},\"id\":\"21129\",\"type\":\"GlyphRenderer\"},{\"attributes\":{\"fill_color\":{\"value\":\"#1f77b4\"},\"line_color\":{\"value\":\"#1f77b4\"},\"top\":{\"field\":\"top\"},\"width\":{\"value\":0.8},\"x\":{\"field\":\"x\"}},\"id\":\"21127\",\"type\":\"VBar\"},{\"attributes\":{\"callback\":null,\"tooltips\":[[\"Prob\",\"@top\"]]},\"id\":\"21123\",\"type\":\"HoverTool\"},{\"attributes\":{},\"id\":\"21133\",\"type\":\"CategoricalTickFormatter\"},{\"attributes\":{\"callback\":null,\"factors\":[\"peopl\",\"lot\",\"fun\",\"meet\",\"differ\",\"abl\",\"meet_peopl\",\"love\",\"best\",\"parti\"]},\"id\":\"21106\",\"type\":\"FactorRange\"},{\"attributes\":{\"source\":{\"id\":\"21102\",\"type\":\"ColumnDataSource\"}},\"id\":\"21130\",\"type\":\"CDSView\"},{\"attributes\":{\"text\":\"Top Ten Words\"},\"id\":\"21104\",\"type\":\"Title\"},{\"attributes\":{\"callback\":null},\"id\":\"21108\",\"type\":\"DataRange1d\"},{\"attributes\":{\"active_drag\":\"auto\",\"active_inspect\":\"auto\",\"active_multi\":null,\"active_scroll\":\"auto\",\"active_tap\":\"auto\",\"tools\":[{\"id\":\"21123\",\"type\":\"HoverTool\"}]},\"id\":\"21124\",\"type\":\"Toolbar\"},{\"attributes\":{\"formatter\":{\"id\":\"21133\",\"type\":\"CategoricalTickFormatter\"},\"major_label_orientation\":1.5707963267948966,\"ticker\":{\"id\":\"21115\",\"type\":\"CategoricalTicker\"}},\"id\":\"21114\",\"type\":\"CategoricalAxis\"},{\"attributes\":{},\"id\":\"21110\",\"type\":\"CategoricalScale\"},{\"attributes\":{},\"id\":\"21137\",\"type\":\"Selection\"},{\"attributes\":{\"fill_alpha\":{\"value\":0.1},\"fill_color\":{\"value\":\"#1f77b4\"},\"line_alpha\":{\"value\":0.1},\"line_color\":{\"value\":\"#1f77b4\"},\"top\":{\"field\":\"top\"},\"width\":{\"value\":0.8},\"x\":{\"field\":\"x\"}},\"id\":\"21128\",\"type\":\"VBar\"},{\"attributes\":{\"callback\":null,\"data\":{\"top\":{\"__ndarray__\":\"KVyPwvUozD+amZmZmZm5P3sUrkfherQ/uB6F61G4rj+4HoXrUbieP3sUrkfhepQ/exSuR+F6lD97FK5H4XqUP3sUrkfhepQ/exSuR+F6lD8=\",\"dtype\":\"float64\",\"shape\":[10]},\"x\":[\"peopl\",\"lot\",\"fun\",\"meet\",\"differ\",\"abl\",\"meet_peopl\",\"love\",\"best\",\"parti\"]},\"selected\":{\"id\":\"21137\",\"type\":\"Selection\"},\"selection_policy\":{\"id\":\"21136\",\"type\":\"UnionRenderers\"}},\"id\":\"21102\",\"type\":\"ColumnDataSource\"},{\"attributes\":{},\"id\":\"21119\",\"type\":\"BasicTicker\"},{\"attributes\":{},\"id\":\"21136\",\"type\":\"UnionRenderers\"},{\"attributes\":{\"dimension\":1,\"ticker\":{\"id\":\"21119\",\"type\":\"BasicTicker\"}},\"id\":\"21122\",\"type\":\"Grid\"}],\"root_ids\":[\"21103\"]},\"title\":\"Bokeh Application\",\"version\":\"1.3.4\"}};\n",
       "  var render_items = [{\"docid\":\"92972bcf-e595-4eaf-815b-14edb02adee7\",\"roots\":{\"21103\":\"bbc457ac-7a4a-4ff9-968a-fec9843421b9\"}}];\n",
       "  root.Bokeh.embed.embed_items_notebook(docs_json, render_items);\n",
       "\n",
       "  }\n",
       "  if (root.Bokeh !== undefined) {\n",
       "    embed_document(root);\n",
       "  } else {\n",
       "    var attempts = 0;\n",
       "    var timer = setInterval(function(root) {\n",
       "      if (root.Bokeh !== undefined) {\n",
       "        embed_document(root);\n",
       "        clearInterval(timer);\n",
       "      }\n",
       "      attempts++;\n",
       "      if (attempts > 100) {\n",
       "        console.log(\"Bokeh: ERROR: Unable to run BokehJS code because BokehJS library is missing\");\n",
       "        clearInterval(timer);\n",
       "      }\n",
       "    }, 10, root)\n",
       "  }\n",
       "})(window);"
      ],
      "application/vnd.bokehjs_exec.v0+json": ""
     },
     "metadata": {
      "application/vnd.bokehjs_exec.v0+json": {
       "id": "21103"
      }
     },
     "output_type": "display_data"
    }
   ],
   "source": [
    "import math\n",
    "df_ = pd.DataFrame()\n",
    "df_[\"x\"] = imp_words[0]\n",
    "df_[\"top\"] = imp_word_prob[0]\n",
    "\n",
    "source = ColumnDataSource(dict(\n",
    "    x=df_['x'],\n",
    "    top=df_['top']\n",
    "))\n",
    "\n",
    "# p = figure(plot_width=1000, plot_height=700,\n",
    "#                      title=title, tools=\"pan,wheel_zoom,box_zoom,reset,hover,previewsave\",\n",
    "#                      x_axis_type=None, y_axis_type=None, min_border=1)\n",
    "\n",
    "p = figure(x_range=imp_words[0], plot_height=250, plot_width=400, title=\"Top Ten Words\",\n",
    "           toolbar_location=None, tools=\"hover\")\n",
    "\n",
    "p.vbar(x='x', top= 'top', width=0.8, source=source)#'msize', )\n",
    "\n",
    "# hover tools\n",
    "hover = p.select(dict(type=HoverTool))\n",
    "hover.tooltips = { \"Prob\": \"@top\"}\n",
    "p.xaxis.major_label_orientation = math.pi/2\n",
    "# plot_lda.legend.location = \"top_left\"\n",
    "\n",
    "show(p)"
   ]
  },
  {
   "cell_type": "code",
   "execution_count": 115,
   "metadata": {
    "scrolled": true
   },
   "outputs": [
    {
     "data": {
      "text/html": [
       "\n",
       "\n",
       "\n",
       "\n",
       "\n",
       "\n",
       "  <div class=\"bk-root\" id=\"f9839bba-7c10-4f67-9bac-4f76015c5ae3\" data-root-id=\"47103\"></div>\n"
      ]
     },
     "metadata": {},
     "output_type": "display_data"
    },
    {
     "data": {
      "application/javascript": [
       "(function(root) {\n",
       "  function embed_document(root) {\n",
       "    \n",
       "  var docs_json = {\"4653f61f-1427-4731-8ea6-4d9551a75189\":{\"roots\":{\"references\":[{\"attributes\":{\"children\":[{\"id\":\"47102\",\"type\":\"ToolbarBox\"},{\"id\":\"47100\",\"type\":\"GridBox\"}]},\"id\":\"47103\",\"type\":\"Column\"},{\"attributes\":{\"below\":[{\"id\":\"46443\",\"type\":\"CategoricalAxis\"}],\"center\":[{\"id\":\"46446\",\"type\":\"Grid\"},{\"id\":\"46451\",\"type\":\"Grid\"}],\"left\":[{\"id\":\"46447\",\"type\":\"LinearAxis\"}],\"plot_height\":250,\"plot_width\":400,\"renderers\":[{\"id\":\"46458\",\"type\":\"GlyphRenderer\"}],\"title\":{\"id\":\"46433\",\"type\":\"Title\"},\"toolbar\":{\"id\":\"46453\",\"type\":\"Toolbar\"},\"toolbar_location\":null,\"x_range\":{\"id\":\"46435\",\"type\":\"FactorRange\"},\"x_scale\":{\"id\":\"46439\",\"type\":\"CategoricalScale\"},\"y_range\":{\"id\":\"46437\",\"type\":\"DataRange1d\"},\"y_scale\":{\"id\":\"46441\",\"type\":\"LinearScale\"}},\"id\":\"46432\",\"subtype\":\"Figure\",\"type\":\"Plot\"},{\"attributes\":{\"axis_label\":\"Term-Prob\",\"formatter\":{\"id\":\"46752\",\"type\":\"BasicTickFormatter\"},\"ticker\":{\"id\":\"46736\",\"type\":\"BasicTicker\"}},\"id\":\"46735\",\"type\":\"LinearAxis\"},{\"attributes\":{\"axis_label\":\"Term-Prob\",\"formatter\":{\"id\":\"46932\",\"type\":\"BasicTickFormatter\"},\"ticker\":{\"id\":\"46916\",\"type\":\"BasicTicker\"}},\"id\":\"46915\",\"type\":\"LinearAxis\"},{\"attributes\":{\"ticker\":{\"id\":\"46912\",\"type\":\"CategoricalTicker\"}},\"id\":\"46914\",\"type\":\"Grid\"},{\"attributes\":{},\"id\":\"46736\",\"type\":\"BasicTicker\"},{\"attributes\":{},\"id\":\"46916\",\"type\":\"BasicTicker\"},{\"attributes\":{},\"id\":\"46934\",\"type\":\"Selection\"},{\"attributes\":{},\"id\":\"46753\",\"type\":\"UnionRenderers\"},{\"attributes\":{\"callback\":null,\"tooltips\":[[\"Prob\",\"@top\"]]},\"id\":\"46920\",\"type\":\"HoverTool\"},{\"attributes\":{\"callback\":null},\"id\":\"46905\",\"type\":\"DataRange1d\"},{\"attributes\":{\"axis_label\":\"Terms\",\"formatter\":{\"id\":\"46966\",\"type\":\"CategoricalTickFormatter\"},\"major_label_orientation\":1.5707963267948966,\"ticker\":{\"id\":\"46948\",\"type\":\"CategoricalTicker\"}},\"id\":\"46947\",\"type\":\"CategoricalAxis\"},{\"attributes\":{},\"id\":\"46912\",\"type\":\"CategoricalTicker\"},{\"attributes\":{\"dimension\":1,\"ticker\":{\"id\":\"46916\",\"type\":\"BasicTicker\"}},\"id\":\"46919\",\"type\":\"Grid\"},{\"attributes\":{},\"id\":\"46945\",\"type\":\"LinearScale\"},{\"attributes\":{\"fill_alpha\":{\"value\":0.1},\"fill_color\":{\"value\":\"#1f77b4\"},\"line_alpha\":{\"value\":0.1},\"line_color\":{\"value\":\"#1f77b4\"},\"top\":{\"field\":\"top\"},\"width\":{\"value\":0.8},\"x\":{\"field\":\"x\"}},\"id\":\"46745\",\"type\":\"VBar\"},{\"attributes\":{\"callback\":null,\"tooltips\":[[\"Prob\",\"@top\"]]},\"id\":\"46740\",\"type\":\"HoverTool\"},{\"attributes\":{},\"id\":\"46948\",\"type\":\"CategoricalTicker\"},{\"attributes\":{\"active_drag\":\"auto\",\"active_inspect\":\"auto\",\"active_multi\":null,\"active_scroll\":\"auto\",\"active_tap\":\"auto\",\"tools\":[{\"id\":\"46920\",\"type\":\"HoverTool\"}]},\"id\":\"46921\",\"type\":\"Toolbar\"},{\"attributes\":{\"ticker\":{\"id\":\"46732\",\"type\":\"CategoricalTicker\"}},\"id\":\"46734\",\"type\":\"Grid\"},{\"attributes\":{\"callback\":null,\"tooltips\":[[\"Prob\",\"@top\"]]},\"id\":\"46452\",\"type\":\"HoverTool\"},{\"attributes\":{\"callback\":null,\"factors\":[\"health\",\"insur\",\"help\",\"fast\",\"pace\",\"atmospher\",\"fast_pace\",\"busi\",\"bonu\",\"incent\"]},\"id\":\"46903\",\"type\":\"FactorRange\"},{\"attributes\":{},\"id\":\"46943\",\"type\":\"CategoricalScale\"},{\"attributes\":{\"fill_alpha\":{\"value\":0.1},\"fill_color\":{\"value\":\"#1f77b4\"},\"line_alpha\":{\"value\":0.1},\"line_color\":{\"value\":\"#1f77b4\"},\"top\":{\"field\":\"top\"},\"width\":{\"value\":0.8},\"x\":{\"field\":\"x\"}},\"id\":\"46925\",\"type\":\"VBar\"},{\"attributes\":{\"axis_label\":\"Terms\",\"formatter\":{\"id\":\"46930\",\"type\":\"CategoricalTickFormatter\"},\"major_label_orientation\":1.5707963267948966,\"ticker\":{\"id\":\"46912\",\"type\":\"CategoricalTicker\"}},\"id\":\"46911\",\"type\":\"CategoricalAxis\"},{\"attributes\":{},\"id\":\"46429\",\"type\":\"UnionRenderers\"},{\"attributes\":{\"active_drag\":\"auto\",\"active_inspect\":\"auto\",\"active_multi\":null,\"active_scroll\":\"auto\",\"active_tap\":\"auto\",\"tools\":[{\"id\":\"46740\",\"type\":\"HoverTool\"}]},\"id\":\"46741\",\"type\":\"Toolbar\"},{\"attributes\":{\"active_drag\":\"auto\",\"active_inspect\":\"auto\",\"active_multi\":null,\"active_scroll\":\"auto\",\"active_tap\":\"auto\",\"tools\":[{\"id\":\"46452\",\"type\":\"HoverTool\"}]},\"id\":\"46453\",\"type\":\"Toolbar\"},{\"attributes\":{\"dimension\":1,\"ticker\":{\"id\":\"46736\",\"type\":\"BasicTicker\"}},\"id\":\"46739\",\"type\":\"Grid\"},{\"attributes\":{\"callback\":null},\"id\":\"46941\",\"type\":\"DataRange1d\"},{\"attributes\":{\"data_source\":{\"id\":\"46431\",\"type\":\"ColumnDataSource\"},\"glyph\":{\"id\":\"46456\",\"type\":\"VBar\"},\"hover_glyph\":null,\"muted_glyph\":null,\"nonselection_glyph\":{\"id\":\"46457\",\"type\":\"VBar\"},\"selection_glyph\":null,\"view\":{\"id\":\"46459\",\"type\":\"CDSView\"}},\"id\":\"46458\",\"type\":\"GlyphRenderer\"},{\"attributes\":{\"data_source\":{\"id\":\"46719\",\"type\":\"ColumnDataSource\"},\"glyph\":{\"id\":\"46744\",\"type\":\"VBar\"},\"hover_glyph\":null,\"muted_glyph\":null,\"nonselection_glyph\":{\"id\":\"46745\",\"type\":\"VBar\"},\"selection_glyph\":null,\"view\":{\"id\":\"46747\",\"type\":\"CDSView\"}},\"id\":\"46746\",\"type\":\"GlyphRenderer\"},{\"attributes\":{\"callback\":null,\"factors\":[\"flexibl\",\"schedul\",\"cultur\",\"flexibl_schedul\",\"set\",\"remot\",\"salari_benefit\",\"perform\",\"benefit_flexibl\",\"school\"]},\"id\":\"46939\",\"type\":\"FactorRange\"},{\"attributes\":{},\"id\":\"46430\",\"type\":\"Selection\"},{\"attributes\":{},\"id\":\"46909\",\"type\":\"LinearScale\"},{\"attributes\":{\"axis_label\":\"Term-Prob\",\"formatter\":{\"id\":\"46968\",\"type\":\"BasicTickFormatter\"},\"ticker\":{\"id\":\"46952\",\"type\":\"BasicTicker\"}},\"id\":\"46951\",\"type\":\"LinearAxis\"},{\"attributes\":{},\"id\":\"46752\",\"type\":\"BasicTickFormatter\"},{\"attributes\":{\"fill_color\":{\"value\":\"#1f77b4\"},\"line_color\":{\"value\":\"#1f77b4\"},\"top\":{\"field\":\"top\"},\"width\":{\"value\":0.8},\"x\":{\"field\":\"x\"}},\"id\":\"46924\",\"type\":\"VBar\"},{\"attributes\":{\"ticker\":{\"id\":\"46444\",\"type\":\"CategoricalTicker\"}},\"id\":\"46446\",\"type\":\"Grid\"},{\"attributes\":{\"fill_color\":{\"value\":\"#1f77b4\"},\"line_color\":{\"value\":\"#1f77b4\"},\"top\":{\"field\":\"top\"},\"width\":{\"value\":0.8},\"x\":{\"field\":\"x\"}},\"id\":\"46960\",\"type\":\"VBar\"},{\"attributes\":{},\"id\":\"46448\",\"type\":\"BasicTicker\"},{\"attributes\":{\"fill_alpha\":{\"value\":0.1},\"fill_color\":{\"value\":\"#1f77b4\"},\"line_alpha\":{\"value\":0.1},\"line_color\":{\"value\":\"#1f77b4\"},\"top\":{\"field\":\"top\"},\"width\":{\"value\":0.8},\"x\":{\"field\":\"x\"}},\"id\":\"46457\",\"type\":\"VBar\"},{\"attributes\":{},\"id\":\"46933\",\"type\":\"UnionRenderers\"},{\"attributes\":{},\"id\":\"46444\",\"type\":\"CategoricalTicker\"},{\"attributes\":{},\"id\":\"46930\",\"type\":\"CategoricalTickFormatter\"},{\"attributes\":{\"below\":[{\"id\":\"46911\",\"type\":\"CategoricalAxis\"}],\"center\":[{\"id\":\"46914\",\"type\":\"Grid\"},{\"id\":\"46919\",\"type\":\"Grid\"}],\"left\":[{\"id\":\"46915\",\"type\":\"LinearAxis\"}],\"plot_height\":250,\"plot_width\":400,\"renderers\":[{\"id\":\"46926\",\"type\":\"GlyphRenderer\"}],\"title\":{\"id\":\"46901\",\"type\":\"Title\"},\"toolbar\":{\"id\":\"46921\",\"type\":\"Toolbar\"},\"toolbar_location\":null,\"x_range\":{\"id\":\"46903\",\"type\":\"FactorRange\"},\"x_scale\":{\"id\":\"46907\",\"type\":\"CategoricalScale\"},\"y_range\":{\"id\":\"46905\",\"type\":\"DataRange1d\"},\"y_scale\":{\"id\":\"46909\",\"type\":\"LinearScale\"}},\"id\":\"46900\",\"subtype\":\"Figure\",\"type\":\"Plot\"},{\"attributes\":{\"below\":[{\"id\":\"46767\",\"type\":\"CategoricalAxis\"}],\"center\":[{\"id\":\"46770\",\"type\":\"Grid\"},{\"id\":\"46775\",\"type\":\"Grid\"}],\"left\":[{\"id\":\"46771\",\"type\":\"LinearAxis\"}],\"plot_height\":250,\"plot_width\":400,\"renderers\":[{\"id\":\"46782\",\"type\":\"GlyphRenderer\"}],\"title\":{\"id\":\"46757\",\"type\":\"Title\"},\"toolbar\":{\"id\":\"46777\",\"type\":\"Toolbar\"},\"toolbar_location\":null,\"x_range\":{\"id\":\"46759\",\"type\":\"FactorRange\"},\"x_scale\":{\"id\":\"46763\",\"type\":\"CategoricalScale\"},\"y_range\":{\"id\":\"46761\",\"type\":\"DataRange1d\"},\"y_scale\":{\"id\":\"46765\",\"type\":\"LinearScale\"}},\"id\":\"46756\",\"subtype\":\"Figure\",\"type\":\"Plot\"},{\"attributes\":{\"axis_label\":\"Terms\",\"formatter\":{\"id\":\"46462\",\"type\":\"CategoricalTickFormatter\"},\"major_label_orientation\":1.5707963267948966,\"ticker\":{\"id\":\"46444\",\"type\":\"CategoricalTicker\"}},\"id\":\"46443\",\"type\":\"CategoricalAxis\"},{\"attributes\":{\"dimension\":1,\"ticker\":{\"id\":\"46448\",\"type\":\"BasicTicker\"}},\"id\":\"46451\",\"type\":\"Grid\"},{\"attributes\":{\"source\":{\"id\":\"46431\",\"type\":\"ColumnDataSource\"}},\"id\":\"46459\",\"type\":\"CDSView\"},{\"attributes\":{},\"id\":\"46441\",\"type\":\"LinearScale\"},{\"attributes\":{\"ticker\":{\"id\":\"46948\",\"type\":\"CategoricalTicker\"}},\"id\":\"46950\",\"type\":\"Grid\"},{\"attributes\":{\"below\":[{\"id\":\"46947\",\"type\":\"CategoricalAxis\"}],\"center\":[{\"id\":\"46950\",\"type\":\"Grid\"},{\"id\":\"46955\",\"type\":\"Grid\"}],\"left\":[{\"id\":\"46951\",\"type\":\"LinearAxis\"}],\"plot_height\":250,\"plot_width\":400,\"renderers\":[{\"id\":\"46962\",\"type\":\"GlyphRenderer\"}],\"title\":{\"id\":\"46937\",\"type\":\"Title\"},\"toolbar\":{\"id\":\"46957\",\"type\":\"Toolbar\"},\"toolbar_location\":null,\"x_range\":{\"id\":\"46939\",\"type\":\"FactorRange\"},\"x_scale\":{\"id\":\"46943\",\"type\":\"CategoricalScale\"},\"y_range\":{\"id\":\"46941\",\"type\":\"DataRange1d\"},\"y_scale\":{\"id\":\"46945\",\"type\":\"LinearScale\"}},\"id\":\"46936\",\"subtype\":\"Figure\",\"type\":\"Plot\"},{\"attributes\":{\"axis_label\":\"Term-Prob\",\"formatter\":{\"id\":\"46464\",\"type\":\"BasicTickFormatter\"},\"ticker\":{\"id\":\"46448\",\"type\":\"BasicTicker\"}},\"id\":\"46447\",\"type\":\"LinearAxis\"},{\"attributes\":{\"source\":{\"id\":\"46899\",\"type\":\"ColumnDataSource\"}},\"id\":\"46927\",\"type\":\"CDSView\"},{\"attributes\":{},\"id\":\"46754\",\"type\":\"Selection\"},{\"attributes\":{},\"id\":\"46439\",\"type\":\"CategoricalScale\"},{\"attributes\":{\"source\":{\"id\":\"46719\",\"type\":\"ColumnDataSource\"}},\"id\":\"46747\",\"type\":\"CDSView\"},{\"attributes\":{\"data_source\":{\"id\":\"46899\",\"type\":\"ColumnDataSource\"},\"glyph\":{\"id\":\"46924\",\"type\":\"VBar\"},\"hover_glyph\":null,\"muted_glyph\":null,\"nonselection_glyph\":{\"id\":\"46925\",\"type\":\"VBar\"},\"selection_glyph\":null,\"view\":{\"id\":\"46927\",\"type\":\"CDSView\"}},\"id\":\"46926\",\"type\":\"GlyphRenderer\"},{\"attributes\":{\"callback\":null,\"data\":{\"top\":{\"__ndarray__\":\"UrgehetR2D8K16NwPQq3P+xRuB6F67E/uB6F61G4nj+4HoXrUbieP7gehetRuJ4/exSuR+F6lD97FK5H4XqEP3sUrkfheoQ/exSuR+F6hD8=\",\"dtype\":\"float64\",\"shape\":[10]},\"x\":[\"pay\",\"excel\",\"decent\",\"decent_pay\",\"benefit_pay\",\"excel_benefit\",\"locat\",\"promot\",\"weekli\",\"base\"]},\"selected\":{\"id\":\"46862\",\"type\":\"Selection\"},\"selection_policy\":{\"id\":\"46861\",\"type\":\"UnionRenderers\"}},\"id\":\"46827\",\"type\":\"ColumnDataSource\"},{\"attributes\":{\"align\":\"center\",\"text\":\"Topic: 12\"},\"id\":\"46793\",\"type\":\"Title\"},{\"attributes\":{},\"id\":\"46932\",\"type\":\"BasicTickFormatter\"},{\"attributes\":{\"callback\":null,\"data\":{\"top\":{\"__ndarray__\":\"mpmZmZmZqT+amZmZmZmpP3sUrkfheqQ/uB6F61G4nj+4HoXrUbieP7gehetRuJ4/uB6F61G4nj97FK5H4XqUP3sUrkfhepQ/exSuR+F6lD8=\",\"dtype\":\"float64\",\"shape\":[10]},\"x\":[\"gym\",\"cafeteria\",\"packag\",\"reimburs\",\"tuition\",\"etc\",\"benefit_packag\",\"site\",\"onsit\",\"recognit\"]},\"selected\":{\"id\":\"46466\",\"type\":\"Selection\"},\"selection_policy\":{\"id\":\"46465\",\"type\":\"UnionRenderers\"}},\"id\":\"46431\",\"type\":\"ColumnDataSource\"},{\"attributes\":{\"tools\":[{\"id\":\"46416\",\"type\":\"HoverTool\"},{\"id\":\"46452\",\"type\":\"HoverTool\"},{\"id\":\"46488\",\"type\":\"HoverTool\"},{\"id\":\"46524\",\"type\":\"HoverTool\"},{\"id\":\"46560\",\"type\":\"HoverTool\"},{\"id\":\"46596\",\"type\":\"HoverTool\"},{\"id\":\"46632\",\"type\":\"HoverTool\"},{\"id\":\"46668\",\"type\":\"HoverTool\"},{\"id\":\"46704\",\"type\":\"HoverTool\"},{\"id\":\"46740\",\"type\":\"HoverTool\"},{\"id\":\"46776\",\"type\":\"HoverTool\"},{\"id\":\"46812\",\"type\":\"HoverTool\"},{\"id\":\"46848\",\"type\":\"HoverTool\"},{\"id\":\"46884\",\"type\":\"HoverTool\"},{\"id\":\"46920\",\"type\":\"HoverTool\"},{\"id\":\"46956\",\"type\":\"HoverTool\"}]},\"id\":\"47101\",\"type\":\"ProxyToolbar\"},{\"attributes\":{\"fill_color\":{\"value\":\"#1f77b4\"},\"line_color\":{\"value\":\"#1f77b4\"},\"top\":{\"field\":\"top\"},\"width\":{\"value\":0.8},\"x\":{\"field\":\"x\"}},\"id\":\"46708\",\"type\":\"VBar\"},{\"attributes\":{\"axis_label\":\"Term-Prob\",\"formatter\":{\"id\":\"46788\",\"type\":\"BasicTickFormatter\"},\"ticker\":{\"id\":\"46772\",\"type\":\"BasicTicker\"}},\"id\":\"46771\",\"type\":\"LinearAxis\"},{\"attributes\":{\"axis_label\":\"Term-Prob\",\"formatter\":{\"id\":\"46680\",\"type\":\"BasicTickFormatter\"},\"ticker\":{\"id\":\"46664\",\"type\":\"BasicTicker\"}},\"id\":\"46663\",\"type\":\"LinearAxis\"},{\"attributes\":{\"active_drag\":\"auto\",\"active_inspect\":\"auto\",\"active_multi\":null,\"active_scroll\":\"auto\",\"active_tap\":\"auto\",\"tools\":[{\"id\":\"46776\",\"type\":\"HoverTool\"}]},\"id\":\"46777\",\"type\":\"Toolbar\"},{\"attributes\":{},\"id\":\"46682\",\"type\":\"Selection\"},{\"attributes\":{},\"id\":\"46678\",\"type\":\"CategoricalTickFormatter\"},{\"attributes\":{\"callback\":null,\"tooltips\":[[\"Prob\",\"@top\"]]},\"id\":\"46668\",\"type\":\"HoverTool\"},{\"attributes\":{\"callback\":null,\"data\":{\"top\":{\"__ndarray__\":\"CtejcD0Ktz+4HoXrUbiuP5qZmZmZmak/uB6F61G4nj+4HoXrUbieP3sUrkfhepQ/exSuR+F6lD97FK5H4XqUP3sUrkfhepQ/exSuR+F6lD8=\",\"dtype\":\"float64\",\"shape\":[10]},\"x\":[\"train\",\"product\",\"care\",\"health_care\",\"skill\",\"reward\",\"offic\",\"develop\",\"profession\",\"program\"]},\"selected\":{\"id\":\"46718\",\"type\":\"Selection\"},\"selection_policy\":{\"id\":\"46717\",\"type\":\"UnionRenderers\"}},\"id\":\"46683\",\"type\":\"ColumnDataSource\"},{\"attributes\":{\"dimension\":1,\"ticker\":{\"id\":\"46664\",\"type\":\"BasicTicker\"}},\"id\":\"46667\",\"type\":\"Grid\"},{\"attributes\":{\"align\":\"center\",\"text\":\"Topic: 3\"},\"id\":\"46469\",\"type\":\"Title\"},{\"attributes\":{\"callback\":null,\"factors\":[\"team\",\"balanc\",\"worklif\",\"worklif_balanc\",\"medic\",\"build\",\"technolog\",\"dental\",\"allow\",\"strong\"]},\"id\":\"46795\",\"type\":\"FactorRange\"},{\"attributes\":{\"fill_alpha\":{\"value\":0.1},\"fill_color\":{\"value\":\"#1f77b4\"},\"line_alpha\":{\"value\":0.1},\"line_color\":{\"value\":\"#1f77b4\"},\"top\":{\"field\":\"top\"},\"width\":{\"value\":0.8},\"x\":{\"field\":\"x\"}},\"id\":\"46781\",\"type\":\"VBar\"},{\"attributes\":{},\"id\":\"46681\",\"type\":\"UnionRenderers\"},{\"attributes\":{\"fill_alpha\":{\"value\":0.1},\"fill_color\":{\"value\":\"#1f77b4\"},\"line_alpha\":{\"value\":0.1},\"line_color\":{\"value\":\"#1f77b4\"},\"top\":{\"field\":\"top\"},\"width\":{\"value\":0.8},\"x\":{\"field\":\"x\"}},\"id\":\"46673\",\"type\":\"VBar\"},{\"attributes\":{},\"id\":\"46660\",\"type\":\"CategoricalTicker\"},{\"attributes\":{},\"id\":\"46768\",\"type\":\"CategoricalTicker\"},{\"attributes\":{},\"id\":\"46772\",\"type\":\"BasicTicker\"},{\"attributes\":{\"axis_label\":\"Terms\",\"formatter\":{\"id\":\"46678\",\"type\":\"CategoricalTickFormatter\"},\"major_label_orientation\":1.5707963267948966,\"ticker\":{\"id\":\"46660\",\"type\":\"CategoricalTicker\"}},\"id\":\"46659\",\"type\":\"CategoricalAxis\"},{\"attributes\":{\"active_drag\":\"auto\",\"active_inspect\":\"auto\",\"active_multi\":null,\"active_scroll\":\"auto\",\"active_tap\":\"auto\",\"tools\":[{\"id\":\"46668\",\"type\":\"HoverTool\"}]},\"id\":\"46669\",\"type\":\"Toolbar\"},{\"attributes\":{},\"id\":\"46680\",\"type\":\"BasicTickFormatter\"},{\"attributes\":{},\"id\":\"46765\",\"type\":\"LinearScale\"},{\"attributes\":{},\"id\":\"46763\",\"type\":\"CategoricalScale\"},{\"attributes\":{},\"id\":\"46664\",\"type\":\"BasicTicker\"},{\"attributes\":{\"ticker\":{\"id\":\"46660\",\"type\":\"CategoricalTicker\"}},\"id\":\"46662\",\"type\":\"Grid\"},{\"attributes\":{\"callback\":null},\"id\":\"46653\",\"type\":\"DataRange1d\"},{\"attributes\":{\"ticker\":{\"id\":\"46768\",\"type\":\"CategoricalTicker\"}},\"id\":\"46770\",\"type\":\"Grid\"},{\"attributes\":{\"callback\":null,\"tooltips\":[[\"Prob\",\"@top\"]]},\"id\":\"46776\",\"type\":\"HoverTool\"},{\"attributes\":{},\"id\":\"46657\",\"type\":\"LinearScale\"},{\"attributes\":{\"data_source\":{\"id\":\"46755\",\"type\":\"ColumnDataSource\"},\"glyph\":{\"id\":\"46780\",\"type\":\"VBar\"},\"hover_glyph\":null,\"muted_glyph\":null,\"nonselection_glyph\":{\"id\":\"46781\",\"type\":\"VBar\"},\"selection_glyph\":null,\"view\":{\"id\":\"46783\",\"type\":\"CDSView\"}},\"id\":\"46782\",\"type\":\"GlyphRenderer\"},{\"attributes\":{\"align\":\"center\",\"text\":\"Topic: 2\"},\"id\":\"46433\",\"type\":\"Title\"},{\"attributes\":{},\"id\":\"46655\",\"type\":\"CategoricalScale\"},{\"attributes\":{\"axis_label\":\"Terms\",\"formatter\":{\"id\":\"46786\",\"type\":\"CategoricalTickFormatter\"},\"major_label_orientation\":1.5707963267948966,\"ticker\":{\"id\":\"46768\",\"type\":\"CategoricalTicker\"}},\"id\":\"46767\",\"type\":\"CategoricalAxis\"},{\"attributes\":{\"dimension\":1,\"ticker\":{\"id\":\"46772\",\"type\":\"BasicTicker\"}},\"id\":\"46775\",\"type\":\"Grid\"},{\"attributes\":{\"below\":[{\"id\":\"46659\",\"type\":\"CategoricalAxis\"}],\"center\":[{\"id\":\"46662\",\"type\":\"Grid\"},{\"id\":\"46667\",\"type\":\"Grid\"}],\"left\":[{\"id\":\"46663\",\"type\":\"LinearAxis\"}],\"plot_height\":250,\"plot_width\":400,\"renderers\":[{\"id\":\"46674\",\"type\":\"GlyphRenderer\"}],\"title\":{\"id\":\"46649\",\"type\":\"Title\"},\"toolbar\":{\"id\":\"46669\",\"type\":\"Toolbar\"},\"toolbar_location\":null,\"x_range\":{\"id\":\"46651\",\"type\":\"FactorRange\"},\"x_scale\":{\"id\":\"46655\",\"type\":\"CategoricalScale\"},\"y_range\":{\"id\":\"46653\",\"type\":\"DataRange1d\"},\"y_scale\":{\"id\":\"46657\",\"type\":\"LinearScale\"}},\"id\":\"46648\",\"subtype\":\"Figure\",\"type\":\"Plot\"},{\"attributes\":{\"fill_color\":{\"value\":\"#1f77b4\"},\"line_color\":{\"value\":\"#1f77b4\"},\"top\":{\"field\":\"top\"},\"width\":{\"value\":0.8},\"x\":{\"field\":\"x\"}},\"id\":\"46456\",\"type\":\"VBar\"},{\"attributes\":{},\"id\":\"46646\",\"type\":\"Selection\"},{\"attributes\":{\"callback\":null,\"factors\":[\"opportun\",\"home\",\"compens\",\"healthcar\",\"worker\",\"growth\",\"co_worker\",\"abil\",\"start\",\"benifit\"]},\"id\":\"46867\",\"type\":\"FactorRange\"},{\"attributes\":{\"below\":[{\"id\":\"46695\",\"type\":\"CategoricalAxis\"}],\"center\":[{\"id\":\"46698\",\"type\":\"Grid\"},{\"id\":\"46703\",\"type\":\"Grid\"}],\"left\":[{\"id\":\"46699\",\"type\":\"LinearAxis\"}],\"plot_height\":250,\"plot_width\":400,\"renderers\":[{\"id\":\"46710\",\"type\":\"GlyphRenderer\"}],\"title\":{\"id\":\"46685\",\"type\":\"Title\"},\"toolbar\":{\"id\":\"46705\",\"type\":\"Toolbar\"},\"toolbar_location\":null,\"x_range\":{\"id\":\"46687\",\"type\":\"FactorRange\"},\"x_scale\":{\"id\":\"46691\",\"type\":\"CategoricalScale\"},\"y_range\":{\"id\":\"46689\",\"type\":\"DataRange1d\"},\"y_scale\":{\"id\":\"46693\",\"type\":\"LinearScale\"}},\"id\":\"46684\",\"subtype\":\"Figure\",\"type\":\"Plot\"},{\"attributes\":{\"callback\":null,\"data\":{\"top\":{\"__ndarray__\":\"7FG4HoXrwT+kcD0K16PAP5qZmZmZmbk/exSuR+F6tD97FK5H4XqkP7gehetRuJ4/exSuR+F6lD97FK5H4XqUP3sUrkfhepQ/exSuR+F6lD8=\",\"dtype\":\"float64\",\"shape\":[10]},\"x\":[\"employe\",\"discount\",\"learn\",\"advanc\",\"bonus\",\"career\",\"secur\",\"employe_discount\",\"travel\",\"card\"]},\"selected\":{\"id\":\"46790\",\"type\":\"Selection\"},\"selection_policy\":{\"id\":\"46789\",\"type\":\"UnionRenderers\"}},\"id\":\"46755\",\"type\":\"ColumnDataSource\"},{\"attributes\":{\"callback\":null,\"factors\":[\"food\",\"life\",\"free_food\",\"life_balanc\",\"balanc\",\"coffe\",\"event\",\"free_coffe\",\"activ\",\"occasion\"]},\"id\":\"46651\",\"type\":\"FactorRange\"},{\"attributes\":{\"fill_color\":{\"value\":\"#1f77b4\"},\"line_color\":{\"value\":\"#1f77b4\"},\"top\":{\"field\":\"top\"},\"width\":{\"value\":0.8},\"x\":{\"field\":\"x\"}},\"id\":\"46672\",\"type\":\"VBar\"},{\"attributes\":{\"below\":[{\"id\":\"46407\",\"type\":\"CategoricalAxis\"}],\"center\":[{\"id\":\"46410\",\"type\":\"Grid\"},{\"id\":\"46415\",\"type\":\"Grid\"}],\"left\":[{\"id\":\"46411\",\"type\":\"LinearAxis\"}],\"plot_height\":250,\"plot_width\":400,\"renderers\":[{\"id\":\"46422\",\"type\":\"GlyphRenderer\"}],\"title\":{\"id\":\"46397\",\"type\":\"Title\"},\"toolbar\":{\"id\":\"46417\",\"type\":\"Toolbar\"},\"toolbar_location\":null,\"x_range\":{\"id\":\"46399\",\"type\":\"FactorRange\"},\"x_scale\":{\"id\":\"46403\",\"type\":\"CategoricalScale\"},\"y_range\":{\"id\":\"46401\",\"type\":\"DataRange1d\"},\"y_scale\":{\"id\":\"46405\",\"type\":\"LinearScale\"}},\"id\":\"46396\",\"subtype\":\"Figure\",\"type\":\"Plot\"},{\"attributes\":{\"callback\":null,\"factors\":[\"train\",\"product\",\"care\",\"health_care\",\"skill\",\"reward\",\"offic\",\"develop\",\"profession\",\"program\"]},\"id\":\"46687\",\"type\":\"FactorRange\"},{\"attributes\":{\"data_source\":{\"id\":\"46647\",\"type\":\"ColumnDataSource\"},\"glyph\":{\"id\":\"46672\",\"type\":\"VBar\"},\"hover_glyph\":null,\"muted_glyph\":null,\"nonselection_glyph\":{\"id\":\"46673\",\"type\":\"VBar\"},\"selection_glyph\":null,\"view\":{\"id\":\"46675\",\"type\":\"CDSView\"}},\"id\":\"46674\",\"type\":\"GlyphRenderer\"},{\"attributes\":{\"fill_color\":{\"value\":\"#1f77b4\"},\"line_color\":{\"value\":\"#1f77b4\"},\"top\":{\"field\":\"top\"},\"width\":{\"value\":0.8},\"x\":{\"field\":\"x\"}},\"id\":\"46420\",\"type\":\"VBar\"},{\"attributes\":{\"align\":\"center\",\"text\":\"Topic: 1\"},\"id\":\"46397\",\"type\":\"Title\"},{\"attributes\":{\"callback\":null,\"factors\":[\"benefit\",\"pay_benefit\",\"salari\",\"easi\",\"health_benefit\",\"competit\",\"awesom\",\"educ\",\"union\",\"benefit_401k\"]},\"id\":\"46471\",\"type\":\"FactorRange\"},{\"attributes\":{\"source\":{\"id\":\"46647\",\"type\":\"ColumnDataSource\"}},\"id\":\"46675\",\"type\":\"CDSView\"},{\"attributes\":{\"source\":{\"id\":\"46755\",\"type\":\"ColumnDataSource\"}},\"id\":\"46783\",\"type\":\"CDSView\"},{\"attributes\":{},\"id\":\"46465\",\"type\":\"UnionRenderers\"},{\"attributes\":{\"toolbar\":{\"id\":\"47101\",\"type\":\"ProxyToolbar\"},\"toolbar_location\":\"above\"},\"id\":\"47102\",\"type\":\"ToolbarBox\"},{\"attributes\":{},\"id\":\"46968\",\"type\":\"BasicTickFormatter\"},{\"attributes\":{},\"id\":\"46475\",\"type\":\"CategoricalScale\"},{\"attributes\":{\"axis_label\":\"Terms\",\"formatter\":{\"id\":\"46498\",\"type\":\"CategoricalTickFormatter\"},\"major_label_orientation\":1.5707963267948966,\"ticker\":{\"id\":\"46480\",\"type\":\"CategoricalTicker\"}},\"id\":\"46479\",\"type\":\"CategoricalAxis\"},{\"attributes\":{},\"id\":\"46477\",\"type\":\"LinearScale\"},{\"attributes\":{},\"id\":\"46645\",\"type\":\"UnionRenderers\"},{\"attributes\":{\"data_source\":{\"id\":\"46611\",\"type\":\"ColumnDataSource\"},\"glyph\":{\"id\":\"46636\",\"type\":\"VBar\"},\"hover_glyph\":null,\"muted_glyph\":null,\"nonselection_glyph\":{\"id\":\"46637\",\"type\":\"VBar\"},\"selection_glyph\":null,\"view\":{\"id\":\"46639\",\"type\":\"CDSView\"}},\"id\":\"46638\",\"type\":\"GlyphRenderer\"},{\"attributes\":{},\"id\":\"46608\",\"type\":\"BasicTickFormatter\"},{\"attributes\":{\"callback\":null},\"id\":\"46473\",\"type\":\"DataRange1d\"},{\"attributes\":{\"below\":[{\"id\":\"46623\",\"type\":\"CategoricalAxis\"}],\"center\":[{\"id\":\"46626\",\"type\":\"Grid\"},{\"id\":\"46631\",\"type\":\"Grid\"}],\"left\":[{\"id\":\"46627\",\"type\":\"LinearAxis\"}],\"plot_height\":250,\"plot_width\":400,\"renderers\":[{\"id\":\"46638\",\"type\":\"GlyphRenderer\"}],\"title\":{\"id\":\"46613\",\"type\":\"Title\"},\"toolbar\":{\"id\":\"46633\",\"type\":\"Toolbar\"},\"toolbar_location\":null,\"x_range\":{\"id\":\"46615\",\"type\":\"FactorRange\"},\"x_scale\":{\"id\":\"46619\",\"type\":\"CategoricalScale\"},\"y_range\":{\"id\":\"46617\",\"type\":\"DataRange1d\"},\"y_scale\":{\"id\":\"46621\",\"type\":\"LinearScale\"}},\"id\":\"46612\",\"subtype\":\"Figure\",\"type\":\"Plot\"},{\"attributes\":{\"source\":{\"id\":\"46575\",\"type\":\"ColumnDataSource\"}},\"id\":\"46603\",\"type\":\"CDSView\"},{\"attributes\":{},\"id\":\"46606\",\"type\":\"CategoricalTickFormatter\"},{\"attributes\":{\"fill_alpha\":{\"value\":0.1},\"fill_color\":{\"value\":\"#1f77b4\"},\"line_alpha\":{\"value\":0.1},\"line_color\":{\"value\":\"#1f77b4\"},\"top\":{\"field\":\"top\"},\"width\":{\"value\":0.8},\"x\":{\"field\":\"x\"}},\"id\":\"46637\",\"type\":\"VBar\"},{\"attributes\":{},\"id\":\"46609\",\"type\":\"UnionRenderers\"},{\"attributes\":{\"callback\":null,\"factors\":[\"manag\",\"environ\",\"custom\",\"support\",\"servic\",\"staff\",\"posit\",\"option\",\"challeng\",\"relax\"]},\"id\":\"46615\",\"type\":\"FactorRange\"},{\"attributes\":{},\"id\":\"46644\",\"type\":\"BasicTickFormatter\"},{\"attributes\":{\"active_drag\":\"auto\",\"active_inspect\":\"auto\",\"active_multi\":null,\"active_scroll\":\"auto\",\"active_tap\":\"auto\",\"tools\":[{\"id\":\"46632\",\"type\":\"HoverTool\"}]},\"id\":\"46633\",\"type\":\"Toolbar\"},{\"attributes\":{\"axis_label\":\"Term-Prob\",\"formatter\":{\"id\":\"46644\",\"type\":\"BasicTickFormatter\"},\"ticker\":{\"id\":\"46628\",\"type\":\"BasicTicker\"}},\"id\":\"46627\",\"type\":\"LinearAxis\"},{\"attributes\":{\"source\":{\"id\":\"46611\",\"type\":\"ColumnDataSource\"}},\"id\":\"46639\",\"type\":\"CDSView\"},{\"attributes\":{\"callback\":null},\"id\":\"46689\",\"type\":\"DataRange1d\"},{\"attributes\":{\"callback\":null,\"data\":{\"top\":{\"__ndarray__\":\"MzMzMzMzwz8K16NwPQq3P+xRuB6F67E/uB6F61G4rj97FK5H4XqkP7gehetRuJ4/uB6F61G4nj97FK5H4XqUP3sUrkfhepQ/exSuR+F6lD8=\",\"dtype\":\"float64\",\"shape\":[10]},\"x\":[\"time\",\"paid\",\"day\",\"vacat\",\"holiday\",\"overtim\",\"week\",\"famili\",\"pto\",\"paid_time\"]},\"selected\":{\"id\":\"46754\",\"type\":\"Selection\"},\"selection_policy\":{\"id\":\"46753\",\"type\":\"UnionRenderers\"}},\"id\":\"46719\",\"type\":\"ColumnDataSource\"},{\"attributes\":{},\"id\":\"46642\",\"type\":\"CategoricalTickFormatter\"},{\"attributes\":{},\"id\":\"46628\",\"type\":\"BasicTicker\"},{\"attributes\":{\"callback\":null},\"id\":\"46617\",\"type\":\"DataRange1d\"},{\"attributes\":{\"ticker\":{\"id\":\"46624\",\"type\":\"CategoricalTicker\"}},\"id\":\"46626\",\"type\":\"Grid\"},{\"attributes\":{},\"id\":\"46624\",\"type\":\"CategoricalTicker\"},{\"attributes\":{},\"id\":\"46621\",\"type\":\"LinearScale\"},{\"attributes\":{\"callback\":null,\"tooltips\":[[\"Prob\",\"@top\"]]},\"id\":\"46632\",\"type\":\"HoverTool\"},{\"attributes\":{\"align\":\"center\",\"text\":\"Topic: 9\"},\"id\":\"46685\",\"type\":\"Title\"},{\"attributes\":{\"dimension\":1,\"ticker\":{\"id\":\"46628\",\"type\":\"BasicTicker\"}},\"id\":\"46631\",\"type\":\"Grid\"},{\"attributes\":{\"axis_label\":\"Terms\",\"formatter\":{\"id\":\"46642\",\"type\":\"CategoricalTickFormatter\"},\"major_label_orientation\":1.5707963267948966,\"ticker\":{\"id\":\"46624\",\"type\":\"CategoricalTicker\"}},\"id\":\"46623\",\"type\":\"CategoricalAxis\"},{\"attributes\":{},\"id\":\"46610\",\"type\":\"Selection\"},{\"attributes\":{\"callback\":null,\"data\":{\"top\":{\"__ndarray__\":\"KVyPwvUozD+amZmZmZm5P3sUrkfherQ/uB6F61G4rj+4HoXrUbieP3sUrkfhepQ/exSuR+F6lD97FK5H4XqUP3sUrkfhepQ/exSuR+F6lD8=\",\"dtype\":\"float64\",\"shape\":[10]},\"x\":[\"peopl\",\"lot\",\"fun\",\"meet\",\"differ\",\"abl\",\"meet_peopl\",\"love\",\"best\",\"parti\"]},\"selected\":{\"id\":\"46430\",\"type\":\"Selection\"},\"selection_policy\":{\"id\":\"46429\",\"type\":\"UnionRenderers\"}},\"id\":\"46395\",\"type\":\"ColumnDataSource\"},{\"attributes\":{},\"id\":\"46619\",\"type\":\"CategoricalScale\"},{\"attributes\":{\"callback\":null,\"data\":{\"top\":{\"__ndarray__\":\"KVyPwvUovD/sUbgeheuxP7gehetRuK4/mpmZmZmZqT+amZmZmZmpP5qZmZmZmak/exSuR+F6pD+4HoXrUbieP3sUrkfhepQ/exSuR+F6lD8=\",\"dtype\":\"float64\",\"shape\":[10]},\"x\":[\"food\",\"life\",\"free_food\",\"life_balanc\",\"balanc\",\"coffe\",\"event\",\"free_coffe\",\"activ\",\"occasion\"]},\"selected\":{\"id\":\"46682\",\"type\":\"Selection\"},\"selection_policy\":{\"id\":\"46681\",\"type\":\"UnionRenderers\"}},\"id\":\"46647\",\"type\":\"ColumnDataSource\"},{\"attributes\":{},\"id\":\"46693\",\"type\":\"LinearScale\"},{\"attributes\":{},\"id\":\"46871\",\"type\":\"CategoricalScale\"},{\"attributes\":{},\"id\":\"46844\",\"type\":\"BasicTicker\"},{\"attributes\":{},\"id\":\"46729\",\"type\":\"LinearScale\"},{\"attributes\":{\"axis_label\":\"Term-Prob\",\"formatter\":{\"id\":\"46860\",\"type\":\"BasicTickFormatter\"},\"ticker\":{\"id\":\"46844\",\"type\":\"BasicTicker\"}},\"id\":\"46843\",\"type\":\"LinearAxis\"},{\"attributes\":{\"ticker\":{\"id\":\"46840\",\"type\":\"CategoricalTicker\"}},\"id\":\"46842\",\"type\":\"Grid\"},{\"attributes\":{\"ticker\":{\"id\":\"46480\",\"type\":\"CategoricalTicker\"}},\"id\":\"46482\",\"type\":\"Grid\"},{\"attributes\":{},\"id\":\"46840\",\"type\":\"CategoricalTicker\"},{\"attributes\":{\"data_source\":{\"id\":\"46827\",\"type\":\"ColumnDataSource\"},\"glyph\":{\"id\":\"46852\",\"type\":\"VBar\"},\"hover_glyph\":null,\"muted_glyph\":null,\"nonselection_glyph\":{\"id\":\"46853\",\"type\":\"VBar\"},\"selection_glyph\":null,\"view\":{\"id\":\"46855\",\"type\":\"CDSView\"}},\"id\":\"46854\",\"type\":\"GlyphRenderer\"},{\"attributes\":{\"callback\":null,\"data\":{\"top\":{\"__ndarray__\":\"pHA9CtejwD/sUbgeheuxP7gehetRuK4/uB6F61G4rj97FK5H4XqkP3sUrkfheqQ/uB6F61G4nj+4HoXrUbieP3sUrkfhepQ/exSuR+F6lD8=\",\"dtype\":\"float64\",\"shape\":[10]},\"x\":[\"team\",\"balanc\",\"worklif\",\"worklif_balanc\",\"medic\",\"build\",\"technolog\",\"dental\",\"allow\",\"strong\"]},\"selected\":{\"id\":\"46826\",\"type\":\"Selection\"},\"selection_policy\":{\"id\":\"46825\",\"type\":\"UnionRenderers\"}},\"id\":\"46791\",\"type\":\"ColumnDataSource\"},{\"attributes\":{},\"id\":\"46837\",\"type\":\"LinearScale\"},{\"attributes\":{\"callback\":null,\"factors\":[\"time\",\"paid\",\"day\",\"vacat\",\"holiday\",\"overtim\",\"week\",\"famili\",\"pto\",\"paid_time\"]},\"id\":\"46723\",\"type\":\"FactorRange\"},{\"attributes\":{\"axis_label\":\"Terms\",\"formatter\":{\"id\":\"46858\",\"type\":\"CategoricalTickFormatter\"},\"major_label_orientation\":1.5707963267948966,\"ticker\":{\"id\":\"46840\",\"type\":\"CategoricalTicker\"}},\"id\":\"46839\",\"type\":\"CategoricalAxis\"},{\"attributes\":{},\"id\":\"46403\",\"type\":\"CategoricalScale\"},{\"attributes\":{\"dimension\":1,\"ticker\":{\"id\":\"46844\",\"type\":\"BasicTicker\"}},\"id\":\"46847\",\"type\":\"Grid\"},{\"attributes\":{\"callback\":null},\"id\":\"46401\",\"type\":\"DataRange1d\"},{\"attributes\":{},\"id\":\"46727\",\"type\":\"CategoricalScale\"},{\"attributes\":{},\"id\":\"46691\",\"type\":\"CategoricalScale\"},{\"attributes\":{\"align\":\"center\",\"text\":\"Topic: 11\"},\"id\":\"46757\",\"type\":\"Title\"},{\"attributes\":{},\"id\":\"46405\",\"type\":\"LinearScale\"},{\"attributes\":{\"dimension\":1,\"ticker\":{\"id\":\"46700\",\"type\":\"BasicTicker\"}},\"id\":\"46703\",\"type\":\"Grid\"},{\"attributes\":{\"axis_label\":\"Terms\",\"formatter\":{\"id\":\"46714\",\"type\":\"CategoricalTickFormatter\"},\"major_label_orientation\":1.5707963267948966,\"ticker\":{\"id\":\"46696\",\"type\":\"CategoricalTicker\"}},\"id\":\"46695\",\"type\":\"CategoricalAxis\"},{\"attributes\":{\"callback\":null},\"id\":\"46869\",\"type\":\"DataRange1d\"},{\"attributes\":{},\"id\":\"46480\",\"type\":\"CategoricalTicker\"},{\"attributes\":{\"axis_label\":\"Terms\",\"formatter\":{\"id\":\"46426\",\"type\":\"CategoricalTickFormatter\"},\"major_label_orientation\":1.5707963267948966,\"ticker\":{\"id\":\"46408\",\"type\":\"CategoricalTicker\"}},\"id\":\"46407\",\"type\":\"CategoricalAxis\"},{\"attributes\":{\"callback\":null},\"id\":\"46725\",\"type\":\"DataRange1d\"},{\"attributes\":{\"axis_label\":\"Terms\",\"formatter\":{\"id\":\"46894\",\"type\":\"CategoricalTickFormatter\"},\"major_label_orientation\":1.5707963267948966,\"ticker\":{\"id\":\"46876\",\"type\":\"CategoricalTicker\"}},\"id\":\"46875\",\"type\":\"CategoricalAxis\"},{\"attributes\":{\"dimension\":1,\"ticker\":{\"id\":\"46412\",\"type\":\"BasicTicker\"}},\"id\":\"46415\",\"type\":\"Grid\"},{\"attributes\":{\"fill_alpha\":{\"value\":0.1},\"fill_color\":{\"value\":\"#1f77b4\"},\"line_alpha\":{\"value\":0.1},\"line_color\":{\"value\":\"#1f77b4\"},\"top\":{\"field\":\"top\"},\"width\":{\"value\":0.8},\"x\":{\"field\":\"x\"}},\"id\":\"46853\",\"type\":\"VBar\"},{\"attributes\":{},\"id\":\"46408\",\"type\":\"CategoricalTicker\"},{\"attributes\":{},\"id\":\"46484\",\"type\":\"BasicTicker\"},{\"attributes\":{},\"id\":\"46696\",\"type\":\"CategoricalTicker\"},{\"attributes\":{\"ticker\":{\"id\":\"46408\",\"type\":\"CategoricalTicker\"}},\"id\":\"46410\",\"type\":\"Grid\"},{\"attributes\":{\"fill_color\":{\"value\":\"#1f77b4\"},\"line_color\":{\"value\":\"#1f77b4\"},\"top\":{\"field\":\"top\"},\"width\":{\"value\":0.8},\"x\":{\"field\":\"x\"}},\"id\":\"46744\",\"type\":\"VBar\"},{\"attributes\":{},\"id\":\"46714\",\"type\":\"CategoricalTickFormatter\"},{\"attributes\":{},\"id\":\"46862\",\"type\":\"Selection\"},{\"attributes\":{},\"id\":\"46412\",\"type\":\"BasicTicker\"},{\"attributes\":{},\"id\":\"46718\",\"type\":\"Selection\"},{\"attributes\":{\"axis_label\":\"Term-Prob\",\"formatter\":{\"id\":\"46428\",\"type\":\"BasicTickFormatter\"},\"ticker\":{\"id\":\"46412\",\"type\":\"BasicTicker\"}},\"id\":\"46411\",\"type\":\"LinearAxis\"},{\"attributes\":{\"axis_label\":\"Term-Prob\",\"formatter\":{\"id\":\"46500\",\"type\":\"BasicTickFormatter\"},\"ticker\":{\"id\":\"46484\",\"type\":\"BasicTicker\"}},\"id\":\"46483\",\"type\":\"LinearAxis\"},{\"attributes\":{\"fill_color\":{\"value\":\"#1f77b4\"},\"line_color\":{\"value\":\"#1f77b4\"},\"top\":{\"field\":\"top\"},\"width\":{\"value\":0.8},\"x\":{\"field\":\"x\"}},\"id\":\"46888\",\"type\":\"VBar\"},{\"attributes\":{\"fill_alpha\":{\"value\":0.1},\"fill_color\":{\"value\":\"#1f77b4\"},\"line_alpha\":{\"value\":0.1},\"line_color\":{\"value\":\"#1f77b4\"},\"top\":{\"field\":\"top\"},\"width\":{\"value\":0.8},\"x\":{\"field\":\"x\"}},\"id\":\"46421\",\"type\":\"VBar\"},{\"attributes\":{\"active_drag\":\"auto\",\"active_inspect\":\"auto\",\"active_multi\":null,\"active_scroll\":\"auto\",\"active_tap\":\"auto\",\"tools\":[{\"id\":\"46416\",\"type\":\"HoverTool\"}]},\"id\":\"46417\",\"type\":\"Toolbar\"},{\"attributes\":{},\"id\":\"46786\",\"type\":\"CategoricalTickFormatter\"},{\"attributes\":{},\"id\":\"46835\",\"type\":\"CategoricalScale\"},{\"attributes\":{},\"id\":\"46717\",\"type\":\"UnionRenderers\"},{\"attributes\":{\"callback\":null,\"tooltips\":[[\"Prob\",\"@top\"]]},\"id\":\"46416\",\"type\":\"HoverTool\"},{\"attributes\":{\"callback\":null,\"tooltips\":[[\"Prob\",\"@top\"]]},\"id\":\"46848\",\"type\":\"HoverTool\"},{\"attributes\":{\"active_drag\":\"auto\",\"active_inspect\":\"auto\",\"active_multi\":null,\"active_scroll\":\"auto\",\"active_tap\":\"auto\",\"tools\":[{\"id\":\"46848\",\"type\":\"HoverTool\"}]},\"id\":\"46849\",\"type\":\"Toolbar\"},{\"attributes\":{},\"id\":\"46700\",\"type\":\"BasicTicker\"},{\"attributes\":{},\"id\":\"46426\",\"type\":\"CategoricalTickFormatter\"},{\"attributes\":{\"ticker\":{\"id\":\"46696\",\"type\":\"CategoricalTicker\"}},\"id\":\"46698\",\"type\":\"Grid\"},{\"attributes\":{\"data_source\":{\"id\":\"46395\",\"type\":\"ColumnDataSource\"},\"glyph\":{\"id\":\"46420\",\"type\":\"VBar\"},\"hover_glyph\":null,\"muted_glyph\":null,\"nonselection_glyph\":{\"id\":\"46421\",\"type\":\"VBar\"},\"selection_glyph\":null,\"view\":{\"id\":\"46423\",\"type\":\"CDSView\"}},\"id\":\"46422\",\"type\":\"GlyphRenderer\"},{\"attributes\":{},\"id\":\"46732\",\"type\":\"CategoricalTicker\"},{\"attributes\":{\"fill_color\":{\"value\":\"#1f77b4\"},\"line_color\":{\"value\":\"#1f77b4\"},\"top\":{\"field\":\"top\"},\"width\":{\"value\":0.8},\"x\":{\"field\":\"x\"}},\"id\":\"46780\",\"type\":\"VBar\"},{\"attributes\":{\"axis_label\":\"Terms\",\"formatter\":{\"id\":\"46750\",\"type\":\"CategoricalTickFormatter\"},\"major_label_orientation\":1.5707963267948966,\"ticker\":{\"id\":\"46732\",\"type\":\"CategoricalTicker\"}},\"id\":\"46731\",\"type\":\"CategoricalAxis\"},{\"attributes\":{\"source\":{\"id\":\"46395\",\"type\":\"ColumnDataSource\"}},\"id\":\"46423\",\"type\":\"CDSView\"},{\"attributes\":{},\"id\":\"46860\",\"type\":\"BasicTickFormatter\"},{\"attributes\":{\"callback\":null,\"tooltips\":[[\"Prob\",\"@top\"]]},\"id\":\"46704\",\"type\":\"HoverTool\"},{\"attributes\":{},\"id\":\"46873\",\"type\":\"LinearScale\"},{\"attributes\":{\"active_drag\":\"auto\",\"active_inspect\":\"auto\",\"active_multi\":null,\"active_scroll\":\"auto\",\"active_tap\":\"auto\",\"tools\":[{\"id\":\"46704\",\"type\":\"HoverTool\"}]},\"id\":\"46705\",\"type\":\"Toolbar\"},{\"attributes\":{\"align\":\"center\",\"text\":\"Topic: 15\"},\"id\":\"46901\",\"type\":\"Title\"},{\"attributes\":{\"callback\":null,\"factors\":[\"employe\",\"discount\",\"learn\",\"advanc\",\"bonus\",\"career\",\"secur\",\"employe_discount\",\"travel\",\"card\"]},\"id\":\"46759\",\"type\":\"FactorRange\"},{\"attributes\":{\"align\":\"center\",\"text\":\"Topic: 10\"},\"id\":\"46721\",\"type\":\"Title\"},{\"attributes\":{\"callback\":null,\"data\":{\"top\":{\"__ndarray__\":\"KVyPwvUozD8zMzMzMzPDPwrXo3A9Crc/7FG4HoXrsT97FK5H4XqUP3sUrkfhepQ/exSuR+F6lD97FK5H4XqUP3sUrkfhepQ/exSuR+F6lD8=\",\"dtype\":\"float64\",\"shape\":[10]},\"x\":[\"flexibl\",\"schedul\",\"cultur\",\"flexibl_schedul\",\"set\",\"remot\",\"salari_benefit\",\"perform\",\"benefit_flexibl\",\"school\"]},\"selected\":{\"id\":\"46970\",\"type\":\"Selection\"},\"selection_policy\":{\"id\":\"46969\",\"type\":\"UnionRenderers\"}},\"id\":\"46935\",\"type\":\"ColumnDataSource\"},{\"attributes\":{\"fill_alpha\":{\"value\":0.1},\"fill_color\":{\"value\":\"#1f77b4\"},\"line_alpha\":{\"value\":0.1},\"line_color\":{\"value\":\"#1f77b4\"},\"top\":{\"field\":\"top\"},\"width\":{\"value\":0.8},\"x\":{\"field\":\"x\"}},\"id\":\"46709\",\"type\":\"VBar\"},{\"attributes\":{},\"id\":\"46858\",\"type\":\"CategoricalTickFormatter\"},{\"attributes\":{},\"id\":\"46750\",\"type\":\"CategoricalTickFormatter\"},{\"attributes\":{\"data_source\":{\"id\":\"46683\",\"type\":\"ColumnDataSource\"},\"glyph\":{\"id\":\"46708\",\"type\":\"VBar\"},\"hover_glyph\":null,\"muted_glyph\":null,\"nonselection_glyph\":{\"id\":\"46709\",\"type\":\"VBar\"},\"selection_glyph\":null,\"view\":{\"id\":\"46711\",\"type\":\"CDSView\"}},\"id\":\"46710\",\"type\":\"GlyphRenderer\"},{\"attributes\":{\"below\":[{\"id\":\"46731\",\"type\":\"CategoricalAxis\"}],\"center\":[{\"id\":\"46734\",\"type\":\"Grid\"},{\"id\":\"46739\",\"type\":\"Grid\"}],\"left\":[{\"id\":\"46735\",\"type\":\"LinearAxis\"}],\"plot_height\":250,\"plot_width\":400,\"renderers\":[{\"id\":\"46746\",\"type\":\"GlyphRenderer\"}],\"title\":{\"id\":\"46721\",\"type\":\"Title\"},\"toolbar\":{\"id\":\"46741\",\"type\":\"Toolbar\"},\"toolbar_location\":null,\"x_range\":{\"id\":\"46723\",\"type\":\"FactorRange\"},\"x_scale\":{\"id\":\"46727\",\"type\":\"CategoricalScale\"},\"y_range\":{\"id\":\"46725\",\"type\":\"DataRange1d\"},\"y_scale\":{\"id\":\"46729\",\"type\":\"LinearScale\"}},\"id\":\"46720\",\"subtype\":\"Figure\",\"type\":\"Plot\"},{\"attributes\":{\"axis_label\":\"Term-Prob\",\"formatter\":{\"id\":\"46716\",\"type\":\"BasicTickFormatter\"},\"ticker\":{\"id\":\"46700\",\"type\":\"BasicTicker\"}},\"id\":\"46699\",\"type\":\"LinearAxis\"},{\"attributes\":{\"source\":{\"id\":\"46683\",\"type\":\"ColumnDataSource\"}},\"id\":\"46711\",\"type\":\"CDSView\"},{\"attributes\":{},\"id\":\"46788\",\"type\":\"BasicTickFormatter\"},{\"attributes\":{\"source\":{\"id\":\"46827\",\"type\":\"ColumnDataSource\"}},\"id\":\"46855\",\"type\":\"CDSView\"},{\"attributes\":{\"below\":[{\"id\":\"46875\",\"type\":\"CategoricalAxis\"}],\"center\":[{\"id\":\"46878\",\"type\":\"Grid\"},{\"id\":\"46883\",\"type\":\"Grid\"}],\"left\":[{\"id\":\"46879\",\"type\":\"LinearAxis\"}],\"plot_height\":250,\"plot_width\":400,\"renderers\":[{\"id\":\"46890\",\"type\":\"GlyphRenderer\"}],\"title\":{\"id\":\"46865\",\"type\":\"Title\"},\"toolbar\":{\"id\":\"46885\",\"type\":\"Toolbar\"},\"toolbar_location\":null,\"x_range\":{\"id\":\"46867\",\"type\":\"FactorRange\"},\"x_scale\":{\"id\":\"46871\",\"type\":\"CategoricalScale\"},\"y_range\":{\"id\":\"46869\",\"type\":\"DataRange1d\"},\"y_scale\":{\"id\":\"46873\",\"type\":\"LinearScale\"}},\"id\":\"46864\",\"subtype\":\"Figure\",\"type\":\"Plot\"},{\"attributes\":{},\"id\":\"46716\",\"type\":\"BasicTickFormatter\"},{\"attributes\":{},\"id\":\"46462\",\"type\":\"CategoricalTickFormatter\"},{\"attributes\":{\"callback\":null,\"data\":{\"top\":{\"__ndarray__\":\"uB6F61G4vj/sUbgeheuxP5qZmZmZmak/exSuR+F6pD97FK5H4XqkP7gehetRuJ4/uB6F61G4nj+4HoXrUbieP3sUrkfhepQ/exSuR+F6lD8=\",\"dtype\":\"float64\",\"shape\":[10]},\"x\":[\"opportun\",\"home\",\"compens\",\"healthcar\",\"worker\",\"growth\",\"co_worker\",\"abil\",\"start\",\"benifit\"]},\"selected\":{\"id\":\"46898\",\"type\":\"Selection\"},\"selection_policy\":{\"id\":\"46897\",\"type\":\"UnionRenderers\"}},\"id\":\"46863\",\"type\":\"ColumnDataSource\"},{\"attributes\":{\"fill_color\":{\"value\":\"#1f77b4\"},\"line_color\":{\"value\":\"#1f77b4\"},\"top\":{\"field\":\"top\"},\"width\":{\"value\":0.8},\"x\":{\"field\":\"x\"}},\"id\":\"46492\",\"type\":\"VBar\"},{\"attributes\":{\"callback\":null},\"id\":\"46437\",\"type\":\"DataRange1d\"},{\"attributes\":{\"below\":[{\"id\":\"46479\",\"type\":\"CategoricalAxis\"}],\"center\":[{\"id\":\"46482\",\"type\":\"Grid\"},{\"id\":\"46487\",\"type\":\"Grid\"}],\"left\":[{\"id\":\"46483\",\"type\":\"LinearAxis\"}],\"plot_height\":250,\"plot_width\":400,\"renderers\":[{\"id\":\"46494\",\"type\":\"GlyphRenderer\"}],\"title\":{\"id\":\"46469\",\"type\":\"Title\"},\"toolbar\":{\"id\":\"46489\",\"type\":\"Toolbar\"},\"toolbar_location\":null,\"x_range\":{\"id\":\"46471\",\"type\":\"FactorRange\"},\"x_scale\":{\"id\":\"46475\",\"type\":\"CategoricalScale\"},\"y_range\":{\"id\":\"46473\",\"type\":\"DataRange1d\"},\"y_scale\":{\"id\":\"46477\",\"type\":\"LinearScale\"}},\"id\":\"46468\",\"subtype\":\"Figure\",\"type\":\"Plot\"},{\"attributes\":{},\"id\":\"46464\",\"type\":\"BasicTickFormatter\"},{\"attributes\":{\"align\":\"center\",\"text\":\"Topic: 13\"},\"id\":\"46829\",\"type\":\"Title\"},{\"attributes\":{\"fill_color\":{\"value\":\"#1f77b4\"},\"line_color\":{\"value\":\"#1f77b4\"},\"top\":{\"field\":\"top\"},\"width\":{\"value\":0.8},\"x\":{\"field\":\"x\"}},\"id\":\"46852\",\"type\":\"VBar\"},{\"attributes\":{},\"id\":\"46466\",\"type\":\"Selection\"},{\"attributes\":{\"callback\":null},\"id\":\"46833\",\"type\":\"DataRange1d\"},{\"attributes\":{},\"id\":\"46825\",\"type\":\"UnionRenderers\"},{\"attributes\":{\"below\":[{\"id\":\"46839\",\"type\":\"CategoricalAxis\"}],\"center\":[{\"id\":\"46842\",\"type\":\"Grid\"},{\"id\":\"46847\",\"type\":\"Grid\"}],\"left\":[{\"id\":\"46843\",\"type\":\"LinearAxis\"}],\"plot_height\":250,\"plot_width\":400,\"renderers\":[{\"id\":\"46854\",\"type\":\"GlyphRenderer\"}],\"title\":{\"id\":\"46829\",\"type\":\"Title\"},\"toolbar\":{\"id\":\"46849\",\"type\":\"Toolbar\"},\"toolbar_location\":null,\"x_range\":{\"id\":\"46831\",\"type\":\"FactorRange\"},\"x_scale\":{\"id\":\"46835\",\"type\":\"CategoricalScale\"},\"y_range\":{\"id\":\"46833\",\"type\":\"DataRange1d\"},\"y_scale\":{\"id\":\"46837\",\"type\":\"LinearScale\"}},\"id\":\"46828\",\"subtype\":\"Figure\",\"type\":\"Plot\"},{\"attributes\":{\"callback\":null,\"factors\":[\"gym\",\"cafeteria\",\"packag\",\"reimburs\",\"tuition\",\"etc\",\"benefit_packag\",\"site\",\"onsit\",\"recognit\"]},\"id\":\"46435\",\"type\":\"FactorRange\"},{\"attributes\":{},\"id\":\"46826\",\"type\":\"Selection\"},{\"attributes\":{\"active_drag\":\"auto\",\"active_inspect\":\"auto\",\"active_multi\":null,\"active_scroll\":\"auto\",\"active_tap\":\"auto\",\"tools\":[{\"id\":\"46956\",\"type\":\"HoverTool\"}]},\"id\":\"46957\",\"type\":\"Toolbar\"},{\"attributes\":{},\"id\":\"46536\",\"type\":\"BasicTickFormatter\"},{\"attributes\":{\"callback\":null,\"factors\":[\"pay\",\"excel\",\"decent\",\"decent_pay\",\"benefit_pay\",\"excel_benefit\",\"locat\",\"promot\",\"weekli\",\"base\"]},\"id\":\"46831\",\"type\":\"FactorRange\"},{\"attributes\":{},\"id\":\"46897\",\"type\":\"UnionRenderers\"},{\"attributes\":{},\"id\":\"46822\",\"type\":\"CategoricalTickFormatter\"},{\"attributes\":{},\"id\":\"46428\",\"type\":\"BasicTickFormatter\"},{\"attributes\":{},\"id\":\"46898\",\"type\":\"Selection\"},{\"attributes\":{},\"id\":\"46824\",\"type\":\"BasicTickFormatter\"},{\"attributes\":{\"align\":\"center\",\"text\":\"Topic: 16\"},\"id\":\"46937\",\"type\":\"Title\"},{\"attributes\":{\"callback\":null,\"data\":{\"top\":{\"__ndarray__\":\"cT0K16NwzT8pXI/C9Si8P3sUrkfherQ/exSuR+F6lD97FK5H4XqUP3sUrkfheoQ/exSuR+F6hD97FK5H4XqEP3sUrkfheoQ/exSuR+F6hD8=\",\"dtype\":\"float64\",\"shape\":[10]},\"x\":[\"free\",\"lunch\",\"free_lunch\",\"drink\",\"sometim\",\"snack\",\"month\",\"cabl\",\"phone\",\"provid\"]},\"selected\":{\"id\":\"46574\",\"type\":\"Selection\"},\"selection_policy\":{\"id\":\"46573\",\"type\":\"UnionRenderers\"}},\"id\":\"46539\",\"type\":\"ColumnDataSource\"},{\"attributes\":{\"callback\":null,\"data\":{\"top\":{\"__ndarray__\":\"KVyPwvUovD/sUbgeheuxP7gehetRuK4/mpmZmZmZqT+amZmZmZmpP3sUrkfheqQ/exSuR+F6pD+4HoXrUbieP7gehetRuJ4/uB6F61G4nj8=\",\"dtype\":\"float64\",\"shape\":[10]},\"x\":[\"health\",\"insur\",\"help\",\"fast\",\"pace\",\"atmospher\",\"fast_pace\",\"busi\",\"bonu\",\"incent\"]},\"selected\":{\"id\":\"46934\",\"type\":\"Selection\"},\"selection_policy\":{\"id\":\"46933\",\"type\":\"UnionRenderers\"}},\"id\":\"46899\",\"type\":\"ColumnDataSource\"},{\"attributes\":{\"align\":\"center\",\"text\":\"Topic: 14\"},\"id\":\"46865\",\"type\":\"Title\"},{\"attributes\":{\"callback\":null,\"factors\":[\"peopl\",\"lot\",\"fun\",\"meet\",\"differ\",\"abl\",\"meet_peopl\",\"love\",\"best\",\"parti\"]},\"id\":\"46399\",\"type\":\"FactorRange\"},{\"attributes\":{\"align\":\"center\",\"text\":\"Topic: 6\"},\"id\":\"46577\",\"type\":\"Title\"},{\"attributes\":{},\"id\":\"46537\",\"type\":\"UnionRenderers\"},{\"attributes\":{\"axis_label\":\"Terms\",\"formatter\":{\"id\":\"46534\",\"type\":\"CategoricalTickFormatter\"},\"major_label_orientation\":1.5707963267948966,\"ticker\":{\"id\":\"46516\",\"type\":\"CategoricalTicker\"}},\"id\":\"46515\",\"type\":\"CategoricalAxis\"},{\"attributes\":{\"active_drag\":\"auto\",\"active_inspect\":\"auto\",\"active_multi\":null,\"active_scroll\":\"auto\",\"active_tap\":\"auto\",\"tools\":[{\"id\":\"46560\",\"type\":\"HoverTool\"}]},\"id\":\"46561\",\"type\":\"Toolbar\"},{\"attributes\":{\"callback\":null,\"tooltips\":[[\"Prob\",\"@top\"]]},\"id\":\"46560\",\"type\":\"HoverTool\"},{\"attributes\":{},\"id\":\"46861\",\"type\":\"UnionRenderers\"},{\"attributes\":{\"axis_label\":\"Terms\",\"formatter\":{\"id\":\"46606\",\"type\":\"CategoricalTickFormatter\"},\"major_label_orientation\":1.5707963267948966,\"ticker\":{\"id\":\"46588\",\"type\":\"CategoricalTicker\"}},\"id\":\"46587\",\"type\":\"CategoricalAxis\"},{\"attributes\":{},\"id\":\"46516\",\"type\":\"CategoricalTicker\"},{\"attributes\":{\"fill_alpha\":{\"value\":0.1},\"fill_color\":{\"value\":\"#1f77b4\"},\"line_alpha\":{\"value\":0.1},\"line_color\":{\"value\":\"#1f77b4\"},\"top\":{\"field\":\"top\"},\"width\":{\"value\":0.8},\"x\":{\"field\":\"x\"}},\"id\":\"46817\",\"type\":\"VBar\"},{\"attributes\":{\"axis_label\":\"Term-Prob\",\"formatter\":{\"id\":\"46572\",\"type\":\"BasicTickFormatter\"},\"ticker\":{\"id\":\"46556\",\"type\":\"BasicTicker\"}},\"id\":\"46555\",\"type\":\"LinearAxis\"},{\"attributes\":{\"active_drag\":\"auto\",\"active_inspect\":\"auto\",\"active_multi\":null,\"active_scroll\":\"auto\",\"active_tap\":\"auto\",\"tools\":[{\"id\":\"46812\",\"type\":\"HoverTool\"}]},\"id\":\"46813\",\"type\":\"Toolbar\"},{\"attributes\":{\"callback\":null,\"tooltips\":[[\"Prob\",\"@top\"]]},\"id\":\"46956\",\"type\":\"HoverTool\"},{\"attributes\":{\"align\":\"center\",\"text\":\"Topic: 8\"},\"id\":\"46649\",\"type\":\"Title\"},{\"attributes\":{\"source\":{\"id\":\"46791\",\"type\":\"ColumnDataSource\"}},\"id\":\"46819\",\"type\":\"CDSView\"},{\"attributes\":{},\"id\":\"46513\",\"type\":\"LinearScale\"},{\"attributes\":{\"active_drag\":\"auto\",\"active_inspect\":\"auto\",\"active_multi\":null,\"active_scroll\":\"auto\",\"active_tap\":\"auto\",\"tools\":[{\"id\":\"46596\",\"type\":\"HoverTool\"}]},\"id\":\"46597\",\"type\":\"Toolbar\"},{\"attributes\":{\"callback\":null,\"data\":{\"top\":{\"__ndarray__\":\"CtejcD0Kxz+kcD0K16PAP7gehetRuJ4/uB6F61G4nj+4HoXrUbieP7gehetRuJ4/exSuR+F6lD97FK5H4XqUP3sUrkfhepQ/exSuR+F6hD8=\",\"dtype\":\"float64\",\"shape\":[10]},\"x\":[\"cowork\",\"nice\",\"store\",\"money\",\"nice_peopl\",\"sale\",\"friend\",\"associ\",\"respect\",\"low\"]},\"selected\":{\"id\":\"46538\",\"type\":\"Selection\"},\"selection_policy\":{\"id\":\"46537\",\"type\":\"UnionRenderers\"}},\"id\":\"46503\",\"type\":\"ColumnDataSource\"},{\"attributes\":{\"dimension\":1,\"ticker\":{\"id\":\"46556\",\"type\":\"BasicTicker\"}},\"id\":\"46559\",\"type\":\"Grid\"},{\"attributes\":{\"source\":{\"id\":\"46539\",\"type\":\"ColumnDataSource\"}},\"id\":\"46567\",\"type\":\"CDSView\"},{\"attributes\":{},\"id\":\"46556\",\"type\":\"BasicTicker\"},{\"attributes\":{\"source\":{\"id\":\"46935\",\"type\":\"ColumnDataSource\"}},\"id\":\"46963\",\"type\":\"CDSView\"},{\"attributes\":{},\"id\":\"46549\",\"type\":\"LinearScale\"},{\"attributes\":{\"dimension\":1,\"ticker\":{\"id\":\"46952\",\"type\":\"BasicTicker\"}},\"id\":\"46955\",\"type\":\"Grid\"},{\"attributes\":{\"ticker\":{\"id\":\"46552\",\"type\":\"CategoricalTicker\"}},\"id\":\"46554\",\"type\":\"Grid\"},{\"attributes\":{\"data_source\":{\"id\":\"46575\",\"type\":\"ColumnDataSource\"},\"glyph\":{\"id\":\"46600\",\"type\":\"VBar\"},\"hover_glyph\":null,\"muted_glyph\":null,\"nonselection_glyph\":{\"id\":\"46601\",\"type\":\"VBar\"},\"selection_glyph\":null,\"view\":{\"id\":\"46603\",\"type\":\"CDSView\"}},\"id\":\"46602\",\"type\":\"GlyphRenderer\"},{\"attributes\":{\"callback\":null},\"id\":\"46797\",\"type\":\"DataRange1d\"},{\"attributes\":{\"ticker\":{\"id\":\"46516\",\"type\":\"CategoricalTicker\"}},\"id\":\"46518\",\"type\":\"Grid\"},{\"attributes\":{\"axis_label\":\"Term-Prob\",\"formatter\":{\"id\":\"46824\",\"type\":\"BasicTickFormatter\"},\"ticker\":{\"id\":\"46808\",\"type\":\"BasicTicker\"}},\"id\":\"46807\",\"type\":\"LinearAxis\"},{\"attributes\":{},\"id\":\"46534\",\"type\":\"CategoricalTickFormatter\"},{\"attributes\":{\"fill_color\":{\"value\":\"#1f77b4\"},\"line_color\":{\"value\":\"#1f77b4\"},\"top\":{\"field\":\"top\"},\"width\":{\"value\":0.8},\"x\":{\"field\":\"x\"}},\"id\":\"46636\",\"type\":\"VBar\"},{\"attributes\":{},\"id\":\"46808\",\"type\":\"BasicTicker\"},{\"attributes\":{\"callback\":null,\"factors\":[\"cowork\",\"nice\",\"store\",\"money\",\"nice_peopl\",\"sale\",\"friend\",\"associ\",\"respect\",\"low\"]},\"id\":\"46507\",\"type\":\"FactorRange\"},{\"attributes\":{\"axis_label\":\"Terms\",\"formatter\":{\"id\":\"46570\",\"type\":\"CategoricalTickFormatter\"},\"major_label_orientation\":1.5707963267948966,\"ticker\":{\"id\":\"46552\",\"type\":\"CategoricalTicker\"}},\"id\":\"46551\",\"type\":\"CategoricalAxis\"},{\"attributes\":{\"axis_label\":\"Terms\",\"formatter\":{\"id\":\"46822\",\"type\":\"CategoricalTickFormatter\"},\"major_label_orientation\":1.5707963267948966,\"ticker\":{\"id\":\"46804\",\"type\":\"CategoricalTicker\"}},\"id\":\"46803\",\"type\":\"CategoricalAxis\"},{\"attributes\":{\"callback\":null},\"id\":\"46545\",\"type\":\"DataRange1d\"},{\"attributes\":{\"ticker\":{\"id\":\"46804\",\"type\":\"CategoricalTicker\"}},\"id\":\"46806\",\"type\":\"Grid\"},{\"attributes\":{},\"id\":\"46547\",\"type\":\"CategoricalScale\"},{\"attributes\":{\"fill_color\":{\"value\":\"#1f77b4\"},\"line_color\":{\"value\":\"#1f77b4\"},\"top\":{\"field\":\"top\"},\"width\":{\"value\":0.8},\"x\":{\"field\":\"x\"}},\"id\":\"46528\",\"type\":\"VBar\"},{\"attributes\":{\"dimension\":1,\"ticker\":{\"id\":\"46592\",\"type\":\"BasicTicker\"}},\"id\":\"46595\",\"type\":\"Grid\"},{\"attributes\":{\"callback\":null,\"tooltips\":[[\"Prob\",\"@top\"]]},\"id\":\"46596\",\"type\":\"HoverTool\"},{\"attributes\":{},\"id\":\"46801\",\"type\":\"LinearScale\"},{\"attributes\":{\"fill_alpha\":{\"value\":0.1},\"fill_color\":{\"value\":\"#1f77b4\"},\"line_alpha\":{\"value\":0.1},\"line_color\":{\"value\":\"#1f77b4\"},\"top\":{\"field\":\"top\"},\"width\":{\"value\":0.8},\"x\":{\"field\":\"x\"}},\"id\":\"46493\",\"type\":\"VBar\"},{\"attributes\":{\"data_source\":{\"id\":\"46791\",\"type\":\"ColumnDataSource\"},\"glyph\":{\"id\":\"46816\",\"type\":\"VBar\"},\"hover_glyph\":null,\"muted_glyph\":null,\"nonselection_glyph\":{\"id\":\"46817\",\"type\":\"VBar\"},\"selection_glyph\":null,\"view\":{\"id\":\"46819\",\"type\":\"CDSView\"}},\"id\":\"46818\",\"type\":\"GlyphRenderer\"},{\"attributes\":{},\"id\":\"46552\",\"type\":\"CategoricalTicker\"},{\"attributes\":{\"fill_color\":{\"value\":\"#1f77b4\"},\"line_color\":{\"value\":\"#1f77b4\"},\"top\":{\"field\":\"top\"},\"width\":{\"value\":0.8},\"x\":{\"field\":\"x\"}},\"id\":\"46600\",\"type\":\"VBar\"},{\"attributes\":{\"active_drag\":\"auto\",\"active_inspect\":\"auto\",\"active_multi\":null,\"active_scroll\":\"auto\",\"active_tap\":\"auto\",\"tools\":[{\"id\":\"46488\",\"type\":\"HoverTool\"}]},\"id\":\"46489\",\"type\":\"Toolbar\"},{\"attributes\":{\"callback\":null,\"tooltips\":[[\"Prob\",\"@top\"]]},\"id\":\"46812\",\"type\":\"HoverTool\"},{\"attributes\":{\"callback\":null,\"factors\":[\"free\",\"lunch\",\"free_lunch\",\"drink\",\"sometim\",\"snack\",\"month\",\"cabl\",\"phone\",\"provid\"]},\"id\":\"46543\",\"type\":\"FactorRange\"},{\"attributes\":{},\"id\":\"46588\",\"type\":\"CategoricalTicker\"},{\"attributes\":{\"callback\":null,\"tooltips\":[[\"Prob\",\"@top\"]]},\"id\":\"46524\",\"type\":\"HoverTool\"},{\"attributes\":{\"callback\":null,\"tooltips\":[[\"Prob\",\"@top\"]]},\"id\":\"46884\",\"type\":\"HoverTool\"},{\"attributes\":{},\"id\":\"46585\",\"type\":\"LinearScale\"},{\"attributes\":{},\"id\":\"46969\",\"type\":\"UnionRenderers\"},{\"attributes\":{\"callback\":null},\"id\":\"46509\",\"type\":\"DataRange1d\"},{\"attributes\":{\"callback\":null},\"id\":\"46581\",\"type\":\"DataRange1d\"},{\"attributes\":{\"dimension\":1,\"ticker\":{\"id\":\"46808\",\"type\":\"BasicTicker\"}},\"id\":\"46811\",\"type\":\"Grid\"},{\"attributes\":{},\"id\":\"46804\",\"type\":\"CategoricalTicker\"},{\"attributes\":{},\"id\":\"46511\",\"type\":\"CategoricalScale\"},{\"attributes\":{\"active_drag\":\"auto\",\"active_inspect\":\"auto\",\"active_multi\":null,\"active_scroll\":\"auto\",\"active_tap\":\"auto\",\"tools\":[{\"id\":\"46524\",\"type\":\"HoverTool\"}]},\"id\":\"46525\",\"type\":\"Toolbar\"},{\"attributes\":{\"dimension\":1,\"ticker\":{\"id\":\"46520\",\"type\":\"BasicTicker\"}},\"id\":\"46523\",\"type\":\"Grid\"},{\"attributes\":{\"fill_alpha\":{\"value\":0.1},\"fill_color\":{\"value\":\"#1f77b4\"},\"line_alpha\":{\"value\":0.1},\"line_color\":{\"value\":\"#1f77b4\"},\"top\":{\"field\":\"top\"},\"width\":{\"value\":0.8},\"x\":{\"field\":\"x\"}},\"id\":\"46601\",\"type\":\"VBar\"},{\"attributes\":{\"dimension\":1,\"ticker\":{\"id\":\"46484\",\"type\":\"BasicTicker\"}},\"id\":\"46487\",\"type\":\"Grid\"},{\"attributes\":{\"source\":{\"id\":\"46467\",\"type\":\"ColumnDataSource\"}},\"id\":\"46495\",\"type\":\"CDSView\"},{\"attributes\":{\"children\":[[{\"id\":\"46396\",\"subtype\":\"Figure\",\"type\":\"Plot\"},0,0],[{\"id\":\"46432\",\"subtype\":\"Figure\",\"type\":\"Plot\"},0,1],[{\"id\":\"46468\",\"subtype\":\"Figure\",\"type\":\"Plot\"},1,0],[{\"id\":\"46504\",\"subtype\":\"Figure\",\"type\":\"Plot\"},1,1],[{\"id\":\"46540\",\"subtype\":\"Figure\",\"type\":\"Plot\"},2,0],[{\"id\":\"46576\",\"subtype\":\"Figure\",\"type\":\"Plot\"},2,1],[{\"id\":\"46612\",\"subtype\":\"Figure\",\"type\":\"Plot\"},3,0],[{\"id\":\"46648\",\"subtype\":\"Figure\",\"type\":\"Plot\"},3,1],[{\"id\":\"46684\",\"subtype\":\"Figure\",\"type\":\"Plot\"},4,0],[{\"id\":\"46720\",\"subtype\":\"Figure\",\"type\":\"Plot\"},4,1],[{\"id\":\"46756\",\"subtype\":\"Figure\",\"type\":\"Plot\"},5,0],[{\"id\":\"46792\",\"subtype\":\"Figure\",\"type\":\"Plot\"},5,1],[{\"id\":\"46828\",\"subtype\":\"Figure\",\"type\":\"Plot\"},6,0],[{\"id\":\"46864\",\"subtype\":\"Figure\",\"type\":\"Plot\"},6,1],[{\"id\":\"46900\",\"subtype\":\"Figure\",\"type\":\"Plot\"},7,0],[{\"id\":\"46936\",\"subtype\":\"Figure\",\"type\":\"Plot\"},7,1]]},\"id\":\"47100\",\"type\":\"GridBox\"},{\"attributes\":{},\"id\":\"46574\",\"type\":\"Selection\"},{\"attributes\":{},\"id\":\"46501\",\"type\":\"UnionRenderers\"},{\"attributes\":{},\"id\":\"46907\",\"type\":\"CategoricalScale\"},{\"attributes\":{},\"id\":\"46952\",\"type\":\"BasicTicker\"},{\"attributes\":{},\"id\":\"46502\",\"type\":\"Selection\"},{\"attributes\":{},\"id\":\"46583\",\"type\":\"CategoricalScale\"},{\"attributes\":{\"callback\":null,\"tooltips\":[[\"Prob\",\"@top\"]]},\"id\":\"46488\",\"type\":\"HoverTool\"},{\"attributes\":{\"align\":\"center\",\"text\":\"Topic: 7\"},\"id\":\"46613\",\"type\":\"Title\"},{\"attributes\":{},\"id\":\"46520\",\"type\":\"BasicTicker\"},{\"attributes\":{},\"id\":\"46573\",\"type\":\"UnionRenderers\"},{\"attributes\":{},\"id\":\"46970\",\"type\":\"Selection\"},{\"attributes\":{\"axis_label\":\"Term-Prob\",\"formatter\":{\"id\":\"46536\",\"type\":\"BasicTickFormatter\"},\"ticker\":{\"id\":\"46520\",\"type\":\"BasicTicker\"}},\"id\":\"46519\",\"type\":\"LinearAxis\"},{\"attributes\":{\"align\":\"center\",\"text\":\"Topic: 5\"},\"id\":\"46541\",\"type\":\"Title\"},{\"attributes\":{\"callback\":null},\"id\":\"46761\",\"type\":\"DataRange1d\"},{\"attributes\":{\"data_source\":{\"id\":\"46935\",\"type\":\"ColumnDataSource\"},\"glyph\":{\"id\":\"46960\",\"type\":\"VBar\"},\"hover_glyph\":null,\"muted_glyph\":null,\"nonselection_glyph\":{\"id\":\"46961\",\"type\":\"VBar\"},\"selection_glyph\":null,\"view\":{\"id\":\"46963\",\"type\":\"CDSView\"}},\"id\":\"46962\",\"type\":\"GlyphRenderer\"},{\"attributes\":{\"axis_label\":\"Term-Prob\",\"formatter\":{\"id\":\"46608\",\"type\":\"BasicTickFormatter\"},\"ticker\":{\"id\":\"46592\",\"type\":\"BasicTicker\"}},\"id\":\"46591\",\"type\":\"LinearAxis\"},{\"attributes\":{\"data_source\":{\"id\":\"46467\",\"type\":\"ColumnDataSource\"},\"glyph\":{\"id\":\"46492\",\"type\":\"VBar\"},\"hover_glyph\":null,\"muted_glyph\":null,\"nonselection_glyph\":{\"id\":\"46493\",\"type\":\"VBar\"},\"selection_glyph\":null,\"view\":{\"id\":\"46495\",\"type\":\"CDSView\"}},\"id\":\"46494\",\"type\":\"GlyphRenderer\"},{\"attributes\":{\"align\":\"center\",\"text\":\"Topic: 4\"},\"id\":\"46505\",\"type\":\"Title\"},{\"attributes\":{\"ticker\":{\"id\":\"46588\",\"type\":\"CategoricalTicker\"}},\"id\":\"46590\",\"type\":\"Grid\"},{\"attributes\":{\"dimension\":1,\"ticker\":{\"id\":\"46880\",\"type\":\"BasicTicker\"}},\"id\":\"46883\",\"type\":\"Grid\"},{\"attributes\":{},\"id\":\"46572\",\"type\":\"BasicTickFormatter\"},{\"attributes\":{\"active_drag\":\"auto\",\"active_inspect\":\"auto\",\"active_multi\":null,\"active_scroll\":\"auto\",\"active_tap\":\"auto\",\"tools\":[{\"id\":\"46884\",\"type\":\"HoverTool\"}]},\"id\":\"46885\",\"type\":\"Toolbar\"},{\"attributes\":{},\"id\":\"46500\",\"type\":\"BasicTickFormatter\"},{\"attributes\":{},\"id\":\"46966\",\"type\":\"CategoricalTickFormatter\"},{\"attributes\":{},\"id\":\"46538\",\"type\":\"Selection\"},{\"attributes\":{},\"id\":\"46799\",\"type\":\"CategoricalScale\"},{\"attributes\":{\"callback\":null,\"data\":{\"top\":{\"__ndarray__\":\"MzMzMzMzwz/sUbgehevBP+xRuB6F67E/uB6F61G4nj+4HoXrUbieP7gehetRuJ4/exSuR+F6lD97FK5H4XqUP3sUrkfhepQ/exSuR+F6lD8=\",\"dtype\":\"float64\",\"shape\":[10]},\"x\":[\"manag\",\"environ\",\"custom\",\"support\",\"servic\",\"staff\",\"posit\",\"option\",\"challeng\",\"relax\"]},\"selected\":{\"id\":\"46646\",\"type\":\"Selection\"},\"selection_policy\":{\"id\":\"46645\",\"type\":\"UnionRenderers\"}},\"id\":\"46611\",\"type\":\"ColumnDataSource\"},{\"attributes\":{\"data_source\":{\"id\":\"46503\",\"type\":\"ColumnDataSource\"},\"glyph\":{\"id\":\"46528\",\"type\":\"VBar\"},\"hover_glyph\":null,\"muted_glyph\":null,\"nonselection_glyph\":{\"id\":\"46529\",\"type\":\"VBar\"},\"selection_glyph\":null,\"view\":{\"id\":\"46531\",\"type\":\"CDSView\"}},\"id\":\"46530\",\"type\":\"GlyphRenderer\"},{\"attributes\":{\"fill_alpha\":{\"value\":0.1},\"fill_color\":{\"value\":\"#1f77b4\"},\"line_alpha\":{\"value\":0.1},\"line_color\":{\"value\":\"#1f77b4\"},\"top\":{\"field\":\"top\"},\"width\":{\"value\":0.8},\"x\":{\"field\":\"x\"}},\"id\":\"46889\",\"type\":\"VBar\"},{\"attributes\":{\"below\":[{\"id\":\"46587\",\"type\":\"CategoricalAxis\"}],\"center\":[{\"id\":\"46590\",\"type\":\"Grid\"},{\"id\":\"46595\",\"type\":\"Grid\"}],\"left\":[{\"id\":\"46591\",\"type\":\"LinearAxis\"}],\"plot_height\":250,\"plot_width\":400,\"renderers\":[{\"id\":\"46602\",\"type\":\"GlyphRenderer\"}],\"title\":{\"id\":\"46577\",\"type\":\"Title\"},\"toolbar\":{\"id\":\"46597\",\"type\":\"Toolbar\"},\"toolbar_location\":null,\"x_range\":{\"id\":\"46579\",\"type\":\"FactorRange\"},\"x_scale\":{\"id\":\"46583\",\"type\":\"CategoricalScale\"},\"y_range\":{\"id\":\"46581\",\"type\":\"DataRange1d\"},\"y_scale\":{\"id\":\"46585\",\"type\":\"LinearScale\"}},\"id\":\"46576\",\"subtype\":\"Figure\",\"type\":\"Plot\"},{\"attributes\":{\"fill_color\":{\"value\":\"#1f77b4\"},\"line_color\":{\"value\":\"#1f77b4\"},\"top\":{\"field\":\"top\"},\"width\":{\"value\":0.8},\"x\":{\"field\":\"x\"}},\"id\":\"46564\",\"type\":\"VBar\"},{\"attributes\":{\"below\":[{\"id\":\"46803\",\"type\":\"CategoricalAxis\"}],\"center\":[{\"id\":\"46806\",\"type\":\"Grid\"},{\"id\":\"46811\",\"type\":\"Grid\"}],\"left\":[{\"id\":\"46807\",\"type\":\"LinearAxis\"}],\"plot_height\":250,\"plot_width\":400,\"renderers\":[{\"id\":\"46818\",\"type\":\"GlyphRenderer\"}],\"title\":{\"id\":\"46793\",\"type\":\"Title\"},\"toolbar\":{\"id\":\"46813\",\"type\":\"Toolbar\"},\"toolbar_location\":null,\"x_range\":{\"id\":\"46795\",\"type\":\"FactorRange\"},\"x_scale\":{\"id\":\"46799\",\"type\":\"CategoricalScale\"},\"y_range\":{\"id\":\"46797\",\"type\":\"DataRange1d\"},\"y_scale\":{\"id\":\"46801\",\"type\":\"LinearScale\"}},\"id\":\"46792\",\"subtype\":\"Figure\",\"type\":\"Plot\"},{\"attributes\":{\"ticker\":{\"id\":\"46876\",\"type\":\"CategoricalTicker\"}},\"id\":\"46878\",\"type\":\"Grid\"},{\"attributes\":{\"below\":[{\"id\":\"46515\",\"type\":\"CategoricalAxis\"}],\"center\":[{\"id\":\"46518\",\"type\":\"Grid\"},{\"id\":\"46523\",\"type\":\"Grid\"}],\"left\":[{\"id\":\"46519\",\"type\":\"LinearAxis\"}],\"plot_height\":250,\"plot_width\":400,\"renderers\":[{\"id\":\"46530\",\"type\":\"GlyphRenderer\"}],\"title\":{\"id\":\"46505\",\"type\":\"Title\"},\"toolbar\":{\"id\":\"46525\",\"type\":\"Toolbar\"},\"toolbar_location\":null,\"x_range\":{\"id\":\"46507\",\"type\":\"FactorRange\"},\"x_scale\":{\"id\":\"46511\",\"type\":\"CategoricalScale\"},\"y_range\":{\"id\":\"46509\",\"type\":\"DataRange1d\"},\"y_scale\":{\"id\":\"46513\",\"type\":\"LinearScale\"}},\"id\":\"46504\",\"subtype\":\"Figure\",\"type\":\"Plot\"},{\"attributes\":{\"fill_alpha\":{\"value\":0.1},\"fill_color\":{\"value\":\"#1f77b4\"},\"line_alpha\":{\"value\":0.1},\"line_color\":{\"value\":\"#1f77b4\"},\"top\":{\"field\":\"top\"},\"width\":{\"value\":0.8},\"x\":{\"field\":\"x\"}},\"id\":\"46565\",\"type\":\"VBar\"},{\"attributes\":{\"fill_color\":{\"value\":\"#1f77b4\"},\"line_color\":{\"value\":\"#1f77b4\"},\"top\":{\"field\":\"top\"},\"width\":{\"value\":0.8},\"x\":{\"field\":\"x\"}},\"id\":\"46816\",\"type\":\"VBar\"},{\"attributes\":{\"source\":{\"id\":\"46863\",\"type\":\"ColumnDataSource\"}},\"id\":\"46891\",\"type\":\"CDSView\"},{\"attributes\":{\"source\":{\"id\":\"46503\",\"type\":\"ColumnDataSource\"}},\"id\":\"46531\",\"type\":\"CDSView\"},{\"attributes\":{},\"id\":\"46570\",\"type\":\"CategoricalTickFormatter\"},{\"attributes\":{},\"id\":\"46876\",\"type\":\"CategoricalTicker\"},{\"attributes\":{\"data_source\":{\"id\":\"46863\",\"type\":\"ColumnDataSource\"},\"glyph\":{\"id\":\"46888\",\"type\":\"VBar\"},\"hover_glyph\":null,\"muted_glyph\":null,\"nonselection_glyph\":{\"id\":\"46889\",\"type\":\"VBar\"},\"selection_glyph\":null,\"view\":{\"id\":\"46891\",\"type\":\"CDSView\"}},\"id\":\"46890\",\"type\":\"GlyphRenderer\"},{\"attributes\":{\"callback\":null,\"data\":{\"top\":{\"__ndarray__\":\"w/UoXI/CxT8pXI/C9Si8PwrXo3A9Crc/7FG4HoXrsT97FK5H4XqkP3sUrkfheqQ/uB6F61G4nj97FK5H4XqUP3sUrkfhepQ/exSuR+F6lD8=\",\"dtype\":\"float64\",\"shape\":[10]},\"x\":[\"hour\",\"break\",\"lunch\",\"friendli\",\"hour_lunch\",\"flexibl_hour\",\"experi\",\"lunch_break\",\"shift\",\"minut\"]},\"selected\":{\"id\":\"46610\",\"type\":\"Selection\"},\"selection_policy\":{\"id\":\"46609\",\"type\":\"UnionRenderers\"}},\"id\":\"46575\",\"type\":\"ColumnDataSource\"},{\"attributes\":{},\"id\":\"46789\",\"type\":\"UnionRenderers\"},{\"attributes\":{},\"id\":\"46498\",\"type\":\"CategoricalTickFormatter\"},{\"attributes\":{\"fill_alpha\":{\"value\":0.1},\"fill_color\":{\"value\":\"#1f77b4\"},\"line_alpha\":{\"value\":0.1},\"line_color\":{\"value\":\"#1f77b4\"},\"top\":{\"field\":\"top\"},\"width\":{\"value\":0.8},\"x\":{\"field\":\"x\"}},\"id\":\"46529\",\"type\":\"VBar\"},{\"attributes\":{},\"id\":\"46894\",\"type\":\"CategoricalTickFormatter\"},{\"attributes\":{},\"id\":\"46896\",\"type\":\"BasicTickFormatter\"},{\"attributes\":{\"callback\":null,\"data\":{\"top\":{\"__ndarray__\":\"4XoUrkfh4j97FK5H4Xq0P3sUrkfheqQ/uB6F61G4nj+4HoXrUbieP7gehetRuJ4/exSuR+F6lD97FK5H4XqUP3sUrkfheoQ/exSuR+F6hD8=\",\"dtype\":\"float64\",\"shape\":[10]},\"x\":[\"benefit\",\"pay_benefit\",\"salari\",\"easi\",\"health_benefit\",\"competit\",\"awesom\",\"educ\",\"union\",\"benefit_401k\"]},\"selected\":{\"id\":\"46502\",\"type\":\"Selection\"},\"selection_policy\":{\"id\":\"46501\",\"type\":\"UnionRenderers\"}},\"id\":\"46467\",\"type\":\"ColumnDataSource\"},{\"attributes\":{},\"id\":\"46880\",\"type\":\"BasicTicker\"},{\"attributes\":{\"callback\":null,\"factors\":[\"hour\",\"break\",\"lunch\",\"friendli\",\"hour_lunch\",\"flexibl_hour\",\"experi\",\"lunch_break\",\"shift\",\"minut\"]},\"id\":\"46579\",\"type\":\"FactorRange\"},{\"attributes\":{\"axis_label\":\"Term-Prob\",\"formatter\":{\"id\":\"46896\",\"type\":\"BasicTickFormatter\"},\"ticker\":{\"id\":\"46880\",\"type\":\"BasicTicker\"}},\"id\":\"46879\",\"type\":\"LinearAxis\"},{\"attributes\":{\"data_source\":{\"id\":\"46539\",\"type\":\"ColumnDataSource\"},\"glyph\":{\"id\":\"46564\",\"type\":\"VBar\"},\"hover_glyph\":null,\"muted_glyph\":null,\"nonselection_glyph\":{\"id\":\"46565\",\"type\":\"VBar\"},\"selection_glyph\":null,\"view\":{\"id\":\"46567\",\"type\":\"CDSView\"}},\"id\":\"46566\",\"type\":\"GlyphRenderer\"},{\"attributes\":{\"fill_alpha\":{\"value\":0.1},\"fill_color\":{\"value\":\"#1f77b4\"},\"line_alpha\":{\"value\":0.1},\"line_color\":{\"value\":\"#1f77b4\"},\"top\":{\"field\":\"top\"},\"width\":{\"value\":0.8},\"x\":{\"field\":\"x\"}},\"id\":\"46961\",\"type\":\"VBar\"},{\"attributes\":{},\"id\":\"46790\",\"type\":\"Selection\"},{\"attributes\":{\"below\":[{\"id\":\"46551\",\"type\":\"CategoricalAxis\"}],\"center\":[{\"id\":\"46554\",\"type\":\"Grid\"},{\"id\":\"46559\",\"type\":\"Grid\"}],\"left\":[{\"id\":\"46555\",\"type\":\"LinearAxis\"}],\"plot_height\":250,\"plot_width\":400,\"renderers\":[{\"id\":\"46566\",\"type\":\"GlyphRenderer\"}],\"title\":{\"id\":\"46541\",\"type\":\"Title\"},\"toolbar\":{\"id\":\"46561\",\"type\":\"Toolbar\"},\"toolbar_location\":null,\"x_range\":{\"id\":\"46543\",\"type\":\"FactorRange\"},\"x_scale\":{\"id\":\"46547\",\"type\":\"CategoricalScale\"},\"y_range\":{\"id\":\"46545\",\"type\":\"DataRange1d\"},\"y_scale\":{\"id\":\"46549\",\"type\":\"LinearScale\"}},\"id\":\"46540\",\"subtype\":\"Figure\",\"type\":\"Plot\"},{\"attributes\":{},\"id\":\"46592\",\"type\":\"BasicTicker\"}],\"root_ids\":[\"47103\"]},\"title\":\"Bokeh Application\",\"version\":\"1.3.4\"}};\n",
       "  var render_items = [{\"docid\":\"4653f61f-1427-4731-8ea6-4d9551a75189\",\"roots\":{\"47103\":\"f9839bba-7c10-4f67-9bac-4f76015c5ae3\"}}];\n",
       "  root.Bokeh.embed.embed_items_notebook(docs_json, render_items);\n",
       "\n",
       "  }\n",
       "  if (root.Bokeh !== undefined) {\n",
       "    embed_document(root);\n",
       "  } else {\n",
       "    var attempts = 0;\n",
       "    var timer = setInterval(function(root) {\n",
       "      if (root.Bokeh !== undefined) {\n",
       "        embed_document(root);\n",
       "        clearInterval(timer);\n",
       "      }\n",
       "      attempts++;\n",
       "      if (attempts > 100) {\n",
       "        console.log(\"Bokeh: ERROR: Unable to run BokehJS code because BokehJS library is missing\");\n",
       "        clearInterval(timer);\n",
       "      }\n",
       "    }, 10, root)\n",
       "  }\n",
       "})(window);"
      ],
      "application/vnd.bokehjs_exec.v0+json": ""
     },
     "metadata": {
      "application/vnd.bokehjs_exec.v0+json": {
       "id": "47103"
      }
     },
     "output_type": "display_data"
    },
    {
     "data": {
      "text/plain": [
       "<Figure size 432x288 with 0 Axes>"
      ]
     },
     "metadata": {},
     "output_type": "display_data"
    }
   ],
   "source": [
    "from bokeh.layouts import gridplot\n",
    "from bokeh.models.annotations import Title\n",
    "from bokeh.io import export_png\n",
    "\n",
    "fs = []\n",
    "for i in range(num_topics):\n",
    "    df_ = pd.DataFrame()\n",
    "    df_[\"x\"] = imp_words[i]\n",
    "    df_[\"top\"] = imp_word_prob[i]\n",
    "    \n",
    "    source = ColumnDataSource(dict(\n",
    "        x=df_['x'],\n",
    "        top=df_['top']\n",
    "    ))\n",
    "    \n",
    "    p = figure(x_range=df_[\"x\"], plot_height=250, plot_width=400, title=f\"Topic: {i+1}\",\n",
    "           toolbar_location=None, tools=\"hover\", x_axis_label=\"Terms\", y_axis_label=\"Term-Prob\")\n",
    "    p.vbar(x='x', top= 'top', width=0.8, source=source)\n",
    "    hover = p.select(dict(type=HoverTool))\n",
    "    hover.tooltips = { \"Prob\": \"@top\"}\n",
    "    p.xaxis.major_label_orientation = math.pi/2\n",
    "    p.title.align = \"center\"\n",
    "    fs.append(p)\n",
    "\n",
    "t = Title()\n",
    "t.text = 'Topic-Term Probability'\n",
    "plt.suptitle(\"Topic-Term Probability\")\n",
    "# plt.show()\n",
    "show(gridplot(fs, ncols=2))\n",
    "# output_file(\"test.html\")\n",
    "import os\n",
    "\n",
    "# root = os.path.expanduser(\"~\")\n",
    "# path = root + \"/Desktop/R_js/img/pros/bar.png\"\n",
    "# export_png(plt, filename=path)\n"
   ]
  },
  {
   "cell_type": "markdown",
   "metadata": {},
   "source": [
    "# Hierarchical Clustering"
   ]
  },
  {
   "cell_type": "code",
   "execution_count": 87,
   "metadata": {},
   "outputs": [],
   "source": [
    "# num_topics = 16\n",
    "df = pd.read_csv(f\"~/Desktop/R_js/data1/beta/pro{num_topics}_beta.csv\")"
   ]
  },
  {
   "cell_type": "code",
   "execution_count": 88,
   "metadata": {},
   "outputs": [
    {
     "data": {
      "text/html": [
       "<div>\n",
       "<style scoped>\n",
       "    .dataframe tbody tr th:only-of-type {\n",
       "        vertical-align: middle;\n",
       "    }\n",
       "\n",
       "    .dataframe tbody tr th {\n",
       "        vertical-align: top;\n",
       "    }\n",
       "\n",
       "    .dataframe thead th {\n",
       "        text-align: right;\n",
       "    }\n",
       "</style>\n",
       "<table border=\"1\" class=\"dataframe\">\n",
       "  <thead>\n",
       "    <tr style=\"text-align: right;\">\n",
       "      <th></th>\n",
       "      <th>topic</th>\n",
       "      <th>term</th>\n",
       "      <th>beta</th>\n",
       "    </tr>\n",
       "  </thead>\n",
       "  <tbody>\n",
       "    <tr>\n",
       "      <td>0</td>\n",
       "      <td>1</td>\n",
       "      <td>1_hour_break</td>\n",
       "      <td>4.443760e-301</td>\n",
       "    </tr>\n",
       "    <tr>\n",
       "      <td>1</td>\n",
       "      <td>2</td>\n",
       "      <td>1_hour_break</td>\n",
       "      <td>0.000000e+00</td>\n",
       "    </tr>\n",
       "    <tr>\n",
       "      <td>2</td>\n",
       "      <td>3</td>\n",
       "      <td>1_hour_break</td>\n",
       "      <td>1.693463e-285</td>\n",
       "    </tr>\n",
       "    <tr>\n",
       "      <td>3</td>\n",
       "      <td>4</td>\n",
       "      <td>1_hour_break</td>\n",
       "      <td>5.632717e-231</td>\n",
       "    </tr>\n",
       "    <tr>\n",
       "      <td>4</td>\n",
       "      <td>5</td>\n",
       "      <td>1_hour_break</td>\n",
       "      <td>0.000000e+00</td>\n",
       "    </tr>\n",
       "  </tbody>\n",
       "</table>\n",
       "</div>"
      ],
      "text/plain": [
       "   topic          term           beta\n",
       "0      1  1_hour_break  4.443760e-301\n",
       "1      2  1_hour_break   0.000000e+00\n",
       "2      3  1_hour_break  1.693463e-285\n",
       "3      4  1_hour_break  5.632717e-231\n",
       "4      5  1_hour_break   0.000000e+00"
      ]
     },
     "execution_count": 88,
     "metadata": {},
     "output_type": "execute_result"
    }
   ],
   "source": [
    "df.head()"
   ]
  },
  {
   "cell_type": "code",
   "execution_count": 89,
   "metadata": {},
   "outputs": [
    {
     "name": "stdout",
     "output_type": "stream",
     "text": [
      "16\n",
      "16\n"
     ]
    }
   ],
   "source": [
    "topic_word_distr = []\n",
    "imp_words = []\n",
    "terms = df[df.topic == 1].term.values.tolist()\n",
    "\n",
    "num_topics = len(df.topic.unique())\n",
    "\n",
    "for i in range(1, num_topics+1):\n",
    "    topic = df[df.topic == i] \n",
    "    vals = topic.beta.values.tolist()\n",
    "    topic_word_distr += [np.asarray(vals)]\n",
    "    words = [terms[i] for i in np.asarray(vals).argsort()[-10:][::-1].tolist()]\n",
    "    imp_words.append(words)\n",
    "    \n",
    "print(len(topic_word_distr))\n",
    "print(len(imp_words))\n"
   ]
  },
  {
   "cell_type": "code",
   "execution_count": 90,
   "metadata": {},
   "outputs": [
    {
     "name": "stdout",
     "output_type": "stream",
     "text": [
      "[[0.0, inf, inf, inf, inf, inf, inf, 0.8320041574735262, inf, 0.83241516788048, inf, inf, inf, inf, inf, 0.8317131581781076], [inf, 0.0, 0.8321510639271059, 0.830746994435888, inf, inf, inf, 0.8318968993283732, inf, inf, inf, inf, inf, inf, inf, 0.8317036099812292], [inf, 0.8321510639271059, 0.0, inf, 0.8324766704918531, inf, inf, 0.8324768012220044, inf, inf, inf, inf, inf, inf, inf, inf], [inf, 0.830746994435888, inf, 0.0, 0.8320672013953118, inf, inf, 0.8323237411236151, 0.8301030610348346, 0.8320602147982433, 0.8325149998412377, inf, inf, inf, 0.8324416674272346, inf], [inf, inf, 0.8324766704918531, 0.8320672013953118, 0.0, inf, inf, inf, 0.8318125706383528, inf, 0.8323137976550453, inf, inf, 0.8319785256189793, 0.8311171130100422, 0.8322892853933841], [inf, inf, inf, inf, inf, 0.0, inf, 0.8316465019834358, inf, 0.8317515151195622, 0.832336999490058, inf, inf, 0.8324342971843687, inf, inf], [inf, inf, inf, inf, inf, inf, 0.0, inf, inf, inf, inf, inf, inf, inf, inf, inf], [0.8320041574735262, 0.8318968993283732, 0.8324768012220044, 0.8323237411236151, inf, 0.8316465019834358, inf, 0.0, 0.8318168802836499, 0.832146442032297, 0.8323353801548613, 0.8048428127304854, 0.8289727379761771, 0.8321947222941357, 0.8323405196603263, 0.8321567996841556], [inf, inf, inf, 0.8301030610348346, 0.8318125706383528, inf, inf, 0.8318168802836499, 0.0, 0.831847684056393, 0.8324837468299101, inf, inf, inf, inf, inf], [0.83241516788048, inf, inf, 0.8320602147982433, inf, 0.8317515151195622, inf, 0.832146442032297, 0.831847684056393, 0.0, inf, inf, 0.8323979157338178, 0.8323788974478886, inf, inf], [inf, inf, inf, 0.8325149998412377, 0.8323137976550453, 0.832336999490058, inf, 0.8323353801548613, 0.8324837468299101, inf, 0.0, inf, 0.8316017485957985, 0.8324986299362174, 0.8324878522176025, 0.8319395866291809], [inf, inf, inf, inf, inf, inf, inf, 0.8048428127304854, inf, inf, inf, 0.0, inf, inf, inf, inf], [inf, inf, inf, inf, inf, inf, inf, 0.8289727379761771, inf, 0.8323979157338178, 0.8316017485957985, inf, 0.0, inf, inf, inf], [inf, inf, inf, inf, 0.8319785256189793, 0.8324342971843687, inf, 0.8321947222941357, inf, 0.8323788974478886, 0.8324986299362174, inf, inf, 0.0, inf, inf], [inf, inf, inf, 0.8324416674272346, 0.8311171130100422, inf, inf, 0.8323405196603263, inf, inf, 0.8324878522176025, inf, inf, inf, 0.0, inf], [0.8317131581781076, 0.8317036099812292, inf, inf, 0.8322892853933841, inf, inf, 0.8321567996841556, inf, inf, 0.8319395866291809, inf, inf, inf, inf, 0.0]]\n"
     ]
    }
   ],
   "source": [
    "from scipy.spatial import distance\n",
    "# import scipy\n",
    "\n",
    "dist = []\n",
    "for i in range(num_topics): \n",
    "    t1 = topic_word_distr[i]\n",
    "    d1 = []\n",
    "    for j in range(num_topics):\n",
    "        t2 = topic_word_distr[j]\n",
    "        d = distance.jensenshannon(t1, t2)\n",
    "        d1.append(d)\n",
    "    dist.append(d1)\n",
    "\n",
    "print(dist)"
   ]
  },
  {
   "cell_type": "code",
   "execution_count": 91,
   "metadata": {},
   "outputs": [
    {
     "name": "stdout",
     "output_type": "stream",
     "text": [
      "16\n"
     ]
    }
   ],
   "source": [
    "from sklearn.metrics.pairwise import cosine_similarity\n",
    "import math\n",
    "\n",
    "cos_sim = cosine_similarity(topic_word_distr, topic_word_distr)\n",
    "# cos_sim = [['{:f}'.format(item) for item in item_array] for item_array in cos_sim]\n",
    "# cos_sim = np.array(cos_sim)\n",
    "np.set_printoptions(suppress=True)\n",
    "cos_sim = np.round(cos_sim, 2)\n",
    "print((len(cos_sim[0])))"
   ]
  },
  {
   "cell_type": "code",
   "execution_count": 92,
   "metadata": {},
   "outputs": [],
   "source": [
    "# import scipy.cluster.hierarchy as shc\n",
    "# import matplotlib.pyplot as plt\n",
    "\n",
    "# plt.figure(figsize=(10, 7))\n",
    "# plt.title(\" Dendograms\")\n",
    "# dend = shc.dendrogram(shc.linkage(cos_sim, method='ward'))"
   ]
  },
  {
   "cell_type": "code",
   "execution_count": 98,
   "metadata": {},
   "outputs": [
    {
     "data": {
      "text/plain": [
       "True"
      ]
     },
     "execution_count": 98,
     "metadata": {},
     "output_type": "execute_result"
    }
   ],
   "source": [
    "import os\n",
    "\n",
    "home = os.path.expanduser(\"~\")\n",
    "os.path.exists(home + \"/Desktop\")"
   ]
  },
  {
   "cell_type": "code",
   "execution_count": 104,
   "metadata": {},
   "outputs": [
    {
     "data": {
      "image/png": "[encoded data removed]",
      "text/plain": [
       "<Figure size 720x504 with 1 Axes>"
      ]
     },
     "metadata": {
      "needs_background": "light"
     },
     "output_type": "display_data"
    }
   ],
   "source": [
    "from scipy.cluster.hierarchy import dendrogram, linkage\n",
    "from matplotlib import pyplot as plt\n",
    "# from scipy.cluster import hierarchy \n",
    "\n",
    "# hierarchy.set_link_color_palette(['C0'])\n",
    "\n",
    "linked = linkage(cos_sim, 'ward')\n",
    "\n",
    "labelList = range(1, num_topics+1)\n",
    "\n",
    "plt.figure(figsize=(10, 7))\n",
    "dendrogram(linked,\n",
    "            orientation='top',\n",
    "            labels=labelList,\n",
    "            show_leaf_counts=True)\n",
    "plt.xlabel(\"Num Topics\")\n",
    "plt.ylabel(\"Similarity\")\n",
    "plt.title(\"Hierarchical Clustering\")\n",
    "# plt.show()\n",
    "\n",
    "plt.savefig(home + \"/Desktop/R_js/img/pros/hier.png\")\n",
    "\n",
    "\n"
   ]
  },
  {
   "cell_type": "code",
   "execution_count": null,
   "metadata": {},
   "outputs": [],
   "source": []
  }
 ],
 "metadata": {
  "kernelspec": {
   "display_name": "Python 3",
   "language": "python",
   "name": "python3"
  },
  "language_info": {
   "codemirror_mode": {
    "name": "ipython",
    "version": 3
   },
   "file_extension": ".py",
   "mimetype": "text/x-python",
   "name": "python",
   "nbconvert_exporter": "python",
   "pygments_lexer": "ipython3",
   "version": "3.7.4"
  }
 },
 "nbformat": 4,
 "nbformat_minor": 2
}
