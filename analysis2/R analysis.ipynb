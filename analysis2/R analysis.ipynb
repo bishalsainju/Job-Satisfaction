{
 "cells": [
  {
   "cell_type": "code",
   "execution_count": 2,
   "metadata": {},
   "outputs": [],
   "source": [
    "import pandas as pd\n",
    "import seaborn as sns\n",
    "import numpy as np\n",
    "import matplotlib.pyplot as plt\n",
    "\n",
    "num_topics = 6"
   ]
  },
  {
   "cell_type": "code",
   "execution_count": 3,
   "metadata": {},
   "outputs": [],
   "source": [
    "path=f\"~/Desktop/R_js/data1/gamma/procon{num_topics}_gamma.csv\"\n",
    "df = pd.read_csv(path)\n"
   ]
  },
  {
   "cell_type": "code",
   "execution_count": 4,
   "metadata": {},
   "outputs": [
    {
     "data": {
      "text/html": [
       "<div>\n",
       "<style scoped>\n",
       "    .dataframe tbody tr th:only-of-type {\n",
       "        vertical-align: middle;\n",
       "    }\n",
       "\n",
       "    .dataframe tbody tr th {\n",
       "        vertical-align: top;\n",
       "    }\n",
       "\n",
       "    .dataframe thead th {\n",
       "        text-align: right;\n",
       "    }\n",
       "</style>\n",
       "<table border=\"1\" class=\"dataframe\">\n",
       "  <thead>\n",
       "    <tr style=\"text-align: right;\">\n",
       "      <th></th>\n",
       "      <th>document</th>\n",
       "      <th>topic</th>\n",
       "      <th>gamma</th>\n",
       "    </tr>\n",
       "  </thead>\n",
       "  <tbody>\n",
       "    <tr>\n",
       "      <th>0</th>\n",
       "      <td>1</td>\n",
       "      <td>1</td>\n",
       "      <td>0.671359</td>\n",
       "    </tr>\n",
       "    <tr>\n",
       "      <th>1</th>\n",
       "      <td>2</td>\n",
       "      <td>1</td>\n",
       "      <td>0.146597</td>\n",
       "    </tr>\n",
       "    <tr>\n",
       "      <th>2</th>\n",
       "      <td>3</td>\n",
       "      <td>1</td>\n",
       "      <td>0.341256</td>\n",
       "    </tr>\n",
       "    <tr>\n",
       "      <th>3</th>\n",
       "      <td>4</td>\n",
       "      <td>1</td>\n",
       "      <td>0.439215</td>\n",
       "    </tr>\n",
       "    <tr>\n",
       "      <th>4</th>\n",
       "      <td>5</td>\n",
       "      <td>1</td>\n",
       "      <td>0.205479</td>\n",
       "    </tr>\n",
       "  </tbody>\n",
       "</table>\n",
       "</div>"
      ],
      "text/plain": [
       "   document  topic     gamma\n",
       "0         1      1  0.671359\n",
       "1         2      1  0.146597\n",
       "2         3      1  0.341256\n",
       "3         4      1  0.439215\n",
       "4         5      1  0.205479"
      ]
     },
     "execution_count": 4,
     "metadata": {},
     "output_type": "execute_result"
    }
   ],
   "source": [
    "df.head()"
   ]
  },
  {
   "cell_type": "markdown",
   "metadata": {},
   "source": [
    "# Gamma Distribution"
   ]
  },
  {
   "cell_type": "code",
   "execution_count": 5,
   "metadata": {},
   "outputs": [
    {
     "data": {
      "text/plain": [
       "<matplotlib.axes._subplots.AxesSubplot at 0x10d2e7250>"
      ]
     },
     "execution_count": 5,
     "metadata": {},
     "output_type": "execute_result"
    },
    {
     "data": {
      "image/png": "[encoded data removed]",
      "text/plain": [
       "<Figure size 432x288 with 1 Axes>"
      ]
     },
     "metadata": {
      "needs_background": "light"
     },
     "output_type": "display_data"
    }
   ],
   "source": [
    "sns.distplot(df[df.topic==1]['gamma'])"
   ]
  },
  {
   "cell_type": "code",
   "execution_count": 6,
   "metadata": {},
   "outputs": [
    {
     "data": {
      "text/plain": [
       "<matplotlib.axes._subplots.AxesSubplot at 0x123353490>"
      ]
     },
     "execution_count": 6,
     "metadata": {},
     "output_type": "execute_result"
    },
    {
     "data": {
      "image/png": "[encoded data removed]",
      "text/plain": [
       "<Figure size 432x288 with 1 Axes>"
      ]
     },
     "metadata": {
      "needs_background": "light"
     },
     "output_type": "display_data"
    }
   ],
   "source": [
    "doc = 100\n",
    "sns.barplot(df[df.document == doc]['topic'], df[df.document == doc]['gamma'])"
   ]
  },
  {
   "cell_type": "markdown",
   "metadata": {},
   "source": [
    "# Topic Proportions"
   ]
  },
  {
   "cell_type": "code",
   "execution_count": 7,
   "metadata": {},
   "outputs": [
    {
     "data": {
      "text/html": [
       "<div>\n",
       "<style scoped>\n",
       "    .dataframe tbody tr th:only-of-type {\n",
       "        vertical-align: middle;\n",
       "    }\n",
       "\n",
       "    .dataframe tbody tr th {\n",
       "        vertical-align: top;\n",
       "    }\n",
       "\n",
       "    .dataframe thead th {\n",
       "        text-align: right;\n",
       "    }\n",
       "</style>\n",
       "<table border=\"1\" class=\"dataframe\">\n",
       "  <thead>\n",
       "    <tr style=\"text-align: right;\">\n",
       "      <th></th>\n",
       "      <th>topic_num</th>\n",
       "      <th>topic_prop</th>\n",
       "    </tr>\n",
       "  </thead>\n",
       "  <tbody>\n",
       "    <tr>\n",
       "      <th>0</th>\n",
       "      <td>1</td>\n",
       "      <td>0.231552</td>\n",
       "    </tr>\n",
       "    <tr>\n",
       "      <th>1</th>\n",
       "      <td>2</td>\n",
       "      <td>0.116507</td>\n",
       "    </tr>\n",
       "    <tr>\n",
       "      <th>2</th>\n",
       "      <td>3</td>\n",
       "      <td>0.161184</td>\n",
       "    </tr>\n",
       "    <tr>\n",
       "      <th>3</th>\n",
       "      <td>4</td>\n",
       "      <td>0.218668</td>\n",
       "    </tr>\n",
       "    <tr>\n",
       "      <th>4</th>\n",
       "      <td>5</td>\n",
       "      <td>0.154531</td>\n",
       "    </tr>\n",
       "  </tbody>\n",
       "</table>\n",
       "</div>"
      ],
      "text/plain": [
       "  topic_num  topic_prop\n",
       "0         1    0.231552\n",
       "1         2    0.116507\n",
       "2         3    0.161184\n",
       "3         4    0.218668\n",
       "4         5    0.154531"
      ]
     },
     "execution_count": 7,
     "metadata": {},
     "output_type": "execute_result"
    }
   ],
   "source": [
    "# df[df.topic == 6]['gamma'].mean()\n",
    "\n",
    "\n",
    "props = []\n",
    "for i in range(num_topics):\n",
    "    props.append([str(i+1), df[df.topic == i+1]['gamma'].mean()])\n",
    "\n",
    "df_prop = pd.DataFrame(props, columns = [\"topic_num\", \"topic_prop\"])\n",
    "df_prop.head()"
   ]
  },
  {
   "cell_type": "code",
   "execution_count": 11,
   "metadata": {},
   "outputs": [
    {
     "ename": "TypeError",
     "evalue": "barh() got multiple values for argument 'width'",
     "output_type": "error",
     "traceback": [
      "\u001b[0;31m---------------------------------------------------------------------------\u001b[0m",
      "\u001b[0;31mTypeError\u001b[0m                                 Traceback (most recent call last)",
      "\u001b[0;32m<ipython-input-11-93bab39b512c>\u001b[0m in \u001b[0;36m<module>\u001b[0;34m\u001b[0m\n\u001b[1;32m      1\u001b[0m \u001b[0mplt\u001b[0m\u001b[0;34m.\u001b[0m\u001b[0mfigure\u001b[0m\u001b[0;34m(\u001b[0m\u001b[0mfigsize\u001b[0m\u001b[0;34m=\u001b[0m\u001b[0;34m(\u001b[0m\u001b[0;36m8\u001b[0m\u001b[0;34m,\u001b[0m\u001b[0;36m6\u001b[0m\u001b[0;34m)\u001b[0m\u001b[0;34m)\u001b[0m\u001b[0;34m\u001b[0m\u001b[0;34m\u001b[0m\u001b[0m\n\u001b[1;32m      2\u001b[0m \u001b[0mdf_prop\u001b[0m \u001b[0;34m=\u001b[0m \u001b[0mdf_prop\u001b[0m\u001b[0;34m.\u001b[0m\u001b[0msort_values\u001b[0m\u001b[0;34m(\u001b[0m\u001b[0mby\u001b[0m\u001b[0;34m=\u001b[0m\u001b[0;34m\"topic_prop\"\u001b[0m\u001b[0;34m,\u001b[0m \u001b[0mascending\u001b[0m\u001b[0;34m=\u001b[0m\u001b[0;32mTrue\u001b[0m\u001b[0;34m)\u001b[0m\u001b[0;34m\u001b[0m\u001b[0;34m\u001b[0m\u001b[0m\n\u001b[0;32m----> 3\u001b[0;31m \u001b[0mplt\u001b[0m\u001b[0;34m.\u001b[0m\u001b[0mbarh\u001b[0m\u001b[0;34m(\u001b[0m\u001b[0mdf_prop\u001b[0m\u001b[0;34m[\u001b[0m\u001b[0;34m\"topic_num\"\u001b[0m\u001b[0;34m]\u001b[0m\u001b[0;34m,\u001b[0m \u001b[0mdf_prop\u001b[0m\u001b[0;34m[\u001b[0m\u001b[0;34m\"topic_prop\"\u001b[0m\u001b[0;34m]\u001b[0m\u001b[0;34m,\u001b[0m \u001b[0mwidth\u001b[0m\u001b[0;34m=\u001b[0m\u001b[0;36m2\u001b[0m\u001b[0;34m)\u001b[0m\u001b[0;34m\u001b[0m\u001b[0;34m\u001b[0m\u001b[0m\n\u001b[0m\u001b[1;32m      4\u001b[0m \u001b[0mplt\u001b[0m\u001b[0;34m.\u001b[0m\u001b[0mxlabel\u001b[0m\u001b[0;34m(\u001b[0m\u001b[0;34m'topic_prop'\u001b[0m\u001b[0;34m)\u001b[0m\u001b[0;34m\u001b[0m\u001b[0;34m\u001b[0m\u001b[0m\n\u001b[1;32m      5\u001b[0m \u001b[0mplt\u001b[0m\u001b[0;34m.\u001b[0m\u001b[0mylabel\u001b[0m\u001b[0;34m(\u001b[0m\u001b[0;34m'topic_num'\u001b[0m\u001b[0;34m)\u001b[0m\u001b[0;34m\u001b[0m\u001b[0;34m\u001b[0m\u001b[0m\n",
      "\u001b[0;31mTypeError\u001b[0m: barh() got multiple values for argument 'width'"
     ]
    },
    {
     "data": {
      "text/plain": [
       "<Figure size 576x432 with 0 Axes>"
      ]
     },
     "metadata": {},
     "output_type": "display_data"
    }
   ],
   "source": [
    "\n",
    "plt.figure(figsize=(8,6))\n",
    "df_prop = df_prop.sort_values(by=\"topic_prop\", ascending=True)\n",
    "plt.barh(df_prop[\"topic_num\"], df_prop[\"topic_prop\"], width=2)\n",
    "plt.xlabel('topic_prop')\n",
    "plt.ylabel('topic_num')\n",
    "plt.title('Topic Proportion')\n",
    "plt.show()"
   ]
  },
  {
   "cell_type": "markdown",
   "metadata": {},
   "source": [
    "# Topic Word Distribution"
   ]
  },
  {
   "cell_type": "code",
   "execution_count": 37,
   "metadata": {},
   "outputs": [
    {
     "data": {
      "text/html": [
       "<div>\n",
       "<style scoped>\n",
       "    .dataframe tbody tr th:only-of-type {\n",
       "        vertical-align: middle;\n",
       "    }\n",
       "\n",
       "    .dataframe tbody tr th {\n",
       "        vertical-align: top;\n",
       "    }\n",
       "\n",
       "    .dataframe thead th {\n",
       "        text-align: right;\n",
       "    }\n",
       "</style>\n",
       "<table border=\"1\" class=\"dataframe\">\n",
       "  <thead>\n",
       "    <tr style=\"text-align: right;\">\n",
       "      <th></th>\n",
       "      <th>topic</th>\n",
       "      <th>term</th>\n",
       "      <th>beta</th>\n",
       "    </tr>\n",
       "  </thead>\n",
       "  <tbody>\n",
       "    <tr>\n",
       "      <th>0</th>\n",
       "      <td>1</td>\n",
       "      <td>’_care</td>\n",
       "      <td>0.000000e+00</td>\n",
       "    </tr>\n",
       "    <tr>\n",
       "      <th>1</th>\n",
       "      <td>2</td>\n",
       "      <td>’_care</td>\n",
       "      <td>4.326025e-05</td>\n",
       "    </tr>\n",
       "    <tr>\n",
       "      <th>2</th>\n",
       "      <td>3</td>\n",
       "      <td>’_care</td>\n",
       "      <td>9.195548e-69</td>\n",
       "    </tr>\n",
       "    <tr>\n",
       "      <th>3</th>\n",
       "      <td>4</td>\n",
       "      <td>’_care</td>\n",
       "      <td>6.331952e-211</td>\n",
       "    </tr>\n",
       "    <tr>\n",
       "      <th>4</th>\n",
       "      <td>5</td>\n",
       "      <td>’_care</td>\n",
       "      <td>7.377248e-123</td>\n",
       "    </tr>\n",
       "  </tbody>\n",
       "</table>\n",
       "</div>"
      ],
      "text/plain": [
       "   topic    term           beta\n",
       "0      1  ’_care   0.000000e+00\n",
       "1      2  ’_care   4.326025e-05\n",
       "2      3  ’_care   9.195548e-69\n",
       "3      4  ’_care  6.331952e-211\n",
       "4      5  ’_care  7.377248e-123"
      ]
     },
     "execution_count": 37,
     "metadata": {},
     "output_type": "execute_result"
    }
   ],
   "source": [
    "path=f\"~/Desktop/R_js/data1/beta/procon{num_topics}_beta.csv\"\n",
    "df_beta = pd.read_csv(path)\n",
    "df_beta.head()"
   ]
  },
  {
   "cell_type": "code",
   "execution_count": 38,
   "metadata": {},
   "outputs": [],
   "source": [
    "df_prune = df_beta[df_beta.topic == 1].sort_values(by=\"beta\", ascending=False)[:10]"
   ]
  },
  {
   "cell_type": "code",
   "execution_count": 39,
   "metadata": {},
   "outputs": [
    {
     "data": {
      "image/png": "[encoded data removed]",
      "text/plain": [
       "<Figure size 432x288 with 1 Axes>"
      ]
     },
     "metadata": {
      "needs_background": "light"
     },
     "output_type": "display_data"
    }
   ],
   "source": [
    "sns.barplot(x = \"term\", y = \"beta\", data = df_prune)\n",
    "plt.show()"
   ]
  },
  {
   "cell_type": "code",
   "execution_count": 40,
   "metadata": {},
   "outputs": [],
   "source": [
    "df = df_beta.copy()\n",
    "\n",
    "topic_word_distr = []\n",
    "imp_words = []\n",
    "imp_word_prob = []\n",
    "terms = df[df.topic == 1].term.values.tolist()\n",
    "\n",
    "num_topics = len(df.topic.unique())\n",
    "for i in range(1, num_topics+1):\n",
    "    topic = df[df.topic == i] \n",
    "    vals = topic.beta.values.tolist()\n",
    "    topic_word_distr += [np.asarray(vals)]\n",
    "    words = [terms[i] for i in np.asarray(vals).argsort()[-10:][::-1].tolist()]\n",
    "    word_prob = [np.round(vals[i], 2) for i in np.asarray(vals).argsort()[-10:][::-1].tolist()]\n",
    "    imp_words.append(words)\n",
    "    imp_word_prob.append(word_prob)\n",
    "    \n",
    "# print(len(topic_word_distr))\n",
    "# print(len(imp_words))\n",
    "\n",
    "# print(imp_words)\n",
    "# print(imp_word_prob)"
   ]
  },
  {
   "cell_type": "code",
   "execution_count": 41,
   "metadata": {},
   "outputs": [
    {
     "data": {
      "image/png": "[encoded data removed]",
      "text/plain": [
       "<Figure size 432x288 with 1 Axes>"
      ]
     },
     "metadata": {
      "needs_background": "light"
     },
     "output_type": "display_data"
    }
   ],
   "source": [
    "import seaborn as sns\n",
    "import matplotlib.pyplot as plt\n",
    "\n",
    "sns.barplot(imp_words[0], imp_word_prob[0])\n",
    "plt.show()"
   ]
  },
  {
   "cell_type": "code",
   "execution_count": 42,
   "metadata": {},
   "outputs": [
    {
     "data": {
      "text/html": [
       "\n",
       "    <div class=\"bk-root\">\n",
       "        <a href=\"https://bokeh.org\" target=\"_blank\" class=\"bk-logo bk-logo-small bk-logo-notebook\"></a>\n",
       "        <span id=\"2573\">Loading BokehJS ...</span>\n",
       "    </div>"
      ]
     },
     "metadata": {},
     "output_type": "display_data"
    },
    {
     "data": {
      "application/javascript": [
       "\n",
       "(function(root) {\n",
       "  function now() {\n",
       "    return new Date();\n",
       "  }\n",
       "\n",
       "  var force = true;\n",
       "\n",
       "  if (typeof root._bokeh_onload_callbacks === \"undefined\" || force === true) {\n",
       "    root._bokeh_onload_callbacks = [];\n",
       "    root._bokeh_is_loading = undefined;\n",
       "  }\n",
       "\n",
       "  var JS_MIME_TYPE = 'application/javascript';\n",
       "  var HTML_MIME_TYPE = 'text/html';\n",
       "  var EXEC_MIME_TYPE = 'application/vnd.bokehjs_exec.v0+json';\n",
       "  var CLASS_NAME = 'output_bokeh rendered_html';\n",
       "\n",
       "  /**\n",
       "   * Render data to the DOM node\n",
       "   */\n",
       "  function render(props, node) {\n",
       "    var script = document.createElement(\"script\");\n",
       "    node.appendChild(script);\n",
       "  }\n",
       "\n",
       "  /**\n",
       "   * Handle when an output is cleared or removed\n",
       "   */\n",
       "  function handleClearOutput(event, handle) {\n",
       "    var cell = handle.cell;\n",
       "\n",
       "    var id = cell.output_area._bokeh_element_id;\n",
       "    var server_id = cell.output_area._bokeh_server_id;\n",
       "    // Clean up Bokeh references\n",
       "    if (id != null && id in Bokeh.index) {\n",
       "      Bokeh.index[id].model.document.clear();\n",
       "      delete Bokeh.index[id];\n",
       "    }\n",
       "\n",
       "    if (server_id !== undefined) {\n",
       "      // Clean up Bokeh references\n",
       "      var cmd = \"from bokeh.io.state import curstate; print(curstate().uuid_to_server['\" + server_id + \"'].get_sessions()[0].document.roots[0]._id)\";\n",
       "      cell.notebook.kernel.execute(cmd, {\n",
       "        iopub: {\n",
       "          output: function(msg) {\n",
       "            var id = msg.content.text.trim();\n",
       "            if (id in Bokeh.index) {\n",
       "              Bokeh.index[id].model.document.clear();\n",
       "              delete Bokeh.index[id];\n",
       "            }\n",
       "          }\n",
       "        }\n",
       "      });\n",
       "      // Destroy server and session\n",
       "      var cmd = \"import bokeh.io.notebook as ion; ion.destroy_server('\" + server_id + \"')\";\n",
       "      cell.notebook.kernel.execute(cmd);\n",
       "    }\n",
       "  }\n",
       "\n",
       "  /**\n",
       "   * Handle when a new output is added\n",
       "   */\n",
       "  function handleAddOutput(event, handle) {\n",
       "    var output_area = handle.output_area;\n",
       "    var output = handle.output;\n",
       "\n",
       "    // limit handleAddOutput to display_data with EXEC_MIME_TYPE content only\n",
       "    if ((output.output_type != \"display_data\") || (!output.data.hasOwnProperty(EXEC_MIME_TYPE))) {\n",
       "      return\n",
       "    }\n",
       "\n",
       "    var toinsert = output_area.element.find(\".\" + CLASS_NAME.split(' ')[0]);\n",
       "\n",
       "    if (output.metadata[EXEC_MIME_TYPE][\"id\"] !== undefined) {\n",
       "      toinsert[toinsert.length - 1].firstChild.textContent = output.data[JS_MIME_TYPE];\n",
       "      // store reference to embed id on output_area\n",
       "      output_area._bokeh_element_id = output.metadata[EXEC_MIME_TYPE][\"id\"];\n",
       "    }\n",
       "    if (output.metadata[EXEC_MIME_TYPE][\"server_id\"] !== undefined) {\n",
       "      var bk_div = document.createElement(\"div\");\n",
       "      bk_div.innerHTML = output.data[HTML_MIME_TYPE];\n",
       "      var script_attrs = bk_div.children[0].attributes;\n",
       "      for (var i = 0; i < script_attrs.length; i++) {\n",
       "        toinsert[toinsert.length - 1].firstChild.setAttribute(script_attrs[i].name, script_attrs[i].value);\n",
       "      }\n",
       "      // store reference to server id on output_area\n",
       "      output_area._bokeh_server_id = output.metadata[EXEC_MIME_TYPE][\"server_id\"];\n",
       "    }\n",
       "  }\n",
       "\n",
       "  function register_renderer(events, OutputArea) {\n",
       "\n",
       "    function append_mime(data, metadata, element) {\n",
       "      // create a DOM node to render to\n",
       "      var toinsert = this.create_output_subarea(\n",
       "        metadata,\n",
       "        CLASS_NAME,\n",
       "        EXEC_MIME_TYPE\n",
       "      );\n",
       "      this.keyboard_manager.register_events(toinsert);\n",
       "      // Render to node\n",
       "      var props = {data: data, metadata: metadata[EXEC_MIME_TYPE]};\n",
       "      render(props, toinsert[toinsert.length - 1]);\n",
       "      element.append(toinsert);\n",
       "      return toinsert\n",
       "    }\n",
       "\n",
       "    /* Handle when an output is cleared or removed */\n",
       "    events.on('clear_output.CodeCell', handleClearOutput);\n",
       "    events.on('delete.Cell', handleClearOutput);\n",
       "\n",
       "    /* Handle when a new output is added */\n",
       "    events.on('output_added.OutputArea', handleAddOutput);\n",
       "\n",
       "    /**\n",
       "     * Register the mime type and append_mime function with output_area\n",
       "     */\n",
       "    OutputArea.prototype.register_mime_type(EXEC_MIME_TYPE, append_mime, {\n",
       "      /* Is output safe? */\n",
       "      safe: true,\n",
       "      /* Index of renderer in `output_area.display_order` */\n",
       "      index: 0\n",
       "    });\n",
       "  }\n",
       "\n",
       "  // register the mime type if in Jupyter Notebook environment and previously unregistered\n",
       "  if (root.Jupyter !== undefined) {\n",
       "    var events = require('base/js/events');\n",
       "    var OutputArea = require('notebook/js/outputarea').OutputArea;\n",
       "\n",
       "    if (OutputArea.prototype.mime_types().indexOf(EXEC_MIME_TYPE) == -1) {\n",
       "      register_renderer(events, OutputArea);\n",
       "    }\n",
       "  }\n",
       "\n",
       "  \n",
       "  if (typeof (root._bokeh_timeout) === \"undefined\" || force === true) {\n",
       "    root._bokeh_timeout = Date.now() + 5000;\n",
       "    root._bokeh_failed_load = false;\n",
       "  }\n",
       "\n",
       "  var NB_LOAD_WARNING = {'data': {'text/html':\n",
       "     \"<div style='background-color: #fdd'>\\n\"+\n",
       "     \"<p>\\n\"+\n",
       "     \"BokehJS does not appear to have successfully loaded. If loading BokehJS from CDN, this \\n\"+\n",
       "     \"may be due to a slow or bad network connection. Possible fixes:\\n\"+\n",
       "     \"</p>\\n\"+\n",
       "     \"<ul>\\n\"+\n",
       "     \"<li>re-rerun `output_notebook()` to attempt to load from CDN again, or</li>\\n\"+\n",
       "     \"<li>use INLINE resources instead, as so:</li>\\n\"+\n",
       "     \"</ul>\\n\"+\n",
       "     \"<code>\\n\"+\n",
       "     \"from bokeh.resources import INLINE\\n\"+\n",
       "     \"output_notebook(resources=INLINE)\\n\"+\n",
       "     \"</code>\\n\"+\n",
       "     \"</div>\"}};\n",
       "\n",
       "  function display_loaded() {\n",
       "    var el = document.getElementById(\"2573\");\n",
       "    if (el != null) {\n",
       "      el.textContent = \"BokehJS is loading...\";\n",
       "    }\n",
       "    if (root.Bokeh !== undefined) {\n",
       "      if (el != null) {\n",
       "        el.textContent = \"BokehJS \" + root.Bokeh.version + \" successfully loaded.\";\n",
       "      }\n",
       "    } else if (Date.now() < root._bokeh_timeout) {\n",
       "      setTimeout(display_loaded, 100)\n",
       "    }\n",
       "  }\n",
       "\n",
       "\n",
       "  function run_callbacks() {\n",
       "    try {\n",
       "      root._bokeh_onload_callbacks.forEach(function(callback) {\n",
       "        if (callback != null)\n",
       "          callback();\n",
       "      });\n",
       "    } finally {\n",
       "      delete root._bokeh_onload_callbacks\n",
       "    }\n",
       "    console.debug(\"Bokeh: all callbacks have finished\");\n",
       "  }\n",
       "\n",
       "  function load_libs(css_urls, js_urls, callback) {\n",
       "    if (css_urls == null) css_urls = [];\n",
       "    if (js_urls == null) js_urls = [];\n",
       "\n",
       "    root._bokeh_onload_callbacks.push(callback);\n",
       "    if (root._bokeh_is_loading > 0) {\n",
       "      console.debug(\"Bokeh: BokehJS is being loaded, scheduling callback at\", now());\n",
       "      return null;\n",
       "    }\n",
       "    if (js_urls == null || js_urls.length === 0) {\n",
       "      run_callbacks();\n",
       "      return null;\n",
       "    }\n",
       "    console.debug(\"Bokeh: BokehJS not loaded, scheduling load and callback at\", now());\n",
       "    root._bokeh_is_loading = css_urls.length + js_urls.length;\n",
       "\n",
       "    function on_load() {\n",
       "      root._bokeh_is_loading--;\n",
       "      if (root._bokeh_is_loading === 0) {\n",
       "        console.debug(\"Bokeh: all BokehJS libraries/stylesheets loaded\");\n",
       "        run_callbacks()\n",
       "      }\n",
       "    }\n",
       "\n",
       "    function on_error() {\n",
       "      console.error(\"failed to load \" + url);\n",
       "    }\n",
       "\n",
       "    for (var i = 0; i < css_urls.length; i++) {\n",
       "      var url = css_urls[i];\n",
       "      const element = document.createElement(\"link\");\n",
       "      element.onload = on_load;\n",
       "      element.onerror = on_error;\n",
       "      element.rel = \"stylesheet\";\n",
       "      element.type = \"text/css\";\n",
       "      element.href = url;\n",
       "      console.debug(\"Bokeh: injecting link tag for BokehJS stylesheet: \", url);\n",
       "      document.body.appendChild(element);\n",
       "    }\n",
       "\n",
       "    for (var i = 0; i < js_urls.length; i++) {\n",
       "      var url = js_urls[i];\n",
       "      var element = document.createElement('script');\n",
       "      element.onload = on_load;\n",
       "      element.onerror = on_error;\n",
       "      element.async = false;\n",
       "      element.src = url;\n",
       "      console.debug(\"Bokeh: injecting script tag for BokehJS library: \", url);\n",
       "      document.head.appendChild(element);\n",
       "    }\n",
       "  };var element = document.getElementById(\"2573\");\n",
       "  if (element == null) {\n",
       "    console.error(\"Bokeh: ERROR: autoload.js configured with elementid '2573' but no matching script tag was found. \")\n",
       "    return false;\n",
       "  }\n",
       "\n",
       "  function inject_raw_css(css) {\n",
       "    const element = document.createElement(\"style\");\n",
       "    element.appendChild(document.createTextNode(css));\n",
       "    document.body.appendChild(element);\n",
       "  }\n",
       "\n",
       "  \n",
       "  var js_urls = [\"https://cdn.pydata.org/bokeh/release/bokeh-1.4.0.min.js\", \"https://cdn.pydata.org/bokeh/release/bokeh-widgets-1.4.0.min.js\", \"https://cdn.pydata.org/bokeh/release/bokeh-tables-1.4.0.min.js\", \"https://cdn.pydata.org/bokeh/release/bokeh-gl-1.4.0.min.js\"];\n",
       "  var css_urls = [];\n",
       "  \n",
       "\n",
       "  var inline_js = [\n",
       "    function(Bokeh) {\n",
       "      Bokeh.set_log_level(\"info\");\n",
       "    },\n",
       "    function(Bokeh) {\n",
       "    \n",
       "    \n",
       "    }\n",
       "  ];\n",
       "\n",
       "  function run_inline_js() {\n",
       "    \n",
       "    if (root.Bokeh !== undefined || force === true) {\n",
       "      \n",
       "    for (var i = 0; i < inline_js.length; i++) {\n",
       "      inline_js[i].call(root, root.Bokeh);\n",
       "    }\n",
       "    if (force === true) {\n",
       "        display_loaded();\n",
       "      }} else if (Date.now() < root._bokeh_timeout) {\n",
       "      setTimeout(run_inline_js, 100);\n",
       "    } else if (!root._bokeh_failed_load) {\n",
       "      console.log(\"Bokeh: BokehJS failed to load within specified timeout.\");\n",
       "      root._bokeh_failed_load = true;\n",
       "    } else if (force !== true) {\n",
       "      var cell = $(document.getElementById(\"2573\")).parents('.cell').data().cell;\n",
       "      cell.output_area.append_execute_result(NB_LOAD_WARNING)\n",
       "    }\n",
       "\n",
       "  }\n",
       "\n",
       "  if (root._bokeh_is_loading === 0) {\n",
       "    console.debug(\"Bokeh: BokehJS loaded, going straight to plotting\");\n",
       "    run_inline_js();\n",
       "  } else {\n",
       "    load_libs(css_urls, js_urls, function() {\n",
       "      console.debug(\"Bokeh: BokehJS plotting callback run at\", now());\n",
       "      run_inline_js();\n",
       "    });\n",
       "  }\n",
       "}(window));"
      ],
      "application/vnd.bokehjs_load.v0+json": "\n(function(root) {\n  function now() {\n    return new Date();\n  }\n\n  var force = true;\n\n  if (typeof root._bokeh_onload_callbacks === \"undefined\" || force === true) {\n    root._bokeh_onload_callbacks = [];\n    root._bokeh_is_loading = undefined;\n  }\n\n  \n\n  \n  if (typeof (root._bokeh_timeout) === \"undefined\" || force === true) {\n    root._bokeh_timeout = Date.now() + 5000;\n    root._bokeh_failed_load = false;\n  }\n\n  var NB_LOAD_WARNING = {'data': {'text/html':\n     \"<div style='background-color: #fdd'>\\n\"+\n     \"<p>\\n\"+\n     \"BokehJS does not appear to have successfully loaded. If loading BokehJS from CDN, this \\n\"+\n     \"may be due to a slow or bad network connection. Possible fixes:\\n\"+\n     \"</p>\\n\"+\n     \"<ul>\\n\"+\n     \"<li>re-rerun `output_notebook()` to attempt to load from CDN again, or</li>\\n\"+\n     \"<li>use INLINE resources instead, as so:</li>\\n\"+\n     \"</ul>\\n\"+\n     \"<code>\\n\"+\n     \"from bokeh.resources import INLINE\\n\"+\n     \"output_notebook(resources=INLINE)\\n\"+\n     \"</code>\\n\"+\n     \"</div>\"}};\n\n  function display_loaded() {\n    var el = document.getElementById(\"2573\");\n    if (el != null) {\n      el.textContent = \"BokehJS is loading...\";\n    }\n    if (root.Bokeh !== undefined) {\n      if (el != null) {\n        el.textContent = \"BokehJS \" + root.Bokeh.version + \" successfully loaded.\";\n      }\n    } else if (Date.now() < root._bokeh_timeout) {\n      setTimeout(display_loaded, 100)\n    }\n  }\n\n\n  function run_callbacks() {\n    try {\n      root._bokeh_onload_callbacks.forEach(function(callback) {\n        if (callback != null)\n          callback();\n      });\n    } finally {\n      delete root._bokeh_onload_callbacks\n    }\n    console.debug(\"Bokeh: all callbacks have finished\");\n  }\n\n  function load_libs(css_urls, js_urls, callback) {\n    if (css_urls == null) css_urls = [];\n    if (js_urls == null) js_urls = [];\n\n    root._bokeh_onload_callbacks.push(callback);\n    if (root._bokeh_is_loading > 0) {\n      console.debug(\"Bokeh: BokehJS is being loaded, scheduling callback at\", now());\n      return null;\n    }\n    if (js_urls == null || js_urls.length === 0) {\n      run_callbacks();\n      return null;\n    }\n    console.debug(\"Bokeh: BokehJS not loaded, scheduling load and callback at\", now());\n    root._bokeh_is_loading = css_urls.length + js_urls.length;\n\n    function on_load() {\n      root._bokeh_is_loading--;\n      if (root._bokeh_is_loading === 0) {\n        console.debug(\"Bokeh: all BokehJS libraries/stylesheets loaded\");\n        run_callbacks()\n      }\n    }\n\n    function on_error() {\n      console.error(\"failed to load \" + url);\n    }\n\n    for (var i = 0; i < css_urls.length; i++) {\n      var url = css_urls[i];\n      const element = document.createElement(\"link\");\n      element.onload = on_load;\n      element.onerror = on_error;\n      element.rel = \"stylesheet\";\n      element.type = \"text/css\";\n      element.href = url;\n      console.debug(\"Bokeh: injecting link tag for BokehJS stylesheet: \", url);\n      document.body.appendChild(element);\n    }\n\n    for (var i = 0; i < js_urls.length; i++) {\n      var url = js_urls[i];\n      var element = document.createElement('script');\n      element.onload = on_load;\n      element.onerror = on_error;\n      element.async = false;\n      element.src = url;\n      console.debug(\"Bokeh: injecting script tag for BokehJS library: \", url);\n      document.head.appendChild(element);\n    }\n  };var element = document.getElementById(\"2573\");\n  if (element == null) {\n    console.error(\"Bokeh: ERROR: autoload.js configured with elementid '2573' but no matching script tag was found. \")\n    return false;\n  }\n\n  function inject_raw_css(css) {\n    const element = document.createElement(\"style\");\n    element.appendChild(document.createTextNode(css));\n    document.body.appendChild(element);\n  }\n\n  \n  var js_urls = [\"https://cdn.pydata.org/bokeh/release/bokeh-1.4.0.min.js\", \"https://cdn.pydata.org/bokeh/release/bokeh-widgets-1.4.0.min.js\", \"https://cdn.pydata.org/bokeh/release/bokeh-tables-1.4.0.min.js\", \"https://cdn.pydata.org/bokeh/release/bokeh-gl-1.4.0.min.js\"];\n  var css_urls = [];\n  \n\n  var inline_js = [\n    function(Bokeh) {\n      Bokeh.set_log_level(\"info\");\n    },\n    function(Bokeh) {\n    \n    \n    }\n  ];\n\n  function run_inline_js() {\n    \n    if (root.Bokeh !== undefined || force === true) {\n      \n    for (var i = 0; i < inline_js.length; i++) {\n      inline_js[i].call(root, root.Bokeh);\n    }\n    if (force === true) {\n        display_loaded();\n      }} else if (Date.now() < root._bokeh_timeout) {\n      setTimeout(run_inline_js, 100);\n    } else if (!root._bokeh_failed_load) {\n      console.log(\"Bokeh: BokehJS failed to load within specified timeout.\");\n      root._bokeh_failed_load = true;\n    } else if (force !== true) {\n      var cell = $(document.getElementById(\"2573\")).parents('.cell').data().cell;\n      cell.output_area.append_execute_result(NB_LOAD_WARNING)\n    }\n\n  }\n\n  if (root._bokeh_is_loading === 0) {\n    console.debug(\"Bokeh: BokehJS loaded, going straight to plotting\");\n    run_inline_js();\n  } else {\n    load_libs(css_urls, js_urls, function() {\n      console.debug(\"Bokeh: BokehJS plotting callback run at\", now());\n      run_inline_js();\n    });\n  }\n}(window));"
     },
     "metadata": {},
     "output_type": "display_data"
    }
   ],
   "source": [
    "from bokeh.plotting import figure, show, output_notebook, save, output_file\n",
    "from bokeh.models import HoverTool, value, LabelSet, Legend, ColumnDataSource\n",
    "from bokeh.io import export_png\n",
    "output_notebook()"
   ]
  },
  {
   "cell_type": "code",
   "execution_count": 43,
   "metadata": {},
   "outputs": [
    {
     "data": {
      "text/html": [
       "\n",
       "\n",
       "\n",
       "\n",
       "\n",
       "\n",
       "  <div class=\"bk-root\" id=\"681b6f80-9ce7-4097-a81c-256636e869ac\" data-root-id=\"2575\"></div>\n"
      ]
     },
     "metadata": {},
     "output_type": "display_data"
    },
    {
     "data": {
      "application/javascript": [
       "(function(root) {\n",
       "  function embed_document(root) {\n",
       "    \n",
       "  var docs_json = {\"4ac92da0-f5b4-475a-9989-bb868a3aaf21\":{\"roots\":{\"references\":[{\"attributes\":{\"below\":[{\"id\":\"2586\",\"type\":\"CategoricalAxis\"}],\"center\":[{\"id\":\"2589\",\"type\":\"Grid\"},{\"id\":\"2594\",\"type\":\"Grid\"}],\"left\":[{\"id\":\"2590\",\"type\":\"LinearAxis\"}],\"plot_height\":250,\"plot_width\":400,\"renderers\":[{\"id\":\"2601\",\"type\":\"GlyphRenderer\"}],\"title\":{\"id\":\"2576\",\"type\":\"Title\"},\"toolbar\":{\"id\":\"2596\",\"type\":\"Toolbar\"},\"toolbar_location\":null,\"x_range\":{\"id\":\"2578\",\"type\":\"FactorRange\"},\"x_scale\":{\"id\":\"2582\",\"type\":\"CategoricalScale\"},\"y_range\":{\"id\":\"2580\",\"type\":\"DataRange1d\"},\"y_scale\":{\"id\":\"2584\",\"type\":\"LinearScale\"}},\"id\":\"2575\",\"subtype\":\"Figure\",\"type\":\"Plot\"},{\"attributes\":{\"source\":{\"id\":\"2574\",\"type\":\"ColumnDataSource\"}},\"id\":\"2602\",\"type\":\"CDSView\"},{\"attributes\":{},\"id\":\"2587\",\"type\":\"CategoricalTicker\"},{\"attributes\":{\"callback\":null},\"id\":\"2580\",\"type\":\"DataRange1d\"},{\"attributes\":{},\"id\":\"2582\",\"type\":\"CategoricalScale\"},{\"attributes\":{\"text\":\"Top Ten Words\"},\"id\":\"2576\",\"type\":\"Title\"},{\"attributes\":{},\"id\":\"2591\",\"type\":\"BasicTicker\"},{\"attributes\":{\"fill_alpha\":{\"value\":0.1},\"fill_color\":{\"value\":\"#1f77b4\"},\"line_alpha\":{\"value\":0.1},\"line_color\":{\"value\":\"#1f77b4\"},\"top\":{\"field\":\"top\"},\"width\":{\"value\":0.8},\"x\":{\"field\":\"x\"}},\"id\":\"2600\",\"type\":\"VBar\"},{\"attributes\":{\"ticker\":{\"id\":\"2587\",\"type\":\"CategoricalTicker\"}},\"id\":\"2589\",\"type\":\"Grid\"},{\"attributes\":{\"fill_color\":{\"value\":\"#1f77b4\"},\"line_color\":{\"value\":\"#1f77b4\"},\"top\":{\"field\":\"top\"},\"width\":{\"value\":0.8},\"x\":{\"field\":\"x\"}},\"id\":\"2599\",\"type\":\"VBar\"},{\"attributes\":{\"data_source\":{\"id\":\"2574\",\"type\":\"ColumnDataSource\"},\"glyph\":{\"id\":\"2599\",\"type\":\"VBar\"},\"hover_glyph\":null,\"muted_glyph\":null,\"nonselection_glyph\":{\"id\":\"2600\",\"type\":\"VBar\"},\"selection_glyph\":null,\"view\":{\"id\":\"2602\",\"type\":\"CDSView\"}},\"id\":\"2601\",\"type\":\"GlyphRenderer\"},{\"attributes\":{},\"id\":\"2605\",\"type\":\"CategoricalTickFormatter\"},{\"attributes\":{\"dimension\":1,\"ticker\":{\"id\":\"2591\",\"type\":\"BasicTicker\"}},\"id\":\"2594\",\"type\":\"Grid\"},{\"attributes\":{},\"id\":\"2608\",\"type\":\"Selection\"},{\"attributes\":{},\"id\":\"2584\",\"type\":\"LinearScale\"},{\"attributes\":{},\"id\":\"2607\",\"type\":\"BasicTickFormatter\"},{\"attributes\":{\"callback\":null,\"factors\":[\"free\",\"peopl\",\"flexibl\",\"lunch\",\"free_lunch\",\"environ\",\"opportun\",\"cowork\",\"learn\",\"lot\"]},\"id\":\"2578\",\"type\":\"FactorRange\"},{\"attributes\":{\"callback\":null,\"data\":{\"top\":{\"__ndarray__\":\"mpmZmZmZqT+4HoXrUbieP3sUrkfhepQ/exSuR+F6lD97FK5H4XqUP3sUrkfhepQ/exSuR+F6lD97FK5H4XqUP3sUrkfhepQ/exSuR+F6hD8=\",\"dtype\":\"float64\",\"shape\":[10]},\"x\":[\"free\",\"peopl\",\"flexibl\",\"lunch\",\"free_lunch\",\"environ\",\"opportun\",\"cowork\",\"learn\",\"lot\"]},\"selected\":{\"id\":\"2608\",\"type\":\"Selection\"},\"selection_policy\":{\"id\":\"2609\",\"type\":\"UnionRenderers\"}},\"id\":\"2574\",\"type\":\"ColumnDataSource\"},{\"attributes\":{\"formatter\":{\"id\":\"2607\",\"type\":\"BasicTickFormatter\"},\"ticker\":{\"id\":\"2591\",\"type\":\"BasicTicker\"}},\"id\":\"2590\",\"type\":\"LinearAxis\"},{\"attributes\":{\"formatter\":{\"id\":\"2605\",\"type\":\"CategoricalTickFormatter\"},\"major_label_orientation\":1.5707963267948966,\"ticker\":{\"id\":\"2587\",\"type\":\"CategoricalTicker\"}},\"id\":\"2586\",\"type\":\"CategoricalAxis\"},{\"attributes\":{\"callback\":null,\"tooltips\":[[\"Prob\",\"@top\"]]},\"id\":\"2595\",\"type\":\"HoverTool\"},{\"attributes\":{\"active_drag\":\"auto\",\"active_inspect\":\"auto\",\"active_multi\":null,\"active_scroll\":\"auto\",\"active_tap\":\"auto\",\"tools\":[{\"id\":\"2595\",\"type\":\"HoverTool\"}]},\"id\":\"2596\",\"type\":\"Toolbar\"},{\"attributes\":{},\"id\":\"2609\",\"type\":\"UnionRenderers\"}],\"root_ids\":[\"2575\"]},\"title\":\"Bokeh Application\",\"version\":\"1.4.0\"}};\n",
       "  var render_items = [{\"docid\":\"4ac92da0-f5b4-475a-9989-bb868a3aaf21\",\"roots\":{\"2575\":\"681b6f80-9ce7-4097-a81c-256636e869ac\"}}];\n",
       "  root.Bokeh.embed.embed_items_notebook(docs_json, render_items);\n",
       "\n",
       "  }\n",
       "  if (root.Bokeh !== undefined) {\n",
       "    embed_document(root);\n",
       "  } else {\n",
       "    var attempts = 0;\n",
       "    var timer = setInterval(function(root) {\n",
       "      if (root.Bokeh !== undefined) {\n",
       "        clearInterval(timer);\n",
       "        embed_document(root);\n",
       "      } else {\n",
       "        attempts++;\n",
       "        if (attempts > 100) {\n",
       "          clearInterval(timer);\n",
       "          console.log(\"Bokeh: ERROR: Unable to run BokehJS code because BokehJS library is missing\");\n",
       "        }\n",
       "      }\n",
       "    }, 10, root)\n",
       "  }\n",
       "})(window);"
      ],
      "application/vnd.bokehjs_exec.v0+json": ""
     },
     "metadata": {
      "application/vnd.bokehjs_exec.v0+json": {
       "id": "2575"
      }
     },
     "output_type": "display_data"
    }
   ],
   "source": [
    "import math\n",
    "df_ = pd.DataFrame()\n",
    "df_[\"x\"] = imp_words[0]\n",
    "df_[\"top\"] = imp_word_prob[0]\n",
    "\n",
    "source = ColumnDataSource(dict(\n",
    "    x=df_['x'],\n",
    "    top=df_['top']\n",
    "))\n",
    "\n",
    "# p = figure(plot_width=1000, plot_height=700,\n",
    "#                      title=title, tools=\"pan,wheel_zoom,box_zoom,reset,hover,previewsave\",\n",
    "#                      x_axis_type=None, y_axis_type=None, min_border=1)\n",
    "\n",
    "p = figure(x_range=imp_words[0], plot_height=250, plot_width=400, title=\"Top Ten Words\",\n",
    "           toolbar_location=None, tools=\"hover\")\n",
    "\n",
    "p.vbar(x='x', top= 'top', width=0.8, source=source)#'msize', )\n",
    "\n",
    "# hover tools\n",
    "hover = p.select(dict(type=HoverTool))\n",
    "hover.tooltips = { \"Prob\": \"@top\"}\n",
    "p.xaxis.major_label_orientation = math.pi/2\n",
    "# plot_lda.legend.location = \"top_left\"\n",
    "\n",
    "show(p)"
   ]
  },
  {
   "cell_type": "code",
   "execution_count": 44,
   "metadata": {
    "scrolled": false
   },
   "outputs": [
    {
     "data": {
      "text/html": [
       "\n",
       "\n",
       "\n",
       "\n",
       "\n",
       "\n",
       "  <div class=\"bk-root\" id=\"39613ac7-c588-478a-834e-6d2a48b42dc7\" data-root-id=\"3082\"></div>\n"
      ]
     },
     "metadata": {},
     "output_type": "display_data"
    },
    {
     "data": {
      "application/javascript": [
       "(function(root) {\n",
       "  function embed_document(root) {\n",
       "    \n",
       "  var docs_json = {\"4e754c87-ba2d-4a0e-986a-da673d588eab\":{\"roots\":{\"references\":[{\"attributes\":{\"children\":[{\"id\":\"3081\",\"type\":\"ToolbarBox\"},{\"id\":\"3079\",\"type\":\"GridBox\"}]},\"id\":\"3082\",\"type\":\"Column\"},{\"attributes\":{},\"id\":\"2956\",\"type\":\"Selection\"},{\"attributes\":{\"align\":\"center\",\"text\":\"Topic: 6\"},\"id\":\"2996\",\"type\":\"Title\"},{\"attributes\":{},\"id\":\"2955\",\"type\":\"BasicTickFormatter\"},{\"attributes\":{\"callback\":null,\"factors\":[\"hour\",\"pay\",\"manag\",\"schedul\",\"advanc\",\"environ\",\"cultur\",\"sometim\",\"fast\",\"pace\"]},\"id\":\"2998\",\"type\":\"FactorRange\"},{\"attributes\":{},\"id\":\"2957\",\"type\":\"UnionRenderers\"},{\"attributes\":{},\"id\":\"3002\",\"type\":\"CategoricalScale\"},{\"attributes\":{\"below\":[{\"id\":\"2970\",\"type\":\"CategoricalAxis\"}],\"center\":[{\"id\":\"2973\",\"type\":\"Grid\"},{\"id\":\"2978\",\"type\":\"Grid\"}],\"left\":[{\"id\":\"2974\",\"type\":\"LinearAxis\"}],\"plot_height\":250,\"plot_width\":400,\"renderers\":[{\"id\":\"2985\",\"type\":\"GlyphRenderer\"}],\"title\":{\"id\":\"2960\",\"type\":\"Title\"},\"toolbar\":{\"id\":\"2980\",\"type\":\"Toolbar\"},\"toolbar_location\":null,\"x_range\":{\"id\":\"2962\",\"type\":\"FactorRange\"},\"x_scale\":{\"id\":\"2966\",\"type\":\"CategoricalScale\"},\"y_range\":{\"id\":\"2964\",\"type\":\"DataRange1d\"},\"y_scale\":{\"id\":\"2968\",\"type\":\"LinearScale\"}},\"id\":\"2959\",\"subtype\":\"Figure\",\"type\":\"Plot\"},{\"attributes\":{\"callback\":null},\"id\":\"3000\",\"type\":\"DataRange1d\"},{\"attributes\":{\"fill_alpha\":{\"value\":0.1},\"fill_color\":{\"value\":\"#1f77b4\"},\"line_alpha\":{\"value\":0.1},\"line_color\":{\"value\":\"#1f77b4\"},\"top\":{\"field\":\"top\"},\"width\":{\"value\":0.8},\"x\":{\"field\":\"x\"}},\"id\":\"2876\",\"type\":\"VBar\"},{\"attributes\":{\"align\":\"center\",\"text\":\"Topic: 5\"},\"id\":\"2960\",\"type\":\"Title\"},{\"attributes\":{},\"id\":\"3004\",\"type\":\"LinearScale\"},{\"attributes\":{\"axis_label\":\"Terms\",\"formatter\":{\"id\":\"3025\",\"type\":\"CategoricalTickFormatter\"},\"major_label_orientation\":1.5707963267948966,\"ticker\":{\"id\":\"3007\",\"type\":\"CategoricalTicker\"}},\"id\":\"3006\",\"type\":\"CategoricalAxis\"},{\"attributes\":{\"fill_color\":{\"value\":\"#1f77b4\"},\"line_color\":{\"value\":\"#1f77b4\"},\"top\":{\"field\":\"top\"},\"width\":{\"value\":0.8},\"x\":{\"field\":\"x\"}},\"id\":\"2983\",\"type\":\"VBar\"},{\"attributes\":{\"dimension\":1,\"ticker\":{\"id\":\"3011\",\"type\":\"BasicTicker\"}},\"id\":\"3014\",\"type\":\"Grid\"},{\"attributes\":{\"callback\":null,\"factors\":[\"manag\",\"poor\",\"low\",\"lack\",\"employe\",\"lot\",\"advanc\",\"low_pay\",\"opportun\",\"poor_manag\"]},\"id\":\"2962\",\"type\":\"FactorRange\"},{\"attributes\":{},\"id\":\"3007\",\"type\":\"CategoricalTicker\"},{\"attributes\":{\"ticker\":{\"id\":\"3007\",\"type\":\"CategoricalTicker\"}},\"id\":\"3009\",\"type\":\"Grid\"},{\"attributes\":{\"axis_label\":\"Terms\",\"formatter\":{\"id\":\"2989\",\"type\":\"CategoricalTickFormatter\"},\"major_label_orientation\":1.5707963267948966,\"ticker\":{\"id\":\"2971\",\"type\":\"CategoricalTicker\"}},\"id\":\"2970\",\"type\":\"CategoricalAxis\"},{\"attributes\":{\"dimension\":1,\"ticker\":{\"id\":\"2975\",\"type\":\"BasicTicker\"}},\"id\":\"2978\",\"type\":\"Grid\"},{\"attributes\":{},\"id\":\"2971\",\"type\":\"CategoricalTicker\"},{\"attributes\":{},\"id\":\"3011\",\"type\":\"BasicTicker\"},{\"attributes\":{\"axis_label\":\"Term-Prob\",\"formatter\":{\"id\":\"3027\",\"type\":\"BasicTickFormatter\"},\"ticker\":{\"id\":\"3011\",\"type\":\"BasicTicker\"}},\"id\":\"3010\",\"type\":\"LinearAxis\"},{\"attributes\":{\"callback\":null},\"id\":\"2964\",\"type\":\"DataRange1d\"},{\"attributes\":{\"active_drag\":\"auto\",\"active_inspect\":\"auto\",\"active_multi\":null,\"active_scroll\":\"auto\",\"active_tap\":\"auto\",\"tools\":[{\"id\":\"3015\",\"type\":\"HoverTool\"}]},\"id\":\"3016\",\"type\":\"Toolbar\"},{\"attributes\":{\"callback\":null,\"tooltips\":[[\"Prob\",\"@top\"]]},\"id\":\"3015\",\"type\":\"HoverTool\"},{\"attributes\":{\"ticker\":{\"id\":\"2971\",\"type\":\"CategoricalTicker\"}},\"id\":\"2973\",\"type\":\"Grid\"},{\"attributes\":{\"data_source\":{\"id\":\"2994\",\"type\":\"ColumnDataSource\"},\"glyph\":{\"id\":\"3019\",\"type\":\"VBar\"},\"hover_glyph\":null,\"muted_glyph\":null,\"nonselection_glyph\":{\"id\":\"3020\",\"type\":\"VBar\"},\"selection_glyph\":null,\"view\":{\"id\":\"3022\",\"type\":\"CDSView\"}},\"id\":\"3021\",\"type\":\"GlyphRenderer\"},{\"attributes\":{},\"id\":\"2975\",\"type\":\"BasicTicker\"},{\"attributes\":{\"axis_label\":\"Term-Prob\",\"formatter\":{\"id\":\"2991\",\"type\":\"BasicTickFormatter\"},\"ticker\":{\"id\":\"2975\",\"type\":\"BasicTicker\"}},\"id\":\"2974\",\"type\":\"LinearAxis\"},{\"attributes\":{\"fill_alpha\":{\"value\":0.1},\"fill_color\":{\"value\":\"#1f77b4\"},\"line_alpha\":{\"value\":0.1},\"line_color\":{\"value\":\"#1f77b4\"},\"top\":{\"field\":\"top\"},\"width\":{\"value\":0.8},\"x\":{\"field\":\"x\"}},\"id\":\"2984\",\"type\":\"VBar\"},{\"attributes\":{},\"id\":\"3025\",\"type\":\"CategoricalTickFormatter\"},{\"attributes\":{\"active_drag\":\"auto\",\"active_inspect\":\"auto\",\"active_multi\":null,\"active_scroll\":\"auto\",\"active_tap\":\"auto\",\"tools\":[{\"id\":\"2979\",\"type\":\"HoverTool\"}]},\"id\":\"2980\",\"type\":\"Toolbar\"},{\"attributes\":{\"callback\":null,\"tooltips\":[[\"Prob\",\"@top\"]]},\"id\":\"2979\",\"type\":\"HoverTool\"},{\"attributes\":{\"source\":{\"id\":\"2994\",\"type\":\"ColumnDataSource\"}},\"id\":\"3022\",\"type\":\"CDSView\"},{\"attributes\":{\"data_source\":{\"id\":\"2958\",\"type\":\"ColumnDataSource\"},\"glyph\":{\"id\":\"2983\",\"type\":\"VBar\"},\"hover_glyph\":null,\"muted_glyph\":null,\"nonselection_glyph\":{\"id\":\"2984\",\"type\":\"VBar\"},\"selection_glyph\":null,\"view\":{\"id\":\"2986\",\"type\":\"CDSView\"}},\"id\":\"2985\",\"type\":\"GlyphRenderer\"},{\"attributes\":{},\"id\":\"3028\",\"type\":\"Selection\"},{\"attributes\":{},\"id\":\"3027\",\"type\":\"BasicTickFormatter\"},{\"attributes\":{},\"id\":\"2989\",\"type\":\"CategoricalTickFormatter\"},{\"attributes\":{},\"id\":\"3029\",\"type\":\"UnionRenderers\"},{\"attributes\":{\"callback\":null,\"data\":{\"top\":{\"__ndarray__\":\"uB6F61G4rj+amZmZmZmpP5qZmZmZmak/exSuR+F6pD+4HoXrUbieP3sUrkfhepQ/exSuR+F6lD97FK5H4XqUP3sUrkfhepQ/exSuR+F6lD8=\",\"dtype\":\"float64\",\"shape\":[10]},\"x\":[\"break\",\"time\",\"short\",\"balanc\",\"short_break\",\"hard\",\"chang\",\"shift\",\"worklif\",\"worklif_balanc\"]},\"selected\":{\"id\":\"2920\",\"type\":\"Selection\"},\"selection_policy\":{\"id\":\"2921\",\"type\":\"UnionRenderers\"}},\"id\":\"2886\",\"type\":\"ColumnDataSource\"},{\"attributes\":{\"source\":{\"id\":\"2958\",\"type\":\"ColumnDataSource\"}},\"id\":\"2986\",\"type\":\"CDSView\"},{\"attributes\":{\"fill_alpha\":{\"value\":0.1},\"fill_color\":{\"value\":\"#1f77b4\"},\"line_alpha\":{\"value\":0.1},\"line_color\":{\"value\":\"#1f77b4\"},\"top\":{\"field\":\"top\"},\"width\":{\"value\":0.8},\"x\":{\"field\":\"x\"}},\"id\":\"3020\",\"type\":\"VBar\"},{\"attributes\":{},\"id\":\"2992\",\"type\":\"Selection\"},{\"attributes\":{\"below\":[{\"id\":\"2862\",\"type\":\"CategoricalAxis\"}],\"center\":[{\"id\":\"2865\",\"type\":\"Grid\"},{\"id\":\"2870\",\"type\":\"Grid\"}],\"left\":[{\"id\":\"2866\",\"type\":\"LinearAxis\"}],\"plot_height\":250,\"plot_width\":400,\"renderers\":[{\"id\":\"2877\",\"type\":\"GlyphRenderer\"}],\"title\":{\"id\":\"2852\",\"type\":\"Title\"},\"toolbar\":{\"id\":\"2872\",\"type\":\"Toolbar\"},\"toolbar_location\":null,\"x_range\":{\"id\":\"2854\",\"type\":\"FactorRange\"},\"x_scale\":{\"id\":\"2858\",\"type\":\"CategoricalScale\"},\"y_range\":{\"id\":\"2856\",\"type\":\"DataRange1d\"},\"y_scale\":{\"id\":\"2860\",\"type\":\"LinearScale\"}},\"id\":\"2851\",\"subtype\":\"Figure\",\"type\":\"Plot\"},{\"attributes\":{},\"id\":\"2991\",\"type\":\"BasicTickFormatter\"},{\"attributes\":{\"callback\":null,\"data\":{\"top\":{\"__ndarray__\":\"exSuR+F6pD+4HoXrUbieP7gehetRuJ4/uB6F61G4nj+4HoXrUbieP3sUrkfhepQ/exSuR+F6lD97FK5H4XqUP3sUrkfhepQ/exSuR+F6lD8=\",\"dtype\":\"float64\",\"shape\":[10]},\"x\":[\"life\",\"custom\",\"stress\",\"day\",\"life_balanc\",\"bad\",\"posit\",\"busi\",\"train\",\"commun\"]},\"selected\":{\"id\":\"2884\",\"type\":\"Selection\"},\"selection_policy\":{\"id\":\"2885\",\"type\":\"UnionRenderers\"}},\"id\":\"2850\",\"type\":\"ColumnDataSource\"},{\"attributes\":{},\"id\":\"2993\",\"type\":\"UnionRenderers\"},{\"attributes\":{\"below\":[{\"id\":\"3006\",\"type\":\"CategoricalAxis\"}],\"center\":[{\"id\":\"3009\",\"type\":\"Grid\"},{\"id\":\"3014\",\"type\":\"Grid\"}],\"left\":[{\"id\":\"3010\",\"type\":\"LinearAxis\"}],\"plot_height\":250,\"plot_width\":400,\"renderers\":[{\"id\":\"3021\",\"type\":\"GlyphRenderer\"}],\"title\":{\"id\":\"2996\",\"type\":\"Title\"},\"toolbar\":{\"id\":\"3016\",\"type\":\"Toolbar\"},\"toolbar_location\":null,\"x_range\":{\"id\":\"2998\",\"type\":\"FactorRange\"},\"x_scale\":{\"id\":\"3002\",\"type\":\"CategoricalScale\"},\"y_range\":{\"id\":\"3000\",\"type\":\"DataRange1d\"},\"y_scale\":{\"id\":\"3004\",\"type\":\"LinearScale\"}},\"id\":\"2995\",\"subtype\":\"Figure\",\"type\":\"Plot\"},{\"attributes\":{\"callback\":null,\"data\":{\"top\":{\"__ndarray__\":\"MzMzMzMzwz8K16NwPQq3P7gehetRuK4/exSuR+F6pD97FK5H4XqkP7gehetRuJ4/uB6F61G4nj+4HoXrUbieP3sUrkfhepQ/exSuR+F6lD8=\",\"dtype\":\"float64\",\"shape\":[10]},\"x\":[\"hour\",\"pay\",\"manag\",\"schedul\",\"advanc\",\"environ\",\"cultur\",\"sometim\",\"fast\",\"pace\"]},\"selected\":{\"id\":\"3028\",\"type\":\"Selection\"},\"selection_policy\":{\"id\":\"3029\",\"type\":\"UnionRenderers\"}},\"id\":\"2994\",\"type\":\"ColumnDataSource\"},{\"attributes\":{\"children\":[[{\"id\":\"2815\",\"subtype\":\"Figure\",\"type\":\"Plot\"},0,0],[{\"id\":\"2851\",\"subtype\":\"Figure\",\"type\":\"Plot\"},0,1],[{\"id\":\"2887\",\"subtype\":\"Figure\",\"type\":\"Plot\"},1,0],[{\"id\":\"2923\",\"subtype\":\"Figure\",\"type\":\"Plot\"},1,1],[{\"id\":\"2959\",\"subtype\":\"Figure\",\"type\":\"Plot\"},2,0],[{\"id\":\"2995\",\"subtype\":\"Figure\",\"type\":\"Plot\"},2,1]]},\"id\":\"3079\",\"type\":\"GridBox\"},{\"attributes\":{\"fill_color\":{\"value\":\"#1f77b4\"},\"line_color\":{\"value\":\"#1f77b4\"},\"top\":{\"field\":\"top\"},\"width\":{\"value\":0.8},\"x\":{\"field\":\"x\"}},\"id\":\"3019\",\"type\":\"VBar\"},{\"attributes\":{\"dimension\":1,\"ticker\":{\"id\":\"2867\",\"type\":\"BasicTicker\"}},\"id\":\"2870\",\"type\":\"Grid\"},{\"attributes\":{},\"id\":\"2917\",\"type\":\"CategoricalTickFormatter\"},{\"attributes\":{\"align\":\"center\",\"text\":\"Topic: 1\"},\"id\":\"2816\",\"type\":\"Title\"},{\"attributes\":{\"align\":\"center\",\"text\":\"Topic: 2\"},\"id\":\"2852\",\"type\":\"Title\"},{\"attributes\":{},\"id\":\"2867\",\"type\":\"BasicTicker\"},{\"attributes\":{\"axis_label\":\"Term-Prob\",\"formatter\":{\"id\":\"2883\",\"type\":\"BasicTickFormatter\"},\"ticker\":{\"id\":\"2867\",\"type\":\"BasicTicker\"}},\"id\":\"2866\",\"type\":\"LinearAxis\"},{\"attributes\":{\"data_source\":{\"id\":\"2886\",\"type\":\"ColumnDataSource\"},\"glyph\":{\"id\":\"2911\",\"type\":\"VBar\"},\"hover_glyph\":null,\"muted_glyph\":null,\"nonselection_glyph\":{\"id\":\"2912\",\"type\":\"VBar\"},\"selection_glyph\":null,\"view\":{\"id\":\"2914\",\"type\":\"CDSView\"}},\"id\":\"2913\",\"type\":\"GlyphRenderer\"},{\"attributes\":{\"fill_color\":{\"value\":\"#1f77b4\"},\"line_color\":{\"value\":\"#1f77b4\"},\"top\":{\"field\":\"top\"},\"width\":{\"value\":0.8},\"x\":{\"field\":\"x\"}},\"id\":\"2839\",\"type\":\"VBar\"},{\"attributes\":{\"source\":{\"id\":\"2886\",\"type\":\"ColumnDataSource\"}},\"id\":\"2914\",\"type\":\"CDSView\"},{\"attributes\":{\"callback\":null,\"factors\":[\"free\",\"peopl\",\"flexibl\",\"lunch\",\"free_lunch\",\"environ\",\"opportun\",\"cowork\",\"learn\",\"lot\"]},\"id\":\"2818\",\"type\":\"FactorRange\"},{\"attributes\":{\"active_drag\":\"auto\",\"active_inspect\":\"auto\",\"active_multi\":null,\"active_scroll\":\"auto\",\"active_tap\":\"auto\",\"tools\":[{\"id\":\"2871\",\"type\":\"HoverTool\"}]},\"id\":\"2872\",\"type\":\"Toolbar\"},{\"attributes\":{\"tools\":[{\"id\":\"2835\",\"type\":\"HoverTool\"},{\"id\":\"2871\",\"type\":\"HoverTool\"},{\"id\":\"2907\",\"type\":\"HoverTool\"},{\"id\":\"2943\",\"type\":\"HoverTool\"},{\"id\":\"2979\",\"type\":\"HoverTool\"},{\"id\":\"3015\",\"type\":\"HoverTool\"}]},\"id\":\"3080\",\"type\":\"ProxyToolbar\"},{\"attributes\":{\"callback\":null,\"tooltips\":[[\"Prob\",\"@top\"]]},\"id\":\"2871\",\"type\":\"HoverTool\"},{\"attributes\":{},\"id\":\"2920\",\"type\":\"Selection\"},{\"attributes\":{\"data_source\":{\"id\":\"2850\",\"type\":\"ColumnDataSource\"},\"glyph\":{\"id\":\"2875\",\"type\":\"VBar\"},\"hover_glyph\":null,\"muted_glyph\":null,\"nonselection_glyph\":{\"id\":\"2876\",\"type\":\"VBar\"},\"selection_glyph\":null,\"view\":{\"id\":\"2878\",\"type\":\"CDSView\"}},\"id\":\"2877\",\"type\":\"GlyphRenderer\"},{\"attributes\":{},\"id\":\"2919\",\"type\":\"BasicTickFormatter\"},{\"attributes\":{},\"id\":\"2822\",\"type\":\"CategoricalScale\"},{\"attributes\":{\"axis_label\":\"Terms\",\"formatter\":{\"id\":\"2881\",\"type\":\"CategoricalTickFormatter\"},\"major_label_orientation\":1.5707963267948966,\"ticker\":{\"id\":\"2863\",\"type\":\"CategoricalTicker\"}},\"id\":\"2862\",\"type\":\"CategoricalAxis\"},{\"attributes\":{\"toolbar\":{\"id\":\"3080\",\"type\":\"ProxyToolbar\"},\"toolbar_location\":\"above\"},\"id\":\"3081\",\"type\":\"ToolbarBox\"},{\"attributes\":{\"callback\":null},\"id\":\"2820\",\"type\":\"DataRange1d\"},{\"attributes\":{},\"id\":\"2921\",\"type\":\"UnionRenderers\"},{\"attributes\":{\"below\":[{\"id\":\"2934\",\"type\":\"CategoricalAxis\"}],\"center\":[{\"id\":\"2937\",\"type\":\"Grid\"},{\"id\":\"2942\",\"type\":\"Grid\"}],\"left\":[{\"id\":\"2938\",\"type\":\"LinearAxis\"}],\"plot_height\":250,\"plot_width\":400,\"renderers\":[{\"id\":\"2949\",\"type\":\"GlyphRenderer\"}],\"title\":{\"id\":\"2924\",\"type\":\"Title\"},\"toolbar\":{\"id\":\"2944\",\"type\":\"Toolbar\"},\"toolbar_location\":null,\"x_range\":{\"id\":\"2926\",\"type\":\"FactorRange\"},\"x_scale\":{\"id\":\"2930\",\"type\":\"CategoricalScale\"},\"y_range\":{\"id\":\"2928\",\"type\":\"DataRange1d\"},\"y_scale\":{\"id\":\"2932\",\"type\":\"LinearScale\"}},\"id\":\"2923\",\"subtype\":\"Figure\",\"type\":\"Plot\"},{\"attributes\":{},\"id\":\"2824\",\"type\":\"LinearScale\"},{\"attributes\":{},\"id\":\"2881\",\"type\":\"CategoricalTickFormatter\"},{\"attributes\":{\"axis_label\":\"Terms\",\"formatter\":{\"id\":\"2845\",\"type\":\"CategoricalTickFormatter\"},\"major_label_orientation\":1.5707963267948966,\"ticker\":{\"id\":\"2827\",\"type\":\"CategoricalTicker\"}},\"id\":\"2826\",\"type\":\"CategoricalAxis\"},{\"attributes\":{},\"id\":\"2863\",\"type\":\"CategoricalTicker\"},{\"attributes\":{\"fill_alpha\":{\"value\":0.1},\"fill_color\":{\"value\":\"#1f77b4\"},\"line_alpha\":{\"value\":0.1},\"line_color\":{\"value\":\"#1f77b4\"},\"top\":{\"field\":\"top\"},\"width\":{\"value\":0.8},\"x\":{\"field\":\"x\"}},\"id\":\"2912\",\"type\":\"VBar\"},{\"attributes\":{\"dimension\":1,\"ticker\":{\"id\":\"2831\",\"type\":\"BasicTicker\"}},\"id\":\"2834\",\"type\":\"Grid\"},{\"attributes\":{\"align\":\"center\",\"text\":\"Topic: 4\"},\"id\":\"2924\",\"type\":\"Title\"},{\"attributes\":{\"source\":{\"id\":\"2850\",\"type\":\"ColumnDataSource\"}},\"id\":\"2878\",\"type\":\"CDSView\"},{\"attributes\":{},\"id\":\"2827\",\"type\":\"CategoricalTicker\"},{\"attributes\":{\"below\":[{\"id\":\"2826\",\"type\":\"CategoricalAxis\"}],\"center\":[{\"id\":\"2829\",\"type\":\"Grid\"},{\"id\":\"2834\",\"type\":\"Grid\"}],\"left\":[{\"id\":\"2830\",\"type\":\"LinearAxis\"}],\"plot_height\":250,\"plot_width\":400,\"renderers\":[{\"id\":\"2841\",\"type\":\"GlyphRenderer\"}],\"title\":{\"id\":\"2816\",\"type\":\"Title\"},\"toolbar\":{\"id\":\"2836\",\"type\":\"Toolbar\"},\"toolbar_location\":null,\"x_range\":{\"id\":\"2818\",\"type\":\"FactorRange\"},\"x_scale\":{\"id\":\"2822\",\"type\":\"CategoricalScale\"},\"y_range\":{\"id\":\"2820\",\"type\":\"DataRange1d\"},\"y_scale\":{\"id\":\"2824\",\"type\":\"LinearScale\"}},\"id\":\"2815\",\"subtype\":\"Figure\",\"type\":\"Plot\"},{\"attributes\":{\"ticker\":{\"id\":\"2827\",\"type\":\"CategoricalTicker\"}},\"id\":\"2829\",\"type\":\"Grid\"},{\"attributes\":{\"fill_color\":{\"value\":\"#1f77b4\"},\"line_color\":{\"value\":\"#1f77b4\"},\"top\":{\"field\":\"top\"},\"width\":{\"value\":0.8},\"x\":{\"field\":\"x\"}},\"id\":\"2947\",\"type\":\"VBar\"},{\"attributes\":{},\"id\":\"2884\",\"type\":\"Selection\"},{\"attributes\":{},\"id\":\"2831\",\"type\":\"BasicTicker\"},{\"attributes\":{},\"id\":\"2883\",\"type\":\"BasicTickFormatter\"},{\"attributes\":{\"axis_label\":\"Term-Prob\",\"formatter\":{\"id\":\"2847\",\"type\":\"BasicTickFormatter\"},\"ticker\":{\"id\":\"2831\",\"type\":\"BasicTicker\"}},\"id\":\"2830\",\"type\":\"LinearAxis\"},{\"attributes\":{\"callback\":null,\"factors\":[\"benefit\",\"pay\",\"lunch\",\"time\",\"employe\",\"health\",\"discount\",\"paid\",\"break\",\"excel\"]},\"id\":\"2926\",\"type\":\"FactorRange\"},{\"attributes\":{\"fill_alpha\":{\"value\":0.1},\"fill_color\":{\"value\":\"#1f77b4\"},\"line_alpha\":{\"value\":0.1},\"line_color\":{\"value\":\"#1f77b4\"},\"top\":{\"field\":\"top\"},\"width\":{\"value\":0.8},\"x\":{\"field\":\"x\"}},\"id\":\"2840\",\"type\":\"VBar\"},{\"attributes\":{},\"id\":\"2885\",\"type\":\"UnionRenderers\"},{\"attributes\":{},\"id\":\"2849\",\"type\":\"UnionRenderers\"},{\"attributes\":{\"active_drag\":\"auto\",\"active_inspect\":\"auto\",\"active_multi\":null,\"active_scroll\":\"auto\",\"active_tap\":\"auto\",\"tools\":[{\"id\":\"2835\",\"type\":\"HoverTool\"}]},\"id\":\"2836\",\"type\":\"Toolbar\"},{\"attributes\":{\"below\":[{\"id\":\"2898\",\"type\":\"CategoricalAxis\"}],\"center\":[{\"id\":\"2901\",\"type\":\"Grid\"},{\"id\":\"2906\",\"type\":\"Grid\"}],\"left\":[{\"id\":\"2902\",\"type\":\"LinearAxis\"}],\"plot_height\":250,\"plot_width\":400,\"renderers\":[{\"id\":\"2913\",\"type\":\"GlyphRenderer\"}],\"title\":{\"id\":\"2888\",\"type\":\"Title\"},\"toolbar\":{\"id\":\"2908\",\"type\":\"Toolbar\"},\"toolbar_location\":null,\"x_range\":{\"id\":\"2890\",\"type\":\"FactorRange\"},\"x_scale\":{\"id\":\"2894\",\"type\":\"CategoricalScale\"},\"y_range\":{\"id\":\"2892\",\"type\":\"DataRange1d\"},\"y_scale\":{\"id\":\"2896\",\"type\":\"LinearScale\"}},\"id\":\"2887\",\"subtype\":\"Figure\",\"type\":\"Plot\"},{\"attributes\":{\"callback\":null,\"tooltips\":[[\"Prob\",\"@top\"]]},\"id\":\"2835\",\"type\":\"HoverTool\"},{\"attributes\":{},\"id\":\"2930\",\"type\":\"CategoricalScale\"},{\"attributes\":{\"data_source\":{\"id\":\"2814\",\"type\":\"ColumnDataSource\"},\"glyph\":{\"id\":\"2839\",\"type\":\"VBar\"},\"hover_glyph\":null,\"muted_glyph\":null,\"nonselection_glyph\":{\"id\":\"2840\",\"type\":\"VBar\"},\"selection_glyph\":null,\"view\":{\"id\":\"2842\",\"type\":\"CDSView\"}},\"id\":\"2841\",\"type\":\"GlyphRenderer\"},{\"attributes\":{\"align\":\"center\",\"text\":\"Topic: 3\"},\"id\":\"2888\",\"type\":\"Title\"},{\"attributes\":{\"callback\":null},\"id\":\"2928\",\"type\":\"DataRange1d\"},{\"attributes\":{},\"id\":\"2932\",\"type\":\"LinearScale\"},{\"attributes\":{\"axis_label\":\"Terms\",\"formatter\":{\"id\":\"2953\",\"type\":\"CategoricalTickFormatter\"},\"major_label_orientation\":1.5707963267948966,\"ticker\":{\"id\":\"2935\",\"type\":\"CategoricalTicker\"}},\"id\":\"2934\",\"type\":\"CategoricalAxis\"},{\"attributes\":{\"fill_color\":{\"value\":\"#1f77b4\"},\"line_color\":{\"value\":\"#1f77b4\"},\"top\":{\"field\":\"top\"},\"width\":{\"value\":0.8},\"x\":{\"field\":\"x\"}},\"id\":\"2911\",\"type\":\"VBar\"},{\"attributes\":{\"dimension\":1,\"ticker\":{\"id\":\"2939\",\"type\":\"BasicTicker\"}},\"id\":\"2942\",\"type\":\"Grid\"},{\"attributes\":{\"callback\":null,\"factors\":[\"break\",\"time\",\"short\",\"balanc\",\"short_break\",\"hard\",\"chang\",\"shift\",\"worklif\",\"worklif_balanc\"]},\"id\":\"2890\",\"type\":\"FactorRange\"},{\"attributes\":{},\"id\":\"2935\",\"type\":\"CategoricalTicker\"},{\"attributes\":{\"ticker\":{\"id\":\"2935\",\"type\":\"CategoricalTicker\"}},\"id\":\"2937\",\"type\":\"Grid\"},{\"attributes\":{\"source\":{\"id\":\"2814\",\"type\":\"ColumnDataSource\"}},\"id\":\"2842\",\"type\":\"CDSView\"},{\"attributes\":{\"callback\":null,\"data\":{\"top\":{\"__ndarray__\":\"KVyPwvUovD+amZmZmZmpP3sUrkfheqQ/uB6F61G4nj97FK5H4XqUP3sUrkfhepQ/exSuR+F6lD97FK5H4XqUP3sUrkfhepQ/exSuR+F6hD8=\",\"dtype\":\"float64\",\"shape\":[10]},\"x\":[\"benefit\",\"pay\",\"lunch\",\"time\",\"employe\",\"health\",\"discount\",\"paid\",\"break\",\"excel\"]},\"selected\":{\"id\":\"2956\",\"type\":\"Selection\"},\"selection_policy\":{\"id\":\"2957\",\"type\":\"UnionRenderers\"}},\"id\":\"2922\",\"type\":\"ColumnDataSource\"},{\"attributes\":{},\"id\":\"2939\",\"type\":\"BasicTicker\"},{\"attributes\":{\"axis_label\":\"Term-Prob\",\"formatter\":{\"id\":\"2955\",\"type\":\"BasicTickFormatter\"},\"ticker\":{\"id\":\"2939\",\"type\":\"BasicTicker\"}},\"id\":\"2938\",\"type\":\"LinearAxis\"},{\"attributes\":{},\"id\":\"2894\",\"type\":\"CategoricalScale\"},{\"attributes\":{},\"id\":\"2845\",\"type\":\"CategoricalTickFormatter\"},{\"attributes\":{\"callback\":null},\"id\":\"2892\",\"type\":\"DataRange1d\"},{\"attributes\":{\"fill_alpha\":{\"value\":0.1},\"fill_color\":{\"value\":\"#1f77b4\"},\"line_alpha\":{\"value\":0.1},\"line_color\":{\"value\":\"#1f77b4\"},\"top\":{\"field\":\"top\"},\"width\":{\"value\":0.8},\"x\":{\"field\":\"x\"}},\"id\":\"2948\",\"type\":\"VBar\"},{\"attributes\":{},\"id\":\"2966\",\"type\":\"CategoricalScale\"},{\"attributes\":{\"callback\":null,\"data\":{\"top\":{\"__ndarray__\":\"mpmZmZmZqT+4HoXrUbieP3sUrkfhepQ/exSuR+F6lD97FK5H4XqUP3sUrkfhepQ/exSuR+F6lD97FK5H4XqUP3sUrkfhepQ/exSuR+F6hD8=\",\"dtype\":\"float64\",\"shape\":[10]},\"x\":[\"free\",\"peopl\",\"flexibl\",\"lunch\",\"free_lunch\",\"environ\",\"opportun\",\"cowork\",\"learn\",\"lot\"]},\"selected\":{\"id\":\"2848\",\"type\":\"Selection\"},\"selection_policy\":{\"id\":\"2849\",\"type\":\"UnionRenderers\"}},\"id\":\"2814\",\"type\":\"ColumnDataSource\"},{\"attributes\":{},\"id\":\"2848\",\"type\":\"Selection\"},{\"attributes\":{},\"id\":\"2896\",\"type\":\"LinearScale\"},{\"attributes\":{\"active_drag\":\"auto\",\"active_inspect\":\"auto\",\"active_multi\":null,\"active_scroll\":\"auto\",\"active_tap\":\"auto\",\"tools\":[{\"id\":\"2943\",\"type\":\"HoverTool\"}]},\"id\":\"2944\",\"type\":\"Toolbar\"},{\"attributes\":{},\"id\":\"2847\",\"type\":\"BasicTickFormatter\"},{\"attributes\":{\"callback\":null,\"tooltips\":[[\"Prob\",\"@top\"]]},\"id\":\"2943\",\"type\":\"HoverTool\"},{\"attributes\":{\"axis_label\":\"Terms\",\"formatter\":{\"id\":\"2917\",\"type\":\"CategoricalTickFormatter\"},\"major_label_orientation\":1.5707963267948966,\"ticker\":{\"id\":\"2899\",\"type\":\"CategoricalTicker\"}},\"id\":\"2898\",\"type\":\"CategoricalAxis\"},{\"attributes\":{\"dimension\":1,\"ticker\":{\"id\":\"2903\",\"type\":\"BasicTicker\"}},\"id\":\"2906\",\"type\":\"Grid\"},{\"attributes\":{\"data_source\":{\"id\":\"2922\",\"type\":\"ColumnDataSource\"},\"glyph\":{\"id\":\"2947\",\"type\":\"VBar\"},\"hover_glyph\":null,\"muted_glyph\":null,\"nonselection_glyph\":{\"id\":\"2948\",\"type\":\"VBar\"},\"selection_glyph\":null,\"view\":{\"id\":\"2950\",\"type\":\"CDSView\"}},\"id\":\"2949\",\"type\":\"GlyphRenderer\"},{\"attributes\":{\"fill_color\":{\"value\":\"#1f77b4\"},\"line_color\":{\"value\":\"#1f77b4\"},\"top\":{\"field\":\"top\"},\"width\":{\"value\":0.8},\"x\":{\"field\":\"x\"}},\"id\":\"2875\",\"type\":\"VBar\"},{\"attributes\":{},\"id\":\"2899\",\"type\":\"CategoricalTicker\"},{\"attributes\":{\"callback\":null,\"factors\":[\"life\",\"custom\",\"stress\",\"day\",\"life_balanc\",\"bad\",\"posit\",\"busi\",\"train\",\"commun\"]},\"id\":\"2854\",\"type\":\"FactorRange\"},{\"attributes\":{\"ticker\":{\"id\":\"2899\",\"type\":\"CategoricalTicker\"}},\"id\":\"2901\",\"type\":\"Grid\"},{\"attributes\":{},\"id\":\"2858\",\"type\":\"CategoricalScale\"},{\"attributes\":{},\"id\":\"2903\",\"type\":\"BasicTicker\"},{\"attributes\":{\"callback\":null},\"id\":\"2856\",\"type\":\"DataRange1d\"},{\"attributes\":{\"axis_label\":\"Term-Prob\",\"formatter\":{\"id\":\"2919\",\"type\":\"BasicTickFormatter\"},\"ticker\":{\"id\":\"2903\",\"type\":\"BasicTicker\"}},\"id\":\"2902\",\"type\":\"LinearAxis\"},{\"attributes\":{},\"id\":\"2953\",\"type\":\"CategoricalTickFormatter\"},{\"attributes\":{\"callback\":null,\"data\":{\"top\":{\"__ndarray__\":\"KVyPwvUovD+4HoXrUbieP7gehetRuJ4/uB6F61G4nj97FK5H4XqUP3sUrkfhepQ/exSuR+F6lD97FK5H4XqUP3sUrkfhepQ/exSuR+F6hD8=\",\"dtype\":\"float64\",\"shape\":[10]},\"x\":[\"manag\",\"poor\",\"low\",\"lack\",\"employe\",\"lot\",\"advanc\",\"low_pay\",\"opportun\",\"poor_manag\"]},\"selected\":{\"id\":\"2992\",\"type\":\"Selection\"},\"selection_policy\":{\"id\":\"2993\",\"type\":\"UnionRenderers\"}},\"id\":\"2958\",\"type\":\"ColumnDataSource\"},{\"attributes\":{},\"id\":\"2860\",\"type\":\"LinearScale\"},{\"attributes\":{\"source\":{\"id\":\"2922\",\"type\":\"ColumnDataSource\"}},\"id\":\"2950\",\"type\":\"CDSView\"},{\"attributes\":{\"callback\":null,\"tooltips\":[[\"Prob\",\"@top\"]]},\"id\":\"2907\",\"type\":\"HoverTool\"},{\"attributes\":{\"ticker\":{\"id\":\"2863\",\"type\":\"CategoricalTicker\"}},\"id\":\"2865\",\"type\":\"Grid\"},{\"attributes\":{},\"id\":\"2968\",\"type\":\"LinearScale\"},{\"attributes\":{\"active_drag\":\"auto\",\"active_inspect\":\"auto\",\"active_multi\":null,\"active_scroll\":\"auto\",\"active_tap\":\"auto\",\"tools\":[{\"id\":\"2907\",\"type\":\"HoverTool\"}]},\"id\":\"2908\",\"type\":\"Toolbar\"}],\"root_ids\":[\"3082\"]},\"title\":\"Bokeh Application\",\"version\":\"1.4.0\"}};\n",
       "  var render_items = [{\"docid\":\"4e754c87-ba2d-4a0e-986a-da673d588eab\",\"roots\":{\"3082\":\"39613ac7-c588-478a-834e-6d2a48b42dc7\"}}];\n",
       "  root.Bokeh.embed.embed_items_notebook(docs_json, render_items);\n",
       "\n",
       "  }\n",
       "  if (root.Bokeh !== undefined) {\n",
       "    embed_document(root);\n",
       "  } else {\n",
       "    var attempts = 0;\n",
       "    var timer = setInterval(function(root) {\n",
       "      if (root.Bokeh !== undefined) {\n",
       "        clearInterval(timer);\n",
       "        embed_document(root);\n",
       "      } else {\n",
       "        attempts++;\n",
       "        if (attempts > 100) {\n",
       "          clearInterval(timer);\n",
       "          console.log(\"Bokeh: ERROR: Unable to run BokehJS code because BokehJS library is missing\");\n",
       "        }\n",
       "      }\n",
       "    }, 10, root)\n",
       "  }\n",
       "})(window);"
      ],
      "application/vnd.bokehjs_exec.v0+json": ""
     },
     "metadata": {
      "application/vnd.bokehjs_exec.v0+json": {
       "id": "3082"
      }
     },
     "output_type": "display_data"
    },
    {
     "data": {
      "text/plain": [
       "<Figure size 432x288 with 0 Axes>"
      ]
     },
     "metadata": {},
     "output_type": "display_data"
    }
   ],
   "source": [
    "from bokeh.layouts import gridplot\n",
    "from bokeh.models.annotations import Title\n",
    "from bokeh.io import export_png\n",
    "\n",
    "fs = []\n",
    "for i in range(num_topics):\n",
    "    df_ = pd.DataFrame()\n",
    "    df_[\"x\"] = imp_words[i]\n",
    "    df_[\"top\"] = imp_word_prob[i]\n",
    "    \n",
    "    source = ColumnDataSource(dict(\n",
    "        x=df_['x'],\n",
    "        top=df_['top']\n",
    "    ))\n",
    "    \n",
    "    p = figure(x_range=df_[\"x\"], plot_height=250, plot_width=400, title=f\"Topic: {i+1}\",\n",
    "           toolbar_location=None, tools=\"hover\", x_axis_label=\"Terms\", y_axis_label=\"Term-Prob\")\n",
    "    p.vbar(x='x', top= 'top', width=0.8, source=source)\n",
    "    hover = p.select(dict(type=HoverTool))\n",
    "    hover.tooltips = { \"Prob\": \"@top\"}\n",
    "    p.xaxis.major_label_orientation = math.pi/2\n",
    "    p.title.align = \"center\"\n",
    "    fs.append(p)\n",
    "\n",
    "t = Title()\n",
    "t.text = 'Topic-Term Probability'\n",
    "plt.suptitle(\"Topic-Term Probability\")\n",
    "# plt.show()\n",
    "# show(gridplot(fs, ncols=2))\n",
    "import os \n",
    "\n",
    "home = os.path.expanduser(\"~\")\n",
    "file_path = home + f\"/Desktop/R_js/img/combo/{num_topics}/\"\n",
    "if not os.path.exists(file_path):\n",
    "    os.makedirs(file_path)\n",
    "\n",
    "output_file(file_path + \"top-ten.html\")\n",
    "show(gridplot(fs, ncols=2))\n",
    "# import os\n",
    "\n",
    "# root = os.path.expanduser(\"~\")\n",
    "# path = root + \"/Desktop/R_js/img/pros/bar.png\"\n",
    "# export_png(plt, filename=path)\n"
   ]
  },
  {
   "cell_type": "markdown",
   "metadata": {},
   "source": [
    "# Hierarchical Clustering"
   ]
  },
  {
   "cell_type": "code",
   "execution_count": 87,
   "metadata": {},
   "outputs": [],
   "source": [
    "# num_topics = 16\n",
    "df = pd.read_csv(f\"~/Desktop/R_js/data1/beta/pro{num_topics}_beta.csv\")"
   ]
  },
  {
   "cell_type": "code",
   "execution_count": 88,
   "metadata": {},
   "outputs": [
    {
     "data": {
      "text/html": [
       "<div>\n",
       "<style scoped>\n",
       "    .dataframe tbody tr th:only-of-type {\n",
       "        vertical-align: middle;\n",
       "    }\n",
       "\n",
       "    .dataframe tbody tr th {\n",
       "        vertical-align: top;\n",
       "    }\n",
       "\n",
       "    .dataframe thead th {\n",
       "        text-align: right;\n",
       "    }\n",
       "</style>\n",
       "<table border=\"1\" class=\"dataframe\">\n",
       "  <thead>\n",
       "    <tr style=\"text-align: right;\">\n",
       "      <th></th>\n",
       "      <th>topic</th>\n",
       "      <th>term</th>\n",
       "      <th>beta</th>\n",
       "    </tr>\n",
       "  </thead>\n",
       "  <tbody>\n",
       "    <tr>\n",
       "      <td>0</td>\n",
       "      <td>1</td>\n",
       "      <td>1_hour_break</td>\n",
       "      <td>4.443760e-301</td>\n",
       "    </tr>\n",
       "    <tr>\n",
       "      <td>1</td>\n",
       "      <td>2</td>\n",
       "      <td>1_hour_break</td>\n",
       "      <td>0.000000e+00</td>\n",
       "    </tr>\n",
       "    <tr>\n",
       "      <td>2</td>\n",
       "      <td>3</td>\n",
       "      <td>1_hour_break</td>\n",
       "      <td>1.693463e-285</td>\n",
       "    </tr>\n",
       "    <tr>\n",
       "      <td>3</td>\n",
       "      <td>4</td>\n",
       "      <td>1_hour_break</td>\n",
       "      <td>5.632717e-231</td>\n",
       "    </tr>\n",
       "    <tr>\n",
       "      <td>4</td>\n",
       "      <td>5</td>\n",
       "      <td>1_hour_break</td>\n",
       "      <td>0.000000e+00</td>\n",
       "    </tr>\n",
       "  </tbody>\n",
       "</table>\n",
       "</div>"
      ],
      "text/plain": [
       "   topic          term           beta\n",
       "0      1  1_hour_break  4.443760e-301\n",
       "1      2  1_hour_break   0.000000e+00\n",
       "2      3  1_hour_break  1.693463e-285\n",
       "3      4  1_hour_break  5.632717e-231\n",
       "4      5  1_hour_break   0.000000e+00"
      ]
     },
     "execution_count": 88,
     "metadata": {},
     "output_type": "execute_result"
    }
   ],
   "source": [
    "df.head()"
   ]
  },
  {
   "cell_type": "code",
   "execution_count": 89,
   "metadata": {},
   "outputs": [
    {
     "name": "stdout",
     "output_type": "stream",
     "text": [
      "16\n",
      "16\n"
     ]
    }
   ],
   "source": [
    "topic_word_distr = []\n",
    "imp_words = []\n",
    "terms = df[df.topic == 1].term.values.tolist()\n",
    "\n",
    "num_topics = len(df.topic.unique())\n",
    "\n",
    "for i in range(1, num_topics+1):\n",
    "    topic = df[df.topic == i] \n",
    "    vals = topic.beta.values.tolist()\n",
    "    topic_word_distr += [np.asarray(vals)]\n",
    "    words = [terms[i] for i in np.asarray(vals).argsort()[-10:][::-1].tolist()]\n",
    "    imp_words.append(words)\n",
    "    \n",
    "print(len(topic_word_distr))\n",
    "print(len(imp_words))\n"
   ]
  },
  {
   "cell_type": "code",
   "execution_count": 90,
   "metadata": {},
   "outputs": [
    {
     "name": "stdout",
     "output_type": "stream",
     "text": [
      "[[0.0, inf, inf, inf, inf, inf, inf, 0.8320041574735262, inf, 0.83241516788048, inf, inf, inf, inf, inf, 0.8317131581781076], [inf, 0.0, 0.8321510639271059, 0.830746994435888, inf, inf, inf, 0.8318968993283732, inf, inf, inf, inf, inf, inf, inf, 0.8317036099812292], [inf, 0.8321510639271059, 0.0, inf, 0.8324766704918531, inf, inf, 0.8324768012220044, inf, inf, inf, inf, inf, inf, inf, inf], [inf, 0.830746994435888, inf, 0.0, 0.8320672013953118, inf, inf, 0.8323237411236151, 0.8301030610348346, 0.8320602147982433, 0.8325149998412377, inf, inf, inf, 0.8324416674272346, inf], [inf, inf, 0.8324766704918531, 0.8320672013953118, 0.0, inf, inf, inf, 0.8318125706383528, inf, 0.8323137976550453, inf, inf, 0.8319785256189793, 0.8311171130100422, 0.8322892853933841], [inf, inf, inf, inf, inf, 0.0, inf, 0.8316465019834358, inf, 0.8317515151195622, 0.832336999490058, inf, inf, 0.8324342971843687, inf, inf], [inf, inf, inf, inf, inf, inf, 0.0, inf, inf, inf, inf, inf, inf, inf, inf, inf], [0.8320041574735262, 0.8318968993283732, 0.8324768012220044, 0.8323237411236151, inf, 0.8316465019834358, inf, 0.0, 0.8318168802836499, 0.832146442032297, 0.8323353801548613, 0.8048428127304854, 0.8289727379761771, 0.8321947222941357, 0.8323405196603263, 0.8321567996841556], [inf, inf, inf, 0.8301030610348346, 0.8318125706383528, inf, inf, 0.8318168802836499, 0.0, 0.831847684056393, 0.8324837468299101, inf, inf, inf, inf, inf], [0.83241516788048, inf, inf, 0.8320602147982433, inf, 0.8317515151195622, inf, 0.832146442032297, 0.831847684056393, 0.0, inf, inf, 0.8323979157338178, 0.8323788974478886, inf, inf], [inf, inf, inf, 0.8325149998412377, 0.8323137976550453, 0.832336999490058, inf, 0.8323353801548613, 0.8324837468299101, inf, 0.0, inf, 0.8316017485957985, 0.8324986299362174, 0.8324878522176025, 0.8319395866291809], [inf, inf, inf, inf, inf, inf, inf, 0.8048428127304854, inf, inf, inf, 0.0, inf, inf, inf, inf], [inf, inf, inf, inf, inf, inf, inf, 0.8289727379761771, inf, 0.8323979157338178, 0.8316017485957985, inf, 0.0, inf, inf, inf], [inf, inf, inf, inf, 0.8319785256189793, 0.8324342971843687, inf, 0.8321947222941357, inf, 0.8323788974478886, 0.8324986299362174, inf, inf, 0.0, inf, inf], [inf, inf, inf, 0.8324416674272346, 0.8311171130100422, inf, inf, 0.8323405196603263, inf, inf, 0.8324878522176025, inf, inf, inf, 0.0, inf], [0.8317131581781076, 0.8317036099812292, inf, inf, 0.8322892853933841, inf, inf, 0.8321567996841556, inf, inf, 0.8319395866291809, inf, inf, inf, inf, 0.0]]\n"
     ]
    }
   ],
   "source": [
    "from scipy.spatial import distance\n",
    "# import scipy\n",
    "\n",
    "dist = []\n",
    "for i in range(num_topics): \n",
    "    t1 = topic_word_distr[i]\n",
    "    d1 = []\n",
    "    for j in range(num_topics):\n",
    "        t2 = topic_word_distr[j]\n",
    "        d = distance.jensenshannon(t1, t2)\n",
    "        d1.append(d)\n",
    "    dist.append(d1)\n",
    "\n",
    "print(dist)"
   ]
  },
  {
   "cell_type": "code",
   "execution_count": 91,
   "metadata": {},
   "outputs": [
    {
     "name": "stdout",
     "output_type": "stream",
     "text": [
      "16\n"
     ]
    }
   ],
   "source": [
    "from sklearn.metrics.pairwise import cosine_similarity\n",
    "import math\n",
    "\n",
    "cos_sim = cosine_similarity(topic_word_distr, topic_word_distr)\n",
    "# cos_sim = [['{:f}'.format(item) for item in item_array] for item_array in cos_sim]\n",
    "# cos_sim = np.array(cos_sim)\n",
    "np.set_printoptions(suppress=True)\n",
    "cos_sim = np.round(cos_sim, 2)\n",
    "print((len(cos_sim[0])))"
   ]
  },
  {
   "cell_type": "code",
   "execution_count": 92,
   "metadata": {},
   "outputs": [],
   "source": [
    "# import scipy.cluster.hierarchy as shc\n",
    "# import matplotlib.pyplot as plt\n",
    "\n",
    "# plt.figure(figsize=(10, 7))\n",
    "# plt.title(\" Dendograms\")\n",
    "# dend = shc.dendrogram(shc.linkage(cos_sim, method='ward'))"
   ]
  },
  {
   "cell_type": "code",
   "execution_count": 98,
   "metadata": {},
   "outputs": [
    {
     "data": {
      "text/plain": [
       "True"
      ]
     },
     "execution_count": 98,
     "metadata": {},
     "output_type": "execute_result"
    }
   ],
   "source": [
    "import os\n",
    "\n",
    "home = os.path.expanduser(\"~\")\n",
    "os.path.exists(home + \"/Desktop\")"
   ]
  },
  {
   "cell_type": "code",
   "execution_count": 104,
   "metadata": {},
   "outputs": [
    {
     "data": {
      "image/png": "[encoded data removed]",
      "text/plain": [
       "<Figure size 720x504 with 1 Axes>"
      ]
     },
     "metadata": {
      "needs_background": "light"
     },
     "output_type": "display_data"
    }
   ],
   "source": [
    "from scipy.cluster.hierarchy import dendrogram, linkage\n",
    "from matplotlib import pyplot as plt\n",
    "# from scipy.cluster import hierarchy \n",
    "\n",
    "# hierarchy.set_link_color_palette(['C0'])\n",
    "\n",
    "linked = linkage(cos_sim, 'ward')\n",
    "\n",
    "labelList = range(1, num_topics+1)\n",
    "\n",
    "plt.figure(figsize=(10, 7))\n",
    "dendrogram(linked,\n",
    "            orientation='top',\n",
    "            labels=labelList,\n",
    "            show_leaf_counts=True)\n",
    "plt.xlabel(\"Num Topics\")\n",
    "plt.ylabel(\"Similarity\")\n",
    "plt.title(\"Hierarchical Clustering\")\n",
    "# plt.show()\n",
    "\n",
    "plt.savefig(home + \"/Desktop/R_js/img/pros/hier.png\")\n",
    "\n",
    "\n"
   ]
  },
  {
   "cell_type": "code",
   "execution_count": null,
   "metadata": {},
   "outputs": [],
   "source": []
  }
 ],
 "metadata": {
  "kernelspec": {
   "display_name": "Python 3",
   "language": "python",
   "name": "python3"
  },
  "language_info": {
   "codemirror_mode": {
    "name": "ipython",
    "version": 3
   },
   "file_extension": ".py",
   "mimetype": "text/x-python",
   "name": "python",
   "nbconvert_exporter": "python",
   "pygments_lexer": "ipython3",
   "version": "3.7.6"
  }
 },
 "nbformat": 4,
 "nbformat_minor": 2
}
