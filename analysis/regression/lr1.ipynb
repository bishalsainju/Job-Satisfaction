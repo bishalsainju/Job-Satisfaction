{
 "cells": [
  {
   "cell_type": "code",
   "execution_count": 15,
   "metadata": {},
   "outputs": [],
   "source": [
    "## imports\n",
    "\n",
    "import numpy as np\n",
    "import pandas as pd\n",
    "\n",
    "import statsmodels.formula.api as sm\n",
    "\n",
    "# Plotting tools\n",
    "import matplotlib.pyplot as plt\n",
    "%matplotlib inline\n",
    "from pprint import pprint\n",
    "\n",
    "import warnings\n",
    "warnings.filterwarnings(\"ignore\",category=DeprecationWarning)\n",
    "\n",
    "import os\n",
    "root = os.path.expanduser('~')\n",
    "\n",
    "company_index='5'\n",
    "company_name='Amazon'\n",
    "img_path = root + '/Desktop/workspace/indeed/Job-Satisfaction/img/companies/'+f'{company_index}_{company_name}'\n",
    "img_flag = False\n",
    "\n",
    "if not os.path.exists(img_path):\n",
    "    os.makedirs(img_path)"
   ]
  },
  {
   "cell_type": "code",
   "execution_count": 16,
   "metadata": {},
   "outputs": [],
   "source": [
    "def merge_data(company_list=[5]):\n",
    "    df_ = pd.DataFrame()\n",
    "    df_company_list = pd.read_csv( root + '/Desktop/workspace/indeed/Job-Satisfaction/data/scraper_data/review_site.csv')\n",
    "    for company_index in company_list:\n",
    "        company_name = df_company_list.iloc[company_index - 1]['Company_Name']\n",
    "        data_path = root + '/Desktop/workspace/indeed/Job-Satisfaction/data/companies/'+\\\n",
    "                    f'{company_index}_{company_name}/{company_name}.csv'\n",
    "        df_ = pd.concat([df_, pd.read_csv(data_path)]).reset_index(drop=True)\n",
    "    return df_\n",
    "\n",
    "# df = merge_data(company_list=[5, 6])\n",
    "# df = merge_data(company_list=[1, 2, 3, 4, 5])\n",
    "df = merge_data(company_list=range(1, 51))\n",
    "\n",
    "\n",
    "\n"
   ]
  },
  {
   "cell_type": "code",
   "execution_count": 17,
   "metadata": {},
   "outputs": [
    {
     "name": "stderr",
     "output_type": "stream",
     "text": [
      "/anaconda3/lib/python3.7/site-packages/ipykernel_launcher.py:4: SettingWithCopyWarning: \n",
      "A value is trying to be set on a copy of a slice from a DataFrame\n",
      "\n",
      "See the caveats in the documentation: http://pandas.pydata.org/pandas-docs/stable/indexing.html#indexing-view-versus-copy\n",
      "  after removing the cwd from sys.path.\n"
     ]
    },
    {
     "data": {
      "text/plain": [
       "(682176, 6)"
      ]
     },
     "execution_count": 17,
     "metadata": {},
     "output_type": "execute_result"
    }
   ],
   "source": [
    "# filter only needed columns\n",
    "\n",
    "df_rating = df[['Rating_Number', 'Work_Life', 'Benefits', 'Job_Advancement', 'Management', 'Culture']]\n",
    "df_rating.dropna(inplace=True)\n",
    "df_rating.head()\n",
    "df_rating.shape"
   ]
  },
  {
   "cell_type": "code",
   "execution_count": 18,
   "metadata": {},
   "outputs": [
    {
     "name": "stdout",
     "output_type": "stream",
     "text": [
      "                            OLS Regression Results                            \n",
      "==============================================================================\n",
      "Dep. Variable:          Rating_Number   R-squared:                       0.383\n",
      "Model:                            OLS   Adj. R-squared:                  0.383\n",
      "Method:                 Least Squares   F-statistic:                 8.471e+04\n",
      "Date:                Mon, 22 Jul 2019   Prob (F-statistic):               0.00\n",
      "Time:                        13:19:24   Log-Likelihood:            -9.1846e+05\n",
      "No. Observations:              682176   AIC:                         1.837e+06\n",
      "Df Residuals:                  682170   BIC:                         1.837e+06\n",
      "Df Model:                           5                                         \n",
      "Covariance Type:            nonrobust                                         \n",
      "===================================================================================\n",
      "                      coef    std err          t      P>|t|      [0.025      0.975]\n",
      "-----------------------------------------------------------------------------------\n",
      "Intercept           2.1681      0.003    779.615      0.000       2.163       2.174\n",
      "Work_Life           0.1221      0.001     94.717      0.000       0.120       0.125\n",
      "Benefits           -0.0329      0.001    -28.264      0.000      -0.035      -0.031\n",
      "Job_Advancement     0.0821      0.001     60.590      0.000       0.079       0.085\n",
      "Management          0.1746      0.001    125.065      0.000       0.172       0.177\n",
      "Culture             0.1498      0.001    103.575      0.000       0.147       0.153\n",
      "==============================================================================\n",
      "Omnibus:                    36009.841   Durbin-Watson:                   1.936\n",
      "Prob(Omnibus):                  0.000   Jarque-Bera (JB):            63975.992\n",
      "Skew:                           0.417   Prob(JB):                         0.00\n",
      "Kurtosis:                       4.247   Cond. No.                         19.4\n",
      "==============================================================================\n",
      "\n",
      "Warnings:\n",
      "[1] Standard Errors assume that the covariance matrix of the errors is correctly specified.\n"
     ]
    }
   ],
   "source": [
    "result = sm.ols(formula=\"Rating_Number ~ Work_Life + Benefits + Job_Advancement + Management + Culture\", \n",
    "                data=df_rating).fit()\n",
    "\n",
    "print(result.summary())"
   ]
  },
  {
   "cell_type": "code",
   "execution_count": 19,
   "metadata": {},
   "outputs": [
    {
     "data": {
      "text/plain": [
       "Intercept          2.168063\n",
       "Work_Life          0.122071\n",
       "Benefits          -0.032949\n",
       "Job_Advancement    0.082079\n",
       "Management         0.174596\n",
       "Culture            0.149845\n",
       "dtype: float64"
      ]
     },
     "metadata": {},
     "output_type": "display_data"
    }
   ],
   "source": [
    "display(result.params)"
   ]
  },
  {
   "cell_type": "code",
   "execution_count": 22,
   "metadata": {},
   "outputs": [
    {
     "data": {
      "text/plain": [
       "Intercept          779.614870\n",
       "Work_Life           94.717061\n",
       "Benefits           -28.263582\n",
       "Job_Advancement     60.590226\n",
       "Management         125.064762\n",
       "Culture            103.575477\n",
       "dtype: float64"
      ]
     },
     "execution_count": 22,
     "metadata": {},
     "output_type": "execute_result"
    }
   ],
   "source": [
    "result.tvalues"
   ]
  },
  {
   "cell_type": "code",
   "execution_count": 28,
   "metadata": {},
   "outputs": [
    {
     "data": {
      "text/plain": [
       "1.2250906537837227e-175"
      ]
     },
     "execution_count": 28,
     "metadata": {},
     "output_type": "execute_result"
    }
   ],
   "source": [
    "result.pvalues[2]"
   ]
  },
  {
   "cell_type": "code",
   "execution_count": 25,
   "metadata": {},
   "outputs": [
    {
     "data": {
      "text/plain": [
       "0.3830451821324288"
      ]
     },
     "execution_count": 25,
     "metadata": {},
     "output_type": "execute_result"
    }
   ],
   "source": [
    "result.rsquared"
   ]
  },
  {
   "cell_type": "code",
   "execution_count": 11,
   "metadata": {},
   "outputs": [
    {
     "data": {
      "text/plain": [
       "['Work_Life', 'Benefits', 'Job_Advancement', 'Management', 'Culture']"
      ]
     },
     "execution_count": 11,
     "metadata": {},
     "output_type": "execute_result"
    }
   ],
   "source": [
    "ind_vars = df_rating.columns.tolist()\n",
    "ind_vars.remove('Rating_Number')\n",
    "ind_vars"
   ]
  },
  {
   "cell_type": "code",
   "execution_count": 30,
   "metadata": {},
   "outputs": [
    {
     "data": {
      "text/html": [
       "<div>\n",
       "<style scoped>\n",
       "    .dataframe tbody tr th:only-of-type {\n",
       "        vertical-align: middle;\n",
       "    }\n",
       "\n",
       "    .dataframe tbody tr th {\n",
       "        vertical-align: top;\n",
       "    }\n",
       "\n",
       "    .dataframe thead th {\n",
       "        text-align: right;\n",
       "    }\n",
       "</style>\n",
       "<table border=\"1\" class=\"dataframe\">\n",
       "  <thead>\n",
       "    <tr style=\"text-align: right;\">\n",
       "      <th></th>\n",
       "      <th>Dimension</th>\n",
       "      <th>Coefficient</th>\n",
       "      <th>T-Value</th>\n",
       "      <th>P-Value</th>\n",
       "      <th>R-Squared</th>\n",
       "    </tr>\n",
       "  </thead>\n",
       "  <tbody>\n",
       "    <tr>\n",
       "      <th>0</th>\n",
       "      <td>Work_Life</td>\n",
       "      <td>0.417333</td>\n",
       "      <td>546.474742</td>\n",
       "      <td>0.0</td>\n",
       "      <td>0.304478</td>\n",
       "    </tr>\n",
       "    <tr>\n",
       "      <th>1</th>\n",
       "      <td>Benefits</td>\n",
       "      <td>0.345820</td>\n",
       "      <td>432.643163</td>\n",
       "      <td>0.0</td>\n",
       "      <td>0.215309</td>\n",
       "    </tr>\n",
       "    <tr>\n",
       "      <th>2</th>\n",
       "      <td>Job_Advancement</td>\n",
       "      <td>0.403813</td>\n",
       "      <td>531.940419</td>\n",
       "      <td>0.0</td>\n",
       "      <td>0.293183</td>\n",
       "    </tr>\n",
       "    <tr>\n",
       "      <th>3</th>\n",
       "      <td>Management</td>\n",
       "      <td>0.429898</td>\n",
       "      <td>592.395786</td>\n",
       "      <td>0.0</td>\n",
       "      <td>0.339687</td>\n",
       "    </tr>\n",
       "    <tr>\n",
       "      <th>4</th>\n",
       "      <td>Culture</td>\n",
       "      <td>0.428032</td>\n",
       "      <td>584.986002</td>\n",
       "      <td>0.0</td>\n",
       "      <td>0.334063</td>\n",
       "    </tr>\n",
       "  </tbody>\n",
       "</table>\n",
       "</div>"
      ],
      "text/plain": [
       "         Dimension  Coefficient     T-Value  P-Value  R-Squared\n",
       "0        Work_Life     0.417333  546.474742      0.0   0.304478\n",
       "1         Benefits     0.345820  432.643163      0.0   0.215309\n",
       "2  Job_Advancement     0.403813  531.940419      0.0   0.293183\n",
       "3       Management     0.429898  592.395786      0.0   0.339687\n",
       "4          Culture     0.428032  584.986002      0.0   0.334063"
      ]
     },
     "execution_count": 30,
     "metadata": {},
     "output_type": "execute_result"
    }
   ],
   "source": [
    "df_results = pd.DataFrame(columns=['Dimension', 'Coefficient', 'T-Value', 'P-Value', 'R-Squared'])\n",
    "index = 0\n",
    "for var in ind_vars:\n",
    "    result = sm.ols(formula=f\"Rating_Number ~ {var}\", \n",
    "                data=df_rating).fit()\n",
    "    df_results.loc[index] = [var, result.params[1], result.tvalues[1], result.pvalues[1], result.rsquared]\n",
    "    index += 1\n",
    "df_results.head()"
   ]
  },
  {
   "cell_type": "code",
   "execution_count": null,
   "metadata": {},
   "outputs": [],
   "source": []
  }
 ],
 "metadata": {
  "kernelspec": {
   "display_name": "Python 3",
   "language": "python",
   "name": "python3"
  },
  "language_info": {
   "codemirror_mode": {
    "name": "ipython",
    "version": 3
   },
   "file_extension": ".py",
   "mimetype": "text/x-python",
   "name": "python",
   "nbconvert_exporter": "python",
   "pygments_lexer": "ipython3",
   "version": "3.7.3"
  }
 },
 "nbformat": 4,
 "nbformat_minor": 2
}
