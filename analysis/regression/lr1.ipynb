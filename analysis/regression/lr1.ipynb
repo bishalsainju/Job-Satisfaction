{
 "cells": [
  {
   "cell_type": "code",
   "execution_count": 1,
   "metadata": {},
   "outputs": [],
   "source": [
    "## imports\n",
    "\n",
    "import numpy as np\n",
    "import pandas as pd\n",
    "\n",
    "import statsmodels.formula.api as sm\n",
    "\n",
    "# Plotting tools\n",
    "import matplotlib.pyplot as plt\n",
    "%matplotlib inline\n",
    "from pprint import pprint\n",
    "\n",
    "import warnings\n",
    "warnings.filterwarnings(\"ignore\",category=DeprecationWarning)\n",
    "\n",
    "import os\n",
    "root = os.path.expanduser('~')\n",
    "\n",
    "company_index='5'\n",
    "company_name='Amazon'\n",
    "img_path = root + '/Desktop/workspace/indeed/Job-Satisfaction/img/companies/'+f'{company_index}_{company_name}'\n",
    "img_flag = False\n",
    "\n",
    "if not os.path.exists(img_path):\n",
    "    os.makedirs(img_path)"
   ]
  },
  {
   "cell_type": "code",
   "execution_count": 2,
   "metadata": {},
   "outputs": [
    {
     "name": "stderr",
     "output_type": "stream",
     "text": [
      "/anaconda3/lib/python3.7/site-packages/ipykernel_launcher.py:8: FutureWarning: Sorting because non-concatenation axis is not aligned. A future version\n",
      "of pandas will change to not sort by default.\n",
      "\n",
      "To accept the future behavior, pass 'sort=False'.\n",
      "\n",
      "To retain the current behavior and silence the warning, pass 'sort=True'.\n",
      "\n",
      "  \n"
     ]
    }
   ],
   "source": [
    "def merge_data(company_list=[5]):\n",
    "    df_ = pd.DataFrame()\n",
    "    df_company_list = pd.read_csv( root + '/Desktop/workspace/indeed/Job-Satisfaction/data/scraper_data/review_site.csv')\n",
    "    for company_index in company_list:\n",
    "        company_name = df_company_list.iloc[company_index - 1]['Company_Name']\n",
    "        data_path = root + '/Desktop/workspace/indeed/Job-Satisfaction/data/companies/'+\\\n",
    "                    f'{company_index}_{company_name}/{company_name}.csv'\n",
    "        df_ = pd.concat([df_, pd.read_csv(data_path)]).reset_index(drop=True)\n",
    "    return df_\n",
    "\n",
    "# df = merge_data(company_list=[5, 6])\n",
    "# df = merge_data(company_list=[1, 2, 3, 4, 5])\n",
    "df = merge_data(company_list=range(1, 51))\n",
    "\n",
    "\n",
    "\n"
   ]
  },
  {
   "cell_type": "code",
   "execution_count": 3,
   "metadata": {},
   "outputs": [
    {
     "name": "stderr",
     "output_type": "stream",
     "text": [
      "/anaconda3/lib/python3.7/site-packages/ipykernel_launcher.py:6: SettingWithCopyWarning: \n",
      "A value is trying to be set on a copy of a slice from a DataFrame\n",
      "\n",
      "See the caveats in the documentation: http://pandas.pydata.org/pandas-docs/stable/indexing.html#indexing-view-versus-copy\n",
      "  \n"
     ]
    },
    {
     "data": {
      "text/plain": [
       "(613024, 6)"
      ]
     },
     "execution_count": 3,
     "metadata": {},
     "output_type": "execute_result"
    }
   ],
   "source": [
    "# filter only needed columns\n",
    "ind_vars = ['Work_Life', 'Benefits', 'Job_Advancement', 'Management', 'Culture']\n",
    "col_to_take = ['Rating_Number']\n",
    "col_to_take.extend(ind_vars)\n",
    "df_rating = df[col_to_take]\n",
    "df_rating.dropna(inplace=True)\n",
    "df_rating = df_rating[(df_rating[ind_vars] != 0).all(axis=1)]\n",
    "df_rating.head()\n",
    "df_rating.shape"
   ]
  },
  {
   "cell_type": "code",
   "execution_count": 6,
   "metadata": {},
   "outputs": [],
   "source": [
    "df_rating.to_csv('~/Desktop/data/lr_all.csv')"
   ]
  },
  {
   "cell_type": "code",
   "execution_count": 5,
   "metadata": {},
   "outputs": [
    {
     "name": "stdout",
     "output_type": "stream",
     "text": [
      "                            OLS Regression Results                            \n",
      "==============================================================================\n",
      "Dep. Variable:          Rating_Number   R-squared:                       0.751\n",
      "Model:                            OLS   Adj. R-squared:                  0.751\n",
      "Method:                 Least Squares   F-statistic:                 3.698e+05\n",
      "Date:                Mon, 29 Jul 2019   Prob (F-statistic):               0.00\n",
      "Time:                        13:20:09   Log-Likelihood:            -5.4883e+05\n",
      "No. Observations:              613024   AIC:                         1.098e+06\n",
      "Df Residuals:                  613018   BIC:                         1.098e+06\n",
      "Df Model:                           5                                         \n",
      "Covariance Type:            nonrobust                                         \n",
      "===================================================================================\n",
      "                      coef    std err          t      P>|t|      [0.025      0.975]\n",
      "-----------------------------------------------------------------------------------\n",
      "Intercept           0.5731      0.003    227.831      0.000       0.568       0.578\n",
      "Work_Life           0.2404      0.001    268.622      0.000       0.239       0.242\n",
      "Benefits            0.1357      0.001    166.610      0.000       0.134       0.137\n",
      "Job_Advancement     0.0976      0.001    106.041      0.000       0.096       0.099\n",
      "Management          0.1714      0.001    179.552      0.000       0.170       0.173\n",
      "Culture             0.2578      0.001    252.392      0.000       0.256       0.260\n",
      "==============================================================================\n",
      "Omnibus:                    40456.942   Durbin-Watson:                   1.988\n",
      "Prob(Omnibus):                  0.000   Jarque-Bera (JB):           141357.989\n",
      "Skew:                           0.280   Prob(JB):                         0.00\n",
      "Kurtosis:                       5.285   Cond. No.                         27.4\n",
      "==============================================================================\n",
      "\n",
      "Warnings:\n",
      "[1] Standard Errors assume that the covariance matrix of the errors is correctly specified.\n"
     ]
    }
   ],
   "source": [
    "result = sm.ols(formula=\"Rating_Number ~ Work_Life + Benefits + Job_Advancement + Management + Culture\", \n",
    "                data=df_rating).fit()\n",
    "\n",
    "print(result.summary())"
   ]
  },
  {
   "cell_type": "code",
   "execution_count": 6,
   "metadata": {},
   "outputs": [
    {
     "data": {
      "text/plain": [
       "Intercept          0.573140\n",
       "Work_Life          0.240355\n",
       "Benefits           0.135657\n",
       "Job_Advancement    0.097617\n",
       "Management         0.171449\n",
       "Culture            0.257810\n",
       "dtype: float64"
      ]
     },
     "metadata": {},
     "output_type": "display_data"
    }
   ],
   "source": [
    "display(result.params)"
   ]
  },
  {
   "cell_type": "code",
   "execution_count": 7,
   "metadata": {},
   "outputs": [
    {
     "data": {
      "text/plain": [
       "Intercept          227.830687\n",
       "Work_Life          268.622260\n",
       "Benefits           166.609901\n",
       "Job_Advancement    106.040968\n",
       "Management         179.551558\n",
       "Culture            252.392143\n",
       "dtype: float64"
      ]
     },
     "execution_count": 7,
     "metadata": {},
     "output_type": "execute_result"
    }
   ],
   "source": [
    "result.tvalues"
   ]
  },
  {
   "cell_type": "code",
   "execution_count": 8,
   "metadata": {},
   "outputs": [
    {
     "data": {
      "text/plain": [
       "0.0"
      ]
     },
     "execution_count": 8,
     "metadata": {},
     "output_type": "execute_result"
    }
   ],
   "source": [
    "result.pvalues[2]"
   ]
  },
  {
   "cell_type": "code",
   "execution_count": 9,
   "metadata": {},
   "outputs": [
    {
     "data": {
      "text/plain": [
       "0.7510334192004333"
      ]
     },
     "execution_count": 9,
     "metadata": {},
     "output_type": "execute_result"
    }
   ],
   "source": [
    "result.rsquared"
   ]
  },
  {
   "cell_type": "code",
   "execution_count": 10,
   "metadata": {},
   "outputs": [
    {
     "data": {
      "text/html": [
       "<div>\n",
       "<style scoped>\n",
       "    .dataframe tbody tr th:only-of-type {\n",
       "        vertical-align: middle;\n",
       "    }\n",
       "\n",
       "    .dataframe tbody tr th {\n",
       "        vertical-align: top;\n",
       "    }\n",
       "\n",
       "    .dataframe thead th {\n",
       "        text-align: right;\n",
       "    }\n",
       "</style>\n",
       "<table border=\"1\" class=\"dataframe\">\n",
       "  <thead>\n",
       "    <tr style=\"text-align: right;\">\n",
       "      <th></th>\n",
       "      <th>Dimension</th>\n",
       "      <th>Coefficient</th>\n",
       "      <th>T-Value</th>\n",
       "      <th>P-Value</th>\n",
       "      <th>R-Squared</th>\n",
       "    </tr>\n",
       "  </thead>\n",
       "  <tbody>\n",
       "    <tr>\n",
       "      <th>0</th>\n",
       "      <td>Work_Life</td>\n",
       "      <td>0.693664</td>\n",
       "      <td>896.871072</td>\n",
       "      <td>0.0</td>\n",
       "      <td>0.567502</td>\n",
       "    </tr>\n",
       "    <tr>\n",
       "      <th>1</th>\n",
       "      <td>Benefits</td>\n",
       "      <td>0.605143</td>\n",
       "      <td>676.970914</td>\n",
       "      <td>0.0</td>\n",
       "      <td>0.427784</td>\n",
       "    </tr>\n",
       "    <tr>\n",
       "      <th>2</th>\n",
       "      <td>Job_Advancement</td>\n",
       "      <td>0.631609</td>\n",
       "      <td>809.252197</td>\n",
       "      <td>0.0</td>\n",
       "      <td>0.516510</td>\n",
       "    </tr>\n",
       "    <tr>\n",
       "      <th>3</th>\n",
       "      <td>Management</td>\n",
       "      <td>0.654686</td>\n",
       "      <td>920.830764</td>\n",
       "      <td>0.0</td>\n",
       "      <td>0.580395</td>\n",
       "    </tr>\n",
       "    <tr>\n",
       "      <th>4</th>\n",
       "      <td>Culture</td>\n",
       "      <td>0.712319</td>\n",
       "      <td>1013.585761</td>\n",
       "      <td>0.0</td>\n",
       "      <td>0.626292</td>\n",
       "    </tr>\n",
       "  </tbody>\n",
       "</table>\n",
       "</div>"
      ],
      "text/plain": [
       "         Dimension  Coefficient      T-Value  P-Value  R-Squared\n",
       "0        Work_Life     0.693664   896.871072      0.0   0.567502\n",
       "1         Benefits     0.605143   676.970914      0.0   0.427784\n",
       "2  Job_Advancement     0.631609   809.252197      0.0   0.516510\n",
       "3       Management     0.654686   920.830764      0.0   0.580395\n",
       "4          Culture     0.712319  1013.585761      0.0   0.626292"
      ]
     },
     "execution_count": 10,
     "metadata": {},
     "output_type": "execute_result"
    }
   ],
   "source": [
    "df_results = pd.DataFrame(columns=['Dimension', 'Coefficient', 'T-Value', 'P-Value', 'R-Squared'])\n",
    "index = 0\n",
    "for var in ind_vars:\n",
    "    result = sm.ols(formula=f\"Rating_Number ~ {var}\", \n",
    "                data=df_rating).fit()\n",
    "    df_results.loc[index] = [var, result.params[1], result.tvalues[1], result.pvalues[1], result.rsquared]\n",
    "    index += 1\n",
    "df_results.head()"
   ]
  },
  {
   "cell_type": "code",
   "execution_count": 20,
   "metadata": {},
   "outputs": [
    {
     "data": {
      "text/plain": [
       "<function matplotlib.pyplot.show(*args, **kw)>"
      ]
     },
     "execution_count": 20,
     "metadata": {},
     "output_type": "execute_result"
    },
    {
     "data": {
      "image/png": "[encoded data removed]",
      "text/plain": [
       "<Figure size 432x432 with 2 Axes>"
      ]
     },
     "metadata": {},
     "output_type": "display_data"
    }
   ],
   "source": [
    "import seaborn as sns\n",
    "\n",
    "# sns.set(style=\"white\")\n",
    "\n",
    "# Compute the correlation matrix\n",
    "corr = df_rating.corr()\n",
    "\n",
    "# Generate a mask for the upper triangle\n",
    "mask = np.zeros_like(corr, dtype=np.bool)\n",
    "mask[np.triu_indices_from(mask)] = True\n",
    "\n",
    "plt.figure(figsize=(6, 6))\n",
    "cmap = sns.diverging_palette(220, 10, as_cmap=True)\n",
    "sns.heatmap(corr, mask=mask, cmap=cmap, annot=True, center=0.0)\n",
    "plt.show"
   ]
  },
  {
   "cell_type": "code",
   "execution_count": null,
   "metadata": {},
   "outputs": [],
   "source": []
  }
 ],
 "metadata": {
  "kernelspec": {
   "display_name": "Python 3",
   "language": "python",
   "name": "python3"
  },
  "language_info": {
   "codemirror_mode": {
    "name": "ipython",
    "version": 3
   },
   "file_extension": ".py",
   "mimetype": "text/x-python",
   "name": "python",
   "nbconvert_exporter": "python",
   "pygments_lexer": "ipython3",
   "version": "3.7.3"
  }
 },
 "nbformat": 4,
 "nbformat_minor": 2
}
