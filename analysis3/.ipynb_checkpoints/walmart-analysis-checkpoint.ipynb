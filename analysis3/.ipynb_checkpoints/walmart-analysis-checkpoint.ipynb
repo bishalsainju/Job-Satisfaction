{
 "cells": [
  {
   "cell_type": "code",
   "execution_count": 12,
   "metadata": {},
   "outputs": [
    {
     "data": {
      "text/html": [
       "<div>\n",
       "<style scoped>\n",
       "    .dataframe tbody tr th:only-of-type {\n",
       "        vertical-align: middle;\n",
       "    }\n",
       "\n",
       "    .dataframe tbody tr th {\n",
       "        vertical-align: top;\n",
       "    }\n",
       "\n",
       "    .dataframe thead th {\n",
       "        text-align: right;\n",
       "    }\n",
       "</style>\n",
       "<table border=\"1\" class=\"dataframe\">\n",
       "  <thead>\n",
       "    <tr style=\"text-align: right;\">\n",
       "      <th></th>\n",
       "      <th>Unnamed: 0</th>\n",
       "      <th>Index</th>\n",
       "      <th>Rating_Number</th>\n",
       "      <th>Work_Life</th>\n",
       "      <th>Benefits</th>\n",
       "      <th>Job_Advancement</th>\n",
       "      <th>Management</th>\n",
       "      <th>Culture</th>\n",
       "      <th>Review_Title</th>\n",
       "      <th>Reviewer_Job_Title</th>\n",
       "      <th>Reviewer_Job_Status</th>\n",
       "      <th>Reviewer_Job_Location</th>\n",
       "      <th>Reviewed_Date</th>\n",
       "      <th>Review_Text</th>\n",
       "      <th>Pros</th>\n",
       "      <th>Cons</th>\n",
       "      <th>Reviewed_Year</th>\n",
       "    </tr>\n",
       "  </thead>\n",
       "  <tbody>\n",
       "    <tr>\n",
       "      <td>0</td>\n",
       "      <td>0</td>\n",
       "      <td>0</td>\n",
       "      <td>3.0</td>\n",
       "      <td>4.0</td>\n",
       "      <td>3.0</td>\n",
       "      <td>4.0</td>\n",
       "      <td>3.0</td>\n",
       "      <td>4.0</td>\n",
       "      <td>Decent</td>\n",
       "      <td>Service Manager</td>\n",
       "      <td>Former Employee</td>\n",
       "      <td>Price, UT</td>\n",
       "      <td>2019-03-08</td>\n",
       "      <td>They are all different I got lucky and had a g...</td>\n",
       "      <td>NaN</td>\n",
       "      <td>NaN</td>\n",
       "      <td>2019</td>\n",
       "    </tr>\n",
       "    <tr>\n",
       "      <td>1</td>\n",
       "      <td>1</td>\n",
       "      <td>1</td>\n",
       "      <td>3.0</td>\n",
       "      <td>3.0</td>\n",
       "      <td>0.0</td>\n",
       "      <td>3.0</td>\n",
       "      <td>3.0</td>\n",
       "      <td>3.0</td>\n",
       "      <td>Walmart is great opportunity for people lookin...</td>\n",
       "      <td>Team Lead</td>\n",
       "      <td>Current Employee</td>\n",
       "      <td>Charleston, SC</td>\n",
       "      <td>2019-07-13</td>\n",
       "      <td>Walmart is a good company with great  benefits...</td>\n",
       "      <td>NaN</td>\n",
       "      <td>NaN</td>\n",
       "      <td>2019</td>\n",
       "    </tr>\n",
       "    <tr>\n",
       "      <td>2</td>\n",
       "      <td>2</td>\n",
       "      <td>2</td>\n",
       "      <td>4.0</td>\n",
       "      <td>4.0</td>\n",
       "      <td>4.0</td>\n",
       "      <td>4.0</td>\n",
       "      <td>3.0</td>\n",
       "      <td>4.0</td>\n",
       "      <td>It was a good place to work laid back had alot...</td>\n",
       "      <td>Stocker</td>\n",
       "      <td>Former Employee</td>\n",
       "      <td>Riverdale, GA</td>\n",
       "      <td>2019-07-13</td>\n",
       "      <td>Just a good place to work i really enjoyed wor...</td>\n",
       "      <td>NaN</td>\n",
       "      <td>NaN</td>\n",
       "      <td>2019</td>\n",
       "    </tr>\n",
       "    <tr>\n",
       "      <td>3</td>\n",
       "      <td>3</td>\n",
       "      <td>3</td>\n",
       "      <td>5.0</td>\n",
       "      <td>0.0</td>\n",
       "      <td>0.0</td>\n",
       "      <td>0.0</td>\n",
       "      <td>0.0</td>\n",
       "      <td>0.0</td>\n",
       "      <td>Best job for anybody to work at</td>\n",
       "      <td>Walmart Stocker</td>\n",
       "      <td>Former Employee</td>\n",
       "      <td>Portage, IN</td>\n",
       "      <td>2019-07-13</td>\n",
       "      <td>It's a fast paste job you have to keep up with...</td>\n",
       "      <td>NaN</td>\n",
       "      <td>NaN</td>\n",
       "      <td>2019</td>\n",
       "    </tr>\n",
       "    <tr>\n",
       "      <td>4</td>\n",
       "      <td>4</td>\n",
       "      <td>4</td>\n",
       "      <td>1.0</td>\n",
       "      <td>1.0</td>\n",
       "      <td>1.0</td>\n",
       "      <td>2.0</td>\n",
       "      <td>1.0</td>\n",
       "      <td>1.0</td>\n",
       "      <td>Not a place to work</td>\n",
       "      <td>Customer Service Representative</td>\n",
       "      <td>Former Employee</td>\n",
       "      <td>Bellevue, WA</td>\n",
       "      <td>2019-07-13</td>\n",
       "      <td>Everything Walmart does is unethical.  From as...</td>\n",
       "      <td>NaN</td>\n",
       "      <td>NaN</td>\n",
       "      <td>2019</td>\n",
       "    </tr>\n",
       "  </tbody>\n",
       "</table>\n",
       "</div>"
      ],
      "text/plain": [
       "   Unnamed: 0  Index  Rating_Number  Work_Life  Benefits  Job_Advancement  \\\n",
       "0           0      0            3.0        4.0       3.0              4.0   \n",
       "1           1      1            3.0        3.0       0.0              3.0   \n",
       "2           2      2            4.0        4.0       4.0              4.0   \n",
       "3           3      3            5.0        0.0       0.0              0.0   \n",
       "4           4      4            1.0        1.0       1.0              2.0   \n",
       "\n",
       "   Management  Culture                                       Review_Title  \\\n",
       "0         3.0      4.0                                             Decent   \n",
       "1         3.0      3.0  Walmart is great opportunity for people lookin...   \n",
       "2         3.0      4.0  It was a good place to work laid back had alot...   \n",
       "3         0.0      0.0                    Best job for anybody to work at   \n",
       "4         1.0      1.0                                Not a place to work   \n",
       "\n",
       "                 Reviewer_Job_Title Reviewer_Job_Status Reviewer_Job_Location  \\\n",
       "0                  Service Manager      Former Employee             Price, UT   \n",
       "1                        Team Lead     Current Employee        Charleston, SC   \n",
       "2                          Stocker      Former Employee         Riverdale, GA   \n",
       "3                  Walmart Stocker      Former Employee           Portage, IN   \n",
       "4  Customer Service Representative      Former Employee          Bellevue, WA   \n",
       "\n",
       "  Reviewed_Date                                        Review_Text Pros Cons  \\\n",
       "0    2019-03-08  They are all different I got lucky and had a g...  NaN  NaN   \n",
       "1    2019-07-13  Walmart is a good company with great  benefits...  NaN  NaN   \n",
       "2    2019-07-13  Just a good place to work i really enjoyed wor...  NaN  NaN   \n",
       "3    2019-07-13  It's a fast paste job you have to keep up with...  NaN  NaN   \n",
       "4    2019-07-13  Everything Walmart does is unethical.  From as...  NaN  NaN   \n",
       "\n",
       "   Reviewed_Year  \n",
       "0           2019  \n",
       "1           2019  \n",
       "2           2019  \n",
       "3           2019  \n",
       "4           2019  "
      ]
     },
     "execution_count": 12,
     "metadata": {},
     "output_type": "execute_result"
    }
   ],
   "source": [
    "import pandas as pd\n",
    "import numpy as np\n",
    "\n",
    "company_rank = \"1\"\n",
    "company_name = \"Walmart\"\n",
    "df = pd.read_csv(f\"~/Desktop/workspace/indeed/Job-Satisfaction/data/companies/{company_rank}_{company_name}/\"\n",
    "                + f\"{company_name}.csv\")\n",
    "df.head()\n",
    "                "
   ]
  },
  {
   "cell_type": "code",
   "execution_count": 13,
   "metadata": {},
   "outputs": [
    {
     "data": {
      "text/plain": [
       "(156574, 17)"
      ]
     },
     "execution_count": 13,
     "metadata": {},
     "output_type": "execute_result"
    }
   ],
   "source": [
    "df.shape"
   ]
  },
  {
   "cell_type": "code",
   "execution_count": 14,
   "metadata": {},
   "outputs": [],
   "source": [
    "import re\n",
    "import string\n",
    "\n",
    "def data_clean(text):\n",
    "    text = text.lower()\n",
    "    text = re.sub('((www\\.[^\\s]+)|(https?://[^\\s]+))', '', text)\n",
    "    text = re.sub('@[^\\s]+', '', text)   \n",
    "    text = text.replace(\"#\", \"\")  \n",
    "    text = text.translate(str.maketrans('', '', string.punctuation))\n",
    "    text = re.sub(r'(.)\\1+', r'\\1\\1', text)\n",
    "    return text\n",
    "\n",
    "    \n",
    "def remove_stopwords(words):\n",
    "    \"\"\"Remove stop words from list of tokenized words\"\"\"\n",
    "    new_words = []\n",
    "    for word in words:\n",
    "        if word not in stopwords.words('english'):\n",
    "            new_words.append(word)\n",
    "    return new_words"
   ]
  },
  {
   "cell_type": "code",
   "execution_count": 15,
   "metadata": {},
   "outputs": [],
   "source": [
    "import nltk\n",
    "from nltk import WordPunctTokenizer, PunktSentenceTokenizer, PorterStemmer\n",
    "from nltk.tokenize import word_tokenize\n",
    "from nltk.corpus import stopwords\n",
    "\n",
    "sent_tokenizer = PunktSentenceTokenizer()\n",
    "word_tokenizer = WordPunctTokenizer()\n",
    "stemmer = PorterStemmer()\n"
   ]
  },
  {
   "cell_type": "code",
   "execution_count": 16,
   "metadata": {},
   "outputs": [
    {
     "data": {
      "text/plain": [
       "['I am able to learn and do what I needed to do. I went from customer service to DSD receiving and I enjoy the back room. I would come in clear my door for my vendors. Then I would clean my area so my workplace was set up the right way. When UPS or FedEx come I would scan them in sign for it. Then I would scan in the product give it to the department and do my paper work.',\n",
       " 'The management was good to work for and all the co-workers and it was not hard at all and I love it.',\n",
       " 'The labor performed at Walmart is minimal in order to keep associates at top-performance on the floor and in back-stock. Although the work performed within the stores is continuous and long-lasting, it is not extreme. This benefits the workers by maintaining good levels of energy and minimizing stress levels in order to perform with maximum efficiency and to give customers a positive shopping experience.',\n",
       " \"Wal-Mart has a lot of benefits and gives advancements from my experience. I appreciated Wal-Mart as a hole but, the huge turn away was extremely poor management. Management for me would only do what was needed, rarely gave group speeches in the morning, MC40 wouldn't be turned in properly and no one would get punished for their actions.\",\n",
       " 'a good day at work is good. The customers are good. I learned to work at a faster pace than a normal pace. Management is great ,fabulous, and managers are good to work with']"
      ]
     },
     "execution_count": 16,
     "metadata": {},
     "output_type": "execute_result"
    }
   ],
   "source": [
    "reviews = df['Review_Text'].sample(n=40000, random_state=42).tolist()\n",
    "reviews[:5]"
   ]
  },
  {
   "cell_type": "code",
   "execution_count": 17,
   "metadata": {},
   "outputs": [
    {
     "data": {
      "text/plain": [
       "['h', 'e', ' ', 'I', ' ', 'l', 'v', 'e', ' ', 'u', ' ', 'b', 'h', 'l']"
      ]
     },
     "execution_count": 17,
     "metadata": {},
     "output_type": "execute_result"
    }
   ],
   "source": [
    "remove_stopwords(['hey I love you bihsal'])"
   ]
  },
  {
   "cell_type": "code",
   "execution_count": null,
   "metadata": {},
   "outputs": [],
   "source": []
  }
 ],
 "metadata": {
  "kernelspec": {
   "display_name": "Python 3",
   "language": "python",
   "name": "python3"
  },
  "language_info": {
   "codemirror_mode": {
    "name": "ipython",
    "version": 3
   },
   "file_extension": ".py",
   "mimetype": "text/x-python",
   "name": "python",
   "nbconvert_exporter": "python",
   "pygments_lexer": "ipython3",
   "version": "3.7.4"
  }
 },
 "nbformat": 4,
 "nbformat_minor": 2
}
