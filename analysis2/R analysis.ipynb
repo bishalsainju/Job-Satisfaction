{
 "cells": [
  {
   "cell_type": "code",
   "execution_count": 62,
   "metadata": {},
   "outputs": [],
   "source": [
    "import pandas as pd\n",
    "import seaborn as sns\n",
    "import numpy as np\n",
    "import matplotlib.pyplot as plt\n",
    "\n",
    "num_topics = 16"
   ]
  },
  {
   "cell_type": "code",
   "execution_count": 63,
   "metadata": {},
   "outputs": [],
   "source": [
    "path=f\"~/Desktop/R_js/data1/gamma/procon{num_topics}_gamma.csv\"\n",
    "df = pd.read_csv(path)\n"
   ]
  },
  {
   "cell_type": "code",
   "execution_count": 64,
   "metadata": {},
   "outputs": [
    {
     "data": {
      "text/html": [
       "<div>\n",
       "<style scoped>\n",
       "    .dataframe tbody tr th:only-of-type {\n",
       "        vertical-align: middle;\n",
       "    }\n",
       "\n",
       "    .dataframe tbody tr th {\n",
       "        vertical-align: top;\n",
       "    }\n",
       "\n",
       "    .dataframe thead th {\n",
       "        text-align: right;\n",
       "    }\n",
       "</style>\n",
       "<table border=\"1\" class=\"dataframe\">\n",
       "  <thead>\n",
       "    <tr style=\"text-align: right;\">\n",
       "      <th></th>\n",
       "      <th>document</th>\n",
       "      <th>topic</th>\n",
       "      <th>gamma</th>\n",
       "    </tr>\n",
       "  </thead>\n",
       "  <tbody>\n",
       "    <tr>\n",
       "      <td>0</td>\n",
       "      <td>1</td>\n",
       "      <td>1</td>\n",
       "      <td>0.009334</td>\n",
       "    </tr>\n",
       "    <tr>\n",
       "      <td>1</td>\n",
       "      <td>2</td>\n",
       "      <td>1</td>\n",
       "      <td>0.040223</td>\n",
       "    </tr>\n",
       "    <tr>\n",
       "      <td>2</td>\n",
       "      <td>3</td>\n",
       "      <td>1</td>\n",
       "      <td>0.022405</td>\n",
       "    </tr>\n",
       "    <tr>\n",
       "      <td>3</td>\n",
       "      <td>4</td>\n",
       "      <td>1</td>\n",
       "      <td>0.013671</td>\n",
       "    </tr>\n",
       "    <tr>\n",
       "      <td>4</td>\n",
       "      <td>5</td>\n",
       "      <td>1</td>\n",
       "      <td>0.024645</td>\n",
       "    </tr>\n",
       "  </tbody>\n",
       "</table>\n",
       "</div>"
      ],
      "text/plain": [
       "   document  topic     gamma\n",
       "0         1      1  0.009334\n",
       "1         2      1  0.040223\n",
       "2         3      1  0.022405\n",
       "3         4      1  0.013671\n",
       "4         5      1  0.024645"
      ]
     },
     "execution_count": 64,
     "metadata": {},
     "output_type": "execute_result"
    }
   ],
   "source": [
    "df.head()"
   ]
  },
  {
   "cell_type": "markdown",
   "metadata": {},
   "source": [
    "# Gamma Distribution"
   ]
  },
  {
   "cell_type": "code",
   "execution_count": 65,
   "metadata": {},
   "outputs": [
    {
     "data": {
      "text/plain": [
       "<matplotlib.axes._subplots.AxesSubplot at 0x1a18cb5a90>"
      ]
     },
     "execution_count": 65,
     "metadata": {},
     "output_type": "execute_result"
    },
    {
     "data": {
      "image/png": "[encoded data removed]",
      "text/plain": [
       "<Figure size 432x288 with 1 Axes>"
      ]
     },
     "metadata": {
      "needs_background": "light"
     },
     "output_type": "display_data"
    }
   ],
   "source": [
    "sns.distplot(df[df.topic==14]['gamma'])"
   ]
  },
  {
   "cell_type": "code",
   "execution_count": 66,
   "metadata": {},
   "outputs": [
    {
     "data": {
      "text/plain": [
       "<matplotlib.axes._subplots.AxesSubplot at 0x1a18b98750>"
      ]
     },
     "execution_count": 66,
     "metadata": {},
     "output_type": "execute_result"
    },
    {
     "data": {
      "image/png": "[encoded data removed]",
      "text/plain": [
       "<Figure size 432x288 with 1 Axes>"
      ]
     },
     "metadata": {
      "needs_background": "light"
     },
     "output_type": "display_data"
    }
   ],
   "source": [
    "doc = 160\n",
    "sns.barplot(df[df.document == doc]['topic'], df[df.document == doc]['gamma'])"
   ]
  },
  {
   "cell_type": "markdown",
   "metadata": {},
   "source": [
    "# Topic Proportions"
   ]
  },
  {
   "cell_type": "code",
   "execution_count": 67,
   "metadata": {},
   "outputs": [
    {
     "data": {
      "text/html": [
       "<div>\n",
       "<style scoped>\n",
       "    .dataframe tbody tr th:only-of-type {\n",
       "        vertical-align: middle;\n",
       "    }\n",
       "\n",
       "    .dataframe tbody tr th {\n",
       "        vertical-align: top;\n",
       "    }\n",
       "\n",
       "    .dataframe thead th {\n",
       "        text-align: right;\n",
       "    }\n",
       "</style>\n",
       "<table border=\"1\" class=\"dataframe\">\n",
       "  <thead>\n",
       "    <tr style=\"text-align: right;\">\n",
       "      <th></th>\n",
       "      <th>topic_num</th>\n",
       "      <th>topic_prop</th>\n",
       "    </tr>\n",
       "  </thead>\n",
       "  <tbody>\n",
       "    <tr>\n",
       "      <td>0</td>\n",
       "      <td>1</td>\n",
       "      <td>0.069327</td>\n",
       "    </tr>\n",
       "    <tr>\n",
       "      <td>1</td>\n",
       "      <td>2</td>\n",
       "      <td>0.041563</td>\n",
       "    </tr>\n",
       "    <tr>\n",
       "      <td>2</td>\n",
       "      <td>3</td>\n",
       "      <td>0.082624</td>\n",
       "    </tr>\n",
       "    <tr>\n",
       "      <td>3</td>\n",
       "      <td>4</td>\n",
       "      <td>0.058762</td>\n",
       "    </tr>\n",
       "    <tr>\n",
       "      <td>4</td>\n",
       "      <td>5</td>\n",
       "      <td>0.054892</td>\n",
       "    </tr>\n",
       "  </tbody>\n",
       "</table>\n",
       "</div>"
      ],
      "text/plain": [
       "  topic_num  topic_prop\n",
       "0         1    0.069327\n",
       "1         2    0.041563\n",
       "2         3    0.082624\n",
       "3         4    0.058762\n",
       "4         5    0.054892"
      ]
     },
     "execution_count": 67,
     "metadata": {},
     "output_type": "execute_result"
    }
   ],
   "source": [
    "# df[df.topic == 6]['gamma'].mean()\n",
    "\n",
    "\n",
    "props = []\n",
    "for i in range(num_topics):\n",
    "    props.append([str(i+1), df[df.topic == i+1]['gamma'].mean()])\n",
    "\n",
    "df_prop = pd.DataFrame(props, columns = [\"topic_num\", \"topic_prop\"])\n",
    "df_prop.head()"
   ]
  },
  {
   "cell_type": "code",
   "execution_count": 68,
   "metadata": {},
   "outputs": [
    {
     "data": {
      "image/png": "[encoded data removed]",
      "text/plain": [
       "<Figure size 576x432 with 1 Axes>"
      ]
     },
     "metadata": {
      "needs_background": "light"
     },
     "output_type": "display_data"
    }
   ],
   "source": [
    "\n",
    "plt.figure(figsize=(8,6))\n",
    "df_prop = df_prop.sort_values(by=\"topic_prop\", ascending=True)\n",
    "plt.barh(df_prop[\"topic_num\"], df_prop[\"topic_prop\"])\n",
    "plt.xlabel('topic_prop')\n",
    "plt.ylabel('topic_num')\n",
    "plt.title('Topic Proportion')\n",
    "plt.show()"
   ]
  },
  {
   "cell_type": "markdown",
   "metadata": {},
   "source": [
    "# Topic Word Distribution"
   ]
  },
  {
   "cell_type": "code",
   "execution_count": 69,
   "metadata": {},
   "outputs": [
    {
     "data": {
      "text/html": [
       "<div>\n",
       "<style scoped>\n",
       "    .dataframe tbody tr th:only-of-type {\n",
       "        vertical-align: middle;\n",
       "    }\n",
       "\n",
       "    .dataframe tbody tr th {\n",
       "        vertical-align: top;\n",
       "    }\n",
       "\n",
       "    .dataframe thead th {\n",
       "        text-align: right;\n",
       "    }\n",
       "</style>\n",
       "<table border=\"1\" class=\"dataframe\">\n",
       "  <thead>\n",
       "    <tr style=\"text-align: right;\">\n",
       "      <th></th>\n",
       "      <th>topic</th>\n",
       "      <th>term</th>\n",
       "      <th>beta</th>\n",
       "    </tr>\n",
       "  </thead>\n",
       "  <tbody>\n",
       "    <tr>\n",
       "      <td>0</td>\n",
       "      <td>1</td>\n",
       "      <td>’_care</td>\n",
       "      <td>9.819446e-104</td>\n",
       "    </tr>\n",
       "    <tr>\n",
       "      <td>1</td>\n",
       "      <td>2</td>\n",
       "      <td>’_care</td>\n",
       "      <td>1.292321e-95</td>\n",
       "    </tr>\n",
       "    <tr>\n",
       "      <td>2</td>\n",
       "      <td>3</td>\n",
       "      <td>’_care</td>\n",
       "      <td>5.657391e-274</td>\n",
       "    </tr>\n",
       "    <tr>\n",
       "      <td>3</td>\n",
       "      <td>4</td>\n",
       "      <td>’_care</td>\n",
       "      <td>2.442556e-151</td>\n",
       "    </tr>\n",
       "    <tr>\n",
       "      <td>4</td>\n",
       "      <td>5</td>\n",
       "      <td>’_care</td>\n",
       "      <td>2.576796e-188</td>\n",
       "    </tr>\n",
       "  </tbody>\n",
       "</table>\n",
       "</div>"
      ],
      "text/plain": [
       "   topic    term           beta\n",
       "0      1  ’_care  9.819446e-104\n",
       "1      2  ’_care   1.292321e-95\n",
       "2      3  ’_care  5.657391e-274\n",
       "3      4  ’_care  2.442556e-151\n",
       "4      5  ’_care  2.576796e-188"
      ]
     },
     "execution_count": 69,
     "metadata": {},
     "output_type": "execute_result"
    }
   ],
   "source": [
    "path=f\"~/Desktop/R_js/data1/beta/procon{num_topics}_beta.csv\"\n",
    "df_beta = pd.read_csv(path)\n",
    "df_beta.head()"
   ]
  },
  {
   "cell_type": "code",
   "execution_count": 70,
   "metadata": {},
   "outputs": [],
   "source": [
    "df_prune = df_beta[df_beta.topic == 1].sort_values(by=\"beta\", ascending=False)[:10]"
   ]
  },
  {
   "cell_type": "code",
   "execution_count": 71,
   "metadata": {},
   "outputs": [
    {
     "data": {
      "image/png": "[encoded data removed]",
      "text/plain": [
       "<Figure size 432x288 with 1 Axes>"
      ]
     },
     "metadata": {
      "needs_background": "light"
     },
     "output_type": "display_data"
    }
   ],
   "source": [
    "sns.barplot(x = \"term\", y = \"beta\", data = df_prune)\n",
    "plt.show()"
   ]
  },
  {
   "cell_type": "code",
   "execution_count": 72,
   "metadata": {},
   "outputs": [],
   "source": [
    "df = df_beta.copy()\n",
    "\n",
    "topic_word_distr = []\n",
    "imp_words = []\n",
    "imp_word_prob = []\n",
    "terms = df[df.topic == 1].term.values.tolist()\n",
    "\n",
    "num_topics = len(df.topic.unique())\n",
    "for i in range(1, num_topics+1):\n",
    "    topic = df[df.topic == i] \n",
    "    vals = topic.beta.values.tolist()\n",
    "    topic_word_distr += [np.asarray(vals)]\n",
    "    words = [terms[i] for i in np.asarray(vals).argsort()[-10:][::-1].tolist()]\n",
    "    word_prob = [np.round(vals[i], 2) for i in np.asarray(vals).argsort()[-10:][::-1].tolist()]\n",
    "    imp_words.append(words)\n",
    "    imp_word_prob.append(word_prob)\n",
    "    \n",
    "# print(len(topic_word_distr))\n",
    "# print(len(imp_words))\n",
    "\n",
    "# print(imp_words)\n",
    "# print(imp_word_prob)"
   ]
  },
  {
   "cell_type": "code",
   "execution_count": 73,
   "metadata": {},
   "outputs": [
    {
     "data": {
      "image/png": "[encoded data removed]",
      "text/plain": [
       "<Figure size 432x288 with 1 Axes>"
      ]
     },
     "metadata": {
      "needs_background": "light"
     },
     "output_type": "display_data"
    }
   ],
   "source": [
    "import seaborn as sns\n",
    "import matplotlib.pyplot as plt\n",
    "\n",
    "sns.barplot(imp_words[0], imp_word_prob[0])\n",
    "plt.show()"
   ]
  },
  {
   "cell_type": "code",
   "execution_count": 74,
   "metadata": {},
   "outputs": [
    {
     "data": {
      "text/html": [
       "\n",
       "    <div class=\"bk-root\">\n",
       "        <a href=\"https://bokeh.pydata.org\" target=\"_blank\" class=\"bk-logo bk-logo-small bk-logo-notebook\"></a>\n",
       "        <span id=\"34781\">Loading BokehJS ...</span>\n",
       "    </div>"
      ]
     },
     "metadata": {},
     "output_type": "display_data"
    },
    {
     "data": {
      "application/javascript": [
       "\n",
       "(function(root) {\n",
       "  function now() {\n",
       "    return new Date();\n",
       "  }\n",
       "\n",
       "  var force = true;\n",
       "\n",
       "  if (typeof root._bokeh_onload_callbacks === \"undefined\" || force === true) {\n",
       "    root._bokeh_onload_callbacks = [];\n",
       "    root._bokeh_is_loading = undefined;\n",
       "  }\n",
       "\n",
       "  var JS_MIME_TYPE = 'application/javascript';\n",
       "  var HTML_MIME_TYPE = 'text/html';\n",
       "  var EXEC_MIME_TYPE = 'application/vnd.bokehjs_exec.v0+json';\n",
       "  var CLASS_NAME = 'output_bokeh rendered_html';\n",
       "\n",
       "  /**\n",
       "   * Render data to the DOM node\n",
       "   */\n",
       "  function render(props, node) {\n",
       "    var script = document.createElement(\"script\");\n",
       "    node.appendChild(script);\n",
       "  }\n",
       "\n",
       "  /**\n",
       "   * Handle when an output is cleared or removed\n",
       "   */\n",
       "  function handleClearOutput(event, handle) {\n",
       "    var cell = handle.cell;\n",
       "\n",
       "    var id = cell.output_area._bokeh_element_id;\n",
       "    var server_id = cell.output_area._bokeh_server_id;\n",
       "    // Clean up Bokeh references\n",
       "    if (id != null && id in Bokeh.index) {\n",
       "      Bokeh.index[id].model.document.clear();\n",
       "      delete Bokeh.index[id];\n",
       "    }\n",
       "\n",
       "    if (server_id !== undefined) {\n",
       "      // Clean up Bokeh references\n",
       "      var cmd = \"from bokeh.io.state import curstate; print(curstate().uuid_to_server['\" + server_id + \"'].get_sessions()[0].document.roots[0]._id)\";\n",
       "      cell.notebook.kernel.execute(cmd, {\n",
       "        iopub: {\n",
       "          output: function(msg) {\n",
       "            var id = msg.content.text.trim();\n",
       "            if (id in Bokeh.index) {\n",
       "              Bokeh.index[id].model.document.clear();\n",
       "              delete Bokeh.index[id];\n",
       "            }\n",
       "          }\n",
       "        }\n",
       "      });\n",
       "      // Destroy server and session\n",
       "      var cmd = \"import bokeh.io.notebook as ion; ion.destroy_server('\" + server_id + \"')\";\n",
       "      cell.notebook.kernel.execute(cmd);\n",
       "    }\n",
       "  }\n",
       "\n",
       "  /**\n",
       "   * Handle when a new output is added\n",
       "   */\n",
       "  function handleAddOutput(event, handle) {\n",
       "    var output_area = handle.output_area;\n",
       "    var output = handle.output;\n",
       "\n",
       "    // limit handleAddOutput to display_data with EXEC_MIME_TYPE content only\n",
       "    if ((output.output_type != \"display_data\") || (!output.data.hasOwnProperty(EXEC_MIME_TYPE))) {\n",
       "      return\n",
       "    }\n",
       "\n",
       "    var toinsert = output_area.element.find(\".\" + CLASS_NAME.split(' ')[0]);\n",
       "\n",
       "    if (output.metadata[EXEC_MIME_TYPE][\"id\"] !== undefined) {\n",
       "      toinsert[toinsert.length - 1].firstChild.textContent = output.data[JS_MIME_TYPE];\n",
       "      // store reference to embed id on output_area\n",
       "      output_area._bokeh_element_id = output.metadata[EXEC_MIME_TYPE][\"id\"];\n",
       "    }\n",
       "    if (output.metadata[EXEC_MIME_TYPE][\"server_id\"] !== undefined) {\n",
       "      var bk_div = document.createElement(\"div\");\n",
       "      bk_div.innerHTML = output.data[HTML_MIME_TYPE];\n",
       "      var script_attrs = bk_div.children[0].attributes;\n",
       "      for (var i = 0; i < script_attrs.length; i++) {\n",
       "        toinsert[toinsert.length - 1].firstChild.setAttribute(script_attrs[i].name, script_attrs[i].value);\n",
       "      }\n",
       "      // store reference to server id on output_area\n",
       "      output_area._bokeh_server_id = output.metadata[EXEC_MIME_TYPE][\"server_id\"];\n",
       "    }\n",
       "  }\n",
       "\n",
       "  function register_renderer(events, OutputArea) {\n",
       "\n",
       "    function append_mime(data, metadata, element) {\n",
       "      // create a DOM node to render to\n",
       "      var toinsert = this.create_output_subarea(\n",
       "        metadata,\n",
       "        CLASS_NAME,\n",
       "        EXEC_MIME_TYPE\n",
       "      );\n",
       "      this.keyboard_manager.register_events(toinsert);\n",
       "      // Render to node\n",
       "      var props = {data: data, metadata: metadata[EXEC_MIME_TYPE]};\n",
       "      render(props, toinsert[toinsert.length - 1]);\n",
       "      element.append(toinsert);\n",
       "      return toinsert\n",
       "    }\n",
       "\n",
       "    /* Handle when an output is cleared or removed */\n",
       "    events.on('clear_output.CodeCell', handleClearOutput);\n",
       "    events.on('delete.Cell', handleClearOutput);\n",
       "\n",
       "    /* Handle when a new output is added */\n",
       "    events.on('output_added.OutputArea', handleAddOutput);\n",
       "\n",
       "    /**\n",
       "     * Register the mime type and append_mime function with output_area\n",
       "     */\n",
       "    OutputArea.prototype.register_mime_type(EXEC_MIME_TYPE, append_mime, {\n",
       "      /* Is output safe? */\n",
       "      safe: true,\n",
       "      /* Index of renderer in `output_area.display_order` */\n",
       "      index: 0\n",
       "    });\n",
       "  }\n",
       "\n",
       "  // register the mime type if in Jupyter Notebook environment and previously unregistered\n",
       "  if (root.Jupyter !== undefined) {\n",
       "    var events = require('base/js/events');\n",
       "    var OutputArea = require('notebook/js/outputarea').OutputArea;\n",
       "\n",
       "    if (OutputArea.prototype.mime_types().indexOf(EXEC_MIME_TYPE) == -1) {\n",
       "      register_renderer(events, OutputArea);\n",
       "    }\n",
       "  }\n",
       "\n",
       "  \n",
       "  if (typeof (root._bokeh_timeout) === \"undefined\" || force === true) {\n",
       "    root._bokeh_timeout = Date.now() + 5000;\n",
       "    root._bokeh_failed_load = false;\n",
       "  }\n",
       "\n",
       "  var NB_LOAD_WARNING = {'data': {'text/html':\n",
       "     \"<div style='background-color: #fdd'>\\n\"+\n",
       "     \"<p>\\n\"+\n",
       "     \"BokehJS does not appear to have successfully loaded. If loading BokehJS from CDN, this \\n\"+\n",
       "     \"may be due to a slow or bad network connection. Possible fixes:\\n\"+\n",
       "     \"</p>\\n\"+\n",
       "     \"<ul>\\n\"+\n",
       "     \"<li>re-rerun `output_notebook()` to attempt to load from CDN again, or</li>\\n\"+\n",
       "     \"<li>use INLINE resources instead, as so:</li>\\n\"+\n",
       "     \"</ul>\\n\"+\n",
       "     \"<code>\\n\"+\n",
       "     \"from bokeh.resources import INLINE\\n\"+\n",
       "     \"output_notebook(resources=INLINE)\\n\"+\n",
       "     \"</code>\\n\"+\n",
       "     \"</div>\"}};\n",
       "\n",
       "  function display_loaded() {\n",
       "    var el = document.getElementById(\"34781\");\n",
       "    if (el != null) {\n",
       "      el.textContent = \"BokehJS is loading...\";\n",
       "    }\n",
       "    if (root.Bokeh !== undefined) {\n",
       "      if (el != null) {\n",
       "        el.textContent = \"BokehJS \" + root.Bokeh.version + \" successfully loaded.\";\n",
       "      }\n",
       "    } else if (Date.now() < root._bokeh_timeout) {\n",
       "      setTimeout(display_loaded, 100)\n",
       "    }\n",
       "  }\n",
       "\n",
       "\n",
       "  function run_callbacks() {\n",
       "    try {\n",
       "      root._bokeh_onload_callbacks.forEach(function(callback) {\n",
       "        if (callback != null)\n",
       "          callback();\n",
       "      });\n",
       "    } finally {\n",
       "      delete root._bokeh_onload_callbacks\n",
       "    }\n",
       "    console.debug(\"Bokeh: all callbacks have finished\");\n",
       "  }\n",
       "\n",
       "  function load_libs(css_urls, js_urls, callback) {\n",
       "    if (css_urls == null) css_urls = [];\n",
       "    if (js_urls == null) js_urls = [];\n",
       "\n",
       "    root._bokeh_onload_callbacks.push(callback);\n",
       "    if (root._bokeh_is_loading > 0) {\n",
       "      console.debug(\"Bokeh: BokehJS is being loaded, scheduling callback at\", now());\n",
       "      return null;\n",
       "    }\n",
       "    if (js_urls == null || js_urls.length === 0) {\n",
       "      run_callbacks();\n",
       "      return null;\n",
       "    }\n",
       "    console.debug(\"Bokeh: BokehJS not loaded, scheduling load and callback at\", now());\n",
       "    root._bokeh_is_loading = css_urls.length + js_urls.length;\n",
       "\n",
       "    function on_load() {\n",
       "      root._bokeh_is_loading--;\n",
       "      if (root._bokeh_is_loading === 0) {\n",
       "        console.debug(\"Bokeh: all BokehJS libraries/stylesheets loaded\");\n",
       "        run_callbacks()\n",
       "      }\n",
       "    }\n",
       "\n",
       "    function on_error() {\n",
       "      console.error(\"failed to load \" + url);\n",
       "    }\n",
       "\n",
       "    for (var i = 0; i < css_urls.length; i++) {\n",
       "      var url = css_urls[i];\n",
       "      const element = document.createElement(\"link\");\n",
       "      element.onload = on_load;\n",
       "      element.onerror = on_error;\n",
       "      element.rel = \"stylesheet\";\n",
       "      element.type = \"text/css\";\n",
       "      element.href = url;\n",
       "      console.debug(\"Bokeh: injecting link tag for BokehJS stylesheet: \", url);\n",
       "      document.body.appendChild(element);\n",
       "    }\n",
       "\n",
       "    for (var i = 0; i < js_urls.length; i++) {\n",
       "      var url = js_urls[i];\n",
       "      var element = document.createElement('script');\n",
       "      element.onload = on_load;\n",
       "      element.onerror = on_error;\n",
       "      element.async = false;\n",
       "      element.src = url;\n",
       "      console.debug(\"Bokeh: injecting script tag for BokehJS library: \", url);\n",
       "      document.head.appendChild(element);\n",
       "    }\n",
       "  };var element = document.getElementById(\"34781\");\n",
       "  if (element == null) {\n",
       "    console.error(\"Bokeh: ERROR: autoload.js configured with elementid '34781' but no matching script tag was found. \")\n",
       "    return false;\n",
       "  }\n",
       "\n",
       "  function inject_raw_css(css) {\n",
       "    const element = document.createElement(\"style\");\n",
       "    element.appendChild(document.createTextNode(css));\n",
       "    document.body.appendChild(element);\n",
       "  }\n",
       "\n",
       "  var js_urls = [\"https://cdn.pydata.org/bokeh/release/bokeh-1.3.4.min.js\", \"https://cdn.pydata.org/bokeh/release/bokeh-widgets-1.3.4.min.js\", \"https://cdn.pydata.org/bokeh/release/bokeh-tables-1.3.4.min.js\", \"https://cdn.pydata.org/bokeh/release/bokeh-gl-1.3.4.min.js\"];\n",
       "  var css_urls = [];\n",
       "\n",
       "  var inline_js = [\n",
       "    function(Bokeh) {\n",
       "      Bokeh.set_log_level(\"info\");\n",
       "    },\n",
       "    \n",
       "    function(Bokeh) {\n",
       "      \n",
       "    },\n",
       "    function(Bokeh) {} // ensure no trailing comma for IE\n",
       "  ];\n",
       "\n",
       "  function run_inline_js() {\n",
       "    \n",
       "    if ((root.Bokeh !== undefined) || (force === true)) {\n",
       "      for (var i = 0; i < inline_js.length; i++) {\n",
       "        inline_js[i].call(root, root.Bokeh);\n",
       "      }if (force === true) {\n",
       "        display_loaded();\n",
       "      }} else if (Date.now() < root._bokeh_timeout) {\n",
       "      setTimeout(run_inline_js, 100);\n",
       "    } else if (!root._bokeh_failed_load) {\n",
       "      console.log(\"Bokeh: BokehJS failed to load within specified timeout.\");\n",
       "      root._bokeh_failed_load = true;\n",
       "    } else if (force !== true) {\n",
       "      var cell = $(document.getElementById(\"34781\")).parents('.cell').data().cell;\n",
       "      cell.output_area.append_execute_result(NB_LOAD_WARNING)\n",
       "    }\n",
       "\n",
       "  }\n",
       "\n",
       "  if (root._bokeh_is_loading === 0) {\n",
       "    console.debug(\"Bokeh: BokehJS loaded, going straight to plotting\");\n",
       "    run_inline_js();\n",
       "  } else {\n",
       "    load_libs(css_urls, js_urls, function() {\n",
       "      console.debug(\"Bokeh: BokehJS plotting callback run at\", now());\n",
       "      run_inline_js();\n",
       "    });\n",
       "  }\n",
       "}(window));"
      ],
      "application/vnd.bokehjs_load.v0+json": "\n(function(root) {\n  function now() {\n    return new Date();\n  }\n\n  var force = true;\n\n  if (typeof root._bokeh_onload_callbacks === \"undefined\" || force === true) {\n    root._bokeh_onload_callbacks = [];\n    root._bokeh_is_loading = undefined;\n  }\n\n  \n\n  \n  if (typeof (root._bokeh_timeout) === \"undefined\" || force === true) {\n    root._bokeh_timeout = Date.now() + 5000;\n    root._bokeh_failed_load = false;\n  }\n\n  var NB_LOAD_WARNING = {'data': {'text/html':\n     \"<div style='background-color: #fdd'>\\n\"+\n     \"<p>\\n\"+\n     \"BokehJS does not appear to have successfully loaded. If loading BokehJS from CDN, this \\n\"+\n     \"may be due to a slow or bad network connection. Possible fixes:\\n\"+\n     \"</p>\\n\"+\n     \"<ul>\\n\"+\n     \"<li>re-rerun `output_notebook()` to attempt to load from CDN again, or</li>\\n\"+\n     \"<li>use INLINE resources instead, as so:</li>\\n\"+\n     \"</ul>\\n\"+\n     \"<code>\\n\"+\n     \"from bokeh.resources import INLINE\\n\"+\n     \"output_notebook(resources=INLINE)\\n\"+\n     \"</code>\\n\"+\n     \"</div>\"}};\n\n  function display_loaded() {\n    var el = document.getElementById(\"34781\");\n    if (el != null) {\n      el.textContent = \"BokehJS is loading...\";\n    }\n    if (root.Bokeh !== undefined) {\n      if (el != null) {\n        el.textContent = \"BokehJS \" + root.Bokeh.version + \" successfully loaded.\";\n      }\n    } else if (Date.now() < root._bokeh_timeout) {\n      setTimeout(display_loaded, 100)\n    }\n  }\n\n\n  function run_callbacks() {\n    try {\n      root._bokeh_onload_callbacks.forEach(function(callback) {\n        if (callback != null)\n          callback();\n      });\n    } finally {\n      delete root._bokeh_onload_callbacks\n    }\n    console.debug(\"Bokeh: all callbacks have finished\");\n  }\n\n  function load_libs(css_urls, js_urls, callback) {\n    if (css_urls == null) css_urls = [];\n    if (js_urls == null) js_urls = [];\n\n    root._bokeh_onload_callbacks.push(callback);\n    if (root._bokeh_is_loading > 0) {\n      console.debug(\"Bokeh: BokehJS is being loaded, scheduling callback at\", now());\n      return null;\n    }\n    if (js_urls == null || js_urls.length === 0) {\n      run_callbacks();\n      return null;\n    }\n    console.debug(\"Bokeh: BokehJS not loaded, scheduling load and callback at\", now());\n    root._bokeh_is_loading = css_urls.length + js_urls.length;\n\n    function on_load() {\n      root._bokeh_is_loading--;\n      if (root._bokeh_is_loading === 0) {\n        console.debug(\"Bokeh: all BokehJS libraries/stylesheets loaded\");\n        run_callbacks()\n      }\n    }\n\n    function on_error() {\n      console.error(\"failed to load \" + url);\n    }\n\n    for (var i = 0; i < css_urls.length; i++) {\n      var url = css_urls[i];\n      const element = document.createElement(\"link\");\n      element.onload = on_load;\n      element.onerror = on_error;\n      element.rel = \"stylesheet\";\n      element.type = \"text/css\";\n      element.href = url;\n      console.debug(\"Bokeh: injecting link tag for BokehJS stylesheet: \", url);\n      document.body.appendChild(element);\n    }\n\n    for (var i = 0; i < js_urls.length; i++) {\n      var url = js_urls[i];\n      var element = document.createElement('script');\n      element.onload = on_load;\n      element.onerror = on_error;\n      element.async = false;\n      element.src = url;\n      console.debug(\"Bokeh: injecting script tag for BokehJS library: \", url);\n      document.head.appendChild(element);\n    }\n  };var element = document.getElementById(\"34781\");\n  if (element == null) {\n    console.error(\"Bokeh: ERROR: autoload.js configured with elementid '34781' but no matching script tag was found. \")\n    return false;\n  }\n\n  function inject_raw_css(css) {\n    const element = document.createElement(\"style\");\n    element.appendChild(document.createTextNode(css));\n    document.body.appendChild(element);\n  }\n\n  var js_urls = [\"https://cdn.pydata.org/bokeh/release/bokeh-1.3.4.min.js\", \"https://cdn.pydata.org/bokeh/release/bokeh-widgets-1.3.4.min.js\", \"https://cdn.pydata.org/bokeh/release/bokeh-tables-1.3.4.min.js\", \"https://cdn.pydata.org/bokeh/release/bokeh-gl-1.3.4.min.js\"];\n  var css_urls = [];\n\n  var inline_js = [\n    function(Bokeh) {\n      Bokeh.set_log_level(\"info\");\n    },\n    \n    function(Bokeh) {\n      \n    },\n    function(Bokeh) {} // ensure no trailing comma for IE\n  ];\n\n  function run_inline_js() {\n    \n    if ((root.Bokeh !== undefined) || (force === true)) {\n      for (var i = 0; i < inline_js.length; i++) {\n        inline_js[i].call(root, root.Bokeh);\n      }if (force === true) {\n        display_loaded();\n      }} else if (Date.now() < root._bokeh_timeout) {\n      setTimeout(run_inline_js, 100);\n    } else if (!root._bokeh_failed_load) {\n      console.log(\"Bokeh: BokehJS failed to load within specified timeout.\");\n      root._bokeh_failed_load = true;\n    } else if (force !== true) {\n      var cell = $(document.getElementById(\"34781\")).parents('.cell').data().cell;\n      cell.output_area.append_execute_result(NB_LOAD_WARNING)\n    }\n\n  }\n\n  if (root._bokeh_is_loading === 0) {\n    console.debug(\"Bokeh: BokehJS loaded, going straight to plotting\");\n    run_inline_js();\n  } else {\n    load_libs(css_urls, js_urls, function() {\n      console.debug(\"Bokeh: BokehJS plotting callback run at\", now());\n      run_inline_js();\n    });\n  }\n}(window));"
     },
     "metadata": {},
     "output_type": "display_data"
    }
   ],
   "source": [
    "from bokeh.plotting import figure, show, output_notebook, save, output_file\n",
    "from bokeh.models import HoverTool, value, LabelSet, Legend, ColumnDataSource\n",
    "from bokeh.io import export_png\n",
    "output_notebook()"
   ]
  },
  {
   "cell_type": "code",
   "execution_count": 75,
   "metadata": {},
   "outputs": [
    {
     "data": {
      "text/html": [
       "\n",
       "\n",
       "\n",
       "\n",
       "\n",
       "\n",
       "  <div class=\"bk-root\" id=\"f0b59e41-1f42-4284-b966-ca2049a73fa2\" data-root-id=\"34783\"></div>\n"
      ]
     },
     "metadata": {},
     "output_type": "display_data"
    },
    {
     "data": {
      "application/javascript": [
       "(function(root) {\n",
       "  function embed_document(root) {\n",
       "    \n",
       "  var docs_json = {\"60a5a462-8913-4fbf-9b9f-c5bfea155cfd\":{\"roots\":{\"references\":[{\"attributes\":{\"below\":[{\"id\":\"34794\",\"type\":\"CategoricalAxis\"}],\"center\":[{\"id\":\"34797\",\"type\":\"Grid\"},{\"id\":\"34802\",\"type\":\"Grid\"}],\"left\":[{\"id\":\"34798\",\"type\":\"LinearAxis\"}],\"plot_height\":250,\"plot_width\":400,\"renderers\":[{\"id\":\"34809\",\"type\":\"GlyphRenderer\"}],\"title\":{\"id\":\"34784\",\"type\":\"Title\"},\"toolbar\":{\"id\":\"34804\",\"type\":\"Toolbar\"},\"toolbar_location\":null,\"x_range\":{\"id\":\"34786\",\"type\":\"FactorRange\"},\"x_scale\":{\"id\":\"34790\",\"type\":\"CategoricalScale\"},\"y_range\":{\"id\":\"34788\",\"type\":\"DataRange1d\"},\"y_scale\":{\"id\":\"34792\",\"type\":\"LinearScale\"}},\"id\":\"34783\",\"subtype\":\"Figure\",\"type\":\"Plot\"},{\"attributes\":{\"fill_color\":{\"value\":\"#1f77b4\"},\"line_color\":{\"value\":\"#1f77b4\"},\"top\":{\"field\":\"top\"},\"width\":{\"value\":0.8},\"x\":{\"field\":\"x\"}},\"id\":\"34807\",\"type\":\"VBar\"},{\"attributes\":{},\"id\":\"34816\",\"type\":\"UnionRenderers\"},{\"attributes\":{\"active_drag\":\"auto\",\"active_inspect\":\"auto\",\"active_multi\":null,\"active_scroll\":\"auto\",\"active_tap\":\"auto\",\"tools\":[{\"id\":\"34803\",\"type\":\"HoverTool\"}]},\"id\":\"34804\",\"type\":\"Toolbar\"},{\"attributes\":{\"callback\":null,\"data\":{\"top\":{\"__ndarray__\":\"KVyPwvUovD8K16NwPQq3P5qZmZmZmak/exSuR+F6pD+4HoXrUbieP7gehetRuJ4/exSuR+F6lD97FK5H4XqUP3sUrkfhepQ/exSuR+F6lD8=\",\"dtype\":\"float64\",\"shape\":[10]},\"x\":[\"advanc\",\"opportun\",\"stress\",\"littl\",\"career\",\"support\",\"limit\",\"leadership\",\"expect\",\"upper\"]},\"selected\":{\"id\":\"34817\",\"type\":\"Selection\"},\"selection_policy\":{\"id\":\"34816\",\"type\":\"UnionRenderers\"}},\"id\":\"34782\",\"type\":\"ColumnDataSource\"},{\"attributes\":{\"callback\":null,\"tooltips\":[[\"Prob\",\"@top\"]]},\"id\":\"34803\",\"type\":\"HoverTool\"},{\"attributes\":{},\"id\":\"34790\",\"type\":\"CategoricalScale\"},{\"attributes\":{\"ticker\":{\"id\":\"34795\",\"type\":\"CategoricalTicker\"}},\"id\":\"34797\",\"type\":\"Grid\"},{\"attributes\":{},\"id\":\"34799\",\"type\":\"BasicTicker\"},{\"attributes\":{},\"id\":\"34792\",\"type\":\"LinearScale\"},{\"attributes\":{},\"id\":\"34812\",\"type\":\"BasicTickFormatter\"},{\"attributes\":{\"source\":{\"id\":\"34782\",\"type\":\"ColumnDataSource\"}},\"id\":\"34810\",\"type\":\"CDSView\"},{\"attributes\":{\"dimension\":1,\"ticker\":{\"id\":\"34799\",\"type\":\"BasicTicker\"}},\"id\":\"34802\",\"type\":\"Grid\"},{\"attributes\":{},\"id\":\"34817\",\"type\":\"Selection\"},{\"attributes\":{\"callback\":null},\"id\":\"34788\",\"type\":\"DataRange1d\"},{\"attributes\":{},\"id\":\"34795\",\"type\":\"CategoricalTicker\"},{\"attributes\":{\"text\":\"Top Ten Words\"},\"id\":\"34784\",\"type\":\"Title\"},{\"attributes\":{\"formatter\":{\"id\":\"34814\",\"type\":\"CategoricalTickFormatter\"},\"major_label_orientation\":1.5707963267948966,\"ticker\":{\"id\":\"34795\",\"type\":\"CategoricalTicker\"}},\"id\":\"34794\",\"type\":\"CategoricalAxis\"},{\"attributes\":{},\"id\":\"34814\",\"type\":\"CategoricalTickFormatter\"},{\"attributes\":{\"data_source\":{\"id\":\"34782\",\"type\":\"ColumnDataSource\"},\"glyph\":{\"id\":\"34807\",\"type\":\"VBar\"},\"hover_glyph\":null,\"muted_glyph\":null,\"nonselection_glyph\":{\"id\":\"34808\",\"type\":\"VBar\"},\"selection_glyph\":null,\"view\":{\"id\":\"34810\",\"type\":\"CDSView\"}},\"id\":\"34809\",\"type\":\"GlyphRenderer\"},{\"attributes\":{\"callback\":null,\"factors\":[\"advanc\",\"opportun\",\"stress\",\"littl\",\"career\",\"support\",\"limit\",\"leadership\",\"expect\",\"upper\"]},\"id\":\"34786\",\"type\":\"FactorRange\"},{\"attributes\":{\"formatter\":{\"id\":\"34812\",\"type\":\"BasicTickFormatter\"},\"ticker\":{\"id\":\"34799\",\"type\":\"BasicTicker\"}},\"id\":\"34798\",\"type\":\"LinearAxis\"},{\"attributes\":{\"fill_alpha\":{\"value\":0.1},\"fill_color\":{\"value\":\"#1f77b4\"},\"line_alpha\":{\"value\":0.1},\"line_color\":{\"value\":\"#1f77b4\"},\"top\":{\"field\":\"top\"},\"width\":{\"value\":0.8},\"x\":{\"field\":\"x\"}},\"id\":\"34808\",\"type\":\"VBar\"}],\"root_ids\":[\"34783\"]},\"title\":\"Bokeh Application\",\"version\":\"1.3.4\"}};\n",
       "  var render_items = [{\"docid\":\"60a5a462-8913-4fbf-9b9f-c5bfea155cfd\",\"roots\":{\"34783\":\"f0b59e41-1f42-4284-b966-ca2049a73fa2\"}}];\n",
       "  root.Bokeh.embed.embed_items_notebook(docs_json, render_items);\n",
       "\n",
       "  }\n",
       "  if (root.Bokeh !== undefined) {\n",
       "    embed_document(root);\n",
       "  } else {\n",
       "    var attempts = 0;\n",
       "    var timer = setInterval(function(root) {\n",
       "      if (root.Bokeh !== undefined) {\n",
       "        embed_document(root);\n",
       "        clearInterval(timer);\n",
       "      }\n",
       "      attempts++;\n",
       "      if (attempts > 100) {\n",
       "        console.log(\"Bokeh: ERROR: Unable to run BokehJS code because BokehJS library is missing\");\n",
       "        clearInterval(timer);\n",
       "      }\n",
       "    }, 10, root)\n",
       "  }\n",
       "})(window);"
      ],
      "application/vnd.bokehjs_exec.v0+json": ""
     },
     "metadata": {
      "application/vnd.bokehjs_exec.v0+json": {
       "id": "34783"
      }
     },
     "output_type": "display_data"
    }
   ],
   "source": [
    "import math\n",
    "df_ = pd.DataFrame()\n",
    "df_[\"x\"] = imp_words[0]\n",
    "df_[\"top\"] = imp_word_prob[0]\n",
    "\n",
    "source = ColumnDataSource(dict(\n",
    "    x=df_['x'],\n",
    "    top=df_['top']\n",
    "))\n",
    "\n",
    "# p = figure(plot_width=1000, plot_height=700,\n",
    "#                      title=title, tools=\"pan,wheel_zoom,box_zoom,reset,hover,previewsave\",\n",
    "#                      x_axis_type=None, y_axis_type=None, min_border=1)\n",
    "\n",
    "p = figure(x_range=imp_words[0], plot_height=250, plot_width=400, title=\"Top Ten Words\",\n",
    "           toolbar_location=None, tools=\"hover\")\n",
    "\n",
    "p.vbar(x='x', top= 'top', width=0.8, source=source)#'msize', )\n",
    "\n",
    "# hover tools\n",
    "hover = p.select(dict(type=HoverTool))\n",
    "hover.tooltips = { \"Prob\": \"@top\"}\n",
    "p.xaxis.major_label_orientation = math.pi/2\n",
    "# plot_lda.legend.location = \"top_left\"\n",
    "\n",
    "show(p)"
   ]
  },
  {
   "cell_type": "code",
   "execution_count": 76,
   "metadata": {
    "scrolled": true
   },
   "outputs": [
    {
     "data": {
      "text/html": [
       "\n",
       "\n",
       "\n",
       "\n",
       "\n",
       "\n",
       "  <div class=\"bk-root\" id=\"ba5a2867-aa7a-46a0-80d8-d8328ca4b429\" data-root-id=\"36871\"></div>\n"
      ]
     },
     "metadata": {},
     "output_type": "display_data"
    },
    {
     "data": {
      "application/javascript": [
       "(function(root) {\n",
       "  function embed_document(root) {\n",
       "    \n",
       "  var docs_json = {\"14cf6f59-5e83-490a-adc5-1c1fb67a638e\":{\"roots\":{\"references\":[{\"attributes\":{\"children\":[{\"id\":\"36870\",\"type\":\"ToolbarBox\"},{\"id\":\"36868\",\"type\":\"GridBox\"}]},\"id\":\"36871\",\"type\":\"Column\"},{\"attributes\":{\"active_drag\":\"auto\",\"active_inspect\":\"auto\",\"active_multi\":null,\"active_scroll\":\"auto\",\"active_tap\":\"auto\",\"tools\":[{\"id\":\"36724\",\"type\":\"HoverTool\"}]},\"id\":\"36725\",\"type\":\"Toolbar\"},{\"attributes\":{\"fill_alpha\":{\"value\":0.1},\"fill_color\":{\"value\":\"#1f77b4\"},\"line_alpha\":{\"value\":0.1},\"line_color\":{\"value\":\"#1f77b4\"},\"top\":{\"field\":\"top\"},\"width\":{\"value\":0.8},\"x\":{\"field\":\"x\"}},\"id\":\"36729\",\"type\":\"VBar\"},{\"attributes\":{},\"id\":\"36594\",\"type\":\"Selection\"},{\"attributes\":{\"below\":[{\"id\":\"36607\",\"type\":\"CategoricalAxis\"}],\"center\":[{\"id\":\"36610\",\"type\":\"Grid\"},{\"id\":\"36615\",\"type\":\"Grid\"}],\"left\":[{\"id\":\"36611\",\"type\":\"LinearAxis\"}],\"plot_height\":250,\"plot_width\":400,\"renderers\":[{\"id\":\"36622\",\"type\":\"GlyphRenderer\"}],\"title\":{\"id\":\"36597\",\"type\":\"Title\"},\"toolbar\":{\"id\":\"36617\",\"type\":\"Toolbar\"},\"toolbar_location\":null,\"x_range\":{\"id\":\"36599\",\"type\":\"FactorRange\"},\"x_scale\":{\"id\":\"36603\",\"type\":\"CategoricalScale\"},\"y_range\":{\"id\":\"36601\",\"type\":\"DataRange1d\"},\"y_scale\":{\"id\":\"36605\",\"type\":\"LinearScale\"}},\"id\":\"36596\",\"subtype\":\"Figure\",\"type\":\"Plot\"},{\"attributes\":{\"callback\":null,\"factors\":[\"manag\",\"poor\",\"poor_manag\",\"due\",\"cut\",\"rais\",\"extrem\",\"terribl\",\"horribl\",\"polit\"]},\"id\":\"36599\",\"type\":\"FactorRange\"},{\"attributes\":{},\"id\":\"36733\",\"type\":\"BasicTickFormatter\"},{\"attributes\":{\"fill_color\":{\"value\":\"#1f77b4\"},\"line_color\":{\"value\":\"#1f77b4\"},\"top\":{\"field\":\"top\"},\"width\":{\"value\":0.8},\"x\":{\"field\":\"x\"}},\"id\":\"36620\",\"type\":\"VBar\"},{\"attributes\":{\"data_source\":{\"id\":\"36703\",\"type\":\"ColumnDataSource\"},\"glyph\":{\"id\":\"36728\",\"type\":\"VBar\"},\"hover_glyph\":null,\"muted_glyph\":null,\"nonselection_glyph\":{\"id\":\"36729\",\"type\":\"VBar\"},\"selection_glyph\":null,\"view\":{\"id\":\"36731\",\"type\":\"CDSView\"}},\"id\":\"36730\",\"type\":\"GlyphRenderer\"},{\"attributes\":{\"source\":{\"id\":\"36703\",\"type\":\"ColumnDataSource\"}},\"id\":\"36731\",\"type\":\"CDSView\"},{\"attributes\":{\"fill_color\":{\"value\":\"#1f77b4\"},\"line_color\":{\"value\":\"#1f77b4\"},\"top\":{\"field\":\"top\"},\"width\":{\"value\":0.8},\"x\":{\"field\":\"x\"}},\"id\":\"36656\",\"type\":\"VBar\"},{\"attributes\":{},\"id\":\"36737\",\"type\":\"UnionRenderers\"},{\"attributes\":{},\"id\":\"36603\",\"type\":\"CategoricalScale\"},{\"attributes\":{},\"id\":\"36735\",\"type\":\"CategoricalTickFormatter\"},{\"attributes\":{\"align\":\"center\",\"text\":\"Topic: 1\"},\"id\":\"36165\",\"type\":\"Title\"},{\"attributes\":{\"callback\":null},\"id\":\"36601\",\"type\":\"DataRange1d\"},{\"attributes\":{},\"id\":\"36605\",\"type\":\"LinearScale\"},{\"attributes\":{},\"id\":\"36738\",\"type\":\"Selection\"},{\"attributes\":{\"fill_color\":{\"value\":\"#1f77b4\"},\"line_color\":{\"value\":\"#1f77b4\"},\"top\":{\"field\":\"top\"},\"width\":{\"value\":0.8},\"x\":{\"field\":\"x\"}},\"id\":\"36188\",\"type\":\"VBar\"},{\"attributes\":{\"axis_label\":\"Terms\",\"formatter\":{\"id\":\"36627\",\"type\":\"CategoricalTickFormatter\"},\"major_label_orientation\":1.5707963267948966,\"ticker\":{\"id\":\"36608\",\"type\":\"CategoricalTicker\"}},\"id\":\"36607\",\"type\":\"CategoricalAxis\"},{\"attributes\":{\"dimension\":1,\"ticker\":{\"id\":\"36612\",\"type\":\"BasicTicker\"}},\"id\":\"36615\",\"type\":\"Grid\"},{\"attributes\":{},\"id\":\"36608\",\"type\":\"CategoricalTicker\"},{\"attributes\":{\"ticker\":{\"id\":\"36608\",\"type\":\"CategoricalTicker\"}},\"id\":\"36610\",\"type\":\"Grid\"},{\"attributes\":{},\"id\":\"36612\",\"type\":\"BasicTicker\"},{\"attributes\":{\"axis_label\":\"Term-Prob\",\"formatter\":{\"id\":\"36625\",\"type\":\"BasicTickFormatter\"},\"ticker\":{\"id\":\"36612\",\"type\":\"BasicTicker\"}},\"id\":\"36611\",\"type\":\"LinearAxis\"},{\"attributes\":{\"fill_alpha\":{\"value\":0.1},\"fill_color\":{\"value\":\"#1f77b4\"},\"line_alpha\":{\"value\":0.1},\"line_color\":{\"value\":\"#1f77b4\"},\"top\":{\"field\":\"top\"},\"width\":{\"value\":0.8},\"x\":{\"field\":\"x\"}},\"id\":\"36621\",\"type\":\"VBar\"},{\"attributes\":{},\"id\":\"36661\",\"type\":\"BasicTickFormatter\"},{\"attributes\":{\"active_drag\":\"auto\",\"active_inspect\":\"auto\",\"active_multi\":null,\"active_scroll\":\"auto\",\"active_tap\":\"auto\",\"tools\":[{\"id\":\"36616\",\"type\":\"HoverTool\"}]},\"id\":\"36617\",\"type\":\"Toolbar\"},{\"attributes\":{\"callback\":null,\"tooltips\":[[\"Prob\",\"@top\"]]},\"id\":\"36616\",\"type\":\"HoverTool\"},{\"attributes\":{},\"id\":\"36625\",\"type\":\"BasicTickFormatter\"},{\"attributes\":{\"data_source\":{\"id\":\"36595\",\"type\":\"ColumnDataSource\"},\"glyph\":{\"id\":\"36620\",\"type\":\"VBar\"},\"hover_glyph\":null,\"muted_glyph\":null,\"nonselection_glyph\":{\"id\":\"36621\",\"type\":\"VBar\"},\"selection_glyph\":null,\"view\":{\"id\":\"36623\",\"type\":\"CDSView\"}},\"id\":\"36622\",\"type\":\"GlyphRenderer\"},{\"attributes\":{\"source\":{\"id\":\"36595\",\"type\":\"ColumnDataSource\"}},\"id\":\"36623\",\"type\":\"CDSView\"},{\"attributes\":{\"callback\":null,\"data\":{\"top\":{\"__ndarray__\":\"KVyPwvUovD8K16NwPQq3P5qZmZmZmak/exSuR+F6pD+4HoXrUbieP7gehetRuJ4/exSuR+F6lD97FK5H4XqUP3sUrkfhepQ/exSuR+F6lD8=\",\"dtype\":\"float64\",\"shape\":[10]},\"x\":[\"advanc\",\"opportun\",\"stress\",\"littl\",\"career\",\"support\",\"limit\",\"leadership\",\"expect\",\"upper\"]},\"selected\":{\"id\":\"36198\",\"type\":\"Selection\"},\"selection_policy\":{\"id\":\"36197\",\"type\":\"UnionRenderers\"}},\"id\":\"36163\",\"type\":\"ColumnDataSource\"},{\"attributes\":{\"callback\":null,\"data\":{\"top\":{\"__ndarray__\":\"pHA9CtejwD+amZmZmZmpP3sUrkfheqQ/exSuR+F6pD+4HoXrUbieP7gehetRuJ4/uB6F61G4nj+4HoXrUbieP3sUrkfhepQ/exSuR+F6lD8=\",\"dtype\":\"float64\",\"shape\":[10]},\"x\":[\"team\",\"bonus\",\"medic\",\"pto\",\"program\",\"develop\",\"reward\",\"best\",\"benifit\",\"reimburs\"]},\"selected\":{\"id\":\"36738\",\"type\":\"Selection\"},\"selection_policy\":{\"id\":\"36737\",\"type\":\"UnionRenderers\"}},\"id\":\"36703\",\"type\":\"ColumnDataSource\"},{\"attributes\":{},\"id\":\"36629\",\"type\":\"UnionRenderers\"},{\"attributes\":{},\"id\":\"36627\",\"type\":\"CategoricalTickFormatter\"},{\"attributes\":{\"toolbar\":{\"id\":\"36869\",\"type\":\"ProxyToolbar\"},\"toolbar_location\":\"above\"},\"id\":\"36870\",\"type\":\"ToolbarBox\"},{\"attributes\":{},\"id\":\"36630\",\"type\":\"Selection\"},{\"attributes\":{\"callback\":null,\"factors\":[\"advanc\",\"opportun\",\"stress\",\"littl\",\"career\",\"support\",\"limit\",\"leadership\",\"expect\",\"upper\"]},\"id\":\"36167\",\"type\":\"FactorRange\"},{\"attributes\":{\"tools\":[{\"id\":\"36184\",\"type\":\"HoverTool\"},{\"id\":\"36220\",\"type\":\"HoverTool\"},{\"id\":\"36256\",\"type\":\"HoverTool\"},{\"id\":\"36292\",\"type\":\"HoverTool\"},{\"id\":\"36328\",\"type\":\"HoverTool\"},{\"id\":\"36364\",\"type\":\"HoverTool\"},{\"id\":\"36400\",\"type\":\"HoverTool\"},{\"id\":\"36436\",\"type\":\"HoverTool\"},{\"id\":\"36472\",\"type\":\"HoverTool\"},{\"id\":\"36508\",\"type\":\"HoverTool\"},{\"id\":\"36544\",\"type\":\"HoverTool\"},{\"id\":\"36580\",\"type\":\"HoverTool\"},{\"id\":\"36616\",\"type\":\"HoverTool\"},{\"id\":\"36652\",\"type\":\"HoverTool\"},{\"id\":\"36688\",\"type\":\"HoverTool\"},{\"id\":\"36724\",\"type\":\"HoverTool\"}]},\"id\":\"36869\",\"type\":\"ProxyToolbar\"},{\"attributes\":{\"below\":[{\"id\":\"36643\",\"type\":\"CategoricalAxis\"}],\"center\":[{\"id\":\"36646\",\"type\":\"Grid\"},{\"id\":\"36651\",\"type\":\"Grid\"}],\"left\":[{\"id\":\"36647\",\"type\":\"LinearAxis\"}],\"plot_height\":250,\"plot_width\":400,\"renderers\":[{\"id\":\"36658\",\"type\":\"GlyphRenderer\"}],\"title\":{\"id\":\"36633\",\"type\":\"Title\"},\"toolbar\":{\"id\":\"36653\",\"type\":\"Toolbar\"},\"toolbar_location\":null,\"x_range\":{\"id\":\"36635\",\"type\":\"FactorRange\"},\"x_scale\":{\"id\":\"36639\",\"type\":\"CategoricalScale\"},\"y_range\":{\"id\":\"36637\",\"type\":\"DataRange1d\"},\"y_scale\":{\"id\":\"36641\",\"type\":\"LinearScale\"}},\"id\":\"36632\",\"subtype\":\"Figure\",\"type\":\"Plot\"},{\"attributes\":{\"align\":\"center\",\"text\":\"Topic: 14\"},\"id\":\"36633\",\"type\":\"Title\"},{\"attributes\":{},\"id\":\"36377\",\"type\":\"UnionRenderers\"},{\"attributes\":{},\"id\":\"36288\",\"type\":\"BasicTicker\"},{\"attributes\":{},\"id\":\"36375\",\"type\":\"CategoricalTickFormatter\"},{\"attributes\":{\"dimension\":1,\"ticker\":{\"id\":\"36288\",\"type\":\"BasicTicker\"}},\"id\":\"36291\",\"type\":\"Grid\"},{\"attributes\":{},\"id\":\"36378\",\"type\":\"Selection\"},{\"attributes\":{\"active_drag\":\"auto\",\"active_inspect\":\"auto\",\"active_multi\":null,\"active_scroll\":\"auto\",\"active_tap\":\"auto\",\"tools\":[{\"id\":\"36292\",\"type\":\"HoverTool\"}]},\"id\":\"36293\",\"type\":\"Toolbar\"},{\"attributes\":{\"callback\":null,\"data\":{\"top\":{\"__ndarray__\":\"exSuR+F6tD/sUbgeheuxP7gehetRuK4/uB6F61G4rj+amZmZmZmpP3sUrkfheqQ/exSuR+F6pD97FK5H4XqkP3sUrkfheqQ/uB6F61G4nj8=\",\"dtype\":\"float64\",\"shape\":[10]},\"x\":[\"flexibl\",\"life\",\"balanc\",\"schedul\",\"life_balanc\",\"health\",\"compens\",\"insur\",\"product\",\"flexibl_schedul\"]},\"selected\":{\"id\":\"36450\",\"type\":\"Selection\"},\"selection_policy\":{\"id\":\"36449\",\"type\":\"UnionRenderers\"}},\"id\":\"36415\",\"type\":\"ColumnDataSource\"},{\"attributes\":{\"below\":[{\"id\":\"36391\",\"type\":\"CategoricalAxis\"}],\"center\":[{\"id\":\"36394\",\"type\":\"Grid\"},{\"id\":\"36399\",\"type\":\"Grid\"}],\"left\":[{\"id\":\"36395\",\"type\":\"LinearAxis\"}],\"plot_height\":250,\"plot_width\":400,\"renderers\":[{\"id\":\"36406\",\"type\":\"GlyphRenderer\"}],\"title\":{\"id\":\"36381\",\"type\":\"Title\"},\"toolbar\":{\"id\":\"36401\",\"type\":\"Toolbar\"},\"toolbar_location\":null,\"x_range\":{\"id\":\"36383\",\"type\":\"FactorRange\"},\"x_scale\":{\"id\":\"36387\",\"type\":\"CategoricalScale\"},\"y_range\":{\"id\":\"36385\",\"type\":\"DataRange1d\"},\"y_scale\":{\"id\":\"36389\",\"type\":\"LinearScale\"}},\"id\":\"36380\",\"subtype\":\"Figure\",\"type\":\"Plot\"},{\"attributes\":{\"callback\":null,\"tooltips\":[[\"Prob\",\"@top\"]]},\"id\":\"36292\",\"type\":\"HoverTool\"},{\"attributes\":{\"fill_alpha\":{\"value\":0.1},\"fill_color\":{\"value\":\"#1f77b4\"},\"line_alpha\":{\"value\":0.1},\"line_color\":{\"value\":\"#1f77b4\"},\"top\":{\"field\":\"top\"},\"width\":{\"value\":0.8},\"x\":{\"field\":\"x\"}},\"id\":\"36297\",\"type\":\"VBar\"},{\"attributes\":{\"callback\":null,\"factors\":[\"time\",\"paid\",\"vacat\",\"week\",\"holiday\",\"famili\",\"call\",\"person\",\"weekend\",\"sick\"]},\"id\":\"36383\",\"type\":\"FactorRange\"},{\"attributes\":{},\"id\":\"36301\",\"type\":\"BasicTickFormatter\"},{\"attributes\":{\"fill_color\":{\"value\":\"#1f77b4\"},\"line_color\":{\"value\":\"#1f77b4\"},\"top\":{\"field\":\"top\"},\"width\":{\"value\":0.8},\"x\":{\"field\":\"x\"}},\"id\":\"36404\",\"type\":\"VBar\"},{\"attributes\":{\"data_source\":{\"id\":\"36271\",\"type\":\"ColumnDataSource\"},\"glyph\":{\"id\":\"36296\",\"type\":\"VBar\"},\"hover_glyph\":null,\"muted_glyph\":null,\"nonselection_glyph\":{\"id\":\"36297\",\"type\":\"VBar\"},\"selection_glyph\":null,\"view\":{\"id\":\"36299\",\"type\":\"CDSView\"}},\"id\":\"36298\",\"type\":\"GlyphRenderer\"},{\"attributes\":{\"source\":{\"id\":\"36271\",\"type\":\"ColumnDataSource\"}},\"id\":\"36299\",\"type\":\"CDSView\"},{\"attributes\":{\"align\":\"center\",\"text\":\"Topic: 6\"},\"id\":\"36345\",\"type\":\"Title\"},{\"attributes\":{},\"id\":\"36305\",\"type\":\"UnionRenderers\"},{\"attributes\":{},\"id\":\"36387\",\"type\":\"CategoricalScale\"},{\"attributes\":{},\"id\":\"36303\",\"type\":\"CategoricalTickFormatter\"},{\"attributes\":{\"callback\":null},\"id\":\"36385\",\"type\":\"DataRange1d\"},{\"attributes\":{},\"id\":\"36389\",\"type\":\"LinearScale\"},{\"attributes\":{},\"id\":\"36306\",\"type\":\"Selection\"},{\"attributes\":{\"axis_label\":\"Terms\",\"formatter\":{\"id\":\"36411\",\"type\":\"CategoricalTickFormatter\"},\"major_label_orientation\":1.5707963267948966,\"ticker\":{\"id\":\"36392\",\"type\":\"CategoricalTicker\"}},\"id\":\"36391\",\"type\":\"CategoricalAxis\"},{\"attributes\":{\"dimension\":1,\"ticker\":{\"id\":\"36396\",\"type\":\"BasicTicker\"}},\"id\":\"36399\",\"type\":\"Grid\"},{\"attributes\":{},\"id\":\"36392\",\"type\":\"CategoricalTicker\"},{\"attributes\":{\"below\":[{\"id\":\"36319\",\"type\":\"CategoricalAxis\"}],\"center\":[{\"id\":\"36322\",\"type\":\"Grid\"},{\"id\":\"36327\",\"type\":\"Grid\"}],\"left\":[{\"id\":\"36323\",\"type\":\"LinearAxis\"}],\"plot_height\":250,\"plot_width\":400,\"renderers\":[{\"id\":\"36334\",\"type\":\"GlyphRenderer\"}],\"title\":{\"id\":\"36309\",\"type\":\"Title\"},\"toolbar\":{\"id\":\"36329\",\"type\":\"Toolbar\"},\"toolbar_location\":null,\"x_range\":{\"id\":\"36311\",\"type\":\"FactorRange\"},\"x_scale\":{\"id\":\"36315\",\"type\":\"CategoricalScale\"},\"y_range\":{\"id\":\"36313\",\"type\":\"DataRange1d\"},\"y_scale\":{\"id\":\"36317\",\"type\":\"LinearScale\"}},\"id\":\"36308\",\"subtype\":\"Figure\",\"type\":\"Plot\"},{\"attributes\":{\"ticker\":{\"id\":\"36392\",\"type\":\"CategoricalTicker\"}},\"id\":\"36394\",\"type\":\"Grid\"},{\"attributes\":{\"callback\":null,\"factors\":[\"day\",\"shift\",\"help\",\"salari\",\"overtim\",\"growth\",\"secur\",\"option\",\"stock\",\"requir\"]},\"id\":\"36311\",\"type\":\"FactorRange\"},{\"attributes\":{},\"id\":\"36396\",\"type\":\"BasicTicker\"},{\"attributes\":{\"axis_label\":\"Term-Prob\",\"formatter\":{\"id\":\"36409\",\"type\":\"BasicTickFormatter\"},\"ticker\":{\"id\":\"36396\",\"type\":\"BasicTicker\"}},\"id\":\"36395\",\"type\":\"LinearAxis\"},{\"attributes\":{\"fill_color\":{\"value\":\"#1f77b4\"},\"line_color\":{\"value\":\"#1f77b4\"},\"top\":{\"field\":\"top\"},\"width\":{\"value\":0.8},\"x\":{\"field\":\"x\"}},\"id\":\"36332\",\"type\":\"VBar\"},{\"attributes\":{\"fill_alpha\":{\"value\":0.1},\"fill_color\":{\"value\":\"#1f77b4\"},\"line_alpha\":{\"value\":0.1},\"line_color\":{\"value\":\"#1f77b4\"},\"top\":{\"field\":\"top\"},\"width\":{\"value\":0.8},\"x\":{\"field\":\"x\"}},\"id\":\"36405\",\"type\":\"VBar\"},{\"attributes\":{\"active_drag\":\"auto\",\"active_inspect\":\"auto\",\"active_multi\":null,\"active_scroll\":\"auto\",\"active_tap\":\"auto\",\"tools\":[{\"id\":\"36400\",\"type\":\"HoverTool\"}]},\"id\":\"36401\",\"type\":\"Toolbar\"},{\"attributes\":{\"callback\":null,\"tooltips\":[[\"Prob\",\"@top\"]]},\"id\":\"36400\",\"type\":\"HoverTool\"},{\"attributes\":{\"align\":\"center\",\"text\":\"Topic: 7\"},\"id\":\"36381\",\"type\":\"Title\"},{\"attributes\":{},\"id\":\"36315\",\"type\":\"CategoricalScale\"},{\"attributes\":{\"callback\":null},\"id\":\"36313\",\"type\":\"DataRange1d\"},{\"attributes\":{},\"id\":\"36317\",\"type\":\"LinearScale\"},{\"attributes\":{},\"id\":\"36409\",\"type\":\"BasicTickFormatter\"},{\"attributes\":{\"axis_label\":\"Terms\",\"formatter\":{\"id\":\"36339\",\"type\":\"CategoricalTickFormatter\"},\"major_label_orientation\":1.5707963267948966,\"ticker\":{\"id\":\"36320\",\"type\":\"CategoricalTicker\"}},\"id\":\"36319\",\"type\":\"CategoricalAxis\"},{\"attributes\":{\"data_source\":{\"id\":\"36379\",\"type\":\"ColumnDataSource\"},\"glyph\":{\"id\":\"36404\",\"type\":\"VBar\"},\"hover_glyph\":null,\"muted_glyph\":null,\"nonselection_glyph\":{\"id\":\"36405\",\"type\":\"VBar\"},\"selection_glyph\":null,\"view\":{\"id\":\"36407\",\"type\":\"CDSView\"}},\"id\":\"36406\",\"type\":\"GlyphRenderer\"},{\"attributes\":{\"dimension\":1,\"ticker\":{\"id\":\"36324\",\"type\":\"BasicTicker\"}},\"id\":\"36327\",\"type\":\"Grid\"},{\"attributes\":{},\"id\":\"36320\",\"type\":\"CategoricalTicker\"},{\"attributes\":{\"source\":{\"id\":\"36379\",\"type\":\"ColumnDataSource\"}},\"id\":\"36407\",\"type\":\"CDSView\"},{\"attributes\":{\"ticker\":{\"id\":\"36320\",\"type\":\"CategoricalTicker\"}},\"id\":\"36322\",\"type\":\"Grid\"},{\"attributes\":{\"callback\":null,\"data\":{\"top\":{\"__ndarray__\":\"exSuR+F6tD+4HoXrUbiuP3sUrkfheqQ/uB6F61G4nj+4HoXrUbieP3sUrkfhepQ/exSuR+F6lD97FK5H4XqUP3sUrkfhepQ/exSuR+F6lD8=\",\"dtype\":\"float64\",\"shape\":[10]},\"x\":[\"lack\",\"chang\",\"commun\",\"train\",\"difficult\",\"promot\",\"constant\",\"goal\",\"depart\",\"polici\"]},\"selected\":{\"id\":\"36522\",\"type\":\"Selection\"},\"selection_policy\":{\"id\":\"36521\",\"type\":\"UnionRenderers\"}},\"id\":\"36487\",\"type\":\"ColumnDataSource\"},{\"attributes\":{},\"id\":\"36324\",\"type\":\"BasicTicker\"},{\"attributes\":{},\"id\":\"36413\",\"type\":\"UnionRenderers\"},{\"attributes\":{\"axis_label\":\"Term-Prob\",\"formatter\":{\"id\":\"36337\",\"type\":\"BasicTickFormatter\"},\"ticker\":{\"id\":\"36324\",\"type\":\"BasicTicker\"}},\"id\":\"36323\",\"type\":\"LinearAxis\"},{\"attributes\":{},\"id\":\"36411\",\"type\":\"CategoricalTickFormatter\"},{\"attributes\":{},\"id\":\"36353\",\"type\":\"LinearScale\"},{\"attributes\":{},\"id\":\"36414\",\"type\":\"Selection\"},{\"attributes\":{\"below\":[{\"id\":\"36175\",\"type\":\"CategoricalAxis\"}],\"center\":[{\"id\":\"36178\",\"type\":\"Grid\"},{\"id\":\"36183\",\"type\":\"Grid\"}],\"left\":[{\"id\":\"36179\",\"type\":\"LinearAxis\"}],\"plot_height\":250,\"plot_width\":400,\"renderers\":[{\"id\":\"36190\",\"type\":\"GlyphRenderer\"}],\"title\":{\"id\":\"36165\",\"type\":\"Title\"},\"toolbar\":{\"id\":\"36185\",\"type\":\"Toolbar\"},\"toolbar_location\":null,\"x_range\":{\"id\":\"36167\",\"type\":\"FactorRange\"},\"x_scale\":{\"id\":\"36171\",\"type\":\"CategoricalScale\"},\"y_range\":{\"id\":\"36169\",\"type\":\"DataRange1d\"},\"y_scale\":{\"id\":\"36173\",\"type\":\"LinearScale\"}},\"id\":\"36164\",\"subtype\":\"Figure\",\"type\":\"Plot\"},{\"attributes\":{\"active_drag\":\"auto\",\"active_inspect\":\"auto\",\"active_multi\":null,\"active_scroll\":\"auto\",\"active_tap\":\"auto\",\"tools\":[{\"id\":\"36328\",\"type\":\"HoverTool\"}]},\"id\":\"36329\",\"type\":\"Toolbar\"},{\"attributes\":{\"callback\":null,\"tooltips\":[[\"Prob\",\"@top\"]]},\"id\":\"36328\",\"type\":\"HoverTool\"},{\"attributes\":{\"callback\":null,\"data\":{\"top\":{\"__ndarray__\":\"H4XrUbge1T+4HoXrUbiuP3sUrkfheqQ/exSuR+F6pD97FK5H4XqkP7gehetRuJ4/exSuR+F6lD97FK5H4XqUP3sUrkfhepQ/exSuR+F6lD8=\",\"dtype\":\"float64\",\"shape\":[10]},\"x\":[\"benefit\",\"cowork\",\"excel\",\"friendli\",\"train\",\"decent\",\"cafeteria\",\"decent_pay\",\"bonu\",\"packag\"]},\"selected\":{\"id\":\"36486\",\"type\":\"Selection\"},\"selection_policy\":{\"id\":\"36485\",\"type\":\"UnionRenderers\"}},\"id\":\"36451\",\"type\":\"ColumnDataSource\"},{\"attributes\":{},\"id\":\"36245\",\"type\":\"LinearScale\"},{\"attributes\":{\"fill_alpha\":{\"value\":0.1},\"fill_color\":{\"value\":\"#1f77b4\"},\"line_alpha\":{\"value\":0.1},\"line_color\":{\"value\":\"#1f77b4\"},\"top\":{\"field\":\"top\"},\"width\":{\"value\":0.8},\"x\":{\"field\":\"x\"}},\"id\":\"36333\",\"type\":\"VBar\"},{\"attributes\":{\"axis_label\":\"Terms\",\"formatter\":{\"id\":\"36267\",\"type\":\"CategoricalTickFormatter\"},\"major_label_orientation\":1.5707963267948966,\"ticker\":{\"id\":\"36248\",\"type\":\"CategoricalTicker\"}},\"id\":\"36247\",\"type\":\"CategoricalAxis\"},{\"attributes\":{},\"id\":\"36337\",\"type\":\"BasicTickFormatter\"},{\"attributes\":{\"data_source\":{\"id\":\"36307\",\"type\":\"ColumnDataSource\"},\"glyph\":{\"id\":\"36332\",\"type\":\"VBar\"},\"hover_glyph\":null,\"muted_glyph\":null,\"nonselection_glyph\":{\"id\":\"36333\",\"type\":\"VBar\"},\"selection_glyph\":null,\"view\":{\"id\":\"36335\",\"type\":\"CDSView\"}},\"id\":\"36334\",\"type\":\"GlyphRenderer\"},{\"attributes\":{\"dimension\":1,\"ticker\":{\"id\":\"36252\",\"type\":\"BasicTicker\"}},\"id\":\"36255\",\"type\":\"Grid\"},{\"attributes\":{\"source\":{\"id\":\"36163\",\"type\":\"ColumnDataSource\"}},\"id\":\"36191\",\"type\":\"CDSView\"},{\"attributes\":{},\"id\":\"36248\",\"type\":\"CategoricalTicker\"},{\"attributes\":{\"source\":{\"id\":\"36307\",\"type\":\"ColumnDataSource\"}},\"id\":\"36335\",\"type\":\"CDSView\"},{\"attributes\":{\"ticker\":{\"id\":\"36248\",\"type\":\"CategoricalTicker\"}},\"id\":\"36250\",\"type\":\"Grid\"},{\"attributes\":{\"align\":\"center\",\"text\":\"Topic: 11\"},\"id\":\"36525\",\"type\":\"Title\"},{\"attributes\":{},\"id\":\"36252\",\"type\":\"BasicTicker\"},{\"attributes\":{},\"id\":\"36341\",\"type\":\"UnionRenderers\"},{\"attributes\":{\"axis_label\":\"Term-Prob\",\"formatter\":{\"id\":\"36265\",\"type\":\"BasicTickFormatter\"},\"ticker\":{\"id\":\"36252\",\"type\":\"BasicTicker\"}},\"id\":\"36251\",\"type\":\"LinearAxis\"},{\"attributes\":{},\"id\":\"36339\",\"type\":\"CategoricalTickFormatter\"},{\"attributes\":{\"fill_alpha\":{\"value\":0.1},\"fill_color\":{\"value\":\"#1f77b4\"},\"line_alpha\":{\"value\":0.1},\"line_color\":{\"value\":\"#1f77b4\"},\"top\":{\"field\":\"top\"},\"width\":{\"value\":0.8},\"x\":{\"field\":\"x\"}},\"id\":\"36261\",\"type\":\"VBar\"},{\"attributes\":{},\"id\":\"36342\",\"type\":\"Selection\"},{\"attributes\":{\"active_drag\":\"auto\",\"active_inspect\":\"auto\",\"active_multi\":null,\"active_scroll\":\"auto\",\"active_tap\":\"auto\",\"tools\":[{\"id\":\"36256\",\"type\":\"HoverTool\"}]},\"id\":\"36257\",\"type\":\"Toolbar\"},{\"attributes\":{\"callback\":null,\"tooltips\":[[\"Prob\",\"@top\"]]},\"id\":\"36256\",\"type\":\"HoverTool\"},{\"attributes\":{\"axis_label\":\"Terms\",\"formatter\":{\"id\":\"36375\",\"type\":\"CategoricalTickFormatter\"},\"major_label_orientation\":1.5707963267948966,\"ticker\":{\"id\":\"36356\",\"type\":\"CategoricalTicker\"}},\"id\":\"36355\",\"type\":\"CategoricalAxis\"},{\"attributes\":{\"callback\":null,\"data\":{\"top\":{\"__ndarray__\":\"KVyPwvUozD/sUbgeheuxP5qZmZmZmak/uB6F61G4nj+4HoXrUbieP7gehetRuJ4/uB6F61G4nj97FK5H4XqUP3sUrkfhepQ/exSuR+F6lD8=\",\"dtype\":\"float64\",\"shape\":[10]},\"x\":[\"time\",\"paid\",\"vacat\",\"week\",\"holiday\",\"famili\",\"call\",\"person\",\"weekend\",\"sick\"]},\"selected\":{\"id\":\"36414\",\"type\":\"Selection\"},\"selection_policy\":{\"id\":\"36413\",\"type\":\"UnionRenderers\"}},\"id\":\"36379\",\"type\":\"ColumnDataSource\"},{\"attributes\":{\"below\":[{\"id\":\"36355\",\"type\":\"CategoricalAxis\"}],\"center\":[{\"id\":\"36358\",\"type\":\"Grid\"},{\"id\":\"36363\",\"type\":\"Grid\"}],\"left\":[{\"id\":\"36359\",\"type\":\"LinearAxis\"}],\"plot_height\":250,\"plot_width\":400,\"renderers\":[{\"id\":\"36370\",\"type\":\"GlyphRenderer\"}],\"title\":{\"id\":\"36345\",\"type\":\"Title\"},\"toolbar\":{\"id\":\"36365\",\"type\":\"Toolbar\"},\"toolbar_location\":null,\"x_range\":{\"id\":\"36347\",\"type\":\"FactorRange\"},\"x_scale\":{\"id\":\"36351\",\"type\":\"CategoricalScale\"},\"y_range\":{\"id\":\"36349\",\"type\":\"DataRange1d\"},\"y_scale\":{\"id\":\"36353\",\"type\":\"LinearScale\"}},\"id\":\"36344\",\"subtype\":\"Figure\",\"type\":\"Plot\"},{\"attributes\":{\"callback\":null,\"factors\":[\"pay\",\"custom\",\"low\",\"pay_benefit\",\"bad\",\"low_pay\",\"servic\",\"benefit_pay\",\"avail\",\"bad_manag\"]},\"id\":\"36347\",\"type\":\"FactorRange\"},{\"attributes\":{},\"id\":\"36265\",\"type\":\"BasicTickFormatter\"},{\"attributes\":{\"axis_label\":\"Terms\",\"formatter\":{\"id\":\"36195\",\"type\":\"CategoricalTickFormatter\"},\"major_label_orientation\":1.5707963267948966,\"ticker\":{\"id\":\"36176\",\"type\":\"CategoricalTicker\"}},\"id\":\"36175\",\"type\":\"CategoricalAxis\"},{\"attributes\":{\"data_source\":{\"id\":\"36235\",\"type\":\"ColumnDataSource\"},\"glyph\":{\"id\":\"36260\",\"type\":\"VBar\"},\"hover_glyph\":null,\"muted_glyph\":null,\"nonselection_glyph\":{\"id\":\"36261\",\"type\":\"VBar\"},\"selection_glyph\":null,\"view\":{\"id\":\"36263\",\"type\":\"CDSView\"}},\"id\":\"36262\",\"type\":\"GlyphRenderer\"},{\"attributes\":{\"fill_color\":{\"value\":\"#1f77b4\"},\"line_color\":{\"value\":\"#1f77b4\"},\"top\":{\"field\":\"top\"},\"width\":{\"value\":0.8},\"x\":{\"field\":\"x\"}},\"id\":\"36368\",\"type\":\"VBar\"},{\"attributes\":{\"data_source\":{\"id\":\"36163\",\"type\":\"ColumnDataSource\"},\"glyph\":{\"id\":\"36188\",\"type\":\"VBar\"},\"hover_glyph\":null,\"muted_glyph\":null,\"nonselection_glyph\":{\"id\":\"36189\",\"type\":\"VBar\"},\"selection_glyph\":null,\"view\":{\"id\":\"36191\",\"type\":\"CDSView\"}},\"id\":\"36190\",\"type\":\"GlyphRenderer\"},{\"attributes\":{\"source\":{\"id\":\"36235\",\"type\":\"ColumnDataSource\"}},\"id\":\"36263\",\"type\":\"CDSView\"},{\"attributes\":{\"callback\":null,\"factors\":[\"environ\",\"hard\",\"posit\",\"worker\",\"sale\",\"move\",\"differ\",\"locat\",\"base\",\"system\"]},\"id\":\"36275\",\"type\":\"FactorRange\"},{\"attributes\":{},\"id\":\"36360\",\"type\":\"BasicTicker\"},{\"attributes\":{\"align\":\"center\",\"text\":\"Topic: 5\"},\"id\":\"36309\",\"type\":\"Title\"},{\"attributes\":{\"align\":\"center\",\"text\":\"Topic: 8\"},\"id\":\"36417\",\"type\":\"Title\"},{\"attributes\":{},\"id\":\"36173\",\"type\":\"LinearScale\"},{\"attributes\":{},\"id\":\"36269\",\"type\":\"UnionRenderers\"},{\"attributes\":{\"dimension\":1,\"ticker\":{\"id\":\"36360\",\"type\":\"BasicTicker\"}},\"id\":\"36363\",\"type\":\"Grid\"},{\"attributes\":{},\"id\":\"36267\",\"type\":\"CategoricalTickFormatter\"},{\"attributes\":{},\"id\":\"36351\",\"type\":\"CategoricalScale\"},{\"attributes\":{\"callback\":null},\"id\":\"36349\",\"type\":\"DataRange1d\"},{\"attributes\":{},\"id\":\"36270\",\"type\":\"Selection\"},{\"attributes\":{},\"id\":\"36356\",\"type\":\"CategoricalTicker\"},{\"attributes\":{\"ticker\":{\"id\":\"36176\",\"type\":\"CategoricalTicker\"}},\"id\":\"36178\",\"type\":\"Grid\"},{\"attributes\":{\"ticker\":{\"id\":\"36356\",\"type\":\"CategoricalTicker\"}},\"id\":\"36358\",\"type\":\"Grid\"},{\"attributes\":{\"below\":[{\"id\":\"36283\",\"type\":\"CategoricalAxis\"}],\"center\":[{\"id\":\"36286\",\"type\":\"Grid\"},{\"id\":\"36291\",\"type\":\"Grid\"}],\"left\":[{\"id\":\"36287\",\"type\":\"LinearAxis\"}],\"plot_height\":250,\"plot_width\":400,\"renderers\":[{\"id\":\"36298\",\"type\":\"GlyphRenderer\"}],\"title\":{\"id\":\"36273\",\"type\":\"Title\"},\"toolbar\":{\"id\":\"36293\",\"type\":\"Toolbar\"},\"toolbar_location\":null,\"x_range\":{\"id\":\"36275\",\"type\":\"FactorRange\"},\"x_scale\":{\"id\":\"36279\",\"type\":\"CategoricalScale\"},\"y_range\":{\"id\":\"36277\",\"type\":\"DataRange1d\"},\"y_scale\":{\"id\":\"36281\",\"type\":\"LinearScale\"}},\"id\":\"36272\",\"subtype\":\"Figure\",\"type\":\"Plot\"},{\"attributes\":{\"callback\":null,\"factors\":[\"employe\",\"schedul\",\"wage\",\"plan\",\"start\",\"set\",\"healthcar\",\"month\",\"layoff\",\"rude\"]},\"id\":\"36203\",\"type\":\"FactorRange\"},{\"attributes\":{\"axis_label\":\"Term-Prob\",\"formatter\":{\"id\":\"36373\",\"type\":\"BasicTickFormatter\"},\"ticker\":{\"id\":\"36360\",\"type\":\"BasicTicker\"}},\"id\":\"36359\",\"type\":\"LinearAxis\"},{\"attributes\":{},\"id\":\"36176\",\"type\":\"CategoricalTicker\"},{\"attributes\":{\"fill_alpha\":{\"value\":0.1},\"fill_color\":{\"value\":\"#1f77b4\"},\"line_alpha\":{\"value\":0.1},\"line_color\":{\"value\":\"#1f77b4\"},\"top\":{\"field\":\"top\"},\"width\":{\"value\":0.8},\"x\":{\"field\":\"x\"}},\"id\":\"36369\",\"type\":\"VBar\"},{\"attributes\":{\"fill_color\":{\"value\":\"#1f77b4\"},\"line_color\":{\"value\":\"#1f77b4\"},\"top\":{\"field\":\"top\"},\"width\":{\"value\":0.8},\"x\":{\"field\":\"x\"}},\"id\":\"36296\",\"type\":\"VBar\"},{\"attributes\":{\"active_drag\":\"auto\",\"active_inspect\":\"auto\",\"active_multi\":null,\"active_scroll\":\"auto\",\"active_tap\":\"auto\",\"tools\":[{\"id\":\"36364\",\"type\":\"HoverTool\"}]},\"id\":\"36365\",\"type\":\"Toolbar\"},{\"attributes\":{\"callback\":null,\"tooltips\":[[\"Prob\",\"@top\"]]},\"id\":\"36364\",\"type\":\"HoverTool\"},{\"attributes\":{\"callback\":null,\"data\":{\"top\":{\"__ndarray__\":\"exSuR+F61D97FK5H4Xq0P+xRuB6F67E/mpmZmZmZqT97FK5H4XqkP3sUrkfheqQ/uB6F61G4nj97FK5H4XqUP3sUrkfhepQ/exSuR+F6hD8=\",\"dtype\":\"float64\",\"shape\":[10]},\"x\":[\"pay\",\"custom\",\"low\",\"pay_benefit\",\"bad\",\"low_pay\",\"servic\",\"benefit_pay\",\"avail\",\"bad_manag\"]},\"selected\":{\"id\":\"36378\",\"type\":\"Selection\"},\"selection_policy\":{\"id\":\"36377\",\"type\":\"UnionRenderers\"}},\"id\":\"36343\",\"type\":\"ColumnDataSource\"},{\"attributes\":{},\"id\":\"36180\",\"type\":\"BasicTicker\"},{\"attributes\":{},\"id\":\"36279\",\"type\":\"CategoricalScale\"},{\"attributes\":{\"callback\":null},\"id\":\"36277\",\"type\":\"DataRange1d\"},{\"attributes\":{},\"id\":\"36373\",\"type\":\"BasicTickFormatter\"},{\"attributes\":{\"callback\":null,\"tooltips\":[[\"Prob\",\"@top\"]]},\"id\":\"36184\",\"type\":\"HoverTool\"},{\"attributes\":{},\"id\":\"36281\",\"type\":\"LinearScale\"},{\"attributes\":{\"dimension\":1,\"ticker\":{\"id\":\"36180\",\"type\":\"BasicTicker\"}},\"id\":\"36183\",\"type\":\"Grid\"},{\"attributes\":{\"data_source\":{\"id\":\"36343\",\"type\":\"ColumnDataSource\"},\"glyph\":{\"id\":\"36368\",\"type\":\"VBar\"},\"hover_glyph\":null,\"muted_glyph\":null,\"nonselection_glyph\":{\"id\":\"36369\",\"type\":\"VBar\"},\"selection_glyph\":null,\"view\":{\"id\":\"36371\",\"type\":\"CDSView\"}},\"id\":\"36370\",\"type\":\"GlyphRenderer\"},{\"attributes\":{\"axis_label\":\"Term-Prob\",\"formatter\":{\"id\":\"36193\",\"type\":\"BasicTickFormatter\"},\"ticker\":{\"id\":\"36180\",\"type\":\"BasicTicker\"}},\"id\":\"36179\",\"type\":\"LinearAxis\"},{\"attributes\":{\"axis_label\":\"Terms\",\"formatter\":{\"id\":\"36303\",\"type\":\"CategoricalTickFormatter\"},\"major_label_orientation\":1.5707963267948966,\"ticker\":{\"id\":\"36284\",\"type\":\"CategoricalTicker\"}},\"id\":\"36283\",\"type\":\"CategoricalAxis\"},{\"attributes\":{\"active_drag\":\"auto\",\"active_inspect\":\"auto\",\"active_multi\":null,\"active_scroll\":\"auto\",\"active_tap\":\"auto\",\"tools\":[{\"id\":\"36184\",\"type\":\"HoverTool\"}]},\"id\":\"36185\",\"type\":\"Toolbar\"},{\"attributes\":{\"source\":{\"id\":\"36343\",\"type\":\"ColumnDataSource\"}},\"id\":\"36371\",\"type\":\"CDSView\"},{\"attributes\":{\"axis_label\":\"Term-Prob\",\"formatter\":{\"id\":\"36301\",\"type\":\"BasicTickFormatter\"},\"ticker\":{\"id\":\"36288\",\"type\":\"BasicTicker\"}},\"id\":\"36287\",\"type\":\"LinearAxis\"},{\"attributes\":{\"fill_alpha\":{\"value\":0.1},\"fill_color\":{\"value\":\"#1f77b4\"},\"line_alpha\":{\"value\":0.1},\"line_color\":{\"value\":\"#1f77b4\"},\"top\":{\"field\":\"top\"},\"width\":{\"value\":0.8},\"x\":{\"field\":\"x\"}},\"id\":\"36189\",\"type\":\"VBar\"},{\"attributes\":{},\"id\":\"36284\",\"type\":\"CategoricalTicker\"},{\"attributes\":{\"ticker\":{\"id\":\"36284\",\"type\":\"CategoricalTicker\"}},\"id\":\"36286\",\"type\":\"Grid\"},{\"attributes\":{\"below\":[{\"id\":\"36427\",\"type\":\"CategoricalAxis\"}],\"center\":[{\"id\":\"36430\",\"type\":\"Grid\"},{\"id\":\"36435\",\"type\":\"Grid\"}],\"left\":[{\"id\":\"36431\",\"type\":\"LinearAxis\"}],\"plot_height\":250,\"plot_width\":400,\"renderers\":[{\"id\":\"36442\",\"type\":\"GlyphRenderer\"}],\"title\":{\"id\":\"36417\",\"type\":\"Title\"},\"toolbar\":{\"id\":\"36437\",\"type\":\"Toolbar\"},\"toolbar_location\":null,\"x_range\":{\"id\":\"36419\",\"type\":\"FactorRange\"},\"x_scale\":{\"id\":\"36423\",\"type\":\"CategoricalScale\"},\"y_range\":{\"id\":\"36421\",\"type\":\"DataRange1d\"},\"y_scale\":{\"id\":\"36425\",\"type\":\"LinearScale\"}},\"id\":\"36416\",\"subtype\":\"Figure\",\"type\":\"Plot\"},{\"attributes\":{},\"id\":\"36233\",\"type\":\"UnionRenderers\"},{\"attributes\":{},\"id\":\"36229\",\"type\":\"BasicTickFormatter\"},{\"attributes\":{\"callback\":null,\"factors\":[\"break\",\"short\",\"short_break\",\"lunch\",\"worklif\",\"worklif_balanc\",\"balanc\",\"sometim\",\"fast\",\"pace\"]},\"id\":\"36239\",\"type\":\"FactorRange\"},{\"attributes\":{\"fill_color\":{\"value\":\"#1f77b4\"},\"line_color\":{\"value\":\"#1f77b4\"},\"top\":{\"field\":\"top\"},\"width\":{\"value\":0.8},\"x\":{\"field\":\"x\"}},\"id\":\"36440\",\"type\":\"VBar\"},{\"attributes\":{\"callback\":null,\"factors\":[\"flexibl\",\"life\",\"balanc\",\"schedul\",\"life_balanc\",\"health\",\"compens\",\"insur\",\"product\",\"flexibl_schedul\"]},\"id\":\"36419\",\"type\":\"FactorRange\"},{\"attributes\":{\"align\":\"center\",\"text\":\"Topic: 9\"},\"id\":\"36453\",\"type\":\"Title\"},{\"attributes\":{},\"id\":\"36423\",\"type\":\"CategoricalScale\"},{\"attributes\":{\"callback\":null},\"id\":\"36421\",\"type\":\"DataRange1d\"},{\"attributes\":{},\"id\":\"36425\",\"type\":\"LinearScale\"},{\"attributes\":{\"axis_label\":\"Terms\",\"formatter\":{\"id\":\"36447\",\"type\":\"CategoricalTickFormatter\"},\"major_label_orientation\":1.5707963267948966,\"ticker\":{\"id\":\"36428\",\"type\":\"CategoricalTicker\"}},\"id\":\"36427\",\"type\":\"CategoricalAxis\"},{\"attributes\":{\"dimension\":1,\"ticker\":{\"id\":\"36432\",\"type\":\"BasicTicker\"}},\"id\":\"36435\",\"type\":\"Grid\"},{\"attributes\":{},\"id\":\"36428\",\"type\":\"CategoricalTicker\"},{\"attributes\":{\"ticker\":{\"id\":\"36428\",\"type\":\"CategoricalTicker\"}},\"id\":\"36430\",\"type\":\"Grid\"},{\"attributes\":{},\"id\":\"36432\",\"type\":\"BasicTicker\"},{\"attributes\":{\"axis_label\":\"Term-Prob\",\"formatter\":{\"id\":\"36445\",\"type\":\"BasicTickFormatter\"},\"ticker\":{\"id\":\"36432\",\"type\":\"BasicTicker\"}},\"id\":\"36431\",\"type\":\"LinearAxis\"},{\"attributes\":{\"callback\":null,\"data\":{\"top\":{\"__ndarray__\":\"pHA9CtejwD+4HoXrUbiuP3sUrkfheqQ/exSuR+F6pD+4HoXrUbieP7gehetRuJ4/uB6F61G4nj+4HoXrUbieP3sUrkfhepQ/exSuR+F6lD8=\",\"dtype\":\"float64\",\"shape\":[10]},\"x\":[\"environ\",\"hard\",\"posit\",\"worker\",\"sale\",\"move\",\"differ\",\"locat\",\"base\",\"system\"]},\"selected\":{\"id\":\"36306\",\"type\":\"Selection\"},\"selection_policy\":{\"id\":\"36305\",\"type\":\"UnionRenderers\"}},\"id\":\"36271\",\"type\":\"ColumnDataSource\"},{\"attributes\":{\"fill_alpha\":{\"value\":0.1},\"fill_color\":{\"value\":\"#1f77b4\"},\"line_alpha\":{\"value\":0.1},\"line_color\":{\"value\":\"#1f77b4\"},\"top\":{\"field\":\"top\"},\"width\":{\"value\":0.8},\"x\":{\"field\":\"x\"}},\"id\":\"36441\",\"type\":\"VBar\"},{\"attributes\":{},\"id\":\"36485\",\"type\":\"UnionRenderers\"},{\"attributes\":{\"active_drag\":\"auto\",\"active_inspect\":\"auto\",\"active_multi\":null,\"active_scroll\":\"auto\",\"active_tap\":\"auto\",\"tools\":[{\"id\":\"36436\",\"type\":\"HoverTool\"}]},\"id\":\"36437\",\"type\":\"Toolbar\"},{\"attributes\":{\"callback\":null,\"tooltips\":[[\"Prob\",\"@top\"]]},\"id\":\"36436\",\"type\":\"HoverTool\"},{\"attributes\":{\"callback\":null,\"data\":{\"top\":{\"__ndarray__\":\"KVyPwvUozD/sUbgeheuxP7gehetRuJ4/uB6F61G4nj+4HoXrUbieP7gehetRuJ4/uB6F61G4nj97FK5H4XqUP3sUrkfhepQ/exSuR+F6lD8=\",\"dtype\":\"float64\",\"shape\":[10]},\"x\":[\"employe\",\"schedul\",\"wage\",\"plan\",\"start\",\"set\",\"healthcar\",\"month\",\"layoff\",\"rude\"]},\"selected\":{\"id\":\"36234\",\"type\":\"Selection\"},\"selection_policy\":{\"id\":\"36233\",\"type\":\"UnionRenderers\"}},\"id\":\"36199\",\"type\":\"ColumnDataSource\"},{\"attributes\":{},\"id\":\"36445\",\"type\":\"BasicTickFormatter\"},{\"attributes\":{},\"id\":\"36171\",\"type\":\"CategoricalScale\"},{\"attributes\":{\"data_source\":{\"id\":\"36415\",\"type\":\"ColumnDataSource\"},\"glyph\":{\"id\":\"36440\",\"type\":\"VBar\"},\"hover_glyph\":null,\"muted_glyph\":null,\"nonselection_glyph\":{\"id\":\"36441\",\"type\":\"VBar\"},\"selection_glyph\":null,\"view\":{\"id\":\"36443\",\"type\":\"CDSView\"}},\"id\":\"36442\",\"type\":\"GlyphRenderer\"},{\"attributes\":{\"callback\":null},\"id\":\"36205\",\"type\":\"DataRange1d\"},{\"attributes\":{\"source\":{\"id\":\"36415\",\"type\":\"ColumnDataSource\"}},\"id\":\"36443\",\"type\":\"CDSView\"},{\"attributes\":{\"align\":\"center\",\"text\":\"Topic: 2\"},\"id\":\"36201\",\"type\":\"Title\"},{\"attributes\":{\"below\":[{\"id\":\"36211\",\"type\":\"CategoricalAxis\"}],\"center\":[{\"id\":\"36214\",\"type\":\"Grid\"},{\"id\":\"36219\",\"type\":\"Grid\"}],\"left\":[{\"id\":\"36215\",\"type\":\"LinearAxis\"}],\"plot_height\":250,\"plot_width\":400,\"renderers\":[{\"id\":\"36226\",\"type\":\"GlyphRenderer\"}],\"title\":{\"id\":\"36201\",\"type\":\"Title\"},\"toolbar\":{\"id\":\"36221\",\"type\":\"Toolbar\"},\"toolbar_location\":null,\"x_range\":{\"id\":\"36203\",\"type\":\"FactorRange\"},\"x_scale\":{\"id\":\"36207\",\"type\":\"CategoricalScale\"},\"y_range\":{\"id\":\"36205\",\"type\":\"DataRange1d\"},\"y_scale\":{\"id\":\"36209\",\"type\":\"LinearScale\"}},\"id\":\"36200\",\"subtype\":\"Figure\",\"type\":\"Plot\"},{\"attributes\":{\"align\":\"center\",\"text\":\"Topic: 10\"},\"id\":\"36489\",\"type\":\"Title\"},{\"attributes\":{},\"id\":\"36449\",\"type\":\"UnionRenderers\"},{\"attributes\":{},\"id\":\"36447\",\"type\":\"CategoricalTickFormatter\"},{\"attributes\":{\"fill_color\":{\"value\":\"#1f77b4\"},\"line_color\":{\"value\":\"#1f77b4\"},\"top\":{\"field\":\"top\"},\"width\":{\"value\":0.8},\"x\":{\"field\":\"x\"}},\"id\":\"36224\",\"type\":\"VBar\"},{\"attributes\":{},\"id\":\"36450\",\"type\":\"Selection\"},{\"attributes\":{\"below\":[{\"id\":\"36463\",\"type\":\"CategoricalAxis\"}],\"center\":[{\"id\":\"36466\",\"type\":\"Grid\"},{\"id\":\"36471\",\"type\":\"Grid\"}],\"left\":[{\"id\":\"36467\",\"type\":\"LinearAxis\"}],\"plot_height\":250,\"plot_width\":400,\"renderers\":[{\"id\":\"36478\",\"type\":\"GlyphRenderer\"}],\"title\":{\"id\":\"36453\",\"type\":\"Title\"},\"toolbar\":{\"id\":\"36473\",\"type\":\"Toolbar\"},\"toolbar_location\":null,\"x_range\":{\"id\":\"36455\",\"type\":\"FactorRange\"},\"x_scale\":{\"id\":\"36459\",\"type\":\"CategoricalScale\"},\"y_range\":{\"id\":\"36457\",\"type\":\"DataRange1d\"},\"y_scale\":{\"id\":\"36461\",\"type\":\"LinearScale\"}},\"id\":\"36452\",\"subtype\":\"Figure\",\"type\":\"Plot\"},{\"attributes\":{\"fill_color\":{\"value\":\"#1f77b4\"},\"line_color\":{\"value\":\"#1f77b4\"},\"top\":{\"field\":\"top\"},\"width\":{\"value\":0.8},\"x\":{\"field\":\"x\"}},\"id\":\"36476\",\"type\":\"VBar\"},{\"attributes\":{\"callback\":null},\"id\":\"36169\",\"type\":\"DataRange1d\"},{\"attributes\":{\"callback\":null,\"factors\":[\"benefit\",\"cowork\",\"excel\",\"friendli\",\"train\",\"decent\",\"cafeteria\",\"decent_pay\",\"bonu\",\"packag\"]},\"id\":\"36455\",\"type\":\"FactorRange\"},{\"attributes\":{\"callback\":null},\"id\":\"36457\",\"type\":\"DataRange1d\"},{\"attributes\":{},\"id\":\"36459\",\"type\":\"CategoricalScale\"},{\"attributes\":{\"callback\":null,\"data\":{\"top\":{\"__ndarray__\":\"7FG4HoXrsT/sUbgeheuxP5qZmZmZmak/exSuR+F6pD+4HoXrUbieP7gehetRuJ4/uB6F61G4nj+4HoXrUbieP3sUrkfhepQ/exSuR+F6lD8=\",\"dtype\":\"float64\",\"shape\":[10]},\"x\":[\"learn\",\"cultur\",\"nice\",\"could\",\"staff\",\"experi\",\"atmospher\",\"skill\",\"easi\",\"better\"]},\"selected\":{\"id\":\"36558\",\"type\":\"Selection\"},\"selection_policy\":{\"id\":\"36557\",\"type\":\"UnionRenderers\"}},\"id\":\"36523\",\"type\":\"ColumnDataSource\"},{\"attributes\":{\"source\":{\"id\":\"36523\",\"type\":\"ColumnDataSource\"}},\"id\":\"36551\",\"type\":\"CDSView\"},{\"attributes\":{},\"id\":\"36553\",\"type\":\"BasicTickFormatter\"},{\"attributes\":{},\"id\":\"36557\",\"type\":\"UnionRenderers\"},{\"attributes\":{},\"id\":\"36555\",\"type\":\"CategoricalTickFormatter\"},{\"attributes\":{},\"id\":\"36558\",\"type\":\"Selection\"},{\"attributes\":{\"below\":[{\"id\":\"36571\",\"type\":\"CategoricalAxis\"}],\"center\":[{\"id\":\"36574\",\"type\":\"Grid\"},{\"id\":\"36579\",\"type\":\"Grid\"}],\"left\":[{\"id\":\"36575\",\"type\":\"LinearAxis\"}],\"plot_height\":250,\"plot_width\":400,\"renderers\":[{\"id\":\"36586\",\"type\":\"GlyphRenderer\"}],\"title\":{\"id\":\"36561\",\"type\":\"Title\"},\"toolbar\":{\"id\":\"36581\",\"type\":\"Toolbar\"},\"toolbar_location\":null,\"x_range\":{\"id\":\"36563\",\"type\":\"FactorRange\"},\"x_scale\":{\"id\":\"36567\",\"type\":\"CategoricalScale\"},\"y_range\":{\"id\":\"36565\",\"type\":\"DataRange1d\"},\"y_scale\":{\"id\":\"36569\",\"type\":\"LinearScale\"}},\"id\":\"36560\",\"subtype\":\"Figure\",\"type\":\"Plot\"},{\"attributes\":{\"callback\":null,\"factors\":[\"hour\",\"peopl\",\"lot\",\"home\",\"meet\",\"flexibl_hour\",\"abl\",\"build\",\"provid\",\"meet_peopl\"]},\"id\":\"36563\",\"type\":\"FactorRange\"},{\"attributes\":{\"fill_color\":{\"value\":\"#1f77b4\"},\"line_color\":{\"value\":\"#1f77b4\"},\"top\":{\"field\":\"top\"},\"width\":{\"value\":0.8},\"x\":{\"field\":\"x\"}},\"id\":\"36584\",\"type\":\"VBar\"},{\"attributes\":{},\"id\":\"36567\",\"type\":\"CategoricalScale\"},{\"attributes\":{\"callback\":null},\"id\":\"36565\",\"type\":\"DataRange1d\"},{\"attributes\":{},\"id\":\"36569\",\"type\":\"LinearScale\"},{\"attributes\":{\"axis_label\":\"Terms\",\"formatter\":{\"id\":\"36591\",\"type\":\"CategoricalTickFormatter\"},\"major_label_orientation\":1.5707963267948966,\"ticker\":{\"id\":\"36572\",\"type\":\"CategoricalTicker\"}},\"id\":\"36571\",\"type\":\"CategoricalAxis\"},{\"attributes\":{\"dimension\":1,\"ticker\":{\"id\":\"36576\",\"type\":\"BasicTicker\"}},\"id\":\"36579\",\"type\":\"Grid\"},{\"attributes\":{},\"id\":\"36572\",\"type\":\"CategoricalTicker\"},{\"attributes\":{\"ticker\":{\"id\":\"36572\",\"type\":\"CategoricalTicker\"}},\"id\":\"36574\",\"type\":\"Grid\"},{\"attributes\":{},\"id\":\"36680\",\"type\":\"CategoricalTicker\"},{\"attributes\":{},\"id\":\"36576\",\"type\":\"BasicTicker\"},{\"attributes\":{\"axis_label\":\"Term-Prob\",\"formatter\":{\"id\":\"36589\",\"type\":\"BasicTickFormatter\"},\"ticker\":{\"id\":\"36576\",\"type\":\"BasicTicker\"}},\"id\":\"36575\",\"type\":\"LinearAxis\"},{\"attributes\":{\"fill_alpha\":{\"value\":0.1},\"fill_color\":{\"value\":\"#1f77b4\"},\"line_alpha\":{\"value\":0.1},\"line_color\":{\"value\":\"#1f77b4\"},\"top\":{\"field\":\"top\"},\"width\":{\"value\":0.8},\"x\":{\"field\":\"x\"}},\"id\":\"36585\",\"type\":\"VBar\"},{\"attributes\":{\"callback\":null,\"data\":{\"top\":{\"__ndarray__\":\"7FG4HoXrwT+amZmZmZm5P5qZmZmZmak/uB6F61G4nj+4HoXrUbieP3sUrkfhepQ/exSuR+F6lD97FK5H4XqEP3sUrkfheoQ/exSuR+F6hD8=\",\"dtype\":\"float64\",\"shape\":[10]},\"x\":[\"free\",\"lunch\",\"free_lunch\",\"food\",\"fun\",\"hour_lunch\",\"free_food\",\"drink\",\"coffe\",\"event\"]},\"selected\":{\"id\":\"36666\",\"type\":\"Selection\"},\"selection_policy\":{\"id\":\"36665\",\"type\":\"UnionRenderers\"}},\"id\":\"36631\",\"type\":\"ColumnDataSource\"},{\"attributes\":{\"active_drag\":\"auto\",\"active_inspect\":\"auto\",\"active_multi\":null,\"active_scroll\":\"auto\",\"active_tap\":\"auto\",\"tools\":[{\"id\":\"36580\",\"type\":\"HoverTool\"}]},\"id\":\"36581\",\"type\":\"Toolbar\"},{\"attributes\":{\"callback\":null,\"tooltips\":[[\"Prob\",\"@top\"]]},\"id\":\"36580\",\"type\":\"HoverTool\"},{\"attributes\":{},\"id\":\"36589\",\"type\":\"BasicTickFormatter\"},{\"attributes\":{\"data_source\":{\"id\":\"36559\",\"type\":\"ColumnDataSource\"},\"glyph\":{\"id\":\"36584\",\"type\":\"VBar\"},\"hover_glyph\":null,\"muted_glyph\":null,\"nonselection_glyph\":{\"id\":\"36585\",\"type\":\"VBar\"},\"selection_glyph\":null,\"view\":{\"id\":\"36587\",\"type\":\"CDSView\"}},\"id\":\"36586\",\"type\":\"GlyphRenderer\"},{\"attributes\":{\"source\":{\"id\":\"36559\",\"type\":\"ColumnDataSource\"}},\"id\":\"36587\",\"type\":\"CDSView\"},{\"attributes\":{\"align\":\"center\",\"text\":\"Topic: 13\"},\"id\":\"36597\",\"type\":\"Title\"},{\"attributes\":{},\"id\":\"36593\",\"type\":\"UnionRenderers\"},{\"attributes\":{},\"id\":\"36591\",\"type\":\"CategoricalTickFormatter\"},{\"attributes\":{\"callback\":null,\"factors\":[\"free\",\"lunch\",\"free_lunch\",\"food\",\"fun\",\"hour_lunch\",\"free_food\",\"drink\",\"coffe\",\"event\"]},\"id\":\"36635\",\"type\":\"FactorRange\"},{\"attributes\":{\"ticker\":{\"id\":\"36680\",\"type\":\"CategoricalTicker\"}},\"id\":\"36682\",\"type\":\"Grid\"},{\"attributes\":{},\"id\":\"36195\",\"type\":\"CategoricalTickFormatter\"},{\"attributes\":{\"active_drag\":\"auto\",\"active_inspect\":\"auto\",\"active_multi\":null,\"active_scroll\":\"auto\",\"active_tap\":\"auto\",\"tools\":[{\"id\":\"36508\",\"type\":\"HoverTool\"}]},\"id\":\"36509\",\"type\":\"Toolbar\"},{\"attributes\":{},\"id\":\"36197\",\"type\":\"UnionRenderers\"},{\"attributes\":{\"dimension\":1,\"ticker\":{\"id\":\"36684\",\"type\":\"BasicTicker\"}},\"id\":\"36687\",\"type\":\"Grid\"},{\"attributes\":{},\"id\":\"36461\",\"type\":\"LinearScale\"},{\"attributes\":{\"fill_alpha\":{\"value\":0.1},\"fill_color\":{\"value\":\"#1f77b4\"},\"line_alpha\":{\"value\":0.1},\"line_color\":{\"value\":\"#1f77b4\"},\"top\":{\"field\":\"top\"},\"width\":{\"value\":0.8},\"x\":{\"field\":\"x\"}},\"id\":\"36513\",\"type\":\"VBar\"},{\"attributes\":{\"callback\":null,\"tooltips\":[[\"Prob\",\"@top\"]]},\"id\":\"36508\",\"type\":\"HoverTool\"},{\"attributes\":{\"align\":\"center\",\"text\":\"Topic: 15\"},\"id\":\"36669\",\"type\":\"Title\"},{\"attributes\":{},\"id\":\"36198\",\"type\":\"Selection\"},{\"attributes\":{\"axis_label\":\"Terms\",\"formatter\":{\"id\":\"36483\",\"type\":\"CategoricalTickFormatter\"},\"major_label_orientation\":1.5707963267948966,\"ticker\":{\"id\":\"36464\",\"type\":\"CategoricalTicker\"}},\"id\":\"36463\",\"type\":\"CategoricalAxis\"},{\"attributes\":{},\"id\":\"36684\",\"type\":\"BasicTicker\"},{\"attributes\":{\"dimension\":1,\"ticker\":{\"id\":\"36468\",\"type\":\"BasicTicker\"}},\"id\":\"36471\",\"type\":\"Grid\"},{\"attributes\":{\"axis_label\":\"Term-Prob\",\"formatter\":{\"id\":\"36697\",\"type\":\"BasicTickFormatter\"},\"ticker\":{\"id\":\"36684\",\"type\":\"BasicTicker\"}},\"id\":\"36683\",\"type\":\"LinearAxis\"},{\"attributes\":{\"data_source\":{\"id\":\"36523\",\"type\":\"ColumnDataSource\"},\"glyph\":{\"id\":\"36548\",\"type\":\"VBar\"},\"hover_glyph\":null,\"muted_glyph\":null,\"nonselection_glyph\":{\"id\":\"36549\",\"type\":\"VBar\"},\"selection_glyph\":null,\"view\":{\"id\":\"36551\",\"type\":\"CDSView\"}},\"id\":\"36550\",\"type\":\"GlyphRenderer\"},{\"attributes\":{},\"id\":\"36639\",\"type\":\"CategoricalScale\"},{\"attributes\":{},\"id\":\"36464\",\"type\":\"CategoricalTicker\"},{\"attributes\":{\"callback\":null},\"id\":\"36637\",\"type\":\"DataRange1d\"},{\"attributes\":{\"fill_alpha\":{\"value\":0.1},\"fill_color\":{\"value\":\"#1f77b4\"},\"line_alpha\":{\"value\":0.1},\"line_color\":{\"value\":\"#1f77b4\"},\"top\":{\"field\":\"top\"},\"width\":{\"value\":0.8},\"x\":{\"field\":\"x\"}},\"id\":\"36225\",\"type\":\"VBar\"},{\"attributes\":{\"fill_alpha\":{\"value\":0.1},\"fill_color\":{\"value\":\"#1f77b4\"},\"line_alpha\":{\"value\":0.1},\"line_color\":{\"value\":\"#1f77b4\"},\"top\":{\"field\":\"top\"},\"width\":{\"value\":0.8},\"x\":{\"field\":\"x\"}},\"id\":\"36693\",\"type\":\"VBar\"},{\"attributes\":{\"ticker\":{\"id\":\"36464\",\"type\":\"CategoricalTicker\"}},\"id\":\"36466\",\"type\":\"Grid\"},{\"attributes\":{\"axis_label\":\"Term-Prob\",\"formatter\":{\"id\":\"36229\",\"type\":\"BasicTickFormatter\"},\"ticker\":{\"id\":\"36216\",\"type\":\"BasicTicker\"}},\"id\":\"36215\",\"type\":\"LinearAxis\"},{\"attributes\":{},\"id\":\"36641\",\"type\":\"LinearScale\"},{\"attributes\":{\"active_drag\":\"auto\",\"active_inspect\":\"auto\",\"active_multi\":null,\"active_scroll\":\"auto\",\"active_tap\":\"auto\",\"tools\":[{\"id\":\"36688\",\"type\":\"HoverTool\"}]},\"id\":\"36689\",\"type\":\"Toolbar\"},{\"attributes\":{},\"id\":\"36517\",\"type\":\"BasicTickFormatter\"},{\"attributes\":{},\"id\":\"36216\",\"type\":\"BasicTicker\"},{\"attributes\":{},\"id\":\"36468\",\"type\":\"BasicTicker\"},{\"attributes\":{\"callback\":null,\"tooltips\":[[\"Prob\",\"@top\"]]},\"id\":\"36688\",\"type\":\"HoverTool\"},{\"attributes\":{\"axis_label\":\"Term-Prob\",\"formatter\":{\"id\":\"36481\",\"type\":\"BasicTickFormatter\"},\"ticker\":{\"id\":\"36468\",\"type\":\"BasicTicker\"}},\"id\":\"36467\",\"type\":\"LinearAxis\"},{\"attributes\":{\"data_source\":{\"id\":\"36487\",\"type\":\"ColumnDataSource\"},\"glyph\":{\"id\":\"36512\",\"type\":\"VBar\"},\"hover_glyph\":null,\"muted_glyph\":null,\"nonselection_glyph\":{\"id\":\"36513\",\"type\":\"VBar\"},\"selection_glyph\":null,\"view\":{\"id\":\"36515\",\"type\":\"CDSView\"}},\"id\":\"36514\",\"type\":\"GlyphRenderer\"},{\"attributes\":{\"axis_label\":\"Terms\",\"formatter\":{\"id\":\"36663\",\"type\":\"CategoricalTickFormatter\"},\"major_label_orientation\":1.5707963267948966,\"ticker\":{\"id\":\"36644\",\"type\":\"CategoricalTicker\"}},\"id\":\"36643\",\"type\":\"CategoricalAxis\"},{\"attributes\":{\"dimension\":1,\"ticker\":{\"id\":\"36648\",\"type\":\"BasicTicker\"}},\"id\":\"36651\",\"type\":\"Grid\"},{\"attributes\":{\"ticker\":{\"id\":\"36212\",\"type\":\"CategoricalTicker\"}},\"id\":\"36214\",\"type\":\"Grid\"},{\"attributes\":{\"fill_alpha\":{\"value\":0.1},\"fill_color\":{\"value\":\"#1f77b4\"},\"line_alpha\":{\"value\":0.1},\"line_color\":{\"value\":\"#1f77b4\"},\"top\":{\"field\":\"top\"},\"width\":{\"value\":0.8},\"x\":{\"field\":\"x\"}},\"id\":\"36477\",\"type\":\"VBar\"},{\"attributes\":{\"source\":{\"id\":\"36487\",\"type\":\"ColumnDataSource\"}},\"id\":\"36515\",\"type\":\"CDSView\"},{\"attributes\":{},\"id\":\"36644\",\"type\":\"CategoricalTicker\"},{\"attributes\":{\"active_drag\":\"auto\",\"active_inspect\":\"auto\",\"active_multi\":null,\"active_scroll\":\"auto\",\"active_tap\":\"auto\",\"tools\":[{\"id\":\"36472\",\"type\":\"HoverTool\"}]},\"id\":\"36473\",\"type\":\"Toolbar\"},{\"attributes\":{\"align\":\"center\",\"text\":\"Topic: 12\"},\"id\":\"36561\",\"type\":\"Title\"},{\"attributes\":{\"ticker\":{\"id\":\"36644\",\"type\":\"CategoricalTicker\"}},\"id\":\"36646\",\"type\":\"Grid\"},{\"attributes\":{},\"id\":\"36212\",\"type\":\"CategoricalTicker\"},{\"attributes\":{\"dimension\":1,\"ticker\":{\"id\":\"36216\",\"type\":\"BasicTicker\"}},\"id\":\"36219\",\"type\":\"Grid\"},{\"attributes\":{\"callback\":null,\"tooltips\":[[\"Prob\",\"@top\"]]},\"id\":\"36472\",\"type\":\"HoverTool\"},{\"attributes\":{\"axis_label\":\"Terms\",\"formatter\":{\"id\":\"36231\",\"type\":\"CategoricalTickFormatter\"},\"major_label_orientation\":1.5707963267948966,\"ticker\":{\"id\":\"36212\",\"type\":\"CategoricalTicker\"}},\"id\":\"36211\",\"type\":\"CategoricalAxis\"},{\"attributes\":{},\"id\":\"36648\",\"type\":\"BasicTicker\"},{\"attributes\":{},\"id\":\"36697\",\"type\":\"BasicTickFormatter\"},{\"attributes\":{\"axis_label\":\"Term-Prob\",\"formatter\":{\"id\":\"36661\",\"type\":\"BasicTickFormatter\"},\"ticker\":{\"id\":\"36648\",\"type\":\"BasicTicker\"}},\"id\":\"36647\",\"type\":\"LinearAxis\"},{\"attributes\":{},\"id\":\"36519\",\"type\":\"CategoricalTickFormatter\"},{\"attributes\":{},\"id\":\"36521\",\"type\":\"UnionRenderers\"},{\"attributes\":{\"data_source\":{\"id\":\"36667\",\"type\":\"ColumnDataSource\"},\"glyph\":{\"id\":\"36692\",\"type\":\"VBar\"},\"hover_glyph\":null,\"muted_glyph\":null,\"nonselection_glyph\":{\"id\":\"36693\",\"type\":\"VBar\"},\"selection_glyph\":null,\"view\":{\"id\":\"36695\",\"type\":\"CDSView\"}},\"id\":\"36694\",\"type\":\"GlyphRenderer\"},{\"attributes\":{\"below\":[{\"id\":\"36499\",\"type\":\"CategoricalAxis\"}],\"center\":[{\"id\":\"36502\",\"type\":\"Grid\"},{\"id\":\"36507\",\"type\":\"Grid\"}],\"left\":[{\"id\":\"36503\",\"type\":\"LinearAxis\"}],\"plot_height\":250,\"plot_width\":400,\"renderers\":[{\"id\":\"36514\",\"type\":\"GlyphRenderer\"}],\"title\":{\"id\":\"36489\",\"type\":\"Title\"},\"toolbar\":{\"id\":\"36509\",\"type\":\"Toolbar\"},\"toolbar_location\":null,\"x_range\":{\"id\":\"36491\",\"type\":\"FactorRange\"},\"x_scale\":{\"id\":\"36495\",\"type\":\"CategoricalScale\"},\"y_range\":{\"id\":\"36493\",\"type\":\"DataRange1d\"},\"y_scale\":{\"id\":\"36497\",\"type\":\"LinearScale\"}},\"id\":\"36488\",\"subtype\":\"Figure\",\"type\":\"Plot\"},{\"attributes\":{},\"id\":\"36207\",\"type\":\"CategoricalScale\"},{\"attributes\":{\"fill_alpha\":{\"value\":0.1},\"fill_color\":{\"value\":\"#1f77b4\"},\"line_alpha\":{\"value\":0.1},\"line_color\":{\"value\":\"#1f77b4\"},\"top\":{\"field\":\"top\"},\"width\":{\"value\":0.8},\"x\":{\"field\":\"x\"}},\"id\":\"36657\",\"type\":\"VBar\"},{\"attributes\":{\"source\":{\"id\":\"36667\",\"type\":\"ColumnDataSource\"}},\"id\":\"36695\",\"type\":\"CDSView\"},{\"attributes\":{},\"id\":\"36522\",\"type\":\"Selection\"},{\"attributes\":{\"active_drag\":\"auto\",\"active_inspect\":\"auto\",\"active_multi\":null,\"active_scroll\":\"auto\",\"active_tap\":\"auto\",\"tools\":[{\"id\":\"36652\",\"type\":\"HoverTool\"}]},\"id\":\"36653\",\"type\":\"Toolbar\"},{\"attributes\":{},\"id\":\"36481\",\"type\":\"BasicTickFormatter\"},{\"attributes\":{\"callback\":null,\"tooltips\":[[\"Prob\",\"@top\"]]},\"id\":\"36652\",\"type\":\"HoverTool\"},{\"attributes\":{\"callback\":null,\"tooltips\":[[\"Prob\",\"@top\"]]},\"id\":\"36220\",\"type\":\"HoverTool\"},{\"attributes\":{\"data_source\":{\"id\":\"36451\",\"type\":\"ColumnDataSource\"},\"glyph\":{\"id\":\"36476\",\"type\":\"VBar\"},\"hover_glyph\":null,\"muted_glyph\":null,\"nonselection_glyph\":{\"id\":\"36477\",\"type\":\"VBar\"},\"selection_glyph\":null,\"view\":{\"id\":\"36479\",\"type\":\"CDSView\"}},\"id\":\"36478\",\"type\":\"GlyphRenderer\"},{\"attributes\":{},\"id\":\"36701\",\"type\":\"UnionRenderers\"},{\"attributes\":{},\"id\":\"36699\",\"type\":\"CategoricalTickFormatter\"},{\"attributes\":{\"below\":[{\"id\":\"36535\",\"type\":\"CategoricalAxis\"}],\"center\":[{\"id\":\"36538\",\"type\":\"Grid\"},{\"id\":\"36543\",\"type\":\"Grid\"}],\"left\":[{\"id\":\"36539\",\"type\":\"LinearAxis\"}],\"plot_height\":250,\"plot_width\":400,\"renderers\":[{\"id\":\"36550\",\"type\":\"GlyphRenderer\"}],\"title\":{\"id\":\"36525\",\"type\":\"Title\"},\"toolbar\":{\"id\":\"36545\",\"type\":\"Toolbar\"},\"toolbar_location\":null,\"x_range\":{\"id\":\"36527\",\"type\":\"FactorRange\"},\"x_scale\":{\"id\":\"36531\",\"type\":\"CategoricalScale\"},\"y_range\":{\"id\":\"36529\",\"type\":\"DataRange1d\"},\"y_scale\":{\"id\":\"36533\",\"type\":\"LinearScale\"}},\"id\":\"36524\",\"subtype\":\"Figure\",\"type\":\"Plot\"},{\"attributes\":{\"source\":{\"id\":\"36451\",\"type\":\"ColumnDataSource\"}},\"id\":\"36479\",\"type\":\"CDSView\"},{\"attributes\":{\"data_source\":{\"id\":\"36199\",\"type\":\"ColumnDataSource\"},\"glyph\":{\"id\":\"36224\",\"type\":\"VBar\"},\"hover_glyph\":null,\"muted_glyph\":null,\"nonselection_glyph\":{\"id\":\"36225\",\"type\":\"VBar\"},\"selection_glyph\":null,\"view\":{\"id\":\"36227\",\"type\":\"CDSView\"}},\"id\":\"36226\",\"type\":\"GlyphRenderer\"},{\"attributes\":{\"callback\":null,\"factors\":[\"learn\",\"cultur\",\"nice\",\"could\",\"staff\",\"experi\",\"atmospher\",\"skill\",\"easi\",\"better\"]},\"id\":\"36527\",\"type\":\"FactorRange\"},{\"attributes\":{},\"id\":\"36702\",\"type\":\"Selection\"},{\"attributes\":{},\"id\":\"36665\",\"type\":\"UnionRenderers\"},{\"attributes\":{\"fill_color\":{\"value\":\"#1f77b4\"},\"line_color\":{\"value\":\"#1f77b4\"},\"top\":{\"field\":\"top\"},\"width\":{\"value\":0.8},\"x\":{\"field\":\"x\"}},\"id\":\"36548\",\"type\":\"VBar\"},{\"attributes\":{},\"id\":\"36486\",\"type\":\"Selection\"},{\"attributes\":{\"data_source\":{\"id\":\"36631\",\"type\":\"ColumnDataSource\"},\"glyph\":{\"id\":\"36656\",\"type\":\"VBar\"},\"hover_glyph\":null,\"muted_glyph\":null,\"nonselection_glyph\":{\"id\":\"36657\",\"type\":\"VBar\"},\"selection_glyph\":null,\"view\":{\"id\":\"36659\",\"type\":\"CDSView\"}},\"id\":\"36658\",\"type\":\"GlyphRenderer\"},{\"attributes\":{},\"id\":\"36483\",\"type\":\"CategoricalTickFormatter\"},{\"attributes\":{\"active_drag\":\"auto\",\"active_inspect\":\"auto\",\"active_multi\":null,\"active_scroll\":\"auto\",\"active_tap\":\"auto\",\"tools\":[{\"id\":\"36220\",\"type\":\"HoverTool\"}]},\"id\":\"36221\",\"type\":\"Toolbar\"},{\"attributes\":{\"source\":{\"id\":\"36631\",\"type\":\"ColumnDataSource\"}},\"id\":\"36659\",\"type\":\"CDSView\"},{\"attributes\":{\"below\":[{\"id\":\"36715\",\"type\":\"CategoricalAxis\"}],\"center\":[{\"id\":\"36718\",\"type\":\"Grid\"},{\"id\":\"36723\",\"type\":\"Grid\"}],\"left\":[{\"id\":\"36719\",\"type\":\"LinearAxis\"}],\"plot_height\":250,\"plot_width\":400,\"renderers\":[{\"id\":\"36730\",\"type\":\"GlyphRenderer\"}],\"title\":{\"id\":\"36705\",\"type\":\"Title\"},\"toolbar\":{\"id\":\"36725\",\"type\":\"Toolbar\"},\"toolbar_location\":null,\"x_range\":{\"id\":\"36707\",\"type\":\"FactorRange\"},\"x_scale\":{\"id\":\"36711\",\"type\":\"CategoricalScale\"},\"y_range\":{\"id\":\"36709\",\"type\":\"DataRange1d\"},\"y_scale\":{\"id\":\"36713\",\"type\":\"LinearScale\"}},\"id\":\"36704\",\"subtype\":\"Figure\",\"type\":\"Plot\"},{\"attributes\":{\"source\":{\"id\":\"36199\",\"type\":\"ColumnDataSource\"}},\"id\":\"36227\",\"type\":\"CDSView\"},{\"attributes\":{\"align\":\"center\",\"text\":\"Topic: 16\"},\"id\":\"36705\",\"type\":\"Title\"},{\"attributes\":{\"callback\":null,\"data\":{\"top\":{\"__ndarray__\":\"exSuR+F61D/sUbgeheuxP7gehetRuJ4/exSuR+F6lD97FK5H4XqUP3sUrkfhepQ/exSuR+F6hD97FK5H4XqEP3sUrkfheoQ/exSuR+F6hD8=\",\"dtype\":\"float64\",\"shape\":[10]},\"x\":[\"manag\",\"poor\",\"poor_manag\",\"due\",\"cut\",\"rais\",\"extrem\",\"terribl\",\"horribl\",\"polit\"]},\"selected\":{\"id\":\"36630\",\"type\":\"Selection\"},\"selection_policy\":{\"id\":\"36629\",\"type\":\"UnionRenderers\"}},\"id\":\"36595\",\"type\":\"ColumnDataSource\"},{\"attributes\":{},\"id\":\"36234\",\"type\":\"Selection\"},{\"attributes\":{\"callback\":null,\"factors\":[\"team\",\"bonus\",\"medic\",\"pto\",\"program\",\"develop\",\"reward\",\"best\",\"benifit\",\"reimburs\"]},\"id\":\"36707\",\"type\":\"FactorRange\"},{\"attributes\":{},\"id\":\"36663\",\"type\":\"CategoricalTickFormatter\"},{\"attributes\":{\"callback\":null,\"factors\":[\"lack\",\"chang\",\"commun\",\"train\",\"difficult\",\"promot\",\"constant\",\"goal\",\"depart\",\"polici\"]},\"id\":\"36491\",\"type\":\"FactorRange\"},{\"attributes\":{},\"id\":\"36666\",\"type\":\"Selection\"},{\"attributes\":{\"align\":\"center\",\"text\":\"Topic: 4\"},\"id\":\"36273\",\"type\":\"Title\"},{\"attributes\":{},\"id\":\"36531\",\"type\":\"CategoricalScale\"},{\"attributes\":{\"fill_color\":{\"value\":\"#1f77b4\"},\"line_color\":{\"value\":\"#1f77b4\"},\"top\":{\"field\":\"top\"},\"width\":{\"value\":0.8},\"x\":{\"field\":\"x\"}},\"id\":\"36728\",\"type\":\"VBar\"},{\"attributes\":{\"callback\":null},\"id\":\"36529\",\"type\":\"DataRange1d\"},{\"attributes\":{\"callback\":null,\"data\":{\"top\":{\"__ndarray__\":\"uB6F61G4vj+4HoXrUbiuP5qZmZmZmak/mpmZmZmZqT97FK5H4XqkP3sUrkfheqQ/exSuR+F6pD97FK5H4XqUP3sUrkfhepQ/exSuR+F6lD8=\",\"dtype\":\"float64\",\"shape\":[10]},\"x\":[\"day\",\"shift\",\"help\",\"salari\",\"overtim\",\"growth\",\"secur\",\"option\",\"stock\",\"requir\"]},\"selected\":{\"id\":\"36342\",\"type\":\"Selection\"},\"selection_policy\":{\"id\":\"36341\",\"type\":\"UnionRenderers\"}},\"id\":\"36307\",\"type\":\"ColumnDataSource\"},{\"attributes\":{\"fill_color\":{\"value\":\"#1f77b4\"},\"line_color\":{\"value\":\"#1f77b4\"},\"top\":{\"field\":\"top\"},\"width\":{\"value\":0.8},\"x\":{\"field\":\"x\"}},\"id\":\"36512\",\"type\":\"VBar\"},{\"attributes\":{\"callback\":null,\"data\":{\"top\":{\"__ndarray__\":\"exSuR+F6xD+amZmZmZm5P7gehetRuK4/mpmZmZmZqT97FK5H4XqkP7gehetRuJ4/uB6F61G4nj+4HoXrUbieP7gehetRuJ4/uB6F61G4nj8=\",\"dtype\":\"float64\",\"shape\":[10]},\"x\":[\"break\",\"short\",\"short_break\",\"lunch\",\"worklif\",\"worklif_balanc\",\"balanc\",\"sometim\",\"fast\",\"pace\"]},\"selected\":{\"id\":\"36270\",\"type\":\"Selection\"},\"selection_policy\":{\"id\":\"36269\",\"type\":\"UnionRenderers\"}},\"id\":\"36235\",\"type\":\"ColumnDataSource\"},{\"attributes\":{},\"id\":\"36533\",\"type\":\"LinearScale\"},{\"attributes\":{\"align\":\"center\",\"text\":\"Topic: 3\"},\"id\":\"36237\",\"type\":\"Title\"},{\"attributes\":{\"below\":[{\"id\":\"36679\",\"type\":\"CategoricalAxis\"}],\"center\":[{\"id\":\"36682\",\"type\":\"Grid\"},{\"id\":\"36687\",\"type\":\"Grid\"}],\"left\":[{\"id\":\"36683\",\"type\":\"LinearAxis\"}],\"plot_height\":250,\"plot_width\":400,\"renderers\":[{\"id\":\"36694\",\"type\":\"GlyphRenderer\"}],\"title\":{\"id\":\"36669\",\"type\":\"Title\"},\"toolbar\":{\"id\":\"36689\",\"type\":\"Toolbar\"},\"toolbar_location\":null,\"x_range\":{\"id\":\"36671\",\"type\":\"FactorRange\"},\"x_scale\":{\"id\":\"36675\",\"type\":\"CategoricalScale\"},\"y_range\":{\"id\":\"36673\",\"type\":\"DataRange1d\"},\"y_scale\":{\"id\":\"36677\",\"type\":\"LinearScale\"}},\"id\":\"36668\",\"subtype\":\"Figure\",\"type\":\"Plot\"},{\"attributes\":{\"axis_label\":\"Terms\",\"formatter\":{\"id\":\"36555\",\"type\":\"CategoricalTickFormatter\"},\"major_label_orientation\":1.5707963267948966,\"ticker\":{\"id\":\"36536\",\"type\":\"CategoricalTicker\"}},\"id\":\"36535\",\"type\":\"CategoricalAxis\"},{\"attributes\":{\"callback\":null,\"data\":{\"top\":{\"__ndarray__\":\"SOF6FK5H0T8zMzMzMzPDPwrXo3A9Crc/mpmZmZmZqT97FK5H4XqkP3sUrkfhepQ/exSuR+F6lD97FK5H4XqUP3sUrkfheoQ/exSuR+F6hD8=\",\"dtype\":\"float64\",\"shape\":[10]},\"x\":[\"hour\",\"peopl\",\"lot\",\"home\",\"meet\",\"flexibl_hour\",\"abl\",\"build\",\"provid\",\"meet_peopl\"]},\"selected\":{\"id\":\"36594\",\"type\":\"Selection\"},\"selection_policy\":{\"id\":\"36593\",\"type\":\"UnionRenderers\"}},\"id\":\"36559\",\"type\":\"ColumnDataSource\"},{\"attributes\":{\"dimension\":1,\"ticker\":{\"id\":\"36540\",\"type\":\"BasicTicker\"}},\"id\":\"36543\",\"type\":\"Grid\"},{\"attributes\":{},\"id\":\"36711\",\"type\":\"CategoricalScale\"},{\"attributes\":{\"callback\":null},\"id\":\"36709\",\"type\":\"DataRange1d\"},{\"attributes\":{},\"id\":\"36231\",\"type\":\"CategoricalTickFormatter\"},{\"attributes\":{},\"id\":\"36536\",\"type\":\"CategoricalTicker\"},{\"attributes\":{\"below\":[{\"id\":\"36247\",\"type\":\"CategoricalAxis\"}],\"center\":[{\"id\":\"36250\",\"type\":\"Grid\"},{\"id\":\"36255\",\"type\":\"Grid\"}],\"left\":[{\"id\":\"36251\",\"type\":\"LinearAxis\"}],\"plot_height\":250,\"plot_width\":400,\"renderers\":[{\"id\":\"36262\",\"type\":\"GlyphRenderer\"}],\"title\":{\"id\":\"36237\",\"type\":\"Title\"},\"toolbar\":{\"id\":\"36257\",\"type\":\"Toolbar\"},\"toolbar_location\":null,\"x_range\":{\"id\":\"36239\",\"type\":\"FactorRange\"},\"x_scale\":{\"id\":\"36243\",\"type\":\"CategoricalScale\"},\"y_range\":{\"id\":\"36241\",\"type\":\"DataRange1d\"},\"y_scale\":{\"id\":\"36245\",\"type\":\"LinearScale\"}},\"id\":\"36236\",\"subtype\":\"Figure\",\"type\":\"Plot\"},{\"attributes\":{},\"id\":\"36495\",\"type\":\"CategoricalScale\"},{\"attributes\":{\"ticker\":{\"id\":\"36536\",\"type\":\"CategoricalTicker\"}},\"id\":\"36538\",\"type\":\"Grid\"},{\"attributes\":{},\"id\":\"36713\",\"type\":\"LinearScale\"},{\"attributes\":{},\"id\":\"36209\",\"type\":\"LinearScale\"},{\"attributes\":{\"callback\":null},\"id\":\"36493\",\"type\":\"DataRange1d\"},{\"attributes\":{\"fill_color\":{\"value\":\"#1f77b4\"},\"line_color\":{\"value\":\"#1f77b4\"},\"top\":{\"field\":\"top\"},\"width\":{\"value\":0.8},\"x\":{\"field\":\"x\"}},\"id\":\"36692\",\"type\":\"VBar\"},{\"attributes\":{},\"id\":\"36540\",\"type\":\"BasicTicker\"},{\"attributes\":{\"callback\":null,\"factors\":[\"discount\",\"care\",\"busi\",\"health\",\"health_care\",\"dont\",\"store\",\"hire\",\"divers\",\"recognit\"]},\"id\":\"36671\",\"type\":\"FactorRange\"},{\"attributes\":{\"axis_label\":\"Terms\",\"formatter\":{\"id\":\"36735\",\"type\":\"CategoricalTickFormatter\"},\"major_label_orientation\":1.5707963267948966,\"ticker\":{\"id\":\"36716\",\"type\":\"CategoricalTicker\"}},\"id\":\"36715\",\"type\":\"CategoricalAxis\"},{\"attributes\":{},\"id\":\"36497\",\"type\":\"LinearScale\"},{\"attributes\":{\"axis_label\":\"Term-Prob\",\"formatter\":{\"id\":\"36553\",\"type\":\"BasicTickFormatter\"},\"ticker\":{\"id\":\"36540\",\"type\":\"BasicTicker\"}},\"id\":\"36539\",\"type\":\"LinearAxis\"},{\"attributes\":{\"dimension\":1,\"ticker\":{\"id\":\"36720\",\"type\":\"BasicTicker\"}},\"id\":\"36723\",\"type\":\"Grid\"},{\"attributes\":{},\"id\":\"36193\",\"type\":\"BasicTickFormatter\"},{\"attributes\":{},\"id\":\"36716\",\"type\":\"CategoricalTicker\"},{\"attributes\":{\"axis_label\":\"Terms\",\"formatter\":{\"id\":\"36519\",\"type\":\"CategoricalTickFormatter\"},\"major_label_orientation\":1.5707963267948966,\"ticker\":{\"id\":\"36500\",\"type\":\"CategoricalTicker\"}},\"id\":\"36499\",\"type\":\"CategoricalAxis\"},{\"attributes\":{\"fill_alpha\":{\"value\":0.1},\"fill_color\":{\"value\":\"#1f77b4\"},\"line_alpha\":{\"value\":0.1},\"line_color\":{\"value\":\"#1f77b4\"},\"top\":{\"field\":\"top\"},\"width\":{\"value\":0.8},\"x\":{\"field\":\"x\"}},\"id\":\"36549\",\"type\":\"VBar\"},{\"attributes\":{\"dimension\":1,\"ticker\":{\"id\":\"36504\",\"type\":\"BasicTicker\"}},\"id\":\"36507\",\"type\":\"Grid\"},{\"attributes\":{\"ticker\":{\"id\":\"36716\",\"type\":\"CategoricalTicker\"}},\"id\":\"36718\",\"type\":\"Grid\"},{\"attributes\":{\"callback\":null,\"data\":{\"top\":{\"__ndarray__\":\"exSuR+F6tD+4HoXrUbiuP5qZmZmZmak/exSuR+F6pD+4HoXrUbieP7gehetRuJ4/uB6F61G4nj97FK5H4XqUP3sUrkfheoQ/exSuR+F6hD8=\",\"dtype\":\"float64\",\"shape\":[10]},\"x\":[\"discount\",\"care\",\"busi\",\"health\",\"health_care\",\"dont\",\"store\",\"hire\",\"divers\",\"recognit\"]},\"selected\":{\"id\":\"36702\",\"type\":\"Selection\"},\"selection_policy\":{\"id\":\"36701\",\"type\":\"UnionRenderers\"}},\"id\":\"36667\",\"type\":\"ColumnDataSource\"},{\"attributes\":{\"active_drag\":\"auto\",\"active_inspect\":\"auto\",\"active_multi\":null,\"active_scroll\":\"auto\",\"active_tap\":\"auto\",\"tools\":[{\"id\":\"36544\",\"type\":\"HoverTool\"}]},\"id\":\"36545\",\"type\":\"Toolbar\"},{\"attributes\":{},\"id\":\"36500\",\"type\":\"CategoricalTicker\"},{\"attributes\":{},\"id\":\"36243\",\"type\":\"CategoricalScale\"},{\"attributes\":{\"children\":[[{\"id\":\"36164\",\"subtype\":\"Figure\",\"type\":\"Plot\"},0,0],[{\"id\":\"36200\",\"subtype\":\"Figure\",\"type\":\"Plot\"},0,1],[{\"id\":\"36236\",\"subtype\":\"Figure\",\"type\":\"Plot\"},1,0],[{\"id\":\"36272\",\"subtype\":\"Figure\",\"type\":\"Plot\"},1,1],[{\"id\":\"36308\",\"subtype\":\"Figure\",\"type\":\"Plot\"},2,0],[{\"id\":\"36344\",\"subtype\":\"Figure\",\"type\":\"Plot\"},2,1],[{\"id\":\"36380\",\"subtype\":\"Figure\",\"type\":\"Plot\"},3,0],[{\"id\":\"36416\",\"subtype\":\"Figure\",\"type\":\"Plot\"},3,1],[{\"id\":\"36452\",\"subtype\":\"Figure\",\"type\":\"Plot\"},4,0],[{\"id\":\"36488\",\"subtype\":\"Figure\",\"type\":\"Plot\"},4,1],[{\"id\":\"36524\",\"subtype\":\"Figure\",\"type\":\"Plot\"},5,0],[{\"id\":\"36560\",\"subtype\":\"Figure\",\"type\":\"Plot\"},5,1],[{\"id\":\"36596\",\"subtype\":\"Figure\",\"type\":\"Plot\"},6,0],[{\"id\":\"36632\",\"subtype\":\"Figure\",\"type\":\"Plot\"},6,1],[{\"id\":\"36668\",\"subtype\":\"Figure\",\"type\":\"Plot\"},7,0],[{\"id\":\"36704\",\"subtype\":\"Figure\",\"type\":\"Plot\"},7,1]]},\"id\":\"36868\",\"type\":\"GridBox\"},{\"attributes\":{},\"id\":\"36675\",\"type\":\"CategoricalScale\"},{\"attributes\":{},\"id\":\"36720\",\"type\":\"BasicTicker\"},{\"attributes\":{\"callback\":null,\"tooltips\":[[\"Prob\",\"@top\"]]},\"id\":\"36544\",\"type\":\"HoverTool\"},{\"attributes\":{\"ticker\":{\"id\":\"36500\",\"type\":\"CategoricalTicker\"}},\"id\":\"36502\",\"type\":\"Grid\"},{\"attributes\":{\"callback\":null},\"id\":\"36673\",\"type\":\"DataRange1d\"},{\"attributes\":{\"axis_label\":\"Term-Prob\",\"formatter\":{\"id\":\"36733\",\"type\":\"BasicTickFormatter\"},\"ticker\":{\"id\":\"36720\",\"type\":\"BasicTicker\"}},\"id\":\"36719\",\"type\":\"LinearAxis\"},{\"attributes\":{\"fill_color\":{\"value\":\"#1f77b4\"},\"line_color\":{\"value\":\"#1f77b4\"},\"top\":{\"field\":\"top\"},\"width\":{\"value\":0.8},\"x\":{\"field\":\"x\"}},\"id\":\"36260\",\"type\":\"VBar\"},{\"attributes\":{\"callback\":null,\"tooltips\":[[\"Prob\",\"@top\"]]},\"id\":\"36724\",\"type\":\"HoverTool\"},{\"attributes\":{\"callback\":null},\"id\":\"36241\",\"type\":\"DataRange1d\"},{\"attributes\":{},\"id\":\"36677\",\"type\":\"LinearScale\"},{\"attributes\":{},\"id\":\"36504\",\"type\":\"BasicTicker\"},{\"attributes\":{\"axis_label\":\"Term-Prob\",\"formatter\":{\"id\":\"36517\",\"type\":\"BasicTickFormatter\"},\"ticker\":{\"id\":\"36504\",\"type\":\"BasicTicker\"}},\"id\":\"36503\",\"type\":\"LinearAxis\"},{\"attributes\":{\"axis_label\":\"Terms\",\"formatter\":{\"id\":\"36699\",\"type\":\"CategoricalTickFormatter\"},\"major_label_orientation\":1.5707963267948966,\"ticker\":{\"id\":\"36680\",\"type\":\"CategoricalTicker\"}},\"id\":\"36679\",\"type\":\"CategoricalAxis\"}],\"root_ids\":[\"36871\"]},\"title\":\"Bokeh Application\",\"version\":\"1.3.4\"}};\n",
       "  var render_items = [{\"docid\":\"14cf6f59-5e83-490a-adc5-1c1fb67a638e\",\"roots\":{\"36871\":\"ba5a2867-aa7a-46a0-80d8-d8328ca4b429\"}}];\n",
       "  root.Bokeh.embed.embed_items_notebook(docs_json, render_items);\n",
       "\n",
       "  }\n",
       "  if (root.Bokeh !== undefined) {\n",
       "    embed_document(root);\n",
       "  } else {\n",
       "    var attempts = 0;\n",
       "    var timer = setInterval(function(root) {\n",
       "      if (root.Bokeh !== undefined) {\n",
       "        embed_document(root);\n",
       "        clearInterval(timer);\n",
       "      }\n",
       "      attempts++;\n",
       "      if (attempts > 100) {\n",
       "        console.log(\"Bokeh: ERROR: Unable to run BokehJS code because BokehJS library is missing\");\n",
       "        clearInterval(timer);\n",
       "      }\n",
       "    }, 10, root)\n",
       "  }\n",
       "})(window);"
      ],
      "application/vnd.bokehjs_exec.v0+json": ""
     },
     "metadata": {
      "application/vnd.bokehjs_exec.v0+json": {
       "id": "36871"
      }
     },
     "output_type": "display_data"
    },
    {
     "data": {
      "text/plain": [
       "<Figure size 432x288 with 0 Axes>"
      ]
     },
     "metadata": {},
     "output_type": "display_data"
    }
   ],
   "source": [
    "from bokeh.layouts import gridplot\n",
    "from bokeh.models.annotations import Title\n",
    "from bokeh.io import export_png\n",
    "\n",
    "fs = []\n",
    "for i in range(num_topics):\n",
    "    df_ = pd.DataFrame()\n",
    "    df_[\"x\"] = imp_words[i]\n",
    "    df_[\"top\"] = imp_word_prob[i]\n",
    "    \n",
    "    source = ColumnDataSource(dict(\n",
    "        x=df_['x'],\n",
    "        top=df_['top']\n",
    "    ))\n",
    "    \n",
    "    p = figure(x_range=df_[\"x\"], plot_height=250, plot_width=400, title=f\"Topic: {i+1}\",\n",
    "           toolbar_location=None, tools=\"hover\", x_axis_label=\"Terms\", y_axis_label=\"Term-Prob\")\n",
    "    p.vbar(x='x', top= 'top', width=0.8, source=source)\n",
    "    hover = p.select(dict(type=HoverTool))\n",
    "    hover.tooltips = { \"Prob\": \"@top\"}\n",
    "    p.xaxis.major_label_orientation = math.pi/2\n",
    "    p.title.align = \"center\"\n",
    "    fs.append(p)\n",
    "\n",
    "t = Title()\n",
    "t.text = 'Topic-Term Probability'\n",
    "plt.suptitle(\"Topic-Term Probability\")\n",
    "# plt.show()\n",
    "# show(gridplot(fs, ncols=2))\n",
    "import os \n",
    "home = os.path.expanduser(\"~\")\n",
    "output_file(home + \"/Desktop/R_js/img/combo/20/top-ten.html\")\n",
    "show(gridplot(fs, ncols=2))\n",
    "# import os\n",
    "\n",
    "# root = os.path.expanduser(\"~\")\n",
    "# path = root + \"/Desktop/R_js/img/pros/bar.png\"\n",
    "# export_png(plt, filename=path)\n"
   ]
  },
  {
   "cell_type": "markdown",
   "metadata": {},
   "source": [
    "# Hierarchical Clustering"
   ]
  },
  {
   "cell_type": "code",
   "execution_count": 87,
   "metadata": {},
   "outputs": [],
   "source": [
    "# num_topics = 16\n",
    "df = pd.read_csv(f\"~/Desktop/R_js/data1/beta/pro{num_topics}_beta.csv\")"
   ]
  },
  {
   "cell_type": "code",
   "execution_count": 88,
   "metadata": {},
   "outputs": [
    {
     "data": {
      "text/html": [
       "<div>\n",
       "<style scoped>\n",
       "    .dataframe tbody tr th:only-of-type {\n",
       "        vertical-align: middle;\n",
       "    }\n",
       "\n",
       "    .dataframe tbody tr th {\n",
       "        vertical-align: top;\n",
       "    }\n",
       "\n",
       "    .dataframe thead th {\n",
       "        text-align: right;\n",
       "    }\n",
       "</style>\n",
       "<table border=\"1\" class=\"dataframe\">\n",
       "  <thead>\n",
       "    <tr style=\"text-align: right;\">\n",
       "      <th></th>\n",
       "      <th>topic</th>\n",
       "      <th>term</th>\n",
       "      <th>beta</th>\n",
       "    </tr>\n",
       "  </thead>\n",
       "  <tbody>\n",
       "    <tr>\n",
       "      <td>0</td>\n",
       "      <td>1</td>\n",
       "      <td>1_hour_break</td>\n",
       "      <td>4.443760e-301</td>\n",
       "    </tr>\n",
       "    <tr>\n",
       "      <td>1</td>\n",
       "      <td>2</td>\n",
       "      <td>1_hour_break</td>\n",
       "      <td>0.000000e+00</td>\n",
       "    </tr>\n",
       "    <tr>\n",
       "      <td>2</td>\n",
       "      <td>3</td>\n",
       "      <td>1_hour_break</td>\n",
       "      <td>1.693463e-285</td>\n",
       "    </tr>\n",
       "    <tr>\n",
       "      <td>3</td>\n",
       "      <td>4</td>\n",
       "      <td>1_hour_break</td>\n",
       "      <td>5.632717e-231</td>\n",
       "    </tr>\n",
       "    <tr>\n",
       "      <td>4</td>\n",
       "      <td>5</td>\n",
       "      <td>1_hour_break</td>\n",
       "      <td>0.000000e+00</td>\n",
       "    </tr>\n",
       "  </tbody>\n",
       "</table>\n",
       "</div>"
      ],
      "text/plain": [
       "   topic          term           beta\n",
       "0      1  1_hour_break  4.443760e-301\n",
       "1      2  1_hour_break   0.000000e+00\n",
       "2      3  1_hour_break  1.693463e-285\n",
       "3      4  1_hour_break  5.632717e-231\n",
       "4      5  1_hour_break   0.000000e+00"
      ]
     },
     "execution_count": 88,
     "metadata": {},
     "output_type": "execute_result"
    }
   ],
   "source": [
    "df.head()"
   ]
  },
  {
   "cell_type": "code",
   "execution_count": 89,
   "metadata": {},
   "outputs": [
    {
     "name": "stdout",
     "output_type": "stream",
     "text": [
      "16\n",
      "16\n"
     ]
    }
   ],
   "source": [
    "topic_word_distr = []\n",
    "imp_words = []\n",
    "terms = df[df.topic == 1].term.values.tolist()\n",
    "\n",
    "num_topics = len(df.topic.unique())\n",
    "\n",
    "for i in range(1, num_topics+1):\n",
    "    topic = df[df.topic == i] \n",
    "    vals = topic.beta.values.tolist()\n",
    "    topic_word_distr += [np.asarray(vals)]\n",
    "    words = [terms[i] for i in np.asarray(vals).argsort()[-10:][::-1].tolist()]\n",
    "    imp_words.append(words)\n",
    "    \n",
    "print(len(topic_word_distr))\n",
    "print(len(imp_words))\n"
   ]
  },
  {
   "cell_type": "code",
   "execution_count": 90,
   "metadata": {},
   "outputs": [
    {
     "name": "stdout",
     "output_type": "stream",
     "text": [
      "[[0.0, inf, inf, inf, inf, inf, inf, 0.8320041574735262, inf, 0.83241516788048, inf, inf, inf, inf, inf, 0.8317131581781076], [inf, 0.0, 0.8321510639271059, 0.830746994435888, inf, inf, inf, 0.8318968993283732, inf, inf, inf, inf, inf, inf, inf, 0.8317036099812292], [inf, 0.8321510639271059, 0.0, inf, 0.8324766704918531, inf, inf, 0.8324768012220044, inf, inf, inf, inf, inf, inf, inf, inf], [inf, 0.830746994435888, inf, 0.0, 0.8320672013953118, inf, inf, 0.8323237411236151, 0.8301030610348346, 0.8320602147982433, 0.8325149998412377, inf, inf, inf, 0.8324416674272346, inf], [inf, inf, 0.8324766704918531, 0.8320672013953118, 0.0, inf, inf, inf, 0.8318125706383528, inf, 0.8323137976550453, inf, inf, 0.8319785256189793, 0.8311171130100422, 0.8322892853933841], [inf, inf, inf, inf, inf, 0.0, inf, 0.8316465019834358, inf, 0.8317515151195622, 0.832336999490058, inf, inf, 0.8324342971843687, inf, inf], [inf, inf, inf, inf, inf, inf, 0.0, inf, inf, inf, inf, inf, inf, inf, inf, inf], [0.8320041574735262, 0.8318968993283732, 0.8324768012220044, 0.8323237411236151, inf, 0.8316465019834358, inf, 0.0, 0.8318168802836499, 0.832146442032297, 0.8323353801548613, 0.8048428127304854, 0.8289727379761771, 0.8321947222941357, 0.8323405196603263, 0.8321567996841556], [inf, inf, inf, 0.8301030610348346, 0.8318125706383528, inf, inf, 0.8318168802836499, 0.0, 0.831847684056393, 0.8324837468299101, inf, inf, inf, inf, inf], [0.83241516788048, inf, inf, 0.8320602147982433, inf, 0.8317515151195622, inf, 0.832146442032297, 0.831847684056393, 0.0, inf, inf, 0.8323979157338178, 0.8323788974478886, inf, inf], [inf, inf, inf, 0.8325149998412377, 0.8323137976550453, 0.832336999490058, inf, 0.8323353801548613, 0.8324837468299101, inf, 0.0, inf, 0.8316017485957985, 0.8324986299362174, 0.8324878522176025, 0.8319395866291809], [inf, inf, inf, inf, inf, inf, inf, 0.8048428127304854, inf, inf, inf, 0.0, inf, inf, inf, inf], [inf, inf, inf, inf, inf, inf, inf, 0.8289727379761771, inf, 0.8323979157338178, 0.8316017485957985, inf, 0.0, inf, inf, inf], [inf, inf, inf, inf, 0.8319785256189793, 0.8324342971843687, inf, 0.8321947222941357, inf, 0.8323788974478886, 0.8324986299362174, inf, inf, 0.0, inf, inf], [inf, inf, inf, 0.8324416674272346, 0.8311171130100422, inf, inf, 0.8323405196603263, inf, inf, 0.8324878522176025, inf, inf, inf, 0.0, inf], [0.8317131581781076, 0.8317036099812292, inf, inf, 0.8322892853933841, inf, inf, 0.8321567996841556, inf, inf, 0.8319395866291809, inf, inf, inf, inf, 0.0]]\n"
     ]
    }
   ],
   "source": [
    "from scipy.spatial import distance\n",
    "# import scipy\n",
    "\n",
    "dist = []\n",
    "for i in range(num_topics): \n",
    "    t1 = topic_word_distr[i]\n",
    "    d1 = []\n",
    "    for j in range(num_topics):\n",
    "        t2 = topic_word_distr[j]\n",
    "        d = distance.jensenshannon(t1, t2)\n",
    "        d1.append(d)\n",
    "    dist.append(d1)\n",
    "\n",
    "print(dist)"
   ]
  },
  {
   "cell_type": "code",
   "execution_count": 91,
   "metadata": {},
   "outputs": [
    {
     "name": "stdout",
     "output_type": "stream",
     "text": [
      "16\n"
     ]
    }
   ],
   "source": [
    "from sklearn.metrics.pairwise import cosine_similarity\n",
    "import math\n",
    "\n",
    "cos_sim = cosine_similarity(topic_word_distr, topic_word_distr)\n",
    "# cos_sim = [['{:f}'.format(item) for item in item_array] for item_array in cos_sim]\n",
    "# cos_sim = np.array(cos_sim)\n",
    "np.set_printoptions(suppress=True)\n",
    "cos_sim = np.round(cos_sim, 2)\n",
    "print((len(cos_sim[0])))"
   ]
  },
  {
   "cell_type": "code",
   "execution_count": 92,
   "metadata": {},
   "outputs": [],
   "source": [
    "# import scipy.cluster.hierarchy as shc\n",
    "# import matplotlib.pyplot as plt\n",
    "\n",
    "# plt.figure(figsize=(10, 7))\n",
    "# plt.title(\" Dendograms\")\n",
    "# dend = shc.dendrogram(shc.linkage(cos_sim, method='ward'))"
   ]
  },
  {
   "cell_type": "code",
   "execution_count": 98,
   "metadata": {},
   "outputs": [
    {
     "data": {
      "text/plain": [
       "True"
      ]
     },
     "execution_count": 98,
     "metadata": {},
     "output_type": "execute_result"
    }
   ],
   "source": [
    "import os\n",
    "\n",
    "home = os.path.expanduser(\"~\")\n",
    "os.path.exists(home + \"/Desktop\")"
   ]
  },
  {
   "cell_type": "code",
   "execution_count": 104,
   "metadata": {},
   "outputs": [
    {
     "data": {
      "image/png": "[encoded data removed]",
      "text/plain": [
       "<Figure size 720x504 with 1 Axes>"
      ]
     },
     "metadata": {
      "needs_background": "light"
     },
     "output_type": "display_data"
    }
   ],
   "source": [
    "from scipy.cluster.hierarchy import dendrogram, linkage\n",
    "from matplotlib import pyplot as plt\n",
    "# from scipy.cluster import hierarchy \n",
    "\n",
    "# hierarchy.set_link_color_palette(['C0'])\n",
    "\n",
    "linked = linkage(cos_sim, 'ward')\n",
    "\n",
    "labelList = range(1, num_topics+1)\n",
    "\n",
    "plt.figure(figsize=(10, 7))\n",
    "dendrogram(linked,\n",
    "            orientation='top',\n",
    "            labels=labelList,\n",
    "            show_leaf_counts=True)\n",
    "plt.xlabel(\"Num Topics\")\n",
    "plt.ylabel(\"Similarity\")\n",
    "plt.title(\"Hierarchical Clustering\")\n",
    "# plt.show()\n",
    "\n",
    "plt.savefig(home + \"/Desktop/R_js/img/pros/hier.png\")\n",
    "\n",
    "\n"
   ]
  },
  {
   "cell_type": "code",
   "execution_count": null,
   "metadata": {},
   "outputs": [],
   "source": []
  }
 ],
 "metadata": {
  "kernelspec": {
   "display_name": "Python 3",
   "language": "python",
   "name": "python3"
  },
  "language_info": {
   "codemirror_mode": {
    "name": "ipython",
    "version": 3
   },
   "file_extension": ".py",
   "mimetype": "text/x-python",
   "name": "python",
   "nbconvert_exporter": "python",
   "pygments_lexer": "ipython3",
   "version": "3.7.4"
  }
 },
 "nbformat": 4,
 "nbformat_minor": 2
}
