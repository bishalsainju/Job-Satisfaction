{
 "cells": [
  {
   "cell_type": "code",
   "execution_count": 103,
   "metadata": {},
   "outputs": [
    {
     "data": {
      "text/html": [
       "<div>\n",
       "<style scoped>\n",
       "    .dataframe tbody tr th:only-of-type {\n",
       "        vertical-align: middle;\n",
       "    }\n",
       "\n",
       "    .dataframe tbody tr th {\n",
       "        vertical-align: top;\n",
       "    }\n",
       "\n",
       "    .dataframe thead th {\n",
       "        text-align: right;\n",
       "    }\n",
       "</style>\n",
       "<table border=\"1\" class=\"dataframe\">\n",
       "  <thead>\n",
       "    <tr style=\"text-align: right;\">\n",
       "      <th></th>\n",
       "      <th>topic</th>\n",
       "      <th>term</th>\n",
       "      <th>beta</th>\n",
       "    </tr>\n",
       "  </thead>\n",
       "  <tbody>\n",
       "    <tr>\n",
       "      <th>0</th>\n",
       "      <td>1</td>\n",
       "      <td>1_hour_break</td>\n",
       "      <td>3.333175e-24</td>\n",
       "    </tr>\n",
       "    <tr>\n",
       "      <th>1</th>\n",
       "      <td>2</td>\n",
       "      <td>1_hour_break</td>\n",
       "      <td>3.228877e-24</td>\n",
       "    </tr>\n",
       "    <tr>\n",
       "      <th>2</th>\n",
       "      <td>3</td>\n",
       "      <td>1_hour_break</td>\n",
       "      <td>6.486790e-12</td>\n",
       "    </tr>\n",
       "    <tr>\n",
       "      <th>3</th>\n",
       "      <td>4</td>\n",
       "      <td>1_hour_break</td>\n",
       "      <td>2.023997e-12</td>\n",
       "    </tr>\n",
       "    <tr>\n",
       "      <th>4</th>\n",
       "      <td>5</td>\n",
       "      <td>1_hour_break</td>\n",
       "      <td>3.937727e-08</td>\n",
       "    </tr>\n",
       "  </tbody>\n",
       "</table>\n",
       "</div>"
      ],
      "text/plain": [
       "   topic          term          beta\n",
       "0      1  1_hour_break  3.333175e-24\n",
       "1      2  1_hour_break  3.228877e-24\n",
       "2      3  1_hour_break  6.486790e-12\n",
       "3      4  1_hour_break  2.023997e-12\n",
       "4      5  1_hour_break  3.937727e-08"
      ]
     },
     "metadata": {},
     "output_type": "display_data"
    },
    {
     "name": "stdout",
     "output_type": "stream",
     "text": [
      "(66410, 3)\n"
     ]
    }
   ],
   "source": [
    "import pandas as pd\n",
    "import numpy as np\n",
    "\n",
    "num_topics = 10\n",
    "data_path = \"~/Desktop/DataViz/whisper/whisperVis/data/topicModeling/pro\"\n",
    "df = pd.read_csv(data_path + f\"/{num_topics}/beta.csv\")\n",
    "\n",
    "display(df.head())\n",
    "print(df.shape)"
   ]
  },
  {
   "cell_type": "markdown",
   "metadata": {},
   "source": [
    "## Computing topic word distribution"
   ]
  },
  {
   "cell_type": "code",
   "execution_count": 104,
   "metadata": {},
   "outputs": [
    {
     "name": "stdout",
     "output_type": "stream",
     "text": [
      "10\n",
      "10\n"
     ]
    }
   ],
   "source": [
    "topic_word_distr = []\n",
    "imp_words = []\n",
    "terms = df[df.topic == 1].term.values.tolist()\n",
    "\n",
    "num_topics = len(df.topic.unique())\n",
    "for i in range(1, num_topics+1):\n",
    "    topic = df[df.topic == i] \n",
    "    vals = topic.beta.values.tolist()\n",
    "    topic_word_distr += [np.asarray(vals)]\n",
    "    words = [terms[i] for i in np.asarray(vals).argsort()[-10:][::-1].tolist()]\n",
    "    imp_words.append(words)\n",
    "    \n",
    "print(len(topic_word_distr))\n",
    "print(len(imp_words))"
   ]
  },
  {
   "cell_type": "markdown",
   "metadata": {},
   "source": [
    "# Dissimilarity Measure"
   ]
  },
  {
   "cell_type": "code",
   "execution_count": 105,
   "metadata": {},
   "outputs": [
    {
     "name": "stdout",
     "output_type": "stream",
     "text": [
      "[[0.0, 0.0460335568329371, 0.8239785780015826, 0.8243718930161399, 0.8211542490569189, 0.8225457748989495, 0.7851704726560149, 0.82126436097393, 0.8065968339046721, 0.7845333327332118], [0.0460335568329371, 0.0, 0.8239937321342545, 0.8242772665116179, 0.8212731738765019, 0.8225717183828379, 0.7849308197066048, 0.8213019164955101, 0.8064309599207397, 0.7847485154928479], [0.8239785780015826, 0.8239937321342545, 0.0, 0.824060737580206, 0.8252000850367154, 0.81680593030572, 0.825419173454282, 0.8256744238046658, 0.8242911966073121, 0.813297188146814], [0.8243718930161399, 0.8242772665116179, 0.824060737580206, 0.0, 0.8048349275604464, 0.8236719663878131, 0.8242863663741836, 0.8186766604143078, 0.819474639460868, 0.8226448164030605], [0.8211542490569189, 0.8212731738765019, 0.8252000850367154, 0.8048349275604464, 0.0, 0.8269855744936826, 0.8201284708363028, 0.8219212236395543, 0.826349042288878, 0.8040374766410577], [0.8225457748989495, 0.8225717183828379, 0.81680593030572, 0.8236719663878131, 0.8269855744936826, 0.0, 0.8262028609589332, 0.8224017761928702, 0.8276583136211592, 0.8179483037025438], [0.7851704726560149, 0.7849308197066048, 0.825419173454282, 0.8242863663741836, 0.8201284708363028, 0.8262028609589332, 0.0, 0.7985110780468668, 0.8238620175400063, 0.8095267455105719], [0.82126436097393, 0.8213019164955101, 0.8256744238046658, 0.8186766604143078, 0.8219212236395543, 0.8224017761928702, 0.7985110780468668, 0.0, 0.8221144458466795, 0.8199810162885246], [0.8065968339046721, 0.8064309599207397, 0.8242911966073121, 0.819474639460868, 0.826349042288878, 0.8276583136211592, 0.8238620175400063, 0.8221144458466795, 0.0, 0.8229484733958884], [0.7845333327332118, 0.7847485154928479, 0.813297188146814, 0.8226448164030605, 0.8040374766410577, 0.8179483037025438, 0.8095267455105719, 0.8199810162885246, 0.8229484733958884, 0.0]]\n"
     ]
    }
   ],
   "source": [
    "from scipy.spatial import distance\n",
    "\n",
    "dist = []\n",
    "for i in range(num_topics): \n",
    "    t1 = topic_word_distr[i]\n",
    "    d1 = []\n",
    "    for j in range(num_topics):\n",
    "        t2 = topic_word_distr[j]\n",
    "        d = distance.jensenshannon(t1, t2)\n",
    "        d1.append(d)\n",
    "    dist.append(d1)\n",
    "\n",
    "print(dist)"
   ]
  },
  {
   "cell_type": "markdown",
   "metadata": {},
   "source": [
    "# Dimensionality Reduction"
   ]
  },
  {
   "cell_type": "markdown",
   "metadata": {},
   "source": [
    "## TSNE"
   ]
  },
  {
   "cell_type": "code",
   "execution_count": 106,
   "metadata": {},
   "outputs": [
    {
     "name": "stdout",
     "output_type": "stream",
     "text": [
      "[t-SNE] Computing 9 nearest neighbors...\n",
      "[t-SNE] Indexed 10 samples in 0.000s...\n",
      "[t-SNE] Computed neighbors for 10 samples in 0.001s...\n",
      "[t-SNE] Computed conditional probabilities for sample 10 / 10\n",
      "[t-SNE] Mean sigma: 1125899906842624.000000\n",
      "[t-SNE] KL divergence after 250 iterations with early exaggeration: 49.707256\n",
      "[t-SNE] KL divergence after 1000 iterations: 0.243565\n"
     ]
    }
   ],
   "source": [
    "# Clustering\n",
    "from sklearn.manifold import TSNE\n",
    "# tsne = TSNE(n_components=2)\n",
    "tsne = TSNE(n_components=2, verbose=1, random_state=0, angle=.99, init='pca')\n",
    "X_tsne = tsne.fit_transform(topic_word_distr)"
   ]
  },
  {
   "cell_type": "markdown",
   "metadata": {},
   "source": [
    "## PCA"
   ]
  },
  {
   "cell_type": "code",
   "execution_count": 107,
   "metadata": {},
   "outputs": [],
   "source": [
    "from sklearn.decomposition import PCA\n",
    "\n",
    "pca = PCA(n_components=2)\n",
    "X_tsne = pca.fit_transform(topic_word_distr)"
   ]
  },
  {
   "cell_type": "code",
   "execution_count": 108,
   "metadata": {},
   "outputs": [
    {
     "name": "stdout",
     "output_type": "stream",
     "text": [
      "[[-0.04497959 -0.05855797]\n",
      " [-0.04487099 -0.05833641]\n",
      " [ 0.33999942  0.01865963]\n",
      " [-0.02697791 -0.01677193]\n",
      " [-0.06628414  0.2549494 ]\n",
      " [-0.02066541 -0.0186833 ]\n",
      " [-0.04446817 -0.05338942]\n",
      " [-0.03259291 -0.02629765]\n",
      " [-0.0279728  -0.01961118]\n",
      " [-0.03118751 -0.02196117]]\n"
     ]
    }
   ],
   "source": [
    "print(X_tsne)"
   ]
  },
  {
   "cell_type": "markdown",
   "metadata": {},
   "source": [
    "# Visualization"
   ]
  },
  {
   "cell_type": "code",
   "execution_count": 109,
   "metadata": {},
   "outputs": [
    {
     "name": "stdout",
     "output_type": "stream",
     "text": [
      "['#8e55fd' '#5431aa' '#bdf331' '#00c603' '#9157ff' '#453ca2' '#ca2270'\n",
      " '#88ec17' '#b7b09c' '#2f41f9']\n"
     ]
    }
   ],
   "source": [
    "# Generate random colors\n",
    "\n",
    "import random\n",
    "get_colors = lambda n: list(map(lambda i: \"#\" + \"%06x\" % random.randint(0, 0xFFFFFF),range(n)))\n",
    "colormap = np.asarray(get_colors(num_topics)) \n",
    "print(colormap)"
   ]
  },
  {
   "cell_type": "code",
   "execution_count": 110,
   "metadata": {},
   "outputs": [
    {
     "data": {
      "text/html": [
       "<div>\n",
       "<style scoped>\n",
       "    .dataframe tbody tr th:only-of-type {\n",
       "        vertical-align: middle;\n",
       "    }\n",
       "\n",
       "    .dataframe tbody tr th {\n",
       "        vertical-align: top;\n",
       "    }\n",
       "\n",
       "    .dataframe thead th {\n",
       "        text-align: right;\n",
       "    }\n",
       "</style>\n",
       "<table border=\"1\" class=\"dataframe\">\n",
       "  <thead>\n",
       "    <tr style=\"text-align: right;\">\n",
       "      <th></th>\n",
       "      <th>X</th>\n",
       "      <th>Y</th>\n",
       "      <th>Topic</th>\n",
       "      <th>Topic_Words</th>\n",
       "      <th>Colors</th>\n",
       "    </tr>\n",
       "  </thead>\n",
       "  <tbody>\n",
       "    <tr>\n",
       "      <th>0</th>\n",
       "      <td>-0.044980</td>\n",
       "      <td>-0.058558</td>\n",
       "      <td>1</td>\n",
       "      <td>[free, employe, discount, schedul, day, decent...</td>\n",
       "      <td>#8e55fd</td>\n",
       "    </tr>\n",
       "    <tr>\n",
       "      <th>1</th>\n",
       "      <td>-0.044871</td>\n",
       "      <td>-0.058336</td>\n",
       "      <td>2</td>\n",
       "      <td>[free, employe, discount, schedul, day, decent...</td>\n",
       "      <td>#5431aa</td>\n",
       "    </tr>\n",
       "    <tr>\n",
       "      <th>2</th>\n",
       "      <td>0.339999</td>\n",
       "      <td>0.018660</td>\n",
       "      <td>3</td>\n",
       "      <td>[benefit, manag, lot, worker, decent_pay, easi...</td>\n",
       "      <td>#bdf331</td>\n",
       "    </tr>\n",
       "    <tr>\n",
       "      <th>3</th>\n",
       "      <td>-0.026978</td>\n",
       "      <td>-0.016772</td>\n",
       "      <td>4</td>\n",
       "      <td>[pay_benefit, advanc, help, salari, worklif, c...</td>\n",
       "      <td>#00c603</td>\n",
       "    </tr>\n",
       "    <tr>\n",
       "      <th>4</th>\n",
       "      <td>-0.066284</td>\n",
       "      <td>0.254949</td>\n",
       "      <td>5</td>\n",
       "      <td>[pay, hour, flexibl, cowork, balanc, cultur, f...</td>\n",
       "      <td>#9157ff</td>\n",
       "    </tr>\n",
       "  </tbody>\n",
       "</table>\n",
       "</div>"
      ],
      "text/plain": [
       "          X         Y  Topic  \\\n",
       "0 -0.044980 -0.058558      1   \n",
       "1 -0.044871 -0.058336      2   \n",
       "2  0.339999  0.018660      3   \n",
       "3 -0.026978 -0.016772      4   \n",
       "4 -0.066284  0.254949      5   \n",
       "\n",
       "                                         Topic_Words   Colors  \n",
       "0  [free, employe, discount, schedul, day, decent...  #8e55fd  \n",
       "1  [free, employe, discount, schedul, day, decent...  #5431aa  \n",
       "2  [benefit, manag, lot, worker, decent_pay, easi...  #bdf331  \n",
       "3  [pay_benefit, advanc, help, salari, worklif, c...  #00c603  \n",
       "4  [pay, hour, flexibl, cowork, balanc, cultur, f...  #9157ff  "
      ]
     },
     "metadata": {},
     "output_type": "display_data"
    }
   ],
   "source": [
    "df_cluster = pd.DataFrame()\n",
    "df_cluster['X'] = X_tsne[:, 0]\n",
    "df_cluster['Y'] = X_tsne[:, 1]\n",
    "df_cluster['Topic'] = range(num_topics)\n",
    "df_cluster['Topic_Words'] = imp_words\n",
    "\n",
    "cluster_colors = dict()\n",
    "for c in range(num_topics): \n",
    "    cluster_colors[c] = colormap[c]\n",
    "    \n",
    "df_cluster['Colors'] = df_cluster['Topic'].apply(lambda l: cluster_colors[l])\n",
    "df_cluster.sort_values(by=['Topic'], inplace=True)\n",
    "\n",
    "df_cluster['Topic'] = df_cluster['Topic']+1\n",
    "display(df_cluster.head())"
   ]
  },
  {
   "cell_type": "code",
   "execution_count": 111,
   "metadata": {},
   "outputs": [
    {
     "data": {
      "image/png": "[encoded data removed]",
      "text/plain": [
       "<Figure size 432x288 with 1 Axes>"
      ]
     },
     "metadata": {
      "needs_background": "light"
     },
     "output_type": "display_data"
    }
   ],
   "source": [
    "import seaborn as sns\n",
    "import matplotlib.pyplot as plt\n",
    "import os\n",
    "sns.scatterplot(x = \"X\", y=\"Y\", hue=\"Topic\", data=df_cluster)\n",
    "plt.xlabel(\"PCA1\")\n",
    "plt.ylabel(\"PCA2\")\n",
    "plt.title(\"PCA Visualization of topics\")\n",
    "plt.savefig(os.path.expanduser(\"~/Desktop/img/PCApro.png\"))\n",
    "plt.show()"
   ]
  },
  {
   "cell_type": "code",
   "execution_count": 112,
   "metadata": {},
   "outputs": [
    {
     "data": {
      "text/html": [
       "\n",
       "    <div class=\"bk-root\">\n",
       "        <a href=\"https://bokeh.pydata.org\" target=\"_blank\" class=\"bk-logo bk-logo-small bk-logo-notebook\"></a>\n",
       "        <span id=\"2118\">Loading BokehJS ...</span>\n",
       "    </div>"
      ]
     },
     "metadata": {},
     "output_type": "display_data"
    },
    {
     "data": {
      "application/javascript": [
       "\n",
       "(function(root) {\n",
       "  function now() {\n",
       "    return new Date();\n",
       "  }\n",
       "\n",
       "  var force = true;\n",
       "\n",
       "  if (typeof (root._bokeh_onload_callbacks) === \"undefined\" || force === true) {\n",
       "    root._bokeh_onload_callbacks = [];\n",
       "    root._bokeh_is_loading = undefined;\n",
       "  }\n",
       "\n",
       "  var JS_MIME_TYPE = 'application/javascript';\n",
       "  var HTML_MIME_TYPE = 'text/html';\n",
       "  var EXEC_MIME_TYPE = 'application/vnd.bokehjs_exec.v0+json';\n",
       "  var CLASS_NAME = 'output_bokeh rendered_html';\n",
       "\n",
       "  /**\n",
       "   * Render data to the DOM node\n",
       "   */\n",
       "  function render(props, node) {\n",
       "    var script = document.createElement(\"script\");\n",
       "    node.appendChild(script);\n",
       "  }\n",
       "\n",
       "  /**\n",
       "   * Handle when an output is cleared or removed\n",
       "   */\n",
       "  function handleClearOutput(event, handle) {\n",
       "    var cell = handle.cell;\n",
       "\n",
       "    var id = cell.output_area._bokeh_element_id;\n",
       "    var server_id = cell.output_area._bokeh_server_id;\n",
       "    // Clean up Bokeh references\n",
       "    if (id != null && id in Bokeh.index) {\n",
       "      Bokeh.index[id].model.document.clear();\n",
       "      delete Bokeh.index[id];\n",
       "    }\n",
       "\n",
       "    if (server_id !== undefined) {\n",
       "      // Clean up Bokeh references\n",
       "      var cmd = \"from bokeh.io.state import curstate; print(curstate().uuid_to_server['\" + server_id + \"'].get_sessions()[0].document.roots[0]._id)\";\n",
       "      cell.notebook.kernel.execute(cmd, {\n",
       "        iopub: {\n",
       "          output: function(msg) {\n",
       "            var id = msg.content.text.trim();\n",
       "            if (id in Bokeh.index) {\n",
       "              Bokeh.index[id].model.document.clear();\n",
       "              delete Bokeh.index[id];\n",
       "            }\n",
       "          }\n",
       "        }\n",
       "      });\n",
       "      // Destroy server and session\n",
       "      var cmd = \"import bokeh.io.notebook as ion; ion.destroy_server('\" + server_id + \"')\";\n",
       "      cell.notebook.kernel.execute(cmd);\n",
       "    }\n",
       "  }\n",
       "\n",
       "  /**\n",
       "   * Handle when a new output is added\n",
       "   */\n",
       "  function handleAddOutput(event, handle) {\n",
       "    var output_area = handle.output_area;\n",
       "    var output = handle.output;\n",
       "\n",
       "    // limit handleAddOutput to display_data with EXEC_MIME_TYPE content only\n",
       "    if ((output.output_type != \"display_data\") || (!output.data.hasOwnProperty(EXEC_MIME_TYPE))) {\n",
       "      return\n",
       "    }\n",
       "\n",
       "    var toinsert = output_area.element.find(\".\" + CLASS_NAME.split(' ')[0]);\n",
       "\n",
       "    if (output.metadata[EXEC_MIME_TYPE][\"id\"] !== undefined) {\n",
       "      toinsert[toinsert.length - 1].firstChild.textContent = output.data[JS_MIME_TYPE];\n",
       "      // store reference to embed id on output_area\n",
       "      output_area._bokeh_element_id = output.metadata[EXEC_MIME_TYPE][\"id\"];\n",
       "    }\n",
       "    if (output.metadata[EXEC_MIME_TYPE][\"server_id\"] !== undefined) {\n",
       "      var bk_div = document.createElement(\"div\");\n",
       "      bk_div.innerHTML = output.data[HTML_MIME_TYPE];\n",
       "      var script_attrs = bk_div.children[0].attributes;\n",
       "      for (var i = 0; i < script_attrs.length; i++) {\n",
       "        toinsert[toinsert.length - 1].firstChild.setAttribute(script_attrs[i].name, script_attrs[i].value);\n",
       "      }\n",
       "      // store reference to server id on output_area\n",
       "      output_area._bokeh_server_id = output.metadata[EXEC_MIME_TYPE][\"server_id\"];\n",
       "    }\n",
       "  }\n",
       "\n",
       "  function register_renderer(events, OutputArea) {\n",
       "\n",
       "    function append_mime(data, metadata, element) {\n",
       "      // create a DOM node to render to\n",
       "      var toinsert = this.create_output_subarea(\n",
       "        metadata,\n",
       "        CLASS_NAME,\n",
       "        EXEC_MIME_TYPE\n",
       "      );\n",
       "      this.keyboard_manager.register_events(toinsert);\n",
       "      // Render to node\n",
       "      var props = {data: data, metadata: metadata[EXEC_MIME_TYPE]};\n",
       "      render(props, toinsert[toinsert.length - 1]);\n",
       "      element.append(toinsert);\n",
       "      return toinsert\n",
       "    }\n",
       "\n",
       "    /* Handle when an output is cleared or removed */\n",
       "    events.on('clear_output.CodeCell', handleClearOutput);\n",
       "    events.on('delete.Cell', handleClearOutput);\n",
       "\n",
       "    /* Handle when a new output is added */\n",
       "    events.on('output_added.OutputArea', handleAddOutput);\n",
       "\n",
       "    /**\n",
       "     * Register the mime type and append_mime function with output_area\n",
       "     */\n",
       "    OutputArea.prototype.register_mime_type(EXEC_MIME_TYPE, append_mime, {\n",
       "      /* Is output safe? */\n",
       "      safe: true,\n",
       "      /* Index of renderer in `output_area.display_order` */\n",
       "      index: 0\n",
       "    });\n",
       "  }\n",
       "\n",
       "  // register the mime type if in Jupyter Notebook environment and previously unregistered\n",
       "  if (root.Jupyter !== undefined) {\n",
       "    var events = require('base/js/events');\n",
       "    var OutputArea = require('notebook/js/outputarea').OutputArea;\n",
       "\n",
       "    if (OutputArea.prototype.mime_types().indexOf(EXEC_MIME_TYPE) == -1) {\n",
       "      register_renderer(events, OutputArea);\n",
       "    }\n",
       "  }\n",
       "\n",
       "  \n",
       "  if (typeof (root._bokeh_timeout) === \"undefined\" || force === true) {\n",
       "    root._bokeh_timeout = Date.now() + 5000;\n",
       "    root._bokeh_failed_load = false;\n",
       "  }\n",
       "\n",
       "  var NB_LOAD_WARNING = {'data': {'text/html':\n",
       "     \"<div style='background-color: #fdd'>\\n\"+\n",
       "     \"<p>\\n\"+\n",
       "     \"BokehJS does not appear to have successfully loaded. If loading BokehJS from CDN, this \\n\"+\n",
       "     \"may be due to a slow or bad network connection. Possible fixes:\\n\"+\n",
       "     \"</p>\\n\"+\n",
       "     \"<ul>\\n\"+\n",
       "     \"<li>re-rerun `output_notebook()` to attempt to load from CDN again, or</li>\\n\"+\n",
       "     \"<li>use INLINE resources instead, as so:</li>\\n\"+\n",
       "     \"</ul>\\n\"+\n",
       "     \"<code>\\n\"+\n",
       "     \"from bokeh.resources import INLINE\\n\"+\n",
       "     \"output_notebook(resources=INLINE)\\n\"+\n",
       "     \"</code>\\n\"+\n",
       "     \"</div>\"}};\n",
       "\n",
       "  function display_loaded() {\n",
       "    var el = document.getElementById(\"2118\");\n",
       "    if (el != null) {\n",
       "      el.textContent = \"BokehJS is loading...\";\n",
       "    }\n",
       "    if (root.Bokeh !== undefined) {\n",
       "      if (el != null) {\n",
       "        el.textContent = \"BokehJS \" + root.Bokeh.version + \" successfully loaded.\";\n",
       "      }\n",
       "    } else if (Date.now() < root._bokeh_timeout) {\n",
       "      setTimeout(display_loaded, 100)\n",
       "    }\n",
       "  }\n",
       "\n",
       "\n",
       "  function run_callbacks() {\n",
       "    try {\n",
       "      root._bokeh_onload_callbacks.forEach(function(callback) { callback() });\n",
       "    }\n",
       "    finally {\n",
       "      delete root._bokeh_onload_callbacks\n",
       "    }\n",
       "    console.info(\"Bokeh: all callbacks have finished\");\n",
       "  }\n",
       "\n",
       "  function load_libs(js_urls, callback) {\n",
       "    root._bokeh_onload_callbacks.push(callback);\n",
       "    if (root._bokeh_is_loading > 0) {\n",
       "      console.log(\"Bokeh: BokehJS is being loaded, scheduling callback at\", now());\n",
       "      return null;\n",
       "    }\n",
       "    if (js_urls == null || js_urls.length === 0) {\n",
       "      run_callbacks();\n",
       "      return null;\n",
       "    }\n",
       "    console.log(\"Bokeh: BokehJS not loaded, scheduling load and callback at\", now());\n",
       "    root._bokeh_is_loading = js_urls.length;\n",
       "    for (var i = 0; i < js_urls.length; i++) {\n",
       "      var url = js_urls[i];\n",
       "      var s = document.createElement('script');\n",
       "      s.src = url;\n",
       "      s.async = false;\n",
       "      s.onreadystatechange = s.onload = function() {\n",
       "        root._bokeh_is_loading--;\n",
       "        if (root._bokeh_is_loading === 0) {\n",
       "          console.log(\"Bokeh: all BokehJS libraries loaded\");\n",
       "          run_callbacks()\n",
       "        }\n",
       "      };\n",
       "      s.onerror = function() {\n",
       "        console.warn(\"failed to load library \" + url);\n",
       "      };\n",
       "      console.log(\"Bokeh: injecting script tag for BokehJS library: \", url);\n",
       "      document.getElementsByTagName(\"head\")[0].appendChild(s);\n",
       "    }\n",
       "  };var element = document.getElementById(\"2118\");\n",
       "  if (element == null) {\n",
       "    console.log(\"Bokeh: ERROR: autoload.js configured with elementid '2118' but no matching script tag was found. \")\n",
       "    return false;\n",
       "  }\n",
       "\n",
       "  var js_urls = [\"https://cdn.pydata.org/bokeh/release/bokeh-1.0.4.min.js\", \"https://cdn.pydata.org/bokeh/release/bokeh-widgets-1.0.4.min.js\", \"https://cdn.pydata.org/bokeh/release/bokeh-tables-1.0.4.min.js\", \"https://cdn.pydata.org/bokeh/release/bokeh-gl-1.0.4.min.js\"];\n",
       "\n",
       "  var inline_js = [\n",
       "    function(Bokeh) {\n",
       "      Bokeh.set_log_level(\"info\");\n",
       "    },\n",
       "    \n",
       "    function(Bokeh) {\n",
       "      \n",
       "    },\n",
       "    function(Bokeh) {\n",
       "      console.log(\"Bokeh: injecting CSS: https://cdn.pydata.org/bokeh/release/bokeh-1.0.4.min.css\");\n",
       "      Bokeh.embed.inject_css(\"https://cdn.pydata.org/bokeh/release/bokeh-1.0.4.min.css\");\n",
       "      console.log(\"Bokeh: injecting CSS: https://cdn.pydata.org/bokeh/release/bokeh-widgets-1.0.4.min.css\");\n",
       "      Bokeh.embed.inject_css(\"https://cdn.pydata.org/bokeh/release/bokeh-widgets-1.0.4.min.css\");\n",
       "      console.log(\"Bokeh: injecting CSS: https://cdn.pydata.org/bokeh/release/bokeh-tables-1.0.4.min.css\");\n",
       "      Bokeh.embed.inject_css(\"https://cdn.pydata.org/bokeh/release/bokeh-tables-1.0.4.min.css\");\n",
       "    }\n",
       "  ];\n",
       "\n",
       "  function run_inline_js() {\n",
       "    \n",
       "    if ((root.Bokeh !== undefined) || (force === true)) {\n",
       "      for (var i = 0; i < inline_js.length; i++) {\n",
       "        inline_js[i].call(root, root.Bokeh);\n",
       "      }if (force === true) {\n",
       "        display_loaded();\n",
       "      }} else if (Date.now() < root._bokeh_timeout) {\n",
       "      setTimeout(run_inline_js, 100);\n",
       "    } else if (!root._bokeh_failed_load) {\n",
       "      console.log(\"Bokeh: BokehJS failed to load within specified timeout.\");\n",
       "      root._bokeh_failed_load = true;\n",
       "    } else if (force !== true) {\n",
       "      var cell = $(document.getElementById(\"2118\")).parents('.cell').data().cell;\n",
       "      cell.output_area.append_execute_result(NB_LOAD_WARNING)\n",
       "    }\n",
       "\n",
       "  }\n",
       "\n",
       "  if (root._bokeh_is_loading === 0) {\n",
       "    console.log(\"Bokeh: BokehJS loaded, going straight to plotting\");\n",
       "    run_inline_js();\n",
       "  } else {\n",
       "    load_libs(js_urls, function() {\n",
       "      console.log(\"Bokeh: BokehJS plotting callback run at\", now());\n",
       "      run_inline_js();\n",
       "    });\n",
       "  }\n",
       "}(window));"
      ],
      "application/vnd.bokehjs_load.v0+json": "\n(function(root) {\n  function now() {\n    return new Date();\n  }\n\n  var force = true;\n\n  if (typeof (root._bokeh_onload_callbacks) === \"undefined\" || force === true) {\n    root._bokeh_onload_callbacks = [];\n    root._bokeh_is_loading = undefined;\n  }\n\n  \n\n  \n  if (typeof (root._bokeh_timeout) === \"undefined\" || force === true) {\n    root._bokeh_timeout = Date.now() + 5000;\n    root._bokeh_failed_load = false;\n  }\n\n  var NB_LOAD_WARNING = {'data': {'text/html':\n     \"<div style='background-color: #fdd'>\\n\"+\n     \"<p>\\n\"+\n     \"BokehJS does not appear to have successfully loaded. If loading BokehJS from CDN, this \\n\"+\n     \"may be due to a slow or bad network connection. Possible fixes:\\n\"+\n     \"</p>\\n\"+\n     \"<ul>\\n\"+\n     \"<li>re-rerun `output_notebook()` to attempt to load from CDN again, or</li>\\n\"+\n     \"<li>use INLINE resources instead, as so:</li>\\n\"+\n     \"</ul>\\n\"+\n     \"<code>\\n\"+\n     \"from bokeh.resources import INLINE\\n\"+\n     \"output_notebook(resources=INLINE)\\n\"+\n     \"</code>\\n\"+\n     \"</div>\"}};\n\n  function display_loaded() {\n    var el = document.getElementById(\"2118\");\n    if (el != null) {\n      el.textContent = \"BokehJS is loading...\";\n    }\n    if (root.Bokeh !== undefined) {\n      if (el != null) {\n        el.textContent = \"BokehJS \" + root.Bokeh.version + \" successfully loaded.\";\n      }\n    } else if (Date.now() < root._bokeh_timeout) {\n      setTimeout(display_loaded, 100)\n    }\n  }\n\n\n  function run_callbacks() {\n    try {\n      root._bokeh_onload_callbacks.forEach(function(callback) { callback() });\n    }\n    finally {\n      delete root._bokeh_onload_callbacks\n    }\n    console.info(\"Bokeh: all callbacks have finished\");\n  }\n\n  function load_libs(js_urls, callback) {\n    root._bokeh_onload_callbacks.push(callback);\n    if (root._bokeh_is_loading > 0) {\n      console.log(\"Bokeh: BokehJS is being loaded, scheduling callback at\", now());\n      return null;\n    }\n    if (js_urls == null || js_urls.length === 0) {\n      run_callbacks();\n      return null;\n    }\n    console.log(\"Bokeh: BokehJS not loaded, scheduling load and callback at\", now());\n    root._bokeh_is_loading = js_urls.length;\n    for (var i = 0; i < js_urls.length; i++) {\n      var url = js_urls[i];\n      var s = document.createElement('script');\n      s.src = url;\n      s.async = false;\n      s.onreadystatechange = s.onload = function() {\n        root._bokeh_is_loading--;\n        if (root._bokeh_is_loading === 0) {\n          console.log(\"Bokeh: all BokehJS libraries loaded\");\n          run_callbacks()\n        }\n      };\n      s.onerror = function() {\n        console.warn(\"failed to load library \" + url);\n      };\n      console.log(\"Bokeh: injecting script tag for BokehJS library: \", url);\n      document.getElementsByTagName(\"head\")[0].appendChild(s);\n    }\n  };var element = document.getElementById(\"2118\");\n  if (element == null) {\n    console.log(\"Bokeh: ERROR: autoload.js configured with elementid '2118' but no matching script tag was found. \")\n    return false;\n  }\n\n  var js_urls = [\"https://cdn.pydata.org/bokeh/release/bokeh-1.0.4.min.js\", \"https://cdn.pydata.org/bokeh/release/bokeh-widgets-1.0.4.min.js\", \"https://cdn.pydata.org/bokeh/release/bokeh-tables-1.0.4.min.js\", \"https://cdn.pydata.org/bokeh/release/bokeh-gl-1.0.4.min.js\"];\n\n  var inline_js = [\n    function(Bokeh) {\n      Bokeh.set_log_level(\"info\");\n    },\n    \n    function(Bokeh) {\n      \n    },\n    function(Bokeh) {\n      console.log(\"Bokeh: injecting CSS: https://cdn.pydata.org/bokeh/release/bokeh-1.0.4.min.css\");\n      Bokeh.embed.inject_css(\"https://cdn.pydata.org/bokeh/release/bokeh-1.0.4.min.css\");\n      console.log(\"Bokeh: injecting CSS: https://cdn.pydata.org/bokeh/release/bokeh-widgets-1.0.4.min.css\");\n      Bokeh.embed.inject_css(\"https://cdn.pydata.org/bokeh/release/bokeh-widgets-1.0.4.min.css\");\n      console.log(\"Bokeh: injecting CSS: https://cdn.pydata.org/bokeh/release/bokeh-tables-1.0.4.min.css\");\n      Bokeh.embed.inject_css(\"https://cdn.pydata.org/bokeh/release/bokeh-tables-1.0.4.min.css\");\n    }\n  ];\n\n  function run_inline_js() {\n    \n    if ((root.Bokeh !== undefined) || (force === true)) {\n      for (var i = 0; i < inline_js.length; i++) {\n        inline_js[i].call(root, root.Bokeh);\n      }if (force === true) {\n        display_loaded();\n      }} else if (Date.now() < root._bokeh_timeout) {\n      setTimeout(run_inline_js, 100);\n    } else if (!root._bokeh_failed_load) {\n      console.log(\"Bokeh: BokehJS failed to load within specified timeout.\");\n      root._bokeh_failed_load = true;\n    } else if (force !== true) {\n      var cell = $(document.getElementById(\"2118\")).parents('.cell').data().cell;\n      cell.output_area.append_execute_result(NB_LOAD_WARNING)\n    }\n\n  }\n\n  if (root._bokeh_is_loading === 0) {\n    console.log(\"Bokeh: BokehJS loaded, going straight to plotting\");\n    run_inline_js();\n  } else {\n    load_libs(js_urls, function() {\n      console.log(\"Bokeh: BokehJS plotting callback run at\", now());\n      run_inline_js();\n    });\n  }\n}(window));"
     },
     "metadata": {},
     "output_type": "display_data"
    }
   ],
   "source": [
    "from bokeh.plotting import figure, show, output_notebook, save#, output_file\n",
    "from bokeh.models import HoverTool, value, LabelSet, Legend, ColumnDataSource\n",
    "from bokeh.io import export_png\n",
    "output_notebook()"
   ]
  },
  {
   "cell_type": "code",
   "execution_count": 113,
   "metadata": {},
   "outputs": [],
   "source": [
    "source = ColumnDataSource(dict(\n",
    "    x=df_cluster['X'],\n",
    "    y=df_cluster['Y'],\n",
    "    color=df_cluster['Colors'],\n",
    "    label=df_cluster['Topic'],\n",
    "    topic_words = df_cluster[\"Topic_Words\"]\n",
    "))"
   ]
  },
  {
   "cell_type": "code",
   "execution_count": 114,
   "metadata": {
    "scrolled": false
   },
   "outputs": [
    {
     "data": {
      "text/html": [
       "\n",
       "\n",
       "\n",
       "\n",
       "\n",
       "\n",
       "  <div class=\"bk-root\" id=\"71ebc33f-3809-4545-bb07-d2e27ae0989a\" data-root-id=\"2121\"></div>\n"
      ]
     },
     "metadata": {},
     "output_type": "display_data"
    },
    {
     "data": {
      "application/javascript": [
       "(function(root) {\n",
       "  function embed_document(root) {\n",
       "    \n",
       "  var docs_json = {\"0efe0d58-87be-413f-bd6b-5f4afb05497b\":{\"roots\":{\"references\":[{\"attributes\":{\"min_border\":1,\"plot_height\":700,\"plot_width\":1000,\"renderers\":[{\"id\":\"2139\",\"type\":\"BoxAnnotation\"},{\"id\":\"2153\",\"type\":\"Legend\"},{\"id\":\"2149\",\"type\":\"GlyphRenderer\"}],\"title\":{\"id\":\"2120\",\"type\":\"Title\"},\"toolbar\":{\"id\":\"2137\",\"type\":\"Toolbar\"},\"x_range\":{\"id\":\"2123\",\"type\":\"DataRange1d\"},\"x_scale\":{\"id\":\"2127\",\"type\":\"LinearScale\"},\"y_range\":{\"id\":\"2125\",\"type\":\"DataRange1d\"},\"y_scale\":{\"id\":\"2129\",\"type\":\"LinearScale\"}},\"id\":\"2121\",\"subtype\":\"Figure\",\"type\":\"Plot\"},{\"attributes\":{\"callback\":null},\"id\":\"2125\",\"type\":\"DataRange1d\"},{\"attributes\":{\"active_drag\":\"auto\",\"active_inspect\":\"auto\",\"active_multi\":null,\"active_scroll\":\"auto\",\"active_tap\":\"auto\",\"tools\":[{\"id\":\"2131\",\"type\":\"PanTool\"},{\"id\":\"2132\",\"type\":\"WheelZoomTool\"},{\"id\":\"2133\",\"type\":\"BoxZoomTool\"},{\"id\":\"2134\",\"type\":\"ResetTool\"},{\"id\":\"2135\",\"type\":\"HoverTool\"},{\"id\":\"2136\",\"type\":\"SaveTool\"}]},\"id\":\"2137\",\"type\":\"Toolbar\"},{\"attributes\":{\"callback\":null,\"tooltips\":[[\"Topic\",\"@label  <br> Topic_words: @topic_words \"]]},\"id\":\"2135\",\"type\":\"HoverTool\"},{\"attributes\":{\"items\":[{\"id\":\"2154\",\"type\":\"LegendItem\"}],\"location\":\"top_left\",\"plot\":{\"id\":\"2121\",\"subtype\":\"Figure\",\"type\":\"Plot\"}},\"id\":\"2153\",\"type\":\"Legend\"},{\"attributes\":{\"callback\":null},\"id\":\"2123\",\"type\":\"DataRange1d\"},{\"attributes\":{\"fill_alpha\":{\"value\":0.1},\"fill_color\":{\"value\":\"#1f77b4\"},\"line_alpha\":{\"value\":0.1},\"line_color\":{\"value\":\"#1f77b4\"},\"x\":{\"field\":\"x\"},\"y\":{\"field\":\"y\"}},\"id\":\"2148\",\"type\":\"Scatter\"},{\"attributes\":{\"source\":{\"id\":\"2119\",\"type\":\"ColumnDataSource\"}},\"id\":\"2150\",\"type\":\"CDSView\"},{\"attributes\":{},\"id\":\"2127\",\"type\":\"LinearScale\"},{\"attributes\":{\"bottom_units\":\"screen\",\"fill_alpha\":{\"value\":0.5},\"fill_color\":{\"value\":\"lightgrey\"},\"left_units\":\"screen\",\"level\":\"overlay\",\"line_alpha\":{\"value\":1.0},\"line_color\":{\"value\":\"black\"},\"line_dash\":[4,4],\"line_width\":{\"value\":2},\"plot\":null,\"render_mode\":\"css\",\"right_units\":\"screen\",\"top_units\":\"screen\"},\"id\":\"2139\",\"type\":\"BoxAnnotation\"},{\"attributes\":{\"callback\":null,\"data\":{\"color\":[\"#8e55fd\",\"#5431aa\",\"#bdf331\",\"#00c603\",\"#9157ff\",\"#453ca2\",\"#ca2270\",\"#88ec17\",\"#b7b09c\",\"#2f41f9\"],\"label\":[1,2,3,4,5,6,7,8,9,10],\"topic_words\":[[\"free\",\"employe\",\"discount\",\"schedul\",\"day\",\"decent\",\"vacat\",\"compens\",\"hour_lunch\",\"flexibl_hour\"],[\"free\",\"employe\",\"discount\",\"schedul\",\"day\",\"decent\",\"vacat\",\"compens\",\"hour_lunch\",\"free_food\"],[\"benefit\",\"manag\",\"lot\",\"worker\",\"decent_pay\",\"easi\",\"health_benefit\",\"health_care\",\"plan\",\"etc\"],[\"pay_benefit\",\"advanc\",\"help\",\"salari\",\"worklif\",\"coffe\",\"provid\",\"excel_benefit\",\"pto\",\"packag\"],[\"pay\",\"hour\",\"flexibl\",\"cowork\",\"balanc\",\"cultur\",\"flexibl_schedul\",\"insur\",\"paid\",\"famili\"],[\"health\",\"friendli\",\"food\",\"atmospher\",\"life_balanc\",\"overtim\",\"benefit_pay\",\"sometim\",\"paid_time\",\"awesom\"],[\"lunch\",\"free\",\"free_lunch\",\"break\",\"time\",\"meet\",\"fast\",\"week\",\"fast_pace\",\"educ\"],[\"peopl\",\"environ\",\"excel\",\"team\",\"time\",\"nice\",\"home\",\"care\",\"incent\",\"lunch_break\"],[\"train\",\"custom\",\"fun\",\"pace\",\"gym\",\"abil\",\"reward\",\"vacat_time\",\"meet_peopl\",\"amaz\"],[\"opportun\",\"learn\",\"paid\",\"product\",\"holiday\",\"life\",\"servic\",\"discount\",\"support\",\"drink\"]],\"x\":{\"__ndarray__\":\"Qvb9s5AHp7/QtBC9VPmmvxdj//GMwtU/B/W1mRigm78r/aFP//ewv/gxaxpQKZW/0mOrGIjEpr8+iBubBLCgv2BbgInmpJy/VowhWp7vn78=\",\"dtype\":\"float64\",\"shape\":[10]},\"y\":{\"__ndarray__\":\"K7wYeU/7rb/3mtsARd6tv/L3+dyCG5M/6lKu6qgskb+M8bxLF1HQP/EFDEW3IZO/jkltxttVq79+vdy7xe2avzu87bfzFJS/yPyAdP18lr8=\",\"dtype\":\"float64\",\"shape\":[10]}},\"selected\":{\"id\":\"2157\",\"type\":\"Selection\"},\"selection_policy\":{\"id\":\"2156\",\"type\":\"UnionRenderers\"}},\"id\":\"2119\",\"type\":\"ColumnDataSource\"},{\"attributes\":{\"data_source\":{\"id\":\"2119\",\"type\":\"ColumnDataSource\"},\"glyph\":{\"id\":\"2147\",\"type\":\"Scatter\"},\"hover_glyph\":null,\"muted_glyph\":null,\"nonselection_glyph\":{\"id\":\"2148\",\"type\":\"Scatter\"},\"selection_glyph\":null,\"view\":{\"id\":\"2150\",\"type\":\"CDSView\"}},\"id\":\"2149\",\"type\":\"GlyphRenderer\"},{\"attributes\":{},\"id\":\"2131\",\"type\":\"PanTool\"},{\"attributes\":{},\"id\":\"2156\",\"type\":\"UnionRenderers\"},{\"attributes\":{},\"id\":\"2136\",\"type\":\"SaveTool\"},{\"attributes\":{},\"id\":\"2157\",\"type\":\"Selection\"},{\"attributes\":{\"fill_alpha\":{\"value\":0.8},\"fill_color\":{\"field\":\"color\"},\"line_alpha\":{\"value\":0.8},\"line_color\":{\"field\":\"color\"},\"x\":{\"field\":\"x\"},\"y\":{\"field\":\"y\"}},\"id\":\"2147\",\"type\":\"Scatter\"},{\"attributes\":{\"overlay\":{\"id\":\"2139\",\"type\":\"BoxAnnotation\"}},\"id\":\"2133\",\"type\":\"BoxZoomTool\"},{\"attributes\":{\"label\":{\"field\":\"label\"},\"renderers\":[{\"id\":\"2149\",\"type\":\"GlyphRenderer\"}]},\"id\":\"2154\",\"type\":\"LegendItem\"},{\"attributes\":{},\"id\":\"2134\",\"type\":\"ResetTool\"},{\"attributes\":{},\"id\":\"2129\",\"type\":\"LinearScale\"},{\"attributes\":{},\"id\":\"2132\",\"type\":\"WheelZoomTool\"},{\"attributes\":{\"plot\":null,\"text\":\"PCA visualization of topics (pro)\"},\"id\":\"2120\",\"type\":\"Title\"}],\"root_ids\":[\"2121\"]},\"title\":\"Bokeh Application\",\"version\":\"1.0.4\"}};\n",
       "  var render_items = [{\"docid\":\"0efe0d58-87be-413f-bd6b-5f4afb05497b\",\"roots\":{\"2121\":\"71ebc33f-3809-4545-bb07-d2e27ae0989a\"}}];\n",
       "  root.Bokeh.embed.embed_items_notebook(docs_json, render_items);\n",
       "\n",
       "  }\n",
       "  if (root.Bokeh !== undefined) {\n",
       "    embed_document(root);\n",
       "  } else {\n",
       "    var attempts = 0;\n",
       "    var timer = setInterval(function(root) {\n",
       "      if (root.Bokeh !== undefined) {\n",
       "        embed_document(root);\n",
       "        clearInterval(timer);\n",
       "      }\n",
       "      attempts++;\n",
       "      if (attempts > 100) {\n",
       "        console.log(\"Bokeh: ERROR: Unable to run BokehJS code because BokehJS library is missing\");\n",
       "        clearInterval(timer);\n",
       "      }\n",
       "    }, 10, root)\n",
       "  }\n",
       "})(window);"
      ],
      "application/vnd.bokehjs_exec.v0+json": ""
     },
     "metadata": {
      "application/vnd.bokehjs_exec.v0+json": {
       "id": "2121"
      }
     },
     "output_type": "display_data"
    }
   ],
   "source": [
    "title = 'PCA visualization of topics (pro)'\n",
    "\n",
    "plot_lda = figure(plot_width=1000, plot_height=700,\n",
    "                     title=title, tools=\"pan,wheel_zoom,box_zoom,reset,hover,previewsave\",\n",
    "                     x_axis_type=None, y_axis_type=None, min_border=1, \n",
    "                     x_axis_label = \"PCA1\", y_axis_label = \"PCA2\")\n",
    "\n",
    "plot_lda.scatter(x='x', y='y',  legend='label', source=source,\n",
    "                 color='color', alpha=0.8)#'msize', )\n",
    "\n",
    "# hover tools\n",
    "hover = plot_lda.select(dict(type=HoverTool))\n",
    "hover.tooltips = { \"Topic\": \"@label  <br> Topic_words: @topic_words \"}\n",
    "plot_lda.legend.location = \"top_left\"\n",
    "\n",
    "export_png(plot_lda, filename=os.path.expanduser(\"~/Desktop/img/PCAcon.png\"))\n",
    "show(plot_lda)"
   ]
  },
  {
   "cell_type": "markdown",
   "metadata": {},
   "source": [
    "# Saving File"
   ]
  },
  {
   "cell_type": "code",
   "execution_count": 115,
   "metadata": {},
   "outputs": [
    {
     "data": {
      "text/html": [
       "<div>\n",
       "<style scoped>\n",
       "    .dataframe tbody tr th:only-of-type {\n",
       "        vertical-align: middle;\n",
       "    }\n",
       "\n",
       "    .dataframe tbody tr th {\n",
       "        vertical-align: top;\n",
       "    }\n",
       "\n",
       "    .dataframe thead th {\n",
       "        text-align: right;\n",
       "    }\n",
       "</style>\n",
       "<table border=\"1\" class=\"dataframe\">\n",
       "  <thead>\n",
       "    <tr style=\"text-align: right;\">\n",
       "      <th></th>\n",
       "      <th>X</th>\n",
       "      <th>Y</th>\n",
       "      <th>Topic</th>\n",
       "      <th>Topic_Words</th>\n",
       "      <th>Colors</th>\n",
       "    </tr>\n",
       "  </thead>\n",
       "  <tbody>\n",
       "    <tr>\n",
       "      <th>0</th>\n",
       "      <td>-0.044980</td>\n",
       "      <td>-0.058558</td>\n",
       "      <td>1</td>\n",
       "      <td>[free, employe, discount, schedul, day, decent...</td>\n",
       "      <td>#8e55fd</td>\n",
       "    </tr>\n",
       "    <tr>\n",
       "      <th>1</th>\n",
       "      <td>-0.044871</td>\n",
       "      <td>-0.058336</td>\n",
       "      <td>2</td>\n",
       "      <td>[free, employe, discount, schedul, day, decent...</td>\n",
       "      <td>#5431aa</td>\n",
       "    </tr>\n",
       "    <tr>\n",
       "      <th>2</th>\n",
       "      <td>0.339999</td>\n",
       "      <td>0.018660</td>\n",
       "      <td>3</td>\n",
       "      <td>[benefit, manag, lot, worker, decent_pay, easi...</td>\n",
       "      <td>#bdf331</td>\n",
       "    </tr>\n",
       "    <tr>\n",
       "      <th>3</th>\n",
       "      <td>-0.026978</td>\n",
       "      <td>-0.016772</td>\n",
       "      <td>4</td>\n",
       "      <td>[pay_benefit, advanc, help, salari, worklif, c...</td>\n",
       "      <td>#00c603</td>\n",
       "    </tr>\n",
       "    <tr>\n",
       "      <th>4</th>\n",
       "      <td>-0.066284</td>\n",
       "      <td>0.254949</td>\n",
       "      <td>5</td>\n",
       "      <td>[pay, hour, flexibl, cowork, balanc, cultur, f...</td>\n",
       "      <td>#9157ff</td>\n",
       "    </tr>\n",
       "  </tbody>\n",
       "</table>\n",
       "</div>"
      ],
      "text/plain": [
       "          X         Y  Topic  \\\n",
       "0 -0.044980 -0.058558      1   \n",
       "1 -0.044871 -0.058336      2   \n",
       "2  0.339999  0.018660      3   \n",
       "3 -0.026978 -0.016772      4   \n",
       "4 -0.066284  0.254949      5   \n",
       "\n",
       "                                         Topic_Words   Colors  \n",
       "0  [free, employe, discount, schedul, day, decent...  #8e55fd  \n",
       "1  [free, employe, discount, schedul, day, decent...  #5431aa  \n",
       "2  [benefit, manag, lot, worker, decent_pay, easi...  #bdf331  \n",
       "3  [pay_benefit, advanc, help, salari, worklif, c...  #00c603  \n",
       "4  [pay, hour, flexibl, cowork, balanc, cultur, f...  #9157ff  "
      ]
     },
     "metadata": {},
     "output_type": "display_data"
    },
    {
     "data": {
      "text/plain": [
       "(10, 5)"
      ]
     },
     "metadata": {},
     "output_type": "display_data"
    }
   ],
   "source": [
    "display(df_cluster.head())\n",
    "display(df_cluster.shape)"
   ]
  },
  {
   "cell_type": "code",
   "execution_count": 116,
   "metadata": {},
   "outputs": [],
   "source": [
    "df_cluster.to_csv(data_path + f\"/{num_topics}/topic_center.csv\")"
   ]
  },
  {
   "cell_type": "markdown",
   "metadata": {},
   "source": [
    "# Topic Proportion"
   ]
  },
  {
   "cell_type": "code",
   "execution_count": 117,
   "metadata": {},
   "outputs": [
    {
     "data": {
      "text/html": [
       "<div>\n",
       "<style scoped>\n",
       "    .dataframe tbody tr th:only-of-type {\n",
       "        vertical-align: middle;\n",
       "    }\n",
       "\n",
       "    .dataframe tbody tr th {\n",
       "        vertical-align: top;\n",
       "    }\n",
       "\n",
       "    .dataframe thead th {\n",
       "        text-align: right;\n",
       "    }\n",
       "</style>\n",
       "<table border=\"1\" class=\"dataframe\">\n",
       "  <thead>\n",
       "    <tr style=\"text-align: right;\">\n",
       "      <th></th>\n",
       "      <th>document</th>\n",
       "      <th>topic</th>\n",
       "      <th>gamma</th>\n",
       "    </tr>\n",
       "  </thead>\n",
       "  <tbody>\n",
       "    <tr>\n",
       "      <th>0</th>\n",
       "      <td>1</td>\n",
       "      <td>1</td>\n",
       "      <td>0.060023</td>\n",
       "    </tr>\n",
       "    <tr>\n",
       "      <th>1</th>\n",
       "      <td>2</td>\n",
       "      <td>1</td>\n",
       "      <td>0.051964</td>\n",
       "    </tr>\n",
       "    <tr>\n",
       "      <th>2</th>\n",
       "      <td>3</td>\n",
       "      <td>1</td>\n",
       "      <td>0.129970</td>\n",
       "    </tr>\n",
       "    <tr>\n",
       "      <th>3</th>\n",
       "      <td>4</td>\n",
       "      <td>1</td>\n",
       "      <td>0.043025</td>\n",
       "    </tr>\n",
       "    <tr>\n",
       "      <th>4</th>\n",
       "      <td>5</td>\n",
       "      <td>1</td>\n",
       "      <td>0.124641</td>\n",
       "    </tr>\n",
       "  </tbody>\n",
       "</table>\n",
       "</div>"
      ],
      "text/plain": [
       "   document  topic     gamma\n",
       "0         1      1  0.060023\n",
       "1         2      1  0.051964\n",
       "2         3      1  0.129970\n",
       "3         4      1  0.043025\n",
       "4         5      1  0.124641"
      ]
     },
     "metadata": {},
     "output_type": "display_data"
    },
    {
     "name": "stdout",
     "output_type": "stream",
     "text": [
      "(336200, 3)\n"
     ]
    }
   ],
   "source": [
    "df = pd.read_csv(data_path + f\"/{num_topics}/gamma.csv\")\n",
    "\n",
    "display(df.head())\n",
    "print(df.shape)"
   ]
  },
  {
   "cell_type": "code",
   "execution_count": 118,
   "metadata": {},
   "outputs": [
    {
     "data": {
      "text/html": [
       "<div>\n",
       "<style scoped>\n",
       "    .dataframe tbody tr th:only-of-type {\n",
       "        vertical-align: middle;\n",
       "    }\n",
       "\n",
       "    .dataframe tbody tr th {\n",
       "        vertical-align: top;\n",
       "    }\n",
       "\n",
       "    .dataframe thead th {\n",
       "        text-align: right;\n",
       "    }\n",
       "</style>\n",
       "<table border=\"1\" class=\"dataframe\">\n",
       "  <thead>\n",
       "    <tr style=\"text-align: right;\">\n",
       "      <th></th>\n",
       "      <th>X</th>\n",
       "      <th>Y</th>\n",
       "      <th>Topic</th>\n",
       "      <th>Topic_Words</th>\n",
       "      <th>Colors</th>\n",
       "      <th>Topic_Proportion</th>\n",
       "    </tr>\n",
       "  </thead>\n",
       "  <tbody>\n",
       "    <tr>\n",
       "      <th>0</th>\n",
       "      <td>-0.044980</td>\n",
       "      <td>-0.058558</td>\n",
       "      <td>1</td>\n",
       "      <td>[free, employe, discount, schedul, day, decent...</td>\n",
       "      <td>#8e55fd</td>\n",
       "      <td>0.0688</td>\n",
       "    </tr>\n",
       "    <tr>\n",
       "      <th>1</th>\n",
       "      <td>-0.044871</td>\n",
       "      <td>-0.058336</td>\n",
       "      <td>2</td>\n",
       "      <td>[free, employe, discount, schedul, day, decent...</td>\n",
       "      <td>#5431aa</td>\n",
       "      <td>0.0710</td>\n",
       "    </tr>\n",
       "    <tr>\n",
       "      <th>2</th>\n",
       "      <td>0.339999</td>\n",
       "      <td>0.018660</td>\n",
       "      <td>3</td>\n",
       "      <td>[benefit, manag, lot, worker, decent_pay, easi...</td>\n",
       "      <td>#bdf331</td>\n",
       "      <td>0.1165</td>\n",
       "    </tr>\n",
       "    <tr>\n",
       "      <th>3</th>\n",
       "      <td>-0.026978</td>\n",
       "      <td>-0.016772</td>\n",
       "      <td>4</td>\n",
       "      <td>[pay_benefit, advanc, help, salari, worklif, c...</td>\n",
       "      <td>#00c603</td>\n",
       "      <td>0.1013</td>\n",
       "    </tr>\n",
       "    <tr>\n",
       "      <th>4</th>\n",
       "      <td>-0.066284</td>\n",
       "      <td>0.254949</td>\n",
       "      <td>5</td>\n",
       "      <td>[pay, hour, flexibl, cowork, balanc, cultur, f...</td>\n",
       "      <td>#9157ff</td>\n",
       "      <td>0.1133</td>\n",
       "    </tr>\n",
       "  </tbody>\n",
       "</table>\n",
       "</div>"
      ],
      "text/plain": [
       "          X         Y  Topic  \\\n",
       "0 -0.044980 -0.058558      1   \n",
       "1 -0.044871 -0.058336      2   \n",
       "2  0.339999  0.018660      3   \n",
       "3 -0.026978 -0.016772      4   \n",
       "4 -0.066284  0.254949      5   \n",
       "\n",
       "                                         Topic_Words   Colors  \\\n",
       "0  [free, employe, discount, schedul, day, decent...  #8e55fd   \n",
       "1  [free, employe, discount, schedul, day, decent...  #5431aa   \n",
       "2  [benefit, manag, lot, worker, decent_pay, easi...  #bdf331   \n",
       "3  [pay_benefit, advanc, help, salari, worklif, c...  #00c603   \n",
       "4  [pay, hour, flexibl, cowork, balanc, cultur, f...  #9157ff   \n",
       "\n",
       "   Topic_Proportion  \n",
       "0            0.0688  \n",
       "1            0.0710  \n",
       "2            0.1165  \n",
       "3            0.1013  \n",
       "4            0.1133  "
      ]
     },
     "metadata": {},
     "output_type": "display_data"
    }
   ],
   "source": [
    "lst = []\n",
    "for t in range(1, num_topics+1): \n",
    "    df_topic = df[df.topic == t]\n",
    "    lst.append(df_topic.gamma.sum())\n",
    "\n",
    "tot = sum(lst)\n",
    "lst = np.array([round(i/tot, 4) for i in lst])\n",
    "\n",
    "df_cluster[\"Topic_Proportion\"] = lst\n",
    "display(df_cluster.head())"
   ]
  },
  {
   "cell_type": "code",
   "execution_count": 119,
   "metadata": {},
   "outputs": [],
   "source": [
    "df_cluster.to_csv(data_path + f\"/{num_topics}/topic_center.csv\")"
   ]
  },
  {
   "cell_type": "markdown",
   "metadata": {},
   "source": [
    "# Topic Term Distribution"
   ]
  },
  {
   "cell_type": "code",
   "execution_count": 120,
   "metadata": {},
   "outputs": [
    {
     "data": {
      "text/html": [
       "<div>\n",
       "<style scoped>\n",
       "    .dataframe tbody tr th:only-of-type {\n",
       "        vertical-align: middle;\n",
       "    }\n",
       "\n",
       "    .dataframe tbody tr th {\n",
       "        vertical-align: top;\n",
       "    }\n",
       "\n",
       "    .dataframe thead th {\n",
       "        text-align: right;\n",
       "    }\n",
       "</style>\n",
       "<table border=\"1\" class=\"dataframe\">\n",
       "  <thead>\n",
       "    <tr style=\"text-align: right;\">\n",
       "      <th></th>\n",
       "      <th>topic</th>\n",
       "      <th>term</th>\n",
       "      <th>beta</th>\n",
       "    </tr>\n",
       "  </thead>\n",
       "  <tbody>\n",
       "    <tr>\n",
       "      <th>0</th>\n",
       "      <td>1</td>\n",
       "      <td>1_hour_break</td>\n",
       "      <td>3.333175e-24</td>\n",
       "    </tr>\n",
       "    <tr>\n",
       "      <th>1</th>\n",
       "      <td>2</td>\n",
       "      <td>1_hour_break</td>\n",
       "      <td>3.228877e-24</td>\n",
       "    </tr>\n",
       "    <tr>\n",
       "      <th>2</th>\n",
       "      <td>3</td>\n",
       "      <td>1_hour_break</td>\n",
       "      <td>6.486790e-12</td>\n",
       "    </tr>\n",
       "    <tr>\n",
       "      <th>3</th>\n",
       "      <td>4</td>\n",
       "      <td>1_hour_break</td>\n",
       "      <td>2.023997e-12</td>\n",
       "    </tr>\n",
       "    <tr>\n",
       "      <th>4</th>\n",
       "      <td>5</td>\n",
       "      <td>1_hour_break</td>\n",
       "      <td>3.937727e-08</td>\n",
       "    </tr>\n",
       "  </tbody>\n",
       "</table>\n",
       "</div>"
      ],
      "text/plain": [
       "   topic          term          beta\n",
       "0      1  1_hour_break  3.333175e-24\n",
       "1      2  1_hour_break  3.228877e-24\n",
       "2      3  1_hour_break  6.486790e-12\n",
       "3      4  1_hour_break  2.023997e-12\n",
       "4      5  1_hour_break  3.937727e-08"
      ]
     },
     "metadata": {},
     "output_type": "display_data"
    },
    {
     "name": "stdout",
     "output_type": "stream",
     "text": [
      "6641\n"
     ]
    }
   ],
   "source": [
    "df = pd.read_csv(data_path + f\"/{num_topics}/beta.csv\")\n",
    "display(df.head())\n",
    "tot_term = df[df.topic == 1]['term'].count()\n",
    "print(tot_term)"
   ]
  },
  {
   "cell_type": "code",
   "execution_count": 121,
   "metadata": {},
   "outputs": [
    {
     "data": {
      "text/html": [
       "<div>\n",
       "<style scoped>\n",
       "    .dataframe tbody tr th:only-of-type {\n",
       "        vertical-align: middle;\n",
       "    }\n",
       "\n",
       "    .dataframe tbody tr th {\n",
       "        vertical-align: top;\n",
       "    }\n",
       "\n",
       "    .dataframe thead th {\n",
       "        text-align: right;\n",
       "    }\n",
       "</style>\n",
       "<table border=\"1\" class=\"dataframe\">\n",
       "  <thead>\n",
       "    <tr style=\"text-align: right;\">\n",
       "      <th></th>\n",
       "      <th>Term_Id</th>\n",
       "      <th>Term</th>\n",
       "      <th>Term_Prob</th>\n",
       "    </tr>\n",
       "  </thead>\n",
       "  <tbody>\n",
       "    <tr>\n",
       "      <th>0</th>\n",
       "      <td>1</td>\n",
       "      <td>1_hour_break</td>\n",
       "      <td>0.000008</td>\n",
       "    </tr>\n",
       "    <tr>\n",
       "      <th>1</th>\n",
       "      <td>2</td>\n",
       "      <td>1_hour_lunch</td>\n",
       "      <td>0.000762</td>\n",
       "    </tr>\n",
       "    <tr>\n",
       "      <th>2</th>\n",
       "      <td>3</td>\n",
       "      <td>1_hr_lunch</td>\n",
       "      <td>0.000094</td>\n",
       "    </tr>\n",
       "    <tr>\n",
       "      <th>3</th>\n",
       "      <td>4</td>\n",
       "      <td>10_discount_card</td>\n",
       "      <td>0.000021</td>\n",
       "    </tr>\n",
       "    <tr>\n",
       "      <th>4</th>\n",
       "      <td>5</td>\n",
       "      <td>10_discount_flexibl</td>\n",
       "      <td>0.000014</td>\n",
       "    </tr>\n",
       "  </tbody>\n",
       "</table>\n",
       "</div>"
      ],
      "text/plain": [
       "   Term_Id                 Term  Term_Prob\n",
       "0        1         1_hour_break   0.000008\n",
       "1        2         1_hour_lunch   0.000762\n",
       "2        3           1_hr_lunch   0.000094\n",
       "3        4     10_discount_card   0.000021\n",
       "4        5  10_discount_flexibl   0.000014"
      ]
     },
     "metadata": {},
     "output_type": "display_data"
    },
    {
     "data": {
      "text/plain": [
       "(6641, 3)"
      ]
     },
     "metadata": {},
     "output_type": "display_data"
    }
   ],
   "source": [
    "terms = df[df.topic == 1][\"term\"].values.tolist()\n",
    "lst = []\n",
    "i = 1\n",
    "for t in terms: \n",
    "    term_prob = df[df.term == t]['beta'].sum()/num_topics\n",
    "    lst.append([i, t, term_prob])\n",
    "    i = i+1\n",
    "df_term = pd.DataFrame(lst, columns=['Term_Id', 'Term', 'Term_Prob'])\n",
    "display(df_term.head())\n",
    "display(df_term.shape)"
   ]
  },
  {
   "cell_type": "code",
   "execution_count": 122,
   "metadata": {},
   "outputs": [],
   "source": [
    "for t in terms: \n",
    "    term_prob = df_term.loc[df_term.Term == t, \"Term_Prob\"].iloc[0]\n",
    "    df.loc[df.term == t, \"Term_Prob\"] = term_prob\n",
    "    \n",
    "df[\"Term_Freq\"] = df.Term_Prob * tot_term"
   ]
  },
  {
   "cell_type": "code",
   "execution_count": 123,
   "metadata": {},
   "outputs": [
    {
     "data": {
      "text/html": [
       "<div>\n",
       "<style scoped>\n",
       "    .dataframe tbody tr th:only-of-type {\n",
       "        vertical-align: middle;\n",
       "    }\n",
       "\n",
       "    .dataframe tbody tr th {\n",
       "        vertical-align: top;\n",
       "    }\n",
       "\n",
       "    .dataframe thead th {\n",
       "        text-align: right;\n",
       "    }\n",
       "</style>\n",
       "<table border=\"1\" class=\"dataframe\">\n",
       "  <thead>\n",
       "    <tr style=\"text-align: right;\">\n",
       "      <th></th>\n",
       "      <th>topic</th>\n",
       "      <th>term</th>\n",
       "      <th>beta</th>\n",
       "      <th>Term_Prob</th>\n",
       "      <th>Term_Freq</th>\n",
       "    </tr>\n",
       "  </thead>\n",
       "  <tbody>\n",
       "    <tr>\n",
       "      <th>0</th>\n",
       "      <td>1</td>\n",
       "      <td>1_hour_break</td>\n",
       "      <td>3.333175e-24</td>\n",
       "      <td>0.000008</td>\n",
       "      <td>0.051773</td>\n",
       "    </tr>\n",
       "    <tr>\n",
       "      <th>1</th>\n",
       "      <td>2</td>\n",
       "      <td>1_hour_break</td>\n",
       "      <td>3.228877e-24</td>\n",
       "      <td>0.000008</td>\n",
       "      <td>0.051773</td>\n",
       "    </tr>\n",
       "    <tr>\n",
       "      <th>2</th>\n",
       "      <td>3</td>\n",
       "      <td>1_hour_break</td>\n",
       "      <td>6.486790e-12</td>\n",
       "      <td>0.000008</td>\n",
       "      <td>0.051773</td>\n",
       "    </tr>\n",
       "    <tr>\n",
       "      <th>3</th>\n",
       "      <td>4</td>\n",
       "      <td>1_hour_break</td>\n",
       "      <td>2.023997e-12</td>\n",
       "      <td>0.000008</td>\n",
       "      <td>0.051773</td>\n",
       "    </tr>\n",
       "    <tr>\n",
       "      <th>4</th>\n",
       "      <td>5</td>\n",
       "      <td>1_hour_break</td>\n",
       "      <td>3.937727e-08</td>\n",
       "      <td>0.000008</td>\n",
       "      <td>0.051773</td>\n",
       "    </tr>\n",
       "  </tbody>\n",
       "</table>\n",
       "</div>"
      ],
      "text/plain": [
       "   topic          term          beta  Term_Prob  Term_Freq\n",
       "0      1  1_hour_break  3.333175e-24   0.000008   0.051773\n",
       "1      2  1_hour_break  3.228877e-24   0.000008   0.051773\n",
       "2      3  1_hour_break  6.486790e-12   0.000008   0.051773\n",
       "3      4  1_hour_break  2.023997e-12   0.000008   0.051773\n",
       "4      5  1_hour_break  3.937727e-08   0.000008   0.051773"
      ]
     },
     "metadata": {},
     "output_type": "display_data"
    }
   ],
   "source": [
    "display(df.head())"
   ]
  },
  {
   "cell_type": "code",
   "execution_count": 124,
   "metadata": {},
   "outputs": [
    {
     "data": {
      "text/html": [
       "<div>\n",
       "<style scoped>\n",
       "    .dataframe tbody tr th:only-of-type {\n",
       "        vertical-align: middle;\n",
       "    }\n",
       "\n",
       "    .dataframe tbody tr th {\n",
       "        vertical-align: top;\n",
       "    }\n",
       "\n",
       "    .dataframe thead th {\n",
       "        text-align: right;\n",
       "    }\n",
       "</style>\n",
       "<table border=\"1\" class=\"dataframe\">\n",
       "  <thead>\n",
       "    <tr style=\"text-align: right;\">\n",
       "      <th></th>\n",
       "      <th>Topic</th>\n",
       "      <th>Term</th>\n",
       "      <th>Beta</th>\n",
       "      <th>Term_Prob</th>\n",
       "      <th>Term_Freq</th>\n",
       "    </tr>\n",
       "  </thead>\n",
       "  <tbody>\n",
       "    <tr>\n",
       "      <th>0</th>\n",
       "      <td>1</td>\n",
       "      <td>1_hour_break</td>\n",
       "      <td>3.333175e-24</td>\n",
       "      <td>0.000008</td>\n",
       "      <td>0.051773</td>\n",
       "    </tr>\n",
       "    <tr>\n",
       "      <th>1</th>\n",
       "      <td>2</td>\n",
       "      <td>1_hour_break</td>\n",
       "      <td>3.228877e-24</td>\n",
       "      <td>0.000008</td>\n",
       "      <td>0.051773</td>\n",
       "    </tr>\n",
       "    <tr>\n",
       "      <th>2</th>\n",
       "      <td>3</td>\n",
       "      <td>1_hour_break</td>\n",
       "      <td>6.486790e-12</td>\n",
       "      <td>0.000008</td>\n",
       "      <td>0.051773</td>\n",
       "    </tr>\n",
       "    <tr>\n",
       "      <th>3</th>\n",
       "      <td>4</td>\n",
       "      <td>1_hour_break</td>\n",
       "      <td>2.023997e-12</td>\n",
       "      <td>0.000008</td>\n",
       "      <td>0.051773</td>\n",
       "    </tr>\n",
       "    <tr>\n",
       "      <th>4</th>\n",
       "      <td>5</td>\n",
       "      <td>1_hour_break</td>\n",
       "      <td>3.937727e-08</td>\n",
       "      <td>0.000008</td>\n",
       "      <td>0.051773</td>\n",
       "    </tr>\n",
       "  </tbody>\n",
       "</table>\n",
       "</div>"
      ],
      "text/plain": [
       "   Topic          Term          Beta  Term_Prob  Term_Freq\n",
       "0      1  1_hour_break  3.333175e-24   0.000008   0.051773\n",
       "1      2  1_hour_break  3.228877e-24   0.000008   0.051773\n",
       "2      3  1_hour_break  6.486790e-12   0.000008   0.051773\n",
       "3      4  1_hour_break  2.023997e-12   0.000008   0.051773\n",
       "4      5  1_hour_break  3.937727e-08   0.000008   0.051773"
      ]
     },
     "metadata": {},
     "output_type": "display_data"
    }
   ],
   "source": [
    "df.rename(columns={\"topic\": \"Topic\", \"term\": \"Term\", \"beta\": \"Beta\"}, inplace=True)\n",
    "display(df.head())"
   ]
  },
  {
   "cell_type": "markdown",
   "metadata": {},
   "source": [
    "# Save File"
   ]
  },
  {
   "cell_type": "code",
   "execution_count": 125,
   "metadata": {},
   "outputs": [],
   "source": [
    "df.to_csv(data_path + f\"/{num_topics}/topic_term_distr.csv\")"
   ]
  },
  {
   "cell_type": "markdown",
   "metadata": {},
   "source": [
    "# How to calculate relevance?"
   ]
  },
  {
   "cell_type": "code",
   "execution_count": 126,
   "metadata": {},
   "outputs": [],
   "source": [
    "df_relevance = df.copy()"
   ]
  },
  {
   "cell_type": "code",
   "execution_count": 160,
   "metadata": {},
   "outputs": [
    {
     "data": {
      "text/html": [
       "<div>\n",
       "<style scoped>\n",
       "    .dataframe tbody tr th:only-of-type {\n",
       "        vertical-align: middle;\n",
       "    }\n",
       "\n",
       "    .dataframe tbody tr th {\n",
       "        vertical-align: top;\n",
       "    }\n",
       "\n",
       "    .dataframe thead th {\n",
       "        text-align: right;\n",
       "    }\n",
       "</style>\n",
       "<table border=\"1\" class=\"dataframe\">\n",
       "  <thead>\n",
       "    <tr style=\"text-align: right;\">\n",
       "      <th></th>\n",
       "      <th>Topic</th>\n",
       "      <th>Term</th>\n",
       "      <th>Beta</th>\n",
       "      <th>Term_Prob</th>\n",
       "      <th>Term_Freq</th>\n",
       "      <th>Relevance</th>\n",
       "    </tr>\n",
       "  </thead>\n",
       "  <tbody>\n",
       "    <tr>\n",
       "      <th>0</th>\n",
       "      <td>1</td>\n",
       "      <td>1_hour_break</td>\n",
       "      <td>3.333175e-24</td>\n",
       "      <td>0.000008</td>\n",
       "      <td>0.051773</td>\n",
       "      <td>2.137764e-19</td>\n",
       "    </tr>\n",
       "    <tr>\n",
       "      <th>1</th>\n",
       "      <td>2</td>\n",
       "      <td>1_hour_break</td>\n",
       "      <td>3.228877e-24</td>\n",
       "      <td>0.000008</td>\n",
       "      <td>0.051773</td>\n",
       "      <td>2.070871e-19</td>\n",
       "    </tr>\n",
       "    <tr>\n",
       "      <th>2</th>\n",
       "      <td>3</td>\n",
       "      <td>1_hour_break</td>\n",
       "      <td>6.486790e-12</td>\n",
       "      <td>0.000008</td>\n",
       "      <td>0.051773</td>\n",
       "      <td>4.160364e-07</td>\n",
       "    </tr>\n",
       "    <tr>\n",
       "      <th>3</th>\n",
       "      <td>4</td>\n",
       "      <td>1_hour_break</td>\n",
       "      <td>2.023997e-12</td>\n",
       "      <td>0.000008</td>\n",
       "      <td>0.051773</td>\n",
       "      <td>1.298110e-07</td>\n",
       "    </tr>\n",
       "    <tr>\n",
       "      <th>4</th>\n",
       "      <td>5</td>\n",
       "      <td>1_hour_break</td>\n",
       "      <td>3.937727e-08</td>\n",
       "      <td>0.000008</td>\n",
       "      <td>0.051773</td>\n",
       "      <td>2.525499e-03</td>\n",
       "    </tr>\n",
       "  </tbody>\n",
       "</table>\n",
       "</div>"
      ],
      "text/plain": [
       "   Topic          Term          Beta  Term_Prob  Term_Freq     Relevance\n",
       "0      1  1_hour_break  3.333175e-24   0.000008   0.051773  2.137764e-19\n",
       "1      2  1_hour_break  3.228877e-24   0.000008   0.051773  2.070871e-19\n",
       "2      3  1_hour_break  6.486790e-12   0.000008   0.051773  4.160364e-07\n",
       "3      4  1_hour_break  2.023997e-12   0.000008   0.051773  1.298110e-07\n",
       "4      5  1_hour_break  3.937727e-08   0.000008   0.051773  2.525499e-03"
      ]
     },
     "metadata": {},
     "output_type": "display_data"
    }
   ],
   "source": [
    "lam = .5\n",
    "df_relevance[\"Relevance\"] = lam*df_relevance.Beta + (1-lam)*df_relevance.Beta/df_relevance.Term_Prob\n",
    "display(df_relevance.head())"
   ]
  },
  {
   "cell_type": "code",
   "execution_count": 161,
   "metadata": {},
   "outputs": [],
   "source": [
    "df5 = df_relevance[df_relevance.Topic == 1]\n",
    "relevant_term = df5.sort_values(by=\"Relevance\", ascending=False)[:10]"
   ]
  },
  {
   "cell_type": "code",
   "execution_count": 162,
   "metadata": {},
   "outputs": [],
   "source": [
    "relevant_term.sort_values(by=\"Term_Freq\", ascending=False, inplace=True)"
   ]
  },
  {
   "cell_type": "code",
   "execution_count": 163,
   "metadata": {},
   "outputs": [],
   "source": [
    "relevant_term[\"Term_Freq\"] = np.round(relevant_term[\"Term_Freq\"])"
   ]
  },
  {
   "cell_type": "code",
   "execution_count": 164,
   "metadata": {},
   "outputs": [
    {
     "data": {
      "text/plain": [
       "<matplotlib.axes._subplots.AxesSubplot at 0x1a1e1fe278>"
      ]
     },
     "execution_count": 164,
     "metadata": {},
     "output_type": "execute_result"
    },
    {
     "data": {
      "image/png": "[encoded data removed]",
      "text/plain": [
       "<Figure size 432x288 with 1 Axes>"
      ]
     },
     "metadata": {
      "needs_background": "light"
     },
     "output_type": "display_data"
    }
   ],
   "source": [
    "sns.barplot(x=\"Term_Freq\", y=\"Term\", data=relevant_term)"
   ]
  },
  {
   "cell_type": "code",
   "execution_count": null,
   "metadata": {},
   "outputs": [],
   "source": []
  },
  {
   "cell_type": "code",
   "execution_count": null,
   "metadata": {},
   "outputs": [],
   "source": []
  },
  {
   "cell_type": "code",
   "execution_count": null,
   "metadata": {},
   "outputs": [],
   "source": []
  }
 ],
 "metadata": {
  "kernelspec": {
   "display_name": "Python 3",
   "language": "python",
   "name": "python3"
  },
  "language_info": {
   "codemirror_mode": {
    "name": "ipython",
    "version": 3
   },
   "file_extension": ".py",
   "mimetype": "text/x-python",
   "name": "python",
   "nbconvert_exporter": "python",
   "pygments_lexer": "ipython3",
   "version": "3.7.3"
  }
 },
 "nbformat": 4,
 "nbformat_minor": 2
}
