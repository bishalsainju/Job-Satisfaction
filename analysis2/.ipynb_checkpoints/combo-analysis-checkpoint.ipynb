{
 "cells": [
  {
   "cell_type": "code",
   "execution_count": 1,
   "metadata": {},
   "outputs": [],
   "source": [
    "import pandas as pd\n",
    "import numpy as np\n",
    "import matplotlib.pyplot as plt\n",
    "import seaborn as sns\n",
    "\n",
    "data_path = \"~/Desktop/R_js/data1/estimates/combo.csv\"\n",
    "df = pd.read_csv(data_path)"
   ]
  },
  {
   "cell_type": "code",
   "execution_count": 2,
   "metadata": {},
   "outputs": [
    {
     "data": {
      "text/html": [
       "<div>\n",
       "<style scoped>\n",
       "    .dataframe tbody tr th:only-of-type {\n",
       "        vertical-align: middle;\n",
       "    }\n",
       "\n",
       "    .dataframe tbody tr th {\n",
       "        vertical-align: top;\n",
       "    }\n",
       "\n",
       "    .dataframe thead th {\n",
       "        text-align: right;\n",
       "    }\n",
       "</style>\n",
       "<table border=\"1\" class=\"dataframe\">\n",
       "  <thead>\n",
       "    <tr style=\"text-align: right;\">\n",
       "      <th></th>\n",
       "      <th>Unnamed: 0</th>\n",
       "      <th>Topic_Num</th>\n",
       "      <th>Pro_Con</th>\n",
       "      <th>Pro_Con_p</th>\n",
       "      <th>Job_Status</th>\n",
       "      <th>Job_Status_p</th>\n",
       "    </tr>\n",
       "  </thead>\n",
       "  <tbody>\n",
       "    <tr>\n",
       "      <th>0</th>\n",
       "      <td>1</td>\n",
       "      <td>1</td>\n",
       "      <td>-0.061635</td>\n",
       "      <td>0.000000e+00</td>\n",
       "      <td>0.006212</td>\n",
       "      <td>3.001617e-11</td>\n",
       "    </tr>\n",
       "    <tr>\n",
       "      <th>1</th>\n",
       "      <td>2</td>\n",
       "      <td>2</td>\n",
       "      <td>-0.022309</td>\n",
       "      <td>1.122779e-253</td>\n",
       "      <td>-0.000215</td>\n",
       "      <td>7.444755e-01</td>\n",
       "    </tr>\n",
       "    <tr>\n",
       "      <th>2</th>\n",
       "      <td>3</td>\n",
       "      <td>3</td>\n",
       "      <td>-0.073502</td>\n",
       "      <td>0.000000e+00</td>\n",
       "      <td>0.001435</td>\n",
       "      <td>3.494323e-01</td>\n",
       "    </tr>\n",
       "    <tr>\n",
       "      <th>3</th>\n",
       "      <td>4</td>\n",
       "      <td>4</td>\n",
       "      <td>-0.011246</td>\n",
       "      <td>1.990437e-63</td>\n",
       "      <td>-0.009945</td>\n",
       "      <td>1.872549e-40</td>\n",
       "    </tr>\n",
       "    <tr>\n",
       "      <th>4</th>\n",
       "      <td>5</td>\n",
       "      <td>5</td>\n",
       "      <td>-0.006629</td>\n",
       "      <td>1.203561e-25</td>\n",
       "      <td>-0.001405</td>\n",
       "      <td>4.104352e-02</td>\n",
       "    </tr>\n",
       "  </tbody>\n",
       "</table>\n",
       "</div>"
      ],
      "text/plain": [
       "   Unnamed: 0  Topic_Num   Pro_Con      Pro_Con_p  Job_Status  Job_Status_p\n",
       "0           1          1 -0.061635   0.000000e+00    0.006212  3.001617e-11\n",
       "1           2          2 -0.022309  1.122779e-253   -0.000215  7.444755e-01\n",
       "2           3          3 -0.073502   0.000000e+00    0.001435  3.494323e-01\n",
       "3           4          4 -0.011246   1.990437e-63   -0.009945  1.872549e-40\n",
       "4           5          5 -0.006629   1.203561e-25   -0.001405  4.104352e-02"
      ]
     },
     "execution_count": 2,
     "metadata": {},
     "output_type": "execute_result"
    }
   ],
   "source": [
    "df.head()"
   ]
  },
  {
   "cell_type": "code",
   "execution_count": null,
   "metadata": {},
   "outputs": [],
   "source": []
  }
 ],
 "metadata": {
  "kernelspec": {
   "display_name": "Python 3",
   "language": "python",
   "name": "python3"
  },
  "language_info": {
   "codemirror_mode": {
    "name": "ipython",
    "version": 3
   },
   "file_extension": ".py",
   "mimetype": "text/x-python",
   "name": "python",
   "nbconvert_exporter": "python",
   "pygments_lexer": "ipython3",
   "version": "3.7.6"
  }
 },
 "nbformat": 4,
 "nbformat_minor": 4
}
