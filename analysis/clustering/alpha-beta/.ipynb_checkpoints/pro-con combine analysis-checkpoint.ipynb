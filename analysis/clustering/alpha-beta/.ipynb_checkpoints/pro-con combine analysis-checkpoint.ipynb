{
 "cells": [
  {
   "cell_type": "markdown",
   "metadata": {},
   "source": [
    "\n",
    "# Analysis to place individual model on spatial position\n",
    "\n",
    "## Steps: \n",
    "### 1. Computing topic word distribution.\n",
    "### 2. Dissimilarity Measure using Jensen Shanon/Cosine Similarity/Euclidean Distance\n",
    "### 3. Dimensionality Reduction (PCA / t-SNE / MDS)\n",
    "### 4. Visualization using bokeh plot\n",
    "\n",
    "\n",
    "# Analysis to combine pro con model\n",
    "\n",
    "## Steps: \n",
    "### 1. Combine pro con corpus\n",
    "### 2. Dissimilarity Measure\n",
    "### 3. Dimensionality Reduction\n",
    "### 4. Visualization\n"
   ]
  },
  {
   "cell_type": "code",
   "execution_count": 1,
   "metadata": {},
   "outputs": [
    {
     "data": {
      "text/html": [
       "<div>\n",
       "<style scoped>\n",
       "    .dataframe tbody tr th:only-of-type {\n",
       "        vertical-align: middle;\n",
       "    }\n",
       "\n",
       "    .dataframe tbody tr th {\n",
       "        vertical-align: top;\n",
       "    }\n",
       "\n",
       "    .dataframe thead th {\n",
       "        text-align: right;\n",
       "    }\n",
       "</style>\n",
       "<table border=\"1\" class=\"dataframe\">\n",
       "  <thead>\n",
       "    <tr style=\"text-align: right;\">\n",
       "      <th></th>\n",
       "      <th>topic</th>\n",
       "      <th>term</th>\n",
       "      <th>beta</th>\n",
       "    </tr>\n",
       "  </thead>\n",
       "  <tbody>\n",
       "    <tr>\n",
       "      <th>0</th>\n",
       "      <td>1</td>\n",
       "      <td>1_hour_break</td>\n",
       "      <td>3.333175e-24</td>\n",
       "    </tr>\n",
       "    <tr>\n",
       "      <th>1</th>\n",
       "      <td>2</td>\n",
       "      <td>1_hour_break</td>\n",
       "      <td>3.228877e-24</td>\n",
       "    </tr>\n",
       "    <tr>\n",
       "      <th>2</th>\n",
       "      <td>3</td>\n",
       "      <td>1_hour_break</td>\n",
       "      <td>6.486790e-12</td>\n",
       "    </tr>\n",
       "    <tr>\n",
       "      <th>3</th>\n",
       "      <td>4</td>\n",
       "      <td>1_hour_break</td>\n",
       "      <td>2.023997e-12</td>\n",
       "    </tr>\n",
       "    <tr>\n",
       "      <th>4</th>\n",
       "      <td>5</td>\n",
       "      <td>1_hour_break</td>\n",
       "      <td>3.937727e-08</td>\n",
       "    </tr>\n",
       "  </tbody>\n",
       "</table>\n",
       "</div>"
      ],
      "text/plain": [
       "   topic          term          beta\n",
       "0      1  1_hour_break  3.333175e-24\n",
       "1      2  1_hour_break  3.228877e-24\n",
       "2      3  1_hour_break  6.486790e-12\n",
       "3      4  1_hour_break  2.023997e-12\n",
       "4      5  1_hour_break  3.937727e-08"
      ]
     },
     "metadata": {},
     "output_type": "display_data"
    },
    {
     "name": "stdout",
     "output_type": "stream",
     "text": [
      "(66410, 3)\n"
     ]
    }
   ],
   "source": [
    "import pandas as pd\n",
    "import numpy as np\n",
    "\n",
    "num_topics = 10\n",
    "data_path = \"~/Desktop/DataViz/whisper/whisperVis/data/topicModeling/pro\"\n",
    "df = pd.read_csv(data_path + f\"/{num_topics}/beta.csv\")\n",
    "\n",
    "display(df.head())\n",
    "print(df.shape)"
   ]
  },
  {
   "cell_type": "markdown",
   "metadata": {},
   "source": [
    "## Computing topic word distribution"
   ]
  },
  {
   "cell_type": "code",
   "execution_count": 2,
   "metadata": {},
   "outputs": [
    {
     "name": "stdout",
     "output_type": "stream",
     "text": [
      "10\n",
      "10\n"
     ]
    }
   ],
   "source": [
    "topic_word_distr = []\n",
    "imp_words = []\n",
    "terms = df[df.topic == 1].term.values.tolist()\n",
    "\n",
    "num_topics = len(df.topic.unique())\n",
    "for i in range(1, num_topics+1):\n",
    "    topic = df[df.topic == i] \n",
    "    vals = topic.beta.values.tolist()\n",
    "    topic_word_distr += [np.asarray(vals)]\n",
    "    words = [terms[i] for i in np.asarray(vals).argsort()[-10:][::-1].tolist()]\n",
    "    imp_words.append(words)\n",
    "    \n",
    "print(len(topic_word_distr))\n",
    "print(len(imp_words))"
   ]
  },
  {
   "cell_type": "markdown",
   "metadata": {},
   "source": [
    "# Dissimilarity Measure"
   ]
  },
  {
   "cell_type": "code",
   "execution_count": 3,
   "metadata": {},
   "outputs": [
    {
     "name": "stdout",
     "output_type": "stream",
     "text": [
      "[[0.0, 0.0460335568329371, 0.8239785780015826, 0.8243718930161399, 0.8211542490569189, 0.8225457748989495, 0.7851704726560149, 0.82126436097393, 0.8065968339046721, 0.7845333327332118], [0.0460335568329371, 0.0, 0.8239937321342545, 0.8242772665116179, 0.8212731738765019, 0.8225717183828379, 0.7849308197066048, 0.8213019164955101, 0.8064309599207397, 0.7847485154928479], [0.8239785780015826, 0.8239937321342545, 0.0, 0.824060737580206, 0.8252000850367154, 0.81680593030572, 0.825419173454282, 0.8256744238046658, 0.8242911966073121, 0.813297188146814], [0.8243718930161399, 0.8242772665116179, 0.824060737580206, 0.0, 0.8048349275604464, 0.8236719663878131, 0.8242863663741836, 0.8186766604143078, 0.819474639460868, 0.8226448164030605], [0.8211542490569189, 0.8212731738765019, 0.8252000850367154, 0.8048349275604464, 0.0, 0.8269855744936826, 0.8201284708363028, 0.8219212236395543, 0.826349042288878, 0.8040374766410577], [0.8225457748989495, 0.8225717183828379, 0.81680593030572, 0.8236719663878131, 0.8269855744936826, 0.0, 0.8262028609589332, 0.8224017761928702, 0.8276583136211592, 0.8179483037025438], [0.7851704726560149, 0.7849308197066048, 0.825419173454282, 0.8242863663741836, 0.8201284708363028, 0.8262028609589332, 0.0, 0.7985110780468668, 0.8238620175400063, 0.8095267455105719], [0.82126436097393, 0.8213019164955101, 0.8256744238046658, 0.8186766604143078, 0.8219212236395543, 0.8224017761928702, 0.7985110780468668, 0.0, 0.8221144458466795, 0.8199810162885246], [0.8065968339046721, 0.8064309599207397, 0.8242911966073121, 0.819474639460868, 0.826349042288878, 0.8276583136211592, 0.8238620175400063, 0.8221144458466795, 0.0, 0.8229484733958884], [0.7845333327332118, 0.7847485154928479, 0.813297188146814, 0.8226448164030605, 0.8040374766410577, 0.8179483037025438, 0.8095267455105719, 0.8199810162885246, 0.8229484733958884, 0.0]]\n"
     ]
    }
   ],
   "source": [
    "from scipy.spatial import distance\n",
    "\n",
    "dist = []\n",
    "for i in range(num_topics): \n",
    "    t1 = topic_word_distr[i]\n",
    "    d1 = []\n",
    "    for j in range(num_topics):\n",
    "        t2 = topic_word_distr[j]\n",
    "        d = distance.jensenshannon(t1, t2)\n",
    "        d1.append(d)\n",
    "    dist.append(d1)\n",
    "\n",
    "print(dist)"
   ]
  },
  {
   "cell_type": "markdown",
   "metadata": {},
   "source": [
    "# Dimensionality Reduction"
   ]
  },
  {
   "cell_type": "markdown",
   "metadata": {},
   "source": [
    "## TSNE"
   ]
  },
  {
   "cell_type": "code",
   "execution_count": 4,
   "metadata": {},
   "outputs": [
    {
     "name": "stdout",
     "output_type": "stream",
     "text": [
      "[t-SNE] Computing 9 nearest neighbors...\n",
      "[t-SNE] Indexed 10 samples in 0.000s...\n",
      "[t-SNE] Computed neighbors for 10 samples in 0.046s...\n",
      "[t-SNE] Computed conditional probabilities for sample 10 / 10\n",
      "[t-SNE] Mean sigma: 1125899906842624.000000\n",
      "[t-SNE] KL divergence after 250 iterations with early exaggeration: 49.707256\n",
      "[t-SNE] KL divergence after 1000 iterations: 0.243565\n"
     ]
    }
   ],
   "source": [
    "# Clustering\n",
    "from sklearn.manifold import TSNE\n",
    "# tsne = TSNE(n_components=2)\n",
    "tsne = TSNE(n_components=2, verbose=1, random_state=0, angle=.99, init='pca')\n",
    "X_tsne = tsne.fit_transform(topic_word_distr)"
   ]
  },
  {
   "cell_type": "markdown",
   "metadata": {},
   "source": [
    "## PCA"
   ]
  },
  {
   "cell_type": "code",
   "execution_count": 5,
   "metadata": {},
   "outputs": [],
   "source": [
    "from sklearn.decomposition import PCA\n",
    "\n",
    "pca = PCA(n_components=2)\n",
    "X_tsne = pca.fit_transform(dist)"
   ]
  },
  {
   "cell_type": "code",
   "execution_count": 6,
   "metadata": {},
   "outputs": [
    {
     "name": "stdout",
     "output_type": "stream",
     "text": [
      "[[ 0.91602631 -0.01770558]\n",
      " [ 0.91602499 -0.01755304]\n",
      " [-0.26421447 -0.36486093]\n",
      " [-0.27136738 -0.07220799]\n",
      " [-0.26142527 -0.06473843]\n",
      " [-0.25898445 -0.29162923]\n",
      " [-0.15186916  0.47587035]\n",
      " [-0.26001533  0.49390075]\n",
      " [-0.20838313 -0.04873366]\n",
      " [-0.15579211 -0.09234226]]\n"
     ]
    }
   ],
   "source": [
    "print(X_tsne)"
   ]
  },
  {
   "cell_type": "markdown",
   "metadata": {},
   "source": [
    "# Visualization"
   ]
  },
  {
   "cell_type": "code",
   "execution_count": 7,
   "metadata": {},
   "outputs": [
    {
     "name": "stdout",
     "output_type": "stream",
     "text": [
      "['#b601d0' '#863c5a' '#bf6812' '#675458' '#7904fa' '#4985ee' '#a1f076'\n",
      " '#2b9e88' '#39109d' '#dc686d']\n"
     ]
    }
   ],
   "source": [
    "# Generate random colors\n",
    "\n",
    "import random\n",
    "get_colors = lambda n: list(map(lambda i: \"#\" + \"%06x\" % random.randint(0, 0xFFFFFF),range(n)))\n",
    "colormap = np.asarray(get_colors(num_topics)) \n",
    "print(colormap)"
   ]
  },
  {
   "cell_type": "code",
   "execution_count": 8,
   "metadata": {},
   "outputs": [
    {
     "data": {
      "text/html": [
       "<div>\n",
       "<style scoped>\n",
       "    .dataframe tbody tr th:only-of-type {\n",
       "        vertical-align: middle;\n",
       "    }\n",
       "\n",
       "    .dataframe tbody tr th {\n",
       "        vertical-align: top;\n",
       "    }\n",
       "\n",
       "    .dataframe thead th {\n",
       "        text-align: right;\n",
       "    }\n",
       "</style>\n",
       "<table border=\"1\" class=\"dataframe\">\n",
       "  <thead>\n",
       "    <tr style=\"text-align: right;\">\n",
       "      <th></th>\n",
       "      <th>X_tsne</th>\n",
       "      <th>Y_tsne</th>\n",
       "      <th>Topic</th>\n",
       "      <th>Topic_words</th>\n",
       "      <th>Colors</th>\n",
       "    </tr>\n",
       "  </thead>\n",
       "  <tbody>\n",
       "    <tr>\n",
       "      <th>0</th>\n",
       "      <td>0.916026</td>\n",
       "      <td>-0.017706</td>\n",
       "      <td>1</td>\n",
       "      <td>[free, employe, discount, schedul, day, decent...</td>\n",
       "      <td>#b601d0</td>\n",
       "    </tr>\n",
       "    <tr>\n",
       "      <th>1</th>\n",
       "      <td>0.916025</td>\n",
       "      <td>-0.017553</td>\n",
       "      <td>2</td>\n",
       "      <td>[free, employe, discount, schedul, day, decent...</td>\n",
       "      <td>#863c5a</td>\n",
       "    </tr>\n",
       "    <tr>\n",
       "      <th>2</th>\n",
       "      <td>-0.264214</td>\n",
       "      <td>-0.364861</td>\n",
       "      <td>3</td>\n",
       "      <td>[benefit, manag, lot, worker, decent_pay, easi...</td>\n",
       "      <td>#bf6812</td>\n",
       "    </tr>\n",
       "    <tr>\n",
       "      <th>3</th>\n",
       "      <td>-0.271367</td>\n",
       "      <td>-0.072208</td>\n",
       "      <td>4</td>\n",
       "      <td>[pay_benefit, advanc, help, salari, worklif, c...</td>\n",
       "      <td>#675458</td>\n",
       "    </tr>\n",
       "    <tr>\n",
       "      <th>4</th>\n",
       "      <td>-0.261425</td>\n",
       "      <td>-0.064738</td>\n",
       "      <td>5</td>\n",
       "      <td>[pay, hour, flexibl, cowork, balanc, cultur, f...</td>\n",
       "      <td>#7904fa</td>\n",
       "    </tr>\n",
       "  </tbody>\n",
       "</table>\n",
       "</div>"
      ],
      "text/plain": [
       "     X_tsne    Y_tsne  Topic  \\\n",
       "0  0.916026 -0.017706      1   \n",
       "1  0.916025 -0.017553      2   \n",
       "2 -0.264214 -0.364861      3   \n",
       "3 -0.271367 -0.072208      4   \n",
       "4 -0.261425 -0.064738      5   \n",
       "\n",
       "                                         Topic_words   Colors  \n",
       "0  [free, employe, discount, schedul, day, decent...  #b601d0  \n",
       "1  [free, employe, discount, schedul, day, decent...  #863c5a  \n",
       "2  [benefit, manag, lot, worker, decent_pay, easi...  #bf6812  \n",
       "3  [pay_benefit, advanc, help, salari, worklif, c...  #675458  \n",
       "4  [pay, hour, flexibl, cowork, balanc, cultur, f...  #7904fa  "
      ]
     },
     "metadata": {},
     "output_type": "display_data"
    }
   ],
   "source": [
    "df_cluster = pd.DataFrame()\n",
    "df_cluster['X_tsne'] = X_tsne[:, 0]\n",
    "df_cluster['Y_tsne'] = X_tsne[:, 1]\n",
    "df_cluster['Topic'] = range(num_topics)\n",
    "df_cluster['Topic_words'] = imp_words\n",
    "\n",
    "cluster_colors = dict()\n",
    "for c in range(num_topics): \n",
    "    cluster_colors[c] = colormap[c]\n",
    "    \n",
    "df_cluster['Colors'] = df_cluster['Topic'].apply(lambda l: cluster_colors[l])\n",
    "df_cluster.sort_values(by=['Topic'], inplace=True)\n",
    "\n",
    "df_cluster['Topic'] = df_cluster['Topic']+1\n",
    "display(df_cluster.head())"
   ]
  },
  {
   "cell_type": "code",
   "execution_count": 9,
   "metadata": {},
   "outputs": [
    {
     "data": {
      "text/html": [
       "\n",
       "    <div class=\"bk-root\">\n",
       "        <a href=\"https://bokeh.pydata.org\" target=\"_blank\" class=\"bk-logo bk-logo-small bk-logo-notebook\"></a>\n",
       "        <span id=\"1001\">Loading BokehJS ...</span>\n",
       "    </div>"
      ]
     },
     "metadata": {},
     "output_type": "display_data"
    },
    {
     "data": {
      "application/javascript": [
       "\n",
       "(function(root) {\n",
       "  function now() {\n",
       "    return new Date();\n",
       "  }\n",
       "\n",
       "  var force = true;\n",
       "\n",
       "  if (typeof (root._bokeh_onload_callbacks) === \"undefined\" || force === true) {\n",
       "    root._bokeh_onload_callbacks = [];\n",
       "    root._bokeh_is_loading = undefined;\n",
       "  }\n",
       "\n",
       "  var JS_MIME_TYPE = 'application/javascript';\n",
       "  var HTML_MIME_TYPE = 'text/html';\n",
       "  var EXEC_MIME_TYPE = 'application/vnd.bokehjs_exec.v0+json';\n",
       "  var CLASS_NAME = 'output_bokeh rendered_html';\n",
       "\n",
       "  /**\n",
       "   * Render data to the DOM node\n",
       "   */\n",
       "  function render(props, node) {\n",
       "    var script = document.createElement(\"script\");\n",
       "    node.appendChild(script);\n",
       "  }\n",
       "\n",
       "  /**\n",
       "   * Handle when an output is cleared or removed\n",
       "   */\n",
       "  function handleClearOutput(event, handle) {\n",
       "    var cell = handle.cell;\n",
       "\n",
       "    var id = cell.output_area._bokeh_element_id;\n",
       "    var server_id = cell.output_area._bokeh_server_id;\n",
       "    // Clean up Bokeh references\n",
       "    if (id != null && id in Bokeh.index) {\n",
       "      Bokeh.index[id].model.document.clear();\n",
       "      delete Bokeh.index[id];\n",
       "    }\n",
       "\n",
       "    if (server_id !== undefined) {\n",
       "      // Clean up Bokeh references\n",
       "      var cmd = \"from bokeh.io.state import curstate; print(curstate().uuid_to_server['\" + server_id + \"'].get_sessions()[0].document.roots[0]._id)\";\n",
       "      cell.notebook.kernel.execute(cmd, {\n",
       "        iopub: {\n",
       "          output: function(msg) {\n",
       "            var id = msg.content.text.trim();\n",
       "            if (id in Bokeh.index) {\n",
       "              Bokeh.index[id].model.document.clear();\n",
       "              delete Bokeh.index[id];\n",
       "            }\n",
       "          }\n",
       "        }\n",
       "      });\n",
       "      // Destroy server and session\n",
       "      var cmd = \"import bokeh.io.notebook as ion; ion.destroy_server('\" + server_id + \"')\";\n",
       "      cell.notebook.kernel.execute(cmd);\n",
       "    }\n",
       "  }\n",
       "\n",
       "  /**\n",
       "   * Handle when a new output is added\n",
       "   */\n",
       "  function handleAddOutput(event, handle) {\n",
       "    var output_area = handle.output_area;\n",
       "    var output = handle.output;\n",
       "\n",
       "    // limit handleAddOutput to display_data with EXEC_MIME_TYPE content only\n",
       "    if ((output.output_type != \"display_data\") || (!output.data.hasOwnProperty(EXEC_MIME_TYPE))) {\n",
       "      return\n",
       "    }\n",
       "\n",
       "    var toinsert = output_area.element.find(\".\" + CLASS_NAME.split(' ')[0]);\n",
       "\n",
       "    if (output.metadata[EXEC_MIME_TYPE][\"id\"] !== undefined) {\n",
       "      toinsert[toinsert.length - 1].firstChild.textContent = output.data[JS_MIME_TYPE];\n",
       "      // store reference to embed id on output_area\n",
       "      output_area._bokeh_element_id = output.metadata[EXEC_MIME_TYPE][\"id\"];\n",
       "    }\n",
       "    if (output.metadata[EXEC_MIME_TYPE][\"server_id\"] !== undefined) {\n",
       "      var bk_div = document.createElement(\"div\");\n",
       "      bk_div.innerHTML = output.data[HTML_MIME_TYPE];\n",
       "      var script_attrs = bk_div.children[0].attributes;\n",
       "      for (var i = 0; i < script_attrs.length; i++) {\n",
       "        toinsert[toinsert.length - 1].firstChild.setAttribute(script_attrs[i].name, script_attrs[i].value);\n",
       "      }\n",
       "      // store reference to server id on output_area\n",
       "      output_area._bokeh_server_id = output.metadata[EXEC_MIME_TYPE][\"server_id\"];\n",
       "    }\n",
       "  }\n",
       "\n",
       "  function register_renderer(events, OutputArea) {\n",
       "\n",
       "    function append_mime(data, metadata, element) {\n",
       "      // create a DOM node to render to\n",
       "      var toinsert = this.create_output_subarea(\n",
       "        metadata,\n",
       "        CLASS_NAME,\n",
       "        EXEC_MIME_TYPE\n",
       "      );\n",
       "      this.keyboard_manager.register_events(toinsert);\n",
       "      // Render to node\n",
       "      var props = {data: data, metadata: metadata[EXEC_MIME_TYPE]};\n",
       "      render(props, toinsert[toinsert.length - 1]);\n",
       "      element.append(toinsert);\n",
       "      return toinsert\n",
       "    }\n",
       "\n",
       "    /* Handle when an output is cleared or removed */\n",
       "    events.on('clear_output.CodeCell', handleClearOutput);\n",
       "    events.on('delete.Cell', handleClearOutput);\n",
       "\n",
       "    /* Handle when a new output is added */\n",
       "    events.on('output_added.OutputArea', handleAddOutput);\n",
       "\n",
       "    /**\n",
       "     * Register the mime type and append_mime function with output_area\n",
       "     */\n",
       "    OutputArea.prototype.register_mime_type(EXEC_MIME_TYPE, append_mime, {\n",
       "      /* Is output safe? */\n",
       "      safe: true,\n",
       "      /* Index of renderer in `output_area.display_order` */\n",
       "      index: 0\n",
       "    });\n",
       "  }\n",
       "\n",
       "  // register the mime type if in Jupyter Notebook environment and previously unregistered\n",
       "  if (root.Jupyter !== undefined) {\n",
       "    var events = require('base/js/events');\n",
       "    var OutputArea = require('notebook/js/outputarea').OutputArea;\n",
       "\n",
       "    if (OutputArea.prototype.mime_types().indexOf(EXEC_MIME_TYPE) == -1) {\n",
       "      register_renderer(events, OutputArea);\n",
       "    }\n",
       "  }\n",
       "\n",
       "  \n",
       "  if (typeof (root._bokeh_timeout) === \"undefined\" || force === true) {\n",
       "    root._bokeh_timeout = Date.now() + 5000;\n",
       "    root._bokeh_failed_load = false;\n",
       "  }\n",
       "\n",
       "  var NB_LOAD_WARNING = {'data': {'text/html':\n",
       "     \"<div style='background-color: #fdd'>\\n\"+\n",
       "     \"<p>\\n\"+\n",
       "     \"BokehJS does not appear to have successfully loaded. If loading BokehJS from CDN, this \\n\"+\n",
       "     \"may be due to a slow or bad network connection. Possible fixes:\\n\"+\n",
       "     \"</p>\\n\"+\n",
       "     \"<ul>\\n\"+\n",
       "     \"<li>re-rerun `output_notebook()` to attempt to load from CDN again, or</li>\\n\"+\n",
       "     \"<li>use INLINE resources instead, as so:</li>\\n\"+\n",
       "     \"</ul>\\n\"+\n",
       "     \"<code>\\n\"+\n",
       "     \"from bokeh.resources import INLINE\\n\"+\n",
       "     \"output_notebook(resources=INLINE)\\n\"+\n",
       "     \"</code>\\n\"+\n",
       "     \"</div>\"}};\n",
       "\n",
       "  function display_loaded() {\n",
       "    var el = document.getElementById(\"1001\");\n",
       "    if (el != null) {\n",
       "      el.textContent = \"BokehJS is loading...\";\n",
       "    }\n",
       "    if (root.Bokeh !== undefined) {\n",
       "      if (el != null) {\n",
       "        el.textContent = \"BokehJS \" + root.Bokeh.version + \" successfully loaded.\";\n",
       "      }\n",
       "    } else if (Date.now() < root._bokeh_timeout) {\n",
       "      setTimeout(display_loaded, 100)\n",
       "    }\n",
       "  }\n",
       "\n",
       "\n",
       "  function run_callbacks() {\n",
       "    try {\n",
       "      root._bokeh_onload_callbacks.forEach(function(callback) { callback() });\n",
       "    }\n",
       "    finally {\n",
       "      delete root._bokeh_onload_callbacks\n",
       "    }\n",
       "    console.info(\"Bokeh: all callbacks have finished\");\n",
       "  }\n",
       "\n",
       "  function load_libs(js_urls, callback) {\n",
       "    root._bokeh_onload_callbacks.push(callback);\n",
       "    if (root._bokeh_is_loading > 0) {\n",
       "      console.log(\"Bokeh: BokehJS is being loaded, scheduling callback at\", now());\n",
       "      return null;\n",
       "    }\n",
       "    if (js_urls == null || js_urls.length === 0) {\n",
       "      run_callbacks();\n",
       "      return null;\n",
       "    }\n",
       "    console.log(\"Bokeh: BokehJS not loaded, scheduling load and callback at\", now());\n",
       "    root._bokeh_is_loading = js_urls.length;\n",
       "    for (var i = 0; i < js_urls.length; i++) {\n",
       "      var url = js_urls[i];\n",
       "      var s = document.createElement('script');\n",
       "      s.src = url;\n",
       "      s.async = false;\n",
       "      s.onreadystatechange = s.onload = function() {\n",
       "        root._bokeh_is_loading--;\n",
       "        if (root._bokeh_is_loading === 0) {\n",
       "          console.log(\"Bokeh: all BokehJS libraries loaded\");\n",
       "          run_callbacks()\n",
       "        }\n",
       "      };\n",
       "      s.onerror = function() {\n",
       "        console.warn(\"failed to load library \" + url);\n",
       "      };\n",
       "      console.log(\"Bokeh: injecting script tag for BokehJS library: \", url);\n",
       "      document.getElementsByTagName(\"head\")[0].appendChild(s);\n",
       "    }\n",
       "  };var element = document.getElementById(\"1001\");\n",
       "  if (element == null) {\n",
       "    console.log(\"Bokeh: ERROR: autoload.js configured with elementid '1001' but no matching script tag was found. \")\n",
       "    return false;\n",
       "  }\n",
       "\n",
       "  var js_urls = [\"https://cdn.pydata.org/bokeh/release/bokeh-1.0.4.min.js\", \"https://cdn.pydata.org/bokeh/release/bokeh-widgets-1.0.4.min.js\", \"https://cdn.pydata.org/bokeh/release/bokeh-tables-1.0.4.min.js\", \"https://cdn.pydata.org/bokeh/release/bokeh-gl-1.0.4.min.js\"];\n",
       "\n",
       "  var inline_js = [\n",
       "    function(Bokeh) {\n",
       "      Bokeh.set_log_level(\"info\");\n",
       "    },\n",
       "    \n",
       "    function(Bokeh) {\n",
       "      \n",
       "    },\n",
       "    function(Bokeh) {\n",
       "      console.log(\"Bokeh: injecting CSS: https://cdn.pydata.org/bokeh/release/bokeh-1.0.4.min.css\");\n",
       "      Bokeh.embed.inject_css(\"https://cdn.pydata.org/bokeh/release/bokeh-1.0.4.min.css\");\n",
       "      console.log(\"Bokeh: injecting CSS: https://cdn.pydata.org/bokeh/release/bokeh-widgets-1.0.4.min.css\");\n",
       "      Bokeh.embed.inject_css(\"https://cdn.pydata.org/bokeh/release/bokeh-widgets-1.0.4.min.css\");\n",
       "      console.log(\"Bokeh: injecting CSS: https://cdn.pydata.org/bokeh/release/bokeh-tables-1.0.4.min.css\");\n",
       "      Bokeh.embed.inject_css(\"https://cdn.pydata.org/bokeh/release/bokeh-tables-1.0.4.min.css\");\n",
       "    }\n",
       "  ];\n",
       "\n",
       "  function run_inline_js() {\n",
       "    \n",
       "    if ((root.Bokeh !== undefined) || (force === true)) {\n",
       "      for (var i = 0; i < inline_js.length; i++) {\n",
       "        inline_js[i].call(root, root.Bokeh);\n",
       "      }if (force === true) {\n",
       "        display_loaded();\n",
       "      }} else if (Date.now() < root._bokeh_timeout) {\n",
       "      setTimeout(run_inline_js, 100);\n",
       "    } else if (!root._bokeh_failed_load) {\n",
       "      console.log(\"Bokeh: BokehJS failed to load within specified timeout.\");\n",
       "      root._bokeh_failed_load = true;\n",
       "    } else if (force !== true) {\n",
       "      var cell = $(document.getElementById(\"1001\")).parents('.cell').data().cell;\n",
       "      cell.output_area.append_execute_result(NB_LOAD_WARNING)\n",
       "    }\n",
       "\n",
       "  }\n",
       "\n",
       "  if (root._bokeh_is_loading === 0) {\n",
       "    console.log(\"Bokeh: BokehJS loaded, going straight to plotting\");\n",
       "    run_inline_js();\n",
       "  } else {\n",
       "    load_libs(js_urls, function() {\n",
       "      console.log(\"Bokeh: BokehJS plotting callback run at\", now());\n",
       "      run_inline_js();\n",
       "    });\n",
       "  }\n",
       "}(window));"
      ],
      "application/vnd.bokehjs_load.v0+json": "\n(function(root) {\n  function now() {\n    return new Date();\n  }\n\n  var force = true;\n\n  if (typeof (root._bokeh_onload_callbacks) === \"undefined\" || force === true) {\n    root._bokeh_onload_callbacks = [];\n    root._bokeh_is_loading = undefined;\n  }\n\n  \n\n  \n  if (typeof (root._bokeh_timeout) === \"undefined\" || force === true) {\n    root._bokeh_timeout = Date.now() + 5000;\n    root._bokeh_failed_load = false;\n  }\n\n  var NB_LOAD_WARNING = {'data': {'text/html':\n     \"<div style='background-color: #fdd'>\\n\"+\n     \"<p>\\n\"+\n     \"BokehJS does not appear to have successfully loaded. If loading BokehJS from CDN, this \\n\"+\n     \"may be due to a slow or bad network connection. Possible fixes:\\n\"+\n     \"</p>\\n\"+\n     \"<ul>\\n\"+\n     \"<li>re-rerun `output_notebook()` to attempt to load from CDN again, or</li>\\n\"+\n     \"<li>use INLINE resources instead, as so:</li>\\n\"+\n     \"</ul>\\n\"+\n     \"<code>\\n\"+\n     \"from bokeh.resources import INLINE\\n\"+\n     \"output_notebook(resources=INLINE)\\n\"+\n     \"</code>\\n\"+\n     \"</div>\"}};\n\n  function display_loaded() {\n    var el = document.getElementById(\"1001\");\n    if (el != null) {\n      el.textContent = \"BokehJS is loading...\";\n    }\n    if (root.Bokeh !== undefined) {\n      if (el != null) {\n        el.textContent = \"BokehJS \" + root.Bokeh.version + \" successfully loaded.\";\n      }\n    } else if (Date.now() < root._bokeh_timeout) {\n      setTimeout(display_loaded, 100)\n    }\n  }\n\n\n  function run_callbacks() {\n    try {\n      root._bokeh_onload_callbacks.forEach(function(callback) { callback() });\n    }\n    finally {\n      delete root._bokeh_onload_callbacks\n    }\n    console.info(\"Bokeh: all callbacks have finished\");\n  }\n\n  function load_libs(js_urls, callback) {\n    root._bokeh_onload_callbacks.push(callback);\n    if (root._bokeh_is_loading > 0) {\n      console.log(\"Bokeh: BokehJS is being loaded, scheduling callback at\", now());\n      return null;\n    }\n    if (js_urls == null || js_urls.length === 0) {\n      run_callbacks();\n      return null;\n    }\n    console.log(\"Bokeh: BokehJS not loaded, scheduling load and callback at\", now());\n    root._bokeh_is_loading = js_urls.length;\n    for (var i = 0; i < js_urls.length; i++) {\n      var url = js_urls[i];\n      var s = document.createElement('script');\n      s.src = url;\n      s.async = false;\n      s.onreadystatechange = s.onload = function() {\n        root._bokeh_is_loading--;\n        if (root._bokeh_is_loading === 0) {\n          console.log(\"Bokeh: all BokehJS libraries loaded\");\n          run_callbacks()\n        }\n      };\n      s.onerror = function() {\n        console.warn(\"failed to load library \" + url);\n      };\n      console.log(\"Bokeh: injecting script tag for BokehJS library: \", url);\n      document.getElementsByTagName(\"head\")[0].appendChild(s);\n    }\n  };var element = document.getElementById(\"1001\");\n  if (element == null) {\n    console.log(\"Bokeh: ERROR: autoload.js configured with elementid '1001' but no matching script tag was found. \")\n    return false;\n  }\n\n  var js_urls = [\"https://cdn.pydata.org/bokeh/release/bokeh-1.0.4.min.js\", \"https://cdn.pydata.org/bokeh/release/bokeh-widgets-1.0.4.min.js\", \"https://cdn.pydata.org/bokeh/release/bokeh-tables-1.0.4.min.js\", \"https://cdn.pydata.org/bokeh/release/bokeh-gl-1.0.4.min.js\"];\n\n  var inline_js = [\n    function(Bokeh) {\n      Bokeh.set_log_level(\"info\");\n    },\n    \n    function(Bokeh) {\n      \n    },\n    function(Bokeh) {\n      console.log(\"Bokeh: injecting CSS: https://cdn.pydata.org/bokeh/release/bokeh-1.0.4.min.css\");\n      Bokeh.embed.inject_css(\"https://cdn.pydata.org/bokeh/release/bokeh-1.0.4.min.css\");\n      console.log(\"Bokeh: injecting CSS: https://cdn.pydata.org/bokeh/release/bokeh-widgets-1.0.4.min.css\");\n      Bokeh.embed.inject_css(\"https://cdn.pydata.org/bokeh/release/bokeh-widgets-1.0.4.min.css\");\n      console.log(\"Bokeh: injecting CSS: https://cdn.pydata.org/bokeh/release/bokeh-tables-1.0.4.min.css\");\n      Bokeh.embed.inject_css(\"https://cdn.pydata.org/bokeh/release/bokeh-tables-1.0.4.min.css\");\n    }\n  ];\n\n  function run_inline_js() {\n    \n    if ((root.Bokeh !== undefined) || (force === true)) {\n      for (var i = 0; i < inline_js.length; i++) {\n        inline_js[i].call(root, root.Bokeh);\n      }if (force === true) {\n        display_loaded();\n      }} else if (Date.now() < root._bokeh_timeout) {\n      setTimeout(run_inline_js, 100);\n    } else if (!root._bokeh_failed_load) {\n      console.log(\"Bokeh: BokehJS failed to load within specified timeout.\");\n      root._bokeh_failed_load = true;\n    } else if (force !== true) {\n      var cell = $(document.getElementById(\"1001\")).parents('.cell').data().cell;\n      cell.output_area.append_execute_result(NB_LOAD_WARNING)\n    }\n\n  }\n\n  if (root._bokeh_is_loading === 0) {\n    console.log(\"Bokeh: BokehJS loaded, going straight to plotting\");\n    run_inline_js();\n  } else {\n    load_libs(js_urls, function() {\n      console.log(\"Bokeh: BokehJS plotting callback run at\", now());\n      run_inline_js();\n    });\n  }\n}(window));"
     },
     "metadata": {},
     "output_type": "display_data"
    }
   ],
   "source": [
    "from bokeh.plotting import figure, show, output_notebook, save#, output_file\n",
    "from bokeh.models import HoverTool, value, LabelSet, Legend, ColumnDataSource\n",
    "output_notebook()"
   ]
  },
  {
   "cell_type": "code",
   "execution_count": 10,
   "metadata": {},
   "outputs": [],
   "source": [
    "source = ColumnDataSource(dict(\n",
    "    x=df_cluster['X_tsne'],\n",
    "    y=df_cluster['Y_tsne'],\n",
    "    color=df_cluster['Colors'],\n",
    "    label=df_cluster['Topic'],\n",
    "    topic_words = df_cluster[\"Topic_words\"]\n",
    "))"
   ]
  },
  {
   "cell_type": "code",
   "execution_count": 11,
   "metadata": {},
   "outputs": [
    {
     "data": {
      "text/html": [
       "\n",
       "\n",
       "\n",
       "\n",
       "\n",
       "\n",
       "  <div class=\"bk-root\" id=\"27b97875-b2ac-4ea2-9d38-3e5e277285ce\" data-root-id=\"1004\"></div>\n"
      ]
     },
     "metadata": {},
     "output_type": "display_data"
    },
    {
     "data": {
      "application/javascript": [
       "(function(root) {\n",
       "  function embed_document(root) {\n",
       "    \n",
       "  var docs_json = {\"01bdaf24-ad2c-4eab-815a-377388ff517a\":{\"roots\":{\"references\":[{\"attributes\":{\"min_border\":1,\"plot_height\":700,\"plot_width\":1000,\"renderers\":[{\"id\":\"1022\",\"type\":\"BoxAnnotation\"},{\"id\":\"1036\",\"type\":\"Legend\"},{\"id\":\"1032\",\"type\":\"GlyphRenderer\"}],\"title\":{\"id\":\"1003\",\"type\":\"Title\"},\"toolbar\":{\"id\":\"1020\",\"type\":\"Toolbar\"},\"x_range\":{\"id\":\"1006\",\"type\":\"DataRange1d\"},\"x_scale\":{\"id\":\"1010\",\"type\":\"LinearScale\"},\"y_range\":{\"id\":\"1008\",\"type\":\"DataRange1d\"},\"y_scale\":{\"id\":\"1012\",\"type\":\"LinearScale\"}},\"id\":\"1004\",\"subtype\":\"Figure\",\"type\":\"Plot\"},{\"attributes\":{\"source\":{\"id\":\"1002\",\"type\":\"ColumnDataSource\"}},\"id\":\"1033\",\"type\":\"CDSView\"},{\"attributes\":{\"items\":[{\"id\":\"1037\",\"type\":\"LegendItem\"}],\"location\":\"top_left\",\"plot\":{\"id\":\"1004\",\"subtype\":\"Figure\",\"type\":\"Plot\"}},\"id\":\"1036\",\"type\":\"Legend\"},{\"attributes\":{\"bottom_units\":\"screen\",\"fill_alpha\":{\"value\":0.5},\"fill_color\":{\"value\":\"lightgrey\"},\"left_units\":\"screen\",\"level\":\"overlay\",\"line_alpha\":{\"value\":1.0},\"line_color\":{\"value\":\"black\"},\"line_dash\":[4,4],\"line_width\":{\"value\":2},\"plot\":null,\"render_mode\":\"css\",\"right_units\":\"screen\",\"top_units\":\"screen\"},\"id\":\"1022\",\"type\":\"BoxAnnotation\"},{\"attributes\":{},\"id\":\"1017\",\"type\":\"ResetTool\"},{\"attributes\":{\"label\":{\"field\":\"label\"},\"renderers\":[{\"id\":\"1032\",\"type\":\"GlyphRenderer\"}]},\"id\":\"1037\",\"type\":\"LegendItem\"},{\"attributes\":{\"active_drag\":\"auto\",\"active_inspect\":\"auto\",\"active_multi\":null,\"active_scroll\":\"auto\",\"active_tap\":\"auto\",\"tools\":[{\"id\":\"1014\",\"type\":\"PanTool\"},{\"id\":\"1015\",\"type\":\"WheelZoomTool\"},{\"id\":\"1016\",\"type\":\"BoxZoomTool\"},{\"id\":\"1017\",\"type\":\"ResetTool\"},{\"id\":\"1018\",\"type\":\"HoverTool\"},{\"id\":\"1019\",\"type\":\"SaveTool\"}]},\"id\":\"1020\",\"type\":\"Toolbar\"},{\"attributes\":{},\"id\":\"1040\",\"type\":\"Selection\"},{\"attributes\":{\"plot\":null,\"text\":\"T-SNE visualization of topics\"},\"id\":\"1003\",\"type\":\"Title\"},{\"attributes\":{\"callback\":null,\"tooltips\":[[\"Topic\",\"@label  <br> Topic_words: @topic_words \"]]},\"id\":\"1018\",\"type\":\"HoverTool\"},{\"attributes\":{\"callback\":null},\"id\":\"1006\",\"type\":\"DataRange1d\"},{\"attributes\":{\"callback\":null},\"id\":\"1008\",\"type\":\"DataRange1d\"},{\"attributes\":{},\"id\":\"1010\",\"type\":\"LinearScale\"},{\"attributes\":{},\"id\":\"1012\",\"type\":\"LinearScale\"},{\"attributes\":{},\"id\":\"1014\",\"type\":\"PanTool\"},{\"attributes\":{},\"id\":\"1039\",\"type\":\"UnionRenderers\"},{\"attributes\":{},\"id\":\"1019\",\"type\":\"SaveTool\"},{\"attributes\":{},\"id\":\"1015\",\"type\":\"WheelZoomTool\"},{\"attributes\":{\"overlay\":{\"id\":\"1022\",\"type\":\"BoxAnnotation\"}},\"id\":\"1016\",\"type\":\"BoxZoomTool\"},{\"attributes\":{\"fill_alpha\":{\"value\":0.8},\"fill_color\":{\"field\":\"color\"},\"line_alpha\":{\"value\":0.8},\"line_color\":{\"field\":\"color\"},\"x\":{\"field\":\"x\"},\"y\":{\"field\":\"y\"}},\"id\":\"1030\",\"type\":\"Scatter\"},{\"attributes\":{\"fill_alpha\":{\"value\":0.1},\"fill_color\":{\"value\":\"#1f77b4\"},\"line_alpha\":{\"value\":0.1},\"line_color\":{\"value\":\"#1f77b4\"},\"x\":{\"field\":\"x\"},\"y\":{\"field\":\"y\"}},\"id\":\"1031\",\"type\":\"Scatter\"},{\"attributes\":{\"callback\":null,\"data\":{\"color\":[\"#b601d0\",\"#863c5a\",\"#bf6812\",\"#675458\",\"#7904fa\",\"#4985ee\",\"#a1f076\",\"#2b9e88\",\"#39109d\",\"#dc686d\"],\"label\":[1,2,3,4,5,6,7,8,9,10],\"topic_words\":[[\"free\",\"employe\",\"discount\",\"schedul\",\"day\",\"decent\",\"vacat\",\"compens\",\"hour_lunch\",\"flexibl_hour\"],[\"free\",\"employe\",\"discount\",\"schedul\",\"day\",\"decent\",\"vacat\",\"compens\",\"hour_lunch\",\"free_food\"],[\"benefit\",\"manag\",\"lot\",\"worker\",\"decent_pay\",\"easi\",\"health_benefit\",\"health_care\",\"plan\",\"etc\"],[\"pay_benefit\",\"advanc\",\"help\",\"salari\",\"worklif\",\"coffe\",\"provid\",\"excel_benefit\",\"pto\",\"packag\"],[\"pay\",\"hour\",\"flexibl\",\"cowork\",\"balanc\",\"cultur\",\"flexibl_schedul\",\"insur\",\"paid\",\"famili\"],[\"health\",\"friendli\",\"food\",\"atmospher\",\"life_balanc\",\"overtim\",\"benefit_pay\",\"sometim\",\"paid_time\",\"awesom\"],[\"lunch\",\"free\",\"free_lunch\",\"break\",\"time\",\"meet\",\"fast\",\"week\",\"fast_pace\",\"educ\"],[\"peopl\",\"environ\",\"excel\",\"team\",\"time\",\"nice\",\"home\",\"care\",\"incent\",\"lunch_break\"],[\"train\",\"custom\",\"fun\",\"pace\",\"gym\",\"abil\",\"reward\",\"vacat_time\",\"meet_peopl\",\"amaz\"],[\"opportun\",\"learn\",\"paid\",\"product\",\"holiday\",\"life\",\"servic\",\"discount\",\"support\",\"drink\"]],\"x\":{\"__ndarray__\":\"qj/9aBZQ7T8dJq2jE1DtP9SOedLj6NC/TqCTRBVe0b8RRaMKMbvQv90j74Ezk9C/w8Yy33Jww7/brEdbF6TQv/T3LWdMrMq/bk567v7ww78=\",\"dtype\":\"float64\",\"shape\":[10]},\"y\":{\"__ndarray__\":\"TsOJBmkhkr+NRJdhbPmRv4GCE6rhWde/9LxJDTl8sr9tk1mPspKwv59rGqMNqtK/14rv7Kh03j8YHezkEZzfPwxSIjKe86i/rCv6Ar6jt78=\",\"dtype\":\"float64\",\"shape\":[10]}},\"selected\":{\"id\":\"1040\",\"type\":\"Selection\"},\"selection_policy\":{\"id\":\"1039\",\"type\":\"UnionRenderers\"}},\"id\":\"1002\",\"type\":\"ColumnDataSource\"},{\"attributes\":{\"data_source\":{\"id\":\"1002\",\"type\":\"ColumnDataSource\"},\"glyph\":{\"id\":\"1030\",\"type\":\"Scatter\"},\"hover_glyph\":null,\"muted_glyph\":null,\"nonselection_glyph\":{\"id\":\"1031\",\"type\":\"Scatter\"},\"selection_glyph\":null,\"view\":{\"id\":\"1033\",\"type\":\"CDSView\"}},\"id\":\"1032\",\"type\":\"GlyphRenderer\"}],\"root_ids\":[\"1004\"]},\"title\":\"Bokeh Application\",\"version\":\"1.0.4\"}};\n",
       "  var render_items = [{\"docid\":\"01bdaf24-ad2c-4eab-815a-377388ff517a\",\"roots\":{\"1004\":\"27b97875-b2ac-4ea2-9d38-3e5e277285ce\"}}];\n",
       "  root.Bokeh.embed.embed_items_notebook(docs_json, render_items);\n",
       "\n",
       "  }\n",
       "  if (root.Bokeh !== undefined) {\n",
       "    embed_document(root);\n",
       "  } else {\n",
       "    var attempts = 0;\n",
       "    var timer = setInterval(function(root) {\n",
       "      if (root.Bokeh !== undefined) {\n",
       "        embed_document(root);\n",
       "        clearInterval(timer);\n",
       "      }\n",
       "      attempts++;\n",
       "      if (attempts > 100) {\n",
       "        console.log(\"Bokeh: ERROR: Unable to run BokehJS code because BokehJS library is missing\");\n",
       "        clearInterval(timer);\n",
       "      }\n",
       "    }, 10, root)\n",
       "  }\n",
       "})(window);"
      ],
      "application/vnd.bokehjs_exec.v0+json": ""
     },
     "metadata": {
      "application/vnd.bokehjs_exec.v0+json": {
       "id": "1004"
      }
     },
     "output_type": "display_data"
    }
   ],
   "source": [
    "title = 'T-SNE visualization of topics'\n",
    "\n",
    "plot_lda = figure(plot_width=1000, plot_height=700,\n",
    "                     title=title, tools=\"pan,wheel_zoom,box_zoom,reset,hover,previewsave\",\n",
    "                     x_axis_type=None, y_axis_type=None, min_border=1)\n",
    "\n",
    "plot_lda.scatter(x='x', y='y',  legend='label', source=source,\n",
    "                 color='color', alpha=0.8)#'msize', )\n",
    "\n",
    "# hover tools\n",
    "hover = plot_lda.select(dict(type=HoverTool))\n",
    "hover.tooltips = { \"Topic\": \"@label  <br> Topic_words: @topic_words \"}\n",
    "plot_lda.legend.location = \"top_left\"\n",
    "\n",
    "show(plot_lda)"
   ]
  },
  {
   "cell_type": "markdown",
   "metadata": {},
   "source": [
    "# Saving File"
   ]
  },
  {
   "cell_type": "code",
   "execution_count": 12,
   "metadata": {},
   "outputs": [
    {
     "data": {
      "text/html": [
       "<div>\n",
       "<style scoped>\n",
       "    .dataframe tbody tr th:only-of-type {\n",
       "        vertical-align: middle;\n",
       "    }\n",
       "\n",
       "    .dataframe tbody tr th {\n",
       "        vertical-align: top;\n",
       "    }\n",
       "\n",
       "    .dataframe thead th {\n",
       "        text-align: right;\n",
       "    }\n",
       "</style>\n",
       "<table border=\"1\" class=\"dataframe\">\n",
       "  <thead>\n",
       "    <tr style=\"text-align: right;\">\n",
       "      <th></th>\n",
       "      <th>X_tsne</th>\n",
       "      <th>Y_tsne</th>\n",
       "      <th>Topic</th>\n",
       "      <th>Topic_words</th>\n",
       "      <th>Colors</th>\n",
       "    </tr>\n",
       "  </thead>\n",
       "  <tbody>\n",
       "    <tr>\n",
       "      <th>0</th>\n",
       "      <td>0.916026</td>\n",
       "      <td>-0.017706</td>\n",
       "      <td>1</td>\n",
       "      <td>[free, employe, discount, schedul, day, decent...</td>\n",
       "      <td>#b601d0</td>\n",
       "    </tr>\n",
       "    <tr>\n",
       "      <th>1</th>\n",
       "      <td>0.916025</td>\n",
       "      <td>-0.017553</td>\n",
       "      <td>2</td>\n",
       "      <td>[free, employe, discount, schedul, day, decent...</td>\n",
       "      <td>#863c5a</td>\n",
       "    </tr>\n",
       "    <tr>\n",
       "      <th>2</th>\n",
       "      <td>-0.264214</td>\n",
       "      <td>-0.364861</td>\n",
       "      <td>3</td>\n",
       "      <td>[benefit, manag, lot, worker, decent_pay, easi...</td>\n",
       "      <td>#bf6812</td>\n",
       "    </tr>\n",
       "    <tr>\n",
       "      <th>3</th>\n",
       "      <td>-0.271367</td>\n",
       "      <td>-0.072208</td>\n",
       "      <td>4</td>\n",
       "      <td>[pay_benefit, advanc, help, salari, worklif, c...</td>\n",
       "      <td>#675458</td>\n",
       "    </tr>\n",
       "    <tr>\n",
       "      <th>4</th>\n",
       "      <td>-0.261425</td>\n",
       "      <td>-0.064738</td>\n",
       "      <td>5</td>\n",
       "      <td>[pay, hour, flexibl, cowork, balanc, cultur, f...</td>\n",
       "      <td>#7904fa</td>\n",
       "    </tr>\n",
       "  </tbody>\n",
       "</table>\n",
       "</div>"
      ],
      "text/plain": [
       "     X_tsne    Y_tsne  Topic  \\\n",
       "0  0.916026 -0.017706      1   \n",
       "1  0.916025 -0.017553      2   \n",
       "2 -0.264214 -0.364861      3   \n",
       "3 -0.271367 -0.072208      4   \n",
       "4 -0.261425 -0.064738      5   \n",
       "\n",
       "                                         Topic_words   Colors  \n",
       "0  [free, employe, discount, schedul, day, decent...  #b601d0  \n",
       "1  [free, employe, discount, schedul, day, decent...  #863c5a  \n",
       "2  [benefit, manag, lot, worker, decent_pay, easi...  #bf6812  \n",
       "3  [pay_benefit, advanc, help, salari, worklif, c...  #675458  \n",
       "4  [pay, hour, flexibl, cowork, balanc, cultur, f...  #7904fa  "
      ]
     },
     "metadata": {},
     "output_type": "display_data"
    },
    {
     "data": {
      "text/plain": [
       "(10, 5)"
      ]
     },
     "metadata": {},
     "output_type": "display_data"
    }
   ],
   "source": [
    "display(df_cluster.head())\n",
    "display(df_cluster.shape)"
   ]
  },
  {
   "cell_type": "code",
   "execution_count": 13,
   "metadata": {},
   "outputs": [
    {
     "ename": "FileNotFoundError",
     "evalue": "[Errno 2] No such file or directory: '/Users/bishalsainju/Desktop/data_viz/con/10/topic_center.csv'",
     "output_type": "error",
     "traceback": [
      "\u001b[0;31m---------------------------------------------------------------------------\u001b[0m",
      "\u001b[0;31mFileNotFoundError\u001b[0m                         Traceback (most recent call last)",
      "\u001b[0;32m<ipython-input-13-504b263dd198>\u001b[0m in \u001b[0;36m<module>\u001b[0;34m\u001b[0m\n\u001b[0;32m----> 1\u001b[0;31m \u001b[0mdf\u001b[0m\u001b[0;34m.\u001b[0m\u001b[0mto_csv\u001b[0m\u001b[0;34m(\u001b[0m\u001b[0;34mf\"~/Desktop/data_viz/con/{num_topics}/topic_center.csv\"\u001b[0m\u001b[0;34m)\u001b[0m\u001b[0;34m\u001b[0m\u001b[0;34m\u001b[0m\u001b[0m\n\u001b[0m",
      "\u001b[0;32m/anaconda3/lib/python3.7/site-packages/pandas/core/generic.py\u001b[0m in \u001b[0;36mto_csv\u001b[0;34m(self, path_or_buf, sep, na_rep, float_format, columns, header, index, index_label, mode, encoding, compression, quoting, quotechar, line_terminator, chunksize, tupleize_cols, date_format, doublequote, escapechar, decimal)\u001b[0m\n\u001b[1;32m   3018\u001b[0m                                  \u001b[0mdoublequote\u001b[0m\u001b[0;34m=\u001b[0m\u001b[0mdoublequote\u001b[0m\u001b[0;34m,\u001b[0m\u001b[0;34m\u001b[0m\u001b[0;34m\u001b[0m\u001b[0m\n\u001b[1;32m   3019\u001b[0m                                  escapechar=escapechar, decimal=decimal)\n\u001b[0;32m-> 3020\u001b[0;31m         \u001b[0mformatter\u001b[0m\u001b[0;34m.\u001b[0m\u001b[0msave\u001b[0m\u001b[0;34m(\u001b[0m\u001b[0;34m)\u001b[0m\u001b[0;34m\u001b[0m\u001b[0;34m\u001b[0m\u001b[0m\n\u001b[0m\u001b[1;32m   3021\u001b[0m \u001b[0;34m\u001b[0m\u001b[0m\n\u001b[1;32m   3022\u001b[0m         \u001b[0;32mif\u001b[0m \u001b[0mpath_or_buf\u001b[0m \u001b[0;32mis\u001b[0m \u001b[0;32mNone\u001b[0m\u001b[0;34m:\u001b[0m\u001b[0;34m\u001b[0m\u001b[0;34m\u001b[0m\u001b[0m\n",
      "\u001b[0;32m/anaconda3/lib/python3.7/site-packages/pandas/io/formats/csvs.py\u001b[0m in \u001b[0;36msave\u001b[0;34m(self)\u001b[0m\n\u001b[1;32m    155\u001b[0m             f, handles = _get_handle(self.path_or_buf, self.mode,\n\u001b[1;32m    156\u001b[0m                                      \u001b[0mencoding\u001b[0m\u001b[0;34m=\u001b[0m\u001b[0mself\u001b[0m\u001b[0;34m.\u001b[0m\u001b[0mencoding\u001b[0m\u001b[0;34m,\u001b[0m\u001b[0;34m\u001b[0m\u001b[0;34m\u001b[0m\u001b[0m\n\u001b[0;32m--> 157\u001b[0;31m                                      compression=self.compression)\n\u001b[0m\u001b[1;32m    158\u001b[0m             \u001b[0mclose\u001b[0m \u001b[0;34m=\u001b[0m \u001b[0;32mTrue\u001b[0m\u001b[0;34m\u001b[0m\u001b[0;34m\u001b[0m\u001b[0m\n\u001b[1;32m    159\u001b[0m \u001b[0;34m\u001b[0m\u001b[0m\n",
      "\u001b[0;32m/anaconda3/lib/python3.7/site-packages/pandas/io/common.py\u001b[0m in \u001b[0;36m_get_handle\u001b[0;34m(path_or_buf, mode, encoding, compression, memory_map, is_text)\u001b[0m\n\u001b[1;32m    422\u001b[0m         \u001b[0;32melif\u001b[0m \u001b[0mencoding\u001b[0m\u001b[0;34m:\u001b[0m\u001b[0;34m\u001b[0m\u001b[0;34m\u001b[0m\u001b[0m\n\u001b[1;32m    423\u001b[0m             \u001b[0;31m# Python 3 and encoding\u001b[0m\u001b[0;34m\u001b[0m\u001b[0;34m\u001b[0m\u001b[0;34m\u001b[0m\u001b[0m\n\u001b[0;32m--> 424\u001b[0;31m             \u001b[0mf\u001b[0m \u001b[0;34m=\u001b[0m \u001b[0mopen\u001b[0m\u001b[0;34m(\u001b[0m\u001b[0mpath_or_buf\u001b[0m\u001b[0;34m,\u001b[0m \u001b[0mmode\u001b[0m\u001b[0;34m,\u001b[0m \u001b[0mencoding\u001b[0m\u001b[0;34m=\u001b[0m\u001b[0mencoding\u001b[0m\u001b[0;34m,\u001b[0m \u001b[0mnewline\u001b[0m\u001b[0;34m=\u001b[0m\u001b[0;34m\"\"\u001b[0m\u001b[0;34m)\u001b[0m\u001b[0;34m\u001b[0m\u001b[0;34m\u001b[0m\u001b[0m\n\u001b[0m\u001b[1;32m    425\u001b[0m         \u001b[0;32melif\u001b[0m \u001b[0mis_text\u001b[0m\u001b[0;34m:\u001b[0m\u001b[0;34m\u001b[0m\u001b[0;34m\u001b[0m\u001b[0m\n\u001b[1;32m    426\u001b[0m             \u001b[0;31m# Python 3 and no explicit encoding\u001b[0m\u001b[0;34m\u001b[0m\u001b[0;34m\u001b[0m\u001b[0;34m\u001b[0m\u001b[0m\n",
      "\u001b[0;31mFileNotFoundError\u001b[0m: [Errno 2] No such file or directory: '/Users/bishalsainju/Desktop/data_viz/con/10/topic_center.csv'"
     ]
    }
   ],
   "source": [
    "df.to_csv(f\"~/Desktop/data_viz/con/{num_topics}/topic_center.csv\")"
   ]
  },
  {
   "cell_type": "markdown",
   "metadata": {},
   "source": [
    "## Combine Pro and Cons model\n"
   ]
  },
  {
   "cell_type": "code",
   "execution_count": 29,
   "metadata": {},
   "outputs": [
    {
     "data": {
      "text/html": [
       "<div>\n",
       "<style scoped>\n",
       "    .dataframe tbody tr th:only-of-type {\n",
       "        vertical-align: middle;\n",
       "    }\n",
       "\n",
       "    .dataframe tbody tr th {\n",
       "        vertical-align: top;\n",
       "    }\n",
       "\n",
       "    .dataframe thead th {\n",
       "        text-align: right;\n",
       "    }\n",
       "</style>\n",
       "<table border=\"1\" class=\"dataframe\">\n",
       "  <thead>\n",
       "    <tr style=\"text-align: right;\">\n",
       "      <th></th>\n",
       "      <th>topic</th>\n",
       "      <th>term</th>\n",
       "      <th>beta</th>\n",
       "    </tr>\n",
       "  </thead>\n",
       "  <tbody>\n",
       "    <tr>\n",
       "      <th>0</th>\n",
       "      <td>1</td>\n",
       "      <td>1_hour_break</td>\n",
       "      <td>3.333175e-24</td>\n",
       "    </tr>\n",
       "    <tr>\n",
       "      <th>1</th>\n",
       "      <td>2</td>\n",
       "      <td>1_hour_break</td>\n",
       "      <td>3.228877e-24</td>\n",
       "    </tr>\n",
       "    <tr>\n",
       "      <th>2</th>\n",
       "      <td>3</td>\n",
       "      <td>1_hour_break</td>\n",
       "      <td>6.486790e-12</td>\n",
       "    </tr>\n",
       "    <tr>\n",
       "      <th>3</th>\n",
       "      <td>4</td>\n",
       "      <td>1_hour_break</td>\n",
       "      <td>2.023997e-12</td>\n",
       "    </tr>\n",
       "    <tr>\n",
       "      <th>4</th>\n",
       "      <td>5</td>\n",
       "      <td>1_hour_break</td>\n",
       "      <td>3.937727e-08</td>\n",
       "    </tr>\n",
       "  </tbody>\n",
       "</table>\n",
       "</div>"
      ],
      "text/plain": [
       "   topic          term          beta\n",
       "0      1  1_hour_break  3.333175e-24\n",
       "1      2  1_hour_break  3.228877e-24\n",
       "2      3  1_hour_break  6.486790e-12\n",
       "3      4  1_hour_break  2.023997e-12\n",
       "4      5  1_hour_break  3.937727e-08"
      ]
     },
     "metadata": {},
     "output_type": "display_data"
    },
    {
     "data": {
      "text/plain": [
       "(66410, 3)"
      ]
     },
     "metadata": {},
     "output_type": "display_data"
    },
    {
     "data": {
      "text/html": [
       "<div>\n",
       "<style scoped>\n",
       "    .dataframe tbody tr th:only-of-type {\n",
       "        vertical-align: middle;\n",
       "    }\n",
       "\n",
       "    .dataframe tbody tr th {\n",
       "        vertical-align: top;\n",
       "    }\n",
       "\n",
       "    .dataframe thead th {\n",
       "        text-align: right;\n",
       "    }\n",
       "</style>\n",
       "<table border=\"1\" class=\"dataframe\">\n",
       "  <thead>\n",
       "    <tr style=\"text-align: right;\">\n",
       "      <th></th>\n",
       "      <th>topic</th>\n",
       "      <th>term</th>\n",
       "      <th>beta</th>\n",
       "    </tr>\n",
       "  </thead>\n",
       "  <tbody>\n",
       "    <tr>\n",
       "      <th>0</th>\n",
       "      <td>1</td>\n",
       "      <td>’_care</td>\n",
       "      <td>3.717818e-128</td>\n",
       "    </tr>\n",
       "    <tr>\n",
       "      <th>1</th>\n",
       "      <td>2</td>\n",
       "      <td>’_care</td>\n",
       "      <td>7.615264e-147</td>\n",
       "    </tr>\n",
       "    <tr>\n",
       "      <th>2</th>\n",
       "      <td>3</td>\n",
       "      <td>’_care</td>\n",
       "      <td>7.927693e-160</td>\n",
       "    </tr>\n",
       "    <tr>\n",
       "      <th>3</th>\n",
       "      <td>4</td>\n",
       "      <td>’_care</td>\n",
       "      <td>3.476992e-149</td>\n",
       "    </tr>\n",
       "    <tr>\n",
       "      <th>4</th>\n",
       "      <td>5</td>\n",
       "      <td>’_care</td>\n",
       "      <td>1.030328e-04</td>\n",
       "    </tr>\n",
       "  </tbody>\n",
       "</table>\n",
       "</div>"
      ],
      "text/plain": [
       "   topic    term           beta\n",
       "0      1  ’_care  3.717818e-128\n",
       "1      2  ’_care  7.615264e-147\n",
       "2      3  ’_care  7.927693e-160\n",
       "3      4  ’_care  3.476992e-149\n",
       "4      5  ’_care   1.030328e-04"
      ]
     },
     "metadata": {},
     "output_type": "display_data"
    },
    {
     "data": {
      "text/plain": [
       "(64200, 3)"
      ]
     },
     "metadata": {},
     "output_type": "display_data"
    }
   ],
   "source": [
    "import pandas as pd\n",
    "import numpy as np\n",
    "\n",
    "# num_topics_pro = 8\n",
    "num_topics_pro = 10\n",
    "data_path = \"~/Desktop/DataViz/whisper/whisperVis/data/topicModeling/pro\"\n",
    "df_pro = pd.read_csv(data_path + f\"/{num_topics_pro}/beta.csv\")\n",
    "\n",
    "# num_topics_con = 10\n",
    "num_topics_con = 10\n",
    "data_path = \"~/Desktop/DataViz/whisper/whisperVis/data/topicModeling/con\"\n",
    "df_con = pd.read_csv(data_path + f\"/{num_topics_con}/beta.csv\")\n",
    "\n",
    "display(df_pro.head())\n",
    "display(df_pro.shape)\n",
    "\n",
    "display(df_con.head())\n",
    "display(df_con.shape)"
   ]
  },
  {
   "cell_type": "code",
   "execution_count": 30,
   "metadata": {},
   "outputs": [
    {
     "name": "stdout",
     "output_type": "stream",
     "text": [
      "2096\n",
      "['cooper', 'break_30_minut', 'tie', 'flight', 'union_employe', 'staf', 'heavi', 'deli', 'huge', 'applic', 'mobil', 'parttim_hour', 'minut_lunch_break', 'stop', 'excit', 'caller', 'pay_worklif', 'monday', 'benefit_lunch', 'think', 'life_balanc_manag', 'approach', 'materi', 'pay_retail', 'comput', 'extrem', 'cell_phone', 'type', 'independ', 'weather', 'flex', 'bore', 'break_break', 'familiar', 'tuition', 'explain', 'fifteen', 'friendli', 'manag_pay', 'hour_peopl', 'dedic', 'break_15_minut', 'overcom', 'credit', 'person_vehicl', 'search', 'clearli', 'abl_help', 'asset', 'walk', 'hour_break', 'experienc', 'bonus', 'rank', 'ten', 'merchandis', 'vet', 'servic', 'night_shift', 'coverag', 'wasnt', 'law', 'health_plan', 'return', 'micromanag', 'solid', 'muy', 'administr', 'vacat_time', 'min_lunch_break', 'mistak', 'refer', 'chair', 'exposur', 'confin', 'advantag', 'employe_recognit', '1_hour_lunch', 'committe', 'make', 'compens_manag', 'theyr', 'pace_environ', 'vend_machin', 'veteran', 'divis', 'hour_paid', 'bit', 'find', 'fund', 'capit', 'date', 'employe_peopl', 'son', 'plano', 'ice', 'profession_growth', 'result', 'tour', 'cross_train', 'matur', 'break', 'manger', 'expos', 'black', 'care_manag', 'time_peopl', 'curv', 'medic_insur', 'appreci', 'timer', 'frequent', 'custom_manag', 'foot', 'pay_union', 'basic', 'product_custom', 'fifteen_minut_break', 'bar', 'certain', 'healthcar_pay', 'carri', 'pace_time', 'rush', 'hang', 'lot_opportun_advanc', 'pay_scale', 'emc', 'key', 'standard', 'break_hour', 'cater', 'expens', 'hard_worker', 'staff', 'shift', 'drama', 'tell', 'pay_check', 'workplac', 'benefit_retir', 'view', 'health_insur_benefit', 'virtual', 'agent', 'ship', 'coffe', 'adjust', 'break_15', 'pay_life', 'benefit', 'time_associ', 'cross', 'respons', 'slightli', 'tri', 'discount_employe', 'award', 'cart', 'support', 'log', 'compress_week', 'employ', 'use', 'firm', 'medic', 'agenc', 'soft', 'buis', 'manag_peopl', 'custom_base', 'chanc_advanc', 'sleep', 'money_hour', 'pull', 'switch', 'career_advanc_opportun', 'product', 'send', 'sector', 'valu_employe', 'micro_manag', 'competit', 'lost', 'fork', 'assist', 'sight', 'envirn', 'procedur', 'personnel', 'liter', 'multitask', 'list', 'overtim_pay', 'via', 'degre', 'spend_time', 'place', 'follow', 'senior', 'paycheck', 'workout', 'extens', 'summer', 'call', 'play', 'paper', 'join', 'warm', 'cultur_manag', 'break_4', 'environ', 'insur', 'walmart', 'fastpac', 'neighborhood', 'team_manag', 'normal', 'employess', 'polici', 'upper_manag', 'hour_lunch', 'competet', 'consid', 'career_path', 'pool', 'situat', 'focus', 'choos', 'pay_break', 'pass', 'comfort', 'abl', 'decis', 'air', 'lifestyl', 'qualifi', 'frontlin', 'locat', 'histori', 'workfamili', 'succeed', 'night', 'para', 'train_support', 'happen', 'server', 'manag_environ', 'safeti', 'lab', 'refriger', 'lay', 'cap', 'altern', 'lunch', 'pto', 'transact', 'bunch', 'limit', 'passion', 'balanc_manag', 'nyc', 'guidanc', 'littl', 'desir', 'instead', 'till', 'done', 'hour_schedul', 'break_shift', 'entir', 'sensit', 'countri', 'set', 'built', 'mechan', 'run', 'lifework', 'worklif_balanc', 'properti', 'that', 'train_manag', 'hour_health', 'somtim', 'reinforc', 'lunch_hour', 'industri', 'gain', 'tax', 'transit', 'differenti', 'parent', 'posit', 'challang', 'free_lunch', 'sweat', 'balanc_secur', 'depend', 'workplac_cultur', 'evalu', 'insur_pay', 'profession', 'brought', 'somewhat', 'wonder', 'vari', 'ppl', 'telephon', 'matern_leav', 'principl', 'lack', 'hour_avail', 'school', 'particular', 'prescript', 'product_line', 'pay_life_balanc', 'rang', 'solut', 'numer', 'menu', 'store_discount', 'emot', 'contact', 'time_person', 'dental', 'track', 'certif', 'forc', 'accept', 'opportun', 'crew', 'devic', 'break_2', 'red_card', 'thier', 'process', 'crazi', 'confid', 'tool', 'pay_employe', 'help_manag', 'easier', 'address', 'depot', 'free_soda', 'colleagu', 'manag_co_worker', 'post', 'rehir', 'design', 'fast_pace_time', 'costum', 'temporari', 'primarili', 'car', 'payrol', 'break_discount', 'wouldnt', 'benefit_secur', 'benfit', 'separ', 'peak_season', 'phone', 'leisur', 'team_cultur', 'hub', 'team_lead', 'late', 'rid', 'hassl', 'por', 'lot_time', 'automot', 'harder', 'lot_overtim', 'health', 'global', 'doubl', 'benifit', 'day_day', 'muscl', 'month', 'holiday_season', '45_minut_lunch', 'mgt', 'deadlin', 'divers', 'gift', 'suit', 'resolv', 'worklif_balanc_manag', 'team_environ', 'whenev', 'mission', 'women', 'fast', 'readi', 'day_weekend', 'mean', 'train_class', 'custom_servic', 'concept', 'honor', 'handl', 'renew', 'week', 'properli', 'dress', 'comiss', 'rise', 'short_term', 'object', 'guid', 'joint', 'payment', 'sell', 'cubicl', 'home_offic', 'discount_store', 'rotat_schedul', 'ownership', 'hour_day', 'talk_peopl', 'music', 'offic_space', 'cowork_manag', 'upward_mobil', '45_min_lunch', 'austin', 'excel_benefit', 'incent_plan', 'base_salari', 'pay_hard', 'inform', 'kept', 'employe_moral', 'break_8', 'grade', 'overtim_hour', 'break_peopl', 'afternoon', 'person', 'smart', 'core', 'feel', 'technic', 'lax', 'oblig', 'meet_goal', 'report', 'unit', 'growth_opportun', 'employe_friendli', 'workhom', 'share', 'stand', 'peak', 'brake', 'base', 'line_manag', 'retail', 'manag_cultur', 'rare', 'wish', 'coach', 'absolut', 'time_famili', 'forward', 'vacat_sick_day', 'eventu', 'remov', 'holiday_vacat', 'driven', 'qualiti_life', 'gym', 'schedul_flexibl', 'current', 'breakslunch', 'opportun_move', 'variou', 'util', 'goe', 'off', 'pound', 'pay', 'manipul', 'manag_care', 'break_lunch_time', 'speed', 'migrat', 'advanc_pay', 'guy', 'focu', 'underwrit', 'local_manag', 'break_benefit', 'upper', 'balanc_pay', 'dell', 'restroom', 'fargo', 'review', 'care_benefit', 'internship', 'convers', 'weight', 'charlott', 'function', 'averag_pay', 'mall', 'uniform', 'googl', 'metlif', 'directli', 'network', 'thirti', 'rememb', 'temporari_employe', 'abil', 'director', 'benefit_overtim', 'didnt', 'close', 'spot', 'advanc_peopl', 'mediocr', 'envior', 'salari_benefit', 'disabl', 'advanc_opportun', 'manag_cowork', 'secur_pay', 'offici', 'pay_health', 'secur', 'emplye', 'soon', 'energi', 'express', 'system', 'longev', 'day_vacat', '10_minut_break', 'parttim_employe', 'chase', 'aircondit', 'bring', 'benefit_parttim', 'vacat_sick_time', 'hour', 'larger', 'sick_time', 'anytim', 'collect', 'near', 'tabl', 'paid_holiday', 'shuttl', 'surpris', 'comp', 'turnaround', 'special', 'boost', 'broker', 'board', 'bank', 'brand', 'buy', 'cowork', 'boe', 'institut', 'greatli', 'count', 'effect', 'offer', 'bathroom', 'pay_rais', 'ibm', 'period_time', 'purpos', 'hour_weekend', 'healthcar_insur', 'realist', 'oppurtun', 'repeat', 'zone', 'health_coverag', 'life_insur', 'minimum', 'repres', 'enjoy', 'sick_day', 'schedul_hour', 'contribut', 'quota', 'labor', 'weekend_holiday', 'benefit_commiss', 'select', 'accomplish', 'manag_support', 'instor', 'line_busi', 'annual_review', 'minut_break_hour', 'sort', 'cultur', 'pay_salari', 'lunch_time', 'provid', 'unload', 'flexibl', 'consist', 'peac', 'usual', 'holiday_weekend', 'short_day', 'pay_better', 'break_lunch', 'environ_cultur', 'access', 'upward', 'train', 'time_benefit', 'beak', 'preload', 'flexibl_hour', 'temperatur', 'discount_ge', 'employe_pay', 'smoke', 'worker_manag', 'utc', 'break_free', 'ford', 'parti', 'relationship', 'corner', 'teller', 'shift_schedul', 'suppli', 'interview', 'support_manag', 'read', 'prepar', 'corpor', 'health_care_benefit', 'mac', 'hour_flexibl', 'exampl', 'improv', 'appropri', 'hold', 'none', 'fee', 'god', 'schedul_break', 'help', 'volunt', 'repair', 'represent', 'better', 'purchas', 'love', 'empti', 'middl', 'clinic', 'longterm', 'occassion', 'farm', 'custom_interact', 'packag', 'one', 'technolog', 'channel', 'lucki', 'begin', 'futur', 'manag_time', 'break_overtim', 'andor', 'advisor', 'trainer', 'six', 'store_level', 'colleg', 'chanc', 'amongst', 'consist_schedul', 'path', 'encourag', 'tech_compani', 'recent', 'length', 'stuff', 'hour_fast', 'honest', 'book', 'nearli', 'benefit_union', 'lot_peopl', 'incent_pay', 'union', 'bank_center', 'benefit_packag', 'welcom', 'insan', 'organiz', 'lot_travel', 'oversea', 'pay_incent', 'effort', 'joke', 'differ_depart', 'manag_care_employe', 'youv', 'overal', 'held', 'balanc', 'door', 'jump', 'cardin', 'manag_friendli', 'maintain', 'diem', 'qualif', '15_minut_break', 'transport', 'commut', 'pay_secur', 'plenti', 'talk', 'peopl', 'break_paid', 'micro', 'manag_benefit', 'project', 'check', 'flexibl_life_balanc', 'employe_appreci', 'pleas', 'home_time', 'fellow', 'pay_schedul', 'typic', 'qualiti', 'infrastructur', 'pay_worklif_balanc', 'interact', 'slight', 'minut', 'compens_packag', 'expertis', 'ford_motor', 'train_advanc', 'exist', 'request', 'oper', 'trade', 'scale', 'life', 'cafeteria', 'fmla', 'increas', 'team_leader', 'accid', 'initi', 'ate', 'biweekli', 'seriou', 'chang', 'manageri', 'home_depot', 'eye', 'event', 'incom', 'benefit_health_insur', 'softwar', 'hour_lot', 'benefit_health', 'time_day', 'product_employe', 'concern', 'open', 'bother', 'take', 'spirit', 'entri_level', 'licens', 'teamwork', 'train_peopl', 'elsewher', 'your', 'shape', 'lot_opportun', 'profit_share', 'marketplac', 'debit', 'toe', 'volum', 'pay_advanc', 'shoe', 'remot', 'onlin', 'mental', 'float', 'prospect', 'york', 'doctor', 'break_schedul', 'verizon', 'fair', 'wont', 'past', 'stress', 'paid_time', 'window', 'hourli_rate', 'offer_home', 'solv', '10_hour_day', 'pocket', 'mail', 'legal', 'hour_hour', 'expect', 'day_week', 'manag_advanc', 'time_lunch', 'minut_lunch', 'shift_bid', 'complic', 'see', 'boa', 'home_base', 'break_8_hour', 'differ', 'tenur', 'dtv', 'print', 'exclus', 'opportun_growth', 'assign', 'earn', 'workweek', 'input', 'supervisor', 'mile', 'thrive', 'embrac', 'deliveri', 'metric', 'pension', 'drive_car', 'mark', 'wife', 'workday', 'trajectori', 'air_condit', 'sick', 'mckesson', 'thru', 'quickli', 'detail', 'action', 'hour_overtim', 'front', 'found', '40_hour_week', 'break_1_hour', 'career_develop', 'exceed', 'credit_card', 'bank_america', 'fanni', 'satisfi', 'regularli', 'entri', 'fed_ex', 'manag_team', 'amount', 'lose', 'surviv', 'cut', 'atmospher', 'manag_store', 'grow', 'machin', 'hsa', 'christma', 'lot_employe', 'item', 'occas', 'hard', 'dupont', 'guarante_hour', 'ground', 'health_insur', 'screen', 'decent', 'lower_level', 'salari', 'conveni', 'holiday', 'sever', '8_hour_shift', 'set_hour', 'att', 'lunch_pay', 'main', 'best', 'invest', 'break_day', 'compens_benefit', 'econom', 'overnight', 'day_shift', 'starbuck', 'hourli_pay', 'stone', 'deliv', 'pretti', 'healthi', 'adult', 'impact', 'water', 'price', 'distribut', 'race', 'okay', 'stuck', 'benefit_break', 'despit', 'real', 'continu_educ', 'notic', 'phoenix', 'complet', 'postion', 'met', 'practic', 'pay_benifit', 'pay_posit', 'line', 'specialist', 'capabl', 'fast_pace_environ', 'boss', 'shop', 'growth', 'progress', 'super', 'caus', 'manag_opportun', 'manag_staff', 'workspac', 'smell', 'retir_benefit', 'obtain', 'abil_move', 'favorit', 'bodi', 'self', 'even', 'elderli', 'freedom', 'student', 'commiss_base', 'third', 'contract', 'moral', 'truli', 'cultur_life', 'approv', 'jpmorgan', 'issu', 'terribl', 'execut', 'dog', 'integr', 'schedul_worklif', 'manag_help', 'sit', 'loss', 'session', 'hat', 'wifi', 'oil_ga', 'environ_hour', 'policyhold', 'mandatori_overtim', 'environ_manag', 'dept', 'actual', 'look', 'hour_benefit', 'youll', 'heart', 'excel_health_care', 'reimburs', 'dinner', 'offic', 'relief', 'nice', 'mileag', 'spread', 'acknowledg', 'restrict', 'load', 'manag_compens', 'enter', 'hour_discount', 'except', 'trabajo', 'chemic', 'short_hour', 'store_manag', 'govern', 'term', 'health_benefit', 'throughout', 'healthcar', 'store', 'data', 'aspect', 'loyal', 'perman_posit', 'heath', 'major', 'transfer', 'hope', 'employe_manag', 'relax', 'routin', 'laid', 'custom_employe', 'break_pay', 'perform_review', 'rais_benefit', 'compani', 'famili', 'manag_hour', 'stabil', 'prudenti', 'medicar', 'matern', 'move', 'min', 'particip', 'incred', 'wise', 'banker', 'idea', 'seek', 'buck', 'busi_time', 'anymor', 'traffic', 'mangement', 'mortgag', 'ongo', 'parttim', 'game', 'break_time', 'monthli', 'healthcar_401k', 'discount_product', 'mid', 'intern', 'offic_environ', 'american', 'develop', 'bonus_pay', 'career_advanc', 'lean', 'proactiv', 'dont', 'major_holiday', 'red', 'pharmaci_manag', 'fulltim', 'fit', 'afford', 'excel', 'pay_bad', 'famili_friendli', 'time_holiday', 'lol', 'etc', 'glove', 'redcard', 'arent', 'placement', 'benefit_employe', 'clear', 'develop_program', 'accommod', 'headquart', 'direct', 'competitv', 'extern', 'excess', 'drink', 'membership', 'wear', 'sunday', 'orient', 'client', 'error', 'benefit_pay', 'reach', 'straight', 'vacat_benefit', 'resid', 'court', 'vibe', 'challeng', 'hourli', 'premium', 'test', 'top', 'tast', 'valuabl', 'truck', 'friend', 'min_lunch', 'allow', 'bought', 'kitchen', 'bottom', 'payout', 'visit', 'strict', 'guidelin', 'commit', 'collabor', 'outsid', 'competit_pay', 'uaw', 'hour_lunch_break', 'support_staff', 'construct', 'face', 'univers', 'pharmacist', 'seen', 'out', 'inventori', 'hand', 'satisfact', 'bad', 'worri', 'control', 'fedex', 'tend', 'con', 'horribl', 'consider', 'worth', 'home_life', 'paid', 'annual', 'intel', 'hour_custom', 'onsit', 'short_break', 'treatment', 'rel', 'cost_studi', 'space', 'alot', 'get', 'updat', 'awar', 'rate', 'punch', 'telecommut', 'children', 'loan', 'insur_benefit', 'perk', 'motiv', 'satisfactori', 'power', 'hair', 'allot', 'ect', 'hotel', 'meaning', 'news', 'box', 'cold', 'suffici', 'break_employe', 'tough', 'breakfast', 'cost', 'extra_hour', 'vend', 'adequ', 'easi', 'cheap', 'start', 'nonmanag', 'desk', 'disciplin', 'base_pay', 'research', 'attent', 'credo', 'luch', 'weekli', 'crowd', 'chain', 'instal', 'senior_manag', 'weekend', 'park', 'groceri', 'build', 'cheaper', 'quarter', 'street', 'evolv', 'leadership_program', 'record', 'ive', 'pay_manag', 'establish', 'ceil', 'half_hour_lunch', 'citigroup', 'vendor', 'role', 'serv', 'bakeri', 'corp', 'kind', 'drop', 'bay', 'due', 'sale_goal', 'instant', 'growth_potenti', 'daili', 'admin', 'accur', 'worker', 'signific', 'america', 'regul', 'station', 'minim', 'awesom', 'like', 'break_30', 'holiday_pay', 'plant', 'time_health', 'break_custom', 'protect', 'learn_curv', 'difficult', 'avoid', 'skill', 'natur', 'steadi', 'shift_pay', 'microwav', 'includ', 'compens_plan', 'low', 'directv', 'team', 'team_support', 'inclus', 'strong', 'innov', 'pay_lunch', 'perform', 'transpar', 'comput_system', 'measur', 'regard', 'opportun_promot', 'insur_dental', 'cultur_worklif', 'hire', 'clientel', 'mother', 'previou', 'believ', 'pay_insur', 'fairli', 'social', 'titl', 'tree', 'account', 'food', 'famili_orient', 'task', 'code', 'mgmt', 'target', 'consum', 'lot_hour', 'organ', 'shown', 'charg', 'aggress', 'ticket', 'lot', 'pay_time', 'field', 'promo', 'stretch', 'economi', 'success', 'manag_employe', 'deposit', 'opportunit', 'auto', 'supplier', 'branch', 'rais', 'world', 'sale', 'heathcar', 'probabl', 'estat', 'zero', '30_min_break', 'million', 'model', 'unpaid', 'unfortun', 'receiv', 'peopl_cultur', 'leader', 'benefit_sometim', 'claim', 'flexibl_manag', 'time_pay', 'discount', 'kid', 'highli', 'strategi', 'downtown', 'paid_sick', 'decid', 'clean', 'polit', 'lift', 'pension_plan', 'expand', 'neg', 'profit', 'program', 'injuri', 'user', 'ensur', 'temp', 'stay', 'stabl', 'day', 'age', 'anthem', 'benefit_life_balanc', 'thorough', 'pay_benefit', 'leverag', 'avail', 'will', 'gear', 'launch', 'hour_employe', 'referr', 'subway', 'market', 'benefit_hour', 'come', 'winter', 'hora', 'outstand', 'paid_vacat', 'shift_hour', 'cent', 'twice', 'ideal', 'hr_week', 'watch', 'person_time', 'eat', 'hourli_wage', 'care_employe', 'dull', 'agent_pay', 'enrol', 'answer', 'pay_structur', 'unless', 'bonu', 'busi_season', 'factori', 'moment', 'deal_custom', 'oportun', 'there', 'custom_pay', 'constantli', 'exempt', 'weekend_month', 'intens', 'educ', 'time_manag', 'que', 'fresh', 'person_growth', 'opportun_pay', 'stock', 'road', 'quick', 'glass', 'coordin', 'care', 'salari_manag', 'career_opportun', 'schedul_worklif_balanc', 'pay_advanc_opportun', 'child', 'foreign', 'size', 'inhous', 'ton', 'hour_time', 'hour_home', 'document', 'manag_train', 'snack', 'goal', 'especi', 'behavior', 'growth_pay', 'lunch_break_hour', 'popular', 'occasion', 'balanc_cultur', 'arriv', 'fire', 'patient', 'question', 'prioriti', 'time_break', 'commiss_structur', 'driver', 'risk', 'singl', 'shortag', 'happi', 'extra', 'implement', 'emphasi', 'center', 'flexabl', 'burn', 'solo', 'benefit_time_employe', 'workforc', 'commis', 'tech', 'busi_day', 'employe_benefit', 'choic', 'fill', 'help_custom', 'dollar', 'besid', 'quiet', 'benefit_manag', 'picnic', 'prize', 'union_represent', 'employe_discount', 'pressur', 'eight', 'outlook', 'benefit_low', '30_minut_lunch', 'local', 'time_home', 'save', 'emerg', 'loos', 'opportun_manag', 'daili_basi', 'experi', 'benefit_short', 'form', 'time_opportun', 'schedul_time', 'repet', 'toler', 'addit', 'grant', 'nation', 'stay_busi', 'speak', 'environ_time', 'random', 'cabl', 'medicin', 'day_hour', 'poor', 'lunch_break', 'break_hour_lunch', 'aerospac', 'teach', 'write', 'co_worker', 'cultur_life_balanc', 'card', 'half', 'pro', 'feedback', 'complex', 'internet', 'cell', 'subject', 'stock_option', 'overtim', 'motor', 'campu', 'drug', 'continu', 'town', 'script', 'meet', 'paid_lunch', 'pickup', 'led', 'attend', 'connect', 'manag_lot', 'usa', 'break_4_hour', 'pay_industri', 'feet', 'requir', 'total', 'transform', 'ride', 'valu', 'negoti', 'deduct', 'pay_employe_discount', 'enviorn', 'class', 'employe', 'rais_hour', 'snow', 'thanksgiv', 'consult', 'badg', 'demand', 'climat', 'pay_low', 'treat', 'pick', 'enforc', 'light', 'talent', 'vehicl', 'critic', 'wide', 'add', 'attempt', 'accord', 'break_1', 'career', 'apart', 'fuel', 'faster', 'listen', 'free_food', 'fte', 'worklif', 'better_pay', 'werent', 'shutdown', 'saturday', 'lock', 'manag_worklif_balanc', 'flexibl_life', 'health_dental', 'morn_shift', 'job', 'holiday_time', 'secur_advanc', 'recognit', 'accru', 'common', 'microsoft', 'profess', 'cashier', 'randomli', 'heat', 'five', 'benefit_offer', 'trust', 'set_schedul', 'folk', 'midlevel', 'schdule', 'cost_live', 'breath', 'district', 'promot_opportun', 'workload', 'associ', 'hour_pay', 'cultur_worklif_balanc', 'paid_holiday_vacat', 'partner', 'ran', 'multipl', 'hour_shift', 'cloth', 'hour_team', 'throw', 'health_care', 'involv', 'deal', 'honesti', 'cohes', 'chevron', 'outdoor', 'knowledg', 'loyalti', 'resourc', 'competit_environ', 'attract', 'rule', 'background', 'hous', 'basi', 'schedul_manag', 'rate_pay', 'vto', 'step', 'elig', 'minut_break', 'movement', 'structur', 'schedual', 'free', 'retir', 'territori', 'climat_control', 'respect', 'engag', 'blue', 'lower', 'fix', 'beyond', 'benefit_timer', 'manag', 'hit', 'duti', 'know', 'reloc', 'engin', 'pay_minimum', 'compens', 'lend', 'releas', 'annual_rais', 'budget', 'pay_opportun', 'time_time', 'mandatori', 'cloud', 'enviro', 'coupl', 'statu', 'wage', 'fast_pace', 'dress_code', 'stack', 'polic', 'restaur', 'secur_benefit', 'benefit_paid', 'player', 'life_balanc_opportun', 'physic', 'machineri', 'rest', 'give', 'start_time', 'sold', 'seri', 'hundr', 'yearli', 'pay_short', 'put', 'pay_rate', 'everyday', 'exercis', 'inclement', 'treat_employe', 'merit', 'break_lot', 'averag', 'left', 'train_program', 'sourc', 'bill', 'benefit_temp', 'mainten', 'vacat_day', 'revenu', 'smart_peopl', 'visibl', 'theyll', 'benefit_401k', 'discount_ge_product', 'pharmaci', 'lake', 'club', 'hot', 'sale_manag', 'paperwork', 'tier', 'matter', 'pressur_sale', 'recogn', 'houston', 'assembl_line', 'fine', 'cash', 'pace', 'hour_manag', 'pay_healthcar', 'perfect', 'slow', 'health_care_401k', 'corpor_environ', 'pay_health_benefit', 'creativ', 'busi', 'employe_custom', 'short', 'figur', 'effici', 'regulatori', 'quarterli', 'min_break', 'descanso', 'retain', '8_hour_day', 'appli', 'big', 'centric', 'schedul', 'level', 'pay_pay', 'differ_locat', 'life_balanc', 'surround', 'insid', 'lead', 'dental_vision', 'health_insur_401k', 'percent', 'depend_manag', 'cardin_health', 'els', 'own', 'immedi', 'extend', 'method', 'garag', 'ethic', 'insent', 'whatev', 'name', 'correctli', 'push', 'help_peopl', 'reduc', 'cafeteria_food', 'meritocraci', 'forklift', 'pay_competit', 'garden', 'finish', 'digit', 'opportunti', 'short_shift', 'observ', 'break_manag', 'compar', 'ceo', 'let', '10_min_break', 'season', 'round', 'health_dental_vision', 'human', 'site', 'pay_hour', 'leadership', 'auto_industri', 'could', 'beer', 'technician', 'opportun_career_growth', 'bond', 'manag_commun', 'fed', 'morn', 'dispatch', 'empresa', 'pepsi', '30_minut_break', 'couldnt', 'conduct', 'produc', 'don', 'leav', 'time', 'resolut', 'reliabl', 'incent', 'match', 'quick_pace', 'coke', 'corpor_cultur', 'spend', 'roll', 'creat', 'reason', 'head', 'easili', 'pay_increas', 'pack', 'break_15_min', 'achiev', 'commiss_pay', 'rout', 'reward', 'famili_time', 'partial', 'peopl_time', 'option', 'custom_satisfact', 'opportun_advanc', 'pay_overtim', 'sign', 'mayb', 'breakroom', 'privat', 'true', 'hour_compens', 'regular', 'nasa', 'relat', 'monitor', 'financ', 'travel', 'green', 'costco', 'superior', 'potenti', 'central', 'dynam', 'rep', 'medic_benefit', 'confer', 'drive', 'pay_peopl', 'food_court', 'vision', 'regist', 'vest', 'acquir', 'quit', 'financi', 'hear', 'benefit_time', 'career_growth', 'abus', 'nimbl', 'miss', 'appoint', 'girl', 'guest', 'definit', 'forev', 'nurs', 'plu', 'public', 'intern_travel', 'guess', 'cube', 'autonomi', '30_min_lunch', 'insur_employe', 'peopl_manag', 'meal', 'trip', 'depart', 'benefit_vacat', 'gener', 'ill', 'recruit', 'reput', 'start_wage', 'direct_manag', 'healthcar_benefit', 'varieti', 'custom', 'hardwork', 'autom', 'balanc_benefit', 'buse', 'defin', 'pay_lot', 'aircraft', 'commun', 'reli', 'schedul_day', 'break_10', 'supervis', '15_min_break', 'possibl', 'grate', 'mind', 'hoilday', 'retir_packag', 'retent', 'sea', 'presenc', 'manner', 'money', 'live', 'commun_skill', 'safe', 'sens', 'accomod', 'keep', 'reciev', 'manag_life_balanc', 'distanc', 'par', 'cook', '4_hour_shift', 'command', 'graduat', 'pay_commiss', 'learn', 'forgiv', 'condit', 'bid', 'break_healthcar', 'applianc', 'prior', 'heavili', 'understand', 'doesnt', 'satellit', 'owner', 'arrang', 'lot_money', 'hour_week', 'opinion', 'facil', 'hardwar', 'clock', 'guarante', 'individu', 'mentor', 'free_health', 'start_pay', 'assembl', 'fun', 'agil', 'break_lunch_break', 'studi', 'advanc', 'huddl', 'warehous', 'time_employe', 'minimum_wage', 'prefer', 'home_day', 'sound', 'tension', 'manufactur', 'salari_compens', 'won', 'equal', 'locker', '12_hour_shift', 'competit_salari', 'citibank', 'cool', 'friday', 'pay_minimum_wage', 'floor', 'militari', 'contributor', 'adapt', 'setup', 'vacat', 'bank_industri', 'perman', 'break_30_min', 'period', 'flexibl_schedul', 'comcast', 'platform', 'balanc_life', 'benefit_advanc', 'suck', 'equip', 'soda', 'opportun_career', 'cover', 'constant', 'ge_product', 'free_coffe', 'final', 'tight', 'vacat_sick', 'product_servic', 'compress', 'mortgag_industri', 'seat', 'ago', 'proper', 'free_time', 'defens', 'massiv', 'simpl', 'citi', 'childcar', 'lifework_balanc', 'toward', 'person_life', 'manag_pay_benefit', 'holder', 'promot', 'recommend', 'time_schedul', 'time_hour', 'multi', 'rotat', 'contractor', 'mix', 'author', 'hospit', 'airplan', 'peer', 'ahead', 'scope', 'mgr', 'compet', 'flow', 'home', 'kroger', 'commiss', 'plan', 'appl', 'sick_leav', 'schedul_pay', 'specif', 'half_hour', 'cafe', 'vast', 'turnov', 'bonu_structur', 'style', 'call_center', 'wait', 'opportun_grow', 'oil', 'later', 'mate', 'belong', 'activ', 'attitud', 'sometim', 'lunch_manag', 'spring']\n"
     ]
    }
   ],
   "source": [
    "pro_terms = df_pro[df_pro.topic == 1][\"term\"].values.tolist()\n",
    "con_terms = df_con[df_con.topic == 1][\"term\"].values.tolist()\n",
    "\n",
    "pro_con = list(set(pro_terms) & set(con_terms))\n",
    "print(len(pro_con))\n",
    "print(pro_con)"
   ]
  },
  {
   "cell_type": "code",
   "execution_count": 31,
   "metadata": {},
   "outputs": [
    {
     "name": "stdout",
     "output_type": "stream",
     "text": [
      "13061\n",
      "13061\n"
     ]
    }
   ],
   "source": [
    "just_pro = list(set(pro_terms) - set(con_terms))\n",
    "just_con = list(set(con_terms) - set(pro_terms))\n",
    "\n",
    "\n",
    "print(len(just_pro) + len(just_con) + 2*len(pro_con))\n",
    "print(len(pro_terms) + len(con_terms))"
   ]
  },
  {
   "cell_type": "code",
   "execution_count": 32,
   "metadata": {},
   "outputs": [
    {
     "data": {
      "text/html": [
       "<div>\n",
       "<style scoped>\n",
       "    .dataframe tbody tr th:only-of-type {\n",
       "        vertical-align: middle;\n",
       "    }\n",
       "\n",
       "    .dataframe tbody tr th {\n",
       "        vertical-align: top;\n",
       "    }\n",
       "\n",
       "    .dataframe thead th {\n",
       "        text-align: right;\n",
       "    }\n",
       "</style>\n",
       "<table border=\"1\" class=\"dataframe\">\n",
       "  <thead>\n",
       "    <tr style=\"text-align: right;\">\n",
       "      <th></th>\n",
       "      <th>topic</th>\n",
       "      <th>term</th>\n",
       "      <th>beta</th>\n",
       "      <th>procon</th>\n",
       "      <th>color</th>\n",
       "    </tr>\n",
       "  </thead>\n",
       "  <tbody>\n",
       "    <tr>\n",
       "      <th>0</th>\n",
       "      <td>1</td>\n",
       "      <td>1_hour_break</td>\n",
       "      <td>3.333175e-24</td>\n",
       "      <td>pro</td>\n",
       "      <td>#c67f1f</td>\n",
       "    </tr>\n",
       "    <tr>\n",
       "      <th>1</th>\n",
       "      <td>2</td>\n",
       "      <td>1_hour_break</td>\n",
       "      <td>3.228877e-24</td>\n",
       "      <td>pro</td>\n",
       "      <td>#c67f1f</td>\n",
       "    </tr>\n",
       "    <tr>\n",
       "      <th>2</th>\n",
       "      <td>3</td>\n",
       "      <td>1_hour_break</td>\n",
       "      <td>6.486790e-12</td>\n",
       "      <td>pro</td>\n",
       "      <td>#c67f1f</td>\n",
       "    </tr>\n",
       "    <tr>\n",
       "      <th>3</th>\n",
       "      <td>4</td>\n",
       "      <td>1_hour_break</td>\n",
       "      <td>2.023997e-12</td>\n",
       "      <td>pro</td>\n",
       "      <td>#c67f1f</td>\n",
       "    </tr>\n",
       "    <tr>\n",
       "      <th>4</th>\n",
       "      <td>5</td>\n",
       "      <td>1_hour_break</td>\n",
       "      <td>3.937727e-08</td>\n",
       "      <td>pro</td>\n",
       "      <td>#c67f1f</td>\n",
       "    </tr>\n",
       "  </tbody>\n",
       "</table>\n",
       "</div>"
      ],
      "text/plain": [
       "   topic          term          beta procon    color\n",
       "0      1  1_hour_break  3.333175e-24    pro  #c67f1f\n",
       "1      2  1_hour_break  3.228877e-24    pro  #c67f1f\n",
       "2      3  1_hour_break  6.486790e-12    pro  #c67f1f\n",
       "3      4  1_hour_break  2.023997e-12    pro  #c67f1f\n",
       "4      5  1_hour_break  3.937727e-08    pro  #c67f1f"
      ]
     },
     "metadata": {},
     "output_type": "display_data"
    },
    {
     "data": {
      "text/html": [
       "<div>\n",
       "<style scoped>\n",
       "    .dataframe tbody tr th:only-of-type {\n",
       "        vertical-align: middle;\n",
       "    }\n",
       "\n",
       "    .dataframe tbody tr th {\n",
       "        vertical-align: top;\n",
       "    }\n",
       "\n",
       "    .dataframe thead th {\n",
       "        text-align: right;\n",
       "    }\n",
       "</style>\n",
       "<table border=\"1\" class=\"dataframe\">\n",
       "  <thead>\n",
       "    <tr style=\"text-align: right;\">\n",
       "      <th></th>\n",
       "      <th>topic</th>\n",
       "      <th>term</th>\n",
       "      <th>beta</th>\n",
       "      <th>procon</th>\n",
       "      <th>color</th>\n",
       "    </tr>\n",
       "  </thead>\n",
       "  <tbody>\n",
       "    <tr>\n",
       "      <th>0</th>\n",
       "      <td>1</td>\n",
       "      <td>’_care</td>\n",
       "      <td>3.717818e-128</td>\n",
       "      <td>con</td>\n",
       "      <td>#20e560</td>\n",
       "    </tr>\n",
       "    <tr>\n",
       "      <th>1</th>\n",
       "      <td>2</td>\n",
       "      <td>’_care</td>\n",
       "      <td>7.615264e-147</td>\n",
       "      <td>con</td>\n",
       "      <td>#20e560</td>\n",
       "    </tr>\n",
       "    <tr>\n",
       "      <th>2</th>\n",
       "      <td>3</td>\n",
       "      <td>’_care</td>\n",
       "      <td>7.927693e-160</td>\n",
       "      <td>con</td>\n",
       "      <td>#20e560</td>\n",
       "    </tr>\n",
       "    <tr>\n",
       "      <th>3</th>\n",
       "      <td>4</td>\n",
       "      <td>’_care</td>\n",
       "      <td>3.476992e-149</td>\n",
       "      <td>con</td>\n",
       "      <td>#20e560</td>\n",
       "    </tr>\n",
       "    <tr>\n",
       "      <th>4</th>\n",
       "      <td>5</td>\n",
       "      <td>’_care</td>\n",
       "      <td>1.030328e-04</td>\n",
       "      <td>con</td>\n",
       "      <td>#20e560</td>\n",
       "    </tr>\n",
       "  </tbody>\n",
       "</table>\n",
       "</div>"
      ],
      "text/plain": [
       "   topic    term           beta procon    color\n",
       "0      1  ’_care  3.717818e-128    con  #20e560\n",
       "1      2  ’_care  7.615264e-147    con  #20e560\n",
       "2      3  ’_care  7.927693e-160    con  #20e560\n",
       "3      4  ’_care  3.476992e-149    con  #20e560\n",
       "4      5  ’_care   1.030328e-04    con  #20e560"
      ]
     },
     "metadata": {},
     "output_type": "display_data"
    }
   ],
   "source": [
    "\n",
    "n = len(just_con)\n",
    "for i in range(1, num_topics_pro+1):\n",
    "    topic = np.full(n, i)\n",
    "    beta = np.full(n, 0)\n",
    "    df_temp = pd.DataFrame()\n",
    "    df_temp[\"topic\"] = topic\n",
    "    df_temp[\"term\"] = just_con\n",
    "    df_temp[\"beta\"] = beta\n",
    "    df_pro = pd.concat([df_pro, df_temp], ignore_index=True, sort=False)\n",
    "    \n",
    "n = len(just_pro)\n",
    "for i in range(1, num_topics_con+1):\n",
    "    topic = np.full(n, i)\n",
    "    beta = np.full(n, 0)\n",
    "    df_temp = pd.DataFrame()\n",
    "    df_temp[\"topic\"] = topic\n",
    "    df_temp[\"term\"] = just_pro\n",
    "    df_temp[\"beta\"] = beta\n",
    "    df_con = pd.concat([df_con, df_temp], ignore_index=True, sort=False)\n",
    "    \n",
    "    \n",
    "df_pro[\"procon\"] = \"pro\"\n",
    "df_pro[\"color\"] = \"#c67f1f\"\n",
    "df_con[\"procon\"] = \"con\"\n",
    "df_con[\"color\"] = \"#20e560\"\n",
    "\n",
    "display(df_pro.head())\n",
    "display(df_con.head())"
   ]
  },
  {
   "cell_type": "code",
   "execution_count": 33,
   "metadata": {},
   "outputs": [],
   "source": [
    "df = pd.concat([df_pro, df_con], ignore_index=True, sort=False)\n"
   ]
  },
  {
   "cell_type": "code",
   "execution_count": 34,
   "metadata": {},
   "outputs": [
    {
     "name": "stdout",
     "output_type": "stream",
     "text": [
      "10965\n",
      "10965\n",
      "0\n"
     ]
    }
   ],
   "source": [
    "print(df_pro.term.nunique())\n",
    "print(df_con.term.nunique())\n",
    "\n",
    "t26 = df[(df.topic==26) & (df.procon==\"pro\")].term.nunique()\n",
    "print(t26)"
   ]
  },
  {
   "cell_type": "markdown",
   "metadata": {},
   "source": [
    "## Computing topic word distribution"
   ]
  },
  {
   "cell_type": "code",
   "execution_count": 35,
   "metadata": {
    "scrolled": true
   },
   "outputs": [
    {
     "name": "stdout",
     "output_type": "stream",
     "text": [
      "20\n",
      "20\n"
     ]
    }
   ],
   "source": [
    "topic_word_distr = []\n",
    "imp_words = []\n",
    "pro_con = []\n",
    "color = []\n",
    "terms = df[(df.topic == 1) & (df.procon == \"pro\")].term.values.tolist()\n",
    "\n",
    "\n",
    "for i in range(1, num_topics_pro+1):\n",
    "    topic = df[(df.topic == i) & (df.procon == \"pro\")] \n",
    "    vals = topic.beta.values.tolist()\n",
    "    topic_word_distr += [np.asarray(vals)]\n",
    "    words = [terms[i] for i in np.asarray(vals).argsort()[-10:][::-1].tolist()]\n",
    "    imp_words.append(words)\n",
    "    pro_con.append(\"pro\")\n",
    "    color.append(\"#05890D\")\n",
    "\n",
    "for i in range(1, num_topics_con+1):\n",
    "    topic = df[(df.topic == i) & (df.procon == \"con\")] \n",
    "    vals = topic.beta.values.tolist()\n",
    "    topic_word_distr += [np.asarray(vals)]\n",
    "    words = [terms[i] for i in np.asarray(vals).argsort()[-10:][::-1].tolist()]\n",
    "    imp_words.append(words)\n",
    "    pro_con.append(\"con\")\n",
    "    color.append(\"#F42F04\")\n",
    "\n",
    "    \n",
    "print(len(topic_word_distr))\n",
    "print(len(imp_words))"
   ]
  },
  {
   "cell_type": "markdown",
   "metadata": {},
   "source": [
    "# Dissimilarity Measure\n"
   ]
  },
  {
   "cell_type": "code",
   "execution_count": 36,
   "metadata": {},
   "outputs": [
    {
     "name": "stdout",
     "output_type": "stream",
     "text": [
      "[[0.0, 0.04603355683293713, 0.8239785780015827, 0.8243718930161399, 0.8211542490569189, 0.8225457748989495, 0.7851704726560149, 0.82126436097393, 0.8065968339046721, 0.7845333327332118, 0.8207700859887048, 0.8206312225428519, 0.8203771627528406, 0.8189575461674725, 0.8074110793734718, 0.8190244161488368, 0.8184920178864045, 0.824238356982029, 0.8233954262421781, 0.8200537009719729], [0.04603355683293713, 0.0, 0.8239937321342545, 0.8242772665116178, 0.8212731738765019, 0.8225717183828379, 0.7849308197066048, 0.8213019164955101, 0.8064309599207397, 0.7847485154928477, 0.8206870259058296, 0.8206973658257407, 0.8202303219116275, 0.8180126084186464, 0.8072206750966084, 0.8187262569039286, 0.8181920892597662, 0.8238761818004828, 0.8231618409535916, 0.8195933679312796], [0.8239785780015827, 0.8239937321342545, 0.0, 0.824060737580206, 0.8252000850367154, 0.8168059303057201, 0.825419173454282, 0.8256744238046659, 0.8242911966073121, 0.813297188146814, 0.8167547746121009, 0.8193202445034313, 0.8197833049613258, 0.8172774908393524, 0.8219740049399349, 0.8116600898173914, 0.819529079754129, 0.8222503851382771, 0.8249638473402172, 0.826637039863746], [0.8243718930161399, 0.8242772665116178, 0.824060737580206, 0.0, 0.8048349275604464, 0.8236719663878131, 0.8242863663741836, 0.8186766604143078, 0.819474639460868, 0.8226448164030606, 0.8208962368796804, 0.8170029325384331, 0.8138716963624748, 0.8130391385496814, 0.8189571367466603, 0.8139689682391054, 0.8108980701989321, 0.8154765126865142, 0.8212532229673116, 0.8181688593612265], [0.8211542490569189, 0.8212731738765019, 0.8252000850367154, 0.8048349275604464, 0.0, 0.8269855744936826, 0.8201284708363028, 0.8219212236395543, 0.826349042288878, 0.8040374766410577, 0.8200650803551403, 0.824734232541446, 0.8221348078539303, 0.8227426822394265, 0.8245122352754136, 0.8253952570060081, 0.8199451873463895, 0.8239636380504112, 0.8275093134683179, 0.8215617620022655], [0.8225457748989495, 0.8225717183828379, 0.8168059303057201, 0.8236719663878131, 0.8269855744936826, 0.0, 0.8262028609589332, 0.8224017761928702, 0.8276583136211592, 0.8179483037025438, 0.8238560483048435, 0.8197976282513564, 0.8112931703340015, 0.8178027719236687, 0.815713201032146, 0.8211251061453778, 0.8225344136136786, 0.8244465042768341, 0.8207276346598893, 0.8212129418563892], [0.7851704726560149, 0.7849308197066048, 0.825419173454282, 0.8242863663741836, 0.8201284708363028, 0.8262028609589332, 0.0, 0.798511078046867, 0.8238620175400063, 0.8095267455105719, 0.8225064385503839, 0.8223790014794637, 0.8164668820159073, 0.8148842591955859, 0.8194630231315231, 0.8218437656481599, 0.8193678149340619, 0.8174563933499822, 0.7993652346561776, 0.8220345334958394], [0.82126436097393, 0.8213019164955101, 0.8256744238046659, 0.8186766604143078, 0.8219212236395543, 0.8224017761928702, 0.798511078046867, 0.0, 0.8221144458466796, 0.8199810162885247, 0.8176837053647463, 0.8125831804462071, 0.8128976631650304, 0.8121118954094284, 0.8170066769827828, 0.8180738331010134, 0.8122964731082969, 0.820660738443628, 0.8211100166723363, 0.8186423938485107], [0.8065968339046721, 0.8064309599207397, 0.8242911966073121, 0.819474639460868, 0.826349042288878, 0.8276583136211592, 0.8238620175400063, 0.8221144458466796, 0.0, 0.8229484733958884, 0.8198004518337255, 0.8184283233147037, 0.8162510844801837, 0.8063138543698447, 0.8166740598017979, 0.8181709103511561, 0.8168032519054799, 0.8177065191041339, 0.8209139501482826, 0.8140390183624137], [0.7845333327332118, 0.7847485154928477, 0.813297188146814, 0.8226448164030606, 0.8040374766410577, 0.8179483037025438, 0.8095267455105719, 0.8199810162885247, 0.8229484733958884, 0.0, 0.8170000571018715, 0.819237194487285, 0.8169742847142587, 0.8188064757116246, 0.8182526188114285, 0.8171206067000752, 0.81168779256377, 0.7990351633664959, 0.813657922902886, 0.8195668738856997], [0.8207700859887048, 0.8206870259058296, 0.8167547746121009, 0.8208962368796804, 0.8200650803551403, 0.8238560483048435, 0.8225064385503839, 0.8176837053647463, 0.8198004518337255, 0.8170000571018715, 0.0, 0.8322044786008851, 0.8323539449792013, 0.832551818609921, inf, 0.8325175389564857, inf, 0.8316879881838154, 0.8324140890146993, inf], [0.8206312225428519, 0.8206973658257407, 0.8193202445034313, 0.8170029325384331, 0.824734232541446, 0.8197976282513564, 0.8223790014794637, 0.8125831804462071, 0.8184283233147037, 0.819237194487285, 0.8322044786008851, 0.0, 0.8324351720561799, 0.8324113151637474, 0.8294253497309642, 0.832210194131583, inf, 0.8324437325359708, inf, 0.8324224877072685], [0.8203771627528406, 0.8202303219116275, 0.8197833049613258, 0.8138716963624748, 0.8221348078539303, 0.8112931703340015, 0.8164668820159073, 0.8128976631650304, 0.8162510844801837, 0.8169742847142587, 0.8323539449792013, 0.8324351720561799, 0.0, 0.8324303891806251, inf, inf, 0.832462209352809, 0.8324535489217573, inf, inf], [0.8189575461674725, 0.8180126084186464, 0.8172774908393524, 0.8130391385496814, 0.8227426822394265, 0.8178027719236687, 0.8148842591955859, 0.8121118954094284, 0.8063138543698447, 0.8188064757116246, 0.832551818609921, 0.8324113151637474, 0.8324303891806251, 0.0, 0.8325261677666711, 0.8325370806677619, 0.8323341248987138, inf, inf, inf], [0.8074110793734718, 0.8072206750966084, 0.8219740049399349, 0.8189571367466603, 0.8245122352754136, 0.815713201032146, 0.8194630231315231, 0.8170066769827828, 0.8166740598017979, 0.8182526188114285, inf, 0.8294253497309642, inf, 0.8325261677666711, 0.0, 0.8325502444193766, 0.8323701667734106, inf, 0.8323743214693045, inf], [0.8190244161488368, 0.8187262569039286, 0.8116600898173914, 0.8139689682391054, 0.8253952570060081, 0.8211251061453778, 0.8218437656481599, 0.8180738331010134, 0.8181709103511561, 0.8171206067000752, 0.8325175389564857, 0.832210194131583, inf, 0.8325370806677619, 0.8325502444193766, 0.0, 0.8324820123433861, inf, inf, inf], [0.8184920178864045, 0.8181920892597662, 0.819529079754129, 0.8108980701989321, 0.8199451873463895, 0.8225344136136786, 0.8193678149340619, 0.8122964731082969, 0.8168032519054799, 0.81168779256377, inf, inf, 0.832462209352809, 0.8323341248987138, 0.8323701667734106, 0.8324820123433861, 0.0, 0.8196635613622393, inf, 0.8325055043230681], [0.824238356982029, 0.8238761818004828, 0.8222503851382771, 0.8154765126865142, 0.8239636380504112, 0.8244465042768341, 0.8174563933499822, 0.820660738443628, 0.8177065191041339, 0.7990351633664959, 0.8316879881838154, 0.8324437325359708, 0.8324535489217573, inf, inf, inf, 0.8196635613622393, 0.0, 0.8318063388481016, 0.832414510146132], [0.8233954262421781, 0.8231618409535916, 0.8249638473402172, 0.8212532229673116, 0.8275093134683179, 0.8207276346598893, 0.7993652346561776, 0.8211100166723363, 0.8209139501482826, 0.813657922902886, 0.8324140890146993, inf, inf, inf, 0.8323743214693045, inf, inf, 0.8318063388481016, 0.0, 0.8317798933245817], [0.8200537009719729, 0.8195933679312796, 0.826637039863746, 0.8181688593612265, 0.8215617620022655, 0.8212129418563892, 0.8220345334958394, 0.8186423938485107, 0.8140390183624137, 0.8195668738856997, inf, 0.8324224877072685, inf, inf, inf, inf, 0.8325055043230681, 0.832414510146132, 0.8317798933245817, 0.0]]\n"
     ]
    }
   ],
   "source": [
    "from scipy.spatial import distance\n",
    "\n",
    "dist = []\n",
    "tot_topics = num_topics_pro + num_topics_con\n",
    "for i in range(tot_topics): \n",
    "    t1 = topic_word_distr[i]\n",
    "    d1 = []\n",
    "    for j in range(tot_topics):\n",
    "        t2 = topic_word_distr[j]\n",
    "        d = distance.jensenshannon(t1, t2)\n",
    "        d1.append(d)\n",
    "    dist.append(d1)\n",
    "\n",
    "print(dist)"
   ]
  },
  {
   "cell_type": "markdown",
   "metadata": {},
   "source": [
    "# Dimensionality Reduction"
   ]
  },
  {
   "cell_type": "markdown",
   "metadata": {},
   "source": [
    "## TSNE\n"
   ]
  },
  {
   "cell_type": "code",
   "execution_count": 37,
   "metadata": {},
   "outputs": [
    {
     "name": "stdout",
     "output_type": "stream",
     "text": [
      "[t-SNE] Computing 19 nearest neighbors...\n",
      "[t-SNE] Indexed 20 samples in 0.000s...\n",
      "[t-SNE] Computed neighbors for 20 samples in 0.002s...\n",
      "[t-SNE] Computed conditional probabilities for sample 20 / 20\n",
      "[t-SNE] Mean sigma: 1125899906842624.000000\n",
      "[t-SNE] KL divergence after 250 iterations with early exaggeration: 65.528702\n",
      "[t-SNE] KL divergence after 1000 iterations: 0.383639\n"
     ]
    }
   ],
   "source": [
    "# Clustering\n",
    "from sklearn.manifold import TSNE\n",
    "# tsne = TSNE(n_components=2)\n",
    "tsne = TSNE(n_components=2, verbose=1, random_state=0, angle=.99, init='pca')\n",
    "X_tsne = tsne.fit_transform(topic_word_distr)"
   ]
  },
  {
   "cell_type": "markdown",
   "metadata": {},
   "source": [
    "## PCA"
   ]
  },
  {
   "cell_type": "code",
   "execution_count": 38,
   "metadata": {},
   "outputs": [],
   "source": [
    "from sklearn.decomposition import PCA\n",
    "\n",
    "pca = PCA(n_components=2)\n",
    "X_tsne = pca.fit_transform(topic_word_distr)\n",
    "# X_tsne = pca.fit_transform(dist)"
   ]
  },
  {
   "cell_type": "markdown",
   "metadata": {},
   "source": [
    "# Visualization"
   ]
  },
  {
   "cell_type": "code",
   "execution_count": 39,
   "metadata": {},
   "outputs": [],
   "source": [
    "df_cluster = pd.DataFrame()\n",
    "df_cluster['X_tsne'] = X_tsne[:, 0]\n",
    "df_cluster['Y_tsne'] = X_tsne[:, 1]\n",
    "df_cluster['Topic'] = range(1, tot_topics+1)\n",
    "df_cluster['Topic_words'] = imp_words\n",
    "df_cluster['pro_con'] = pro_con\n",
    "df_cluster['color'] = color\n"
   ]
  },
  {
   "cell_type": "code",
   "execution_count": 40,
   "metadata": {},
   "outputs": [
    {
     "data": {
      "text/html": [
       "\n",
       "    <div class=\"bk-root\">\n",
       "        <a href=\"https://bokeh.pydata.org\" target=\"_blank\" class=\"bk-logo bk-logo-small bk-logo-notebook\"></a>\n",
       "        <span id=\"1143\">Loading BokehJS ...</span>\n",
       "    </div>"
      ]
     },
     "metadata": {},
     "output_type": "display_data"
    },
    {
     "data": {
      "application/javascript": [
       "\n",
       "(function(root) {\n",
       "  function now() {\n",
       "    return new Date();\n",
       "  }\n",
       "\n",
       "  var force = true;\n",
       "\n",
       "  if (typeof (root._bokeh_onload_callbacks) === \"undefined\" || force === true) {\n",
       "    root._bokeh_onload_callbacks = [];\n",
       "    root._bokeh_is_loading = undefined;\n",
       "  }\n",
       "\n",
       "  var JS_MIME_TYPE = 'application/javascript';\n",
       "  var HTML_MIME_TYPE = 'text/html';\n",
       "  var EXEC_MIME_TYPE = 'application/vnd.bokehjs_exec.v0+json';\n",
       "  var CLASS_NAME = 'output_bokeh rendered_html';\n",
       "\n",
       "  /**\n",
       "   * Render data to the DOM node\n",
       "   */\n",
       "  function render(props, node) {\n",
       "    var script = document.createElement(\"script\");\n",
       "    node.appendChild(script);\n",
       "  }\n",
       "\n",
       "  /**\n",
       "   * Handle when an output is cleared or removed\n",
       "   */\n",
       "  function handleClearOutput(event, handle) {\n",
       "    var cell = handle.cell;\n",
       "\n",
       "    var id = cell.output_area._bokeh_element_id;\n",
       "    var server_id = cell.output_area._bokeh_server_id;\n",
       "    // Clean up Bokeh references\n",
       "    if (id != null && id in Bokeh.index) {\n",
       "      Bokeh.index[id].model.document.clear();\n",
       "      delete Bokeh.index[id];\n",
       "    }\n",
       "\n",
       "    if (server_id !== undefined) {\n",
       "      // Clean up Bokeh references\n",
       "      var cmd = \"from bokeh.io.state import curstate; print(curstate().uuid_to_server['\" + server_id + \"'].get_sessions()[0].document.roots[0]._id)\";\n",
       "      cell.notebook.kernel.execute(cmd, {\n",
       "        iopub: {\n",
       "          output: function(msg) {\n",
       "            var id = msg.content.text.trim();\n",
       "            if (id in Bokeh.index) {\n",
       "              Bokeh.index[id].model.document.clear();\n",
       "              delete Bokeh.index[id];\n",
       "            }\n",
       "          }\n",
       "        }\n",
       "      });\n",
       "      // Destroy server and session\n",
       "      var cmd = \"import bokeh.io.notebook as ion; ion.destroy_server('\" + server_id + \"')\";\n",
       "      cell.notebook.kernel.execute(cmd);\n",
       "    }\n",
       "  }\n",
       "\n",
       "  /**\n",
       "   * Handle when a new output is added\n",
       "   */\n",
       "  function handleAddOutput(event, handle) {\n",
       "    var output_area = handle.output_area;\n",
       "    var output = handle.output;\n",
       "\n",
       "    // limit handleAddOutput to display_data with EXEC_MIME_TYPE content only\n",
       "    if ((output.output_type != \"display_data\") || (!output.data.hasOwnProperty(EXEC_MIME_TYPE))) {\n",
       "      return\n",
       "    }\n",
       "\n",
       "    var toinsert = output_area.element.find(\".\" + CLASS_NAME.split(' ')[0]);\n",
       "\n",
       "    if (output.metadata[EXEC_MIME_TYPE][\"id\"] !== undefined) {\n",
       "      toinsert[toinsert.length - 1].firstChild.textContent = output.data[JS_MIME_TYPE];\n",
       "      // store reference to embed id on output_area\n",
       "      output_area._bokeh_element_id = output.metadata[EXEC_MIME_TYPE][\"id\"];\n",
       "    }\n",
       "    if (output.metadata[EXEC_MIME_TYPE][\"server_id\"] !== undefined) {\n",
       "      var bk_div = document.createElement(\"div\");\n",
       "      bk_div.innerHTML = output.data[HTML_MIME_TYPE];\n",
       "      var script_attrs = bk_div.children[0].attributes;\n",
       "      for (var i = 0; i < script_attrs.length; i++) {\n",
       "        toinsert[toinsert.length - 1].firstChild.setAttribute(script_attrs[i].name, script_attrs[i].value);\n",
       "      }\n",
       "      // store reference to server id on output_area\n",
       "      output_area._bokeh_server_id = output.metadata[EXEC_MIME_TYPE][\"server_id\"];\n",
       "    }\n",
       "  }\n",
       "\n",
       "  function register_renderer(events, OutputArea) {\n",
       "\n",
       "    function append_mime(data, metadata, element) {\n",
       "      // create a DOM node to render to\n",
       "      var toinsert = this.create_output_subarea(\n",
       "        metadata,\n",
       "        CLASS_NAME,\n",
       "        EXEC_MIME_TYPE\n",
       "      );\n",
       "      this.keyboard_manager.register_events(toinsert);\n",
       "      // Render to node\n",
       "      var props = {data: data, metadata: metadata[EXEC_MIME_TYPE]};\n",
       "      render(props, toinsert[toinsert.length - 1]);\n",
       "      element.append(toinsert);\n",
       "      return toinsert\n",
       "    }\n",
       "\n",
       "    /* Handle when an output is cleared or removed */\n",
       "    events.on('clear_output.CodeCell', handleClearOutput);\n",
       "    events.on('delete.Cell', handleClearOutput);\n",
       "\n",
       "    /* Handle when a new output is added */\n",
       "    events.on('output_added.OutputArea', handleAddOutput);\n",
       "\n",
       "    /**\n",
       "     * Register the mime type and append_mime function with output_area\n",
       "     */\n",
       "    OutputArea.prototype.register_mime_type(EXEC_MIME_TYPE, append_mime, {\n",
       "      /* Is output safe? */\n",
       "      safe: true,\n",
       "      /* Index of renderer in `output_area.display_order` */\n",
       "      index: 0\n",
       "    });\n",
       "  }\n",
       "\n",
       "  // register the mime type if in Jupyter Notebook environment and previously unregistered\n",
       "  if (root.Jupyter !== undefined) {\n",
       "    var events = require('base/js/events');\n",
       "    var OutputArea = require('notebook/js/outputarea').OutputArea;\n",
       "\n",
       "    if (OutputArea.prototype.mime_types().indexOf(EXEC_MIME_TYPE) == -1) {\n",
       "      register_renderer(events, OutputArea);\n",
       "    }\n",
       "  }\n",
       "\n",
       "  \n",
       "  if (typeof (root._bokeh_timeout) === \"undefined\" || force === true) {\n",
       "    root._bokeh_timeout = Date.now() + 5000;\n",
       "    root._bokeh_failed_load = false;\n",
       "  }\n",
       "\n",
       "  var NB_LOAD_WARNING = {'data': {'text/html':\n",
       "     \"<div style='background-color: #fdd'>\\n\"+\n",
       "     \"<p>\\n\"+\n",
       "     \"BokehJS does not appear to have successfully loaded. If loading BokehJS from CDN, this \\n\"+\n",
       "     \"may be due to a slow or bad network connection. Possible fixes:\\n\"+\n",
       "     \"</p>\\n\"+\n",
       "     \"<ul>\\n\"+\n",
       "     \"<li>re-rerun `output_notebook()` to attempt to load from CDN again, or</li>\\n\"+\n",
       "     \"<li>use INLINE resources instead, as so:</li>\\n\"+\n",
       "     \"</ul>\\n\"+\n",
       "     \"<code>\\n\"+\n",
       "     \"from bokeh.resources import INLINE\\n\"+\n",
       "     \"output_notebook(resources=INLINE)\\n\"+\n",
       "     \"</code>\\n\"+\n",
       "     \"</div>\"}};\n",
       "\n",
       "  function display_loaded() {\n",
       "    var el = document.getElementById(\"1143\");\n",
       "    if (el != null) {\n",
       "      el.textContent = \"BokehJS is loading...\";\n",
       "    }\n",
       "    if (root.Bokeh !== undefined) {\n",
       "      if (el != null) {\n",
       "        el.textContent = \"BokehJS \" + root.Bokeh.version + \" successfully loaded.\";\n",
       "      }\n",
       "    } else if (Date.now() < root._bokeh_timeout) {\n",
       "      setTimeout(display_loaded, 100)\n",
       "    }\n",
       "  }\n",
       "\n",
       "\n",
       "  function run_callbacks() {\n",
       "    try {\n",
       "      root._bokeh_onload_callbacks.forEach(function(callback) { callback() });\n",
       "    }\n",
       "    finally {\n",
       "      delete root._bokeh_onload_callbacks\n",
       "    }\n",
       "    console.info(\"Bokeh: all callbacks have finished\");\n",
       "  }\n",
       "\n",
       "  function load_libs(js_urls, callback) {\n",
       "    root._bokeh_onload_callbacks.push(callback);\n",
       "    if (root._bokeh_is_loading > 0) {\n",
       "      console.log(\"Bokeh: BokehJS is being loaded, scheduling callback at\", now());\n",
       "      return null;\n",
       "    }\n",
       "    if (js_urls == null || js_urls.length === 0) {\n",
       "      run_callbacks();\n",
       "      return null;\n",
       "    }\n",
       "    console.log(\"Bokeh: BokehJS not loaded, scheduling load and callback at\", now());\n",
       "    root._bokeh_is_loading = js_urls.length;\n",
       "    for (var i = 0; i < js_urls.length; i++) {\n",
       "      var url = js_urls[i];\n",
       "      var s = document.createElement('script');\n",
       "      s.src = url;\n",
       "      s.async = false;\n",
       "      s.onreadystatechange = s.onload = function() {\n",
       "        root._bokeh_is_loading--;\n",
       "        if (root._bokeh_is_loading === 0) {\n",
       "          console.log(\"Bokeh: all BokehJS libraries loaded\");\n",
       "          run_callbacks()\n",
       "        }\n",
       "      };\n",
       "      s.onerror = function() {\n",
       "        console.warn(\"failed to load library \" + url);\n",
       "      };\n",
       "      console.log(\"Bokeh: injecting script tag for BokehJS library: \", url);\n",
       "      document.getElementsByTagName(\"head\")[0].appendChild(s);\n",
       "    }\n",
       "  };var element = document.getElementById(\"1143\");\n",
       "  if (element == null) {\n",
       "    console.log(\"Bokeh: ERROR: autoload.js configured with elementid '1143' but no matching script tag was found. \")\n",
       "    return false;\n",
       "  }\n",
       "\n",
       "  var js_urls = [\"https://cdn.pydata.org/bokeh/release/bokeh-1.0.4.min.js\", \"https://cdn.pydata.org/bokeh/release/bokeh-widgets-1.0.4.min.js\", \"https://cdn.pydata.org/bokeh/release/bokeh-tables-1.0.4.min.js\", \"https://cdn.pydata.org/bokeh/release/bokeh-gl-1.0.4.min.js\"];\n",
       "\n",
       "  var inline_js = [\n",
       "    function(Bokeh) {\n",
       "      Bokeh.set_log_level(\"info\");\n",
       "    },\n",
       "    \n",
       "    function(Bokeh) {\n",
       "      \n",
       "    },\n",
       "    function(Bokeh) {\n",
       "      console.log(\"Bokeh: injecting CSS: https://cdn.pydata.org/bokeh/release/bokeh-1.0.4.min.css\");\n",
       "      Bokeh.embed.inject_css(\"https://cdn.pydata.org/bokeh/release/bokeh-1.0.4.min.css\");\n",
       "      console.log(\"Bokeh: injecting CSS: https://cdn.pydata.org/bokeh/release/bokeh-widgets-1.0.4.min.css\");\n",
       "      Bokeh.embed.inject_css(\"https://cdn.pydata.org/bokeh/release/bokeh-widgets-1.0.4.min.css\");\n",
       "      console.log(\"Bokeh: injecting CSS: https://cdn.pydata.org/bokeh/release/bokeh-tables-1.0.4.min.css\");\n",
       "      Bokeh.embed.inject_css(\"https://cdn.pydata.org/bokeh/release/bokeh-tables-1.0.4.min.css\");\n",
       "    }\n",
       "  ];\n",
       "\n",
       "  function run_inline_js() {\n",
       "    \n",
       "    if ((root.Bokeh !== undefined) || (force === true)) {\n",
       "      for (var i = 0; i < inline_js.length; i++) {\n",
       "        inline_js[i].call(root, root.Bokeh);\n",
       "      }if (force === true) {\n",
       "        display_loaded();\n",
       "      }} else if (Date.now() < root._bokeh_timeout) {\n",
       "      setTimeout(run_inline_js, 100);\n",
       "    } else if (!root._bokeh_failed_load) {\n",
       "      console.log(\"Bokeh: BokehJS failed to load within specified timeout.\");\n",
       "      root._bokeh_failed_load = true;\n",
       "    } else if (force !== true) {\n",
       "      var cell = $(document.getElementById(\"1143\")).parents('.cell').data().cell;\n",
       "      cell.output_area.append_execute_result(NB_LOAD_WARNING)\n",
       "    }\n",
       "\n",
       "  }\n",
       "\n",
       "  if (root._bokeh_is_loading === 0) {\n",
       "    console.log(\"Bokeh: BokehJS loaded, going straight to plotting\");\n",
       "    run_inline_js();\n",
       "  } else {\n",
       "    load_libs(js_urls, function() {\n",
       "      console.log(\"Bokeh: BokehJS plotting callback run at\", now());\n",
       "      run_inline_js();\n",
       "    });\n",
       "  }\n",
       "}(window));"
      ],
      "application/vnd.bokehjs_load.v0+json": "\n(function(root) {\n  function now() {\n    return new Date();\n  }\n\n  var force = true;\n\n  if (typeof (root._bokeh_onload_callbacks) === \"undefined\" || force === true) {\n    root._bokeh_onload_callbacks = [];\n    root._bokeh_is_loading = undefined;\n  }\n\n  \n\n  \n  if (typeof (root._bokeh_timeout) === \"undefined\" || force === true) {\n    root._bokeh_timeout = Date.now() + 5000;\n    root._bokeh_failed_load = false;\n  }\n\n  var NB_LOAD_WARNING = {'data': {'text/html':\n     \"<div style='background-color: #fdd'>\\n\"+\n     \"<p>\\n\"+\n     \"BokehJS does not appear to have successfully loaded. If loading BokehJS from CDN, this \\n\"+\n     \"may be due to a slow or bad network connection. Possible fixes:\\n\"+\n     \"</p>\\n\"+\n     \"<ul>\\n\"+\n     \"<li>re-rerun `output_notebook()` to attempt to load from CDN again, or</li>\\n\"+\n     \"<li>use INLINE resources instead, as so:</li>\\n\"+\n     \"</ul>\\n\"+\n     \"<code>\\n\"+\n     \"from bokeh.resources import INLINE\\n\"+\n     \"output_notebook(resources=INLINE)\\n\"+\n     \"</code>\\n\"+\n     \"</div>\"}};\n\n  function display_loaded() {\n    var el = document.getElementById(\"1143\");\n    if (el != null) {\n      el.textContent = \"BokehJS is loading...\";\n    }\n    if (root.Bokeh !== undefined) {\n      if (el != null) {\n        el.textContent = \"BokehJS \" + root.Bokeh.version + \" successfully loaded.\";\n      }\n    } else if (Date.now() < root._bokeh_timeout) {\n      setTimeout(display_loaded, 100)\n    }\n  }\n\n\n  function run_callbacks() {\n    try {\n      root._bokeh_onload_callbacks.forEach(function(callback) { callback() });\n    }\n    finally {\n      delete root._bokeh_onload_callbacks\n    }\n    console.info(\"Bokeh: all callbacks have finished\");\n  }\n\n  function load_libs(js_urls, callback) {\n    root._bokeh_onload_callbacks.push(callback);\n    if (root._bokeh_is_loading > 0) {\n      console.log(\"Bokeh: BokehJS is being loaded, scheduling callback at\", now());\n      return null;\n    }\n    if (js_urls == null || js_urls.length === 0) {\n      run_callbacks();\n      return null;\n    }\n    console.log(\"Bokeh: BokehJS not loaded, scheduling load and callback at\", now());\n    root._bokeh_is_loading = js_urls.length;\n    for (var i = 0; i < js_urls.length; i++) {\n      var url = js_urls[i];\n      var s = document.createElement('script');\n      s.src = url;\n      s.async = false;\n      s.onreadystatechange = s.onload = function() {\n        root._bokeh_is_loading--;\n        if (root._bokeh_is_loading === 0) {\n          console.log(\"Bokeh: all BokehJS libraries loaded\");\n          run_callbacks()\n        }\n      };\n      s.onerror = function() {\n        console.warn(\"failed to load library \" + url);\n      };\n      console.log(\"Bokeh: injecting script tag for BokehJS library: \", url);\n      document.getElementsByTagName(\"head\")[0].appendChild(s);\n    }\n  };var element = document.getElementById(\"1143\");\n  if (element == null) {\n    console.log(\"Bokeh: ERROR: autoload.js configured with elementid '1143' but no matching script tag was found. \")\n    return false;\n  }\n\n  var js_urls = [\"https://cdn.pydata.org/bokeh/release/bokeh-1.0.4.min.js\", \"https://cdn.pydata.org/bokeh/release/bokeh-widgets-1.0.4.min.js\", \"https://cdn.pydata.org/bokeh/release/bokeh-tables-1.0.4.min.js\", \"https://cdn.pydata.org/bokeh/release/bokeh-gl-1.0.4.min.js\"];\n\n  var inline_js = [\n    function(Bokeh) {\n      Bokeh.set_log_level(\"info\");\n    },\n    \n    function(Bokeh) {\n      \n    },\n    function(Bokeh) {\n      console.log(\"Bokeh: injecting CSS: https://cdn.pydata.org/bokeh/release/bokeh-1.0.4.min.css\");\n      Bokeh.embed.inject_css(\"https://cdn.pydata.org/bokeh/release/bokeh-1.0.4.min.css\");\n      console.log(\"Bokeh: injecting CSS: https://cdn.pydata.org/bokeh/release/bokeh-widgets-1.0.4.min.css\");\n      Bokeh.embed.inject_css(\"https://cdn.pydata.org/bokeh/release/bokeh-widgets-1.0.4.min.css\");\n      console.log(\"Bokeh: injecting CSS: https://cdn.pydata.org/bokeh/release/bokeh-tables-1.0.4.min.css\");\n      Bokeh.embed.inject_css(\"https://cdn.pydata.org/bokeh/release/bokeh-tables-1.0.4.min.css\");\n    }\n  ];\n\n  function run_inline_js() {\n    \n    if ((root.Bokeh !== undefined) || (force === true)) {\n      for (var i = 0; i < inline_js.length; i++) {\n        inline_js[i].call(root, root.Bokeh);\n      }if (force === true) {\n        display_loaded();\n      }} else if (Date.now() < root._bokeh_timeout) {\n      setTimeout(run_inline_js, 100);\n    } else if (!root._bokeh_failed_load) {\n      console.log(\"Bokeh: BokehJS failed to load within specified timeout.\");\n      root._bokeh_failed_load = true;\n    } else if (force !== true) {\n      var cell = $(document.getElementById(\"1143\")).parents('.cell').data().cell;\n      cell.output_area.append_execute_result(NB_LOAD_WARNING)\n    }\n\n  }\n\n  if (root._bokeh_is_loading === 0) {\n    console.log(\"Bokeh: BokehJS loaded, going straight to plotting\");\n    run_inline_js();\n  } else {\n    load_libs(js_urls, function() {\n      console.log(\"Bokeh: BokehJS plotting callback run at\", now());\n      run_inline_js();\n    });\n  }\n}(window));"
     },
     "metadata": {},
     "output_type": "display_data"
    }
   ],
   "source": [
    "from bokeh.plotting import figure, show, output_notebook, save#, output_file\n",
    "from bokeh.models import HoverTool, value, LabelSet, Legend, ColumnDataSource\n",
    "output_notebook()"
   ]
  },
  {
   "cell_type": "code",
   "execution_count": 41,
   "metadata": {},
   "outputs": [],
   "source": [
    "source = ColumnDataSource(dict(\n",
    "    x=df_cluster['X_tsne'],\n",
    "    y=df_cluster['Y_tsne'],\n",
    "    color=df_cluster['color'],\n",
    "    label=df_cluster['Topic'],\n",
    "    topic_words = df_cluster[\"Topic_words\"],\n",
    "    pro_con = df_cluster[\"pro_con\"]\n",
    "))"
   ]
  },
  {
   "cell_type": "code",
   "execution_count": 42,
   "metadata": {},
   "outputs": [
    {
     "data": {
      "text/html": [
       "\n",
       "\n",
       "\n",
       "\n",
       "\n",
       "\n",
       "  <div class=\"bk-root\" id=\"0f959f7c-8143-4cd3-bdea-b648541c661d\" data-root-id=\"1146\"></div>\n"
      ]
     },
     "metadata": {},
     "output_type": "display_data"
    },
    {
     "data": {
      "application/javascript": [
       "(function(root) {\n",
       "  function embed_document(root) {\n",
       "    \n",
       "  var docs_json = {\"fb6cb295-d52e-4369-b38f-81c94865a1bf\":{\"roots\":{\"references\":[{\"attributes\":{\"min_border\":1,\"plot_height\":700,\"plot_width\":1000,\"renderers\":[{\"id\":\"1164\",\"type\":\"BoxAnnotation\"},{\"id\":\"1178\",\"type\":\"Legend\"},{\"id\":\"1174\",\"type\":\"GlyphRenderer\"}],\"title\":{\"id\":\"1145\",\"type\":\"Title\"},\"toolbar\":{\"id\":\"1162\",\"type\":\"Toolbar\"},\"x_range\":{\"id\":\"1148\",\"type\":\"DataRange1d\"},\"x_scale\":{\"id\":\"1152\",\"type\":\"LinearScale\"},\"y_range\":{\"id\":\"1150\",\"type\":\"DataRange1d\"},\"y_scale\":{\"id\":\"1154\",\"type\":\"LinearScale\"}},\"id\":\"1146\",\"subtype\":\"Figure\",\"type\":\"Plot\"},{\"attributes\":{\"fill_alpha\":{\"value\":0.3},\"fill_color\":{\"field\":\"color\"},\"line_alpha\":{\"value\":0.8},\"line_color\":{\"field\":\"color\"},\"radius\":{\"units\":\"data\",\"value\":0.01},\"x\":{\"field\":\"x\"},\"y\":{\"field\":\"y\"}},\"id\":\"1172\",\"type\":\"Circle\"},{\"attributes\":{\"data_source\":{\"id\":\"1144\",\"type\":\"ColumnDataSource\"},\"glyph\":{\"id\":\"1172\",\"type\":\"Circle\"},\"hover_glyph\":null,\"muted_glyph\":null,\"nonselection_glyph\":{\"id\":\"1173\",\"type\":\"Circle\"},\"selection_glyph\":null,\"view\":{\"id\":\"1175\",\"type\":\"CDSView\"}},\"id\":\"1174\",\"type\":\"GlyphRenderer\"},{\"attributes\":{},\"id\":\"1161\",\"type\":\"SaveTool\"},{\"attributes\":{\"source\":{\"id\":\"1144\",\"type\":\"ColumnDataSource\"}},\"id\":\"1175\",\"type\":\"CDSView\"},{\"attributes\":{},\"id\":\"1181\",\"type\":\"UnionRenderers\"},{\"attributes\":{\"overlay\":{\"id\":\"1164\",\"type\":\"BoxAnnotation\"}},\"id\":\"1158\",\"type\":\"BoxZoomTool\"},{\"attributes\":{\"callback\":null},\"id\":\"1148\",\"type\":\"DataRange1d\"},{\"attributes\":{\"label\":{\"field\":\"pro_con\"},\"renderers\":[{\"id\":\"1174\",\"type\":\"GlyphRenderer\"}]},\"id\":\"1179\",\"type\":\"LegendItem\"},{\"attributes\":{\"fill_alpha\":{\"value\":0.1},\"fill_color\":{\"value\":\"#1f77b4\"},\"line_alpha\":{\"value\":0.1},\"line_color\":{\"value\":\"#1f77b4\"},\"radius\":{\"units\":\"data\",\"value\":0.01},\"x\":{\"field\":\"x\"},\"y\":{\"field\":\"y\"}},\"id\":\"1173\",\"type\":\"Circle\"},{\"attributes\":{\"active_drag\":\"auto\",\"active_inspect\":\"auto\",\"active_multi\":null,\"active_scroll\":\"auto\",\"active_tap\":\"auto\",\"tools\":[{\"id\":\"1156\",\"type\":\"PanTool\"},{\"id\":\"1157\",\"type\":\"WheelZoomTool\"},{\"id\":\"1158\",\"type\":\"BoxZoomTool\"},{\"id\":\"1159\",\"type\":\"ResetTool\"},{\"id\":\"1160\",\"type\":\"HoverTool\"},{\"id\":\"1161\",\"type\":\"SaveTool\"}]},\"id\":\"1162\",\"type\":\"Toolbar\"},{\"attributes\":{},\"id\":\"1152\",\"type\":\"LinearScale\"},{\"attributes\":{\"callback\":null,\"tooltips\":[[\"Topic\",\"@label (@pro_con)  <br> Topic_words: @topic_words \"]]},\"id\":\"1160\",\"type\":\"HoverTool\"},{\"attributes\":{\"callback\":null},\"id\":\"1150\",\"type\":\"DataRange1d\"},{\"attributes\":{\"plot\":null,\"text\":\"PCA visualization of topics\"},\"id\":\"1145\",\"type\":\"Title\"},{\"attributes\":{},\"id\":\"1159\",\"type\":\"ResetTool\"},{\"attributes\":{\"bottom_units\":\"screen\",\"fill_alpha\":{\"value\":0.5},\"fill_color\":{\"value\":\"lightgrey\"},\"left_units\":\"screen\",\"level\":\"overlay\",\"line_alpha\":{\"value\":1.0},\"line_color\":{\"value\":\"black\"},\"line_dash\":[4,4],\"line_width\":{\"value\":2},\"plot\":null,\"render_mode\":\"css\",\"right_units\":\"screen\",\"top_units\":\"screen\"},\"id\":\"1164\",\"type\":\"BoxAnnotation\"},{\"attributes\":{\"items\":[{\"id\":\"1179\",\"type\":\"LegendItem\"}],\"location\":\"top_left\",\"plot\":{\"id\":\"1146\",\"subtype\":\"Figure\",\"type\":\"Plot\"}},\"id\":\"1178\",\"type\":\"Legend\"},{\"attributes\":{},\"id\":\"1156\",\"type\":\"PanTool\"},{\"attributes\":{},\"id\":\"1154\",\"type\":\"LinearScale\"},{\"attributes\":{},\"id\":\"1157\",\"type\":\"WheelZoomTool\"},{\"attributes\":{},\"id\":\"1182\",\"type\":\"Selection\"},{\"attributes\":{\"callback\":null,\"data\":{\"color\":[\"#05890D\",\"#05890D\",\"#05890D\",\"#05890D\",\"#05890D\",\"#05890D\",\"#05890D\",\"#05890D\",\"#05890D\",\"#05890D\",\"#F42F04\",\"#F42F04\",\"#F42F04\",\"#F42F04\",\"#F42F04\",\"#F42F04\",\"#F42F04\",\"#F42F04\",\"#F42F04\",\"#F42F04\"],\"label\":[1,2,3,4,5,6,7,8,9,10,11,12,13,14,15,16,17,18,19,20],\"pro_con\":[\"pro\",\"pro\",\"pro\",\"pro\",\"pro\",\"pro\",\"pro\",\"pro\",\"pro\",\"pro\",\"con\",\"con\",\"con\",\"con\",\"con\",\"con\",\"con\",\"con\",\"con\",\"con\"],\"topic_words\":[[\"free\",\"employe\",\"discount\",\"schedul\",\"day\",\"decent\",\"vacat\",\"compens\",\"hour_lunch\",\"flexibl_hour\"],[\"free\",\"employe\",\"discount\",\"schedul\",\"day\",\"decent\",\"vacat\",\"compens\",\"hour_lunch\",\"free_food\"],[\"benefit\",\"manag\",\"lot\",\"worker\",\"decent_pay\",\"easi\",\"health_benefit\",\"health_care\",\"plan\",\"etc\"],[\"pay_benefit\",\"advanc\",\"help\",\"salari\",\"worklif\",\"coffe\",\"provid\",\"excel_benefit\",\"pto\",\"packag\"],[\"pay\",\"hour\",\"flexibl\",\"cowork\",\"balanc\",\"cultur\",\"flexibl_schedul\",\"insur\",\"paid\",\"famili\"],[\"health\",\"friendli\",\"food\",\"atmospher\",\"life_balanc\",\"overtim\",\"benefit_pay\",\"sometim\",\"paid_time\",\"awesom\"],[\"lunch\",\"free\",\"free_lunch\",\"break\",\"time\",\"meet\",\"fast\",\"week\",\"fast_pace\",\"educ\"],[\"peopl\",\"environ\",\"excel\",\"team\",\"time\",\"nice\",\"home\",\"care\",\"incent\",\"lunch_break\"],[\"train\",\"custom\",\"fun\",\"pace\",\"gym\",\"abil\",\"reward\",\"vacat_time\",\"meet_peopl\",\"amaz\"],[\"opportun\",\"learn\",\"paid\",\"product\",\"holiday\",\"life\",\"servic\",\"discount\",\"support\",\"drink\"],[\"hour_free\",\"nuclear\",\"offic_locat\",\"suppli\",\"peopl_flexibl_hour\",\"lot_travel\",\"gather\",\"redcard\",\"flexiabl_schedul\",\"easi\"],[\"benefit_hourli_pay\",\"prais\",\"prepar\",\"diem\",\"discount_food\",\"chariti\",\"googl_campu\",\"cabl_benefit\",\"overnight\",\"right\"],[\"benefit_averag_pay\",\"cloud\",\"boa\",\"day_free_lunch\",\"time_holiday_vacat\",\"time_manag\",\"unlimit_sick\",\"benefit_discount_product\",\"master\",\"dtv\"],[\"pool_tabl\",\"creativ_environ\",\"biannual\",\"discount_union\",\"deduct\",\"career_opportun\",\"door\",\"costco_membership\",\"familylik\",\"ship_discount\"],[\"comprehens\",\"peopl_train\",\"mondayfriday\",\"bonus\",\"experinc\",\"care_401k\",\"comcast_servic\",\"truck\",\"environ_learn\",\"drink_peopl\"],[\"stabl\",\"ham\",\"compens_perk\",\"pay_incent\",\"multicultur\",\"role\",\"safeti_cultur\",\"load\",\"centric\",\"chronic\"],[\"accomplish\",\"homeown\",\"grant\",\"backup\",\"balanc_teamwork\",\"lunch_team\",\"grat\",\"opportun_educ\",\"gym_cafeteria_site\",\"bonuss\"],[\"flexibl_hour_peopl\",\"holiday\",\"excel_facil\",\"common\",\"home_base\",\"upsid\",\"upt\",\"balanc_teamwork\",\"six\",\"pago\"],[\"meet\",\"break_decent_pay\",\"healthcar_free\",\"relax_manag\",\"manag_team_benefit\",\"phone_servic_benefit\",\"peopl_decent_pay\",\"fed_ex\",\"client_base\",\"pay_benefit_bonus\"],[\"free_travel\",\"save\",\"partnership\",\"everyday_benefit\",\"short\",\"softwar\",\"sick_leav_paid\",\"matter\",\"free_park_free\",\"cowork_paid\"]],\"x\":{\"__ndarray__\":\"PKDxs/mylb9xuWsz3KWVv2ZUGUJExtY/oaJQOWhxir/u3ICLYneev1wjKIqBAXi/r1d6BWF3lr/21XWbN8iPv6QMMIyBkou/fbWL4Eygjb9HVg0ChRSqv0g2nIEzx5a/Iy1szqNDi7/Op9IZZMmJvyUGM0d6nIy//FWRHkRak7/xCFdmB7qMv9M4zKvogpK//qaiUC63lL+9Dax0a1+Pvw==\",\"dtype\":\"float64\",\"shape\":[20]},\"y\":{\"__ndarray__\":\"t2Tps18jl78lRWQPcxKXv2nXgvdkqpo/e+pus2Jchr/dr8MR3Smnv8Sc9/YTD4a/6VfPh4yHmL9q6tZiIbeMvy3YoHRWT4e/0csKHvYmjb+izLAyvarTP6Ioky9KZpq/IjFEHHxOh7/mCXKopg+Gv1wdlzs5Tom/zs90J9kXoL+aUKe2sUSJv85Vddj+RJK/rUPXzal4lr9K/mXHAFmMvw==\",\"dtype\":\"float64\",\"shape\":[20]}},\"selected\":{\"id\":\"1182\",\"type\":\"Selection\"},\"selection_policy\":{\"id\":\"1181\",\"type\":\"UnionRenderers\"}},\"id\":\"1144\",\"type\":\"ColumnDataSource\"}],\"root_ids\":[\"1146\"]},\"title\":\"Bokeh Application\",\"version\":\"1.0.4\"}};\n",
       "  var render_items = [{\"docid\":\"fb6cb295-d52e-4369-b38f-81c94865a1bf\",\"roots\":{\"1146\":\"0f959f7c-8143-4cd3-bdea-b648541c661d\"}}];\n",
       "  root.Bokeh.embed.embed_items_notebook(docs_json, render_items);\n",
       "\n",
       "  }\n",
       "  if (root.Bokeh !== undefined) {\n",
       "    embed_document(root);\n",
       "  } else {\n",
       "    var attempts = 0;\n",
       "    var timer = setInterval(function(root) {\n",
       "      if (root.Bokeh !== undefined) {\n",
       "        embed_document(root);\n",
       "        clearInterval(timer);\n",
       "      }\n",
       "      attempts++;\n",
       "      if (attempts > 100) {\n",
       "        console.log(\"Bokeh: ERROR: Unable to run BokehJS code because BokehJS library is missing\");\n",
       "        clearInterval(timer);\n",
       "      }\n",
       "    }, 10, root)\n",
       "  }\n",
       "})(window);"
      ],
      "application/vnd.bokehjs_exec.v0+json": ""
     },
     "metadata": {
      "application/vnd.bokehjs_exec.v0+json": {
       "id": "1146"
      }
     },
     "output_type": "display_data"
    }
   ],
   "source": [
    "title = 'PCA visualization of topics'\n",
    "\n",
    "plot_lda = figure(plot_width=1000, plot_height=700,\n",
    "                     title=title, tools=\"pan,wheel_zoom,box_zoom,reset,hover,previewsave\",\n",
    "                     x_axis_type=None, y_axis_type=None, min_border=1)\n",
    "\n",
    "plot_lda.scatter(x='x', y='y',  legend='pro_con', source=source,\n",
    "                 color='color', alpha=0.8, radius=.01, fill_alpha=.3)#'msize', )\n",
    "\n",
    "# hover tools\n",
    "hover = plot_lda.select(dict(type=HoverTool))\n",
    "hover.tooltips = { \"Topic\": \"@label (@pro_con)  <br> Topic_words: @topic_words \"}\n",
    "plot_lda.legend.location = \"top_left\"\n",
    "\n",
    "show(plot_lda)"
   ]
  },
  {
   "cell_type": "code",
   "execution_count": null,
   "metadata": {},
   "outputs": [],
   "source": []
  },
  {
   "cell_type": "code",
   "execution_count": null,
   "metadata": {},
   "outputs": [],
   "source": []
  },
  {
   "cell_type": "code",
   "execution_count": null,
   "metadata": {},
   "outputs": [],
   "source": []
  }
 ],
 "metadata": {
  "kernelspec": {
   "display_name": "Python 3",
   "language": "python",
   "name": "python3"
  },
  "language_info": {
   "codemirror_mode": {
    "name": "ipython",
    "version": 3
   },
   "file_extension": ".py",
   "mimetype": "text/x-python",
   "name": "python",
   "nbconvert_exporter": "python",
   "pygments_lexer": "ipython3",
   "version": "3.7.3"
  }
 },
 "nbformat": 4,
 "nbformat_minor": 2
}
