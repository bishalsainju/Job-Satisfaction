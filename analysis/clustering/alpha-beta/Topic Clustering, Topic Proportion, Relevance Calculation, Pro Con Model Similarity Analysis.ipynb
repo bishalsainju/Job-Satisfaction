{
 "cells": [
  {
   "cell_type": "markdown",
   "metadata": {},
   "source": [
    "# Analysis to place individual model on spatial position\n",
    "\n",
    "## Steps: \n",
    "### 1. Computing topic word distribution.\n",
    "### 2. Dissimilarity Measure using Jensen Shanon/Cosine Similarity/Euclidean Distance\n",
    "### 3. Dimensionality Reduction (PCA / t-SNE / MDS)\n",
    "### 4. Visualization using bokeh plot\n",
    "### 5. Save position coordinates to csv\n",
    "\n",
    "\n",
    "\n",
    "# Analysis of Topic Proportion for circle size\n",
    "\n",
    "## Steps: \n",
    "### 1. Calculate topic proportion for each topics. \n",
    "\n",
    "\n",
    "\n",
    "# Analysis of similairty between pro and con models\n",
    "\n",
    "## Steps: \n",
    "### 1. Take top n terms of topic select, sum these terms con's beta values for each topic, return max beta sum. \n",
    "\n",
    "\n",
    "# Calculate Revlevance\n",
    "\n",
    "## Steps:\n",
    "### 1. Calculate relevance according to one of the paper. \n"
   ]
  },
  {
   "cell_type": "code",
   "execution_count": 73,
   "metadata": {},
   "outputs": [
    {
     "data": {
      "text/html": [
       "<div>\n",
       "<style scoped>\n",
       "    .dataframe tbody tr th:only-of-type {\n",
       "        vertical-align: middle;\n",
       "    }\n",
       "\n",
       "    .dataframe tbody tr th {\n",
       "        vertical-align: top;\n",
       "    }\n",
       "\n",
       "    .dataframe thead th {\n",
       "        text-align: right;\n",
       "    }\n",
       "</style>\n",
       "<table border=\"1\" class=\"dataframe\">\n",
       "  <thead>\n",
       "    <tr style=\"text-align: right;\">\n",
       "      <th></th>\n",
       "      <th>topic</th>\n",
       "      <th>term</th>\n",
       "      <th>beta</th>\n",
       "    </tr>\n",
       "  </thead>\n",
       "  <tbody>\n",
       "    <tr>\n",
       "      <th>0</th>\n",
       "      <td>1</td>\n",
       "      <td>1_hour_break</td>\n",
       "      <td>3.333175e-24</td>\n",
       "    </tr>\n",
       "    <tr>\n",
       "      <th>1</th>\n",
       "      <td>2</td>\n",
       "      <td>1_hour_break</td>\n",
       "      <td>3.228877e-24</td>\n",
       "    </tr>\n",
       "    <tr>\n",
       "      <th>2</th>\n",
       "      <td>3</td>\n",
       "      <td>1_hour_break</td>\n",
       "      <td>6.486790e-12</td>\n",
       "    </tr>\n",
       "    <tr>\n",
       "      <th>3</th>\n",
       "      <td>4</td>\n",
       "      <td>1_hour_break</td>\n",
       "      <td>2.023997e-12</td>\n",
       "    </tr>\n",
       "    <tr>\n",
       "      <th>4</th>\n",
       "      <td>5</td>\n",
       "      <td>1_hour_break</td>\n",
       "      <td>3.937727e-08</td>\n",
       "    </tr>\n",
       "  </tbody>\n",
       "</table>\n",
       "</div>"
      ],
      "text/plain": [
       "   topic          term          beta\n",
       "0      1  1_hour_break  3.333175e-24\n",
       "1      2  1_hour_break  3.228877e-24\n",
       "2      3  1_hour_break  6.486790e-12\n",
       "3      4  1_hour_break  2.023997e-12\n",
       "4      5  1_hour_break  3.937727e-08"
      ]
     },
     "metadata": {},
     "output_type": "display_data"
    },
    {
     "name": "stdout",
     "output_type": "stream",
     "text": [
      "(66410, 3)\n"
     ]
    }
   ],
   "source": [
    "import pandas as pd\n",
    "import numpy as np\n",
    "\n",
    "num_topics = 10\n",
    "data_path = \"~/Desktop/DataViz/whisper2/whisper/whisperVis/data/topicModeling/pro\"\n",
    "df = pd.read_csv(data_path + f\"/{num_topics}/beta.csv\")\n",
    "\n",
    "display(df.head())\n",
    "print(df.shape)"
   ]
  },
  {
   "cell_type": "markdown",
   "metadata": {},
   "source": [
    "## Computing topic word distribution"
   ]
  },
  {
   "cell_type": "code",
   "execution_count": 74,
   "metadata": {},
   "outputs": [
    {
     "name": "stdout",
     "output_type": "stream",
     "text": [
      "10\n",
      "10\n"
     ]
    }
   ],
   "source": [
    "topic_word_distr = []\n",
    "imp_words = []\n",
    "terms = df[df.topic == 1].term.values.tolist()\n",
    "\n",
    "num_topics = len(df.topic.unique())\n",
    "for i in range(1, num_topics+1):\n",
    "    topic = df[df.topic == i] \n",
    "    vals = topic.beta.values.tolist()\n",
    "    topic_word_distr += [np.asarray(vals)]\n",
    "    words = [terms[i] for i in np.asarray(vals).argsort()[-10:][::-1].tolist()]\n",
    "    imp_words.append(words)\n",
    "    \n",
    "print(len(topic_word_distr))\n",
    "print(len(imp_words))"
   ]
  },
  {
   "cell_type": "code",
   "execution_count": 75,
   "metadata": {},
   "outputs": [
    {
     "name": "stdout",
     "output_type": "stream",
     "text": [
      "6641\n"
     ]
    }
   ],
   "source": [
    "# print(topic_word_distr)\n",
    "print(len(topic_word_distr[0]))"
   ]
  },
  {
   "cell_type": "markdown",
   "metadata": {},
   "source": [
    "# Dissimilarity Measure"
   ]
  },
  {
   "cell_type": "code",
   "execution_count": 76,
   "metadata": {},
   "outputs": [
    {
     "name": "stdout",
     "output_type": "stream",
     "text": [
      "[[0.0, 0.0460335568329371, 0.8239785780015826, 0.8243718930161399, 0.8211542490569189, 0.8225457748989495, 0.7851704726560149, 0.82126436097393, 0.8065968339046721, 0.7845333327332118], [0.0460335568329371, 0.0, 0.8239937321342545, 0.8242772665116179, 0.8212731738765019, 0.8225717183828379, 0.7849308197066048, 0.8213019164955101, 0.8064309599207397, 0.7847485154928479], [0.8239785780015826, 0.8239937321342545, 0.0, 0.824060737580206, 0.8252000850367154, 0.81680593030572, 0.825419173454282, 0.8256744238046658, 0.8242911966073121, 0.813297188146814], [0.8243718930161399, 0.8242772665116179, 0.824060737580206, 0.0, 0.8048349275604464, 0.8236719663878131, 0.8242863663741836, 0.8186766604143078, 0.819474639460868, 0.8226448164030605], [0.8211542490569189, 0.8212731738765019, 0.8252000850367154, 0.8048349275604464, 0.0, 0.8269855744936826, 0.8201284708363028, 0.8219212236395543, 0.826349042288878, 0.8040374766410577], [0.8225457748989495, 0.8225717183828379, 0.81680593030572, 0.8236719663878131, 0.8269855744936826, 0.0, 0.8262028609589332, 0.8224017761928702, 0.8276583136211592, 0.8179483037025438], [0.7851704726560149, 0.7849308197066048, 0.825419173454282, 0.8242863663741836, 0.8201284708363028, 0.8262028609589332, 0.0, 0.7985110780468668, 0.8238620175400063, 0.8095267455105719], [0.82126436097393, 0.8213019164955101, 0.8256744238046658, 0.8186766604143078, 0.8219212236395543, 0.8224017761928702, 0.7985110780468668, 0.0, 0.8221144458466795, 0.8199810162885246], [0.8065968339046721, 0.8064309599207397, 0.8242911966073121, 0.819474639460868, 0.826349042288878, 0.8276583136211592, 0.8238620175400063, 0.8221144458466795, 0.0, 0.8229484733958884], [0.7845333327332118, 0.7847485154928479, 0.813297188146814, 0.8226448164030605, 0.8040374766410577, 0.8179483037025438, 0.8095267455105719, 0.8199810162885246, 0.8229484733958884, 0.0]]\n"
     ]
    }
   ],
   "source": [
    "from scipy.spatial import distance\n",
    "\n",
    "dist = []\n",
    "for i in range(num_topics): \n",
    "    t1 = topic_word_distr[i]\n",
    "    d1 = []\n",
    "    for j in range(num_topics):\n",
    "        t2 = topic_word_distr[j]\n",
    "        d = distance.jensenshannon(t1, t2)\n",
    "        d1.append(d)\n",
    "    dist.append(d1)\n",
    "\n",
    "print(dist)"
   ]
  },
  {
   "cell_type": "code",
   "execution_count": 77,
   "metadata": {},
   "outputs": [
    {
     "name": "stdout",
     "output_type": "stream",
     "text": [
      "[[1.00000000e+00 9.99777701e-01 7.85150587e-04 1.11087118e-03\n",
      "  2.98781882e-03 2.68854212e-03 2.02539988e-01 5.52706095e-03\n",
      "  3.71759596e-02 1.29034815e-01]\n",
      " [9.99777701e-01 1.00000000e+00 7.82410844e-04 1.16353979e-03\n",
      "  2.93516509e-03 2.65303231e-03 2.04261484e-01 5.53767569e-03\n",
      "  3.70844242e-02 1.29134537e-01]\n",
      " [7.85150587e-04 7.82410844e-04 1.00000000e+00 1.26176202e-03\n",
      "  1.21204094e-03 4.97706370e-02 9.50731858e-04 3.32612753e-04\n",
      "  8.05883399e-04 9.98346182e-03]\n",
      " [1.11087118e-03 1.16353979e-03 1.26176202e-03 1.00000000e+00\n",
      "  7.57933088e-03 1.88484969e-03 2.17256459e-03 1.00366968e-02\n",
      "  1.00620012e-02 2.40438957e-03]\n",
      " [2.98781882e-03 2.93516509e-03 1.21204094e-03 7.57933088e-03\n",
      "  1.00000000e+00 7.27004201e-04 1.02611784e-02 2.94474291e-03\n",
      "  9.55901506e-04 3.07976401e-02]\n",
      " [2.68854212e-03 2.65303231e-03 4.97706370e-02 1.88484969e-03\n",
      "  7.27004201e-04 1.00000000e+00 7.03209292e-04 1.39846345e-02\n",
      "  7.39552233e-04 1.43374758e-02]\n",
      " [2.02539988e-01 2.04261484e-01 9.50731858e-04 2.17256459e-03\n",
      "  1.02611784e-02 7.03209292e-04 1.00000000e+00 8.47993270e-02\n",
      "  3.88152894e-03 4.75496711e-02]\n",
      " [5.52706095e-03 5.53767569e-03 3.32612753e-04 1.00366968e-02\n",
      "  2.94474291e-03 1.39846345e-02 8.47993270e-02 1.00000000e+00\n",
      "  7.14392674e-03 1.64248644e-03]\n",
      " [3.71759596e-02 3.70844242e-02 8.05883399e-04 1.00620012e-02\n",
      "  9.55901506e-04 7.39552233e-04 3.88152894e-03 7.14392674e-03\n",
      "  1.00000000e+00 5.28370144e-03]\n",
      " [1.29034815e-01 1.29134537e-01 9.98346182e-03 2.40438957e-03\n",
      "  3.07976401e-02 1.43374758e-02 4.75496711e-02 1.64248644e-03\n",
      "  5.28370144e-03 1.00000000e+00]]\n"
     ]
    }
   ],
   "source": [
    "from sklearn.metrics.pairwise import cosine_similarity\n",
    "\n",
    "dist = cosine_similarity(topic_word_distr, topic_word_distr)\n",
    "\n",
    "print(dist)"
   ]
  },
  {
   "cell_type": "markdown",
   "metadata": {},
   "source": [
    "# Dimensionality Reduction"
   ]
  },
  {
   "cell_type": "markdown",
   "metadata": {},
   "source": [
    "## TSNE"
   ]
  },
  {
   "cell_type": "code",
   "execution_count": 78,
   "metadata": {},
   "outputs": [
    {
     "name": "stdout",
     "output_type": "stream",
     "text": [
      "[t-SNE] Computing 9 nearest neighbors...\n",
      "[t-SNE] Indexed 10 samples in 0.000s...\n",
      "[t-SNE] Computed neighbors for 10 samples in 0.001s...\n",
      "[t-SNE] Computed conditional probabilities for sample 10 / 10\n",
      "[t-SNE] Mean sigma: 1125899906842624.000000\n",
      "[t-SNE] KL divergence after 250 iterations with early exaggeration: 49.707256\n",
      "[t-SNE] KL divergence after 1000 iterations: 0.243565\n"
     ]
    }
   ],
   "source": [
    "# Clustering\n",
    "from sklearn.manifold import TSNE\n",
    "# tsne = TSNE(n_components=2)\n",
    "tsne = TSNE(n_components=2, verbose=1, random_state=0, angle=.99, init='pca')\n",
    "X_tsne = tsne.fit_transform(topic_word_distr)"
   ]
  },
  {
   "cell_type": "markdown",
   "metadata": {},
   "source": [
    "## PCA"
   ]
  },
  {
   "cell_type": "code",
   "execution_count": 79,
   "metadata": {},
   "outputs": [],
   "source": [
    "from sklearn.decomposition import PCA\n",
    "\n",
    "pca = PCA(n_components=2)\n",
    "X_tsne = pca.fit_transform(dist)\n",
    "# X_tsne = pca.fit_transform(topic_word_distr)"
   ]
  },
  {
   "cell_type": "code",
   "execution_count": 80,
   "metadata": {
    "scrolled": true
   },
   "outputs": [
    {
     "name": "stdout",
     "output_type": "stream",
     "text": [
      "[[ 1.0907237  -0.07023062]\n",
      " [ 1.09103141 -0.06951391]\n",
      " [-0.41655426 -0.49221858]\n",
      " [-0.40536807  0.11290087]\n",
      " [-0.39067667 -0.00167504]\n",
      " [-0.41527594 -0.40641046]\n",
      " [ 0.15305667  0.42763814]\n",
      " [-0.36958601  0.66966182]\n",
      " [-0.29912595  0.00272684]\n",
      " [-0.03822489 -0.17287905]]\n"
     ]
    }
   ],
   "source": [
    "print(X_tsne)"
   ]
  },
  {
   "cell_type": "markdown",
   "metadata": {},
   "source": [
    "# Visualization"
   ]
  },
  {
   "cell_type": "code",
   "execution_count": 81,
   "metadata": {},
   "outputs": [
    {
     "name": "stdout",
     "output_type": "stream",
     "text": [
      "['#9fe240' '#470d5e' '#5ef004' '#322617' '#41e92f' '#d02980' '#db2e5b'\n",
      " '#8cf5e3' '#3c40d9' '#8530eb']\n"
     ]
    }
   ],
   "source": [
    "# Generate random colors\n",
    "\n",
    "import random\n",
    "get_colors = lambda n: list(map(lambda i: \"#\" + \"%06x\" % random.randint(0, 0xFFFFFF),range(n)))\n",
    "colormap = np.asarray(get_colors(num_topics)) \n",
    "print(colormap)"
   ]
  },
  {
   "cell_type": "code",
   "execution_count": 82,
   "metadata": {},
   "outputs": [
    {
     "data": {
      "text/html": [
       "<div>\n",
       "<style scoped>\n",
       "    .dataframe tbody tr th:only-of-type {\n",
       "        vertical-align: middle;\n",
       "    }\n",
       "\n",
       "    .dataframe tbody tr th {\n",
       "        vertical-align: top;\n",
       "    }\n",
       "\n",
       "    .dataframe thead th {\n",
       "        text-align: right;\n",
       "    }\n",
       "</style>\n",
       "<table border=\"1\" class=\"dataframe\">\n",
       "  <thead>\n",
       "    <tr style=\"text-align: right;\">\n",
       "      <th></th>\n",
       "      <th>X</th>\n",
       "      <th>Y</th>\n",
       "      <th>Topic</th>\n",
       "      <th>Topic_Words</th>\n",
       "      <th>Colors</th>\n",
       "    </tr>\n",
       "  </thead>\n",
       "  <tbody>\n",
       "    <tr>\n",
       "      <th>0</th>\n",
       "      <td>1.090724</td>\n",
       "      <td>-0.070231</td>\n",
       "      <td>1</td>\n",
       "      <td>[free, employe, discount, schedul, day, decent...</td>\n",
       "      <td>#9fe240</td>\n",
       "    </tr>\n",
       "    <tr>\n",
       "      <th>1</th>\n",
       "      <td>1.091031</td>\n",
       "      <td>-0.069514</td>\n",
       "      <td>2</td>\n",
       "      <td>[free, employe, discount, schedul, day, decent...</td>\n",
       "      <td>#470d5e</td>\n",
       "    </tr>\n",
       "    <tr>\n",
       "      <th>2</th>\n",
       "      <td>-0.416554</td>\n",
       "      <td>-0.492219</td>\n",
       "      <td>3</td>\n",
       "      <td>[benefit, manag, lot, worker, decent_pay, easi...</td>\n",
       "      <td>#5ef004</td>\n",
       "    </tr>\n",
       "    <tr>\n",
       "      <th>3</th>\n",
       "      <td>-0.405368</td>\n",
       "      <td>0.112901</td>\n",
       "      <td>4</td>\n",
       "      <td>[pay_benefit, advanc, help, salari, worklif, c...</td>\n",
       "      <td>#322617</td>\n",
       "    </tr>\n",
       "    <tr>\n",
       "      <th>4</th>\n",
       "      <td>-0.390677</td>\n",
       "      <td>-0.001675</td>\n",
       "      <td>5</td>\n",
       "      <td>[pay, hour, flexibl, cowork, balanc, cultur, f...</td>\n",
       "      <td>#41e92f</td>\n",
       "    </tr>\n",
       "  </tbody>\n",
       "</table>\n",
       "</div>"
      ],
      "text/plain": [
       "          X         Y  Topic  \\\n",
       "0  1.090724 -0.070231      1   \n",
       "1  1.091031 -0.069514      2   \n",
       "2 -0.416554 -0.492219      3   \n",
       "3 -0.405368  0.112901      4   \n",
       "4 -0.390677 -0.001675      5   \n",
       "\n",
       "                                         Topic_Words   Colors  \n",
       "0  [free, employe, discount, schedul, day, decent...  #9fe240  \n",
       "1  [free, employe, discount, schedul, day, decent...  #470d5e  \n",
       "2  [benefit, manag, lot, worker, decent_pay, easi...  #5ef004  \n",
       "3  [pay_benefit, advanc, help, salari, worklif, c...  #322617  \n",
       "4  [pay, hour, flexibl, cowork, balanc, cultur, f...  #41e92f  "
      ]
     },
     "metadata": {},
     "output_type": "display_data"
    }
   ],
   "source": [
    "df_cluster = pd.DataFrame()\n",
    "df_cluster['X'] = X_tsne[:, 0]\n",
    "df_cluster['Y'] = X_tsne[:, 1]\n",
    "df_cluster['Topic'] = range(num_topics)\n",
    "df_cluster['Topic_Words'] = imp_words\n",
    "\n",
    "cluster_colors = dict()\n",
    "for c in range(num_topics): \n",
    "    cluster_colors[c] = colormap[c]\n",
    "    \n",
    "df_cluster['Colors'] = df_cluster['Topic'].apply(lambda l: cluster_colors[l])\n",
    "df_cluster.sort_values(by=['Topic'], inplace=True)\n",
    "\n",
    "df_cluster['Topic'] = df_cluster['Topic']+1\n",
    "display(df_cluster.head())"
   ]
  },
  {
   "cell_type": "code",
   "execution_count": 83,
   "metadata": {},
   "outputs": [],
   "source": [
    "# import seaborn as sns\n",
    "# import matplotlib.pyplot as plt\n",
    "# import os\n",
    "# sns.scatterplot(x = \"X\", y=\"Y\", hue=\"Topic\", data=df_cluster)\n",
    "# plt.xlabel(\"PCA1\")\n",
    "# plt.ylabel(\"PCA2\")\n",
    "# plt.title(\"PCA Visualization of topics\")\n",
    "# plt.savefig(os.path.expanduser(\"~/Desktop/img/PCApro.png\"))\n",
    "# plt.show()"
   ]
  },
  {
   "cell_type": "code",
   "execution_count": 84,
   "metadata": {},
   "outputs": [
    {
     "data": {
      "text/html": [
       "\n",
       "    <div class=\"bk-root\">\n",
       "        <a href=\"https://bokeh.pydata.org\" target=\"_blank\" class=\"bk-logo bk-logo-small bk-logo-notebook\"></a>\n",
       "        <span id=\"1143\">Loading BokehJS ...</span>\n",
       "    </div>"
      ]
     },
     "metadata": {},
     "output_type": "display_data"
    },
    {
     "data": {
      "application/javascript": [
       "\n",
       "(function(root) {\n",
       "  function now() {\n",
       "    return new Date();\n",
       "  }\n",
       "\n",
       "  var force = true;\n",
       "\n",
       "  if (typeof (root._bokeh_onload_callbacks) === \"undefined\" || force === true) {\n",
       "    root._bokeh_onload_callbacks = [];\n",
       "    root._bokeh_is_loading = undefined;\n",
       "  }\n",
       "\n",
       "  var JS_MIME_TYPE = 'application/javascript';\n",
       "  var HTML_MIME_TYPE = 'text/html';\n",
       "  var EXEC_MIME_TYPE = 'application/vnd.bokehjs_exec.v0+json';\n",
       "  var CLASS_NAME = 'output_bokeh rendered_html';\n",
       "\n",
       "  /**\n",
       "   * Render data to the DOM node\n",
       "   */\n",
       "  function render(props, node) {\n",
       "    var script = document.createElement(\"script\");\n",
       "    node.appendChild(script);\n",
       "  }\n",
       "\n",
       "  /**\n",
       "   * Handle when an output is cleared or removed\n",
       "   */\n",
       "  function handleClearOutput(event, handle) {\n",
       "    var cell = handle.cell;\n",
       "\n",
       "    var id = cell.output_area._bokeh_element_id;\n",
       "    var server_id = cell.output_area._bokeh_server_id;\n",
       "    // Clean up Bokeh references\n",
       "    if (id != null && id in Bokeh.index) {\n",
       "      Bokeh.index[id].model.document.clear();\n",
       "      delete Bokeh.index[id];\n",
       "    }\n",
       "\n",
       "    if (server_id !== undefined) {\n",
       "      // Clean up Bokeh references\n",
       "      var cmd = \"from bokeh.io.state import curstate; print(curstate().uuid_to_server['\" + server_id + \"'].get_sessions()[0].document.roots[0]._id)\";\n",
       "      cell.notebook.kernel.execute(cmd, {\n",
       "        iopub: {\n",
       "          output: function(msg) {\n",
       "            var id = msg.content.text.trim();\n",
       "            if (id in Bokeh.index) {\n",
       "              Bokeh.index[id].model.document.clear();\n",
       "              delete Bokeh.index[id];\n",
       "            }\n",
       "          }\n",
       "        }\n",
       "      });\n",
       "      // Destroy server and session\n",
       "      var cmd = \"import bokeh.io.notebook as ion; ion.destroy_server('\" + server_id + \"')\";\n",
       "      cell.notebook.kernel.execute(cmd);\n",
       "    }\n",
       "  }\n",
       "\n",
       "  /**\n",
       "   * Handle when a new output is added\n",
       "   */\n",
       "  function handleAddOutput(event, handle) {\n",
       "    var output_area = handle.output_area;\n",
       "    var output = handle.output;\n",
       "\n",
       "    // limit handleAddOutput to display_data with EXEC_MIME_TYPE content only\n",
       "    if ((output.output_type != \"display_data\") || (!output.data.hasOwnProperty(EXEC_MIME_TYPE))) {\n",
       "      return\n",
       "    }\n",
       "\n",
       "    var toinsert = output_area.element.find(\".\" + CLASS_NAME.split(' ')[0]);\n",
       "\n",
       "    if (output.metadata[EXEC_MIME_TYPE][\"id\"] !== undefined) {\n",
       "      toinsert[toinsert.length - 1].firstChild.textContent = output.data[JS_MIME_TYPE];\n",
       "      // store reference to embed id on output_area\n",
       "      output_area._bokeh_element_id = output.metadata[EXEC_MIME_TYPE][\"id\"];\n",
       "    }\n",
       "    if (output.metadata[EXEC_MIME_TYPE][\"server_id\"] !== undefined) {\n",
       "      var bk_div = document.createElement(\"div\");\n",
       "      bk_div.innerHTML = output.data[HTML_MIME_TYPE];\n",
       "      var script_attrs = bk_div.children[0].attributes;\n",
       "      for (var i = 0; i < script_attrs.length; i++) {\n",
       "        toinsert[toinsert.length - 1].firstChild.setAttribute(script_attrs[i].name, script_attrs[i].value);\n",
       "      }\n",
       "      // store reference to server id on output_area\n",
       "      output_area._bokeh_server_id = output.metadata[EXEC_MIME_TYPE][\"server_id\"];\n",
       "    }\n",
       "  }\n",
       "\n",
       "  function register_renderer(events, OutputArea) {\n",
       "\n",
       "    function append_mime(data, metadata, element) {\n",
       "      // create a DOM node to render to\n",
       "      var toinsert = this.create_output_subarea(\n",
       "        metadata,\n",
       "        CLASS_NAME,\n",
       "        EXEC_MIME_TYPE\n",
       "      );\n",
       "      this.keyboard_manager.register_events(toinsert);\n",
       "      // Render to node\n",
       "      var props = {data: data, metadata: metadata[EXEC_MIME_TYPE]};\n",
       "      render(props, toinsert[toinsert.length - 1]);\n",
       "      element.append(toinsert);\n",
       "      return toinsert\n",
       "    }\n",
       "\n",
       "    /* Handle when an output is cleared or removed */\n",
       "    events.on('clear_output.CodeCell', handleClearOutput);\n",
       "    events.on('delete.Cell', handleClearOutput);\n",
       "\n",
       "    /* Handle when a new output is added */\n",
       "    events.on('output_added.OutputArea', handleAddOutput);\n",
       "\n",
       "    /**\n",
       "     * Register the mime type and append_mime function with output_area\n",
       "     */\n",
       "    OutputArea.prototype.register_mime_type(EXEC_MIME_TYPE, append_mime, {\n",
       "      /* Is output safe? */\n",
       "      safe: true,\n",
       "      /* Index of renderer in `output_area.display_order` */\n",
       "      index: 0\n",
       "    });\n",
       "  }\n",
       "\n",
       "  // register the mime type if in Jupyter Notebook environment and previously unregistered\n",
       "  if (root.Jupyter !== undefined) {\n",
       "    var events = require('base/js/events');\n",
       "    var OutputArea = require('notebook/js/outputarea').OutputArea;\n",
       "\n",
       "    if (OutputArea.prototype.mime_types().indexOf(EXEC_MIME_TYPE) == -1) {\n",
       "      register_renderer(events, OutputArea);\n",
       "    }\n",
       "  }\n",
       "\n",
       "  \n",
       "  if (typeof (root._bokeh_timeout) === \"undefined\" || force === true) {\n",
       "    root._bokeh_timeout = Date.now() + 5000;\n",
       "    root._bokeh_failed_load = false;\n",
       "  }\n",
       "\n",
       "  var NB_LOAD_WARNING = {'data': {'text/html':\n",
       "     \"<div style='background-color: #fdd'>\\n\"+\n",
       "     \"<p>\\n\"+\n",
       "     \"BokehJS does not appear to have successfully loaded. If loading BokehJS from CDN, this \\n\"+\n",
       "     \"may be due to a slow or bad network connection. Possible fixes:\\n\"+\n",
       "     \"</p>\\n\"+\n",
       "     \"<ul>\\n\"+\n",
       "     \"<li>re-rerun `output_notebook()` to attempt to load from CDN again, or</li>\\n\"+\n",
       "     \"<li>use INLINE resources instead, as so:</li>\\n\"+\n",
       "     \"</ul>\\n\"+\n",
       "     \"<code>\\n\"+\n",
       "     \"from bokeh.resources import INLINE\\n\"+\n",
       "     \"output_notebook(resources=INLINE)\\n\"+\n",
       "     \"</code>\\n\"+\n",
       "     \"</div>\"}};\n",
       "\n",
       "  function display_loaded() {\n",
       "    var el = document.getElementById(\"1143\");\n",
       "    if (el != null) {\n",
       "      el.textContent = \"BokehJS is loading...\";\n",
       "    }\n",
       "    if (root.Bokeh !== undefined) {\n",
       "      if (el != null) {\n",
       "        el.textContent = \"BokehJS \" + root.Bokeh.version + \" successfully loaded.\";\n",
       "      }\n",
       "    } else if (Date.now() < root._bokeh_timeout) {\n",
       "      setTimeout(display_loaded, 100)\n",
       "    }\n",
       "  }\n",
       "\n",
       "\n",
       "  function run_callbacks() {\n",
       "    try {\n",
       "      root._bokeh_onload_callbacks.forEach(function(callback) { callback() });\n",
       "    }\n",
       "    finally {\n",
       "      delete root._bokeh_onload_callbacks\n",
       "    }\n",
       "    console.info(\"Bokeh: all callbacks have finished\");\n",
       "  }\n",
       "\n",
       "  function load_libs(js_urls, callback) {\n",
       "    root._bokeh_onload_callbacks.push(callback);\n",
       "    if (root._bokeh_is_loading > 0) {\n",
       "      console.log(\"Bokeh: BokehJS is being loaded, scheduling callback at\", now());\n",
       "      return null;\n",
       "    }\n",
       "    if (js_urls == null || js_urls.length === 0) {\n",
       "      run_callbacks();\n",
       "      return null;\n",
       "    }\n",
       "    console.log(\"Bokeh: BokehJS not loaded, scheduling load and callback at\", now());\n",
       "    root._bokeh_is_loading = js_urls.length;\n",
       "    for (var i = 0; i < js_urls.length; i++) {\n",
       "      var url = js_urls[i];\n",
       "      var s = document.createElement('script');\n",
       "      s.src = url;\n",
       "      s.async = false;\n",
       "      s.onreadystatechange = s.onload = function() {\n",
       "        root._bokeh_is_loading--;\n",
       "        if (root._bokeh_is_loading === 0) {\n",
       "          console.log(\"Bokeh: all BokehJS libraries loaded\");\n",
       "          run_callbacks()\n",
       "        }\n",
       "      };\n",
       "      s.onerror = function() {\n",
       "        console.warn(\"failed to load library \" + url);\n",
       "      };\n",
       "      console.log(\"Bokeh: injecting script tag for BokehJS library: \", url);\n",
       "      document.getElementsByTagName(\"head\")[0].appendChild(s);\n",
       "    }\n",
       "  };var element = document.getElementById(\"1143\");\n",
       "  if (element == null) {\n",
       "    console.log(\"Bokeh: ERROR: autoload.js configured with elementid '1143' but no matching script tag was found. \")\n",
       "    return false;\n",
       "  }\n",
       "\n",
       "  var js_urls = [\"https://cdn.pydata.org/bokeh/release/bokeh-1.0.4.min.js\", \"https://cdn.pydata.org/bokeh/release/bokeh-widgets-1.0.4.min.js\", \"https://cdn.pydata.org/bokeh/release/bokeh-tables-1.0.4.min.js\", \"https://cdn.pydata.org/bokeh/release/bokeh-gl-1.0.4.min.js\"];\n",
       "\n",
       "  var inline_js = [\n",
       "    function(Bokeh) {\n",
       "      Bokeh.set_log_level(\"info\");\n",
       "    },\n",
       "    \n",
       "    function(Bokeh) {\n",
       "      \n",
       "    },\n",
       "    function(Bokeh) {\n",
       "      console.log(\"Bokeh: injecting CSS: https://cdn.pydata.org/bokeh/release/bokeh-1.0.4.min.css\");\n",
       "      Bokeh.embed.inject_css(\"https://cdn.pydata.org/bokeh/release/bokeh-1.0.4.min.css\");\n",
       "      console.log(\"Bokeh: injecting CSS: https://cdn.pydata.org/bokeh/release/bokeh-widgets-1.0.4.min.css\");\n",
       "      Bokeh.embed.inject_css(\"https://cdn.pydata.org/bokeh/release/bokeh-widgets-1.0.4.min.css\");\n",
       "      console.log(\"Bokeh: injecting CSS: https://cdn.pydata.org/bokeh/release/bokeh-tables-1.0.4.min.css\");\n",
       "      Bokeh.embed.inject_css(\"https://cdn.pydata.org/bokeh/release/bokeh-tables-1.0.4.min.css\");\n",
       "    }\n",
       "  ];\n",
       "\n",
       "  function run_inline_js() {\n",
       "    \n",
       "    if ((root.Bokeh !== undefined) || (force === true)) {\n",
       "      for (var i = 0; i < inline_js.length; i++) {\n",
       "        inline_js[i].call(root, root.Bokeh);\n",
       "      }if (force === true) {\n",
       "        display_loaded();\n",
       "      }} else if (Date.now() < root._bokeh_timeout) {\n",
       "      setTimeout(run_inline_js, 100);\n",
       "    } else if (!root._bokeh_failed_load) {\n",
       "      console.log(\"Bokeh: BokehJS failed to load within specified timeout.\");\n",
       "      root._bokeh_failed_load = true;\n",
       "    } else if (force !== true) {\n",
       "      var cell = $(document.getElementById(\"1143\")).parents('.cell').data().cell;\n",
       "      cell.output_area.append_execute_result(NB_LOAD_WARNING)\n",
       "    }\n",
       "\n",
       "  }\n",
       "\n",
       "  if (root._bokeh_is_loading === 0) {\n",
       "    console.log(\"Bokeh: BokehJS loaded, going straight to plotting\");\n",
       "    run_inline_js();\n",
       "  } else {\n",
       "    load_libs(js_urls, function() {\n",
       "      console.log(\"Bokeh: BokehJS plotting callback run at\", now());\n",
       "      run_inline_js();\n",
       "    });\n",
       "  }\n",
       "}(window));"
      ],
      "application/vnd.bokehjs_load.v0+json": "\n(function(root) {\n  function now() {\n    return new Date();\n  }\n\n  var force = true;\n\n  if (typeof (root._bokeh_onload_callbacks) === \"undefined\" || force === true) {\n    root._bokeh_onload_callbacks = [];\n    root._bokeh_is_loading = undefined;\n  }\n\n  \n\n  \n  if (typeof (root._bokeh_timeout) === \"undefined\" || force === true) {\n    root._bokeh_timeout = Date.now() + 5000;\n    root._bokeh_failed_load = false;\n  }\n\n  var NB_LOAD_WARNING = {'data': {'text/html':\n     \"<div style='background-color: #fdd'>\\n\"+\n     \"<p>\\n\"+\n     \"BokehJS does not appear to have successfully loaded. If loading BokehJS from CDN, this \\n\"+\n     \"may be due to a slow or bad network connection. Possible fixes:\\n\"+\n     \"</p>\\n\"+\n     \"<ul>\\n\"+\n     \"<li>re-rerun `output_notebook()` to attempt to load from CDN again, or</li>\\n\"+\n     \"<li>use INLINE resources instead, as so:</li>\\n\"+\n     \"</ul>\\n\"+\n     \"<code>\\n\"+\n     \"from bokeh.resources import INLINE\\n\"+\n     \"output_notebook(resources=INLINE)\\n\"+\n     \"</code>\\n\"+\n     \"</div>\"}};\n\n  function display_loaded() {\n    var el = document.getElementById(\"1143\");\n    if (el != null) {\n      el.textContent = \"BokehJS is loading...\";\n    }\n    if (root.Bokeh !== undefined) {\n      if (el != null) {\n        el.textContent = \"BokehJS \" + root.Bokeh.version + \" successfully loaded.\";\n      }\n    } else if (Date.now() < root._bokeh_timeout) {\n      setTimeout(display_loaded, 100)\n    }\n  }\n\n\n  function run_callbacks() {\n    try {\n      root._bokeh_onload_callbacks.forEach(function(callback) { callback() });\n    }\n    finally {\n      delete root._bokeh_onload_callbacks\n    }\n    console.info(\"Bokeh: all callbacks have finished\");\n  }\n\n  function load_libs(js_urls, callback) {\n    root._bokeh_onload_callbacks.push(callback);\n    if (root._bokeh_is_loading > 0) {\n      console.log(\"Bokeh: BokehJS is being loaded, scheduling callback at\", now());\n      return null;\n    }\n    if (js_urls == null || js_urls.length === 0) {\n      run_callbacks();\n      return null;\n    }\n    console.log(\"Bokeh: BokehJS not loaded, scheduling load and callback at\", now());\n    root._bokeh_is_loading = js_urls.length;\n    for (var i = 0; i < js_urls.length; i++) {\n      var url = js_urls[i];\n      var s = document.createElement('script');\n      s.src = url;\n      s.async = false;\n      s.onreadystatechange = s.onload = function() {\n        root._bokeh_is_loading--;\n        if (root._bokeh_is_loading === 0) {\n          console.log(\"Bokeh: all BokehJS libraries loaded\");\n          run_callbacks()\n        }\n      };\n      s.onerror = function() {\n        console.warn(\"failed to load library \" + url);\n      };\n      console.log(\"Bokeh: injecting script tag for BokehJS library: \", url);\n      document.getElementsByTagName(\"head\")[0].appendChild(s);\n    }\n  };var element = document.getElementById(\"1143\");\n  if (element == null) {\n    console.log(\"Bokeh: ERROR: autoload.js configured with elementid '1143' but no matching script tag was found. \")\n    return false;\n  }\n\n  var js_urls = [\"https://cdn.pydata.org/bokeh/release/bokeh-1.0.4.min.js\", \"https://cdn.pydata.org/bokeh/release/bokeh-widgets-1.0.4.min.js\", \"https://cdn.pydata.org/bokeh/release/bokeh-tables-1.0.4.min.js\", \"https://cdn.pydata.org/bokeh/release/bokeh-gl-1.0.4.min.js\"];\n\n  var inline_js = [\n    function(Bokeh) {\n      Bokeh.set_log_level(\"info\");\n    },\n    \n    function(Bokeh) {\n      \n    },\n    function(Bokeh) {\n      console.log(\"Bokeh: injecting CSS: https://cdn.pydata.org/bokeh/release/bokeh-1.0.4.min.css\");\n      Bokeh.embed.inject_css(\"https://cdn.pydata.org/bokeh/release/bokeh-1.0.4.min.css\");\n      console.log(\"Bokeh: injecting CSS: https://cdn.pydata.org/bokeh/release/bokeh-widgets-1.0.4.min.css\");\n      Bokeh.embed.inject_css(\"https://cdn.pydata.org/bokeh/release/bokeh-widgets-1.0.4.min.css\");\n      console.log(\"Bokeh: injecting CSS: https://cdn.pydata.org/bokeh/release/bokeh-tables-1.0.4.min.css\");\n      Bokeh.embed.inject_css(\"https://cdn.pydata.org/bokeh/release/bokeh-tables-1.0.4.min.css\");\n    }\n  ];\n\n  function run_inline_js() {\n    \n    if ((root.Bokeh !== undefined) || (force === true)) {\n      for (var i = 0; i < inline_js.length; i++) {\n        inline_js[i].call(root, root.Bokeh);\n      }if (force === true) {\n        display_loaded();\n      }} else if (Date.now() < root._bokeh_timeout) {\n      setTimeout(run_inline_js, 100);\n    } else if (!root._bokeh_failed_load) {\n      console.log(\"Bokeh: BokehJS failed to load within specified timeout.\");\n      root._bokeh_failed_load = true;\n    } else if (force !== true) {\n      var cell = $(document.getElementById(\"1143\")).parents('.cell').data().cell;\n      cell.output_area.append_execute_result(NB_LOAD_WARNING)\n    }\n\n  }\n\n  if (root._bokeh_is_loading === 0) {\n    console.log(\"Bokeh: BokehJS loaded, going straight to plotting\");\n    run_inline_js();\n  } else {\n    load_libs(js_urls, function() {\n      console.log(\"Bokeh: BokehJS plotting callback run at\", now());\n      run_inline_js();\n    });\n  }\n}(window));"
     },
     "metadata": {},
     "output_type": "display_data"
    }
   ],
   "source": [
    "from bokeh.plotting import figure, show, output_notebook, save#, output_file\n",
    "from bokeh.models import HoverTool, value, LabelSet, Legend, ColumnDataSource\n",
    "from bokeh.io import export_png\n",
    "output_notebook()"
   ]
  },
  {
   "cell_type": "code",
   "execution_count": 85,
   "metadata": {},
   "outputs": [],
   "source": [
    "source = ColumnDataSource(dict(\n",
    "    x=df_cluster['X'],\n",
    "    y=df_cluster['Y'],\n",
    "    color=df_cluster['Colors'],\n",
    "    label=df_cluster['Topic'],\n",
    "    topic_words = df_cluster[\"Topic_Words\"]\n",
    "))"
   ]
  },
  {
   "cell_type": "code",
   "execution_count": 86,
   "metadata": {
    "scrolled": false
   },
   "outputs": [
    {
     "data": {
      "text/html": [
       "\n",
       "\n",
       "\n",
       "\n",
       "\n",
       "\n",
       "  <div class=\"bk-root\" id=\"19cafb5a-74bd-48e9-ba6e-199f58b2320e\" data-root-id=\"1146\"></div>\n"
      ]
     },
     "metadata": {},
     "output_type": "display_data"
    },
    {
     "data": {
      "application/javascript": [
       "(function(root) {\n",
       "  function embed_document(root) {\n",
       "    \n",
       "  var docs_json = {\"a5b1423b-0c8a-4970-b181-d70fc1debaac\":{\"roots\":{\"references\":[{\"attributes\":{\"min_border\":1,\"plot_height\":700,\"plot_width\":1000,\"renderers\":[{\"id\":\"1164\",\"type\":\"BoxAnnotation\"},{\"id\":\"1178\",\"type\":\"Legend\"},{\"id\":\"1174\",\"type\":\"GlyphRenderer\"}],\"title\":{\"id\":\"1145\",\"type\":\"Title\"},\"toolbar\":{\"id\":\"1162\",\"type\":\"Toolbar\"},\"x_range\":{\"id\":\"1148\",\"type\":\"DataRange1d\"},\"x_scale\":{\"id\":\"1152\",\"type\":\"LinearScale\"},\"y_range\":{\"id\":\"1150\",\"type\":\"DataRange1d\"},\"y_scale\":{\"id\":\"1154\",\"type\":\"LinearScale\"}},\"id\":\"1146\",\"subtype\":\"Figure\",\"type\":\"Plot\"},{\"attributes\":{\"overlay\":{\"id\":\"1164\",\"type\":\"BoxAnnotation\"}},\"id\":\"1158\",\"type\":\"BoxZoomTool\"},{\"attributes\":{\"callback\":null},\"id\":\"1150\",\"type\":\"DataRange1d\"},{\"attributes\":{},\"id\":\"1161\",\"type\":\"SaveTool\"},{\"attributes\":{\"fill_alpha\":{\"value\":0.1},\"fill_color\":{\"value\":\"#1f77b4\"},\"line_alpha\":{\"value\":0.1},\"line_color\":{\"value\":\"#1f77b4\"},\"x\":{\"field\":\"x\"},\"y\":{\"field\":\"y\"}},\"id\":\"1173\",\"type\":\"Scatter\"},{\"attributes\":{},\"id\":\"1152\",\"type\":\"LinearScale\"},{\"attributes\":{\"data_source\":{\"id\":\"1144\",\"type\":\"ColumnDataSource\"},\"glyph\":{\"id\":\"1172\",\"type\":\"Scatter\"},\"hover_glyph\":null,\"muted_glyph\":null,\"nonselection_glyph\":{\"id\":\"1173\",\"type\":\"Scatter\"},\"selection_glyph\":null,\"view\":{\"id\":\"1175\",\"type\":\"CDSView\"}},\"id\":\"1174\",\"type\":\"GlyphRenderer\"},{\"attributes\":{},\"id\":\"1181\",\"type\":\"Selection\"},{\"attributes\":{\"plot\":null,\"text\":\"PCA visualization of topics (pro)\"},\"id\":\"1145\",\"type\":\"Title\"},{\"attributes\":{\"bottom_units\":\"screen\",\"fill_alpha\":{\"value\":0.5},\"fill_color\":{\"value\":\"lightgrey\"},\"left_units\":\"screen\",\"level\":\"overlay\",\"line_alpha\":{\"value\":1.0},\"line_color\":{\"value\":\"black\"},\"line_dash\":[4,4],\"line_width\":{\"value\":2},\"plot\":null,\"render_mode\":\"css\",\"right_units\":\"screen\",\"top_units\":\"screen\"},\"id\":\"1164\",\"type\":\"BoxAnnotation\"},{\"attributes\":{\"callback\":null},\"id\":\"1148\",\"type\":\"DataRange1d\"},{\"attributes\":{},\"id\":\"1154\",\"type\":\"LinearScale\"},{\"attributes\":{\"source\":{\"id\":\"1144\",\"type\":\"ColumnDataSource\"}},\"id\":\"1175\",\"type\":\"CDSView\"},{\"attributes\":{},\"id\":\"1157\",\"type\":\"WheelZoomTool\"},{\"attributes\":{\"active_drag\":\"auto\",\"active_inspect\":\"auto\",\"active_multi\":null,\"active_scroll\":\"auto\",\"active_tap\":\"auto\",\"tools\":[{\"id\":\"1156\",\"type\":\"PanTool\"},{\"id\":\"1157\",\"type\":\"WheelZoomTool\"},{\"id\":\"1158\",\"type\":\"BoxZoomTool\"},{\"id\":\"1159\",\"type\":\"ResetTool\"},{\"id\":\"1160\",\"type\":\"HoverTool\"},{\"id\":\"1161\",\"type\":\"SaveTool\"}]},\"id\":\"1162\",\"type\":\"Toolbar\"},{\"attributes\":{\"items\":[{\"id\":\"1179\",\"type\":\"LegendItem\"}],\"location\":\"top_left\",\"plot\":{\"id\":\"1146\",\"subtype\":\"Figure\",\"type\":\"Plot\"}},\"id\":\"1178\",\"type\":\"Legend\"},{\"attributes\":{},\"id\":\"1159\",\"type\":\"ResetTool\"},{\"attributes\":{},\"id\":\"1156\",\"type\":\"PanTool\"},{\"attributes\":{\"callback\":null,\"data\":{\"color\":[\"#9fe240\",\"#470d5e\",\"#5ef004\",\"#322617\",\"#41e92f\",\"#d02980\",\"#db2e5b\",\"#8cf5e3\",\"#3c40d9\",\"#8530eb\"],\"label\":[1,2,3,4,5,6,7,8,9,10],\"topic_words\":[[\"free\",\"employe\",\"discount\",\"schedul\",\"day\",\"decent\",\"vacat\",\"compens\",\"hour_lunch\",\"flexibl_hour\"],[\"free\",\"employe\",\"discount\",\"schedul\",\"day\",\"decent\",\"vacat\",\"compens\",\"hour_lunch\",\"free_food\"],[\"benefit\",\"manag\",\"lot\",\"worker\",\"decent_pay\",\"easi\",\"health_benefit\",\"health_care\",\"plan\",\"etc\"],[\"pay_benefit\",\"advanc\",\"help\",\"salari\",\"worklif\",\"coffe\",\"provid\",\"excel_benefit\",\"pto\",\"packag\"],[\"pay\",\"hour\",\"flexibl\",\"cowork\",\"balanc\",\"cultur\",\"flexibl_schedul\",\"insur\",\"paid\",\"famili\"],[\"health\",\"friendli\",\"food\",\"atmospher\",\"life_balanc\",\"overtim\",\"benefit_pay\",\"sometim\",\"paid_time\",\"awesom\"],[\"lunch\",\"free\",\"free_lunch\",\"break\",\"time\",\"meet\",\"fast\",\"week\",\"fast_pace\",\"educ\"],[\"peopl\",\"environ\",\"excel\",\"team\",\"time\",\"nice\",\"home\",\"care\",\"incent\",\"lunch_break\"],[\"train\",\"custom\",\"fun\",\"pace\",\"gym\",\"abil\",\"reward\",\"vacat_time\",\"meet_peopl\",\"amaz\"],[\"opportun\",\"learn\",\"paid\",\"product\",\"holiday\",\"life\",\"servic\",\"discount\",\"support\",\"drink\"]],\"x\":{\"__ndarray__\":\"AyNxsppz8T+Mgl1Z3XTxP9kBDjPTqNq/oCnV6Izx2b+sMXa32ADZv4Km04fhk9q/dltEblyXwz93OJ4WTKfXv6q5/SfhJNO/nnGeZDaSo78=\",\"dtype\":\"float64\",\"shape\":[10]},\"y\":{\"__ndarray__\":\"X+cHU6L6sb/PGkXwqcuxv/SJXF2CgN+/uInjRRLnvD8/QY75nnFbv+Jg9QShAtq/BzAkXmxe2z/gF6uh3m3lP7XgVo6WVmY/omzim+Ygxr8=\",\"dtype\":\"float64\",\"shape\":[10]}},\"selected\":{\"id\":\"1181\",\"type\":\"Selection\"},\"selection_policy\":{\"id\":\"1182\",\"type\":\"UnionRenderers\"}},\"id\":\"1144\",\"type\":\"ColumnDataSource\"},{\"attributes\":{\"callback\":null,\"tooltips\":[[\"Topic\",\"@label  <br> Topic_words: @topic_words \"]]},\"id\":\"1160\",\"type\":\"HoverTool\"},{\"attributes\":{\"fill_alpha\":{\"value\":0.8},\"fill_color\":{\"field\":\"color\"},\"line_alpha\":{\"value\":0.8},\"line_color\":{\"field\":\"color\"},\"x\":{\"field\":\"x\"},\"y\":{\"field\":\"y\"}},\"id\":\"1172\",\"type\":\"Scatter\"},{\"attributes\":{},\"id\":\"1182\",\"type\":\"UnionRenderers\"},{\"attributes\":{\"label\":{\"field\":\"label\"},\"renderers\":[{\"id\":\"1174\",\"type\":\"GlyphRenderer\"}]},\"id\":\"1179\",\"type\":\"LegendItem\"}],\"root_ids\":[\"1146\"]},\"title\":\"Bokeh Application\",\"version\":\"1.0.4\"}};\n",
       "  var render_items = [{\"docid\":\"a5b1423b-0c8a-4970-b181-d70fc1debaac\",\"roots\":{\"1146\":\"19cafb5a-74bd-48e9-ba6e-199f58b2320e\"}}];\n",
       "  root.Bokeh.embed.embed_items_notebook(docs_json, render_items);\n",
       "\n",
       "  }\n",
       "  if (root.Bokeh !== undefined) {\n",
       "    embed_document(root);\n",
       "  } else {\n",
       "    var attempts = 0;\n",
       "    var timer = setInterval(function(root) {\n",
       "      if (root.Bokeh !== undefined) {\n",
       "        embed_document(root);\n",
       "        clearInterval(timer);\n",
       "      }\n",
       "      attempts++;\n",
       "      if (attempts > 100) {\n",
       "        console.log(\"Bokeh: ERROR: Unable to run BokehJS code because BokehJS library is missing\");\n",
       "        clearInterval(timer);\n",
       "      }\n",
       "    }, 10, root)\n",
       "  }\n",
       "})(window);"
      ],
      "application/vnd.bokehjs_exec.v0+json": ""
     },
     "metadata": {
      "application/vnd.bokehjs_exec.v0+json": {
       "id": "1146"
      }
     },
     "output_type": "display_data"
    }
   ],
   "source": [
    "title = 'PCA visualization of topics (pro)'\n",
    "\n",
    "plot_lda = figure(plot_width=1000, plot_height=700,\n",
    "                     title=title, tools=\"pan,wheel_zoom,box_zoom,reset,hover,previewsave\",\n",
    "                     x_axis_type=None, y_axis_type=None, min_border=1, \n",
    "                     x_axis_label = \"PCA1\", y_axis_label = \"PCA2\")\n",
    "\n",
    "plot_lda.scatter(x='x', y='y',  legend='label', source=source,\n",
    "                 color='color', alpha=0.8)#'msize', )\n",
    "\n",
    "# hover tools\n",
    "hover = plot_lda.select(dict(type=HoverTool))\n",
    "hover.tooltips = { \"Topic\": \"@label  <br> Topic_words: @topic_words \"}\n",
    "plot_lda.legend.location = \"top_left\"\n",
    "\n",
    "# export_png(plot_lda, filename=os.path.expanduser(\"~/Desktop/img/PCAcon.png\"))\n",
    "show(plot_lda)"
   ]
  },
  {
   "cell_type": "markdown",
   "metadata": {},
   "source": [
    "# Saving File"
   ]
  },
  {
   "cell_type": "code",
   "execution_count": 87,
   "metadata": {},
   "outputs": [
    {
     "data": {
      "text/html": [
       "<div>\n",
       "<style scoped>\n",
       "    .dataframe tbody tr th:only-of-type {\n",
       "        vertical-align: middle;\n",
       "    }\n",
       "\n",
       "    .dataframe tbody tr th {\n",
       "        vertical-align: top;\n",
       "    }\n",
       "\n",
       "    .dataframe thead th {\n",
       "        text-align: right;\n",
       "    }\n",
       "</style>\n",
       "<table border=\"1\" class=\"dataframe\">\n",
       "  <thead>\n",
       "    <tr style=\"text-align: right;\">\n",
       "      <th></th>\n",
       "      <th>X</th>\n",
       "      <th>Y</th>\n",
       "      <th>Topic</th>\n",
       "      <th>Topic_Words</th>\n",
       "      <th>Colors</th>\n",
       "    </tr>\n",
       "  </thead>\n",
       "  <tbody>\n",
       "    <tr>\n",
       "      <th>0</th>\n",
       "      <td>1.090724</td>\n",
       "      <td>-0.070231</td>\n",
       "      <td>1</td>\n",
       "      <td>[free, employe, discount, schedul, day, decent...</td>\n",
       "      <td>#9fe240</td>\n",
       "    </tr>\n",
       "    <tr>\n",
       "      <th>1</th>\n",
       "      <td>1.091031</td>\n",
       "      <td>-0.069514</td>\n",
       "      <td>2</td>\n",
       "      <td>[free, employe, discount, schedul, day, decent...</td>\n",
       "      <td>#470d5e</td>\n",
       "    </tr>\n",
       "    <tr>\n",
       "      <th>2</th>\n",
       "      <td>-0.416554</td>\n",
       "      <td>-0.492219</td>\n",
       "      <td>3</td>\n",
       "      <td>[benefit, manag, lot, worker, decent_pay, easi...</td>\n",
       "      <td>#5ef004</td>\n",
       "    </tr>\n",
       "    <tr>\n",
       "      <th>3</th>\n",
       "      <td>-0.405368</td>\n",
       "      <td>0.112901</td>\n",
       "      <td>4</td>\n",
       "      <td>[pay_benefit, advanc, help, salari, worklif, c...</td>\n",
       "      <td>#322617</td>\n",
       "    </tr>\n",
       "    <tr>\n",
       "      <th>4</th>\n",
       "      <td>-0.390677</td>\n",
       "      <td>-0.001675</td>\n",
       "      <td>5</td>\n",
       "      <td>[pay, hour, flexibl, cowork, balanc, cultur, f...</td>\n",
       "      <td>#41e92f</td>\n",
       "    </tr>\n",
       "  </tbody>\n",
       "</table>\n",
       "</div>"
      ],
      "text/plain": [
       "          X         Y  Topic  \\\n",
       "0  1.090724 -0.070231      1   \n",
       "1  1.091031 -0.069514      2   \n",
       "2 -0.416554 -0.492219      3   \n",
       "3 -0.405368  0.112901      4   \n",
       "4 -0.390677 -0.001675      5   \n",
       "\n",
       "                                         Topic_Words   Colors  \n",
       "0  [free, employe, discount, schedul, day, decent...  #9fe240  \n",
       "1  [free, employe, discount, schedul, day, decent...  #470d5e  \n",
       "2  [benefit, manag, lot, worker, decent_pay, easi...  #5ef004  \n",
       "3  [pay_benefit, advanc, help, salari, worklif, c...  #322617  \n",
       "4  [pay, hour, flexibl, cowork, balanc, cultur, f...  #41e92f  "
      ]
     },
     "metadata": {},
     "output_type": "display_data"
    },
    {
     "data": {
      "text/plain": [
       "(10, 5)"
      ]
     },
     "metadata": {},
     "output_type": "display_data"
    }
   ],
   "source": [
    "display(df_cluster.head())\n",
    "display(df_cluster.shape)"
   ]
  },
  {
   "cell_type": "code",
   "execution_count": 60,
   "metadata": {},
   "outputs": [],
   "source": [
    "import os\n",
    "df_cluster.to_csv(os.path.expanduser(data_path + f\"/{num_topics}/topic_center.csv\"))"
   ]
  },
  {
   "cell_type": "markdown",
   "metadata": {},
   "source": [
    "# Topic Proportion"
   ]
  },
  {
   "cell_type": "code",
   "execution_count": 88,
   "metadata": {},
   "outputs": [
    {
     "data": {
      "text/html": [
       "<div>\n",
       "<style scoped>\n",
       "    .dataframe tbody tr th:only-of-type {\n",
       "        vertical-align: middle;\n",
       "    }\n",
       "\n",
       "    .dataframe tbody tr th {\n",
       "        vertical-align: top;\n",
       "    }\n",
       "\n",
       "    .dataframe thead th {\n",
       "        text-align: right;\n",
       "    }\n",
       "</style>\n",
       "<table border=\"1\" class=\"dataframe\">\n",
       "  <thead>\n",
       "    <tr style=\"text-align: right;\">\n",
       "      <th></th>\n",
       "      <th>document</th>\n",
       "      <th>topic</th>\n",
       "      <th>gamma</th>\n",
       "    </tr>\n",
       "  </thead>\n",
       "  <tbody>\n",
       "    <tr>\n",
       "      <th>0</th>\n",
       "      <td>1</td>\n",
       "      <td>1</td>\n",
       "      <td>0.060023</td>\n",
       "    </tr>\n",
       "    <tr>\n",
       "      <th>1</th>\n",
       "      <td>2</td>\n",
       "      <td>1</td>\n",
       "      <td>0.051964</td>\n",
       "    </tr>\n",
       "    <tr>\n",
       "      <th>2</th>\n",
       "      <td>3</td>\n",
       "      <td>1</td>\n",
       "      <td>0.129970</td>\n",
       "    </tr>\n",
       "    <tr>\n",
       "      <th>3</th>\n",
       "      <td>4</td>\n",
       "      <td>1</td>\n",
       "      <td>0.043025</td>\n",
       "    </tr>\n",
       "    <tr>\n",
       "      <th>4</th>\n",
       "      <td>5</td>\n",
       "      <td>1</td>\n",
       "      <td>0.124641</td>\n",
       "    </tr>\n",
       "  </tbody>\n",
       "</table>\n",
       "</div>"
      ],
      "text/plain": [
       "   document  topic     gamma\n",
       "0         1      1  0.060023\n",
       "1         2      1  0.051964\n",
       "2         3      1  0.129970\n",
       "3         4      1  0.043025\n",
       "4         5      1  0.124641"
      ]
     },
     "metadata": {},
     "output_type": "display_data"
    },
    {
     "name": "stdout",
     "output_type": "stream",
     "text": [
      "(336200, 3)\n"
     ]
    }
   ],
   "source": [
    "df = pd.read_csv(data_path + f\"/{num_topics}/gamma.csv\")\n",
    "\n",
    "display(df.head())\n",
    "print(df.shape)"
   ]
  },
  {
   "cell_type": "code",
   "execution_count": 89,
   "metadata": {},
   "outputs": [
    {
     "data": {
      "text/html": [
       "<div>\n",
       "<style scoped>\n",
       "    .dataframe tbody tr th:only-of-type {\n",
       "        vertical-align: middle;\n",
       "    }\n",
       "\n",
       "    .dataframe tbody tr th {\n",
       "        vertical-align: top;\n",
       "    }\n",
       "\n",
       "    .dataframe thead th {\n",
       "        text-align: right;\n",
       "    }\n",
       "</style>\n",
       "<table border=\"1\" class=\"dataframe\">\n",
       "  <thead>\n",
       "    <tr style=\"text-align: right;\">\n",
       "      <th></th>\n",
       "      <th>X</th>\n",
       "      <th>Y</th>\n",
       "      <th>Topic</th>\n",
       "      <th>Topic_Words</th>\n",
       "      <th>Colors</th>\n",
       "      <th>Topic_Proportion</th>\n",
       "    </tr>\n",
       "  </thead>\n",
       "  <tbody>\n",
       "    <tr>\n",
       "      <th>0</th>\n",
       "      <td>1.090724</td>\n",
       "      <td>-0.070231</td>\n",
       "      <td>1</td>\n",
       "      <td>[free, employe, discount, schedul, day, decent...</td>\n",
       "      <td>#9fe240</td>\n",
       "      <td>0.0688</td>\n",
       "    </tr>\n",
       "    <tr>\n",
       "      <th>1</th>\n",
       "      <td>1.091031</td>\n",
       "      <td>-0.069514</td>\n",
       "      <td>2</td>\n",
       "      <td>[free, employe, discount, schedul, day, decent...</td>\n",
       "      <td>#470d5e</td>\n",
       "      <td>0.0710</td>\n",
       "    </tr>\n",
       "    <tr>\n",
       "      <th>2</th>\n",
       "      <td>-0.416554</td>\n",
       "      <td>-0.492219</td>\n",
       "      <td>3</td>\n",
       "      <td>[benefit, manag, lot, worker, decent_pay, easi...</td>\n",
       "      <td>#5ef004</td>\n",
       "      <td>0.1165</td>\n",
       "    </tr>\n",
       "    <tr>\n",
       "      <th>3</th>\n",
       "      <td>-0.405368</td>\n",
       "      <td>0.112901</td>\n",
       "      <td>4</td>\n",
       "      <td>[pay_benefit, advanc, help, salari, worklif, c...</td>\n",
       "      <td>#322617</td>\n",
       "      <td>0.1013</td>\n",
       "    </tr>\n",
       "    <tr>\n",
       "      <th>4</th>\n",
       "      <td>-0.390677</td>\n",
       "      <td>-0.001675</td>\n",
       "      <td>5</td>\n",
       "      <td>[pay, hour, flexibl, cowork, balanc, cultur, f...</td>\n",
       "      <td>#41e92f</td>\n",
       "      <td>0.1133</td>\n",
       "    </tr>\n",
       "  </tbody>\n",
       "</table>\n",
       "</div>"
      ],
      "text/plain": [
       "          X         Y  Topic  \\\n",
       "0  1.090724 -0.070231      1   \n",
       "1  1.091031 -0.069514      2   \n",
       "2 -0.416554 -0.492219      3   \n",
       "3 -0.405368  0.112901      4   \n",
       "4 -0.390677 -0.001675      5   \n",
       "\n",
       "                                         Topic_Words   Colors  \\\n",
       "0  [free, employe, discount, schedul, day, decent...  #9fe240   \n",
       "1  [free, employe, discount, schedul, day, decent...  #470d5e   \n",
       "2  [benefit, manag, lot, worker, decent_pay, easi...  #5ef004   \n",
       "3  [pay_benefit, advanc, help, salari, worklif, c...  #322617   \n",
       "4  [pay, hour, flexibl, cowork, balanc, cultur, f...  #41e92f   \n",
       "\n",
       "   Topic_Proportion  \n",
       "0            0.0688  \n",
       "1            0.0710  \n",
       "2            0.1165  \n",
       "3            0.1013  \n",
       "4            0.1133  "
      ]
     },
     "metadata": {},
     "output_type": "display_data"
    }
   ],
   "source": [
    "lst = []\n",
    "for t in range(1, num_topics+1): \n",
    "    df_topic = df[df.topic == t]\n",
    "    lst.append(df_topic.gamma.sum())\n",
    "\n",
    "tot = sum(lst)\n",
    "lst = np.array([round(i/tot, 4) for i in lst])\n",
    "\n",
    "df_cluster[\"Topic_Proportion\"] = lst\n",
    "display(df_cluster.head())"
   ]
  },
  {
   "cell_type": "code",
   "execution_count": 63,
   "metadata": {},
   "outputs": [
    {
     "data": {
      "text/plain": [
       "0.9997999999999999"
      ]
     },
     "execution_count": 63,
     "metadata": {},
     "output_type": "execute_result"
    }
   ],
   "source": [
    "df_cluster.Topic_Proportion.sum()"
   ]
  },
  {
   "cell_type": "code",
   "execution_count": 64,
   "metadata": {},
   "outputs": [],
   "source": [
    "df_cluster.to_csv(data_path + f\"/{num_topics}/topic_center.csv\")"
   ]
  },
  {
   "cell_type": "markdown",
   "metadata": {},
   "source": [
    "# Topic Term Distribution"
   ]
  },
  {
   "cell_type": "code",
   "execution_count": 65,
   "metadata": {},
   "outputs": [
    {
     "data": {
      "text/html": [
       "<div>\n",
       "<style scoped>\n",
       "    .dataframe tbody tr th:only-of-type {\n",
       "        vertical-align: middle;\n",
       "    }\n",
       "\n",
       "    .dataframe tbody tr th {\n",
       "        vertical-align: top;\n",
       "    }\n",
       "\n",
       "    .dataframe thead th {\n",
       "        text-align: right;\n",
       "    }\n",
       "</style>\n",
       "<table border=\"1\" class=\"dataframe\">\n",
       "  <thead>\n",
       "    <tr style=\"text-align: right;\">\n",
       "      <th></th>\n",
       "      <th>topic</th>\n",
       "      <th>term</th>\n",
       "      <th>beta</th>\n",
       "    </tr>\n",
       "  </thead>\n",
       "  <tbody>\n",
       "    <tr>\n",
       "      <th>0</th>\n",
       "      <td>1</td>\n",
       "      <td>’_care</td>\n",
       "      <td>5.945098e-06</td>\n",
       "    </tr>\n",
       "    <tr>\n",
       "      <th>1</th>\n",
       "      <td>2</td>\n",
       "      <td>’_care</td>\n",
       "      <td>1.450088e-04</td>\n",
       "    </tr>\n",
       "    <tr>\n",
       "      <th>2</th>\n",
       "      <td>3</td>\n",
       "      <td>’_care</td>\n",
       "      <td>1.043809e-179</td>\n",
       "    </tr>\n",
       "    <tr>\n",
       "      <th>3</th>\n",
       "      <td>4</td>\n",
       "      <td>’_care</td>\n",
       "      <td>5.369622e-139</td>\n",
       "    </tr>\n",
       "    <tr>\n",
       "      <th>4</th>\n",
       "      <td>5</td>\n",
       "      <td>’_care</td>\n",
       "      <td>2.697325e-156</td>\n",
       "    </tr>\n",
       "  </tbody>\n",
       "</table>\n",
       "</div>"
      ],
      "text/plain": [
       "   topic    term           beta\n",
       "0      1  ’_care   5.945098e-06\n",
       "1      2  ’_care   1.450088e-04\n",
       "2      3  ’_care  1.043809e-179\n",
       "3      4  ’_care  5.369622e-139\n",
       "4      5  ’_care  2.697325e-156"
      ]
     },
     "metadata": {},
     "output_type": "display_data"
    },
    {
     "name": "stdout",
     "output_type": "stream",
     "text": [
      "6420\n"
     ]
    }
   ],
   "source": [
    "df = pd.read_csv(data_path + f\"/{num_topics}/beta.csv\")\n",
    "display(df.head())\n",
    "tot_term = df[df.topic == 1]['term'].count()\n",
    "print(tot_term)"
   ]
  },
  {
   "cell_type": "code",
   "execution_count": 66,
   "metadata": {},
   "outputs": [
    {
     "data": {
      "text/html": [
       "<div>\n",
       "<style scoped>\n",
       "    .dataframe tbody tr th:only-of-type {\n",
       "        vertical-align: middle;\n",
       "    }\n",
       "\n",
       "    .dataframe tbody tr th {\n",
       "        vertical-align: top;\n",
       "    }\n",
       "\n",
       "    .dataframe thead th {\n",
       "        text-align: right;\n",
       "    }\n",
       "</style>\n",
       "<table border=\"1\" class=\"dataframe\">\n",
       "  <thead>\n",
       "    <tr style=\"text-align: right;\">\n",
       "      <th></th>\n",
       "      <th>Term_Id</th>\n",
       "      <th>Term</th>\n",
       "      <th>Term_Prob</th>\n",
       "    </tr>\n",
       "  </thead>\n",
       "  <tbody>\n",
       "    <tr>\n",
       "      <th>0</th>\n",
       "      <td>1</td>\n",
       "      <td>’_care</td>\n",
       "      <td>0.000013</td>\n",
       "    </tr>\n",
       "    <tr>\n",
       "      <th>1</th>\n",
       "      <td>2</td>\n",
       "      <td>’_re</td>\n",
       "      <td>0.000031</td>\n",
       "    </tr>\n",
       "    <tr>\n",
       "      <th>2</th>\n",
       "      <td>3</td>\n",
       "      <td>1_hour_lunch</td>\n",
       "      <td>0.000028</td>\n",
       "    </tr>\n",
       "    <tr>\n",
       "      <th>3</th>\n",
       "      <td>4</td>\n",
       "      <td>1_minut_late</td>\n",
       "      <td>0.000007</td>\n",
       "    </tr>\n",
       "    <tr>\n",
       "      <th>4</th>\n",
       "      <td>5</td>\n",
       "      <td>1_short_break</td>\n",
       "      <td>0.000010</td>\n",
       "    </tr>\n",
       "  </tbody>\n",
       "</table>\n",
       "</div>"
      ],
      "text/plain": [
       "   Term_Id           Term  Term_Prob\n",
       "0        1         ’_care   0.000013\n",
       "1        2           ’_re   0.000031\n",
       "2        3   1_hour_lunch   0.000028\n",
       "3        4   1_minut_late   0.000007\n",
       "4        5  1_short_break   0.000010"
      ]
     },
     "metadata": {},
     "output_type": "display_data"
    },
    {
     "data": {
      "text/plain": [
       "(6420, 3)"
      ]
     },
     "metadata": {},
     "output_type": "display_data"
    }
   ],
   "source": [
    "terms = df[df.topic == 1][\"term\"].values.tolist()\n",
    "lst = []\n",
    "i = 1\n",
    "for t in terms: \n",
    "    term_prob = df[df.term == t]['beta'].sum()/num_topics\n",
    "    lst.append([i, t, term_prob])\n",
    "    i = i+1\n",
    "df_term = pd.DataFrame(lst, columns=['Term_Id', 'Term', 'Term_Prob'])\n",
    "display(df_term.head())\n",
    "display(df_term.shape)"
   ]
  },
  {
   "cell_type": "code",
   "execution_count": 67,
   "metadata": {},
   "outputs": [
    {
     "data": {
      "text/html": [
       "<div>\n",
       "<style scoped>\n",
       "    .dataframe tbody tr th:only-of-type {\n",
       "        vertical-align: middle;\n",
       "    }\n",
       "\n",
       "    .dataframe tbody tr th {\n",
       "        vertical-align: top;\n",
       "    }\n",
       "\n",
       "    .dataframe thead th {\n",
       "        text-align: right;\n",
       "    }\n",
       "</style>\n",
       "<table border=\"1\" class=\"dataframe\">\n",
       "  <thead>\n",
       "    <tr style=\"text-align: right;\">\n",
       "      <th></th>\n",
       "      <th>Term_Id</th>\n",
       "      <th>Term</th>\n",
       "      <th>Term_Prob</th>\n",
       "    </tr>\n",
       "  </thead>\n",
       "  <tbody>\n",
       "    <tr>\n",
       "      <th>3389</th>\n",
       "      <td>3390</td>\n",
       "      <td>manag</td>\n",
       "      <td>0.030139</td>\n",
       "    </tr>\n",
       "    <tr>\n",
       "      <th>5832</th>\n",
       "      <td>5833</td>\n",
       "      <td>time</td>\n",
       "      <td>0.020220</td>\n",
       "    </tr>\n",
       "    <tr>\n",
       "      <th>2516</th>\n",
       "      <td>2517</td>\n",
       "      <td>hour</td>\n",
       "      <td>0.018856</td>\n",
       "    </tr>\n",
       "    <tr>\n",
       "      <th>4374</th>\n",
       "      <td>4375</td>\n",
       "      <td>poor</td>\n",
       "      <td>0.017756</td>\n",
       "    </tr>\n",
       "    <tr>\n",
       "      <th>4135</th>\n",
       "      <td>4136</td>\n",
       "      <td>pay</td>\n",
       "      <td>0.016926</td>\n",
       "    </tr>\n",
       "  </tbody>\n",
       "</table>\n",
       "</div>"
      ],
      "text/plain": [
       "      Term_Id   Term  Term_Prob\n",
       "3389     3390  manag   0.030139\n",
       "5832     5833   time   0.020220\n",
       "2516     2517   hour   0.018856\n",
       "4374     4375   poor   0.017756\n",
       "4135     4136    pay   0.016926"
      ]
     },
     "execution_count": 67,
     "metadata": {},
     "output_type": "execute_result"
    }
   ],
   "source": [
    "df_term.sort_values(by=\"Term_Prob\", ascending=False)[:5]"
   ]
  },
  {
   "cell_type": "code",
   "execution_count": 68,
   "metadata": {},
   "outputs": [],
   "source": [
    "for t in terms: \n",
    "    term_prob = df_term.loc[df_term.Term == t, \"Term_Prob\"].iloc[0]\n",
    "    df.loc[df.term == t, \"Term_Prob\"] = term_prob\n",
    "    \n",
    "df[\"Term_Freq\"] = df.Term_Prob * tot_term"
   ]
  },
  {
   "cell_type": "code",
   "execution_count": 69,
   "metadata": {},
   "outputs": [
    {
     "data": {
      "text/html": [
       "<div>\n",
       "<style scoped>\n",
       "    .dataframe tbody tr th:only-of-type {\n",
       "        vertical-align: middle;\n",
       "    }\n",
       "\n",
       "    .dataframe tbody tr th {\n",
       "        vertical-align: top;\n",
       "    }\n",
       "\n",
       "    .dataframe thead th {\n",
       "        text-align: right;\n",
       "    }\n",
       "</style>\n",
       "<table border=\"1\" class=\"dataframe\">\n",
       "  <thead>\n",
       "    <tr style=\"text-align: right;\">\n",
       "      <th></th>\n",
       "      <th>topic</th>\n",
       "      <th>term</th>\n",
       "      <th>beta</th>\n",
       "      <th>Term_Prob</th>\n",
       "      <th>Term_Freq</th>\n",
       "    </tr>\n",
       "  </thead>\n",
       "  <tbody>\n",
       "    <tr>\n",
       "      <th>0</th>\n",
       "      <td>1</td>\n",
       "      <td>’_care</td>\n",
       "      <td>5.945098e-06</td>\n",
       "      <td>0.000013</td>\n",
       "      <td>0.08076</td>\n",
       "    </tr>\n",
       "    <tr>\n",
       "      <th>1</th>\n",
       "      <td>2</td>\n",
       "      <td>’_care</td>\n",
       "      <td>1.450088e-04</td>\n",
       "      <td>0.000013</td>\n",
       "      <td>0.08076</td>\n",
       "    </tr>\n",
       "    <tr>\n",
       "      <th>2</th>\n",
       "      <td>3</td>\n",
       "      <td>’_care</td>\n",
       "      <td>1.043809e-179</td>\n",
       "      <td>0.000013</td>\n",
       "      <td>0.08076</td>\n",
       "    </tr>\n",
       "    <tr>\n",
       "      <th>3</th>\n",
       "      <td>4</td>\n",
       "      <td>’_care</td>\n",
       "      <td>5.369622e-139</td>\n",
       "      <td>0.000013</td>\n",
       "      <td>0.08076</td>\n",
       "    </tr>\n",
       "    <tr>\n",
       "      <th>4</th>\n",
       "      <td>5</td>\n",
       "      <td>’_care</td>\n",
       "      <td>2.697325e-156</td>\n",
       "      <td>0.000013</td>\n",
       "      <td>0.08076</td>\n",
       "    </tr>\n",
       "  </tbody>\n",
       "</table>\n",
       "</div>"
      ],
      "text/plain": [
       "   topic    term           beta  Term_Prob  Term_Freq\n",
       "0      1  ’_care   5.945098e-06   0.000013    0.08076\n",
       "1      2  ’_care   1.450088e-04   0.000013    0.08076\n",
       "2      3  ’_care  1.043809e-179   0.000013    0.08076\n",
       "3      4  ’_care  5.369622e-139   0.000013    0.08076\n",
       "4      5  ’_care  2.697325e-156   0.000013    0.08076"
      ]
     },
     "metadata": {},
     "output_type": "display_data"
    }
   ],
   "source": [
    "display(df.head())"
   ]
  },
  {
   "cell_type": "code",
   "execution_count": 70,
   "metadata": {},
   "outputs": [
    {
     "data": {
      "text/html": [
       "<div>\n",
       "<style scoped>\n",
       "    .dataframe tbody tr th:only-of-type {\n",
       "        vertical-align: middle;\n",
       "    }\n",
       "\n",
       "    .dataframe tbody tr th {\n",
       "        vertical-align: top;\n",
       "    }\n",
       "\n",
       "    .dataframe thead th {\n",
       "        text-align: right;\n",
       "    }\n",
       "</style>\n",
       "<table border=\"1\" class=\"dataframe\">\n",
       "  <thead>\n",
       "    <tr style=\"text-align: right;\">\n",
       "      <th></th>\n",
       "      <th>topic</th>\n",
       "      <th>term</th>\n",
       "      <th>beta</th>\n",
       "      <th>Term_Prob</th>\n",
       "      <th>Term_Freq</th>\n",
       "    </tr>\n",
       "  </thead>\n",
       "  <tbody>\n",
       "    <tr>\n",
       "      <th>40674</th>\n",
       "      <td>7</td>\n",
       "      <td>manag</td>\n",
       "      <td>1.941805e-76</td>\n",
       "      <td>0.030139</td>\n",
       "      <td>193.495038</td>\n",
       "    </tr>\n",
       "    <tr>\n",
       "      <th>40679</th>\n",
       "      <td>12</td>\n",
       "      <td>manag</td>\n",
       "      <td>2.181817e-69</td>\n",
       "      <td>0.030139</td>\n",
       "      <td>193.495038</td>\n",
       "    </tr>\n",
       "    <tr>\n",
       "      <th>40676</th>\n",
       "      <td>9</td>\n",
       "      <td>manag</td>\n",
       "      <td>4.846030e-54</td>\n",
       "      <td>0.030139</td>\n",
       "      <td>193.495038</td>\n",
       "    </tr>\n",
       "    <tr>\n",
       "      <th>40675</th>\n",
       "      <td>8</td>\n",
       "      <td>manag</td>\n",
       "      <td>1.646533e-85</td>\n",
       "      <td>0.030139</td>\n",
       "      <td>193.495038</td>\n",
       "    </tr>\n",
       "    <tr>\n",
       "      <th>40673</th>\n",
       "      <td>6</td>\n",
       "      <td>manag</td>\n",
       "      <td>5.933599e-60</td>\n",
       "      <td>0.030139</td>\n",
       "      <td>193.495038</td>\n",
       "    </tr>\n",
       "    <tr>\n",
       "      <th>40672</th>\n",
       "      <td>5</td>\n",
       "      <td>manag</td>\n",
       "      <td>3.616730e-01</td>\n",
       "      <td>0.030139</td>\n",
       "      <td>193.495038</td>\n",
       "    </tr>\n",
       "    <tr>\n",
       "      <th>40671</th>\n",
       "      <td>4</td>\n",
       "      <td>manag</td>\n",
       "      <td>2.099688e-60</td>\n",
       "      <td>0.030139</td>\n",
       "      <td>193.495038</td>\n",
       "    </tr>\n",
       "    <tr>\n",
       "      <th>40670</th>\n",
       "      <td>3</td>\n",
       "      <td>manag</td>\n",
       "      <td>1.250620e-34</td>\n",
       "      <td>0.030139</td>\n",
       "      <td>193.495038</td>\n",
       "    </tr>\n",
       "    <tr>\n",
       "      <th>40669</th>\n",
       "      <td>2</td>\n",
       "      <td>manag</td>\n",
       "      <td>2.042424e-45</td>\n",
       "      <td>0.030139</td>\n",
       "      <td>193.495038</td>\n",
       "    </tr>\n",
       "    <tr>\n",
       "      <th>40678</th>\n",
       "      <td>11</td>\n",
       "      <td>manag</td>\n",
       "      <td>1.910633e-22</td>\n",
       "      <td>0.030139</td>\n",
       "      <td>193.495038</td>\n",
       "    </tr>\n",
       "    <tr>\n",
       "      <th>40677</th>\n",
       "      <td>10</td>\n",
       "      <td>manag</td>\n",
       "      <td>2.992489e-47</td>\n",
       "      <td>0.030139</td>\n",
       "      <td>193.495038</td>\n",
       "    </tr>\n",
       "    <tr>\n",
       "      <th>40668</th>\n",
       "      <td>1</td>\n",
       "      <td>manag</td>\n",
       "      <td>2.764057e-64</td>\n",
       "      <td>0.030139</td>\n",
       "      <td>193.495038</td>\n",
       "    </tr>\n",
       "    <tr>\n",
       "      <th>69984</th>\n",
       "      <td>1</td>\n",
       "      <td>time</td>\n",
       "      <td>2.426394e-01</td>\n",
       "      <td>0.020220</td>\n",
       "      <td>129.812085</td>\n",
       "    </tr>\n",
       "    <tr>\n",
       "      <th>69993</th>\n",
       "      <td>10</td>\n",
       "      <td>time</td>\n",
       "      <td>4.686488e-84</td>\n",
       "      <td>0.020220</td>\n",
       "      <td>129.812085</td>\n",
       "    </tr>\n",
       "    <tr>\n",
       "      <th>69992</th>\n",
       "      <td>9</td>\n",
       "      <td>time</td>\n",
       "      <td>1.964889e-104</td>\n",
       "      <td>0.020220</td>\n",
       "      <td>129.812085</td>\n",
       "    </tr>\n",
       "  </tbody>\n",
       "</table>\n",
       "</div>"
      ],
      "text/plain": [
       "       topic   term           beta  Term_Prob   Term_Freq\n",
       "40674      7  manag   1.941805e-76   0.030139  193.495038\n",
       "40679     12  manag   2.181817e-69   0.030139  193.495038\n",
       "40676      9  manag   4.846030e-54   0.030139  193.495038\n",
       "40675      8  manag   1.646533e-85   0.030139  193.495038\n",
       "40673      6  manag   5.933599e-60   0.030139  193.495038\n",
       "40672      5  manag   3.616730e-01   0.030139  193.495038\n",
       "40671      4  manag   2.099688e-60   0.030139  193.495038\n",
       "40670      3  manag   1.250620e-34   0.030139  193.495038\n",
       "40669      2  manag   2.042424e-45   0.030139  193.495038\n",
       "40678     11  manag   1.910633e-22   0.030139  193.495038\n",
       "40677     10  manag   2.992489e-47   0.030139  193.495038\n",
       "40668      1  manag   2.764057e-64   0.030139  193.495038\n",
       "69984      1   time   2.426394e-01   0.020220  129.812085\n",
       "69993     10   time   4.686488e-84   0.020220  129.812085\n",
       "69992      9   time  1.964889e-104   0.020220  129.812085"
      ]
     },
     "execution_count": 70,
     "metadata": {},
     "output_type": "execute_result"
    }
   ],
   "source": [
    "df.sort_values(by=\"Term_Freq\", ascending=False)[:15]"
   ]
  },
  {
   "cell_type": "code",
   "execution_count": 71,
   "metadata": {},
   "outputs": [
    {
     "data": {
      "text/html": [
       "<div>\n",
       "<style scoped>\n",
       "    .dataframe tbody tr th:only-of-type {\n",
       "        vertical-align: middle;\n",
       "    }\n",
       "\n",
       "    .dataframe tbody tr th {\n",
       "        vertical-align: top;\n",
       "    }\n",
       "\n",
       "    .dataframe thead th {\n",
       "        text-align: right;\n",
       "    }\n",
       "</style>\n",
       "<table border=\"1\" class=\"dataframe\">\n",
       "  <thead>\n",
       "    <tr style=\"text-align: right;\">\n",
       "      <th></th>\n",
       "      <th>Topic</th>\n",
       "      <th>Term</th>\n",
       "      <th>Beta</th>\n",
       "      <th>Term_Prob</th>\n",
       "      <th>Term_Freq</th>\n",
       "    </tr>\n",
       "  </thead>\n",
       "  <tbody>\n",
       "    <tr>\n",
       "      <th>0</th>\n",
       "      <td>1</td>\n",
       "      <td>’_care</td>\n",
       "      <td>5.945098e-06</td>\n",
       "      <td>0.000013</td>\n",
       "      <td>0.08076</td>\n",
       "    </tr>\n",
       "    <tr>\n",
       "      <th>1</th>\n",
       "      <td>2</td>\n",
       "      <td>’_care</td>\n",
       "      <td>1.450088e-04</td>\n",
       "      <td>0.000013</td>\n",
       "      <td>0.08076</td>\n",
       "    </tr>\n",
       "    <tr>\n",
       "      <th>2</th>\n",
       "      <td>3</td>\n",
       "      <td>’_care</td>\n",
       "      <td>1.043809e-179</td>\n",
       "      <td>0.000013</td>\n",
       "      <td>0.08076</td>\n",
       "    </tr>\n",
       "    <tr>\n",
       "      <th>3</th>\n",
       "      <td>4</td>\n",
       "      <td>’_care</td>\n",
       "      <td>5.369622e-139</td>\n",
       "      <td>0.000013</td>\n",
       "      <td>0.08076</td>\n",
       "    </tr>\n",
       "    <tr>\n",
       "      <th>4</th>\n",
       "      <td>5</td>\n",
       "      <td>’_care</td>\n",
       "      <td>2.697325e-156</td>\n",
       "      <td>0.000013</td>\n",
       "      <td>0.08076</td>\n",
       "    </tr>\n",
       "  </tbody>\n",
       "</table>\n",
       "</div>"
      ],
      "text/plain": [
       "   Topic    Term           Beta  Term_Prob  Term_Freq\n",
       "0      1  ’_care   5.945098e-06   0.000013    0.08076\n",
       "1      2  ’_care   1.450088e-04   0.000013    0.08076\n",
       "2      3  ’_care  1.043809e-179   0.000013    0.08076\n",
       "3      4  ’_care  5.369622e-139   0.000013    0.08076\n",
       "4      5  ’_care  2.697325e-156   0.000013    0.08076"
      ]
     },
     "metadata": {},
     "output_type": "display_data"
    }
   ],
   "source": [
    "df.rename(columns={\"topic\": \"Topic\", \"term\": \"Term\", \"beta\": \"Beta\"}, inplace=True)\n",
    "display(df.head())"
   ]
  },
  {
   "cell_type": "markdown",
   "metadata": {},
   "source": [
    "# Save File"
   ]
  },
  {
   "cell_type": "code",
   "execution_count": 72,
   "metadata": {},
   "outputs": [],
   "source": [
    "df.to_csv(data_path + f\"/{num_topics}/topic_term_distr.csv\")"
   ]
  },
  {
   "cell_type": "markdown",
   "metadata": {},
   "source": [
    "# How to calculate relevance?"
   ]
  },
  {
   "cell_type": "code",
   "execution_count": 37,
   "metadata": {},
   "outputs": [],
   "source": [
    "df_relevance = df.copy()"
   ]
  },
  {
   "cell_type": "code",
   "execution_count": 38,
   "metadata": {},
   "outputs": [
    {
     "data": {
      "text/html": [
       "<div>\n",
       "<style scoped>\n",
       "    .dataframe tbody tr th:only-of-type {\n",
       "        vertical-align: middle;\n",
       "    }\n",
       "\n",
       "    .dataframe tbody tr th {\n",
       "        vertical-align: top;\n",
       "    }\n",
       "\n",
       "    .dataframe thead th {\n",
       "        text-align: right;\n",
       "    }\n",
       "</style>\n",
       "<table border=\"1\" class=\"dataframe\">\n",
       "  <thead>\n",
       "    <tr style=\"text-align: right;\">\n",
       "      <th></th>\n",
       "      <th>Topic</th>\n",
       "      <th>Term</th>\n",
       "      <th>Beta</th>\n",
       "      <th>Term_Prob</th>\n",
       "      <th>Term_Freq</th>\n",
       "      <th>Relevance</th>\n",
       "    </tr>\n",
       "  </thead>\n",
       "  <tbody>\n",
       "    <tr>\n",
       "      <th>0</th>\n",
       "      <td>1</td>\n",
       "      <td>1_hour_break</td>\n",
       "      <td>3.333175e-24</td>\n",
       "      <td>0.000008</td>\n",
       "      <td>0.051773</td>\n",
       "      <td>3.333175e-24</td>\n",
       "    </tr>\n",
       "    <tr>\n",
       "      <th>1</th>\n",
       "      <td>2</td>\n",
       "      <td>1_hour_break</td>\n",
       "      <td>3.228877e-24</td>\n",
       "      <td>0.000008</td>\n",
       "      <td>0.051773</td>\n",
       "      <td>3.228877e-24</td>\n",
       "    </tr>\n",
       "    <tr>\n",
       "      <th>2</th>\n",
       "      <td>3</td>\n",
       "      <td>1_hour_break</td>\n",
       "      <td>6.486790e-12</td>\n",
       "      <td>0.000008</td>\n",
       "      <td>0.051773</td>\n",
       "      <td>6.486790e-12</td>\n",
       "    </tr>\n",
       "    <tr>\n",
       "      <th>3</th>\n",
       "      <td>4</td>\n",
       "      <td>1_hour_break</td>\n",
       "      <td>2.023997e-12</td>\n",
       "      <td>0.000008</td>\n",
       "      <td>0.051773</td>\n",
       "      <td>2.023997e-12</td>\n",
       "    </tr>\n",
       "    <tr>\n",
       "      <th>4</th>\n",
       "      <td>5</td>\n",
       "      <td>1_hour_break</td>\n",
       "      <td>3.937727e-08</td>\n",
       "      <td>0.000008</td>\n",
       "      <td>0.051773</td>\n",
       "      <td>3.937727e-08</td>\n",
       "    </tr>\n",
       "  </tbody>\n",
       "</table>\n",
       "</div>"
      ],
      "text/plain": [
       "   Topic          Term          Beta  Term_Prob  Term_Freq     Relevance\n",
       "0      1  1_hour_break  3.333175e-24   0.000008   0.051773  3.333175e-24\n",
       "1      2  1_hour_break  3.228877e-24   0.000008   0.051773  3.228877e-24\n",
       "2      3  1_hour_break  6.486790e-12   0.000008   0.051773  6.486790e-12\n",
       "3      4  1_hour_break  2.023997e-12   0.000008   0.051773  2.023997e-12\n",
       "4      5  1_hour_break  3.937727e-08   0.000008   0.051773  3.937727e-08"
      ]
     },
     "metadata": {},
     "output_type": "display_data"
    }
   ],
   "source": [
    "lam = 1\n",
    "df_relevance[\"Relevance\"] = lam*df_relevance.Beta + (1-lam)*df_relevance.Beta/df_relevance.Term_Prob\n",
    "display(df_relevance.head())"
   ]
  },
  {
   "cell_type": "code",
   "execution_count": 42,
   "metadata": {},
   "outputs": [],
   "source": [
    "df5 = df_relevance[df_relevance.Topic == 5]\n",
    "relevant_term = df5.sort_values(by=\"Relevance\", ascending=False)[:10]"
   ]
  },
  {
   "cell_type": "code",
   "execution_count": 43,
   "metadata": {},
   "outputs": [
    {
     "name": "stdout",
     "output_type": "stream",
     "text": [
      "       Topic             Term      Beta  Term_Prob   Term_Freq  Relevance\n",
      "46554      5              pay  0.229724   0.022973  152.564394   0.229724\n",
      "33684      5             hour  0.107637   0.011446   76.010955   0.107637\n",
      "24954      5          flexibl  0.083757   0.008376   55.622796   0.083757\n",
      "14874      5           cowork  0.063759   0.006376   42.342786   0.063759\n",
      "3204       5           balanc  0.042327   0.004688   31.134391   0.042327\n",
      "15524      5           cultur  0.034195   0.003422   22.723097   0.034195\n",
      "25324      5  flexibl_schedul  0.027384   0.002741   18.202901   0.027384\n",
      "35334      5            insur  0.027303   0.003203   21.274015   0.027303\n",
      "45614      5             paid  0.020978   0.006647   44.140357   0.020978\n",
      "24004      5           famili  0.016579   0.001697   11.266823   0.016579\n"
     ]
    }
   ],
   "source": [
    "print(relevant_term)"
   ]
  },
  {
   "cell_type": "code",
   "execution_count": 26,
   "metadata": {},
   "outputs": [],
   "source": [
    "relevant_term.sort_values(by=\"Term_Freq\", ascending=False, inplace=True)"
   ]
  },
  {
   "cell_type": "code",
   "execution_count": 27,
   "metadata": {},
   "outputs": [],
   "source": [
    "relevant_term[\"Term_Freq\"] = np.round(relevant_term[\"Term_Freq\"])"
   ]
  },
  {
   "cell_type": "code",
   "execution_count": 31,
   "metadata": {},
   "outputs": [
    {
     "data": {
      "image/png": "[encoded data removed]",
      "text/plain": [
       "<Figure size 432x288 with 1 Axes>"
      ]
     },
     "metadata": {
      "needs_background": "light"
     },
     "output_type": "display_data"
    }
   ],
   "source": [
    "import seaborn as sns\n",
    "import matplotlib.pyplot as plt\n",
    "sns.barplot(x=\"Term_Freq\", y=\"Term\", data=relevant_term)\n",
    "plt.show()"
   ]
  },
  {
   "cell_type": "markdown",
   "metadata": {},
   "source": [
    "# Pro Con Similarity"
   ]
  },
  {
   "cell_type": "code",
   "execution_count": 1,
   "metadata": {},
   "outputs": [
    {
     "data": {
      "text/html": [
       "<div>\n",
       "<style scoped>\n",
       "    .dataframe tbody tr th:only-of-type {\n",
       "        vertical-align: middle;\n",
       "    }\n",
       "\n",
       "    .dataframe tbody tr th {\n",
       "        vertical-align: top;\n",
       "    }\n",
       "\n",
       "    .dataframe thead th {\n",
       "        text-align: right;\n",
       "    }\n",
       "</style>\n",
       "<table border=\"1\" class=\"dataframe\">\n",
       "  <thead>\n",
       "    <tr style=\"text-align: right;\">\n",
       "      <th></th>\n",
       "      <th>topic</th>\n",
       "      <th>term</th>\n",
       "      <th>beta</th>\n",
       "    </tr>\n",
       "  </thead>\n",
       "  <tbody>\n",
       "    <tr>\n",
       "      <th>0</th>\n",
       "      <td>1</td>\n",
       "      <td>1_hour_break</td>\n",
       "      <td>3.672673e-208</td>\n",
       "    </tr>\n",
       "    <tr>\n",
       "      <th>1</th>\n",
       "      <td>2</td>\n",
       "      <td>1_hour_break</td>\n",
       "      <td>1.351000e-189</td>\n",
       "    </tr>\n",
       "    <tr>\n",
       "      <th>2</th>\n",
       "      <td>3</td>\n",
       "      <td>1_hour_break</td>\n",
       "      <td>8.675901e-213</td>\n",
       "    </tr>\n",
       "    <tr>\n",
       "      <th>3</th>\n",
       "      <td>4</td>\n",
       "      <td>1_hour_break</td>\n",
       "      <td>4.690151e-197</td>\n",
       "    </tr>\n",
       "    <tr>\n",
       "      <th>4</th>\n",
       "      <td>5</td>\n",
       "      <td>1_hour_break</td>\n",
       "      <td>6.897081e-192</td>\n",
       "    </tr>\n",
       "  </tbody>\n",
       "</table>\n",
       "</div>"
      ],
      "text/plain": [
       "   topic          term           beta\n",
       "0      1  1_hour_break  3.672673e-208\n",
       "1      2  1_hour_break  1.351000e-189\n",
       "2      3  1_hour_break  8.675901e-213\n",
       "3      4  1_hour_break  4.690151e-197\n",
       "4      5  1_hour_break  6.897081e-192"
      ]
     },
     "metadata": {},
     "output_type": "display_data"
    },
    {
     "data": {
      "text/plain": [
       "(172666, 3)"
      ]
     },
     "metadata": {},
     "output_type": "display_data"
    },
    {
     "data": {
      "text/html": [
       "<div>\n",
       "<style scoped>\n",
       "    .dataframe tbody tr th:only-of-type {\n",
       "        vertical-align: middle;\n",
       "    }\n",
       "\n",
       "    .dataframe tbody tr th {\n",
       "        vertical-align: top;\n",
       "    }\n",
       "\n",
       "    .dataframe thead th {\n",
       "        text-align: right;\n",
       "    }\n",
       "</style>\n",
       "<table border=\"1\" class=\"dataframe\">\n",
       "  <thead>\n",
       "    <tr style=\"text-align: right;\">\n",
       "      <th></th>\n",
       "      <th>topic</th>\n",
       "      <th>term</th>\n",
       "      <th>beta</th>\n",
       "    </tr>\n",
       "  </thead>\n",
       "  <tbody>\n",
       "    <tr>\n",
       "      <th>0</th>\n",
       "      <td>1</td>\n",
       "      <td>’_care</td>\n",
       "      <td>8.624717e-100</td>\n",
       "    </tr>\n",
       "    <tr>\n",
       "      <th>1</th>\n",
       "      <td>2</td>\n",
       "      <td>’_care</td>\n",
       "      <td>2.555270e-93</td>\n",
       "    </tr>\n",
       "    <tr>\n",
       "      <th>2</th>\n",
       "      <td>3</td>\n",
       "      <td>’_care</td>\n",
       "      <td>1.219269e-114</td>\n",
       "    </tr>\n",
       "    <tr>\n",
       "      <th>3</th>\n",
       "      <td>4</td>\n",
       "      <td>’_care</td>\n",
       "      <td>3.194975e-91</td>\n",
       "    </tr>\n",
       "    <tr>\n",
       "      <th>4</th>\n",
       "      <td>5</td>\n",
       "      <td>’_care</td>\n",
       "      <td>7.375773e-119</td>\n",
       "    </tr>\n",
       "  </tbody>\n",
       "</table>\n",
       "</div>"
      ],
      "text/plain": [
       "   topic    term           beta\n",
       "0      1  ’_care  8.624717e-100\n",
       "1      2  ’_care   2.555270e-93\n",
       "2      3  ’_care  1.219269e-114\n",
       "3      4  ’_care   3.194975e-91\n",
       "4      5  ’_care  7.375773e-119"
      ]
     },
     "metadata": {},
     "output_type": "display_data"
    },
    {
     "data": {
      "text/plain": [
       "(154080, 3)"
      ]
     },
     "metadata": {},
     "output_type": "display_data"
    }
   ],
   "source": [
    "import pandas as pd\n",
    "import numpy as np\n",
    "\n",
    "# num_topics_pro = 8\n",
    "num_topics_pro = 26\n",
    "df_pro = pd.read_csv(f\"~/Desktop/R_js/data/beta/pro{num_topics_pro}_beta.csv\")\n",
    "\n",
    "# num_topics_con = 10\n",
    "num_topics_con = 24\n",
    "df_con = pd.read_csv(f\"~/Desktop/R_js/data/beta/con{num_topics_con}_beta.csv\")\n",
    "\n",
    "display(df_pro.head())\n",
    "display(df_pro.shape)\n",
    "\n",
    "display(df_con.head())\n",
    "display(df_con.shape)"
   ]
  },
  {
   "cell_type": "code",
   "execution_count": 2,
   "metadata": {},
   "outputs": [
    {
     "name": "stdout",
     "output_type": "stream",
     "text": [
      "2096\n",
      "['talk_peopl', 'hour_employe', 'leisur', 'insur_employe', 'heath', 'one', 'holiday_season', 'situat', 'properli', 'field', 'releas', 'grow', 'life', 'district', 'trust', 'commiss_base', 'store', 'cost_studi', 'promot_opportun', 'unload', 'workplac_cultur', 'adult', 'afford', 'execut', 'comput_system', 'station', 'true', 'paycheck', 'ship', 'establish', 'accept', 'team_support', 'plu', 'technic', 'recruit', 'implement', 'stuff', 'girl', 'talk', 'associ', 'forgiv', 'custom_satisfact', 'quarterli', 'fifteen', 'vacat_sick_day', 'resourc', 'certif', 'pharmaci_manag', 'quiet', 'fargo', 'later', 'mortgag', 'solid', 'common', 'slight', 'desk', 'repeat', 'benefit_retir', 'divis', 'half_hour_lunch', 'structur', 'cheaper', 'horribl', 'packag', 'free_coffe', 'hour_team', 'corpor_environ', 'opinion', 'occassion', 'person_vehicl', 'cut', 'cost_live', 'recommend', 'hire', 'appreci', 'pay_health', 'basi', 'compress', 'agent', 'manag_care_employe', 'american', 'schedul_worklif', 'assist', 'strong', 'time_manag', 'youll', 'break_paid', 'drive_car', 'dedic', 'charg', 'commut', 'code', 'min', 'expect', 'austin', 'medic_insur', 'bought', 'brand', 'career_advanc', 'compar', 'break_break', 'break_custom', 'news', 'extra', 'spirit', 'mangement', 'break_hour_lunch', 'multitask', 'drama', 'lucki', 'health', 'workspac', 'minut_lunch', 'acknowledg', 'ride', 'line_busi', 'regul', 'job', 'studi', 'innov', 'numer', 'mistak', 'competit_environ', 'stock', 'accru', 'pay_minimum_wage', 'andor', '8_hour_shift', 'continu', 'incred', 'consid', 'committe', 'veteran', 'vendor', 'summer', 'descanso', 'fairli', 'home_offic', 'attract', 'tree', 'thru', 'citigroup', 'growth_pay', 'air_condit', 'pay_salari', 'local', 'microwav', 'estat', '10_min_break', 'could', 'worklif_balanc', 'occas', 'hospit', 'reduc', 'proper', 'rais_benefit', 'reinforc', 'time_employe', 'retir_benefit', 'attempt', 'manag_help', 'benefit_life_balanc', 'ideal', 'view', 'benefit_401k', 'theyr', 'stuck', 'join', 'worklif', 'joke', 'loss', 'beer', 'month', 'pay_posit', 'reloc', 'offic_space', 'busi', 'sick', 'inform', 'bore', 'payout', 'benefit_parttim', 'benefit_secur', 'ice', 'verizon', 'usa', 'exceed', 'construct', 'beyond', 'expens', 'balanc_manag', 'tenur', 'boost', 'statu', 'econom', 'retir', 'give', 'like', 'lot_hour', 'protect', 'asset', 'lay', 'major', 'educ', 'relief', 'didnt', 'advanc_pay', 'union_represent', 'shoe', 'children', 'manger', 'anymor', 'bunch', 'manag_hour', 'buy', 'enviro', 'averag_pay', 'listen', 'nasa', 'convers', 'soon', 'cell', 'resolv', 'abus', 'employe_benefit', 'pay_schedul', 'economi', 'annual_rais', 'vacat', 'agent_pay', 'daili_basi', 'stop', 'week', 'guess', 'para', 'ownership', 'load', 'regular', 'manag_advanc', 'employe_moral', 'health_care_401k', 'monthli', 'pay_competit', 'mayb', 'fastpac', 'parttim_hour', 'let', 'time_associ', 'intern', 'vacat_day', 'liter', 'annual', 'holiday_weekend', 'workfamili', 'choic', 'impact', 'vibe', 'benefit_paid', 'hardwork', 'home', 'healthcar_401k', 'pension_plan', '12_hour_shift', 'preload', 'break_lunch_break', 'via', 'led', 'race', 'assembl', 'upper', 'benefit_sometim', 'pay_rais', 'pick', 'perform', 'compet', 'home_day', 'ppl', 'placement', 'capabl', 'prospect', 'collabor', 'unit', 'fed', 'partial', 'custom', 'tension', 'distanc', 'employe_pay', 'devic', 'answer', 'rate', 'machin', 'shift_hour', 'hour_lunch', 'hous', 'debit', 'abl', 'hourli_wage', 'couldnt', 'twice', 'break_discount', 'pto', 'healthcar_insur', 'guidanc', 'hourli', 'compens', 'grate', 'lunch', 'exempt', 'trade', 'respons', 'centric', 'tech_compani', 'welcom', 'your', 'break_peopl', 'pound', 'properti', 'instal', 'peopl_time', 'opportun_manag', 'pay_break', 'frontlin', 'besid', 'break_shift', 'colleg', 'famili', 'curv', 'activ', 'speak', 'incent_plan', 'exposur', 'honesti', 'benefit_health_insur', 'day', 'hour_break', 'central', 'person', 'forklift', 'break_15', 'definit', 'senior', 'hour_benefit', 'benefit_pay', 'prior', 'day_week', 'road', 'vision', 'tech', 'fine', 'longev', 'employe_peopl', 'gain', 'constant', 'leverag', 'promot', 'opportun_pay', 'reward', 'ground', 'expertis', 'pretti', 'traffic', 'banker', 'usual', 'anytim', 'manag_care', 'peer', 'multipl', 'ge_product', 'mainten', 'fifteen_minut_break', 'better', 'movement', 'employ', 'lift', 'extra_hour', 'medic', 'parttim_employe', 'oportun', 'mandatori', 'search', 'product_custom', 'surpris', 'discount_product', 'print', 'break_time', 'obtain', 'manag_peopl', 'manag_cultur', 'perman_posit', 'pull', 'garag', 'retain', 'happen', 'price', 'pay_increas', 'breakfast', 'connect', 'experienc', 'posit', 'women', 'opportunit', 'enjoy', 'doubl', 'sensit', 'favorit', 'ticket', 'rotat_schedul', 'atmospher', 'burn', 'break_day', 'loyal', 'differ_locat', 'global', 'competet', 'thanksgiv', 'crew', 'typic', 'cell_phone', 'emot', 'secur_advanc', 'friday', 'elsewher', 'top', 'deli', 'prescript', 'total', 'applic', 'cultur_worklif_balanc', 'blue', 'vacat_sick', 'soda', 'employe_discount', 'lifework_balanc', 'local_manag', 'break_30_min', 'time_schedul', 'hour_custom', 'effect', 'vacat_sick_time', 'plano', 'vto', 'dress_code', 'comfort', 'car', 'incent_pay', 'locat', 'career_advanc_opportun', 'hear', 'mobil', 'vet', 'difficult', 'big', 'list', 'flight', 'red', 'age', 'time_day', 'set', 'sell', 'belong', 'game', 'clear', 'instant', 'joint', 'harder', 'paid_lunch', 'cube', 'wont', 'box', 'invest', 'line_manag', 'hour_home', 'miss', 'feel', 'money', 'bank', 'lake', 'play', 'strategi', 'varieti', 'base_salari', 'famili_orient', 'collect', 'temp', 'distribut', 'nurs', 'garden', 'take', 'exist', 'even', 'bank_america', 'broker', 'add', 'neg', '30_min_lunch', 'tour', 'special', 'credo', 'colleagu', 'manag_pay_benefit', 'digit', 'workforc', 'telecommut', 'evolv', 'entri_level', 'warehous', 'holder', 'break_healthcar', 'loos', 'pay_better', 'snack', 'pay_advanc', 'mortgag_industri', 'spot', 'effici', 'size', 'constantli', 'contribut', 'stone', 'break_lunch', 'shift', 'manipul', 'visibl', 'ethic', 'actual', 'live', 'fast_pace', 'hour_compens', 'commiss', 'neighborhood', 'model', 'vehicl', 'keep', 'manag', 'partner', 'lot_overtim', 'stabl', 'pay_low', 'correctli', 'hope', 'manag_benefit', 'directli', 'pro', 'pay_retail', 'hard', 'weekend_month', 'por', 'complet', 'highli', 'time_holiday', 'wait', 'recent', 'zone', 'specialist', 'minimum', 'disabl', 'theyll', 'social', 'subject', 'vacat_benefit', 'commis', 'fellow', 'offici', 'major_holiday', 'differ', 'secur_pay', 'ongo', 'design', 'natur', 'wish', 'stay', 'sometim', 'intern_travel', 'benefit_manag', 'request', 'sight', 'deliv', 'incom', 'start_wage', 'team_cultur', 'coordin', 'school', 'easier', 'period', 'specif', 'payrol', 'bonus', 'temperatur', 'observ', 'teach', 'short_hour', 'nimbl', 'goe', 'rank', 'channel', 'free', 'time_hour', 'commun_skill', 'store_discount', 'profession_growth', 'headquart', 'normal', 'ahead', 'input', 'perk', 'off', 'focus', 'cultur_worklif', 'mission', 'bad', 'guest', 'valu_employe', 'reput', 'laid', 'benefit_break', 'food', 'busi_day', 'employe_recognit', 'there', 'break_8_hour', 'volunt', 'train_support', 'minut', 'bit', 'sound', 'depart', 'territori', 'wide', 'think', 'fresh', 'met', 'paid_holiday', 'author', 'anthem', 'offer', 'caller', 'aircondit', 'love', 'rise', 'health_coverag', 'life_balanc_opportun', 'relax', 'roll', 'schedul_break', 'hoilday', 'payment', 'friend', 'quit', 'rush', 'hassl', 'pay', 'degre', 'lol', 'renew', 'cooper', 'lose', 'time_home', 'manag_co_worker', 'pay_advanc_opportun', 'light', 'notic', 'benefit_commiss', 'health_care', 'pace', 'make', 'comput', 'drink', 'open', 'insent', 'chase', 'histori', 'facil', 'chang', 'lunch_break_hour', 'out', 'nearli', 'fund', 'cash', 'govern', 'licens', 'wise', 'pack', 'compens_plan', 'challeng', 'luch', 'complic', 'attitud', 'commit', 'lot_opportun', 'player', 'satellit', 'addit', 'directv', 'demand', 'merchandis', 'rid', 'environ_manag', 'test', 'despit', 'cheap', 'busi_time', 'hour_paid', 'meaning', 'will', 'advanc', 'climat_control', 'resolut', 'home_base', 'count', 'corpor', 'excel_benefit', 'costum', 'care_employe', 'eight', 'short_break', 'coupl', 'secur_benefit', 'cardin', 'help', 'satisfi', 'watch', 'health_insur_401k', 'result', 'firm', 'min_lunch_break', 'career_path', 'onsit', 'hora', 'underwrit', 'server', 'matter', 'hair', 'idea', 'morn_shift', 'card', 'pass', 'bank_industri', 'student', 'finish', 'support_staff', 'flexibl_schedul', 'middl', 'phoenix', 'short_shift', 'meet', 'hour_fast', 'career_develop', 'environ_time', 'break_10', 'chemic', 'worker_manag', 'help_peopl', 'union_employe', 'shift_schedul', 'free_soda', 'minimum_wage', 'oil', 'crazi', 'hour_overtim', 'uaw', 'discount_employe', 'know', 'fast_pace_environ', 'restroom', 'hour_week', 'oversea', 'bid', 'shift_pay', 'transfer', 'dollar', 'day_shift', 'instead', 'defens', 'allow', 'accur', 'explain', 'yearli', 'lifestyl', 'benefit_low', 'break_15_min', 'bonus_pay', 'pharmaci', 'admin', 'effort', 'item', 'promo', 'excel', 'understand', 'store_level', 'minim', 'capit', 'decid', 'break_schedul', 'tri', 'refer', 'arent', 'cold', 'moral', 'quickli', 'childcar', 'god', 'wouldnt', 'mother', 'biweekli', '15_minut_break', 'fit', 'product_servic', 'aspect', 'till', 'sick_time', 'lunch_hour', 'presenc', 'shift_bid', 'get', 'plant', 'time_lunch', 'routin', 'refriger', 'minut_break_hour', 'regard', 'earn', 'role', 'deadlin', 'ensur', 'recogn', 'read', 'sign', 'manufactur', 'amount', 'name', 'clean', 'hundr', 'break_employe', 'insur_benefit', 'pay_incent', 'park', 'policyhold', 'poor', 'envirn', 'court', 'none', 'winter', 'choos', 'longterm', 'pay_union', 'credit', 'youv', 'avail', 'micro_manag', 'awar', 'expos', 'time_person', 'polic', 'stabil', 'walmart', 'truck', 'third', 'sale', 'schedul_day', 'univers', 'branch', 'best', 'postion', 'dental', 'round', 'caus', 'telephon', 'lax', 'jump', 'million', 'type', 'health_dental_vision', 'tier', 'reason', 'famili_friendli', 'freedom', 'health_care_benefit', 'scope', 'award', 'shown', 'red_card', 'smart_peopl', 'benefit_packag', 'wifi', 'arriv', 'crowd', 'five', 'ect', 'hour_manag', 'oblig', 'money_hour', 'assembl_line', 'dinner', 'custom_employe', 'rais_hour', 'accommod', 'care_benefit', 'jpmorgan', 'brought', 'matern', 'research', '1_hour_lunch', 'regist', 'accid', '10_minut_break', 'holiday_vacat', 'manag_opportun', 'drug', 'qualiti', 'breakroom', 'break_30', 'competitv', 'process', 'vend_machin', 'bar', 'hour_peopl', 'orient', 'lot_time', 'tie', 'workplac', 'trabajo', 'seek', 'lend', 'foreign', 'hr_week', 'chain', 'seriou', 'home_life', 'solut', 'function', 'passion', 'boss', 'financi', 'mail', 'soft', 'employe_manag', 'ive', 'flexabl', 'happi', 'tuition', 'acquir', 'motiv', 'offic_environ', 'accord', 'free_time', 'dull', 'market', 'paid_vacat', 'littl', 'sit', 'advanc_peopl', 'regulatori', 'interact', 'supervisor', 'wage', 'clearli', 'lot_opportun_advanc', 'environ_hour', 'opportun_promot', 'exampl', 'thrive', 'pepsi', 'personnel', 'microsoft', 'ford_motor', 'flexibl_life', 'stack', 'previou', 'own', 'insur', 'ton', 'base_pay', 'schedul', 'que', 'retir_packag', 'workweek', 'tend', 'guid', 'stock_option', 'applianc', 'polici', 'competit', 'safe', 'benefit_employe', 'sunday', 'health_insur_benefit', 'run', 'compress_week', 'buse', '30_minut_break', 'hot', 'site', 'night_shift', 'day_weekend', 'break_1', 'time', 'learn_curv', 'achiev', 'rais', 'drop', 'bank_center', 'pay_worklif', 'bring', 'campu', 'fast_pace_time', 'embrac', 'organiz', 'nation', 'agil', 'manag_commun', 'aerospac', 'contractor', 'window', 'time_peopl', 'water', 'benefit_hour', 'bay', 'manag_lot', 'medicin', 'salari_manag', 'set_schedul', 'public', 'holiday', 'challang', 'manag_support', 'hub', 'measur', 'gift', 'time_benefit', 'ate', 'legal', 'parti', 'extens', 'glove', 'step', 'hourli_rate', 'post', 'lot', 'lost', 'peak_season', 'autom', 'sale_goal', 'hand', 'pay_lunch', 'workhom', 'occasion', 'store_manag', 'career', 'build', 'guarante_hour', 'except', 'engag', 'manag_team', 'break', 'discount_ge_product', 'schedual', 'flexibl_hour', 'toward', 'pay_life_balanc', 'succeed', 'advanc_opportun', 'due', 'deal', 'upward_mobil', 'excel_health_care', 'meal', 'citi', 'etc', 'dont', '8_hour_day', 'holiday_time', 'benefit_time', 'perman', 'benefit_overtim', 'york', 'enrol', 'kid', 'reciev', 'accomplish', 'help_custom', 'son', 'minut_break', 'massiv', 'micro', 'rule', 'train_peopl', 'empti', 'goal', 'foot', 'entir', 'class', 'cross', 'benfit', 'bill', '4_hour_shift', 'home_time', 'period_time', 'qualif', 'vari', 'pay_short', 'guy', 'pay_healthcar', 'network', 'updat', 'utc', 'consum', 'advantag', 'readi', 'appropri', 'break_manag', 'solo', 'weight', 'seat', 'altern', 'hour_lot', 'saturday', 'self', 'coverag', 'career_opportun', 'overtim_pay', 'independ', 'credit_card', '30_minut_lunch', 'proactiv', 'line', 'see', 'spread', 'develop', 'sick_leav', '40_hour_week', 'equip', 'patient', 'mckesson', 'speed', 'migrat', 'move', 'better_pay', 'decis', 'target', 'privat', 'launch', 'envior', 'corner', 'gear', 'short', 'micromanag', 'mediocr', 'teamwork', 'simpl', 'conveni', 'consider', 'abil', 'signific', 'lot_employe', 'locker', 'strict', 'leader', 'tax', 'grant', 'hat', 'marketplac', 'overtim_hour', 'referr', 'mandatori_overtim', 'corp', 'develop_program', 'servic', 'profit', 'pleas', 'scale', 'commun', 'gener', 'carri', 'bodi', 'manag_store', 'report', 'coke', 'book', 'concern', 'leav', 'valu', 'benifit', 'encourag', 'shuttl', 'close', 'superior', 'charlott', 'benefit_lunch', 'recognit', 'follow', 'pay_health_benefit', 'corpor_cultur', 'supervis', 'folk', 'cultur_life_balanc', 'break_4_hour', 'represent', 'opportunti', 'schedul_manag', 'workload', 'date', 'fun', 'bathroom', 'deliveri', 'free_lunch', 'cowork', 'won', 'balanc_pay', 'current', 'accomod', 'basic', 'clinic', 'industri', 'tell', 'insid', 'militari', 'badg', 'els', 'quick', 'parttim', 'short_term', 'discount_store', 'engin', 'cross_train', 'driver', 'treat', 'door', 'head', 'snow', 'probabl', 'director', 'rate_pay', 'separ', 'employe', 'custom_servic', 'thier', 'that', 'percent', 'tast', 'perfect', 'log', 'bakeri', 'return', 'success', 'rang', 'talent', 'train_manag', 'comcast', 'balanc_benefit', 'cubicl', 'technolog', 'whenev', 'amongst', 'matern_leav', 'inventori', 'throughout', 'worker', 'consist', 'transact', 'season', 'upper_manag', 'oil_ga', 'profess', 'hour_day', 'peopl_manag', 'elderli', 'machineri', 'honest', 'excit', 'easi', 'find', 'slow', 'standard', 'metric', 'benefit_health', 'america', 'custom_manag', 'club', 'weekli', 'hourli_pay', 'lock', 'heart', 'lower_level', 'secur', 'ceo', 'surviv', 'mileag', 'includ', 'dental_vision', 'opportun_growth', 'pay_rate', 'town', 'medic_benefit', 'cloud', 'peopl', 'platform', 'appoint', 'opportun_career', 'autonomi', 'worri', 'pace_time', 'turnaround', 'leadership_program', 'smoke', 'flow', 'picnic', 'pay_benefit', 'mind', 'pool', 'famili_time', 'pay_secur', 'oppurtun', 'core', 'tool', 'lab', 'practic', 'pay_manag', 'float', 'health_benefit', 'menu', 'forward', 'administr', 'assign', 'repres', 'start', 'merit', 'plan', 'cafe', 'staf', 'user', 'team_leader', 'infrastructur', 'advisor', 'clientel', 'dept', 'fedex', 'benefit_temp', 'glass', 'team_lead', 'equal', 'push', 'setup', 'kitchen', 'chevron', 'hour_weekend', 'chanc_advanc', 'trajectori', 'peopl_cultur', 'par', 'mall', 'outstand', 'rest', 'wasnt', 'break_15_minut', 'focu', 'emphasi', 'whatev', 'thirti', 'mean', 'paperwork', 'steadi', 'transform', 'produc', 'timer', 'doctor', 'fed_ex', 'titl', 'reach', 'near', 'shape', 'done', 'method', 'intens', 'begin', 'prepar', 'entri', 'benefit_short', 'learn', 'healthi', 'overal', 'center', 'offer_home', 'comiss', 'team_environ', 'street', 'support', 'chanc', 'flexibl_manag', 'event', 'fee', 'transport', 'pay_insur', 'bonu', 'paid_sick', 'somewhat', 'contract', 'union', 'eye', 'pay_check', 'spend_time', 'visit', 'mgmt', 'left', 'walk', 'unpaid', 'pocket', 'muscl', 'tabl', 'serv', 'mid', 'balanc_secur', 'requir', 'six', 'day_day', 'cent', 'kind', 'food_court', 'sale_manag', 'sort', 'arrang', 'ceil', 'metlif', 'help_manag', 'day_hour', 'path', 'cool', 'fair', 'schedul_flexibl', 'life_balanc_manag', 'face', 'short_day', 'seen', 'institut', 'volum', 'cabl', 'team_manag', 'fill', 'built', 'bother', 'free_health', '15_min_break', 'environ_cultur', 'limit', 'workday', 'temporari_employe', 'repair', 'health_dental', 'save', 'person_time', 'exclus', 'initi', 'toler', 'dell', 'inclement', 'track', 'solv', 'record', 'consist_schedul', 'bottom', 'pay_bad', 'sick_day', 'automot', 'break_overtim', 'start_pay', 'break_lot', 'style', 'power', 'ill', 'benefit', 'vast', 'factori', 'time_time', 'continu_educ', 'buck', 'throw', 'claim', 'direct', 'hour_avail', 'appl', 'thorough', 'task', 'safeti', 'manag_train', 'reimburs', 'sweat', 'train_advanc', 'surround', 'manag_friendli', 'auto_industri', 'data', 'hour_flexibl', 'come', 'health_plan', 'organ', 'hour', 'form', 'pay_hard', 'loyalti', 'cafeteria_food', 'salari_compens', 'familiar', 'loan', 'depend', 'beak', 'product_employe', 'child', 'rotat', 'transpar', 'werent', 'greatli', 'sector', 'sens', 'floor', 'wear', 'pay_scale', 'break_8', 'negoti', 'time_break', 'lot_peopl', 'attent', 'manner', 'sleep', 'treat_employe', 'product', 'mark', 'paper', 'prudenti', 'ago', 'employe_friendli', 'hardwar', 'uniform', 'commiss_structur', 'shop', 'time_health', 'fix', 'fuel', 'integr', 'frequent', 'pay_peopl', 'ran', 'sourc', 'travel', 'excess', 'injuri', 'paid_time', 'stretch', 'law', 'prize', 'christma', 'hard_worker', 'interview', 'fire', 'disciplin', 'approach', 'downtown', 'health_insur', 'growth_opportun', 'fte', 'profit_share', 'enviorn', 'consult', 'farm', 'con', 'driven', 'worth', 'lot_travel', 'pace_environ', 'paid_holiday_vacat', 'shutdown', 'outsid', 'benefit_time_employe', 'outlook', 'vacat_time', 'green', 'staff', 'pay_minimum', 'rehir', 'cloth', 'principl', 'benefit_union', 'peak', 'chair', 'improv', 'mix', 'doesnt', 'term', 'lunch_break', 'cultur_life', 'employe_appreci', 'suffici', 'control', 'key', 'music', 'pay_benifit', 'address', 'base', 'rep', 'retent', 'match', 'adapt', 'incent', 'purchas', 'expand', 'team', 'revenu', 'rare', 'fulltim', 'figur', 'labor', 'spring', 'cultur', 'sever', 'action', 'person_growth', 'rout', 'deposit', 'option', 'put', 'pay_employe', 'home_depot', 'coffe', 'salari_benefit', 'satisfactori', 'creat', 'pay_time', 'believ', 'peac', 'lunch_time', 'hour_shift', 'unfortun', 'weather', 'handl', 'drive', 'realist', 'hour_schedul', 'futur', 'prefer', 'environ', 'apart', 'employess', 'opportun_advanc', 'contact', 'forc', 'minut_lunch_break', 'nice', 'boe', 'manag_time', 'divers', 'script', 'houston', 'call', 'matur', 'comp', 'confid', '45_min_lunch', 'absolut', 'level', 'enforc', 'guarante', 'pay_commiss', 'pickup', 'bonu_structur', 'desir', 'cart', 'guidelin', 'time_famili', 'differ_depart', 'trip', 'career_growth', 'balanc_life', 'multi', 'owner', 'subway', 'lack', 'life_insur', 'googl', 'object', 'offic', 'write', 'command', 'past', 'elig', 'complex', 'free_food', 'healthcar_benefit', 'wife', 'manag_environ', 'pharmacist', 'phone', 'overnight', 'unless', 'break_4', 'daili', 'client', 'plenti', 'life_balanc', 'relationship', 'contributor', 'shortag', 'insan', 'remov', 'fork', 'lunch_pay', 'opportun_grow', 'wonder', 'held', 'final', 'manag_compens', 'space', 'flexibl_life_balanc', 'onlin', 'rel', 'restrict', 'salari', 'benefit_timer', 'set_hour', 'intel', 'min_lunch', 'extern', 'cashier', 'immedi', 'medicar', 'maintain', 'behavior', 'fanni', 'reli', 'board', 'direct_manag', 'pressur', 'abl_help', 'feet', 'pressur_sale', 'outdoor', 'especi', 'hour_health', 'look', 'gym', 'tight', 'allot', 'rememb', 'att', 'program', 'background', 'screen', 'schedul_time', 'random', 'human', 'temporari', 'procedur', 'start_time', 'afternoon', 'cardin_health', 'night', 'quarter', 'involv', 'nyc', 'ibm', 'popular', 'cafeteria', 'qualifi', '10_hour_day', 'compens_packag', 'insur_pay', 'everyday', 'depot', 'motor', 'meet_goal', 'cook', 'low', 'empresa', '45_minut_lunch', 'pay_opportun', 'eat', 'growth', 'lower', 'premium', 'supplier', 'alot', 'healthcar_pay', 'paid', 'potenti', 'bond', 'train', 'defin', 'morn', 'dog', 'brake', 'found', 'restaur', 'internet', 'mate', 'cap', 'hsa', 'project', 'util', 'hour_time', 'starbuck', 'financ', 'prioriti', 'certain', 'averag', 'lifework', 'turnov', 'holiday_pay', 'boa', 'lot_money', 'access', 'manag_life_balanc', 'breath', 'aircraft', 'overtim', 'terribl', 'stay_busi', 'dupont', 'confin', 'product_line', 'cohes', 'purpos', 'treatment', 'senior_manag', 'valuabl', 'care_manag', 'manag_staff', 'fmla', 'pension', 'breakslunch', 'differenti', 'remot', 'primarili', 'faster', 'tough', 'break_1_hour', 'competit_salari', 'pay_hour', 'cater', 'huge', 'hour_discount', 'citibank', 'schdule', 'confer', 'flexibl', 'select', 'aggress', 'account', 'mental', 'airplan', 'late', 'heathcar', 'benefit_offer', 'technician', 'deal_custom', 'adequ', 'spend', 'compens_manag', 'pay_worklif_balanc', 'cowork_manag', 'break_2', 'depend_manag', 'stand', 'opportun_career_growth', 'flex', 'ten', 'truli', 'worklif_balanc_manag', 'annual_review', '30_min_break', 'heat', 'polit', 'lean', 'particular', 'schedul_worklif_balanc', 'mgr', 'zero', 'concept', 'break_lunch_time', 'avoid', 'smart', 'insur_dental', 'toe', 'custom_base', 'variou', 'ford', 'meritocraci', 'system', 'main', 'heavili', 'balanc_cultur', 'hour_lunch_break', 'error', 'dynam', 'coach', 'climat', 'break_hour', 'budget', 'pay_overtim', 'diem', 'benefit_vacat', 'moment', 'time_opportun', 'satisfact', 'easili', 'check', 'super', 'pay_structur', 'busi_season', 'lead', 'air', 'hold', 'experi', 'lunch_manag', 'inhous', 'clock', 'auto', 'attend', 'duti', 'knowledg', 'compens_benefit', 'express', 'sold', 'vend', 'adjust', 'quick_pace', 'manageri', 'hit', 'somtim', 'cover', 'suppli', 'kroger', 'hour_pay', 'break_benefit', 'call_center', 'softwar', 'session', 'groceri', 'real', 'redcard', 'healthcar', 'enter', 'review', 'compani', 'black', 'care', 'condit', 'employe_custom', 'pay_lot', 'detail', 'particip', 'manag_worklif_balanc', 'mentor', 'document', 'quota', 'creativ', 'train_class', 'approv', 'midlevel', 'train_program', 'switch', 'overcom', 'discount_ge', 'monday', 'vest', 'costco', 'possibl', 'membership', 'opportun', 'competit_pay', 'manag_cowork', 'length', 'awesom', 'hour_hour', 'reliabl', 'pay_pay', 'world', 'skill', 'straight', 'profession', 'opportun_move', 'larger', 'energi', 'don', 'friendli', 'okay', 'inclus', 'qualiti_life', 'individu', 'break_30_minut', 'deduct', 'schedul_hour', 'break_pay', 'transit', 'dtv', 'eventu', 'commiss_pay', 'half', 'hang', 'schedul_pay', 'regularli', 'perform_review', 'support_manag', 'decent', 'person_life', 'exercis', 'internship', 'grade', 'evalu', 'risk', 'instor', 'randomli', 'agenc', 'upward', 'mgt', 'abil_move', 'resid', 'emerg', 'benefit_advanc', 'co_worker', 'fast', 'muy', 'critic', 'monitor', 'growth_potenti', 'leadership', 'forev', 'punch', 'emc', 'discount', 'relat', 'pay_life', 'pay_employe_discount', 'respect', 'custom_pay', 'materi', 'pay_industri', 'dispatch', 'increas', 'mechan', 'oper', 'physic', 'kept', 'sea', 'heavi', 'buis', 'hotel', 'repet', 'graduat', 'use', 'dress', 'receiv', 'retail', 'warm', 'day_vacat', 'huddl', 'balanc', 'manag_pay', 'mile', 'half_hour', 'send', 'weekend_holiday', 'emplye', 'seri', 'min_break', 'suck', 'singl', 'feedback', 'stress', 'honor', 'cultur_manag', 'countri', 'provid', 'teller', 'question', 'weekend', 'nonmanag', 'cost', 'smell', 'progress', 'parent', 'place', 'trainer', 'suit', 'extend', 'issu', 'virtual', 'break_free', 'conduct', 'workout', 'custom_interact', 'front', 'manag_employe', 'appli', 'time_pay', 'slightli', 'extrem', 'mac', 'share']\n"
     ]
    }
   ],
   "source": [
    "pro_terms = df_pro[df_pro.topic == 1][\"term\"].values.tolist()\n",
    "con_terms = df_con[df_con.topic == 1][\"term\"].values.tolist()\n",
    "\n",
    "pro_con = list(set(pro_terms) & set(con_terms))\n",
    "print(len(pro_con))\n",
    "print(pro_con)"
   ]
  },
  {
   "cell_type": "code",
   "execution_count": 3,
   "metadata": {},
   "outputs": [],
   "source": [
    "df_pro1 = df_pro.loc[df_pro['term'].isin(pro_con)]\n",
    "df_con1 = df_con.loc[df_con['term'].isin(pro_con)]"
   ]
  },
  {
   "cell_type": "code",
   "execution_count": 8,
   "metadata": {},
   "outputs": [
    {
     "data": {
      "text/html": [
       "<div>\n",
       "<style scoped>\n",
       "    .dataframe tbody tr th:only-of-type {\n",
       "        vertical-align: middle;\n",
       "    }\n",
       "\n",
       "    .dataframe tbody tr th {\n",
       "        vertical-align: top;\n",
       "    }\n",
       "\n",
       "    .dataframe thead th {\n",
       "        text-align: right;\n",
       "    }\n",
       "</style>\n",
       "<table border=\"1\" class=\"dataframe\">\n",
       "  <thead>\n",
       "    <tr style=\"text-align: right;\">\n",
       "      <th></th>\n",
       "      <th>topic</th>\n",
       "      <th>term</th>\n",
       "      <th>beta</th>\n",
       "    </tr>\n",
       "  </thead>\n",
       "  <tbody>\n",
       "    <tr>\n",
       "      <th>26</th>\n",
       "      <td>1</td>\n",
       "      <td>1_hour_lunch</td>\n",
       "      <td>6.593800e-160</td>\n",
       "    </tr>\n",
       "    <tr>\n",
       "      <th>27</th>\n",
       "      <td>2</td>\n",
       "      <td>1_hour_lunch</td>\n",
       "      <td>4.077190e-131</td>\n",
       "    </tr>\n",
       "    <tr>\n",
       "      <th>28</th>\n",
       "      <td>3</td>\n",
       "      <td>1_hour_lunch</td>\n",
       "      <td>6.856420e-180</td>\n",
       "    </tr>\n",
       "    <tr>\n",
       "      <th>29</th>\n",
       "      <td>4</td>\n",
       "      <td>1_hour_lunch</td>\n",
       "      <td>1.592407e-158</td>\n",
       "    </tr>\n",
       "    <tr>\n",
       "      <th>30</th>\n",
       "      <td>5</td>\n",
       "      <td>1_hour_lunch</td>\n",
       "      <td>4.106505e-165</td>\n",
       "    </tr>\n",
       "  </tbody>\n",
       "</table>\n",
       "</div>"
      ],
      "text/plain": [
       "    topic          term           beta\n",
       "26      1  1_hour_lunch  6.593800e-160\n",
       "27      2  1_hour_lunch  4.077190e-131\n",
       "28      3  1_hour_lunch  6.856420e-180\n",
       "29      4  1_hour_lunch  1.592407e-158\n",
       "30      5  1_hour_lunch  4.106505e-165"
      ]
     },
     "execution_count": 8,
     "metadata": {},
     "output_type": "execute_result"
    }
   ],
   "source": [
    "df_pro1.head()"
   ]
  },
  {
   "cell_type": "code",
   "execution_count": 9,
   "metadata": {},
   "outputs": [
    {
     "data": {
      "text/plain": [
       "(54496, 3)"
      ]
     },
     "execution_count": 9,
     "metadata": {},
     "output_type": "execute_result"
    }
   ],
   "source": [
    "df_pro1.shape"
   ]
  },
  {
   "cell_type": "code",
   "execution_count": null,
   "metadata": {},
   "outputs": [],
   "source": []
  }
 ],
 "metadata": {
  "kernelspec": {
   "display_name": "Python 3",
   "language": "python",
   "name": "python3"
  },
  "language_info": {
   "codemirror_mode": {
    "name": "ipython",
    "version": 3
   },
   "file_extension": ".py",
   "mimetype": "text/x-python",
   "name": "python",
   "nbconvert_exporter": "python",
   "pygments_lexer": "ipython3",
   "version": "3.7.6"
  }
 },
 "nbformat": 4,
 "nbformat_minor": 2
}
