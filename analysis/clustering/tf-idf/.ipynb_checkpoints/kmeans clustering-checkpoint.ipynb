{
 "cells": [
  {
   "cell_type": "code",
   "execution_count": 1,
   "metadata": {
    "scrolled": true
   },
   "outputs": [
    {
     "data": {
      "text/html": [
       "<div>\n",
       "<style scoped>\n",
       "    .dataframe tbody tr th:only-of-type {\n",
       "        vertical-align: middle;\n",
       "    }\n",
       "\n",
       "    .dataframe tbody tr th {\n",
       "        vertical-align: top;\n",
       "    }\n",
       "\n",
       "    .dataframe thead th {\n",
       "        text-align: right;\n",
       "    }\n",
       "</style>\n",
       "<table border=\"1\" class=\"dataframe\">\n",
       "  <thead>\n",
       "    <tr style=\"text-align: right;\">\n",
       "      <th></th>\n",
       "      <th>Unnamed: 0</th>\n",
       "      <th>Ratings</th>\n",
       "      <th>Job_Status</th>\n",
       "      <th>Reviewed_Year</th>\n",
       "      <th>Review_Text</th>\n",
       "      <th>Px_Texts</th>\n",
       "      <th>Tknz_Texts</th>\n",
       "      <th>Doc_Length</th>\n",
       "      <th>Work_Life</th>\n",
       "      <th>Benefits</th>\n",
       "      <th>Job_Advancement</th>\n",
       "      <th>Management</th>\n",
       "      <th>Culture</th>\n",
       "      <th>Company_Index</th>\n",
       "      <th>Company_Name</th>\n",
       "    </tr>\n",
       "  </thead>\n",
       "  <tbody>\n",
       "    <tr>\n",
       "      <th>0</th>\n",
       "      <td>0</td>\n",
       "      <td>2.0</td>\n",
       "      <td>1</td>\n",
       "      <td>2017</td>\n",
       "      <td>hour lunch, friendly co-workers.</td>\n",
       "      <td>cowork friendli hour lunch friendli_cowork hou...</td>\n",
       "      <td>['cowork', 'friendli', 'hour', 'lunch', 'frien...</td>\n",
       "      <td>9</td>\n",
       "      <td>3.0</td>\n",
       "      <td>2.0</td>\n",
       "      <td>2.0</td>\n",
       "      <td>1.0</td>\n",
       "      <td>3.0</td>\n",
       "      <td>1</td>\n",
       "      <td>Walmart</td>\n",
       "    </tr>\n",
       "    <tr>\n",
       "      <th>1</th>\n",
       "      <td>1</td>\n",
       "      <td>3.0</td>\n",
       "      <td>1</td>\n",
       "      <td>2015</td>\n",
       "      <td>benefits, Medical, dental, myshare, 401k, stocks</td>\n",
       "      <td>benefit dental medic myshar stock</td>\n",
       "      <td>['benefit', 'dental', 'medic', 'myshar', 'stock']</td>\n",
       "      <td>5</td>\n",
       "      <td>3.0</td>\n",
       "      <td>4.0</td>\n",
       "      <td>4.0</td>\n",
       "      <td>3.0</td>\n",
       "      <td>3.0</td>\n",
       "      <td>1</td>\n",
       "      <td>Walmart</td>\n",
       "    </tr>\n",
       "    <tr>\n",
       "      <th>2</th>\n",
       "      <td>2</td>\n",
       "      <td>2.0</td>\n",
       "      <td>0</td>\n",
       "      <td>2012</td>\n",
       "      <td>discount card . schedule 3 on 3 off</td>\n",
       "      <td>card discount schedul discount_card</td>\n",
       "      <td>['card', 'discount', 'schedul', 'discount_card']</td>\n",
       "      <td>4</td>\n",
       "      <td>1.0</td>\n",
       "      <td>4.0</td>\n",
       "      <td>3.0</td>\n",
       "      <td>1.0</td>\n",
       "      <td>3.0</td>\n",
       "      <td>1</td>\n",
       "      <td>Walmart</td>\n",
       "    </tr>\n",
       "    <tr>\n",
       "      <th>3</th>\n",
       "      <td>3</td>\n",
       "      <td>4.0</td>\n",
       "      <td>0</td>\n",
       "      <td>2017</td>\n",
       "      <td>good break lengths and plenty of hours</td>\n",
       "      <td>break hour length plenti plenti_hour</td>\n",
       "      <td>['break', 'hour', 'length', 'plenti', 'plenti_...</td>\n",
       "      <td>5</td>\n",
       "      <td>4.0</td>\n",
       "      <td>3.0</td>\n",
       "      <td>3.0</td>\n",
       "      <td>4.0</td>\n",
       "      <td>4.0</td>\n",
       "      <td>1</td>\n",
       "      <td>Walmart</td>\n",
       "    </tr>\n",
       "    <tr>\n",
       "      <th>4</th>\n",
       "      <td>4</td>\n",
       "      <td>1.0</td>\n",
       "      <td>1</td>\n",
       "      <td>2016</td>\n",
       "      <td>My pay was good and my schedule allowed me to ...</td>\n",
       "      <td>allow job pay schedul pay_schedul</td>\n",
       "      <td>['allow', 'job', 'pay', 'schedul', 'pay_schedul']</td>\n",
       "      <td>5</td>\n",
       "      <td>3.0</td>\n",
       "      <td>3.0</td>\n",
       "      <td>1.0</td>\n",
       "      <td>1.0</td>\n",
       "      <td>1.0</td>\n",
       "      <td>1</td>\n",
       "      <td>Walmart</td>\n",
       "    </tr>\n",
       "    <tr>\n",
       "      <th>5</th>\n",
       "      <td>5</td>\n",
       "      <td>5.0</td>\n",
       "      <td>0</td>\n",
       "      <td>2015</td>\n",
       "      <td>Meeting new people, making new friends</td>\n",
       "      <td>friend meet peopl meet_peopl</td>\n",
       "      <td>['friend', 'meet', 'peopl', 'meet_peopl']</td>\n",
       "      <td>4</td>\n",
       "      <td>5.0</td>\n",
       "      <td>2.0</td>\n",
       "      <td>5.0</td>\n",
       "      <td>3.0</td>\n",
       "      <td>5.0</td>\n",
       "      <td>1</td>\n",
       "      <td>Walmart</td>\n",
       "    </tr>\n",
       "  </tbody>\n",
       "</table>\n",
       "</div>"
      ],
      "text/plain": [
       "   Unnamed: 0  Ratings  Job_Status  Reviewed_Year  \\\n",
       "0           0      2.0           1           2017   \n",
       "1           1      3.0           1           2015   \n",
       "2           2      2.0           0           2012   \n",
       "3           3      4.0           0           2017   \n",
       "4           4      1.0           1           2016   \n",
       "5           5      5.0           0           2015   \n",
       "\n",
       "                                         Review_Text  \\\n",
       "0                   hour lunch, friendly co-workers.   \n",
       "1   benefits, Medical, dental, myshare, 401k, stocks   \n",
       "2                discount card . schedule 3 on 3 off   \n",
       "3             good break lengths and plenty of hours   \n",
       "4  My pay was good and my schedule allowed me to ...   \n",
       "5             Meeting new people, making new friends   \n",
       "\n",
       "                                            Px_Texts  \\\n",
       "0  cowork friendli hour lunch friendli_cowork hou...   \n",
       "1                benefit dental medic myshar stock     \n",
       "2               card discount schedul discount_card    \n",
       "3              break hour length plenti plenti_hour    \n",
       "4                 allow job pay schedul pay_schedul    \n",
       "5                      friend meet peopl meet_peopl    \n",
       "\n",
       "                                          Tknz_Texts  Doc_Length  Work_Life  \\\n",
       "0  ['cowork', 'friendli', 'hour', 'lunch', 'frien...           9        3.0   \n",
       "1  ['benefit', 'dental', 'medic', 'myshar', 'stock']           5        3.0   \n",
       "2   ['card', 'discount', 'schedul', 'discount_card']           4        1.0   \n",
       "3  ['break', 'hour', 'length', 'plenti', 'plenti_...           5        4.0   \n",
       "4  ['allow', 'job', 'pay', 'schedul', 'pay_schedul']           5        3.0   \n",
       "5          ['friend', 'meet', 'peopl', 'meet_peopl']           4        5.0   \n",
       "\n",
       "   Benefits  Job_Advancement  Management  Culture  Company_Index Company_Name  \n",
       "0       2.0              2.0         1.0      3.0              1      Walmart  \n",
       "1       4.0              4.0         3.0      3.0              1      Walmart  \n",
       "2       4.0              3.0         1.0      3.0              1      Walmart  \n",
       "3       3.0              3.0         4.0      4.0              1      Walmart  \n",
       "4       3.0              1.0         1.0      1.0              1      Walmart  \n",
       "5       2.0              5.0         3.0      5.0              1      Walmart  "
      ]
     },
     "metadata": {},
     "output_type": "display_data"
    },
    {
     "name": "stdout",
     "output_type": "stream",
     "text": [
      "(33624, 15)\n"
     ]
    }
   ],
   "source": [
    "import pandas as pd\n",
    "import numpy as np\n",
    "\n",
    "proFilePath = \"~/Desktop/R_js/data/pro_doc_sampled.csv\"\n",
    "df = pd.read_csv(proFilePath)\n",
    "display(df.head(6))\n",
    "print(df.shape)"
   ]
  },
  {
   "cell_type": "code",
   "execution_count": 2,
   "metadata": {},
   "outputs": [
    {
     "name": "stdout",
     "output_type": "stream",
     "text": [
      "14894\n"
     ]
    }
   ],
   "source": [
    "# Form Corpus\n",
    "corpus = df.Px_Texts.tolist()\n",
    "\n",
    "# Checking total number of unique words in the corpus\n",
    "a = ' '.join(sent for sent in corpus)\n",
    "a = a.split(\" \")\n",
    "a = list(set(a))\n",
    "print(len(a))"
   ]
  },
  {
   "cell_type": "markdown",
   "metadata": {},
   "source": [
    "## Need not run this again"
   ]
  },
  {
   "cell_type": "code",
   "execution_count": 3,
   "metadata": {},
   "outputs": [
    {
     "name": "stdout",
     "output_type": "stream",
     "text": [
      "(33624, 14889)\n"
     ]
    }
   ],
   "source": [
    "# Tfidf Vectorizer\n",
    "from sklearn.feature_extraction.text import TfidfVectorizer\n",
    "vectorizer = TfidfVectorizer()\n",
    "tfidf = vectorizer.fit_transform(corpus)\n",
    "# print(vectorizer.get_feature_names())\n",
    "print(tfidf.shape)"
   ]
  },
  {
   "cell_type": "code",
   "execution_count": 4,
   "metadata": {},
   "outputs": [],
   "source": [
    "# KMeans Clustering\n",
    "\n",
    "from sklearn.cluster import KMeans\n",
    "\n",
    "num_cluster = 8 \n",
    "kmeans = KMeans(n_clusters=8).fit(tfidf)"
   ]
  },
  {
   "cell_type": "markdown",
   "metadata": {},
   "source": [
    "# Optimal Number of Clusters"
   ]
  },
  {
   "cell_type": "code",
   "execution_count": 6,
   "metadata": {},
   "outputs": [
    {
     "ename": "KeyboardInterrupt",
     "evalue": "",
     "output_type": "error",
     "traceback": [
      "\u001b[0;31m---------------------------------------------------------------------------\u001b[0m",
      "\u001b[0;31mKeyboardInterrupt\u001b[0m                         Traceback (most recent call last)",
      "\u001b[0;32m<ipython-input-6-4898190fb99a>\u001b[0m in \u001b[0;36m<module>\u001b[0;34m\u001b[0m\n\u001b[1;32m      4\u001b[0m \u001b[0;32mfor\u001b[0m \u001b[0mk\u001b[0m \u001b[0;32min\u001b[0m \u001b[0mK\u001b[0m\u001b[0;34m:\u001b[0m\u001b[0;34m\u001b[0m\u001b[0;34m\u001b[0m\u001b[0m\n\u001b[1;32m      5\u001b[0m     \u001b[0mkm\u001b[0m \u001b[0;34m=\u001b[0m \u001b[0mKMeans\u001b[0m\u001b[0;34m(\u001b[0m\u001b[0mn_clusters\u001b[0m\u001b[0;34m=\u001b[0m\u001b[0mk\u001b[0m\u001b[0;34m)\u001b[0m\u001b[0;34m\u001b[0m\u001b[0;34m\u001b[0m\u001b[0m\n\u001b[0;32m----> 6\u001b[0;31m     \u001b[0mkm\u001b[0m \u001b[0;34m=\u001b[0m \u001b[0mkm\u001b[0m\u001b[0;34m.\u001b[0m\u001b[0mfit\u001b[0m\u001b[0;34m(\u001b[0m\u001b[0mtfidf\u001b[0m\u001b[0;34m)\u001b[0m\u001b[0;34m\u001b[0m\u001b[0;34m\u001b[0m\u001b[0m\n\u001b[0m\u001b[1;32m      7\u001b[0m     \u001b[0mssd\u001b[0m\u001b[0;34m.\u001b[0m\u001b[0mappend\u001b[0m\u001b[0;34m(\u001b[0m\u001b[0mkm\u001b[0m\u001b[0;34m.\u001b[0m\u001b[0minertia_\u001b[0m\u001b[0;34m)\u001b[0m\u001b[0;34m\u001b[0m\u001b[0;34m\u001b[0m\u001b[0m\n",
      "\u001b[0;32m/anaconda3/lib/python3.7/site-packages/sklearn/cluster/k_means_.py\u001b[0m in \u001b[0;36mfit\u001b[0;34m(self, X, y, sample_weight)\u001b[0m\n\u001b[1;32m    970\u001b[0m                 \u001b[0mtol\u001b[0m\u001b[0;34m=\u001b[0m\u001b[0mself\u001b[0m\u001b[0;34m.\u001b[0m\u001b[0mtol\u001b[0m\u001b[0;34m,\u001b[0m \u001b[0mrandom_state\u001b[0m\u001b[0;34m=\u001b[0m\u001b[0mrandom_state\u001b[0m\u001b[0;34m,\u001b[0m \u001b[0mcopy_x\u001b[0m\u001b[0;34m=\u001b[0m\u001b[0mself\u001b[0m\u001b[0;34m.\u001b[0m\u001b[0mcopy_x\u001b[0m\u001b[0;34m,\u001b[0m\u001b[0;34m\u001b[0m\u001b[0;34m\u001b[0m\u001b[0m\n\u001b[1;32m    971\u001b[0m                 \u001b[0mn_jobs\u001b[0m\u001b[0;34m=\u001b[0m\u001b[0mself\u001b[0m\u001b[0;34m.\u001b[0m\u001b[0mn_jobs\u001b[0m\u001b[0;34m,\u001b[0m \u001b[0malgorithm\u001b[0m\u001b[0;34m=\u001b[0m\u001b[0mself\u001b[0m\u001b[0;34m.\u001b[0m\u001b[0malgorithm\u001b[0m\u001b[0;34m,\u001b[0m\u001b[0;34m\u001b[0m\u001b[0;34m\u001b[0m\u001b[0m\n\u001b[0;32m--> 972\u001b[0;31m                 return_n_iter=True)\n\u001b[0m\u001b[1;32m    973\u001b[0m         \u001b[0;32mreturn\u001b[0m \u001b[0mself\u001b[0m\u001b[0;34m\u001b[0m\u001b[0;34m\u001b[0m\u001b[0m\n\u001b[1;32m    974\u001b[0m \u001b[0;34m\u001b[0m\u001b[0m\n",
      "\u001b[0;32m/anaconda3/lib/python3.7/site-packages/sklearn/cluster/k_means_.py\u001b[0m in \u001b[0;36mk_means\u001b[0;34m(X, n_clusters, sample_weight, init, precompute_distances, n_init, max_iter, verbose, tol, random_state, copy_x, n_jobs, algorithm, return_n_iter)\u001b[0m\n\u001b[1;32m    379\u001b[0m                 \u001b[0mverbose\u001b[0m\u001b[0;34m=\u001b[0m\u001b[0mverbose\u001b[0m\u001b[0;34m,\u001b[0m \u001b[0mprecompute_distances\u001b[0m\u001b[0;34m=\u001b[0m\u001b[0mprecompute_distances\u001b[0m\u001b[0;34m,\u001b[0m\u001b[0;34m\u001b[0m\u001b[0;34m\u001b[0m\u001b[0m\n\u001b[1;32m    380\u001b[0m                 \u001b[0mtol\u001b[0m\u001b[0;34m=\u001b[0m\u001b[0mtol\u001b[0m\u001b[0;34m,\u001b[0m \u001b[0mx_squared_norms\u001b[0m\u001b[0;34m=\u001b[0m\u001b[0mx_squared_norms\u001b[0m\u001b[0;34m,\u001b[0m\u001b[0;34m\u001b[0m\u001b[0;34m\u001b[0m\u001b[0m\n\u001b[0;32m--> 381\u001b[0;31m                 random_state=random_state)\n\u001b[0m\u001b[1;32m    382\u001b[0m             \u001b[0;31m# determine if these results are the best so far\u001b[0m\u001b[0;34m\u001b[0m\u001b[0;34m\u001b[0m\u001b[0;34m\u001b[0m\u001b[0m\n\u001b[1;32m    383\u001b[0m             \u001b[0;32mif\u001b[0m \u001b[0mbest_inertia\u001b[0m \u001b[0;32mis\u001b[0m \u001b[0;32mNone\u001b[0m \u001b[0;32mor\u001b[0m \u001b[0minertia\u001b[0m \u001b[0;34m<\u001b[0m \u001b[0mbest_inertia\u001b[0m\u001b[0;34m:\u001b[0m\u001b[0;34m\u001b[0m\u001b[0;34m\u001b[0m\u001b[0m\n",
      "\u001b[0;32m/anaconda3/lib/python3.7/site-packages/sklearn/cluster/k_means_.py\u001b[0m in \u001b[0;36m_kmeans_single_lloyd\u001b[0;34m(X, sample_weight, n_clusters, max_iter, init, verbose, x_squared_norms, random_state, tol, precompute_distances)\u001b[0m\n\u001b[1;32m    545\u001b[0m             _labels_inertia(X, sample_weight, x_squared_norms, centers,\n\u001b[1;32m    546\u001b[0m                             \u001b[0mprecompute_distances\u001b[0m\u001b[0;34m=\u001b[0m\u001b[0mprecompute_distances\u001b[0m\u001b[0;34m,\u001b[0m\u001b[0;34m\u001b[0m\u001b[0;34m\u001b[0m\u001b[0m\n\u001b[0;32m--> 547\u001b[0;31m                             distances=distances)\n\u001b[0m\u001b[1;32m    548\u001b[0m \u001b[0;34m\u001b[0m\u001b[0m\n\u001b[1;32m    549\u001b[0m         \u001b[0;31m# computation of the means is also called the M-step of EM\u001b[0m\u001b[0;34m\u001b[0m\u001b[0;34m\u001b[0m\u001b[0;34m\u001b[0m\u001b[0m\n",
      "\u001b[0;32m/anaconda3/lib/python3.7/site-packages/sklearn/cluster/k_means_.py\u001b[0m in \u001b[0;36m_labels_inertia\u001b[0;34m(X, sample_weight, x_squared_norms, centers, precompute_distances, distances)\u001b[0m\n\u001b[1;32m    678\u001b[0m         inertia = _k_means._assign_labels_csr(\n\u001b[1;32m    679\u001b[0m             \u001b[0mX\u001b[0m\u001b[0;34m,\u001b[0m \u001b[0msample_weight\u001b[0m\u001b[0;34m,\u001b[0m \u001b[0mx_squared_norms\u001b[0m\u001b[0;34m,\u001b[0m \u001b[0mcenters\u001b[0m\u001b[0;34m,\u001b[0m \u001b[0mlabels\u001b[0m\u001b[0;34m,\u001b[0m\u001b[0;34m\u001b[0m\u001b[0;34m\u001b[0m\u001b[0m\n\u001b[0;32m--> 680\u001b[0;31m             distances=distances)\n\u001b[0m\u001b[1;32m    681\u001b[0m     \u001b[0;32melse\u001b[0m\u001b[0;34m:\u001b[0m\u001b[0;34m\u001b[0m\u001b[0;34m\u001b[0m\u001b[0m\n\u001b[1;32m    682\u001b[0m         \u001b[0;32mif\u001b[0m \u001b[0mprecompute_distances\u001b[0m\u001b[0;34m:\u001b[0m\u001b[0;34m\u001b[0m\u001b[0;34m\u001b[0m\u001b[0m\n",
      "\u001b[0;31mKeyboardInterrupt\u001b[0m: "
     ]
    }
   ],
   "source": [
    "ssd = [] # Sum of Squared distances\n",
    "\n",
    "K = range(1, 30000, 5000)\n",
    "for k in K:\n",
    "    km = KMeans(n_clusters=k)\n",
    "    km = km.fit(tfidf)\n",
    "    ssd.append(km.inertia_)"
   ]
  },
  {
   "cell_type": "code",
   "execution_count": 7,
   "metadata": {},
   "outputs": [],
   "source": [
    "# ssd = [] # Sum of Squared distances\n",
    "\n",
    "# K = range(1,15)\n",
    "# for k in K:\n",
    "#     km = KMeans(n_clusters=k)\n",
    "#     km = km.fit(tfidf)\n",
    "#     ssd.append(km.inertia_)\n",
    "    "
   ]
  },
  {
   "cell_type": "code",
   "execution_count": 10,
   "metadata": {},
   "outputs": [],
   "source": [
    "# K = range(15,25)\n",
    "# for k in K:\n",
    "#     km = KMeans(n_clusters=k)\n",
    "#     km = km.fit(tfidf)\n",
    "#     ssd.append(km.inertia_)"
   ]
  },
  {
   "cell_type": "code",
   "execution_count": 13,
   "metadata": {},
   "outputs": [],
   "source": [
    "# K = range(25,35)\n",
    "# for k in K:\n",
    "#     km = KMeans(n_clusters=k)\n",
    "#     km = km.fit(tfidf)\n",
    "#     ssd.append(km.inertia_)"
   ]
  },
  {
   "cell_type": "code",
   "execution_count": 14,
   "metadata": {},
   "outputs": [
    {
     "data": {
      "image/png": "[encoded data removed]",
      "text/plain": [
       "<Figure size 432x288 with 1 Axes>"
      ]
     },
     "metadata": {
      "needs_background": "light"
     },
     "output_type": "display_data"
    }
   ],
   "source": [
    "import matplotlib.pyplot as plt\n",
    "\n",
    "K = range(1, 35)\n",
    "plt.plot(K, ssd, 'bx-')\n",
    "plt.xlabel('k')\n",
    "plt.ylabel('Sum_of_squared_distances')\n",
    "plt.title('Elbow Method For Optimal k')\n",
    "plt.show()\n"
   ]
  },
  {
   "cell_type": "markdown",
   "metadata": {},
   "source": [
    "## Load K-means cluster from here"
   ]
  },
  {
   "cell_type": "code",
   "execution_count": 7,
   "metadata": {},
   "outputs": [
    {
     "name": "stderr",
     "output_type": "stream",
     "text": [
      "/usr/local/lib/python3.6/dist-packages/sklearn/externals/joblib/__init__.py:15: DeprecationWarning: sklearn.externals.joblib is deprecated in 0.21 and will be removed in 0.23. Please import this functionality directly from joblib, which can be installed with: pip install joblib. If this warning is raised when loading pickled models, you may need to re-serialize those models with scikit-learn 0.21+.\n",
      "  warnings.warn(msg, category=DeprecationWarning)\n"
     ]
    }
   ],
   "source": [
    "from sklearn.externals import joblib\n",
    "import os\n",
    "\n",
    "root = os.path.expanduser(\"~\")\n",
    "model_path = root + \"/Desktop/workspace/indeed/Job-Satisfaction/data/models/cluster/\"\n",
    "joblib.dump(kmeans, model_path + \"kmeans.pkl\")\n",
    "\n",
    "kmeans = joblib.load(model_path + \"kmeans.pkl\")\n",
    "clusters = kmeans.labels_.tolist()"
   ]
  },
  {
   "cell_type": "code",
   "execution_count": 8,
   "metadata": {},
   "outputs": [
    {
     "data": {
      "text/html": [
       "<div>\n",
       "<style scoped>\n",
       "    .dataframe tbody tr th:only-of-type {\n",
       "        vertical-align: middle;\n",
       "    }\n",
       "\n",
       "    .dataframe tbody tr th {\n",
       "        vertical-align: top;\n",
       "    }\n",
       "\n",
       "    .dataframe thead th {\n",
       "        text-align: right;\n",
       "    }\n",
       "</style>\n",
       "<table border=\"1\" class=\"dataframe\">\n",
       "  <thead>\n",
       "    <tr style=\"text-align: right;\">\n",
       "      <th></th>\n",
       "      <th>Unnamed: 0</th>\n",
       "      <th>Ratings</th>\n",
       "      <th>Job_Status</th>\n",
       "      <th>Reviewed_Year</th>\n",
       "      <th>Review_Text</th>\n",
       "      <th>Px_Texts</th>\n",
       "      <th>Tknz_Texts</th>\n",
       "      <th>Doc_Length</th>\n",
       "      <th>Work_Life</th>\n",
       "      <th>Benefits</th>\n",
       "      <th>Job_Advancement</th>\n",
       "      <th>Management</th>\n",
       "      <th>Culture</th>\n",
       "      <th>Company_Index</th>\n",
       "      <th>Company_Name</th>\n",
       "      <th>Cluster</th>\n",
       "    </tr>\n",
       "  </thead>\n",
       "  <tbody>\n",
       "    <tr>\n",
       "      <th>0</th>\n",
       "      <td>0</td>\n",
       "      <td>2.0</td>\n",
       "      <td>1</td>\n",
       "      <td>2017</td>\n",
       "      <td>hour lunch, friendly co-workers.</td>\n",
       "      <td>cowork friendli hour lunch friendli_cowork hou...</td>\n",
       "      <td>['cowork', 'friendli', 'hour', 'lunch', 'frien...</td>\n",
       "      <td>9</td>\n",
       "      <td>3.0</td>\n",
       "      <td>2.0</td>\n",
       "      <td>2.0</td>\n",
       "      <td>1.0</td>\n",
       "      <td>3.0</td>\n",
       "      <td>1</td>\n",
       "      <td>Walmart</td>\n",
       "      <td>3</td>\n",
       "    </tr>\n",
       "    <tr>\n",
       "      <th>1</th>\n",
       "      <td>1</td>\n",
       "      <td>3.0</td>\n",
       "      <td>1</td>\n",
       "      <td>2015</td>\n",
       "      <td>benefits, Medical, dental, myshare, 401k, stocks</td>\n",
       "      <td>benefit dental medic myshar stock</td>\n",
       "      <td>['benefit', 'dental', 'medic', 'myshar', 'stock']</td>\n",
       "      <td>5</td>\n",
       "      <td>3.0</td>\n",
       "      <td>4.0</td>\n",
       "      <td>4.0</td>\n",
       "      <td>3.0</td>\n",
       "      <td>3.0</td>\n",
       "      <td>1</td>\n",
       "      <td>Walmart</td>\n",
       "      <td>0</td>\n",
       "    </tr>\n",
       "    <tr>\n",
       "      <th>2</th>\n",
       "      <td>2</td>\n",
       "      <td>2.0</td>\n",
       "      <td>0</td>\n",
       "      <td>2012</td>\n",
       "      <td>discount card . schedule 3 on 3 off</td>\n",
       "      <td>card discount schedul discount_card</td>\n",
       "      <td>['card', 'discount', 'schedul', 'discount_card']</td>\n",
       "      <td>4</td>\n",
       "      <td>1.0</td>\n",
       "      <td>4.0</td>\n",
       "      <td>3.0</td>\n",
       "      <td>1.0</td>\n",
       "      <td>3.0</td>\n",
       "      <td>1</td>\n",
       "      <td>Walmart</td>\n",
       "      <td>0</td>\n",
       "    </tr>\n",
       "    <tr>\n",
       "      <th>3</th>\n",
       "      <td>3</td>\n",
       "      <td>4.0</td>\n",
       "      <td>0</td>\n",
       "      <td>2017</td>\n",
       "      <td>good break lengths and plenty of hours</td>\n",
       "      <td>break hour length plenti plenti_hour</td>\n",
       "      <td>['break', 'hour', 'length', 'plenti', 'plenti_...</td>\n",
       "      <td>5</td>\n",
       "      <td>4.0</td>\n",
       "      <td>3.0</td>\n",
       "      <td>3.0</td>\n",
       "      <td>4.0</td>\n",
       "      <td>4.0</td>\n",
       "      <td>1</td>\n",
       "      <td>Walmart</td>\n",
       "      <td>0</td>\n",
       "    </tr>\n",
       "    <tr>\n",
       "      <th>4</th>\n",
       "      <td>4</td>\n",
       "      <td>1.0</td>\n",
       "      <td>1</td>\n",
       "      <td>2016</td>\n",
       "      <td>My pay was good and my schedule allowed me to ...</td>\n",
       "      <td>allow job pay schedul pay_schedul</td>\n",
       "      <td>['allow', 'job', 'pay', 'schedul', 'pay_schedul']</td>\n",
       "      <td>5</td>\n",
       "      <td>3.0</td>\n",
       "      <td>3.0</td>\n",
       "      <td>1.0</td>\n",
       "      <td>1.0</td>\n",
       "      <td>1.0</td>\n",
       "      <td>1</td>\n",
       "      <td>Walmart</td>\n",
       "      <td>6</td>\n",
       "    </tr>\n",
       "  </tbody>\n",
       "</table>\n",
       "</div>"
      ],
      "text/plain": [
       "   Unnamed: 0  Ratings  Job_Status  Reviewed_Year  \\\n",
       "0           0      2.0           1           2017   \n",
       "1           1      3.0           1           2015   \n",
       "2           2      2.0           0           2012   \n",
       "3           3      4.0           0           2017   \n",
       "4           4      1.0           1           2016   \n",
       "\n",
       "                                         Review_Text  \\\n",
       "0                   hour lunch, friendly co-workers.   \n",
       "1   benefits, Medical, dental, myshare, 401k, stocks   \n",
       "2                discount card . schedule 3 on 3 off   \n",
       "3             good break lengths and plenty of hours   \n",
       "4  My pay was good and my schedule allowed me to ...   \n",
       "\n",
       "                                            Px_Texts  \\\n",
       "0  cowork friendli hour lunch friendli_cowork hou...   \n",
       "1                benefit dental medic myshar stock     \n",
       "2               card discount schedul discount_card    \n",
       "3              break hour length plenti plenti_hour    \n",
       "4                 allow job pay schedul pay_schedul    \n",
       "\n",
       "                                          Tknz_Texts  Doc_Length  Work_Life  \\\n",
       "0  ['cowork', 'friendli', 'hour', 'lunch', 'frien...           9        3.0   \n",
       "1  ['benefit', 'dental', 'medic', 'myshar', 'stock']           5        3.0   \n",
       "2   ['card', 'discount', 'schedul', 'discount_card']           4        1.0   \n",
       "3  ['break', 'hour', 'length', 'plenti', 'plenti_...           5        4.0   \n",
       "4  ['allow', 'job', 'pay', 'schedul', 'pay_schedul']           5        3.0   \n",
       "\n",
       "   Benefits  Job_Advancement  Management  Culture  Company_Index Company_Name  \\\n",
       "0       2.0              2.0         1.0      3.0              1      Walmart   \n",
       "1       4.0              4.0         3.0      3.0              1      Walmart   \n",
       "2       4.0              3.0         1.0      3.0              1      Walmart   \n",
       "3       3.0              3.0         4.0      4.0              1      Walmart   \n",
       "4       3.0              1.0         1.0      1.0              1      Walmart   \n",
       "\n",
       "   Cluster  \n",
       "0        3  \n",
       "1        0  \n",
       "2        0  \n",
       "3        0  \n",
       "4        6  "
      ]
     },
     "execution_count": 8,
     "metadata": {},
     "output_type": "execute_result"
    }
   ],
   "source": [
    "df[\"Cluster\"] = clusters\n",
    "df.head()"
   ]
  },
  {
   "cell_type": "code",
   "execution_count": 9,
   "metadata": {},
   "outputs": [
    {
     "data": {
      "text/plain": [
       "0    20425\n",
       "6     4177\n",
       "1     2377\n",
       "2     1668\n",
       "5     1516\n",
       "4     1387\n",
       "3     1071\n",
       "7     1003\n",
       "Name: Cluster, dtype: int64"
      ]
     },
     "execution_count": 9,
     "metadata": {},
     "output_type": "execute_result"
    }
   ],
   "source": [
    "df.Cluster.value_counts()"
   ]
  },
  {
   "cell_type": "code",
   "execution_count": 10,
   "metadata": {},
   "outputs": [],
   "source": [
    "# vocab = vectorizer.vocabulary_\n",
    "# inv_vocab = {v: k for k, v in vocab.items()}\n",
    "# print(inv_vocab)"
   ]
  },
  {
   "cell_type": "code",
   "execution_count": 11,
   "metadata": {},
   "outputs": [],
   "source": [
    "# print(inv_vocab[0])"
   ]
  },
  {
   "cell_type": "code",
   "execution_count": 12,
   "metadata": {},
   "outputs": [
    {
     "name": "stdout",
     "output_type": "stream",
     "text": [
      "050_cent_hour\n"
     ]
    }
   ],
   "source": [
    "feat_name = vectorizer.get_feature_names()\n",
    "print(vectorizer.get_feature_names()[0])"
   ]
  },
  {
   "cell_type": "code",
   "execution_count": 13,
   "metadata": {},
   "outputs": [
    {
     "name": "stdout",
     "output_type": "stream",
     "text": [
      "Top terms per cluster: \n",
      "\n",
      "Cluster 0: \n",
      "benefit, free, time, employe, manag, discount, opportun, environ, learn, health\n",
      "\n",
      "Cluster 1: \n",
      "peopl, meet, meet_peopl, nice_peopl, nice, benefit, help, lot, help_peopl, fun\n",
      "\n",
      "Cluster 2: \n",
      "free_lunch, lunch, free, sometim, free_lunch_sometim, lunch_sometim, occasion, time, occasion_free_lunch, holiday\n",
      "\n",
      "Cluster 3: \n",
      "lunch, hour_lunch, hour, break, lunch_break, 1_hour_lunch, minut, minut_break, hour_lunch_break, 15_minut_break\n",
      "\n",
      "Cluster 4: \n",
      "team, fast, pace, fast_pace, environ, manag, manag_team, team_build, build, team_environ\n",
      "\n",
      "Cluster 5: \n",
      "flexibl, flexibl_schedul, schedul, flexibl_hour, hour, benefit_flexibl, benefit, home, pay, time\n",
      "\n",
      "Cluster 6: \n",
      "pay, benefit, pay_benefit, decent, decent_pay, benefit_pay, hour, excel, time, cowork\n",
      "\n",
      "Cluster 7: \n",
      "balanc, worklif_balanc, worklif, life_balanc, life, benefit, benefit_life_balanc, benefit_life, balanc_benefit, benefit_worklif_balanc\n",
      "\n"
     ]
    }
   ],
   "source": [
    "print(\"Top terms per cluster: \")\n",
    "print()\n",
    "\n",
    "# print(kmeans.cluster_centers_)\n",
    "order_centroids = kmeans.cluster_centers_.argsort()[:, ::-1]\n",
    "# print(len(order_centroids))\n",
    "# print((order_centroids))\n",
    "\n",
    "topics = {}\n",
    "for i in range(num_cluster): \n",
    "    print(f\"Cluster {i}: \")\n",
    "    words = [] \n",
    "    for ind in order_centroids[i, :10] :\n",
    "        words.append(feat_name[ind])\n",
    "    \n",
    "    topics[i] = \" \".join(words)\n",
    "    print(\", \".join(words))\n",
    "    print()\n",
    "    \n",
    "# print(topics)"
   ]
  },
  {
   "cell_type": "code",
   "execution_count": 14,
   "metadata": {},
   "outputs": [
    {
     "data": {
      "text/html": [
       "<div>\n",
       "<style scoped>\n",
       "    .dataframe tbody tr th:only-of-type {\n",
       "        vertical-align: middle;\n",
       "    }\n",
       "\n",
       "    .dataframe tbody tr th {\n",
       "        vertical-align: top;\n",
       "    }\n",
       "\n",
       "    .dataframe thead th {\n",
       "        text-align: right;\n",
       "    }\n",
       "</style>\n",
       "<table border=\"1\" class=\"dataframe\">\n",
       "  <thead>\n",
       "    <tr style=\"text-align: right;\">\n",
       "      <th></th>\n",
       "      <th>Unnamed: 0</th>\n",
       "      <th>Ratings</th>\n",
       "      <th>Job_Status</th>\n",
       "      <th>Reviewed_Year</th>\n",
       "      <th>Review_Text</th>\n",
       "      <th>Px_Texts</th>\n",
       "      <th>Tknz_Texts</th>\n",
       "      <th>Doc_Length</th>\n",
       "      <th>Work_Life</th>\n",
       "      <th>Benefits</th>\n",
       "      <th>Job_Advancement</th>\n",
       "      <th>Management</th>\n",
       "      <th>Culture</th>\n",
       "      <th>Company_Index</th>\n",
       "      <th>Company_Name</th>\n",
       "      <th>Cluster</th>\n",
       "      <th>Topic_Words</th>\n",
       "    </tr>\n",
       "  </thead>\n",
       "  <tbody>\n",
       "    <tr>\n",
       "      <th>0</th>\n",
       "      <td>0</td>\n",
       "      <td>2.0</td>\n",
       "      <td>1</td>\n",
       "      <td>2017</td>\n",
       "      <td>hour lunch, friendly co-workers.</td>\n",
       "      <td>cowork friendli hour lunch friendli_cowork hou...</td>\n",
       "      <td>['cowork', 'friendli', 'hour', 'lunch', 'frien...</td>\n",
       "      <td>9</td>\n",
       "      <td>3.0</td>\n",
       "      <td>2.0</td>\n",
       "      <td>2.0</td>\n",
       "      <td>1.0</td>\n",
       "      <td>3.0</td>\n",
       "      <td>1</td>\n",
       "      <td>Walmart</td>\n",
       "      <td>3</td>\n",
       "      <td>lunch hour_lunch hour break lunch_break 1_hour...</td>\n",
       "    </tr>\n",
       "    <tr>\n",
       "      <th>1</th>\n",
       "      <td>1</td>\n",
       "      <td>3.0</td>\n",
       "      <td>1</td>\n",
       "      <td>2015</td>\n",
       "      <td>benefits, Medical, dental, myshare, 401k, stocks</td>\n",
       "      <td>benefit dental medic myshar stock</td>\n",
       "      <td>['benefit', 'dental', 'medic', 'myshar', 'stock']</td>\n",
       "      <td>5</td>\n",
       "      <td>3.0</td>\n",
       "      <td>4.0</td>\n",
       "      <td>4.0</td>\n",
       "      <td>3.0</td>\n",
       "      <td>3.0</td>\n",
       "      <td>1</td>\n",
       "      <td>Walmart</td>\n",
       "      <td>0</td>\n",
       "      <td>benefit free time employe manag discount oppor...</td>\n",
       "    </tr>\n",
       "    <tr>\n",
       "      <th>2</th>\n",
       "      <td>2</td>\n",
       "      <td>2.0</td>\n",
       "      <td>0</td>\n",
       "      <td>2012</td>\n",
       "      <td>discount card . schedule 3 on 3 off</td>\n",
       "      <td>card discount schedul discount_card</td>\n",
       "      <td>['card', 'discount', 'schedul', 'discount_card']</td>\n",
       "      <td>4</td>\n",
       "      <td>1.0</td>\n",
       "      <td>4.0</td>\n",
       "      <td>3.0</td>\n",
       "      <td>1.0</td>\n",
       "      <td>3.0</td>\n",
       "      <td>1</td>\n",
       "      <td>Walmart</td>\n",
       "      <td>0</td>\n",
       "      <td>benefit free time employe manag discount oppor...</td>\n",
       "    </tr>\n",
       "    <tr>\n",
       "      <th>3</th>\n",
       "      <td>3</td>\n",
       "      <td>4.0</td>\n",
       "      <td>0</td>\n",
       "      <td>2017</td>\n",
       "      <td>good break lengths and plenty of hours</td>\n",
       "      <td>break hour length plenti plenti_hour</td>\n",
       "      <td>['break', 'hour', 'length', 'plenti', 'plenti_...</td>\n",
       "      <td>5</td>\n",
       "      <td>4.0</td>\n",
       "      <td>3.0</td>\n",
       "      <td>3.0</td>\n",
       "      <td>4.0</td>\n",
       "      <td>4.0</td>\n",
       "      <td>1</td>\n",
       "      <td>Walmart</td>\n",
       "      <td>0</td>\n",
       "      <td>benefit free time employe manag discount oppor...</td>\n",
       "    </tr>\n",
       "    <tr>\n",
       "      <th>4</th>\n",
       "      <td>4</td>\n",
       "      <td>1.0</td>\n",
       "      <td>1</td>\n",
       "      <td>2016</td>\n",
       "      <td>My pay was good and my schedule allowed me to ...</td>\n",
       "      <td>allow job pay schedul pay_schedul</td>\n",
       "      <td>['allow', 'job', 'pay', 'schedul', 'pay_schedul']</td>\n",
       "      <td>5</td>\n",
       "      <td>3.0</td>\n",
       "      <td>3.0</td>\n",
       "      <td>1.0</td>\n",
       "      <td>1.0</td>\n",
       "      <td>1.0</td>\n",
       "      <td>1</td>\n",
       "      <td>Walmart</td>\n",
       "      <td>6</td>\n",
       "      <td>pay benefit pay_benefit decent decent_pay bene...</td>\n",
       "    </tr>\n",
       "  </tbody>\n",
       "</table>\n",
       "</div>"
      ],
      "text/plain": [
       "   Unnamed: 0  Ratings  Job_Status  Reviewed_Year  \\\n",
       "0           0      2.0           1           2017   \n",
       "1           1      3.0           1           2015   \n",
       "2           2      2.0           0           2012   \n",
       "3           3      4.0           0           2017   \n",
       "4           4      1.0           1           2016   \n",
       "\n",
       "                                         Review_Text  \\\n",
       "0                   hour lunch, friendly co-workers.   \n",
       "1   benefits, Medical, dental, myshare, 401k, stocks   \n",
       "2                discount card . schedule 3 on 3 off   \n",
       "3             good break lengths and plenty of hours   \n",
       "4  My pay was good and my schedule allowed me to ...   \n",
       "\n",
       "                                            Px_Texts  \\\n",
       "0  cowork friendli hour lunch friendli_cowork hou...   \n",
       "1                benefit dental medic myshar stock     \n",
       "2               card discount schedul discount_card    \n",
       "3              break hour length plenti plenti_hour    \n",
       "4                 allow job pay schedul pay_schedul    \n",
       "\n",
       "                                          Tknz_Texts  Doc_Length  Work_Life  \\\n",
       "0  ['cowork', 'friendli', 'hour', 'lunch', 'frien...           9        3.0   \n",
       "1  ['benefit', 'dental', 'medic', 'myshar', 'stock']           5        3.0   \n",
       "2   ['card', 'discount', 'schedul', 'discount_card']           4        1.0   \n",
       "3  ['break', 'hour', 'length', 'plenti', 'plenti_...           5        4.0   \n",
       "4  ['allow', 'job', 'pay', 'schedul', 'pay_schedul']           5        3.0   \n",
       "\n",
       "   Benefits  Job_Advancement  Management  Culture  Company_Index Company_Name  \\\n",
       "0       2.0              2.0         1.0      3.0              1      Walmart   \n",
       "1       4.0              4.0         3.0      3.0              1      Walmart   \n",
       "2       4.0              3.0         1.0      3.0              1      Walmart   \n",
       "3       3.0              3.0         4.0      4.0              1      Walmart   \n",
       "4       3.0              1.0         1.0      1.0              1      Walmart   \n",
       "\n",
       "   Cluster                                        Topic_Words  \n",
       "0        3  lunch hour_lunch hour break lunch_break 1_hour...  \n",
       "1        0  benefit free time employe manag discount oppor...  \n",
       "2        0  benefit free time employe manag discount oppor...  \n",
       "3        0  benefit free time employe manag discount oppor...  \n",
       "4        6  pay benefit pay_benefit decent decent_pay bene...  "
      ]
     },
     "metadata": {},
     "output_type": "display_data"
    },
    {
     "name": "stdout",
     "output_type": "stream",
     "text": [
      "0\n"
     ]
    }
   ],
   "source": [
    "for i in range(num_cluster): \n",
    "    df.loc[df.Cluster == i, \"Topic_Words\"] = topics[i]\n",
    "\n",
    "display(df.head())\n",
    "print(df.Topic_Words.isna().sum())"
   ]
  },
  {
   "cell_type": "markdown",
   "metadata": {},
   "source": [
    "## Dissimilarity Measure between Documents"
   ]
  },
  {
   "cell_type": "code",
   "execution_count": 15,
   "metadata": {},
   "outputs": [
    {
     "ename": "MemoryError",
     "evalue": "Unable to allocate array with shape (33624, 33624) and data type float64",
     "output_type": "error",
     "traceback": [
      "\u001b[0;31m---------------------------------------------------------------------------\u001b[0m",
      "\u001b[0;31mMemoryError\u001b[0m                               Traceback (most recent call last)",
      "\u001b[0;32m<ipython-input-15-76b56513e1d8>\u001b[0m in \u001b[0;36m<module>\u001b[0;34m\u001b[0m\n\u001b[1;32m      1\u001b[0m \u001b[0;32mfrom\u001b[0m \u001b[0msklearn\u001b[0m\u001b[0;34m.\u001b[0m\u001b[0mmetrics\u001b[0m\u001b[0;34m.\u001b[0m\u001b[0mpairwise\u001b[0m \u001b[0;32mimport\u001b[0m \u001b[0mcosine_similarity\u001b[0m\u001b[0;34m\u001b[0m\u001b[0;34m\u001b[0m\u001b[0m\n\u001b[0;32m----> 2\u001b[0;31m \u001b[0mdist\u001b[0m \u001b[0;34m=\u001b[0m \u001b[0;36m1\u001b[0m \u001b[0;34m-\u001b[0m \u001b[0mcosine_similarity\u001b[0m\u001b[0;34m(\u001b[0m\u001b[0mtfidf\u001b[0m\u001b[0;34m)\u001b[0m\u001b[0;34m\u001b[0m\u001b[0;34m\u001b[0m\u001b[0m\n\u001b[0m\u001b[1;32m      3\u001b[0m \u001b[0;34m\u001b[0m\u001b[0m\n\u001b[1;32m      4\u001b[0m \u001b[0mprint\u001b[0m\u001b[0;34m(\u001b[0m\u001b[0mdist\u001b[0m\u001b[0;34m)\u001b[0m\u001b[0;34m\u001b[0m\u001b[0;34m\u001b[0m\u001b[0m\n",
      "\u001b[0;31mMemoryError\u001b[0m: Unable to allocate array with shape (33624, 33624) and data type float64"
     ]
    }
   ],
   "source": [
    "from sklearn.metrics.pairwise import cosine_similarity\n",
    "dist = 1 - cosine_similarity(tfidf)\n",
    "\n",
    "print(dist)"
   ]
  },
  {
   "cell_type": "code",
   "execution_count": 14,
   "metadata": {},
   "outputs": [
    {
     "name": "stdout",
     "output_type": "stream",
     "text": [
      "33624\n",
      "33624\n"
     ]
    }
   ],
   "source": [
    "print(len(dist[0]))\n",
    "print(len(dist))"
   ]
  },
  {
   "cell_type": "code",
   "execution_count": 17,
   "metadata": {
    "scrolled": true
   },
   "outputs": [
    {
     "name": "stdout",
     "output_type": "stream",
     "text": [
      "[[0.00000000e+00 0.00000000e+00 0.00000000e+00 ... 3.35422057e-04\n",
      "  0.00000000e+00 0.00000000e+00]\n",
      " [0.00000000e+00 0.00000000e+00 0.00000000e+00 ... 0.00000000e+00\n",
      "  0.00000000e+00 0.00000000e+00]\n",
      " [2.10879698e-05 6.99405369e-05 3.96756008e-05 ... 4.66414709e-05\n",
      "  9.61264358e-05 5.78678935e-05]\n",
      " ...\n",
      " [0.00000000e+00 2.12029933e-04 0.00000000e+00 ... 0.00000000e+00\n",
      "  0.00000000e+00 0.00000000e+00]\n",
      " [0.00000000e+00 2.19671098e-04 0.00000000e+00 ... 0.00000000e+00\n",
      "  0.00000000e+00 0.00000000e+00]\n",
      " [0.00000000e+00 0.00000000e+00 0.00000000e+00 ... 0.00000000e+00\n",
      "  0.00000000e+00 0.00000000e+00]]\n",
      "<bound method KMeans.score of KMeans(algorithm='auto', copy_x=True, init='k-means++', max_iter=300,\n",
      "    n_clusters=8, n_init=10, n_jobs=None, precompute_distances='auto',\n",
      "    random_state=None, tol=0.0001, verbose=0)>\n"
     ]
    }
   ],
   "source": [
    "top_dist = kmeans.cluster_centers_\n",
    "print(top_dist)\n",
    "\n",
    "print(kmeans.score)"
   ]
  },
  {
   "cell_type": "markdown",
   "metadata": {},
   "source": [
    "## Dimensionality Reduction"
   ]
  },
  {
   "cell_type": "code",
   "execution_count": null,
   "metadata": {},
   "outputs": [
    {
     "name": "stdout",
     "output_type": "stream",
     "text": [
      "[t-SNE] Computing 91 nearest neighbors...\n",
      "[t-SNE] Indexed 33624 samples in 53.777s...\n"
     ]
    }
   ],
   "source": [
    "# Clustering\n",
    "from sklearn.manifold import TSNE\n",
    "# tsne = TSNE(n_components=2)\n",
    "tsne = TSNE(n_components=2, verbose=1, random_state=0, angle=.99, init='pca')\n",
    "X_tsne = tsne.fit_transform(tfidf.toarray())"
   ]
  },
  {
   "cell_type": "code",
   "execution_count": null,
   "metadata": {},
   "outputs": [],
   "source": [
    "# Generate random colors\n",
    "\n",
    "import random\n",
    "get_colors = lambda n: list(map(lambda i: \"#\" + \"%06x\" % random.randint(0, 0xFFFFFF),range(n)))\n",
    "colormap = np.asarray(get_colors(num_topics)) \n",
    "print(colormap)"
   ]
  },
  {
   "cell_type": "code",
   "execution_count": null,
   "metadata": {},
   "outputs": [],
   "source": [
    "df_cluster = pd.DataFrame()\n",
    "df_cluster['X_tsne'] = X_tsne[:, 0]\n",
    "df_cluster['Y_tsne'] = X_tsne[:, 1]\n",
    "df_cluster['Topic_Num'] = df.Cluster.tolist()\n",
    "df_cluster['Topic_Label'] = df.Topic_Words.tolist()\n",
    "df_cluster['Document'] = df.Review_Text.tolist()\n",
    "\n",
    "cluster_colors = dict()\n",
    "for c in range(num_topics): \n",
    "    cluster_colors[c] = colormap[c]\n",
    "    \n",
    "df_cluster['Colors'] = df_cluster['Topic_Num'].apply(lambda l: cluster_colors[l])\n",
    "df_cluster.sort_values(by=['Topic_Num'], inplace=True)\n",
    "\n",
    "display(df_cluster.head())"
   ]
  }
 ],
 "metadata": {
  "kernelspec": {
   "display_name": "Python 3",
   "language": "python",
   "name": "python3"
  },
  "language_info": {
   "codemirror_mode": {
    "name": "ipython",
    "version": 3
   },
   "file_extension": ".py",
   "mimetype": "text/x-python",
   "name": "python",
   "nbconvert_exporter": "python",
   "pygments_lexer": "ipython3",
   "version": "3.7.3"
  }
 },
 "nbformat": 4,
 "nbformat_minor": 2
}
