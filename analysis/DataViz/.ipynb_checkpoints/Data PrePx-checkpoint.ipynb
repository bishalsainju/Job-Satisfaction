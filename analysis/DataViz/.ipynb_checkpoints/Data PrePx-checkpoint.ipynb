{
 "cells": [
  {
   "cell_type": "code",
   "execution_count": 1,
   "metadata": {
    "scrolled": false
   },
   "outputs": [
    {
     "data": {
      "text/html": [
       "<div>\n",
       "<style scoped>\n",
       "    .dataframe tbody tr th:only-of-type {\n",
       "        vertical-align: middle;\n",
       "    }\n",
       "\n",
       "    .dataframe tbody tr th {\n",
       "        vertical-align: top;\n",
       "    }\n",
       "\n",
       "    .dataframe thead th {\n",
       "        text-align: right;\n",
       "    }\n",
       "</style>\n",
       "<table border=\"1\" class=\"dataframe\">\n",
       "  <thead>\n",
       "    <tr style=\"text-align: right;\">\n",
       "      <th></th>\n",
       "      <th>document</th>\n",
       "      <th>topic</th>\n",
       "      <th>gamma</th>\n",
       "      <th>log_gamma</th>\n",
       "    </tr>\n",
       "  </thead>\n",
       "  <tbody>\n",
       "    <tr>\n",
       "      <th>0</th>\n",
       "      <td>1</td>\n",
       "      <td>1</td>\n",
       "      <td>0.007911</td>\n",
       "      <td>4.839471</td>\n",
       "    </tr>\n",
       "    <tr>\n",
       "      <th>1</th>\n",
       "      <td>2</td>\n",
       "      <td>1</td>\n",
       "      <td>0.015577</td>\n",
       "      <td>4.161986</td>\n",
       "    </tr>\n",
       "    <tr>\n",
       "      <th>2</th>\n",
       "      <td>3</td>\n",
       "      <td>1</td>\n",
       "      <td>0.012643</td>\n",
       "      <td>4.370688</td>\n",
       "    </tr>\n",
       "    <tr>\n",
       "      <th>3</th>\n",
       "      <td>4</td>\n",
       "      <td>1</td>\n",
       "      <td>0.013582</td>\n",
       "      <td>4.299036</td>\n",
       "    </tr>\n",
       "    <tr>\n",
       "      <th>4</th>\n",
       "      <td>5</td>\n",
       "      <td>1</td>\n",
       "      <td>0.015417</td>\n",
       "      <td>4.172280</td>\n",
       "    </tr>\n",
       "  </tbody>\n",
       "</table>\n",
       "</div>"
      ],
      "text/plain": [
       "   document  topic     gamma  log_gamma\n",
       "0         1      1  0.007911   4.839471\n",
       "1         2      1  0.015577   4.161986\n",
       "2         3      1  0.012643   4.370688\n",
       "3         4      1  0.013582   4.299036\n",
       "4         5      1  0.015417   4.172280"
      ]
     },
     "metadata": {},
     "output_type": "display_data"
    },
    {
     "name": "stdout",
     "output_type": "stream",
     "text": [
      "(874120, 4)\n"
     ]
    }
   ],
   "source": [
    "import pandas as pd\n",
    "import numpy as np\n",
    "\n",
    "num_topics = 26\n",
    "df = pd.read_csv(f\"~/Desktop/R_js/data/gamma/pro{num_topics}_gamma.csv\")\n",
    "df['log_gamma'] = np.absolute(np.log(df.gamma))\n",
    "display(df.head())\n",
    "print(df.shape)"
   ]
  },
  {
   "cell_type": "code",
   "execution_count": 3,
   "metadata": {},
   "outputs": [
    {
     "name": "stdout",
     "output_type": "stream",
     "text": [
      "0.0\n",
      "569.9551795260513\n",
      "1809.4240079803515\n",
      "1846.876510658187\n",
      "769.2108392440161\n",
      "1046.3883336574347\n",
      "816.2230155631369\n",
      "3292.707727520143\n",
      "966.0751644867133\n",
      "2174.398821171042\n",
      "1441.7983638222802\n",
      "1151.0730205259968\n",
      "1121.8242250254507\n",
      "819.0314012055106\n",
      "606.0128664662669\n",
      "1402.2097520113832\n",
      "1443.4429713256047\n",
      "709.2845562439254\n",
      "1478.7922509627444\n",
      "683.4406579521284\n",
      "998.0503660897239\n",
      "1787.7578804235382\n",
      "2304.97988631066\n",
      "1027.4032199944945\n",
      "1051.4137219394497\n",
      "1774.081866512412\n"
     ]
    }
   ],
   "source": [
    "lst = []\n",
    "for t in range(num_topics): \n",
    "    df_topic = df[df.topic == t]\n",
    "    gammas = df_topic.gamma.sum()\n",
    "    print(f\"Topic {t}: gammas\")"
   ]
  },
  {
   "cell_type": "code",
   "execution_count": null,
   "metadata": {},
   "outputs": [],
   "source": []
  }
 ],
 "metadata": {
  "kernelspec": {
   "display_name": "Python 3",
   "language": "python",
   "name": "python3"
  },
  "language_info": {
   "codemirror_mode": {
    "name": "ipython",
    "version": 3
   },
   "file_extension": ".py",
   "mimetype": "text/x-python",
   "name": "python",
   "nbconvert_exporter": "python",
   "pygments_lexer": "ipython3",
   "version": "3.7.3"
  }
 },
 "nbformat": 4,
 "nbformat_minor": 2
}
