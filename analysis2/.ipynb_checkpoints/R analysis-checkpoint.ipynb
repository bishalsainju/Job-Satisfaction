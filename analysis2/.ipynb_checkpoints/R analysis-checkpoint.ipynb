{
 "cells": [
  {
   "cell_type": "code",
   "execution_count": 27,
   "metadata": {},
   "outputs": [],
   "source": [
    "import pandas as pd\n",
    "import seaborn as sns\n",
    "import numpy as np\n",
    "\n",
    "num_topics = 16"
   ]
  },
  {
   "cell_type": "code",
   "execution_count": 5,
   "metadata": {},
   "outputs": [],
   "source": [
    "path=f\"~/Desktop/R_js/data1/gamma/pro{num_topics}_gamma.csv\"\n",
    "df = pd.read_csv(path)\n"
   ]
  },
  {
   "cell_type": "code",
   "execution_count": 6,
   "metadata": {},
   "outputs": [
    {
     "data": {
      "text/html": [
       "<div>\n",
       "<style scoped>\n",
       "    .dataframe tbody tr th:only-of-type {\n",
       "        vertical-align: middle;\n",
       "    }\n",
       "\n",
       "    .dataframe tbody tr th {\n",
       "        vertical-align: top;\n",
       "    }\n",
       "\n",
       "    .dataframe thead th {\n",
       "        text-align: right;\n",
       "    }\n",
       "</style>\n",
       "<table border=\"1\" class=\"dataframe\">\n",
       "  <thead>\n",
       "    <tr style=\"text-align: right;\">\n",
       "      <th></th>\n",
       "      <th>document</th>\n",
       "      <th>topic</th>\n",
       "      <th>gamma</th>\n",
       "    </tr>\n",
       "  </thead>\n",
       "  <tbody>\n",
       "    <tr>\n",
       "      <td>0</td>\n",
       "      <td>1</td>\n",
       "      <td>1</td>\n",
       "      <td>0.018924</td>\n",
       "    </tr>\n",
       "    <tr>\n",
       "      <td>1</td>\n",
       "      <td>2</td>\n",
       "      <td>1</td>\n",
       "      <td>0.034041</td>\n",
       "    </tr>\n",
       "    <tr>\n",
       "      <td>2</td>\n",
       "      <td>3</td>\n",
       "      <td>1</td>\n",
       "      <td>0.049521</td>\n",
       "    </tr>\n",
       "    <tr>\n",
       "      <td>3</td>\n",
       "      <td>4</td>\n",
       "      <td>1</td>\n",
       "      <td>0.028633</td>\n",
       "    </tr>\n",
       "    <tr>\n",
       "      <td>4</td>\n",
       "      <td>5</td>\n",
       "      <td>1</td>\n",
       "      <td>0.028980</td>\n",
       "    </tr>\n",
       "  </tbody>\n",
       "</table>\n",
       "</div>"
      ],
      "text/plain": [
       "   document  topic     gamma\n",
       "0         1      1  0.018924\n",
       "1         2      1  0.034041\n",
       "2         3      1  0.049521\n",
       "3         4      1  0.028633\n",
       "4         5      1  0.028980"
      ]
     },
     "execution_count": 6,
     "metadata": {},
     "output_type": "execute_result"
    }
   ],
   "source": [
    "df.head()"
   ]
  },
  {
   "cell_type": "code",
   "execution_count": 13,
   "metadata": {},
   "outputs": [
    {
     "data": {
      "text/plain": [
       "<matplotlib.axes._subplots.AxesSubplot at 0x1260d5e10>"
      ]
     },
     "execution_count": 13,
     "metadata": {},
     "output_type": "execute_result"
    },
    {
     "data": {
      "image/png": "[encoded data removed]",
      "text/plain": [
       "<Figure size 432x288 with 1 Axes>"
      ]
     },
     "metadata": {
      "needs_background": "light"
     },
     "output_type": "display_data"
    }
   ],
   "source": [
    "sns.distplot(df[df.topic==5]['gamma'])"
   ]
  },
  {
   "cell_type": "code",
   "execution_count": 22,
   "metadata": {},
   "outputs": [
    {
     "data": {
      "text/plain": [
       "<matplotlib.axes._subplots.AxesSubplot at 0x1a29ef6450>"
      ]
     },
     "execution_count": 22,
     "metadata": {},
     "output_type": "execute_result"
    },
    {
     "data": {
      "image/png": "[encoded data removed]",
      "text/plain": [
       "<Figure size 432x288 with 1 Axes>"
      ]
     },
     "metadata": {
      "needs_background": "light"
     },
     "output_type": "display_data"
    }
   ],
   "source": [
    "doc = 90\n",
    "sns.barplot(df[df.document == doc]['topic'], df[df.document == doc]['gamma'])"
   ]
  },
  {
   "cell_type": "markdown",
   "metadata": {},
   "source": [
    "# Hierarchical Clustering"
   ]
  },
  {
   "cell_type": "code",
   "execution_count": 24,
   "metadata": {},
   "outputs": [],
   "source": [
    "# num_topics = 16\n",
    "df = pd.read_csv(f\"~/Desktop/R_js/data1/beta/pro{num_topics}_beta.csv\")"
   ]
  },
  {
   "cell_type": "code",
   "execution_count": 25,
   "metadata": {},
   "outputs": [
    {
     "data": {
      "text/html": [
       "<div>\n",
       "<style scoped>\n",
       "    .dataframe tbody tr th:only-of-type {\n",
       "        vertical-align: middle;\n",
       "    }\n",
       "\n",
       "    .dataframe tbody tr th {\n",
       "        vertical-align: top;\n",
       "    }\n",
       "\n",
       "    .dataframe thead th {\n",
       "        text-align: right;\n",
       "    }\n",
       "</style>\n",
       "<table border=\"1\" class=\"dataframe\">\n",
       "  <thead>\n",
       "    <tr style=\"text-align: right;\">\n",
       "      <th></th>\n",
       "      <th>topic</th>\n",
       "      <th>term</th>\n",
       "      <th>beta</th>\n",
       "    </tr>\n",
       "  </thead>\n",
       "  <tbody>\n",
       "    <tr>\n",
       "      <td>0</td>\n",
       "      <td>1</td>\n",
       "      <td>1_hour_break</td>\n",
       "      <td>4.443760e-301</td>\n",
       "    </tr>\n",
       "    <tr>\n",
       "      <td>1</td>\n",
       "      <td>2</td>\n",
       "      <td>1_hour_break</td>\n",
       "      <td>0.000000e+00</td>\n",
       "    </tr>\n",
       "    <tr>\n",
       "      <td>2</td>\n",
       "      <td>3</td>\n",
       "      <td>1_hour_break</td>\n",
       "      <td>1.693463e-285</td>\n",
       "    </tr>\n",
       "    <tr>\n",
       "      <td>3</td>\n",
       "      <td>4</td>\n",
       "      <td>1_hour_break</td>\n",
       "      <td>5.632717e-231</td>\n",
       "    </tr>\n",
       "    <tr>\n",
       "      <td>4</td>\n",
       "      <td>5</td>\n",
       "      <td>1_hour_break</td>\n",
       "      <td>0.000000e+00</td>\n",
       "    </tr>\n",
       "  </tbody>\n",
       "</table>\n",
       "</div>"
      ],
      "text/plain": [
       "   topic          term           beta\n",
       "0      1  1_hour_break  4.443760e-301\n",
       "1      2  1_hour_break   0.000000e+00\n",
       "2      3  1_hour_break  1.693463e-285\n",
       "3      4  1_hour_break  5.632717e-231\n",
       "4      5  1_hour_break   0.000000e+00"
      ]
     },
     "execution_count": 25,
     "metadata": {},
     "output_type": "execute_result"
    }
   ],
   "source": [
    "df.head()"
   ]
  },
  {
   "cell_type": "code",
   "execution_count": 28,
   "metadata": {},
   "outputs": [
    {
     "name": "stdout",
     "output_type": "stream",
     "text": [
      "16\n",
      "16\n"
     ]
    }
   ],
   "source": [
    "topic_word_distr = []\n",
    "imp_words = []\n",
    "terms = df[df.topic == 1].term.values.tolist()\n",
    "\n",
    "num_topics = len(df.topic.unique())\n",
    "\n",
    "for i in range(1, num_topics+1):\n",
    "    topic = df[df.topic == i] \n",
    "    vals = topic.beta.values.tolist()\n",
    "    topic_word_distr += [np.asarray(vals)]\n",
    "    words = [terms[i] for i in np.asarray(vals).argsort()[-10:][::-1].tolist()]\n",
    "    imp_words.append(words)\n",
    "    \n",
    "print(len(topic_word_distr))\n",
    "print(len(imp_words))\n"
   ]
  },
  {
   "cell_type": "code",
   "execution_count": 29,
   "metadata": {},
   "outputs": [
    {
     "name": "stdout",
     "output_type": "stream",
     "text": [
      "[[0.0, inf, inf, inf, inf, inf, inf, 0.8320041574735262, inf, 0.83241516788048, inf, inf, inf, inf, inf, 0.8317131581781076], [inf, 0.0, 0.8321510639271059, 0.830746994435888, inf, inf, inf, 0.8318968993283732, inf, inf, inf, inf, inf, inf, inf, 0.8317036099812292], [inf, 0.8321510639271059, 0.0, inf, 0.8324766704918531, inf, inf, 0.8324768012220044, inf, inf, inf, inf, inf, inf, inf, inf], [inf, 0.830746994435888, inf, 0.0, 0.8320672013953118, inf, inf, 0.8323237411236151, 0.8301030610348346, 0.8320602147982433, 0.8325149998412377, inf, inf, inf, 0.8324416674272346, inf], [inf, inf, 0.8324766704918531, 0.8320672013953118, 0.0, inf, inf, inf, 0.8318125706383528, inf, 0.8323137976550453, inf, inf, 0.8319785256189793, 0.8311171130100422, 0.8322892853933841], [inf, inf, inf, inf, inf, 0.0, inf, 0.8316465019834358, inf, 0.8317515151195622, 0.832336999490058, inf, inf, 0.8324342971843687, inf, inf], [inf, inf, inf, inf, inf, inf, 0.0, inf, inf, inf, inf, inf, inf, inf, inf, inf], [0.8320041574735262, 0.8318968993283732, 0.8324768012220044, 0.8323237411236151, inf, 0.8316465019834358, inf, 0.0, 0.8318168802836499, 0.832146442032297, 0.8323353801548613, 0.8048428127304854, 0.8289727379761771, 0.8321947222941357, 0.8323405196603263, 0.8321567996841556], [inf, inf, inf, 0.8301030610348346, 0.8318125706383528, inf, inf, 0.8318168802836499, 0.0, 0.831847684056393, 0.8324837468299101, inf, inf, inf, inf, inf], [0.83241516788048, inf, inf, 0.8320602147982433, inf, 0.8317515151195622, inf, 0.832146442032297, 0.831847684056393, 0.0, inf, inf, 0.8323979157338178, 0.8323788974478886, inf, inf], [inf, inf, inf, 0.8325149998412377, 0.8323137976550453, 0.832336999490058, inf, 0.8323353801548613, 0.8324837468299101, inf, 0.0, inf, 0.8316017485957985, 0.8324986299362174, 0.8324878522176025, 0.8319395866291809], [inf, inf, inf, inf, inf, inf, inf, 0.8048428127304854, inf, inf, inf, 0.0, inf, inf, inf, inf], [inf, inf, inf, inf, inf, inf, inf, 0.8289727379761771, inf, 0.8323979157338178, 0.8316017485957985, inf, 0.0, inf, inf, inf], [inf, inf, inf, inf, 0.8319785256189793, 0.8324342971843687, inf, 0.8321947222941357, inf, 0.8323788974478886, 0.8324986299362174, inf, inf, 0.0, inf, inf], [inf, inf, inf, 0.8324416674272346, 0.8311171130100422, inf, inf, 0.8323405196603263, inf, inf, 0.8324878522176025, inf, inf, inf, 0.0, inf], [0.8317131581781076, 0.8317036099812292, inf, inf, 0.8322892853933841, inf, inf, 0.8321567996841556, inf, inf, 0.8319395866291809, inf, inf, inf, inf, 0.0]]\n"
     ]
    }
   ],
   "source": [
    "from scipy.spatial import distance\n",
    "# import scipy\n",
    "\n",
    "dist = []\n",
    "for i in range(num_topics): \n",
    "    t1 = topic_word_distr[i]\n",
    "    d1 = []\n",
    "    for j in range(num_topics):\n",
    "        t2 = topic_word_distr[j]\n",
    "        d = distance.jensenshannon(t1, t2)\n",
    "        d1.append(d)\n",
    "    dist.append(d1)\n",
    "\n",
    "print(dist)"
   ]
  },
  {
   "cell_type": "code",
   "execution_count": 30,
   "metadata": {},
   "outputs": [
    {
     "name": "stdout",
     "output_type": "stream",
     "text": [
      "16\n"
     ]
    }
   ],
   "source": [
    "from sklearn.metrics.pairwise import cosine_similarity\n",
    "import math\n",
    "\n",
    "cos_sim = cosine_similarity(topic_word_distr, topic_word_distr)\n",
    "# cos_sim = [['{:f}'.format(item) for item in item_array] for item_array in cos_sim]\n",
    "# cos_sim = np.array(cos_sim)\n",
    "np.set_printoptions(suppress=True)\n",
    "cos_sim = np.round(cos_sim, 2)\n",
    "print((len(cos_sim[0])))"
   ]
  },
  {
   "cell_type": "code",
   "execution_count": 34,
   "metadata": {},
   "outputs": [
    {
     "data": {
      "image/png": "[encoded data removed]",
      "text/plain": [
       "<Figure size 720x504 with 1 Axes>"
      ]
     },
     "metadata": {
      "needs_background": "light"
     },
     "output_type": "display_data"
    }
   ],
   "source": [
    "# import scipy.cluster.hierarchy as shc\n",
    "# import matplotlib.pyplot as plt\n",
    "\n",
    "# plt.figure(figsize=(10, 7))\n",
    "# plt.title(\" Dendograms\")\n",
    "# dend = shc.dendrogram(shc.linkage(cos_sim, method='ward'))"
   ]
  },
  {
   "cell_type": "code",
   "execution_count": 35,
   "metadata": {},
   "outputs": [
    {
     "data": {
      "image/png": "[encoded data removed]",
      "text/plain": [
       "<Figure size 720x504 with 1 Axes>"
      ]
     },
     "metadata": {
      "needs_background": "light"
     },
     "output_type": "display_data"
    }
   ],
   "source": [
    "from scipy.cluster.hierarchy import dendrogram, linkage\n",
    "from matplotlib import pyplot as plt\n",
    "\n",
    "linked = linkage(cos_sim, 'ward')\n",
    "\n",
    "labelList = range(1, num_topics+1)\n",
    "\n",
    "plt.figure(figsize=(10, 7))\n",
    "dendrogram(linked,\n",
    "            orientation='top',\n",
    "            labels=labelList,\n",
    "            show_leaf_counts=True)\n",
    "plt.show()"
   ]
  },
  {
   "cell_type": "code",
   "execution_count": null,
   "metadata": {},
   "outputs": [],
   "source": []
  }
 ],
 "metadata": {
  "kernelspec": {
   "display_name": "Python 3",
   "language": "python",
   "name": "python3"
  },
  "language_info": {
   "codemirror_mode": {
    "name": "ipython",
    "version": 3
   },
   "file_extension": ".py",
   "mimetype": "text/x-python",
   "name": "python",
   "nbconvert_exporter": "python",
   "pygments_lexer": "ipython3",
   "version": "3.7.4"
  }
 },
 "nbformat": 4,
 "nbformat_minor": 2
}
