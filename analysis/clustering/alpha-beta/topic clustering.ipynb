{
 "cells": [
  {
   "cell_type": "code",
   "execution_count": 2,
   "metadata": {},
   "outputs": [
    {
     "data": {
      "text/html": [
       "<div>\n",
       "<style scoped>\n",
       "    .dataframe tbody tr th:only-of-type {\n",
       "        vertical-align: middle;\n",
       "    }\n",
       "\n",
       "    .dataframe tbody tr th {\n",
       "        vertical-align: top;\n",
       "    }\n",
       "\n",
       "    .dataframe thead th {\n",
       "        text-align: right;\n",
       "    }\n",
       "</style>\n",
       "<table border=\"1\" class=\"dataframe\">\n",
       "  <thead>\n",
       "    <tr style=\"text-align: right;\">\n",
       "      <th></th>\n",
       "      <th>topic</th>\n",
       "      <th>term</th>\n",
       "      <th>beta</th>\n",
       "    </tr>\n",
       "  </thead>\n",
       "  <tbody>\n",
       "    <tr>\n",
       "      <th>0</th>\n",
       "      <td>1</td>\n",
       "      <td>1_hour_break</td>\n",
       "      <td>3.672673e-208</td>\n",
       "    </tr>\n",
       "    <tr>\n",
       "      <th>1</th>\n",
       "      <td>2</td>\n",
       "      <td>1_hour_break</td>\n",
       "      <td>1.351000e-189</td>\n",
       "    </tr>\n",
       "    <tr>\n",
       "      <th>2</th>\n",
       "      <td>3</td>\n",
       "      <td>1_hour_break</td>\n",
       "      <td>8.675901e-213</td>\n",
       "    </tr>\n",
       "    <tr>\n",
       "      <th>3</th>\n",
       "      <td>4</td>\n",
       "      <td>1_hour_break</td>\n",
       "      <td>4.690151e-197</td>\n",
       "    </tr>\n",
       "    <tr>\n",
       "      <th>4</th>\n",
       "      <td>5</td>\n",
       "      <td>1_hour_break</td>\n",
       "      <td>6.897081e-192</td>\n",
       "    </tr>\n",
       "  </tbody>\n",
       "</table>\n",
       "</div>"
      ],
      "text/plain": [
       "   topic          term           beta\n",
       "0      1  1_hour_break  3.672673e-208\n",
       "1      2  1_hour_break  1.351000e-189\n",
       "2      3  1_hour_break  8.675901e-213\n",
       "3      4  1_hour_break  4.690151e-197\n",
       "4      5  1_hour_break  6.897081e-192"
      ]
     },
     "metadata": {},
     "output_type": "display_data"
    },
    {
     "name": "stdout",
     "output_type": "stream",
     "text": [
      "(172666, 3)\n"
     ]
    }
   ],
   "source": [
    "import pandas as pd\n",
    "import numpy as np\n",
    "\n",
    "num_topics = 26\n",
    "df = pd.read_csv(f\"~/Desktop/R_js/data/beta/pro{num_topics}_beta.csv\")\n",
    "\n",
    "display(df.head())\n",
    "print(df.shape)"
   ]
  },
  {
   "cell_type": "markdown",
   "metadata": {},
   "source": [
    "## Computing topic word distribution"
   ]
  },
  {
   "cell_type": "code",
   "execution_count": 37,
   "metadata": {},
   "outputs": [
    {
     "name": "stdout",
     "output_type": "stream",
     "text": [
      "26\n",
      "26\n"
     ]
    }
   ],
   "source": [
    "topic_word_distr = []\n",
    "imp_words = []\n",
    "terms = df[df.topic == 1].term.values.tolist()\n",
    "\n",
    "num_topics = len(df.topic.unique())\n",
    "for i in range(1, num_topics+1):\n",
    "    topic = df[df.topic == i] \n",
    "    vals = topic.beta.values.tolist()\n",
    "    topic_word_distr += [np.asarray(vals)]\n",
    "    words = [terms[i] for i in np.asarray(vals).argsort()[-10:][::-1].tolist()]\n",
    "    imp_words.append(words)\n",
    "    \n",
    "print(len(topic_word_distr))\n",
    "print(len(imp_words))"
   ]
  },
  {
   "cell_type": "markdown",
   "metadata": {},
   "source": [
    "# Dissimilarity Measure"
   ]
  },
  {
   "cell_type": "code",
   "execution_count": 59,
   "metadata": {},
   "outputs": [
    {
     "name": "stdout",
     "output_type": "stream",
     "text": [
      "[[0.0, 0.7327352468637109, 0.8323044061986776, 0.8325536025441058, 0.8320827507687758, 0.832425727591373, 0.8323244187202242, 0.8324585372461176, 0.8324015859033278, 0.8324115818215652, 0.832126945946274, 0.7947087923094072, 0.8322685546904088, 0.8324007764191051, 0.832459053131275, 0.832215110952098, 0.8312343869853788, 0.8322495853025533, 0.8322695625200496, 0.7652270168465799, 0.8309379400221265, 0.8322630337534296, 0.8316667622368653, 0.8322503319712625, 0.7916171422942008, 0.6822959290933661], [0.7327352468637109, 0.0, 0.8325457041675713, 0.8325545329505012, 0.8324322119369919, 0.8325379391315565, 0.8324634048459001, 0.832554610405917, 0.8324869197171669, 0.83254839822017, 0.8325546111576978, 0.7855747549270169, 0.8325517701237807, 0.8323972009172426, 0.8325112977290315, 0.8325545205680647, 0.8324852042657643, 0.8324665327710699, 0.8325543054136106, 0.7408098302129645, 0.8313848086092511, 0.8325038397270004, 0.8324099106460785, 0.832417723072178, 0.780123770073262, 0.5891450563991173], [0.8323044061986776, 0.8325457041675713, 0.0, 0.8325544040785547, 0.8322929246318522, 0.8324601766188112, 0.8319318203281988, 0.8321435265008379, 0.8322651223668903, 0.8320224855404221, 0.830729656082441, 0.8314495804159125, 0.8325546111528644, 0.831791308291476, 0.8320504820238194, 0.8325126691153778, 0.831828048438949, 0.8305011007334065, 0.8325541306644701, 0.8322158028460956, 0.8321404278123354, 0.8321246381669896, 0.8313373627942325, 0.8323766406133177, 0.8321559677305695, 0.8325546111576431], [0.8325536025441058, 0.8325545329505012, 0.8325544040785547, 0.0, 0.8323990799379751, 0.832465968567287, 0.8321690594978567, 0.832474442835304, 0.8325506559947604, 0.8323624524629116, 0.8320887588142476, 0.8321301564693289, 0.8325546110135028, 0.8321598183015535, 0.8324470575401629, 0.8325546111552139, 0.8324212199264982, 0.8324963514889556, 0.8325545077817399, 0.8325546111576305, 0.8324131203736523, 0.8324652377491616, 0.8324464270433714, 0.832342553262731, 0.832447961122774, 0.8325546111576978], [0.8320827507687758, 0.8324322119369919, 0.8322929246318522, 0.8323990799379751, 0.0, 0.8324343724649156, 0.8321354754824415, 0.8304346360816873, 0.8320277197962602, 0.8265267484003136, 0.8303297222463661, 0.8321845648285667, 0.8323727478073516, 0.832151198980509, 0.8320943639338044, 0.8323664614292573, 0.781103082069929, 0.8322770590444611, 0.8323761504460704, 0.8322836078049745, 0.8317110940072396, 0.8321856330332853, 0.8320655602904243, 0.8297613468963764, 0.8324349804284982, 0.8325546111575699], [0.832425727591373, 0.8325379391315565, 0.8324601766188112, 0.832465968567287, 0.8324343724649156, 0.0, 0.8319472407085485, 0.8322373635438312, 0.8324712573937525, 0.8324655123490063, 0.8323215582803335, 0.8321613427610649, 0.8325033529833263, 0.8322878158754075, 0.832411979335159, 0.8324346019548867, 0.8325545611079558, 0.8324781637482833, 0.8324605755534141, 0.8324423392370679, 0.832156458128561, 0.8323252468706291, 0.8324888412980744, 0.8322952317013056, 0.8324180698568086, 0.8325544835505377], [0.8323244187202242, 0.8324634048459001, 0.8319318203281988, 0.8321690594978567, 0.8321354754824415, 0.8319472407085485, 0.0, 0.827899955286404, 0.8286696851886345, 0.8317010255421352, 0.8294848299797422, 0.8276683880543221, 0.8322950352217463, 0.8315668447128688, 0.8323894060331802, 0.7970871540539923, 0.8313553749813206, 0.7868039752188498, 0.8322489699978294, 0.8324264483870537, 0.8320084059044884, 0.8324161174188252, 0.8282769551647058, 0.8324364390559141, 0.8322903212157811, 0.8325546111576978], [0.8324585372461176, 0.832554610405917, 0.8321435265008379, 0.832474442835304, 0.8304346360816873, 0.8322373635438312, 0.827899955286404, 0.0, 0.825952048716132, 0.8320930633265611, 0.831487553808054, 0.8324165289263317, 0.8325545225149942, 0.8321466281589418, 0.8322411932299871, 0.8321594879581832, 0.8322110816796536, 0.832282692759683, 0.8323851663375627, 0.8324697133528225, 0.8319972420808907, 0.8324987732522524, 0.8320146058342341, 0.8325338779285413, 0.8321332330157257, 0.8325546111576969], [0.8324015859033278, 0.8324869197171669, 0.8322651223668903, 0.8325506559947604, 0.8320277197962602, 0.8324712573937525, 0.8286696851886345, 0.825952048716132, 0.0, 0.8322464525785445, 0.8300518227557045, 0.8086604563117231, 0.832425635439467, 0.8322779340325742, 0.8324124264150744, 0.8320277039934566, 0.8312286435601451, 0.8322104401283911, 0.8324013616517663, 0.832193240480888, 0.8289446758897939, 0.8325112480316648, 0.8320823261096274, 0.832466182985763, 0.8324050885366858, 0.8325546111576978], [0.8324115818215652, 0.83254839822017, 0.8320224855404221, 0.8323624524629116, 0.8265267484003136, 0.8324655123490063, 0.8317010255421352, 0.8320930633265611, 0.8322464525785445, 0.0, 0.8317819145276264, 0.8320133251673411, 0.8325543611795979, 0.8318133899768242, 0.8321680606432899, 0.8323158433906341, 0.8321063910689267, 0.8316046479143101, 0.8324948560537067, 0.8322866110709872, 0.8319821178287072, 0.8324382931775818, 0.832204319085719, 0.8322346534575761, 0.8323597112499866, 0.8325479324278134], [0.832126945946274, 0.8325546111576978, 0.830729656082441, 0.8320887588142476, 0.8303297222463661, 0.8323215582803335, 0.8294848299797422, 0.831487553808054, 0.8300518227557045, 0.8317819145276264, 0.0, 0.8316949759679145, 0.8303639165901264, 0.8314029897349976, 0.831839382882632, 0.8321410055717302, 0.8308426094172594, 0.8319856643099319, 0.8318584206653596, 0.8321141423233115, 0.825038722297213, 0.8066345197233437, 0.831326380572895, 0.8315371716850248, 0.8323107196383358, 0.8325546111576978], [0.7947087923094072, 0.7855747549270169, 0.8314495804159125, 0.8321301564693289, 0.8321845648285667, 0.8321613427610649, 0.8276683880543221, 0.8324165289263317, 0.8086604563117231, 0.8320133251673411, 0.8316949759679145, 0.0, 0.8211845769876709, 0.8319445363014156, 0.8320926358526224, 0.8323660111312235, 0.831675080529197, 0.8324720359228382, 0.8319744445380447, 0.7971772864305803, 0.8313693258213284, 0.8322869413446883, 0.8318318531813278, 0.8322472528810907, 0.8081376764339173, 0.7695790607457104], [0.8322685546904088, 0.8325517701237807, 0.8325546111528644, 0.8325546110135028, 0.8323727478073516, 0.8325033529833263, 0.8322950352217463, 0.8325545225149942, 0.832425635439467, 0.8325543611795979, 0.8303639165901264, 0.8211845769876709, 0.0, 0.8322786687894854, 0.8324789505732497, 0.8324724129638101, 0.8317234999301009, 0.832493611586529, 0.8325546107165267, 0.8321042488389232, 0.8324577184164214, 0.8325059705501217, 0.8321165264536142, 0.832346529308316, 0.8325449385044817, 0.8325531455162298], [0.8324007764191051, 0.8323972009172426, 0.831791308291476, 0.8321598183015535, 0.832151198980509, 0.8322878158754075, 0.8315668447128688, 0.8321466281589418, 0.8322779340325742, 0.8318133899768242, 0.8314029897349976, 0.8319445363014156, 0.8322786687894854, 0.0, 0.8318723866086766, 0.8323083360115472, 0.8324874135021196, 0.8316008534535778, 0.8321742140069752, 0.8323724244193801, 0.8308563632610507, 0.8324898080181355, 0.8316002807289214, 0.8322773863621516, 0.8295985961161013, 0.8325538788596372], [0.832459053131275, 0.8325112977290315, 0.8320504820238194, 0.8324470575401629, 0.8320943639338044, 0.832411979335159, 0.8323894060331802, 0.8322411932299871, 0.8324124264150744, 0.8321680606432899, 0.831839382882632, 0.8320926358526224, 0.8324789505732497, 0.8318723866086766, 0.0, 0.8322918509476528, 0.8317028365472896, 0.8323407882274915, 0.8317139483671124, 0.8324955981609069, 0.8320736249375028, 0.8325457138487034, 0.8315905294871749, 0.8324986752896124, 0.8323865053123558, 0.832554611157689], [0.832215110952098, 0.8325545205680647, 0.8325126691153778, 0.8325546111552139, 0.8323664614292573, 0.8324346019548867, 0.7970871540539923, 0.8321594879581832, 0.8320277039934566, 0.8323158433906341, 0.8321410055717302, 0.8323660111312235, 0.8324724129638101, 0.8323083360115472, 0.8322918509476528, 0.0, 0.8312538955762081, 0.7990174487652657, 0.832435375770652, 0.8324082077822653, 0.8276758434357111, 0.8324603190941835, 0.8319754875929695, 0.8322522040917082, 0.7868436691134649, 0.8325546111576977], [0.8312343869853788, 0.8324852042657643, 0.831828048438949, 0.8324212199264982, 0.781103082069929, 0.8325545611079558, 0.8313553749813206, 0.8322110816796536, 0.8312286435601451, 0.8321063910689267, 0.8308426094172594, 0.831675080529197, 0.8317234999301009, 0.8324874135021196, 0.8317028365472896, 0.8312538955762081, 0.0, 0.8323040086555812, 0.8325544454481101, 0.8320560723028937, 0.8302924890561152, 0.831803945252923, 0.8316278891060405, 0.831392773773128, 0.8323751506406912, 0.8325410806669882], [0.8322495853025533, 0.8324665327710699, 0.8305011007334065, 0.8324963514889556, 0.8322770590444611, 0.8324781637482833, 0.7868039752188498, 0.832282692759683, 0.8322104401283911, 0.8316046479143101, 0.8319856643099319, 0.8324720359228382, 0.832493611586529, 0.8316008534535778, 0.8323407882274915, 0.7990174487652657, 0.8323040086555812, 0.0, 0.8322623735933408, 0.8323872710390041, 0.8320541658552313, 0.8324291215513003, 0.8320207528270627, 0.8320979357917264, 0.8324897234781372, 0.8325546111576977], [0.8322695625200496, 0.8325543054136106, 0.8325541306644701, 0.8325545077817399, 0.8323761504460704, 0.8324605755534141, 0.8322489699978294, 0.8323851663375627, 0.8324013616517663, 0.8324948560537067, 0.8318584206653596, 0.8319744445380447, 0.8325546107165267, 0.8321742140069752, 0.8317139483671124, 0.832435375770652, 0.8325544454481101, 0.8322623735933408, 0.0, 0.832355614542116, 0.8323992301351634, 0.8322313543279842, 0.832106058153478, 0.8319191488189823, 0.8324045594008662, 0.8325546111567355], [0.7652270168465799, 0.7408098302129645, 0.8322158028460956, 0.8325546111576305, 0.8322836078049745, 0.8324423392370679, 0.8324264483870537, 0.8324697133528225, 0.832193240480888, 0.8322866110709872, 0.8321141423233115, 0.7971772864305803, 0.8321042488389232, 0.8323724244193801, 0.8324955981609069, 0.8324082077822653, 0.8320560723028937, 0.8323872710390041, 0.832355614542116, 0.0, 0.8313661545494969, 0.8325546062897585, 0.8324863430314319, 0.8323389072230619, 0.7938518408361994, 0.6968810672608569], [0.8309379400221265, 0.8313848086092511, 0.8321404278123354, 0.8324131203736523, 0.8317110940072396, 0.832156458128561, 0.8320084059044884, 0.8319972420808907, 0.8289446758897939, 0.8319821178287072, 0.825038722297213, 0.8313693258213284, 0.8324577184164214, 0.8308563632610507, 0.8320736249375028, 0.8276758434357111, 0.8302924890561152, 0.8320541658552313, 0.8323992301351634, 0.8313661545494969, 0.0, 0.8323789935848698, 0.8316866024893989, 0.8289167015025487, 0.832301545595495, 0.8325546111576977], [0.8322630337534296, 0.8325038397270004, 0.8321246381669896, 0.8324652377491616, 0.8321856330332853, 0.8323252468706291, 0.8324161174188252, 0.8324987732522524, 0.8325112480316648, 0.8324382931775818, 0.8066345197233437, 0.8322869413446883, 0.8325059705501217, 0.8324898080181355, 0.8325457138487034, 0.8324603190941835, 0.831803945252923, 0.8324291215513003, 0.8322313543279842, 0.8325546062897585, 0.8323789935848698, 0.0, 0.8316246990829678, 0.8284846065872856, 0.832394771991684, 0.8325546111576976], [0.8316667622368653, 0.8324099106460785, 0.8313373627942325, 0.8324464270433714, 0.8320655602904243, 0.8324888412980744, 0.8282769551647058, 0.8320146058342341, 0.8320823261096274, 0.832204319085719, 0.831326380572895, 0.8318318531813278, 0.8321165264536142, 0.8316002807289214, 0.8315905294871749, 0.8319754875929695, 0.8316278891060405, 0.8320207528270627, 0.832106058153478, 0.8324863430314319, 0.8316866024893989, 0.8316246990829678, 0.0, 0.831503235739873, 0.8323317526295809, 0.8325546111576978], [0.8322503319712625, 0.832417723072178, 0.8323766406133177, 0.832342553262731, 0.8297613468963764, 0.8322952317013056, 0.8324364390559141, 0.8325338779285413, 0.832466182985763, 0.8322346534575761, 0.8315371716850248, 0.8322472528810907, 0.832346529308316, 0.8322773863621516, 0.8324986752896124, 0.8322522040917082, 0.831392773773128, 0.8320979357917264, 0.8319191488189823, 0.8323389072230619, 0.8289167015025487, 0.8284846065872856, 0.831503235739873, 0.0, 0.8323599902745241, 0.8324369475785133], [0.7916171422942008, 0.780123770073262, 0.8321559677305695, 0.832447961122774, 0.8324349804284982, 0.8324180698568086, 0.8322903212157811, 0.8321332330157257, 0.8324050885366858, 0.8323597112499866, 0.8323107196383358, 0.8081376764339173, 0.8325449385044817, 0.8295985961161013, 0.8323865053123558, 0.7868436691134649, 0.8323751506406912, 0.8324897234781372, 0.8324045594008662, 0.7938518408361994, 0.832301545595495, 0.832394771991684, 0.8323317526295809, 0.8323599902745241, 0.0, 0.7615419220175648], [0.6822959290933661, 0.5891450563991173, 0.8325546111576431, 0.8325546111576978, 0.8325546111575699, 0.8325544835505377, 0.8325546111576978, 0.8325546111576969, 0.8325546111576978, 0.8325479324278134, 0.8325546111576978, 0.7695790607457104, 0.8325531455162298, 0.8325538788596372, 0.832554611157689, 0.8325546111576977, 0.8325410806669882, 0.8325546111576977, 0.8325546111567355, 0.6968810672608569, 0.8325546111576977, 0.8325546111576976, 0.8325546111576978, 0.8324369475785133, 0.7615419220175648, 0.0]]\n"
     ]
    }
   ],
   "source": [
    "from scipy.spatial import distance\n",
    "\n",
    "dist = []\n",
    "for i in range(num_topics): \n",
    "    t1 = topic_word_distr[i]\n",
    "    d1 = []\n",
    "    for j in range(num_topics):\n",
    "        t2 = topic_word_distr[j]\n",
    "        d = distance.jensenshannon(t1, t2)\n",
    "        d1.append(d)\n",
    "    dist.append(d1)\n",
    "\n",
    "print(dist)"
   ]
  },
  {
   "cell_type": "markdown",
   "metadata": {},
   "source": [
    "# Dimensionality Reduction"
   ]
  },
  {
   "cell_type": "markdown",
   "metadata": {},
   "source": [
    "## TSNE"
   ]
  },
  {
   "cell_type": "code",
   "execution_count": 38,
   "metadata": {},
   "outputs": [
    {
     "name": "stdout",
     "output_type": "stream",
     "text": [
      "[t-SNE] Computing 25 nearest neighbors...\n",
      "[t-SNE] Indexed 26 samples in 0.000s...\n",
      "[t-SNE] Computed neighbors for 26 samples in 0.034s...\n",
      "[t-SNE] Computed conditional probabilities for sample 26 / 26\n",
      "[t-SNE] Mean sigma: 1125899906842624.000000\n",
      "[t-SNE] KL divergence after 250 iterations with early exaggeration: 51.058292\n",
      "[t-SNE] KL divergence after 1000 iterations: 0.439410\n"
     ]
    }
   ],
   "source": [
    "# Clustering\n",
    "from sklearn.manifold import TSNE\n",
    "# tsne = TSNE(n_components=2)\n",
    "tsne = TSNE(n_components=2, verbose=1, random_state=0, angle=.99, init='pca')\n",
    "X_tsne = tsne.fit_transform(topic_word_distr)"
   ]
  },
  {
   "cell_type": "markdown",
   "metadata": {},
   "source": [
    "## PCA"
   ]
  },
  {
   "cell_type": "code",
   "execution_count": 60,
   "metadata": {},
   "outputs": [],
   "source": [
    "from sklearn.decomposition import PCA\n",
    "\n",
    "pca = PCA(n_components=2)\n",
    "X_tsne = pca.fit_transform(dist)"
   ]
  },
  {
   "cell_type": "markdown",
   "metadata": {},
   "source": [
    "# Visualization"
   ]
  },
  {
   "cell_type": "code",
   "execution_count": 61,
   "metadata": {},
   "outputs": [
    {
     "name": "stdout",
     "output_type": "stream",
     "text": [
      "['#2c3790' '#dd64b7' '#d6aa5c' '#06d0af' '#e97e72' '#e3d693' '#80ce05'\n",
      " '#e69a30' '#25d55f' '#66ff4d' '#34f806' '#d05631' '#b28e3c' '#0d30dd'\n",
      " '#964802' '#5d8787' '#fc671e' '#b5be3c' '#2e7ddf' '#cd27b6' '#bc6662'\n",
      " '#c4c8d2' '#a5d8b1' '#1bfff9' '#57aa32' '#062836']\n"
     ]
    }
   ],
   "source": [
    "# Generate random colors\n",
    "\n",
    "import random\n",
    "get_colors = lambda n: list(map(lambda i: \"#\" + \"%06x\" % random.randint(0, 0xFFFFFF),range(n)))\n",
    "colormap = np.asarray(get_colors(num_topics)) \n",
    "print(colormap)"
   ]
  },
  {
   "cell_type": "code",
   "execution_count": 62,
   "metadata": {},
   "outputs": [
    {
     "data": {
      "text/html": [
       "<div>\n",
       "<style scoped>\n",
       "    .dataframe tbody tr th:only-of-type {\n",
       "        vertical-align: middle;\n",
       "    }\n",
       "\n",
       "    .dataframe tbody tr th {\n",
       "        vertical-align: top;\n",
       "    }\n",
       "\n",
       "    .dataframe thead th {\n",
       "        text-align: right;\n",
       "    }\n",
       "</style>\n",
       "<table border=\"1\" class=\"dataframe\">\n",
       "  <thead>\n",
       "    <tr style=\"text-align: right;\">\n",
       "      <th></th>\n",
       "      <th>X_tsne</th>\n",
       "      <th>Y_tsne</th>\n",
       "      <th>Topic</th>\n",
       "      <th>Topic_words</th>\n",
       "      <th>Colors</th>\n",
       "    </tr>\n",
       "  </thead>\n",
       "  <tbody>\n",
       "    <tr>\n",
       "      <th>0</th>\n",
       "      <td>0.424407</td>\n",
       "      <td>-0.019970</td>\n",
       "      <td>0</td>\n",
       "      <td>[salari, benefit, competit, salari_benefit, co...</td>\n",
       "      <td>#2c3790</td>\n",
       "    </tr>\n",
       "    <tr>\n",
       "      <th>1</th>\n",
       "      <td>0.587125</td>\n",
       "      <td>-0.013552</td>\n",
       "      <td>1</td>\n",
       "      <td>[pay, benefit, benefit_pay, weekli, hard, comm...</td>\n",
       "      <td>#dd64b7</td>\n",
       "    </tr>\n",
       "    <tr>\n",
       "      <th>2</th>\n",
       "      <td>-0.116011</td>\n",
       "      <td>-0.054128</td>\n",
       "      <td>2</td>\n",
       "      <td>[opportun, advanc, fast, pace, fast_pace, grow...</td>\n",
       "      <td>#d6aa5c</td>\n",
       "    </tr>\n",
       "    <tr>\n",
       "      <th>3</th>\n",
       "      <td>-0.114990</td>\n",
       "      <td>-0.061738</td>\n",
       "      <td>3</td>\n",
       "      <td>[lot, event, perk, avail, activ, interact, res...</td>\n",
       "      <td>#06d0af</td>\n",
       "    </tr>\n",
       "    <tr>\n",
       "      <th>4</th>\n",
       "      <td>-0.132947</td>\n",
       "      <td>-0.230052</td>\n",
       "      <td>4</td>\n",
       "      <td>[life, balanc, life_balanc, abl, develop, prof...</td>\n",
       "      <td>#e97e72</td>\n",
       "    </tr>\n",
       "  </tbody>\n",
       "</table>\n",
       "</div>"
      ],
      "text/plain": [
       "     X_tsne    Y_tsne  Topic  \\\n",
       "0  0.424407 -0.019970      0   \n",
       "1  0.587125 -0.013552      1   \n",
       "2 -0.116011 -0.054128      2   \n",
       "3 -0.114990 -0.061738      3   \n",
       "4 -0.132947 -0.230052      4   \n",
       "\n",
       "                                         Topic_words   Colors  \n",
       "0  [salari, benefit, competit, salari_benefit, co...  #2c3790  \n",
       "1  [pay, benefit, benefit_pay, weekli, hard, comm...  #dd64b7  \n",
       "2  [opportun, advanc, fast, pace, fast_pace, grow...  #d6aa5c  \n",
       "3  [lot, event, perk, avail, activ, interact, res...  #06d0af  \n",
       "4  [life, balanc, life_balanc, abl, develop, prof...  #e97e72  "
      ]
     },
     "metadata": {},
     "output_type": "display_data"
    }
   ],
   "source": [
    "df_cluster = pd.DataFrame()\n",
    "df_cluster['X_tsne'] = X_tsne[:, 0]\n",
    "df_cluster['Y_tsne'] = X_tsne[:, 1]\n",
    "df_cluster['Topic'] = range(num_topics)\n",
    "df_cluster['Topic_words'] = imp_words\n",
    "\n",
    "cluster_colors = dict()\n",
    "for c in range(num_topics): \n",
    "    cluster_colors[c] = colormap[c]\n",
    "    \n",
    "df_cluster['Colors'] = df_cluster['Topic'].apply(lambda l: cluster_colors[l])\n",
    "df_cluster.sort_values(by=['Topic'], inplace=True)\n",
    "\n",
    "display(df_cluster.head())"
   ]
  },
  {
   "cell_type": "code",
   "execution_count": 63,
   "metadata": {},
   "outputs": [
    {
     "data": {
      "text/html": [
       "\n",
       "    <div class=\"bk-root\">\n",
       "        <a href=\"https://bokeh.org\" target=\"_blank\" class=\"bk-logo bk-logo-small bk-logo-notebook\"></a>\n",
       "        <span id=\"1139\">Loading BokehJS ...</span>\n",
       "    </div>"
      ]
     },
     "metadata": {},
     "output_type": "display_data"
    },
    {
     "data": {
      "application/javascript": [
       "\n",
       "(function(root) {\n",
       "  function now() {\n",
       "    return new Date();\n",
       "  }\n",
       "\n",
       "  var force = true;\n",
       "\n",
       "  if (typeof root._bokeh_onload_callbacks === \"undefined\" || force === true) {\n",
       "    root._bokeh_onload_callbacks = [];\n",
       "    root._bokeh_is_loading = undefined;\n",
       "  }\n",
       "\n",
       "  var JS_MIME_TYPE = 'application/javascript';\n",
       "  var HTML_MIME_TYPE = 'text/html';\n",
       "  var EXEC_MIME_TYPE = 'application/vnd.bokehjs_exec.v0+json';\n",
       "  var CLASS_NAME = 'output_bokeh rendered_html';\n",
       "\n",
       "  /**\n",
       "   * Render data to the DOM node\n",
       "   */\n",
       "  function render(props, node) {\n",
       "    var script = document.createElement(\"script\");\n",
       "    node.appendChild(script);\n",
       "  }\n",
       "\n",
       "  /**\n",
       "   * Handle when an output is cleared or removed\n",
       "   */\n",
       "  function handleClearOutput(event, handle) {\n",
       "    var cell = handle.cell;\n",
       "\n",
       "    var id = cell.output_area._bokeh_element_id;\n",
       "    var server_id = cell.output_area._bokeh_server_id;\n",
       "    // Clean up Bokeh references\n",
       "    if (id != null && id in Bokeh.index) {\n",
       "      Bokeh.index[id].model.document.clear();\n",
       "      delete Bokeh.index[id];\n",
       "    }\n",
       "\n",
       "    if (server_id !== undefined) {\n",
       "      // Clean up Bokeh references\n",
       "      var cmd = \"from bokeh.io.state import curstate; print(curstate().uuid_to_server['\" + server_id + \"'].get_sessions()[0].document.roots[0]._id)\";\n",
       "      cell.notebook.kernel.execute(cmd, {\n",
       "        iopub: {\n",
       "          output: function(msg) {\n",
       "            var id = msg.content.text.trim();\n",
       "            if (id in Bokeh.index) {\n",
       "              Bokeh.index[id].model.document.clear();\n",
       "              delete Bokeh.index[id];\n",
       "            }\n",
       "          }\n",
       "        }\n",
       "      });\n",
       "      // Destroy server and session\n",
       "      var cmd = \"import bokeh.io.notebook as ion; ion.destroy_server('\" + server_id + \"')\";\n",
       "      cell.notebook.kernel.execute(cmd);\n",
       "    }\n",
       "  }\n",
       "\n",
       "  /**\n",
       "   * Handle when a new output is added\n",
       "   */\n",
       "  function handleAddOutput(event, handle) {\n",
       "    var output_area = handle.output_area;\n",
       "    var output = handle.output;\n",
       "\n",
       "    // limit handleAddOutput to display_data with EXEC_MIME_TYPE content only\n",
       "    if ((output.output_type != \"display_data\") || (!output.data.hasOwnProperty(EXEC_MIME_TYPE))) {\n",
       "      return\n",
       "    }\n",
       "\n",
       "    var toinsert = output_area.element.find(\".\" + CLASS_NAME.split(' ')[0]);\n",
       "\n",
       "    if (output.metadata[EXEC_MIME_TYPE][\"id\"] !== undefined) {\n",
       "      toinsert[toinsert.length - 1].firstChild.textContent = output.data[JS_MIME_TYPE];\n",
       "      // store reference to embed id on output_area\n",
       "      output_area._bokeh_element_id = output.metadata[EXEC_MIME_TYPE][\"id\"];\n",
       "    }\n",
       "    if (output.metadata[EXEC_MIME_TYPE][\"server_id\"] !== undefined) {\n",
       "      var bk_div = document.createElement(\"div\");\n",
       "      bk_div.innerHTML = output.data[HTML_MIME_TYPE];\n",
       "      var script_attrs = bk_div.children[0].attributes;\n",
       "      for (var i = 0; i < script_attrs.length; i++) {\n",
       "        toinsert[toinsert.length - 1].firstChild.setAttribute(script_attrs[i].name, script_attrs[i].value);\n",
       "      }\n",
       "      // store reference to server id on output_area\n",
       "      output_area._bokeh_server_id = output.metadata[EXEC_MIME_TYPE][\"server_id\"];\n",
       "    }\n",
       "  }\n",
       "\n",
       "  function register_renderer(events, OutputArea) {\n",
       "\n",
       "    function append_mime(data, metadata, element) {\n",
       "      // create a DOM node to render to\n",
       "      var toinsert = this.create_output_subarea(\n",
       "        metadata,\n",
       "        CLASS_NAME,\n",
       "        EXEC_MIME_TYPE\n",
       "      );\n",
       "      this.keyboard_manager.register_events(toinsert);\n",
       "      // Render to node\n",
       "      var props = {data: data, metadata: metadata[EXEC_MIME_TYPE]};\n",
       "      render(props, toinsert[toinsert.length - 1]);\n",
       "      element.append(toinsert);\n",
       "      return toinsert\n",
       "    }\n",
       "\n",
       "    /* Handle when an output is cleared or removed */\n",
       "    events.on('clear_output.CodeCell', handleClearOutput);\n",
       "    events.on('delete.Cell', handleClearOutput);\n",
       "\n",
       "    /* Handle when a new output is added */\n",
       "    events.on('output_added.OutputArea', handleAddOutput);\n",
       "\n",
       "    /**\n",
       "     * Register the mime type and append_mime function with output_area\n",
       "     */\n",
       "    OutputArea.prototype.register_mime_type(EXEC_MIME_TYPE, append_mime, {\n",
       "      /* Is output safe? */\n",
       "      safe: true,\n",
       "      /* Index of renderer in `output_area.display_order` */\n",
       "      index: 0\n",
       "    });\n",
       "  }\n",
       "\n",
       "  // register the mime type if in Jupyter Notebook environment and previously unregistered\n",
       "  if (root.Jupyter !== undefined) {\n",
       "    var events = require('base/js/events');\n",
       "    var OutputArea = require('notebook/js/outputarea').OutputArea;\n",
       "\n",
       "    if (OutputArea.prototype.mime_types().indexOf(EXEC_MIME_TYPE) == -1) {\n",
       "      register_renderer(events, OutputArea);\n",
       "    }\n",
       "  }\n",
       "\n",
       "  \n",
       "  if (typeof (root._bokeh_timeout) === \"undefined\" || force === true) {\n",
       "    root._bokeh_timeout = Date.now() + 5000;\n",
       "    root._bokeh_failed_load = false;\n",
       "  }\n",
       "\n",
       "  var NB_LOAD_WARNING = {'data': {'text/html':\n",
       "     \"<div style='background-color: #fdd'>\\n\"+\n",
       "     \"<p>\\n\"+\n",
       "     \"BokehJS does not appear to have successfully loaded. If loading BokehJS from CDN, this \\n\"+\n",
       "     \"may be due to a slow or bad network connection. Possible fixes:\\n\"+\n",
       "     \"</p>\\n\"+\n",
       "     \"<ul>\\n\"+\n",
       "     \"<li>re-rerun `output_notebook()` to attempt to load from CDN again, or</li>\\n\"+\n",
       "     \"<li>use INLINE resources instead, as so:</li>\\n\"+\n",
       "     \"</ul>\\n\"+\n",
       "     \"<code>\\n\"+\n",
       "     \"from bokeh.resources import INLINE\\n\"+\n",
       "     \"output_notebook(resources=INLINE)\\n\"+\n",
       "     \"</code>\\n\"+\n",
       "     \"</div>\"}};\n",
       "\n",
       "  function display_loaded() {\n",
       "    var el = document.getElementById(\"1139\");\n",
       "    if (el != null) {\n",
       "      el.textContent = \"BokehJS is loading...\";\n",
       "    }\n",
       "    if (root.Bokeh !== undefined) {\n",
       "      if (el != null) {\n",
       "        el.textContent = \"BokehJS \" + root.Bokeh.version + \" successfully loaded.\";\n",
       "      }\n",
       "    } else if (Date.now() < root._bokeh_timeout) {\n",
       "      setTimeout(display_loaded, 100)\n",
       "    }\n",
       "  }\n",
       "\n",
       "\n",
       "  function run_callbacks() {\n",
       "    try {\n",
       "      root._bokeh_onload_callbacks.forEach(function(callback) {\n",
       "        if (callback != null)\n",
       "          callback();\n",
       "      });\n",
       "    } finally {\n",
       "      delete root._bokeh_onload_callbacks\n",
       "    }\n",
       "    console.debug(\"Bokeh: all callbacks have finished\");\n",
       "  }\n",
       "\n",
       "  function load_libs(css_urls, js_urls, callback) {\n",
       "    if (css_urls == null) css_urls = [];\n",
       "    if (js_urls == null) js_urls = [];\n",
       "\n",
       "    root._bokeh_onload_callbacks.push(callback);\n",
       "    if (root._bokeh_is_loading > 0) {\n",
       "      console.debug(\"Bokeh: BokehJS is being loaded, scheduling callback at\", now());\n",
       "      return null;\n",
       "    }\n",
       "    if (js_urls == null || js_urls.length === 0) {\n",
       "      run_callbacks();\n",
       "      return null;\n",
       "    }\n",
       "    console.debug(\"Bokeh: BokehJS not loaded, scheduling load and callback at\", now());\n",
       "    root._bokeh_is_loading = css_urls.length + js_urls.length;\n",
       "\n",
       "    function on_load() {\n",
       "      root._bokeh_is_loading--;\n",
       "      if (root._bokeh_is_loading === 0) {\n",
       "        console.debug(\"Bokeh: all BokehJS libraries/stylesheets loaded\");\n",
       "        run_callbacks()\n",
       "      }\n",
       "    }\n",
       "\n",
       "    function on_error() {\n",
       "      console.error(\"failed to load \" + url);\n",
       "    }\n",
       "\n",
       "    for (var i = 0; i < css_urls.length; i++) {\n",
       "      var url = css_urls[i];\n",
       "      const element = document.createElement(\"link\");\n",
       "      element.onload = on_load;\n",
       "      element.onerror = on_error;\n",
       "      element.rel = \"stylesheet\";\n",
       "      element.type = \"text/css\";\n",
       "      element.href = url;\n",
       "      console.debug(\"Bokeh: injecting link tag for BokehJS stylesheet: \", url);\n",
       "      document.body.appendChild(element);\n",
       "    }\n",
       "\n",
       "    for (var i = 0; i < js_urls.length; i++) {\n",
       "      var url = js_urls[i];\n",
       "      var element = document.createElement('script');\n",
       "      element.onload = on_load;\n",
       "      element.onerror = on_error;\n",
       "      element.async = false;\n",
       "      element.src = url;\n",
       "      console.debug(\"Bokeh: injecting script tag for BokehJS library: \", url);\n",
       "      document.head.appendChild(element);\n",
       "    }\n",
       "  };var element = document.getElementById(\"1139\");\n",
       "  if (element == null) {\n",
       "    console.error(\"Bokeh: ERROR: autoload.js configured with elementid '1139' but no matching script tag was found. \")\n",
       "    return false;\n",
       "  }\n",
       "\n",
       "  function inject_raw_css(css) {\n",
       "    const element = document.createElement(\"style\");\n",
       "    element.appendChild(document.createTextNode(css));\n",
       "    document.body.appendChild(element);\n",
       "  }\n",
       "\n",
       "  \n",
       "  var js_urls = [\"https://cdn.pydata.org/bokeh/release/bokeh-1.4.0.min.js\", \"https://cdn.pydata.org/bokeh/release/bokeh-widgets-1.4.0.min.js\", \"https://cdn.pydata.org/bokeh/release/bokeh-tables-1.4.0.min.js\", \"https://cdn.pydata.org/bokeh/release/bokeh-gl-1.4.0.min.js\"];\n",
       "  var css_urls = [];\n",
       "  \n",
       "\n",
       "  var inline_js = [\n",
       "    function(Bokeh) {\n",
       "      Bokeh.set_log_level(\"info\");\n",
       "    },\n",
       "    function(Bokeh) {\n",
       "    \n",
       "    \n",
       "    }\n",
       "  ];\n",
       "\n",
       "  function run_inline_js() {\n",
       "    \n",
       "    if (root.Bokeh !== undefined || force === true) {\n",
       "      \n",
       "    for (var i = 0; i < inline_js.length; i++) {\n",
       "      inline_js[i].call(root, root.Bokeh);\n",
       "    }\n",
       "    if (force === true) {\n",
       "        display_loaded();\n",
       "      }} else if (Date.now() < root._bokeh_timeout) {\n",
       "      setTimeout(run_inline_js, 100);\n",
       "    } else if (!root._bokeh_failed_load) {\n",
       "      console.log(\"Bokeh: BokehJS failed to load within specified timeout.\");\n",
       "      root._bokeh_failed_load = true;\n",
       "    } else if (force !== true) {\n",
       "      var cell = $(document.getElementById(\"1139\")).parents('.cell').data().cell;\n",
       "      cell.output_area.append_execute_result(NB_LOAD_WARNING)\n",
       "    }\n",
       "\n",
       "  }\n",
       "\n",
       "  if (root._bokeh_is_loading === 0) {\n",
       "    console.debug(\"Bokeh: BokehJS loaded, going straight to plotting\");\n",
       "    run_inline_js();\n",
       "  } else {\n",
       "    load_libs(css_urls, js_urls, function() {\n",
       "      console.debug(\"Bokeh: BokehJS plotting callback run at\", now());\n",
       "      run_inline_js();\n",
       "    });\n",
       "  }\n",
       "}(window));"
      ],
      "application/vnd.bokehjs_load.v0+json": "\n(function(root) {\n  function now() {\n    return new Date();\n  }\n\n  var force = true;\n\n  if (typeof root._bokeh_onload_callbacks === \"undefined\" || force === true) {\n    root._bokeh_onload_callbacks = [];\n    root._bokeh_is_loading = undefined;\n  }\n\n  \n\n  \n  if (typeof (root._bokeh_timeout) === \"undefined\" || force === true) {\n    root._bokeh_timeout = Date.now() + 5000;\n    root._bokeh_failed_load = false;\n  }\n\n  var NB_LOAD_WARNING = {'data': {'text/html':\n     \"<div style='background-color: #fdd'>\\n\"+\n     \"<p>\\n\"+\n     \"BokehJS does not appear to have successfully loaded. If loading BokehJS from CDN, this \\n\"+\n     \"may be due to a slow or bad network connection. Possible fixes:\\n\"+\n     \"</p>\\n\"+\n     \"<ul>\\n\"+\n     \"<li>re-rerun `output_notebook()` to attempt to load from CDN again, or</li>\\n\"+\n     \"<li>use INLINE resources instead, as so:</li>\\n\"+\n     \"</ul>\\n\"+\n     \"<code>\\n\"+\n     \"from bokeh.resources import INLINE\\n\"+\n     \"output_notebook(resources=INLINE)\\n\"+\n     \"</code>\\n\"+\n     \"</div>\"}};\n\n  function display_loaded() {\n    var el = document.getElementById(\"1139\");\n    if (el != null) {\n      el.textContent = \"BokehJS is loading...\";\n    }\n    if (root.Bokeh !== undefined) {\n      if (el != null) {\n        el.textContent = \"BokehJS \" + root.Bokeh.version + \" successfully loaded.\";\n      }\n    } else if (Date.now() < root._bokeh_timeout) {\n      setTimeout(display_loaded, 100)\n    }\n  }\n\n\n  function run_callbacks() {\n    try {\n      root._bokeh_onload_callbacks.forEach(function(callback) {\n        if (callback != null)\n          callback();\n      });\n    } finally {\n      delete root._bokeh_onload_callbacks\n    }\n    console.debug(\"Bokeh: all callbacks have finished\");\n  }\n\n  function load_libs(css_urls, js_urls, callback) {\n    if (css_urls == null) css_urls = [];\n    if (js_urls == null) js_urls = [];\n\n    root._bokeh_onload_callbacks.push(callback);\n    if (root._bokeh_is_loading > 0) {\n      console.debug(\"Bokeh: BokehJS is being loaded, scheduling callback at\", now());\n      return null;\n    }\n    if (js_urls == null || js_urls.length === 0) {\n      run_callbacks();\n      return null;\n    }\n    console.debug(\"Bokeh: BokehJS not loaded, scheduling load and callback at\", now());\n    root._bokeh_is_loading = css_urls.length + js_urls.length;\n\n    function on_load() {\n      root._bokeh_is_loading--;\n      if (root._bokeh_is_loading === 0) {\n        console.debug(\"Bokeh: all BokehJS libraries/stylesheets loaded\");\n        run_callbacks()\n      }\n    }\n\n    function on_error() {\n      console.error(\"failed to load \" + url);\n    }\n\n    for (var i = 0; i < css_urls.length; i++) {\n      var url = css_urls[i];\n      const element = document.createElement(\"link\");\n      element.onload = on_load;\n      element.onerror = on_error;\n      element.rel = \"stylesheet\";\n      element.type = \"text/css\";\n      element.href = url;\n      console.debug(\"Bokeh: injecting link tag for BokehJS stylesheet: \", url);\n      document.body.appendChild(element);\n    }\n\n    for (var i = 0; i < js_urls.length; i++) {\n      var url = js_urls[i];\n      var element = document.createElement('script');\n      element.onload = on_load;\n      element.onerror = on_error;\n      element.async = false;\n      element.src = url;\n      console.debug(\"Bokeh: injecting script tag for BokehJS library: \", url);\n      document.head.appendChild(element);\n    }\n  };var element = document.getElementById(\"1139\");\n  if (element == null) {\n    console.error(\"Bokeh: ERROR: autoload.js configured with elementid '1139' but no matching script tag was found. \")\n    return false;\n  }\n\n  function inject_raw_css(css) {\n    const element = document.createElement(\"style\");\n    element.appendChild(document.createTextNode(css));\n    document.body.appendChild(element);\n  }\n\n  \n  var js_urls = [\"https://cdn.pydata.org/bokeh/release/bokeh-1.4.0.min.js\", \"https://cdn.pydata.org/bokeh/release/bokeh-widgets-1.4.0.min.js\", \"https://cdn.pydata.org/bokeh/release/bokeh-tables-1.4.0.min.js\", \"https://cdn.pydata.org/bokeh/release/bokeh-gl-1.4.0.min.js\"];\n  var css_urls = [];\n  \n\n  var inline_js = [\n    function(Bokeh) {\n      Bokeh.set_log_level(\"info\");\n    },\n    function(Bokeh) {\n    \n    \n    }\n  ];\n\n  function run_inline_js() {\n    \n    if (root.Bokeh !== undefined || force === true) {\n      \n    for (var i = 0; i < inline_js.length; i++) {\n      inline_js[i].call(root, root.Bokeh);\n    }\n    if (force === true) {\n        display_loaded();\n      }} else if (Date.now() < root._bokeh_timeout) {\n      setTimeout(run_inline_js, 100);\n    } else if (!root._bokeh_failed_load) {\n      console.log(\"Bokeh: BokehJS failed to load within specified timeout.\");\n      root._bokeh_failed_load = true;\n    } else if (force !== true) {\n      var cell = $(document.getElementById(\"1139\")).parents('.cell').data().cell;\n      cell.output_area.append_execute_result(NB_LOAD_WARNING)\n    }\n\n  }\n\n  if (root._bokeh_is_loading === 0) {\n    console.debug(\"Bokeh: BokehJS loaded, going straight to plotting\");\n    run_inline_js();\n  } else {\n    load_libs(css_urls, js_urls, function() {\n      console.debug(\"Bokeh: BokehJS plotting callback run at\", now());\n      run_inline_js();\n    });\n  }\n}(window));"
     },
     "metadata": {},
     "output_type": "display_data"
    }
   ],
   "source": [
    "from bokeh.plotting import figure, show, output_notebook, save#, output_file\n",
    "from bokeh.models import HoverTool, value, LabelSet, Legend, ColumnDataSource\n",
    "output_notebook()"
   ]
  },
  {
   "cell_type": "code",
   "execution_count": 64,
   "metadata": {},
   "outputs": [],
   "source": [
    "source = ColumnDataSource(dict(\n",
    "    x=df_cluster['X_tsne'],\n",
    "    y=df_cluster['Y_tsne'],\n",
    "    color=df_cluster['Colors'],\n",
    "    label=df_cluster['Topic'],\n",
    "    topic_words = df_cluster[\"Topic_words\"]\n",
    "))"
   ]
  },
  {
   "cell_type": "code",
   "execution_count": 65,
   "metadata": {},
   "outputs": [
    {
     "name": "stderr",
     "output_type": "stream",
     "text": [
      "BokehDeprecationWarning: 'legend' keyword is deprecated, use explicit 'legend_label', 'legend_field', or 'legend_group' keywords instead\n"
     ]
    },
    {
     "data": {
      "text/html": [
       "\n",
       "\n",
       "\n",
       "\n",
       "\n",
       "\n",
       "  <div class=\"bk-root\" id=\"7f1f39c2-314b-4687-9fdb-ab0d4a6b7b3b\" data-root-id=\"1141\"></div>\n"
      ]
     },
     "metadata": {},
     "output_type": "display_data"
    },
    {
     "data": {
      "application/javascript": [
       "(function(root) {\n",
       "  function embed_document(root) {\n",
       "    \n",
       "  var docs_json = {\"e4049b6d-d87f-4a00-a5c3-a07b5b0ab9b7\":{\"roots\":{\"references\":[{\"attributes\":{\"center\":[{\"id\":\"1172\",\"type\":\"Legend\"}],\"min_border\":1,\"plot_height\":700,\"plot_width\":1000,\"renderers\":[{\"id\":\"1168\",\"type\":\"GlyphRenderer\"}],\"title\":{\"id\":\"1142\",\"type\":\"Title\"},\"toolbar\":{\"id\":\"1158\",\"type\":\"Toolbar\"},\"x_range\":{\"id\":\"1144\",\"type\":\"DataRange1d\"},\"x_scale\":{\"id\":\"1148\",\"type\":\"LinearScale\"},\"y_range\":{\"id\":\"1146\",\"type\":\"DataRange1d\"},\"y_scale\":{\"id\":\"1150\",\"type\":\"LinearScale\"}},\"id\":\"1141\",\"subtype\":\"Figure\",\"type\":\"Plot\"},{\"attributes\":{\"data_source\":{\"id\":\"1140\",\"type\":\"ColumnDataSource\"},\"glyph\":{\"id\":\"1166\",\"type\":\"Scatter\"},\"hover_glyph\":null,\"muted_glyph\":null,\"nonselection_glyph\":{\"id\":\"1167\",\"type\":\"Scatter\"},\"selection_glyph\":null,\"view\":{\"id\":\"1169\",\"type\":\"CDSView\"}},\"id\":\"1168\",\"type\":\"GlyphRenderer\"},{\"attributes\":{\"active_drag\":\"auto\",\"active_inspect\":\"auto\",\"active_multi\":null,\"active_scroll\":\"auto\",\"active_tap\":\"auto\",\"tools\":[{\"id\":\"1152\",\"type\":\"PanTool\"},{\"id\":\"1153\",\"type\":\"WheelZoomTool\"},{\"id\":\"1154\",\"type\":\"BoxZoomTool\"},{\"id\":\"1155\",\"type\":\"ResetTool\"},{\"id\":\"1156\",\"type\":\"HoverTool\"},{\"id\":\"1157\",\"type\":\"SaveTool\"}]},\"id\":\"1158\",\"type\":\"Toolbar\"},{\"attributes\":{},\"id\":\"1176\",\"type\":\"Selection\"},{\"attributes\":{\"source\":{\"id\":\"1140\",\"type\":\"ColumnDataSource\"}},\"id\":\"1169\",\"type\":\"CDSView\"},{\"attributes\":{\"fill_alpha\":{\"value\":0.1},\"fill_color\":{\"value\":\"#1f77b4\"},\"line_alpha\":{\"value\":0.1},\"line_color\":{\"value\":\"#1f77b4\"},\"x\":{\"field\":\"x\"},\"y\":{\"field\":\"y\"}},\"id\":\"1167\",\"type\":\"Scatter\"},{\"attributes\":{\"text\":\"T-SNE visualization of topics\"},\"id\":\"1142\",\"type\":\"Title\"},{\"attributes\":{\"bottom_units\":\"screen\",\"fill_alpha\":{\"value\":0.5},\"fill_color\":{\"value\":\"lightgrey\"},\"left_units\":\"screen\",\"level\":\"overlay\",\"line_alpha\":{\"value\":1.0},\"line_color\":{\"value\":\"black\"},\"line_dash\":[4,4],\"line_width\":{\"value\":2},\"render_mode\":\"css\",\"right_units\":\"screen\",\"top_units\":\"screen\"},\"id\":\"1171\",\"type\":\"BoxAnnotation\"},{\"attributes\":{},\"id\":\"1153\",\"type\":\"WheelZoomTool\"},{\"attributes\":{\"items\":[{\"id\":\"1173\",\"type\":\"LegendItem\"}],\"location\":\"top_left\"},\"id\":\"1172\",\"type\":\"Legend\"},{\"attributes\":{\"label\":{\"field\":\"label\"},\"renderers\":[{\"id\":\"1168\",\"type\":\"GlyphRenderer\"}]},\"id\":\"1173\",\"type\":\"LegendItem\"},{\"attributes\":{\"callback\":null,\"tooltips\":[[\"Topic\",\"@label  <br> Topic_words: @topic_words \"]]},\"id\":\"1156\",\"type\":\"HoverTool\"},{\"attributes\":{},\"id\":\"1157\",\"type\":\"SaveTool\"},{\"attributes\":{},\"id\":\"1175\",\"type\":\"UnionRenderers\"},{\"attributes\":{},\"id\":\"1150\",\"type\":\"LinearScale\"},{\"attributes\":{\"callback\":null},\"id\":\"1146\",\"type\":\"DataRange1d\"},{\"attributes\":{\"callback\":null},\"id\":\"1144\",\"type\":\"DataRange1d\"},{\"attributes\":{\"callback\":null,\"data\":{\"color\":[\"#2c3790\",\"#dd64b7\",\"#d6aa5c\",\"#06d0af\",\"#e97e72\",\"#e3d693\",\"#80ce05\",\"#e69a30\",\"#25d55f\",\"#66ff4d\",\"#34f806\",\"#d05631\",\"#b28e3c\",\"#0d30dd\",\"#964802\",\"#5d8787\",\"#fc671e\",\"#b5be3c\",\"#2e7ddf\",\"#cd27b6\",\"#bc6662\",\"#c4c8d2\",\"#a5d8b1\",\"#1bfff9\",\"#57aa32\",\"#062836\"],\"label\":[0,1,2,3,4,5,6,7,8,9,10,11,12,13,14,15,16,17,18,19,20,21,22,23,24,25],\"topic_words\":[[\"salari\",\"benefit\",\"competit\",\"salari_benefit\",\"competit_pay\",\"independ\",\"pretti\",\"peopl_benefit\",\"benefit_salari\",\"respons\"],[\"pay\",\"benefit\",\"benefit_pay\",\"weekli\",\"hard\",\"commiss\",\"structur\",\"pay_hour\",\"weekli_pay\",\"lunch_pay\"],[\"opportun\",\"advanc\",\"fast\",\"pace\",\"fast_pace\",\"growth\",\"career\",\"busi\",\"differ\",\"challeng\"],[\"lot\",\"event\",\"perk\",\"avail\",\"activ\",\"interact\",\"resourc\",\"learn_opportun\",\"intern\",\"network\"],[\"life\",\"balanc\",\"life_balanc\",\"abl\",\"develop\",\"profession\",\"person\",\"leadership\",\"relationship\",\"done\"],[\"cowork\",\"cultur\",\"reward\",\"amaz\",\"supervisor\",\"workplac\",\"benefit_cowork\",\"system\",\"cowork_manag\",\"benefit_cultur\"],[\"free\",\"lunch\",\"free_lunch\",\"food\",\"free_food\",\"drink\",\"coffe\",\"sometim\",\"free_coffe\",\"snack\"],[\"day\",\"decent\",\"decent_pay\",\"week\",\"gift\",\"card\",\"day_week\",\"short\",\"benefit_decent\",\"friday\"],[\"peopl\",\"discount\",\"custom\",\"meet\",\"help\",\"servic\",\"meet_peopl\",\"store\",\"enjoy\",\"love\"],[\"time\",\"paid\",\"vacat\",\"paid_time\",\"vacat_time\",\"paid_vacat\",\"sick\",\"flex\",\"benefit_paid\",\"benefit_time\"],[\"gym\",\"cafeteria\",\"locat\",\"offic\",\"site\",\"onsit\",\"parti\",\"nice\",\"facil\",\"build\"],[\"health\",\"care\",\"health_benefit\",\"benefit\",\"health_care\",\"plan\",\"match\",\"phone\",\"share\",\"benefit_401k\"],[\"pay_benefit\",\"option\",\"stock\",\"benifit\",\"wonder\",\"excel_pay\",\"stock_option\",\"benefit_peopl\",\"hourli\",\"better\"],[\"insur\",\"medic\",\"health_insur\",\"etc\",\"dental\",\"vision\",\"low\",\"stress\",\"unlimit\",\"medic_benefit\"],[\"employe\",\"friendli\",\"atmospher\",\"staff\",\"famili\",\"posit\",\"employe_discount\",\"appreci\",\"friendli_environ\",\"friendli_cowork\"],[\"hour\",\"flexibl\",\"hour_lunch\",\"flexibl_hour\",\"lunch\",\"fair\",\"remot\",\"1_hour_lunch\",\"hour_lunch_break\",\"steadi\"],[\"balanc\",\"worklif\",\"worklif_balanc\",\"commun\",\"leav\",\"overal\",\"polici\",\"volunt\",\"continu\",\"mobil\"],[\"break\",\"home\",\"lunch\",\"easi\",\"provid\",\"lunch_break\",\"minut\",\"close\",\"minut_break\",\"allow\"],[\"abil\",\"educ\",\"secur\",\"money\",\"travel\",\"move\",\"potenti\",\"depart\",\"extra\",\"big\"],[\"benefit\",\"compens\",\"holiday\",\"shift\",\"wage\",\"rais\",\"union\",\"weekend\",\"compens_benefit\",\"employ\"],[\"learn\",\"product\",\"experi\",\"skill\",\"technolog\",\"best\",\"recognit\",\"offer\",\"knowledg\",\"strong\"],[\"manag\",\"environ\",\"team\",\"fun\",\"nice\",\"worker\",\"support\",\"co_worker\",\"relax\",\"nice_peopl\"],[\"incent\",\"month\",\"sale\",\"set\",\"base\",\"goal\",\"award\",\"freedom\",\"game\",\"boss\"],[\"bonus\",\"overtim\",\"pto\",\"bonu\",\"reimburs\",\"tuition\",\"start\",\"tuition_reimburs\",\"dress\",\"check\"],[\"schedul\",\"excel\",\"train\",\"flexibl\",\"benefit\",\"flexibl_schedul\",\"healthcar\",\"excel_benefit\",\"packag\",\"awesom\"],[\"benefit\",\"plenti\",\"promot\",\"revenu\",\"benefit_promot\",\"benefit_divers\",\"benefit_plenti\",\"offer\",\"plenti_hour\",\"fantast\"]],\"x\":{\"__ndarray__\":\"XBoyhX0p2z8YjhIYusniPyF9FvXisr2/yXI+OPVvvb+3TQMyZwTBv2IY4251aL2/yxF7EuP5wb8CmjJ+XX2+v4Vo9R8cyLu/9Po++XkUvr9xTsZlz1rAv55KhMkxEcQ/Argm+ecavL/a4L2yx269vyz30uGprb2/5GBYINYWvb8VRuJS577AvwCB2qkNwMG/zyXj3rZrvb8EgrJ5LfPYP4TBdLsN1r2/z/bN6IKTv7/hlvyLWAa+v4cdezKrKb6/Vf7V27udxz/nf04tUDnlPw==\",\"dtype\":\"float64\",\"shape\":[26]},\"y\":{\"__ndarray__\":\"2QgUiPFylL+nvn1/NMGLv+KZY7ystqu/j8iQox2cr7/d+08+VHLNv5CHeDD3Va6/2hTvZZ3H2z9tzrnijimnv8HsoFnnO6+/tLZQF+Llsr/IimpzcnO6v0xf/jVZrqK/ByLUF7d2sr8OnzYMTzqpv6fYLh715rC/gSz4Iup63j9GGySv2yPMv0D1zJNH4ts/MUOOGkier78Nu/323fqUv/VS+HBvBKy/XZrtFjkPu78vaIVCjoilv+k7D0fzt7S/wr0G1ArfyD921hQYvhCCvw==\",\"dtype\":\"float64\",\"shape\":[26]}},\"selected\":{\"id\":\"1176\",\"type\":\"Selection\"},\"selection_policy\":{\"id\":\"1175\",\"type\":\"UnionRenderers\"}},\"id\":\"1140\",\"type\":\"ColumnDataSource\"},{\"attributes\":{},\"id\":\"1148\",\"type\":\"LinearScale\"},{\"attributes\":{},\"id\":\"1155\",\"type\":\"ResetTool\"},{\"attributes\":{},\"id\":\"1152\",\"type\":\"PanTool\"},{\"attributes\":{\"overlay\":{\"id\":\"1171\",\"type\":\"BoxAnnotation\"}},\"id\":\"1154\",\"type\":\"BoxZoomTool\"},{\"attributes\":{\"fill_alpha\":{\"value\":0.8},\"fill_color\":{\"field\":\"color\"},\"line_alpha\":{\"value\":0.8},\"line_color\":{\"field\":\"color\"},\"x\":{\"field\":\"x\"},\"y\":{\"field\":\"y\"}},\"id\":\"1166\",\"type\":\"Scatter\"}],\"root_ids\":[\"1141\"]},\"title\":\"Bokeh Application\",\"version\":\"1.4.0\"}};\n",
       "  var render_items = [{\"docid\":\"e4049b6d-d87f-4a00-a5c3-a07b5b0ab9b7\",\"roots\":{\"1141\":\"7f1f39c2-314b-4687-9fdb-ab0d4a6b7b3b\"}}];\n",
       "  root.Bokeh.embed.embed_items_notebook(docs_json, render_items);\n",
       "\n",
       "  }\n",
       "  if (root.Bokeh !== undefined) {\n",
       "    embed_document(root);\n",
       "  } else {\n",
       "    var attempts = 0;\n",
       "    var timer = setInterval(function(root) {\n",
       "      if (root.Bokeh !== undefined) {\n",
       "        clearInterval(timer);\n",
       "        embed_document(root);\n",
       "      } else {\n",
       "        attempts++;\n",
       "        if (attempts > 100) {\n",
       "          clearInterval(timer);\n",
       "          console.log(\"Bokeh: ERROR: Unable to run BokehJS code because BokehJS library is missing\");\n",
       "        }\n",
       "      }\n",
       "    }, 10, root)\n",
       "  }\n",
       "})(window);"
      ],
      "application/vnd.bokehjs_exec.v0+json": ""
     },
     "metadata": {
      "application/vnd.bokehjs_exec.v0+json": {
       "id": "1141"
      }
     },
     "output_type": "display_data"
    }
   ],
   "source": [
    "title = 'T-SNE visualization of topics'\n",
    "\n",
    "plot_lda = figure(plot_width=1000, plot_height=700,\n",
    "                     title=title, tools=\"pan,wheel_zoom,box_zoom,reset,hover,previewsave\",\n",
    "                     x_axis_type=None, y_axis_type=None, min_border=1)\n",
    "\n",
    "plot_lda.scatter(x='x', y='y',  legend='label', source=source,\n",
    "                 color='color', alpha=0.8)#'msize', )\n",
    "\n",
    "# hover tools\n",
    "hover = plot_lda.select(dict(type=HoverTool))\n",
    "hover.tooltips = { \"Topic\": \"@label  <br> Topic_words: @topic_words \"}\n",
    "plot_lda.legend.location = \"top_left\"\n",
    "\n",
    "show(plot_lda)"
   ]
  },
  {
   "cell_type": "markdown",
   "metadata": {},
   "source": [
    "## Combine Pro and Cons model\n"
   ]
  },
  {
   "cell_type": "code",
   "execution_count": 67,
   "metadata": {},
   "outputs": [
    {
     "data": {
      "text/html": [
       "<div>\n",
       "<style scoped>\n",
       "    .dataframe tbody tr th:only-of-type {\n",
       "        vertical-align: middle;\n",
       "    }\n",
       "\n",
       "    .dataframe tbody tr th {\n",
       "        vertical-align: top;\n",
       "    }\n",
       "\n",
       "    .dataframe thead th {\n",
       "        text-align: right;\n",
       "    }\n",
       "</style>\n",
       "<table border=\"1\" class=\"dataframe\">\n",
       "  <thead>\n",
       "    <tr style=\"text-align: right;\">\n",
       "      <th></th>\n",
       "      <th>topic</th>\n",
       "      <th>term</th>\n",
       "      <th>beta</th>\n",
       "    </tr>\n",
       "  </thead>\n",
       "  <tbody>\n",
       "    <tr>\n",
       "      <th>0</th>\n",
       "      <td>1</td>\n",
       "      <td>1_hour_break</td>\n",
       "      <td>3.672673e-208</td>\n",
       "    </tr>\n",
       "    <tr>\n",
       "      <th>1</th>\n",
       "      <td>2</td>\n",
       "      <td>1_hour_break</td>\n",
       "      <td>1.351000e-189</td>\n",
       "    </tr>\n",
       "    <tr>\n",
       "      <th>2</th>\n",
       "      <td>3</td>\n",
       "      <td>1_hour_break</td>\n",
       "      <td>8.675901e-213</td>\n",
       "    </tr>\n",
       "    <tr>\n",
       "      <th>3</th>\n",
       "      <td>4</td>\n",
       "      <td>1_hour_break</td>\n",
       "      <td>4.690151e-197</td>\n",
       "    </tr>\n",
       "    <tr>\n",
       "      <th>4</th>\n",
       "      <td>5</td>\n",
       "      <td>1_hour_break</td>\n",
       "      <td>6.897081e-192</td>\n",
       "    </tr>\n",
       "  </tbody>\n",
       "</table>\n",
       "</div>"
      ],
      "text/plain": [
       "   topic          term           beta\n",
       "0      1  1_hour_break  3.672673e-208\n",
       "1      2  1_hour_break  1.351000e-189\n",
       "2      3  1_hour_break  8.675901e-213\n",
       "3      4  1_hour_break  4.690151e-197\n",
       "4      5  1_hour_break  6.897081e-192"
      ]
     },
     "metadata": {},
     "output_type": "display_data"
    },
    {
     "data": {
      "text/plain": [
       "(172666, 3)"
      ]
     },
     "metadata": {},
     "output_type": "display_data"
    },
    {
     "data": {
      "text/html": [
       "<div>\n",
       "<style scoped>\n",
       "    .dataframe tbody tr th:only-of-type {\n",
       "        vertical-align: middle;\n",
       "    }\n",
       "\n",
       "    .dataframe tbody tr th {\n",
       "        vertical-align: top;\n",
       "    }\n",
       "\n",
       "    .dataframe thead th {\n",
       "        text-align: right;\n",
       "    }\n",
       "</style>\n",
       "<table border=\"1\" class=\"dataframe\">\n",
       "  <thead>\n",
       "    <tr style=\"text-align: right;\">\n",
       "      <th></th>\n",
       "      <th>topic</th>\n",
       "      <th>term</th>\n",
       "      <th>beta</th>\n",
       "    </tr>\n",
       "  </thead>\n",
       "  <tbody>\n",
       "    <tr>\n",
       "      <th>0</th>\n",
       "      <td>1</td>\n",
       "      <td>’_care</td>\n",
       "      <td>8.624717e-100</td>\n",
       "    </tr>\n",
       "    <tr>\n",
       "      <th>1</th>\n",
       "      <td>2</td>\n",
       "      <td>’_care</td>\n",
       "      <td>2.555270e-93</td>\n",
       "    </tr>\n",
       "    <tr>\n",
       "      <th>2</th>\n",
       "      <td>3</td>\n",
       "      <td>’_care</td>\n",
       "      <td>1.219269e-114</td>\n",
       "    </tr>\n",
       "    <tr>\n",
       "      <th>3</th>\n",
       "      <td>4</td>\n",
       "      <td>’_care</td>\n",
       "      <td>3.194975e-91</td>\n",
       "    </tr>\n",
       "    <tr>\n",
       "      <th>4</th>\n",
       "      <td>5</td>\n",
       "      <td>’_care</td>\n",
       "      <td>7.375773e-119</td>\n",
       "    </tr>\n",
       "  </tbody>\n",
       "</table>\n",
       "</div>"
      ],
      "text/plain": [
       "   topic    term           beta\n",
       "0      1  ’_care  8.624717e-100\n",
       "1      2  ’_care   2.555270e-93\n",
       "2      3  ’_care  1.219269e-114\n",
       "3      4  ’_care   3.194975e-91\n",
       "4      5  ’_care  7.375773e-119"
      ]
     },
     "metadata": {},
     "output_type": "display_data"
    },
    {
     "data": {
      "text/plain": [
       "(154080, 3)"
      ]
     },
     "metadata": {},
     "output_type": "display_data"
    }
   ],
   "source": [
    "import pandas as pd\n",
    "import numpy as np\n",
    "\n",
    "num_topics_pro = 26\n",
    "df_pro = pd.read_csv(f\"~/Desktop/R_js/data/beta/pro{num_topics_pro}_beta.csv\")\n",
    "\n",
    "num_topics_con = 24\n",
    "df_con = pd.read_csv(f\"~/Desktop/R_js/data/beta/con{num_topics_con}_beta.csv\")\n",
    "\n",
    "display(df_pro.head())\n",
    "display(df_pro.shape)\n",
    "\n",
    "display(df_con.head())\n",
    "display(df_con.shape)"
   ]
  },
  {
   "cell_type": "code",
   "execution_count": 77,
   "metadata": {},
   "outputs": [
    {
     "name": "stdout",
     "output_type": "stream",
     "text": [
      "2096\n",
      "['morn_shift', 'employe', 'centric', 'ground', 'joke', 'emerg', 'paid_lunch', 'rep', 'motiv', 'fulltim', 'safeti', 'discount_employe', 'temp', 'discount_product', 'step', 'hope', 'equal', 'support', 'kroger', 'continu', 'accomod', 'agent', 'union_employe', 'health_care_401k', 'despit', 'morn', 'report', 'record', 'schedul', 'variou', 'locker', 'secur_advanc', 'success', 'solo', 'outstand', 'confid', 'demand', 'gym', 'train_program', 'expertis', 'bother', 'multi', 'guest', 'run', 'feel', 'extern', 'matur', 'upper_manag', 'peer', 'divis', 'car', 'benefit_temp', 'event', 'hous', 'ect', 'childcar', 'support_manag', 'clearli', 'quiet', 'benefit_health', 'ate', 'downtown', 'sometim', 'technic', '30_minut_lunch', 'elsewher', 'stay', 'shift_bid', 'effect', 'glass', 'benefit_offer', 'product_line', 'explain', 'broker', 'break_30', 'opportun_move', 'minim', 'credo', 'connect', 'final', 'pretti', 'dupont', 'fuel', 'workhom', 'dress', 'store_level', 'lunch', 'cost_studi', 'corp', 'pay_peopl', 'protect', 'nasa', 'plano', 'line_manag', 'annual', 'team_cultur', 'address', 'time_benefit', 'sign', 'individu', 'uniform', 'shoe', 'fast_pace', 'surviv', 'free_coffe', 'chanc', 'park', 'hour_shift', 'situat', 'employe_discount', 'train', 'placement', 'follow', 'women', 'faster', 'impact', 'healthcar_pay', 'apart', 'dell', 'pay_employe', 'licens', 'open', 'sunday', 'pace', 'paid_sick', 'privat', 'ton', 'guarante_hour', 'benefit_lunch', 'date', 'agil', 'corner', 'aggress', 'vast', 'manag_employe', 'time_famili', 'benefit_union', 'vacat_day', 'decid', 'roll', 'boe', 'break_4_hour', 'marketplac', 'won', 'busi', 'wage', 'laid', 'data', 'lean', 'talk_peopl', 'chair', 'devic', 'staff', 'minut_break_hour', 'dog', 'manag_help', 'citigroup', 'hour_hour', 'eventu', 'allot', '45_min_lunch', '40_hour_week', 'construct', 'prepar', 'plenti', 'ship', 'certain', 'histori', 'extens', 'start_wage', 'lab', 'heath', 'rotat_schedul', 'snow', 'parent', 'benefit_packag', 'approach', 'benefit_manag', 'machineri', 'driven', 'light', 'bit', 'rais', 'help_custom', 'opportunit', 'break', 'hour_compens', 'teach', 'cafeteria', 'pay_salari', 'advanc', 'pay_employe_discount', 'cent', 'benefit_vacat', 'autom', 'patient', 'care_employe', 'revenu', 'platform', 'guarante', 'toe', 'recognit', 'incom', 'benefit_time', 'commiss', 'regul', 'bought', 'user', 'capabl', 'lucki', 'relat', 'cash', 'promo', 'healthcar_401k', 'off', 'avoid', 'benefit_hour', 'scope', 'assist', 'sit', 'breakroom', 'speed', 'compens_packag', 'spirit', 'ensur', 'insent', 'money', 'hard', 'corpor_environ', 'time_peopl', 'drama', 'clinic', 'min_break', 'packag', 'massiv', 'tough', 'consum', 'reimburs', 'load', 'lift', 'procedur', 'coverag', 'meet_goal', 'telephon', 'campu', 'schedul_flexibl', 'schedul_break', 'climat_control', '4_hour_shift', 'understand', 'request', 'employe_appreci', 'workweek', 'manag_cultur', 'team_manag', 'degre', 'bond', 'clear', 'direct', 'food_court', 'nearli', 'drug', 'train_support', 'earn', 'standard', 'strategi', 'mainten', 'qualif', 'fast_pace_environ', 'bank', 'googl', 'sick_time', 'goal', 'train_class', 'boss', 'sale', 'holiday_vacat', 'solv', 'pool', 'lunch_break_hour', 'quickli', 'heavili', 'extra_hour', 'climat', 'break_manag', 'break_30_minut', 'elderli', 'stretch', 'traffic', 'bring', 'hour_discount', 'view', 'manger', 'conduct', 'food', 'intens', 'place', 'excit', 'addit', 'directv', 'time_employe', 'eat', 'health_dental_vision', 'softwar', 'hour_lot', 'free_time', 'deliv', 'subject', 'represent', 'benefit_health_insur', 'pay_worklif_balanc', 'manag_co_worker', 'paid_vacat', 'workload', 'love', 'environ_cultur', 'cost', 'friendli', 'larger', 'microsoft', 'holiday_weekend', 'onsit', 'initi', 'sensit', 'littl', 'come', 'dtv', 'day_shift', 'involv', 'person_life', 'pay_benifit', 'access', 'network', 'envirn', 'adult', 'major_holiday', 'gener', 'trajectori', 'weekend_month', 'district', 'enter', 'salari_benefit', 'start_pay', 'mall', 'salari_manag', 'physic', 'human', 'unit', 'mortgag', 'proper', 'updat', 'dental', 'sick', 'solut', 'skill', 'fine', 'autonomi', 'driver', 'burn', 'adjust', 'eye', 'divers', 'cell_phone', 'fair', 'suffici', 'blue', 'estat', 'stuff', 'differ_locat', 'launch', 'timer', 'particip', 'envior', 'finish', 'client', 'benefit_401k', 'shift', 'employess', 'credit', 'pay_minimum_wage', 'negoti', 'refriger', 'secur_pay', 'brought', 'true', 'upward_mobil', 'employe_pay', 'difficult', 'mate', 'annual_rais', 'player', 'break_1_hour', 'tech', 'enviorn', 'tri', 'vibe', 'titl', 'lock', 'strict', 'break_healthcar', 'wonder', 'third', '10_min_break', 'abus', 'wear', 'averag_pay', 'ge_product', 'chemic', 'sight', 'hour_health', 'offer', 'arent', 'keep', 'screen', 'personnel', 'util', 'question', 'soon', 'cross', 'lunch_hour', 'mayb', 'bore', 'pay_worklif', 'tool', 'dinner', 'custom_interact', 'tabl', 'thrive', 'employe_manag', 'meet', 'uaw', 'passion', 'medic', 'bathroom', 'sound', 'presenc', 'purpos', 'renew', 'accid', 'length', 'big', 'coffe', 'benefit_advanc', 'set_hour', 'costco', 'caller', 'charlott', 'count', 'benefit_low', 'teamwork', 'form', 'manag_pay_benefit', 'hr_week', 'virtual', 'mortgag_industri', 'care_manag', 'hour_home', 'rais_hour', 'pay_bad', 'manag_worklif_balanc', 'bonu', 'short', 'prudenti', 'break_hour', 'spend', 'break_discount', 'health_care_benefit', 'compress', 'cafe', 'set_schedul', 'america', 'legal', 'monthli', 'con', 'contact', 'review', 'team_lead', 'creat', 'water', 'youv', 'self', 'etc', 'busi_time', 'low', 'foot', 'smoke', 'growth', 'competitv', 'mandatori_overtim', 'resolut', 'alot', 'lunch_pay', 'staf', 'workforc', 'tast', 'overtim_hour', 'develop', 'rotat', 'afternoon', 'industri', 'line', 'opportun_pay', 'aerospac', 'weight', 'day_vacat', 'consist_schedul', 'peak_season', 'health_insur_benefit', 'financ', 'happen', 'paycheck', 'approv', 'groceri', 'hospit', 'hour_peopl', 'pharmaci_manag', 'station', 'profession', 'expand', 'pay_time', 'internship', 'leader', 'merit', 'break_lunch_break', 'transform', 'appreci', 'lack', 'store', 'break_employe', 'center', 'commiss_base', 'salari', 'super', 'youll', 'pay_better', 'call', 'break_30_min', 'balanc_secur', 'routin', 'round', 'total', 'microwav', 'perfect', 'random', 'fit', 'schedul_worklif_balanc', 'train_manag', 'special', 'post', 'comiss', 'flexabl', 'challeng', 'hit', 'constant', 'led', 'fairli', 'guy', 'schedul_time', 'easier', 'rest', 'deduct', 'lot_travel', 'fast_pace_time', 'pressur', 'fanni', 'vacat_sick_time', 'script', 'horribl', 'tour', 'besid', 'pay_incent', 'custom_manag', 'manag_advanc', 'time_opportun', 'respons', 'injuri', 'regulatori', 'specif', 'debit', 'hot', 'short_break', 'temporari', 'minut_break', 'normal', 'energi', 'weekend_holiday', '12_hour_shift', 'deli', 'knowledg', 'stock', '30_min_lunch', 'repair', 'cell', 'thirti', 'trainer', 'rememb', 'club', 'onlin', 'bank_industri', 'crowd', 'sale_manag', 'empresa', 'advanc_peopl', 'integr', 'lax', 'rate', 'exempt', 'health_coverag', 'disabl', 'dont', 'manag', 'pension', 'serv', '8_hour_day', 'pay_benefit', 'ten', 'minut', 'structur', 'muscl', '15_minut_break', 'supplier', 'support_staff', 'discount', 'busi_day', 'shutdown', 'healthcar_insur', 'motor', 'train_peopl', 'advanc_opportun', 'drink', 'program', 'pay_opportun', 'enviro', 'break_15', 'favorit', '30_minut_break', 'enjoy', 'lunch_manag', 'treat_employe', 'season', 'balanc_benefit', 'pay_overtim', 'pro', 'jpmorgan', 'floor', 'field', 'pay_life', 'micromanag', 'figur', 'neighborhood', 'children', 'hour_paid', 'effort', 'satisfi', 'respect', 'quota', 'advanc_pay', 'appoint', 'membership', 'start_time', 'oil_ga', 'perk', 'grade', 'base_pay', 'hour_employe', 'cater', 'vacat', 'warm', 'found', 'airplan', 'out', 'welcom', 'window', 'workplac', 'unpaid', 'grow', 'benefit', 'break_lunch', 'zone', 'account', 'dental_vision', 'materi', 'altern', '15_min_break', 'pull', 'depart', 'transfer', 'concept', 'lifework_balanc', 'turnov', 'cap', 'flexibl_life', 'pay_low', 'environ_manag', 'numer', 'research', 'pleas', 'valuabl', 'mckesson', 'forc', 'theyll', 'diem', 'major', 'like', 'forklift', 'shift_schedul', 'luch', 'manag_opportun', 'key', 'pharmacist', 'educ', 'project', 'wish', 'award', 'pass', 'neg', 'move', 'heat', 'vest', 'opportun_career_growth', 'shown', 'health_insur_401k', 'hourli', 'credit_card', 'breakfast', 'clientel', 'hour_lunch_break', 'mangement', 'pay_posit', 'worklif_balanc', 'pay_break', 'competit_environ', 'cultur_life', 'life_balanc_manag', 'popular', 'seri', 'commit', 'properti', 'age', 'design', 'manag_team', 'defens', 'inclement', 'benefit_commiss', 'caus', 'remov', 'excel', 'cultur_life_balanc', 'mix', 'kept', 'retain', 'sort', 'custom', 'speak', 'none', 'loyalti', 'race', 'shape', 'deliveri', 'vacat_sick_day', 'item', 'att', 'weekend', 'don', 'treat', 'shift_hour', 'person_vehicl', 'home', 'restroom', 'manag_support', 'desk', 'cover', 'whenev', 'pay_health_benefit', 'cowork_manag', 'put', 'schedul_pay', 'ford', 'decis', 'steadi', 'minimum_wage', 'charg', 'inventori', 'rang', 'channel', 'gear', 'career_advanc', 'progress', 'prescript', 'cloud', 'foreign', 'regular', 'hair', 'option', 'includ', 'benefit_retir', 'famili_time', 'dedic', 'author', 'inform', 'day_week', 'lend', 'thorough', 'site', 'complic', 'varieti', 'ford_motor', 'make', 'ppl', 'emc', 'parti', 'huge', 'weather', 'easili', 'manag_staff', 'risk', 'lot_money', 'lake', 'opportunti', 'pay', 'game', 'acquir', 'assembl', 'servic', 'power', 'automot', 'qualiti', 'care', 'brake', 'kind', 'flex', '10_hour_day', 'famili_friendli', 'cart', 'minut_lunch', 'doubl', 'mission', 'entri_level', 'instead', 'rise', 'fifteen_minut_break', 'turnaround', 'manag_life_balanc', 'saturday', 'rais_benefit', 'phone', 'secur_benefit', 'better', 'attract', 'anymor', 'break_hour_lunch', 'benefit_timer', 'pace_time', 'pay_healthcar', 'econom', 'disciplin', 'admin', 'compens_plan', 'complex', 'dollar', 'walmart', 'base', 'underwrit', 'model', 'hang', 'pharmaci', 'opportun_career', 'aircondit', 'team_leader', 'mind', 'health_benefit', 'signific', 'bunch', 'reward', 'process', 'refer', 'card', 'compens', 'print', 'cashier', 'lot_overtim', 'bonus_pay', 'perform_review', 'hour_team', 'tech_compani', 'averag', 'liter', 'employe_friendli', 'natur', 'period_time', 'vet', 'leadership_program', 'peak', 'absolut', 'hire', 'crew', 'austin', 'fellow', 'implement', 'manag_store', 'method', 'vacat_sick', 'actual', 'select', 'contractor', 'asset', 'overnight', 'pay_secur', 'bay', 'pto', 'frontlin', 'satisfactori', 'breakslunch', 'reach', 'yearli', 'sleep', 'style', 'home_day', 'overal', 'vari', 'team', 'opportun_manag', 'visibl', 'postion', 'worker_manag', 'treatment', 'tree', 'time_associ', 'werent', 'workfamili', 'free_soda', 'health', 'financi', 'basi', 'min_lunch_break', 'rank', 'occasion', 'background', 'meal', 'life', 'walk', 'holiday_season', 'achiev', 'cheaper', 'comp', 'hora', 'past', 'health_insur', 'els', 'honor', 'hour_lunch', 'five', 'upper', 'seek', 'ride', 'price', 'mechan', 'pick', 'concern', 'payout', 'seen', 'peac', 'worri', 'quit', 'separ', 'par', 'reli', 'lower_level', 'paid_time', 'insur_pay', 'cloth', 'duti', 'wont', 'quarterli', 'ceo', 'budget', 'pay_scale', 'workplac_cultur', 'rule', 'tend', 'night_shift', 'pay_insur', 'usa', 'tie', 'govern', 'fte', 'exampl', 'opportun_grow', 'sold', 'time', 'worklif', 'friend', 'healthi', 'outlook', 'read', 'stress', 'paid_holiday', 'log', 'wifi', 'contribut', 'volum', 'matter', 'guess', 'miss', 'done', 'typic', 'pack', 'break_break', 'growth_pay', 'pound', 'practic', 'banker', 'manag_benefit', 'studi', 'co_worker', 'senior', 'randomli', 'worth', 'conveni', 'singl', 'time_lunch', 'hard_worker', 'coordin', 'global', 'believ', 'metlif', 'front', 'schdule', 'smart_peopl', 'challang', 'attent', 'annual_review', 'differ', 'lot_opportun', 'bank_center', 'write', 'probabl', 'shortag', 'help_peopl', 'product_servic', 'tenur', 'jump', 'pay_pay', 'polici', 'pay_rais', 'lifework', 'flexibl_schedul', 'board', 'insur_benefit', 'eight', 'manag_lot', 'belong', 'build', 'forev', 'colleagu', 'longterm', 'meaning', 'career_develop', 'mgmt', 'beyond', 'take', 'effici', 'technician', 'break_day', 'employe_benefit', 'lead', 'applianc', 'teller', 'hat', 'ownership', 'economi', 'abl_help', 'manner', 'engin', 'break_15_min', 'whatev', 'attend', 'seriou', 'break_free', 'holiday_time', 'control', 'scale', 'purchas', 'abil_move', 'assign', 'unload', 'moral', 'trade', 'overtim_pay', 'provid', 'employe_recognit', 'setup', 'push', 'hsa', 'directli', 'nurs', 'healthcar_benefit', 'hassl', 'profit', 'money_hour', 'child', 'rate_pay', 'break_8', 'bottom', 'telecommut', 'let', 'simpl', 'collabor', 'locat', 'visit', 'health_plan', 'promot', 'hour_pay', 'invest', 'hundr', 'that', 'highli', 'short_term', 'remot', 'mile', 'pay_check', 'balanc', 'retent', 'workout', 'incred', 'prize', 'anytim', 'vacat_benefit', 'confer', 'hoilday', 'clean', 'peopl', 'day_weekend', 'get', 'capit', 'qualiti_life', 'pay_schedul', 'summer', 'mandatori', 'ran', 'manag_commun', 'flight', 'comput_system', 'team_environ', 'sale_goal', 'ticket', 'chanc_advanc', 'gift', 'know', 'manag_care', 'break_shift', 'test', 'schedul_hour', 'leisur', 'assembl_line', 'balanc_pay', 'minut_lunch_break', 'mentor', 'temporari_employe', 'specialist', 'statu', 'heavi', 'command', 'document', 'bar', 'overtim', 'behavior', 'chevron', 'heart', 'top', 'environ_hour', 'short_hour', 'friday', 'theyr', 'benfit', 'met', 'emplye', 'empti', 'commun_skill', 'union', 'kitchen', 'thier', 'lot_time', 'oblig', 'could', 'talent', 'profit_share', 'plan', 'bonu_structur', 'cultur_manag', 'issu', 'costum', 'partial', 'supervis', 'lower', 'suppli', 'wife', 'prefer', 'instant', 'fee', 'para', 'transport', 'ceil', 'wait', 'mid', 'custom_servic', 'distanc', 'enforc', 'accept', 'worklif_balanc_manag', 'policyhold', 'find', 'valu_employe', 'workday', 'compar', 'mark', 'fedex', 'slight', 'give', 'entri', 'auto_industri', 'quarter', 'result', 'soda', 'crazi', 'fun', 'emot', 'supervisor', 'paid', 'readi', 'redcard', 'condit', 'talk', 'somewhat', 'sector', 'embrac', 'brand', 'manag_peopl', 'repeat', 'schedul_worklif', 'cook', 'andor', 'real', 'cold', 'goe', 'possibl', 'interact', 'reliabl', 'secur', 'deadlin', 'free_food', 'stop', 'benefit_paid', 'oportun', 'cut', 'home_offic', 'houston', 'merchandis', 'town', 'cubicl', 'awar', 'opinion', 'surpris', 'garden', 'retir', 'wide', 'certif', 'entir', 'coach', 'pension_plan', 'relationship', 'recruit', 'restaur', 'flexibl_manag', 'name', 'employe_custom', 'black', 'principl', 'check', 'peopl_cultur', 'ahead', 'tax', 'especi', 'bank_america', 'hour_weekend', 'elig', 'spot', 'auto', 'headquart', 'harder', 'fmla', 'holiday_pay', 'citibank', 'independ', 'loan', 'retir_packag', 'exist', 'releas', 'live', 'flow', 'ice', 'cohes', 'insur_dental', 'instal', 'hour_schedul', 'schedul_day', 'depend', 'product_employe', 'comcast', 'machin', 'environ_time', 'snack', 'medicar', 'insur_employe', 'time_health', 'commis', 'local_manag', 'built', 'anthem', 'lot_hour', 'accord', 'peopl_time', 'unless', 'middl', 'oppurtun', 'time_home', 'drive', 'outsid', 'vendor', 'task', 'labor', 'midlevel', 'offer_home', 'nation', 'session', 'begin', 'bid', 'honest', 'quick', 'travel', 'break_8_hour', 'hour_time', 'path', 'definit', 'input', 'benefit_secur', 'restrict', 'hour_day', 'manufactur', 'usual', 'rehir', 'balanc_manag', 'hour_avail', 'payment', 'growth_opportun', 'pay_hour', 'soft', 'intern_travel', 'break_peopl', 'suck', 'extrem', 'spread', 'meritocraci', 'digit', 'regularli', 'contributor', 'dispatch', 'immedi', 'agenc', 'break_schedul', 'graduat', 'benefit_life_balanc', 'avail', 'bonus', 'mobil', 'accommod', 'answer', 'director', 'equip', 'son', 'collect', 'accur', 'bad', 'cafeteria_food', 'detail', 'applic', 'metric', 'pay_commiss', 'pay_union', 'green', 'manag_train', 'starbuck', 'territori', 'deal', 'learn', 'parttim_employe', 'fed', 'pay_health', 'ago', 'custom_pay', 'institut', 'senior_manag', 'emphasi', 'pay_life_balanc', 'time_person', 'relief', 'consider', 'heathcar', 'abl', 'pay_structur', 'evolv', 'offici', 'outdoor', 'daili_basi', 'ethic', 'experienc', 'lunch_time', 'honesti', 'set', 'grant', 'basic', 'profession_growth', 'manag_environ', 'manag_compens', 'choos', 'critic', 'lay', 'prior', 'transit', 'surround', 'break_custom', 'chang', 'resid', 'agent_pay', 'paperwork', 'even', 'sick_day', 'potenti', 'biweekli', 'desir', 'coke', 'clock', 'dynam', 'competet', 'interview', 'school', 'innov', 'hour_flexibl', 'break_10', 'see', 'system', 'own', 'adequ', 'vehicl', 'factori', 'nyc', 'fastpac', 'stand', 'lot_opportun_advanc', 'loss', 'break_lot', 'court', 'cooper', 'accomplish', 'person_growth', 'home_time', 'feet', 'seat', 'bakeri', 'differenti', 'float', 'will', 'trabajo', 'god', 'stay_busi', 'fresh', 'there', 'upward', 'slow', 'cultur', 'product_custom', 'mean', 'grate', 'evalu', 'didnt', 'mileag', 'manageri', 'feedback', 'incent', 'handl', 'thru', 'lot_employe', 'tier', 'break_time', 'comfort', 'maintain', 'vto', 'store_discount', 'book', 'express', 'freedom', 'observ', 'truli', 'think', 'volunt', 'defin', 'strong', 'public', 'produc', 'short_day', 'greatli', 'pay_retail', 'health_dental', 'stabl', 'time_time', 'winter', 'utc', 'york', 'occas', 'attempt', 'moment', 'pay_industri', 'internet', 'join', 'cardin', 'better_pay', 'custom_satisfact', 'compress_week', 'hourli_wage', 'retail', 'dull', 'associ', 'pay_manag', 'breath', 'activ', 'reinforc', 'excel_health_care', 'benefit_break', 'longev', 'ive', 'product', 'spring', 'care_benefit', 'plant', 'discount_ge', 'trip', 'lifestyl', 'plu', 'beak', 'fork', 'incent_pay', 'time_break', 'tell', 'exposur', 'deposit', 'colleg', 'offic_space', 'paper', 'fund', 'lot_peopl', 'subway', 'due', 'expos', 'oil', 'fire', 'return', 'christma', 'mgr', 'one', 'minimum', 'break_4', 'resourc', 'air', 'overcom', 'consid', 'rare', 'learn_curv', 'fargo', 'use', 'frequent', 'multipl', 'repet', 'countri', 'nimbl', 'vend_machin', 'arriv', 'loos', 'primarili', 'fill', 'glove', 'firm', 'common', 'occassion', 'attitud', 'expens', 'exercis', 'doctor', 'late', 'home_life', 'aircraft', 'amongst', 'later', 'menu', 'half', 'oversea', 'expect', 'previou', 'stack', 'boa', 'competit_pay', 'curv', 'polit', 'pay_competit', 'listen', 'depend_manag', 'object', 'left', 'held', 'manag_hour', 'thanksgiv', 'vacat_time', 'excess', 'reciev', 'abil', 'switch', 'partner', 'focus', 'hear', 'hold', 'commun', 'choic', 'day_day', 'unfortun', 'shuttl', 'stock_option', 'acknowledg', 'somtim', 'free_health', 'cross_train', 'box', 'beer', 'pickup', 'leverag', 'badg', 'hourli_pay', 'american', 'payrol', 'street', 'huddl', 'perman', 'rout', 'life_balanc', 'appropri', 'vision', 'regard', 'insur', 'intel', 'rel', 'smell', 'home_base', 'balanc_life', 'pay_lot', 'quick_pace', 'competit', 'deal_custom', 'opportun_growth', 'air_condit', 'excel_benefit', 'list', 'monday', 'dress_code', 'job', 'error', 'lot', 'compet', 'convers', 'mail', 'manag_care_employe', 'forward', 'size', 'recommend', 'news', 'wise', 'enrol', 'superior', 'discount_store', 'recogn', 'valu', 'manag_cowork', 'market', 'forgiv', 'terribl', 'picnic', '30_min_break', 'slightli', 'near', 'satellit', 'percent', 'univers', 'hour_week', 'time_schedul', 'incent_plan', 'person_time', 'arrang', 'main', 'happi', 'search', 'por', 'workspac', 'increas', 'your', 'custom_employe', 'month', 'stone', 'holder', 'life_insur', 'flexibl_life_balanc', 'reloc', 'hour_fast', 'limit', 'pressur_sale', 'compens_manag', 'break_overtim', 'constantli', 'dept', 'matern_leav', 'core', 'face', 'lunch_break', 'add', 'head', 'amount', 'complet', 'target', 'free_lunch', 'min', 'confin', 'salari_compens', 'opportun', 'warehous', 'suit', 'server', 'mistak', 'half_hour', 'store_manag', 'matern', 'transact', 'receiv', 'buse', 'aspect', 'insid', 'opportun_advanc', 'cultur_worklif_balanc', 'break_benefit', 'tight', 'micro_manag', 'busi_season', 'pay_rate', 'engag', 'safe', 'appl', 'fast', 'garag', 'transpar', 'sourc', 'train_advanc', 'advisor', 'pay_increas', 'properli', 'start', 'leav', 'repres', 'pay_minimum', 'execut', 'except', 'home_depot', 'ideal', 'nonmanag', 'tension', 'orient', 'idea', 'cultur_worklif', 'pay_hard', 'pay_advanc_opportun', 'guidelin', 'pay_short', 'cardin_health', 'monitor', 'facil', '8_hour_shift', 'fix', 'cowork', 'lost', 'benefit_pay', 'compani', 'advantag', 'succeed', 'health_care', 'via', 'decent', 'boost', 'hotel', 'class', 'environ', 'short_shift', 'hourli_rate', 'six', 'migrat', 'differ_depart', 'premium', 'benefit_employe', 'team_support', 'hour_custom', 'futur', 'extend', 'free', 'bill', 'holiday', 'recent', 'resolv', 'manipul', 'time_day', 'benefit_short', 'couldnt', 'consult', 'rush', 'extra', 'profess', 'exclus', 'door', 'famili_orient', 'depot', 'manag_pay', 'ibm', 'send', 'current', 'tuition', 'paid_holiday_vacat', 'relax', 'commiss_structur', '45_minut_lunch', 'muy', 'buy', 'central', 'familiar', 'base_salari', 'flexibl_hour', 'pay_lunch', 'benefit_overtim', 'experi', 'hub', 'sweat', 'technolog', 'local', 'prioriti', 'coupl', 'schedul_manag', 'stabil', 'carri', 'doesnt', 'function', 'famili', 'break_2', 'creativ', 'cube', 'encourag', 'action', 'continu_educ', 'particular', 'pepsi', 'militari', 'cheap', 'hardwork', 'satisfact', 'perman_posit', 'employe_moral', '1_hour_lunch', 'hour_benefit', 'benefit_sometim', 'notic', 'truck', 'offic', 'career', 'play', 'line_busi', 'realist', 'custom_base', 'obtain', 'multitask', 'hour', 'pay_advanc', 'referr', 'reason', 'help_manag', 'ongo', 'law', 'kid', 'distribut', 'toward', 'benefit_time_employe', 'employe_peopl', 'match', 'regist', 'proactiv', 'chain', '10_minut_break', 'descanso', 'easi', 'spend_time', 'temperatur', 'opportun_promot', 'punch', 'medic_insur', 'medic_benefit', 'million', 'allow', 'employ', 'hand', 'daili', 'mediocr', 'bodi', 'chase', 'close', 'comput', 'person', 'manag_time', 'veteran', 'straight', 'improv', 'infrastructur', 'call_center', 'fifteen', 'commut', 'awesom', 'sick_leav', 'role', 'owner', 'break_1', 'worker', 'correctli', 'contract', 'pocket', 'throughout', 'que', 'joint', 'period', 'save', 'cool', 'buis', 'preload', 'wasnt', 'stuck', 'road', 'atmospher', 'time_hour', 'organ', 'perform', 'commiss_pay', 'insan', 'everyday', 'medicin', 'toler', 'wouldnt', 'cost_live', 'week', 'flexibl', 'nice', 'career_growth', 'life_balanc_opportun', 'parttim', 'rid', 'folk', 'twice', 'corpor', 'code', 'guid', 'union_represent', 'measur', 'day_hour', 'oper', 'hour_manag', 'corpor_cultur', 'okay', 'afford', 'drive_car', 'lose', 'loyal', 'compens_benefit', 'discount_ge_product', 'schedual', 'student', 'time_pay', 'peopl_manag', 'shift_pay', 'leadership', 'verizon', 'movement', 'citi', 'girl', 'hour_overtim', 'trust', 'committe', 'retir_benefit', 'watch', 'administr', 'sell', 'organiz', 'break_paid', 'lol', 'balanc_cultur', 'healthcar', 'micro', 'throw', 'intern', 'claim', 'career_path', 'focu', 'reput', 'direct_manag', 'sea', 'space', 'min_lunch', 'inhous', 'mother', 'exceed', 'promot_opportun', 'best', 'qualifi', 'hour_break', 'track', 'cabl', 'mgt', 'world', 'offic_environ', 'half_hour_lunch', 'appli', 'red_card', 'manag_friendli', 'vend', 'mac', 'sever', 'solid', 'red', 'requir', 'establish', 'night', 'benifit', 'break_pay', 'social', 'reduc', 'branch', 'inclus', 'phoenix', 'gain', 'hardwar', 'music', 'pace_environ', 'posit', 'type', 'zero', 'weekli', 'ill', 'competit_salari', 'time_holiday', 'growth_potenti', 'career_advanc_opportun', 'farm', 'poor', 'help', 'mental', 'smart', 'instor', 'buck', 'consist', 'till', 'sens', 'level', 'benefit_parttim', 'prospect', 'polic', 'time_manag', 'accru', 'drop', 'term', 'adapt', 'shop', 'share', 'day', 'career_opportun', 'parttim_hour', 'develop_program', 'look', 'fed_ex', 'break_15_minut', 'break_lunch_time', 'guidanc']\n"
     ]
    }
   ],
   "source": [
    "pro_terms = df_pro[df_pro.topic == 1][\"term\"].values.tolist()\n",
    "con_terms = df_con[df_con.topic == 1][\"term\"].values.tolist()\n",
    "\n",
    "pro_con = list(set(pro_terms) & set(con_terms))\n",
    "print(len(pro_con))\n",
    "print(pro_con)"
   ]
  },
  {
   "cell_type": "code",
   "execution_count": null,
   "metadata": {},
   "outputs": [],
   "source": []
  }
 ],
 "metadata": {
  "kernelspec": {
   "display_name": "Python 3",
   "language": "python",
   "name": "python3"
  },
  "language_info": {
   "codemirror_mode": {
    "name": "ipython",
    "version": 3
   },
   "file_extension": ".py",
   "mimetype": "text/x-python",
   "name": "python",
   "nbconvert_exporter": "python",
   "pygments_lexer": "ipython3",
   "version": "3.6.8"
  }
 },
 "nbformat": 4,
 "nbformat_minor": 2
}
