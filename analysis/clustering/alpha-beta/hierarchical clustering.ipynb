{
 "cells": [
  {
   "cell_type": "code",
   "execution_count": 3,
   "metadata": {},
   "outputs": [
    {
     "data": {
      "text/html": [
       "<div>\n",
       "<style scoped>\n",
       "    .dataframe tbody tr th:only-of-type {\n",
       "        vertical-align: middle;\n",
       "    }\n",
       "\n",
       "    .dataframe tbody tr th {\n",
       "        vertical-align: top;\n",
       "    }\n",
       "\n",
       "    .dataframe thead th {\n",
       "        text-align: right;\n",
       "    }\n",
       "</style>\n",
       "<table border=\"1\" class=\"dataframe\">\n",
       "  <thead>\n",
       "    <tr style=\"text-align: right;\">\n",
       "      <th></th>\n",
       "      <th>topic</th>\n",
       "      <th>term</th>\n",
       "      <th>beta</th>\n",
       "    </tr>\n",
       "  </thead>\n",
       "  <tbody>\n",
       "    <tr>\n",
       "      <th>0</th>\n",
       "      <td>1</td>\n",
       "      <td>1_hour_break</td>\n",
       "      <td>3.672673e-208</td>\n",
       "    </tr>\n",
       "    <tr>\n",
       "      <th>1</th>\n",
       "      <td>2</td>\n",
       "      <td>1_hour_break</td>\n",
       "      <td>1.351000e-189</td>\n",
       "    </tr>\n",
       "    <tr>\n",
       "      <th>2</th>\n",
       "      <td>3</td>\n",
       "      <td>1_hour_break</td>\n",
       "      <td>8.675901e-213</td>\n",
       "    </tr>\n",
       "    <tr>\n",
       "      <th>3</th>\n",
       "      <td>4</td>\n",
       "      <td>1_hour_break</td>\n",
       "      <td>4.690151e-197</td>\n",
       "    </tr>\n",
       "    <tr>\n",
       "      <th>4</th>\n",
       "      <td>5</td>\n",
       "      <td>1_hour_break</td>\n",
       "      <td>6.897081e-192</td>\n",
       "    </tr>\n",
       "  </tbody>\n",
       "</table>\n",
       "</div>"
      ],
      "text/plain": [
       "   topic          term           beta\n",
       "0      1  1_hour_break  3.672673e-208\n",
       "1      2  1_hour_break  1.351000e-189\n",
       "2      3  1_hour_break  8.675901e-213\n",
       "3      4  1_hour_break  4.690151e-197\n",
       "4      5  1_hour_break  6.897081e-192"
      ]
     },
     "metadata": {},
     "output_type": "display_data"
    },
    {
     "name": "stdout",
     "output_type": "stream",
     "text": [
      "(172666, 3)\n"
     ]
    }
   ],
   "source": [
    "import pandas as pd\n",
    "import numpy as np\n",
    "\n",
    "num_topics = 26\n",
    "df = pd.read_csv(f\"~/Desktop/R_js/data/beta/pro{num_topics}_beta.csv\")\n",
    "\n",
    "display(df.head())\n",
    "print(df.shape)"
   ]
  },
  {
   "cell_type": "markdown",
   "metadata": {},
   "source": [
    "## Computing topic word distribution"
   ]
  },
  {
   "cell_type": "code",
   "execution_count": 4,
   "metadata": {},
   "outputs": [
    {
     "name": "stdout",
     "output_type": "stream",
     "text": [
      "26\n",
      "26\n"
     ]
    }
   ],
   "source": [
    "topic_word_distr = []\n",
    "imp_words = []\n",
    "terms = df[df.topic == 1].term.values.tolist()\n",
    "\n",
    "num_topics = len(df.topic.unique())\n",
    "for i in range(1, num_topics+1):\n",
    "    topic = df[df.topic == i] \n",
    "    vals = topic.beta.values.tolist()\n",
    "    topic_word_distr += [np.asarray(vals)]\n",
    "    words = [terms[i] for i in np.asarray(vals).argsort()[-10:][::-1].tolist()]\n",
    "    imp_words.append(words)\n",
    "    \n",
    "print(len(topic_word_distr))\n",
    "print(len(imp_words))\n"
   ]
  },
  {
   "cell_type": "code",
   "execution_count": 10,
   "metadata": {},
   "outputs": [
    {
     "name": "stdout",
     "output_type": "stream",
     "text": [
      "[array([0.       , 0.       , 0.       , ..., 0.       , 0.       ,\n",
      "       0.0005838]), array([0., 0., 0., ..., 0., 0., 0.]), array([0., 0., 0., ..., 0., 0., 0.]), array([0., 0., 0., ..., 0., 0., 0.]), array([0., 0., 0., ..., 0., 0., 0.]), array([0., 0., 0., ..., 0., 0., 0.]), array([0., 0., 0., ..., 0., 0., 0.]), array([0., 0., 0., ..., 0., 0., 0.]), array([0., 0., 0., ..., 0., 0., 0.]), array([0., 0., 0., ..., 0., 0., 0.]), array([0., 0., 0., ..., 0., 0., 0.]), array([0., 0., 0., ..., 0., 0., 0.]), array([0., 0., 0., ..., 0., 0., 0.]), array([0.        , 0.        , 0.        , ..., 0.00101968, 0.        ,\n",
      "       0.        ]), array([0., 0., 0., ..., 0., 0., 0.]), array([0.        , 0.01821095, 0.        , ..., 0.        , 0.        ,\n",
      "       0.        ]), array([0., 0., 0., ..., 0., 0., 0.]), array([0.0002145 , 0.        , 0.00235947, ..., 0.        , 0.        ,\n",
      "       0.        ]), array([0., 0., 0., ..., 0., 0., 0.]), array([0., 0., 0., ..., 0., 0., 0.]), array([0., 0., 0., ..., 0., 0., 0.]), array([0., 0., 0., ..., 0., 0., 0.]), array([0.        , 0.        , 0.        , ..., 0.        , 0.00048983,\n",
      "       0.        ]), array([0., 0., 0., ..., 0., 0., 0.]), array([0., 0., 0., ..., 0., 0., 0.]), array([0., 0., 0., ..., 0., 0., 0.])]\n"
     ]
    }
   ],
   "source": [
    "print(topic_word_distr)"
   ]
  },
  {
   "cell_type": "markdown",
   "metadata": {},
   "source": [
    "# Dissimilarity Measure"
   ]
  },
  {
   "cell_type": "code",
   "execution_count": 3,
   "metadata": {},
   "outputs": [
    {
     "ename": "AttributeError",
     "evalue": "module 'scipy.spatial.distance' has no attribute 'jensenshannon'",
     "output_type": "error",
     "traceback": [
      "\u001b[0;31m---------------------------------------------------------------------------\u001b[0m",
      "\u001b[0;31mAttributeError\u001b[0m                            Traceback (most recent call last)",
      "\u001b[0;32m<ipython-input-3-aebd83b53685>\u001b[0m in \u001b[0;36m<module>\u001b[0;34m\u001b[0m\n\u001b[1;32m      8\u001b[0m     \u001b[0;32mfor\u001b[0m \u001b[0mj\u001b[0m \u001b[0;32min\u001b[0m \u001b[0mrange\u001b[0m\u001b[0;34m(\u001b[0m\u001b[0mnum_topics\u001b[0m\u001b[0;34m)\u001b[0m\u001b[0;34m:\u001b[0m\u001b[0;34m\u001b[0m\u001b[0;34m\u001b[0m\u001b[0m\n\u001b[1;32m      9\u001b[0m         \u001b[0mt2\u001b[0m \u001b[0;34m=\u001b[0m \u001b[0mtopic_word_distr\u001b[0m\u001b[0;34m[\u001b[0m\u001b[0mj\u001b[0m\u001b[0;34m]\u001b[0m\u001b[0;34m\u001b[0m\u001b[0;34m\u001b[0m\u001b[0m\n\u001b[0;32m---> 10\u001b[0;31m         \u001b[0md\u001b[0m \u001b[0;34m=\u001b[0m \u001b[0mdistance\u001b[0m\u001b[0;34m.\u001b[0m\u001b[0mjensenshannon\u001b[0m\u001b[0;34m(\u001b[0m\u001b[0mt1\u001b[0m\u001b[0;34m,\u001b[0m \u001b[0mt2\u001b[0m\u001b[0;34m)\u001b[0m\u001b[0;34m\u001b[0m\u001b[0;34m\u001b[0m\u001b[0m\n\u001b[0m\u001b[1;32m     11\u001b[0m         \u001b[0md1\u001b[0m\u001b[0;34m.\u001b[0m\u001b[0mappend\u001b[0m\u001b[0;34m(\u001b[0m\u001b[0md\u001b[0m\u001b[0;34m)\u001b[0m\u001b[0;34m\u001b[0m\u001b[0;34m\u001b[0m\u001b[0m\n\u001b[1;32m     12\u001b[0m     \u001b[0mdist\u001b[0m\u001b[0;34m.\u001b[0m\u001b[0mappend\u001b[0m\u001b[0;34m(\u001b[0m\u001b[0md1\u001b[0m\u001b[0;34m)\u001b[0m\u001b[0;34m\u001b[0m\u001b[0;34m\u001b[0m\u001b[0m\n",
      "\u001b[0;31mAttributeError\u001b[0m: module 'scipy.spatial.distance' has no attribute 'jensenshannon'"
     ]
    }
   ],
   "source": [
    "from scipy.spatial import distance\n",
    "# import scipy\n",
    "\n",
    "dist = []\n",
    "for i in range(num_topics): \n",
    "    t1 = topic_word_distr[i]\n",
    "    d1 = []\n",
    "    for j in range(num_topics):\n",
    "        t2 = topic_word_distr[j]\n",
    "        d = distance.jensenshannon(t1, t2)\n",
    "        d1.append(d)\n",
    "    dist.append(d1)\n",
    "\n",
    "print(dist)"
   ]
  },
  {
   "cell_type": "code",
   "execution_count": 6,
   "metadata": {},
   "outputs": [
    {
     "name": "stdout",
     "output_type": "stream",
     "text": [
      "26\n"
     ]
    }
   ],
   "source": [
    "from sklearn.metrics.pairwise import cosine_similarity\n",
    "import math\n",
    "\n",
    "cos_sim = cosine_similarity(topic_word_distr, topic_word_distr)\n",
    "# cos_sim = [['{:f}'.format(item) for item in item_array] for item_array in cos_sim]\n",
    "# cos_sim = np.array(cos_sim)\n",
    "np.set_printoptions(suppress=True)\n",
    "cos_sim = np.round(cos_sim, 2)\n",
    "print((len(cos_sim[0])))"
   ]
  },
  {
   "cell_type": "markdown",
   "metadata": {},
   "source": [
    "# Hierarchical Clustering"
   ]
  },
  {
   "cell_type": "code",
   "execution_count": 9,
   "metadata": {},
   "outputs": [
    {
     "data": {
      "image/png": "[encoded data removed]",
      "text/plain": [
       "<Figure size 720x504 with 1 Axes>"
      ]
     },
     "metadata": {
      "needs_background": "light"
     },
     "output_type": "display_data"
    }
   ],
   "source": [
    "import scipy.cluster.hierarchy as shc\n",
    "import matplotlib.pyplot as plt\n",
    "\n",
    "plt.figure(figsize=(10, 7))\n",
    "plt.title(\"Customer Dendograms\")\n",
    "dend = shc.dendrogram(shc.linkage(cos_sim, method='ward'))"
   ]
  },
  {
   "cell_type": "code",
   "execution_count": 13,
   "metadata": {},
   "outputs": [
    {
     "data": {
      "image/png": "[encoded data removed]",
      "text/plain": [
       "<Figure size 720x504 with 1 Axes>"
      ]
     },
     "metadata": {
      "needs_background": "light"
     },
     "output_type": "display_data"
    }
   ],
   "source": [
    "from scipy.cluster.hierarchy import dendrogram, linkage\n",
    "from matplotlib import pyplot as plt\n",
    "\n",
    "linked = linkage(cos_sim, 'ward')\n",
    "\n",
    "labelList = range(1, 27)\n",
    "\n",
    "plt.figure(figsize=(10, 7))\n",
    "dendrogram(linked,\n",
    "            orientation='top',\n",
    "            labels=labelList,\n",
    "            show_leaf_counts=True)\n",
    "plt.show()"
   ]
  },
  {
   "cell_type": "markdown",
   "metadata": {},
   "source": [
    "# Dimensionality Reduction"
   ]
  },
  {
   "cell_type": "markdown",
   "metadata": {},
   "source": [
    "## TSNE"
   ]
  },
  {
   "cell_type": "code",
   "execution_count": 22,
   "metadata": {},
   "outputs": [
    {
     "name": "stdout",
     "output_type": "stream",
     "text": [
      "[t-SNE] Computing 23 nearest neighbors...\n",
      "[t-SNE] Indexed 24 samples in 0.000s...\n",
      "[t-SNE] Computed neighbors for 24 samples in 0.003s...\n",
      "[t-SNE] Computed conditional probabilities for sample 24 / 24\n",
      "[t-SNE] Mean sigma: 1125899906842624.000000\n",
      "[t-SNE] KL divergence after 250 iterations with early exaggeration: 58.275330\n",
      "[t-SNE] KL divergence after 1000 iterations: 0.406346\n"
     ]
    }
   ],
   "source": [
    "# Clustering\n",
    "from sklearn.manifold import TSNE\n",
    "# tsne = TSNE(n_components=2)\n",
    "tsne = TSNE(n_components=2, verbose=1, random_state=0, angle=.99, init='pca')\n",
    "X_tsne = tsne.fit_transform(topic_word_distr)"
   ]
  },
  {
   "cell_type": "markdown",
   "metadata": {},
   "source": [
    "## PCA"
   ]
  },
  {
   "cell_type": "code",
   "execution_count": 21,
   "metadata": {},
   "outputs": [],
   "source": [
    "from sklearn.decomposition import PCA\n",
    "\n",
    "pca = PCA(n_components=2)\n",
    "# X_tsne = pca.fit_transform(dist)\n",
    "X_tsne = pca.fit_transform(topic_word_distr)\n",
    "\n"
   ]
  },
  {
   "cell_type": "markdown",
   "metadata": {},
   "source": [
    "# Visualization"
   ]
  },
  {
   "cell_type": "code",
   "execution_count": 1,
   "metadata": {},
   "outputs": [
    {
     "ename": "NameError",
     "evalue": "name 'np' is not defined",
     "output_type": "error",
     "traceback": [
      "\u001b[0;31m---------------------------------------------------------------------------\u001b[0m",
      "\u001b[0;31mNameError\u001b[0m                                 Traceback (most recent call last)",
      "\u001b[0;32m<ipython-input-1-27adc419b37b>\u001b[0m in \u001b[0;36m<module>\u001b[0;34m\u001b[0m\n\u001b[1;32m      3\u001b[0m \u001b[0;32mimport\u001b[0m \u001b[0mrandom\u001b[0m\u001b[0;34m\u001b[0m\u001b[0;34m\u001b[0m\u001b[0m\n\u001b[1;32m      4\u001b[0m \u001b[0mget_colors\u001b[0m \u001b[0;34m=\u001b[0m \u001b[0;32mlambda\u001b[0m \u001b[0mn\u001b[0m\u001b[0;34m:\u001b[0m \u001b[0mlist\u001b[0m\u001b[0;34m(\u001b[0m\u001b[0mmap\u001b[0m\u001b[0;34m(\u001b[0m\u001b[0;32mlambda\u001b[0m \u001b[0mi\u001b[0m\u001b[0;34m:\u001b[0m \u001b[0;34m\"#\"\u001b[0m \u001b[0;34m+\u001b[0m \u001b[0;34m\"%06x\"\u001b[0m \u001b[0;34m%\u001b[0m \u001b[0mrandom\u001b[0m\u001b[0;34m.\u001b[0m\u001b[0mrandint\u001b[0m\u001b[0;34m(\u001b[0m\u001b[0;36m0\u001b[0m\u001b[0;34m,\u001b[0m \u001b[0;36m0xFFFFFF\u001b[0m\u001b[0;34m)\u001b[0m\u001b[0;34m,\u001b[0m\u001b[0mrange\u001b[0m\u001b[0;34m(\u001b[0m\u001b[0mn\u001b[0m\u001b[0;34m)\u001b[0m\u001b[0;34m)\u001b[0m\u001b[0;34m)\u001b[0m\u001b[0;34m\u001b[0m\u001b[0;34m\u001b[0m\u001b[0m\n\u001b[0;32m----> 5\u001b[0;31m \u001b[0mcolormap\u001b[0m \u001b[0;34m=\u001b[0m \u001b[0mnp\u001b[0m\u001b[0;34m.\u001b[0m\u001b[0masarray\u001b[0m\u001b[0;34m(\u001b[0m\u001b[0mget_colors\u001b[0m\u001b[0;34m(\u001b[0m\u001b[0mnum_topics\u001b[0m\u001b[0;34m)\u001b[0m\u001b[0;34m)\u001b[0m\u001b[0;34m\u001b[0m\u001b[0;34m\u001b[0m\u001b[0m\n\u001b[0m\u001b[1;32m      6\u001b[0m \u001b[0mprint\u001b[0m\u001b[0;34m(\u001b[0m\u001b[0mcolormap\u001b[0m\u001b[0;34m)\u001b[0m\u001b[0;34m\u001b[0m\u001b[0;34m\u001b[0m\u001b[0m\n",
      "\u001b[0;31mNameError\u001b[0m: name 'np' is not defined"
     ]
    }
   ],
   "source": [
    "# Generate random colors\n",
    "\n",
    "import random\n",
    "get_colors = lambda n: list(map(lambda i: \"#\" + \"%06x\" % random.randint(0, 0xFFFFFF),range(n)))\n",
    "colormap = np.asarray(get_colors(num_topics)) \n",
    "print(colormap)"
   ]
  },
  {
   "cell_type": "code",
   "execution_count": 24,
   "metadata": {},
   "outputs": [
    {
     "data": {
      "text/html": [
       "<div>\n",
       "<style scoped>\n",
       "    .dataframe tbody tr th:only-of-type {\n",
       "        vertical-align: middle;\n",
       "    }\n",
       "\n",
       "    .dataframe tbody tr th {\n",
       "        vertical-align: top;\n",
       "    }\n",
       "\n",
       "    .dataframe thead th {\n",
       "        text-align: right;\n",
       "    }\n",
       "</style>\n",
       "<table border=\"1\" class=\"dataframe\">\n",
       "  <thead>\n",
       "    <tr style=\"text-align: right;\">\n",
       "      <th></th>\n",
       "      <th>X_tsne</th>\n",
       "      <th>Y_tsne</th>\n",
       "      <th>Topic</th>\n",
       "      <th>Topic_words</th>\n",
       "      <th>Colors</th>\n",
       "    </tr>\n",
       "  </thead>\n",
       "  <tbody>\n",
       "    <tr>\n",
       "      <th>0</th>\n",
       "      <td>161.458557</td>\n",
       "      <td>453.956940</td>\n",
       "      <td>0</td>\n",
       "      <td>[cultur, salari, start, structur, competit, in...</td>\n",
       "      <td>#afd3c4</td>\n",
       "    </tr>\n",
       "    <tr>\n",
       "      <th>1</th>\n",
       "      <td>259.606354</td>\n",
       "      <td>60.705025</td>\n",
       "      <td>1</td>\n",
       "      <td>[leadership, skill, travel, intern, develop, s...</td>\n",
       "      <td>#571eaf</td>\n",
       "    </tr>\n",
       "    <tr>\n",
       "      <th>2</th>\n",
       "      <td>105.171638</td>\n",
       "      <td>139.197876</td>\n",
       "      <td>2</td>\n",
       "      <td>[difficult, system, forc, hot, cold, live, tec...</td>\n",
       "      <td>#6f0369</td>\n",
       "    </tr>\n",
       "    <tr>\n",
       "      <th>3</th>\n",
       "      <td>44.158051</td>\n",
       "      <td>302.699463</td>\n",
       "      <td>3</td>\n",
       "      <td>[worker, extrem, heavi, workload, qualiti, lif...</td>\n",
       "      <td>#9b85b4</td>\n",
       "    </tr>\n",
       "    <tr>\n",
       "      <th>4</th>\n",
       "      <td>14.249448</td>\n",
       "      <td>-9.034382</td>\n",
       "      <td>4</td>\n",
       "      <td>[hour, day, shift, sometim, call, home, cut, c...</td>\n",
       "      <td>#9ba9a6</td>\n",
       "    </tr>\n",
       "  </tbody>\n",
       "</table>\n",
       "</div>"
      ],
      "text/plain": [
       "       X_tsne      Y_tsne  Topic  \\\n",
       "0  161.458557  453.956940      0   \n",
       "1  259.606354   60.705025      1   \n",
       "2  105.171638  139.197876      2   \n",
       "3   44.158051  302.699463      3   \n",
       "4   14.249448   -9.034382      4   \n",
       "\n",
       "                                         Topic_words   Colors  \n",
       "0  [cultur, salari, start, structur, competit, in...  #afd3c4  \n",
       "1  [leadership, skill, travel, intern, develop, s...  #571eaf  \n",
       "2  [difficult, system, forc, hot, cold, live, tec...  #6f0369  \n",
       "3  [worker, extrem, heavi, workload, qualiti, lif...  #9b85b4  \n",
       "4  [hour, day, shift, sometim, call, home, cut, c...  #9ba9a6  "
      ]
     },
     "metadata": {},
     "output_type": "display_data"
    }
   ],
   "source": [
    "df_cluster = pd.DataFrame()\n",
    "df_cluster['X_tsne'] = X_tsne[:, 0]\n",
    "df_cluster['Y_tsne'] = X_tsne[:, 1]\n",
    "df_cluster['Topic'] = range(num_topics)\n",
    "df_cluster['Topic_words'] = imp_words\n",
    "\n",
    "cluster_colors = dict()\n",
    "for c in range(num_topics): \n",
    "    cluster_colors[c] = colormap[c]\n",
    "    \n",
    "df_cluster['Colors'] = df_cluster['Topic'].apply(lambda l: cluster_colors[l])\n",
    "df_cluster.sort_values(by=['Topic'], inplace=True)\n",
    "\n",
    "display(df_cluster.head())"
   ]
  },
  {
   "cell_type": "code",
   "execution_count": 25,
   "metadata": {},
   "outputs": [
    {
     "data": {
      "text/html": [
       "\n",
       "    <div class=\"bk-root\">\n",
       "        <a href=\"https://bokeh.pydata.org\" target=\"_blank\" class=\"bk-logo bk-logo-small bk-logo-notebook\"></a>\n",
       "        <span id=\"1070\">Loading BokehJS ...</span>\n",
       "    </div>"
      ]
     },
     "metadata": {},
     "output_type": "display_data"
    },
    {
     "data": {
      "application/javascript": [
       "\n",
       "(function(root) {\n",
       "  function now() {\n",
       "    return new Date();\n",
       "  }\n",
       "\n",
       "  var force = true;\n",
       "\n",
       "  if (typeof (root._bokeh_onload_callbacks) === \"undefined\" || force === true) {\n",
       "    root._bokeh_onload_callbacks = [];\n",
       "    root._bokeh_is_loading = undefined;\n",
       "  }\n",
       "\n",
       "  var JS_MIME_TYPE = 'application/javascript';\n",
       "  var HTML_MIME_TYPE = 'text/html';\n",
       "  var EXEC_MIME_TYPE = 'application/vnd.bokehjs_exec.v0+json';\n",
       "  var CLASS_NAME = 'output_bokeh rendered_html';\n",
       "\n",
       "  /**\n",
       "   * Render data to the DOM node\n",
       "   */\n",
       "  function render(props, node) {\n",
       "    var script = document.createElement(\"script\");\n",
       "    node.appendChild(script);\n",
       "  }\n",
       "\n",
       "  /**\n",
       "   * Handle when an output is cleared or removed\n",
       "   */\n",
       "  function handleClearOutput(event, handle) {\n",
       "    var cell = handle.cell;\n",
       "\n",
       "    var id = cell.output_area._bokeh_element_id;\n",
       "    var server_id = cell.output_area._bokeh_server_id;\n",
       "    // Clean up Bokeh references\n",
       "    if (id != null && id in Bokeh.index) {\n",
       "      Bokeh.index[id].model.document.clear();\n",
       "      delete Bokeh.index[id];\n",
       "    }\n",
       "\n",
       "    if (server_id !== undefined) {\n",
       "      // Clean up Bokeh references\n",
       "      var cmd = \"from bokeh.io.state import curstate; print(curstate().uuid_to_server['\" + server_id + \"'].get_sessions()[0].document.roots[0]._id)\";\n",
       "      cell.notebook.kernel.execute(cmd, {\n",
       "        iopub: {\n",
       "          output: function(msg) {\n",
       "            var id = msg.content.text.trim();\n",
       "            if (id in Bokeh.index) {\n",
       "              Bokeh.index[id].model.document.clear();\n",
       "              delete Bokeh.index[id];\n",
       "            }\n",
       "          }\n",
       "        }\n",
       "      });\n",
       "      // Destroy server and session\n",
       "      var cmd = \"import bokeh.io.notebook as ion; ion.destroy_server('\" + server_id + \"')\";\n",
       "      cell.notebook.kernel.execute(cmd);\n",
       "    }\n",
       "  }\n",
       "\n",
       "  /**\n",
       "   * Handle when a new output is added\n",
       "   */\n",
       "  function handleAddOutput(event, handle) {\n",
       "    var output_area = handle.output_area;\n",
       "    var output = handle.output;\n",
       "\n",
       "    // limit handleAddOutput to display_data with EXEC_MIME_TYPE content only\n",
       "    if ((output.output_type != \"display_data\") || (!output.data.hasOwnProperty(EXEC_MIME_TYPE))) {\n",
       "      return\n",
       "    }\n",
       "\n",
       "    var toinsert = output_area.element.find(\".\" + CLASS_NAME.split(' ')[0]);\n",
       "\n",
       "    if (output.metadata[EXEC_MIME_TYPE][\"id\"] !== undefined) {\n",
       "      toinsert[toinsert.length - 1].firstChild.textContent = output.data[JS_MIME_TYPE];\n",
       "      // store reference to embed id on output_area\n",
       "      output_area._bokeh_element_id = output.metadata[EXEC_MIME_TYPE][\"id\"];\n",
       "    }\n",
       "    if (output.metadata[EXEC_MIME_TYPE][\"server_id\"] !== undefined) {\n",
       "      var bk_div = document.createElement(\"div\");\n",
       "      bk_div.innerHTML = output.data[HTML_MIME_TYPE];\n",
       "      var script_attrs = bk_div.children[0].attributes;\n",
       "      for (var i = 0; i < script_attrs.length; i++) {\n",
       "        toinsert[toinsert.length - 1].firstChild.setAttribute(script_attrs[i].name, script_attrs[i].value);\n",
       "      }\n",
       "      // store reference to server id on output_area\n",
       "      output_area._bokeh_server_id = output.metadata[EXEC_MIME_TYPE][\"server_id\"];\n",
       "    }\n",
       "  }\n",
       "\n",
       "  function register_renderer(events, OutputArea) {\n",
       "\n",
       "    function append_mime(data, metadata, element) {\n",
       "      // create a DOM node to render to\n",
       "      var toinsert = this.create_output_subarea(\n",
       "        metadata,\n",
       "        CLASS_NAME,\n",
       "        EXEC_MIME_TYPE\n",
       "      );\n",
       "      this.keyboard_manager.register_events(toinsert);\n",
       "      // Render to node\n",
       "      var props = {data: data, metadata: metadata[EXEC_MIME_TYPE]};\n",
       "      render(props, toinsert[toinsert.length - 1]);\n",
       "      element.append(toinsert);\n",
       "      return toinsert\n",
       "    }\n",
       "\n",
       "    /* Handle when an output is cleared or removed */\n",
       "    events.on('clear_output.CodeCell', handleClearOutput);\n",
       "    events.on('delete.Cell', handleClearOutput);\n",
       "\n",
       "    /* Handle when a new output is added */\n",
       "    events.on('output_added.OutputArea', handleAddOutput);\n",
       "\n",
       "    /**\n",
       "     * Register the mime type and append_mime function with output_area\n",
       "     */\n",
       "    OutputArea.prototype.register_mime_type(EXEC_MIME_TYPE, append_mime, {\n",
       "      /* Is output safe? */\n",
       "      safe: true,\n",
       "      /* Index of renderer in `output_area.display_order` */\n",
       "      index: 0\n",
       "    });\n",
       "  }\n",
       "\n",
       "  // register the mime type if in Jupyter Notebook environment and previously unregistered\n",
       "  if (root.Jupyter !== undefined) {\n",
       "    var events = require('base/js/events');\n",
       "    var OutputArea = require('notebook/js/outputarea').OutputArea;\n",
       "\n",
       "    if (OutputArea.prototype.mime_types().indexOf(EXEC_MIME_TYPE) == -1) {\n",
       "      register_renderer(events, OutputArea);\n",
       "    }\n",
       "  }\n",
       "\n",
       "  \n",
       "  if (typeof (root._bokeh_timeout) === \"undefined\" || force === true) {\n",
       "    root._bokeh_timeout = Date.now() + 5000;\n",
       "    root._bokeh_failed_load = false;\n",
       "  }\n",
       "\n",
       "  var NB_LOAD_WARNING = {'data': {'text/html':\n",
       "     \"<div style='background-color: #fdd'>\\n\"+\n",
       "     \"<p>\\n\"+\n",
       "     \"BokehJS does not appear to have successfully loaded. If loading BokehJS from CDN, this \\n\"+\n",
       "     \"may be due to a slow or bad network connection. Possible fixes:\\n\"+\n",
       "     \"</p>\\n\"+\n",
       "     \"<ul>\\n\"+\n",
       "     \"<li>re-rerun `output_notebook()` to attempt to load from CDN again, or</li>\\n\"+\n",
       "     \"<li>use INLINE resources instead, as so:</li>\\n\"+\n",
       "     \"</ul>\\n\"+\n",
       "     \"<code>\\n\"+\n",
       "     \"from bokeh.resources import INLINE\\n\"+\n",
       "     \"output_notebook(resources=INLINE)\\n\"+\n",
       "     \"</code>\\n\"+\n",
       "     \"</div>\"}};\n",
       "\n",
       "  function display_loaded() {\n",
       "    var el = document.getElementById(\"1070\");\n",
       "    if (el != null) {\n",
       "      el.textContent = \"BokehJS is loading...\";\n",
       "    }\n",
       "    if (root.Bokeh !== undefined) {\n",
       "      if (el != null) {\n",
       "        el.textContent = \"BokehJS \" + root.Bokeh.version + \" successfully loaded.\";\n",
       "      }\n",
       "    } else if (Date.now() < root._bokeh_timeout) {\n",
       "      setTimeout(display_loaded, 100)\n",
       "    }\n",
       "  }\n",
       "\n",
       "\n",
       "  function run_callbacks() {\n",
       "    try {\n",
       "      root._bokeh_onload_callbacks.forEach(function(callback) { callback() });\n",
       "    }\n",
       "    finally {\n",
       "      delete root._bokeh_onload_callbacks\n",
       "    }\n",
       "    console.info(\"Bokeh: all callbacks have finished\");\n",
       "  }\n",
       "\n",
       "  function load_libs(js_urls, callback) {\n",
       "    root._bokeh_onload_callbacks.push(callback);\n",
       "    if (root._bokeh_is_loading > 0) {\n",
       "      console.log(\"Bokeh: BokehJS is being loaded, scheduling callback at\", now());\n",
       "      return null;\n",
       "    }\n",
       "    if (js_urls == null || js_urls.length === 0) {\n",
       "      run_callbacks();\n",
       "      return null;\n",
       "    }\n",
       "    console.log(\"Bokeh: BokehJS not loaded, scheduling load and callback at\", now());\n",
       "    root._bokeh_is_loading = js_urls.length;\n",
       "    for (var i = 0; i < js_urls.length; i++) {\n",
       "      var url = js_urls[i];\n",
       "      var s = document.createElement('script');\n",
       "      s.src = url;\n",
       "      s.async = false;\n",
       "      s.onreadystatechange = s.onload = function() {\n",
       "        root._bokeh_is_loading--;\n",
       "        if (root._bokeh_is_loading === 0) {\n",
       "          console.log(\"Bokeh: all BokehJS libraries loaded\");\n",
       "          run_callbacks()\n",
       "        }\n",
       "      };\n",
       "      s.onerror = function() {\n",
       "        console.warn(\"failed to load library \" + url);\n",
       "      };\n",
       "      console.log(\"Bokeh: injecting script tag for BokehJS library: \", url);\n",
       "      document.getElementsByTagName(\"head\")[0].appendChild(s);\n",
       "    }\n",
       "  };var element = document.getElementById(\"1070\");\n",
       "  if (element == null) {\n",
       "    console.log(\"Bokeh: ERROR: autoload.js configured with elementid '1070' but no matching script tag was found. \")\n",
       "    return false;\n",
       "  }\n",
       "\n",
       "  var js_urls = [\"https://cdn.pydata.org/bokeh/release/bokeh-1.0.2.min.js\", \"https://cdn.pydata.org/bokeh/release/bokeh-widgets-1.0.2.min.js\", \"https://cdn.pydata.org/bokeh/release/bokeh-tables-1.0.2.min.js\", \"https://cdn.pydata.org/bokeh/release/bokeh-gl-1.0.2.min.js\"];\n",
       "\n",
       "  var inline_js = [\n",
       "    function(Bokeh) {\n",
       "      Bokeh.set_log_level(\"info\");\n",
       "    },\n",
       "    \n",
       "    function(Bokeh) {\n",
       "      \n",
       "    },\n",
       "    function(Bokeh) {\n",
       "      console.log(\"Bokeh: injecting CSS: https://cdn.pydata.org/bokeh/release/bokeh-1.0.2.min.css\");\n",
       "      Bokeh.embed.inject_css(\"https://cdn.pydata.org/bokeh/release/bokeh-1.0.2.min.css\");\n",
       "      console.log(\"Bokeh: injecting CSS: https://cdn.pydata.org/bokeh/release/bokeh-widgets-1.0.2.min.css\");\n",
       "      Bokeh.embed.inject_css(\"https://cdn.pydata.org/bokeh/release/bokeh-widgets-1.0.2.min.css\");\n",
       "      console.log(\"Bokeh: injecting CSS: https://cdn.pydata.org/bokeh/release/bokeh-tables-1.0.2.min.css\");\n",
       "      Bokeh.embed.inject_css(\"https://cdn.pydata.org/bokeh/release/bokeh-tables-1.0.2.min.css\");\n",
       "    }\n",
       "  ];\n",
       "\n",
       "  function run_inline_js() {\n",
       "    \n",
       "    if ((root.Bokeh !== undefined) || (force === true)) {\n",
       "      for (var i = 0; i < inline_js.length; i++) {\n",
       "        inline_js[i].call(root, root.Bokeh);\n",
       "      }if (force === true) {\n",
       "        display_loaded();\n",
       "      }} else if (Date.now() < root._bokeh_timeout) {\n",
       "      setTimeout(run_inline_js, 100);\n",
       "    } else if (!root._bokeh_failed_load) {\n",
       "      console.log(\"Bokeh: BokehJS failed to load within specified timeout.\");\n",
       "      root._bokeh_failed_load = true;\n",
       "    } else if (force !== true) {\n",
       "      var cell = $(document.getElementById(\"1070\")).parents('.cell').data().cell;\n",
       "      cell.output_area.append_execute_result(NB_LOAD_WARNING)\n",
       "    }\n",
       "\n",
       "  }\n",
       "\n",
       "  if (root._bokeh_is_loading === 0) {\n",
       "    console.log(\"Bokeh: BokehJS loaded, going straight to plotting\");\n",
       "    run_inline_js();\n",
       "  } else {\n",
       "    load_libs(js_urls, function() {\n",
       "      console.log(\"Bokeh: BokehJS plotting callback run at\", now());\n",
       "      run_inline_js();\n",
       "    });\n",
       "  }\n",
       "}(window));"
      ],
      "application/vnd.bokehjs_load.v0+json": "\n(function(root) {\n  function now() {\n    return new Date();\n  }\n\n  var force = true;\n\n  if (typeof (root._bokeh_onload_callbacks) === \"undefined\" || force === true) {\n    root._bokeh_onload_callbacks = [];\n    root._bokeh_is_loading = undefined;\n  }\n\n  \n\n  \n  if (typeof (root._bokeh_timeout) === \"undefined\" || force === true) {\n    root._bokeh_timeout = Date.now() + 5000;\n    root._bokeh_failed_load = false;\n  }\n\n  var NB_LOAD_WARNING = {'data': {'text/html':\n     \"<div style='background-color: #fdd'>\\n\"+\n     \"<p>\\n\"+\n     \"BokehJS does not appear to have successfully loaded. If loading BokehJS from CDN, this \\n\"+\n     \"may be due to a slow or bad network connection. Possible fixes:\\n\"+\n     \"</p>\\n\"+\n     \"<ul>\\n\"+\n     \"<li>re-rerun `output_notebook()` to attempt to load from CDN again, or</li>\\n\"+\n     \"<li>use INLINE resources instead, as so:</li>\\n\"+\n     \"</ul>\\n\"+\n     \"<code>\\n\"+\n     \"from bokeh.resources import INLINE\\n\"+\n     \"output_notebook(resources=INLINE)\\n\"+\n     \"</code>\\n\"+\n     \"</div>\"}};\n\n  function display_loaded() {\n    var el = document.getElementById(\"1070\");\n    if (el != null) {\n      el.textContent = \"BokehJS is loading...\";\n    }\n    if (root.Bokeh !== undefined) {\n      if (el != null) {\n        el.textContent = \"BokehJS \" + root.Bokeh.version + \" successfully loaded.\";\n      }\n    } else if (Date.now() < root._bokeh_timeout) {\n      setTimeout(display_loaded, 100)\n    }\n  }\n\n\n  function run_callbacks() {\n    try {\n      root._bokeh_onload_callbacks.forEach(function(callback) { callback() });\n    }\n    finally {\n      delete root._bokeh_onload_callbacks\n    }\n    console.info(\"Bokeh: all callbacks have finished\");\n  }\n\n  function load_libs(js_urls, callback) {\n    root._bokeh_onload_callbacks.push(callback);\n    if (root._bokeh_is_loading > 0) {\n      console.log(\"Bokeh: BokehJS is being loaded, scheduling callback at\", now());\n      return null;\n    }\n    if (js_urls == null || js_urls.length === 0) {\n      run_callbacks();\n      return null;\n    }\n    console.log(\"Bokeh: BokehJS not loaded, scheduling load and callback at\", now());\n    root._bokeh_is_loading = js_urls.length;\n    for (var i = 0; i < js_urls.length; i++) {\n      var url = js_urls[i];\n      var s = document.createElement('script');\n      s.src = url;\n      s.async = false;\n      s.onreadystatechange = s.onload = function() {\n        root._bokeh_is_loading--;\n        if (root._bokeh_is_loading === 0) {\n          console.log(\"Bokeh: all BokehJS libraries loaded\");\n          run_callbacks()\n        }\n      };\n      s.onerror = function() {\n        console.warn(\"failed to load library \" + url);\n      };\n      console.log(\"Bokeh: injecting script tag for BokehJS library: \", url);\n      document.getElementsByTagName(\"head\")[0].appendChild(s);\n    }\n  };var element = document.getElementById(\"1070\");\n  if (element == null) {\n    console.log(\"Bokeh: ERROR: autoload.js configured with elementid '1070' but no matching script tag was found. \")\n    return false;\n  }\n\n  var js_urls = [\"https://cdn.pydata.org/bokeh/release/bokeh-1.0.2.min.js\", \"https://cdn.pydata.org/bokeh/release/bokeh-widgets-1.0.2.min.js\", \"https://cdn.pydata.org/bokeh/release/bokeh-tables-1.0.2.min.js\", \"https://cdn.pydata.org/bokeh/release/bokeh-gl-1.0.2.min.js\"];\n\n  var inline_js = [\n    function(Bokeh) {\n      Bokeh.set_log_level(\"info\");\n    },\n    \n    function(Bokeh) {\n      \n    },\n    function(Bokeh) {\n      console.log(\"Bokeh: injecting CSS: https://cdn.pydata.org/bokeh/release/bokeh-1.0.2.min.css\");\n      Bokeh.embed.inject_css(\"https://cdn.pydata.org/bokeh/release/bokeh-1.0.2.min.css\");\n      console.log(\"Bokeh: injecting CSS: https://cdn.pydata.org/bokeh/release/bokeh-widgets-1.0.2.min.css\");\n      Bokeh.embed.inject_css(\"https://cdn.pydata.org/bokeh/release/bokeh-widgets-1.0.2.min.css\");\n      console.log(\"Bokeh: injecting CSS: https://cdn.pydata.org/bokeh/release/bokeh-tables-1.0.2.min.css\");\n      Bokeh.embed.inject_css(\"https://cdn.pydata.org/bokeh/release/bokeh-tables-1.0.2.min.css\");\n    }\n  ];\n\n  function run_inline_js() {\n    \n    if ((root.Bokeh !== undefined) || (force === true)) {\n      for (var i = 0; i < inline_js.length; i++) {\n        inline_js[i].call(root, root.Bokeh);\n      }if (force === true) {\n        display_loaded();\n      }} else if (Date.now() < root._bokeh_timeout) {\n      setTimeout(run_inline_js, 100);\n    } else if (!root._bokeh_failed_load) {\n      console.log(\"Bokeh: BokehJS failed to load within specified timeout.\");\n      root._bokeh_failed_load = true;\n    } else if (force !== true) {\n      var cell = $(document.getElementById(\"1070\")).parents('.cell').data().cell;\n      cell.output_area.append_execute_result(NB_LOAD_WARNING)\n    }\n\n  }\n\n  if (root._bokeh_is_loading === 0) {\n    console.log(\"Bokeh: BokehJS loaded, going straight to plotting\");\n    run_inline_js();\n  } else {\n    load_libs(js_urls, function() {\n      console.log(\"Bokeh: BokehJS plotting callback run at\", now());\n      run_inline_js();\n    });\n  }\n}(window));"
     },
     "metadata": {},
     "output_type": "display_data"
    }
   ],
   "source": [
    "from bokeh.plotting import figure, show, output_notebook, save#, output_file\n",
    "from bokeh.models import HoverTool, value, LabelSet, Legend, ColumnDataSource\n",
    "output_notebook()"
   ]
  },
  {
   "cell_type": "code",
   "execution_count": 26,
   "metadata": {},
   "outputs": [],
   "source": [
    "source = ColumnDataSource(dict(\n",
    "    x=df_cluster['X_tsne'],\n",
    "    y=df_cluster['Y_tsne'],\n",
    "    color=df_cluster['Colors'],\n",
    "    label=df_cluster['Topic'],\n",
    "    topic_words = df_cluster[\"Topic_words\"]\n",
    "))"
   ]
  },
  {
   "cell_type": "code",
   "execution_count": 27,
   "metadata": {},
   "outputs": [
    {
     "data": {
      "text/html": [
       "\n",
       "\n",
       "\n",
       "\n",
       "\n",
       "\n",
       "  <div class=\"bk-root\" id=\"7cbd62e1-10e7-44bc-8490-8445a7eea2bb\"></div>\n"
      ]
     },
     "metadata": {},
     "output_type": "display_data"
    },
    {
     "data": {
      "application/javascript": [
       "(function(root) {\n",
       "  function embed_document(root) {\n",
       "    \n",
       "  var docs_json = {\"2aa6380b-f1fe-4911-8943-3633de0efb72\":{\"roots\":{\"references\":[{\"attributes\":{\"min_border\":1,\"plot_height\":700,\"plot_width\":1000,\"renderers\":[{\"id\":\"1091\",\"type\":\"BoxAnnotation\"},{\"id\":\"1105\",\"type\":\"Legend\"},{\"id\":\"1101\",\"type\":\"GlyphRenderer\"}],\"title\":{\"id\":\"1072\",\"type\":\"Title\"},\"toolbar\":{\"id\":\"1089\",\"type\":\"Toolbar\"},\"x_range\":{\"id\":\"1075\",\"type\":\"DataRange1d\"},\"x_scale\":{\"id\":\"1079\",\"type\":\"LinearScale\"},\"y_range\":{\"id\":\"1077\",\"type\":\"DataRange1d\"},\"y_scale\":{\"id\":\"1081\",\"type\":\"LinearScale\"}},\"id\":\"1073\",\"subtype\":\"Figure\",\"type\":\"Plot\"},{\"attributes\":{\"fill_alpha\":{\"value\":0.8},\"fill_color\":{\"field\":\"color\"},\"line_alpha\":{\"value\":0.8},\"line_color\":{\"field\":\"color\"},\"x\":{\"field\":\"x\"},\"y\":{\"field\":\"y\"}},\"id\":\"1099\",\"type\":\"Scatter\"},{\"attributes\":{},\"id\":\"1079\",\"type\":\"LinearScale\"},{\"attributes\":{},\"id\":\"1081\",\"type\":\"LinearScale\"},{\"attributes\":{\"data_source\":{\"id\":\"1071\",\"type\":\"ColumnDataSource\"},\"glyph\":{\"id\":\"1099\",\"type\":\"Scatter\"},\"hover_glyph\":null,\"muted_glyph\":null,\"nonselection_glyph\":{\"id\":\"1100\",\"type\":\"Scatter\"},\"selection_glyph\":null,\"view\":{\"id\":\"1102\",\"type\":\"CDSView\"}},\"id\":\"1101\",\"type\":\"GlyphRenderer\"},{\"attributes\":{},\"id\":\"1083\",\"type\":\"PanTool\"},{\"attributes\":{\"overlay\":{\"id\":\"1091\",\"type\":\"BoxAnnotation\"}},\"id\":\"1085\",\"type\":\"BoxZoomTool\"},{\"attributes\":{},\"id\":\"1108\",\"type\":\"Selection\"},{\"attributes\":{},\"id\":\"1084\",\"type\":\"WheelZoomTool\"},{\"attributes\":{\"callback\":null},\"id\":\"1077\",\"type\":\"DataRange1d\"},{\"attributes\":{},\"id\":\"1086\",\"type\":\"ResetTool\"},{\"attributes\":{},\"id\":\"1109\",\"type\":\"UnionRenderers\"},{\"attributes\":{\"fill_alpha\":{\"value\":0.1},\"fill_color\":{\"value\":\"#1f77b4\"},\"line_alpha\":{\"value\":0.1},\"line_color\":{\"value\":\"#1f77b4\"},\"x\":{\"field\":\"x\"},\"y\":{\"field\":\"y\"}},\"id\":\"1100\",\"type\":\"Scatter\"},{\"attributes\":{\"callback\":null,\"data\":{\"color\":[\"#afd3c4\",\"#571eaf\",\"#6f0369\",\"#9b85b4\",\"#9ba9a6\",\"#c78cfa\",\"#773504\",\"#ac27c6\",\"#7a9bc1\",\"#cdd672\",\"#63f8bb\",\"#2b8a69\",\"#b528ff\",\"#8ca109\",\"#9f1b97\",\"#64cc5f\",\"#ded00b\",\"#d67810\",\"#74a4cf\",\"#d61613\",\"#036cc4\",\"#fc630f\",\"#7f8eed\",\"#f3db11\"],\"label\":[0,1,2,3,4,5,6,7,8,9,10,11,12,13,14,15,16,17,18,19,20,21,22,23],\"topic_words\":[[\"cultur\",\"salari\",\"start\",\"structur\",\"competit\",\"increas\",\"commiss\",\"industri\",\"lower\",\"market\"],[\"leadership\",\"skill\",\"travel\",\"intern\",\"develop\",\"sell\",\"bank\",\"individu\",\"poor_leadership\",\"ethic\"],[\"difficult\",\"system\",\"forc\",\"hot\",\"cold\",\"live\",\"technolog\",\"summer\",\"discount\",\"upward\"],[\"worker\",\"extrem\",\"heavi\",\"workload\",\"qualiti\",\"lift\",\"volum\",\"hour_pay\",\"bureaucraci\",\"heavi_lift\"],[\"hour\",\"day\",\"shift\",\"sometim\",\"call\",\"home\",\"cut\",\"center\",\"hour_day\",\"call_center\"],[\"pay\",\"advanc\",\"low\",\"low_pay\",\"opportun\",\"littl\",\"career\",\"growth\",\"advanc_opportun\",\"career_advanc\"],[\"lack\",\"train\",\"support\",\"direct\",\"manag_lack\",\"lack_commun\",\"program\",\"equip\",\"lack_train\",\"profession\"],[\"compens\",\"amount\",\"unless\",\"employ\",\"associ\",\"minim\",\"medic\",\"incent\",\"break_low\",\"respons\"],[\"benefit\",\"care\",\"health\",\"worklif\",\"worklif_balanc\",\"balanc\",\"limit\",\"healthcar\",\"insur\",\"health_care\"],[\"week\",\"product\",\"demand\",\"physic\",\"labor\",\"hour_week\",\"rotat\",\"unfair\",\"day_week\",\"practic\"],[\"sale\",\"goal\",\"polici\",\"meet\",\"pressur\",\"strict\",\"perform\",\"metric\",\"quota\",\"unrealist\"],[\"stress\",\"lot\",\"peopl\",\"environ\",\"dont\",\"promot\",\"person\",\"rude\",\"base\",\"senior\"],[\"employe\",\"expect\",\"rais\",\"horribl\",\"rate\",\"level\",\"wage\",\"moral\",\"treat\",\"doesnt\"],[\"chang\",\"life\",\"balanc\",\"life_balanc\",\"constantli\",\"turnov\",\"challeng\",\"frequent\",\"line\",\"consist\"],[\"time\",\"famili\",\"help\",\"paid\",\"vacat\",\"take\",\"sick\",\"abl\",\"phone\",\"avail\"],[\"poor\",\"poor_manag\",\"commun\",\"could\",\"overtim\",\"better\",\"mandatori\",\"condit\",\"could_better\",\"manag_poor\"],[\"schedul\",\"retail\",\"month\",\"inconsist\",\"flexibl\",\"set\",\"leav\",\"drive\",\"miss\",\"schedul_chang\"],[\"hard\",\"move\",\"corpor\",\"polit\",\"offic\",\"store\",\"job\",\"close\",\"process\",\"supervisor\"],[\"due\",\"slow\",\"requir\",\"layoff\",\"outsid\",\"etc\",\"con\",\"reloc\",\"fire\",\"continu\"],[\"custom\",\"secur\",\"constant\",\"depart\",\"issu\",\"servic\",\"cowork\",\"deal\",\"depend\",\"littl\"],[\"break\",\"short\",\"short_break\",\"lunch\",\"lunch_break\",\"short_lunch\",\"holiday\",\"minut\",\"weekend\",\"night\"],[\"manag\",\"bad\",\"team\",\"upper\",\"upper_manag\",\"bad_manag\",\"terribl\",\"pace\",\"fast\",\"favorit\"],[\"posit\",\"busi\",\"hire\",\"staff\",\"contract\",\"didnt\",\"get\",\"stand\",\"staf\",\"contractor\"],[\"micromanag\",\"differ\",\"certain\",\"stay\",\"money\",\"task\",\"learn\",\"stress_time\",\"hour_time\",\"matter\"]],\"x\":{\"__ndarray__\":\"ZHUhQ53NgUPhV9JC2KEwQr39Y0EHLOFDpQ+LQ8cBicOZ3w1CvdsVw4Z/3sPQ+crCTImawrjZbkE36R1Ddt+Dw7D99MIUqR/D9RFHQzLQGcNPPZRDtC+/wxVv68OqAq3D\",\"dtype\":\"float32\",\"shape\":[24]},\"y\":{\"__ndarray__\":\"ffriQ/LRckKoMgtDiFmXQ9SMEMGaELhCHSOFQwdOBcN+fmDDv0+QQ4RawMK8MhDD3dIbQ5ww1MMf8JXCwub5Qoic7ENjI5XDKOSVw6eSdkGM0ybD8qyjw2lWs0Ls9JhD\",\"dtype\":\"float32\",\"shape\":[24]}},\"selected\":{\"id\":\"1108\",\"type\":\"Selection\"},\"selection_policy\":{\"id\":\"1109\",\"type\":\"UnionRenderers\"}},\"id\":\"1071\",\"type\":\"ColumnDataSource\"},{\"attributes\":{\"callback\":null,\"tooltips\":[[\"Topic\",\"@label  <br> Topic_words: @topic_words \"]]},\"id\":\"1087\",\"type\":\"HoverTool\"},{\"attributes\":{},\"id\":\"1088\",\"type\":\"SaveTool\"},{\"attributes\":{\"items\":[{\"id\":\"1106\",\"type\":\"LegendItem\"}],\"location\":\"top_left\",\"plot\":{\"id\":\"1073\",\"subtype\":\"Figure\",\"type\":\"Plot\"}},\"id\":\"1105\",\"type\":\"Legend\"},{\"attributes\":{\"bottom_units\":\"screen\",\"fill_alpha\":{\"value\":0.5},\"fill_color\":{\"value\":\"lightgrey\"},\"left_units\":\"screen\",\"level\":\"overlay\",\"line_alpha\":{\"value\":1.0},\"line_color\":{\"value\":\"black\"},\"line_dash\":[4,4],\"line_width\":{\"value\":2},\"plot\":null,\"render_mode\":\"css\",\"right_units\":\"screen\",\"top_units\":\"screen\"},\"id\":\"1091\",\"type\":\"BoxAnnotation\"},{\"attributes\":{\"plot\":null,\"text\":\"T-SNE visualization of topics\"},\"id\":\"1072\",\"type\":\"Title\"},{\"attributes\":{\"callback\":null},\"id\":\"1075\",\"type\":\"DataRange1d\"},{\"attributes\":{\"source\":{\"id\":\"1071\",\"type\":\"ColumnDataSource\"}},\"id\":\"1102\",\"type\":\"CDSView\"},{\"attributes\":{\"active_drag\":\"auto\",\"active_inspect\":\"auto\",\"active_multi\":null,\"active_scroll\":\"auto\",\"active_tap\":\"auto\",\"tools\":[{\"id\":\"1083\",\"type\":\"PanTool\"},{\"id\":\"1084\",\"type\":\"WheelZoomTool\"},{\"id\":\"1085\",\"type\":\"BoxZoomTool\"},{\"id\":\"1086\",\"type\":\"ResetTool\"},{\"id\":\"1087\",\"type\":\"HoverTool\"},{\"id\":\"1088\",\"type\":\"SaveTool\"}]},\"id\":\"1089\",\"type\":\"Toolbar\"},{\"attributes\":{\"label\":{\"field\":\"label\"},\"renderers\":[{\"id\":\"1101\",\"type\":\"GlyphRenderer\"}]},\"id\":\"1106\",\"type\":\"LegendItem\"}],\"root_ids\":[\"1073\"]},\"title\":\"Bokeh Application\",\"version\":\"1.0.2\"}};\n",
       "  var render_items = [{\"docid\":\"2aa6380b-f1fe-4911-8943-3633de0efb72\",\"roots\":{\"1073\":\"7cbd62e1-10e7-44bc-8490-8445a7eea2bb\"}}];\n",
       "  root.Bokeh.embed.embed_items_notebook(docs_json, render_items);\n",
       "\n",
       "  }\n",
       "  if (root.Bokeh !== undefined) {\n",
       "    embed_document(root);\n",
       "  } else {\n",
       "    var attempts = 0;\n",
       "    var timer = setInterval(function(root) {\n",
       "      if (root.Bokeh !== undefined) {\n",
       "        embed_document(root);\n",
       "        clearInterval(timer);\n",
       "      }\n",
       "      attempts++;\n",
       "      if (attempts > 100) {\n",
       "        console.log(\"Bokeh: ERROR: Unable to run BokehJS code because BokehJS library is missing\");\n",
       "        clearInterval(timer);\n",
       "      }\n",
       "    }, 10, root)\n",
       "  }\n",
       "})(window);"
      ],
      "application/vnd.bokehjs_exec.v0+json": ""
     },
     "metadata": {
      "application/vnd.bokehjs_exec.v0+json": {
       "id": "1073"
      }
     },
     "output_type": "display_data"
    }
   ],
   "source": [
    "title = 'T-SNE visualization of topics'\n",
    "\n",
    "plot_lda = figure(plot_width=1000, plot_height=700,\n",
    "                     title=title, tools=\"pan,wheel_zoom,box_zoom,reset,hover,previewsave\",\n",
    "                     x_axis_type=None, y_axis_type=None, min_border=1)\n",
    "\n",
    "plot_lda.scatter(x='x', y='y',  legend='label', source=source,\n",
    "                 color='color', alpha=0.8)#'msize', )\n",
    "\n",
    "# hover tools\n",
    "hover = plot_lda.select(dict(type=HoverTool))\n",
    "hover.tooltips = { \"Topic\": \"@label  <br> Topic_words: @topic_words \"}\n",
    "plot_lda.legend.location = \"top_left\"\n",
    "\n",
    "show(plot_lda)"
   ]
  },
  {
   "cell_type": "markdown",
   "metadata": {},
   "source": [
    "## Combine Pro and Cons model\n"
   ]
  },
  {
   "cell_type": "code",
   "execution_count": 3,
   "metadata": {},
   "outputs": [
    {
     "data": {
      "text/html": [
       "<div>\n",
       "<style scoped>\n",
       "    .dataframe tbody tr th:only-of-type {\n",
       "        vertical-align: middle;\n",
       "    }\n",
       "\n",
       "    .dataframe tbody tr th {\n",
       "        vertical-align: top;\n",
       "    }\n",
       "\n",
       "    .dataframe thead th {\n",
       "        text-align: right;\n",
       "    }\n",
       "</style>\n",
       "<table border=\"1\" class=\"dataframe\">\n",
       "  <thead>\n",
       "    <tr style=\"text-align: right;\">\n",
       "      <th></th>\n",
       "      <th>topic</th>\n",
       "      <th>term</th>\n",
       "      <th>beta</th>\n",
       "    </tr>\n",
       "  </thead>\n",
       "  <tbody>\n",
       "    <tr>\n",
       "      <th>0</th>\n",
       "      <td>1</td>\n",
       "      <td>1_hour_break</td>\n",
       "      <td>3.672673e-208</td>\n",
       "    </tr>\n",
       "    <tr>\n",
       "      <th>1</th>\n",
       "      <td>2</td>\n",
       "      <td>1_hour_break</td>\n",
       "      <td>1.351000e-189</td>\n",
       "    </tr>\n",
       "    <tr>\n",
       "      <th>2</th>\n",
       "      <td>3</td>\n",
       "      <td>1_hour_break</td>\n",
       "      <td>8.675901e-213</td>\n",
       "    </tr>\n",
       "    <tr>\n",
       "      <th>3</th>\n",
       "      <td>4</td>\n",
       "      <td>1_hour_break</td>\n",
       "      <td>4.690151e-197</td>\n",
       "    </tr>\n",
       "    <tr>\n",
       "      <th>4</th>\n",
       "      <td>5</td>\n",
       "      <td>1_hour_break</td>\n",
       "      <td>6.897081e-192</td>\n",
       "    </tr>\n",
       "  </tbody>\n",
       "</table>\n",
       "</div>"
      ],
      "text/plain": [
       "   topic          term           beta\n",
       "0      1  1_hour_break  3.672673e-208\n",
       "1      2  1_hour_break  1.351000e-189\n",
       "2      3  1_hour_break  8.675901e-213\n",
       "3      4  1_hour_break  4.690151e-197\n",
       "4      5  1_hour_break  6.897081e-192"
      ]
     },
     "metadata": {},
     "output_type": "display_data"
    },
    {
     "data": {
      "text/plain": [
       "(172666, 3)"
      ]
     },
     "metadata": {},
     "output_type": "display_data"
    },
    {
     "data": {
      "text/html": [
       "<div>\n",
       "<style scoped>\n",
       "    .dataframe tbody tr th:only-of-type {\n",
       "        vertical-align: middle;\n",
       "    }\n",
       "\n",
       "    .dataframe tbody tr th {\n",
       "        vertical-align: top;\n",
       "    }\n",
       "\n",
       "    .dataframe thead th {\n",
       "        text-align: right;\n",
       "    }\n",
       "</style>\n",
       "<table border=\"1\" class=\"dataframe\">\n",
       "  <thead>\n",
       "    <tr style=\"text-align: right;\">\n",
       "      <th></th>\n",
       "      <th>topic</th>\n",
       "      <th>term</th>\n",
       "      <th>beta</th>\n",
       "    </tr>\n",
       "  </thead>\n",
       "  <tbody>\n",
       "    <tr>\n",
       "      <th>0</th>\n",
       "      <td>1</td>\n",
       "      <td>’_care</td>\n",
       "      <td>8.624717e-100</td>\n",
       "    </tr>\n",
       "    <tr>\n",
       "      <th>1</th>\n",
       "      <td>2</td>\n",
       "      <td>’_care</td>\n",
       "      <td>2.555270e-93</td>\n",
       "    </tr>\n",
       "    <tr>\n",
       "      <th>2</th>\n",
       "      <td>3</td>\n",
       "      <td>’_care</td>\n",
       "      <td>1.219269e-114</td>\n",
       "    </tr>\n",
       "    <tr>\n",
       "      <th>3</th>\n",
       "      <td>4</td>\n",
       "      <td>’_care</td>\n",
       "      <td>3.194975e-91</td>\n",
       "    </tr>\n",
       "    <tr>\n",
       "      <th>4</th>\n",
       "      <td>5</td>\n",
       "      <td>’_care</td>\n",
       "      <td>7.375773e-119</td>\n",
       "    </tr>\n",
       "  </tbody>\n",
       "</table>\n",
       "</div>"
      ],
      "text/plain": [
       "   topic    term           beta\n",
       "0      1  ’_care  8.624717e-100\n",
       "1      2  ’_care   2.555270e-93\n",
       "2      3  ’_care  1.219269e-114\n",
       "3      4  ’_care   3.194975e-91\n",
       "4      5  ’_care  7.375773e-119"
      ]
     },
     "metadata": {},
     "output_type": "display_data"
    },
    {
     "data": {
      "text/plain": [
       "(154080, 3)"
      ]
     },
     "metadata": {},
     "output_type": "display_data"
    }
   ],
   "source": [
    "import pandas as pd\n",
    "import numpy as np\n",
    "\n",
    "# num_topics_pro = 8\n",
    "num_topics_pro = 26\n",
    "\n",
    "df_pro = pd.read_csv(f\"~/Desktop/R_js/data/beta/pro{num_topics_pro}_beta.csv\")\n",
    "\n",
    "# num_topics_con = 10\n",
    "num_topics_con = 24\n",
    "\n",
    "df_con = pd.read_csv(f\"~/Desktop/R_js/data/beta/con{num_topics_con}_beta.csv\")\n",
    "\n",
    "display(df_pro.head())\n",
    "display(df_pro.shape)\n",
    "\n",
    "display(df_con.head())\n",
    "display(df_con.shape)"
   ]
  },
  {
   "cell_type": "code",
   "execution_count": 4,
   "metadata": {},
   "outputs": [
    {
     "name": "stdout",
     "output_type": "stream",
     "text": [
      "2096\n",
      "['decis', 'cardin_health', 'manag_advanc', 'spread', 'break_30_min', 'local', 'heath', 'encourag', 'sleep', 'renew', 'advantag', 'minim', 'addit', 'attempt', 'data', 'street', 'measur', 'strategi', 'cook', 'player', 'horribl', 'target', 'occasion', 'line_manag', 'express', 'requir', 'line', 'coke', 'inhous', 'insur_employe', 'appreci', 'grant', 'corp', 'reward', 'opportun', 'weather', 'amongst', 'snow', 'break_4_hour', 'belong', 'fmla', 'tool', 'hour_lot', 'doubl', 'wasnt', 'talent', 'success', 'fast', 'peopl_cultur', 'pay', 'growth_potenti', 'employess', 'repres', 'morn_shift', 'interact', 'didnt', 'commit', 'incred', 'comput', 'paid', 'minimum', 'line_busi', 'track', 'hardwork', 'easili', 'phoenix', 'pay_incent', 'overtim', 'refriger', 'manag_pay', 'citigroup', 'cloud', 'schedul_break', 'major_holiday', 'award', 'eventu', 'simpl', 'opportunit', 'coach', 'execut', 'supervis', 'tuition', 'mainten', 'pay_rate', 'prospect', 'kroger', 'produc', 'pound', 'medic', 'digit', 'technician', 'listen', 'holiday_season', 'care_manag', 'solid', 'practic', 'develop_program', 'banker', 'except', 'drive_car', 'access', 'time_schedul', 'cross', 'emerg', 'dispatch', 'pay_peopl', 'metric', 'straight', 'annual_review', 'upward_mobil', 'difficult', 'worker', 'competit_environ', 'chain', 'poor', 'limit', 'guess', 'employe_custom', 'plant', 'competitv', 'stone', 'googl', 'turnov', 'hr_week', 'basi', 'skill', 'easier', 'sell', 'devic', 'paid_time', 'integr', 'routin', 'auto', 'feet', 'overtim_pay', 'onsit', 'club', 'benefit_paid', 'sort', 'util', 'cooper', 'worri', 'exampl', 'manag', 'career_advanc', 'hsa', 'zone', 'instal', 'later', 'pick', 'paid_holiday', 'mean', 'actual', 'busi', 'meal', 'that', 'defens', 'depot', 'doctor', 'custom', 'break', 'music', 'farm', 'period_time', 'load', 'brand', 'mall', 'health_insur', 'rule', 'hour_schedul', 'lost', 'instor', 'base', 'trade', 'child', 'degre', 'screen', 'due', 'hourli_rate', 'one', 'break_15_min', 'comiss', 'train_manag', 'think', 'rare', 'repeat', 'univers', 'correctli', 'monday', 'parent', 'commun_skill', 'benefit_manag', 'discount_ge_product', 'channel', 'safe', 'incom', 'merchandis', 'virtual', 'defin', 'vest', 'workspac', 'caus', 'boss', 'hour_paid', 'hour_time', 'reimburs', 'station', 'manag_benefit', 'concept', 'superior', 'lunch_pay', 'commiss_base', 'cost_live', 'wife', 'prize', 'district', 'flexibl_schedul', 'healthcar_401k', 'expertis', 'dinner', 'insur_pay', 'injuri', 'secur_pay', 'middl', 'vacat_sick_time', 'differ_depart', 'sector', 'mission', 'policyhold', 'mental', 'restrict', 'compens', 'aspect', 'ge_product', 'ran', 'break_hour', 'break_30', 'shutdown', 'weekend_holiday', 'bother', 'lifework', 'compens_benefit', 'statu', 'paid_vacat', 'balanc_cultur', 'smart', 'excel_benefit', 'committe', 'day_weekend', 'differ', 'world', 'nation', 'free_soda', 'six', 'hear', 'pension_plan', 'drink', 'commiss_pay', 'manageri', 'manag_opportun', 'usual', 'compress_week', 'insur_benefit', 'leader', 'biweekli', 'forc', 'traffic', 'respect', 'multipl', 'tast', 'histori', 'own', 'women', 'lunch', 'reduc', 'entri', 'switch', 'rank', 'mentor', 'cultur_life_balanc', 'benefit_offer', 'manger', 'discount_store', 'user', 'event', 'stabil', 'marketplac', 'youv', 'represent', 'vacat_day', 'cost_studi', 'price', 'length', 'age', 'readi', 'campu', 'lower', 'pace_environ', 'favorit', 'distribut', 'restaur', 'pay_retail', 'travel', 'machineri', 'opportun_pay', 'short_hour', 'hour_employe', 'car', 'liter', 'flexibl_manag', 'awesom', 'sign', 'bar', 'workweek', 'workplac', 'intel', 'abl_help', 'custom_base', 'chang', 'instead', 'commiss_structur', 'supervisor', 'vacat_benefit', 'benefit_retir', 'impact', 'foot', 'benefit_time', 'cheaper', 'mangement', 'deliveri', 'short_term', 'releas', 'global', 'tour', 'retent', 'citi', 'min_break', 'ensur', 'fed_ex', 'exclus', 'occassion', 'stay', 'path', 'polic', 'joke', 'por', 'matern', 'open', 'refer', 'brake', 'excel', 'burn', 'suppli', 'bring', 'dupont', 'lay', 'twice', 'mgt', 'home_time', 'extra_hour', 'half', 'purchas', 'led', 'flexabl', 'ethic', 'pay_schedul', 'surviv', 'manag_hour', 'whatev', 'gift', 'ford', 'vet', 'dress_code', 'appli', 'method', 'met', 'avoid', 'drop', 'citibank', 'involv', 'manner', 'particip', 'break_custom', 'ppl', 'benefit_hour', 'could', 'found', 'better_pay', 'manag_compens', 'life', 'thier', 'continu', 'strong', 'menu', 'membership', 'natur', 'paper', 'peak', 'rest', 'cell', 'balanc_benefit', 'complic', 'elig', 'train', 'stuff', 'time_associ', 'freedom', 'hair', 'fed', 'discount_employe', 'nurs', 'hour_lunch', 'reput', 'incent_pay', 'team_environ', 'student', 'fast_pace', 'weekli', 'guidanc', 'mother', 'decent', 'forev', 'manag_peopl', 'sale', 'best', 'manag_staff', 'temp', 'weekend_month', 'discount_ge', 'lol', 'gear', 'day', 'min', 'month', 'els', 'rais_benefit', '30_min_lunch', 'cell_phone', 'food', 'merit', 'rout', 'equip', 'opportun_manag', 'corpor_cultur', 'deposit', 'secur_benefit', 'salari', 'lot', 'sight', 'light', 'explain', 'retail', 'attract', 'learn_curv', 'welcom', 'pay_pay', 'process', 'issu', 'earn', 'peopl', 'unfortun', 'loyalti', 'peopl_time', 'lend', 'pay_short', 'break_lunch_time', 'orient', 'para', 'garden', 'maintain', 'glass', 'credit_card', 'normal', 'shop', 'low', 'midlevel', 'bay', 'pay_insur', 'motiv', 'confin', 'healthi', 'ive', 'childcar', 'stuck', 'anthem', 'choos', 'proper', 'monitor', 'complex', 'behavior', 'expect', 'educ', 'sensit', 'outdoor', 'assembl_line', 'enviorn', 'benefit', 'luch', 'profession_growth', 'cater', 'career_growth', 'workfamili', '4_hour_shift', 'famili_friendli', 'excel_health_care', 'project', 'lake', 'procedur', 'benefit_break', 'manag_cultur', 'mediocr', 'rid', 'breakroom', 'mortgag', 'conduct', 'transit', 'summer', 'help_peopl', 'directli', 'lot_travel', 'food_court', 'team_manag', 'move', 'see', 'clearli', 'previou', 'special', 'career_opportun', 'close', 'employe_friendli', 'bunch', 'rel', 'lower_level', 'there', 'accid', 'inventori', 'assembl', 'minut_lunch', 'girl', 'cover', 'employe_pay', 'aircondit', 'mail', 'type', 'staf', 'abl', 'lean', 'free_coffe', 'benifit', 'power', 'excess', 'environ_hour', 'cardin', 'heavi', 'moment', 'receiv', 'hourli', 'possibl', 'flexibl_life', 'breakslunch', 'contributor', 'floor', 'schedul_worklif', 'govern', 'reli', 'money_hour', 'adequ', 'help_custom', 'sale_goal', 'stretch', 'flex', 'tri', 'rememb', '8_hour_day', 'wage', 'random', 'school', 'york', 'break_10', 'mgr', 'especi', 'offici', 'transport', 'immedi', 'attend', 'challeng', 'stop', 'ongo', 'manag_help', 'certain', 'script', 'dept', 'hour_lunch_break', 'dental', 'wifi', 'solo', 'develop', 'break_4', 'mile', 'free_lunch', 'employe_peopl', 'leadership_program', 'afford', 'guest', 'overnight', 'metlif', 'easi', 'min_lunch_break', 'aircraft', 'trainer', 'cowork', 'built', 'happi', 'awar', 'game', 'cloth', 'lot_opportun_advanc', 'comput_system', 'step', 'regard', 'speak', 'log', 'offer', 'hard', 'elderli', 'outsid', 'time_lunch', 'pay_overtim', 'accru', 'embrac', 'insan', 'senior_manag', 'product_employe', 'gym', 'oportun', 'outlook', 'break_15_minut', 'cultur_life', 'pull', 'emplye', 'caller', 'facil', 'peer', 'competit_pay', 'honor', 'effect', 'pocket', 'pay_advanc', 'lead', 'opinion', 'healthcar_insur', 'ship', 'purpos', 'debit', 'minut_break_hour', 'inclus', 'fill', 'start_pay', 'hour_discount', '15_min_break', 'left', 'meaning', 'walk', 'overcom', 'enjoy', 'health_insur_401k', 'product', 'custom_interact', 'min_lunch', 'pay_time', 'holiday', 'career_advanc_opportun', 'total', 'veteran', 'potenti', 'store_level', 'support_manag', 'shoe', 'sit', 'manag_care', 'broker', 'put', 'dont', 'zero', 'graduat', 'pay_benefit', 'better', 'cultur', 'team_cultur', 'director', 'tech', 'bought', 'hardwar', 'home', 'life_balanc', 'advanc', 'oblig', 'somewhat', 'vacat_sick_day', 'store_manag', 'rehir', '8_hour_shift', 'prudenti', 'fun', 'volunt', 'local_manag', 'seriou', 'boe', 'heat', 'via', 'fit', 'task', 'check', 'desk', 'regulatori', 'tabl', 'institut', 'start_time', 'employe_discount', 'microwav', 'break_paid', 'airplan', 'time_health', 'miss', 'verizon', 'weight', 'train_advanc', 'manag_co_worker', 'microsoft', 'financi', 'profession', 'oper', 'pool', 'look', 'third', 'eight', 'resolv', 'suffici', 'gener', 'dress', 'intens', 'team', 'store', 'shape', 'preload', 'break_8_hour', 'suit', 'hour_week', 'nice', 'code', 'perman_posit', 'lot_employe', 'vari', 'passion', 'throw', 'advanc_peopl', 'auto_industri', 'environ_manag', 'nimbl', 'compet', 'lack', 'ford_motor', 'base_pay', 'slow', 'season', 'migrat', 'plan', 'protect', 'pay_bad', 'beyond', 'cultur_manag', 'mistak', 'command', 'hot', 'clear', 'launch', 'air_condit', 'turnaround', 'exceed', 'field', 'paperwork', 'custom_employe', 'retir_packag', 'includ', 'benefit_advanc', 'smell', 'day_shift', 'hour_avail', 'plano', 'even', 'manag_commun', 'salari_manag', 'expens', 'retain', 'nonmanag', 'adult', 'parttim', 'acknowledg', 'bottom', 'busi_time', 'clientel', 'pay_minimum', 'allot', 'standard', 'bill', 'medicar', 'past', 'chase', 'longterm', 'stock_option', 'reciev', 'style', 'friday', 'capabl', 'hour_hour', 'sick_leav', 'ceo', 'hand', 'pay_scale', 'asset', 'benefit_pay', 'presenc', 'find', 'relationship', 'run', 'engin', 'night', 'god', 'common', 'rotat', 'thanksgiv', 'fee', 'speed', 'super', 'foreign', 'subject', 'contribut', 'infrastructur', 'commis', 'profit_share', 'greatli', 'emot', 'health_care', 'averag', 'cut', 'pro', 'health_benefit', 'record', 'cube', 'partial', 'pay_health_benefit', 'pay_life_balanc', 'headquart', 'pay_advanc_opportun', 'hard_worker', 'credo', 'appl', 'subway', 'level', 'product_servic', 'air', 'consist', 'benfit', 'construct', 'bore', 'fuel', 'chevron', 'sea', 'upper', 'relat', 'employe_manag', 'saturday', 'hour_flexibl', 'top', 'core', 'focus', 'rate', 'ticket', 'placement', 'save', 'ate', 'quickli', '15_minut_break', 'familiar', 'manag_worklif_balanc', 'abil_move', 'automot', 'pay_employe_discount', 'daili', 'schdule', 'treat_employe', 'harder', 'satisfact', 'manag_support', 'use', 'custom_satisfact', 'trabajo', 'time_opportun', '45_min_lunch', 'numer', 'control', 'gain', 'empresa', 'time_famili', 'vacat', 'career_develop', 'health_coverag', 'worklif', 'pickup', 'locat', 'exempt', 'satisfactori', 'card', 'watch', 'telecommut', 'manag_team', 'schedul_manag', 'guy', 'parttim_hour', 'time_time', 'amount', 'friend', 'bank', 'softwar', 'major', 'guarante', 'lot_peopl', 'join', 'time_hour', 'observ', 'central', 'home_depot', 'partner', 'autonomi', 'environ', 'children', 'balanc_life', 'proactiv', 'benefit_vacat', 'consid', 'shift', 'cafe', 'joint', 'benefit_lunch', 'sunday', 'believ', 'book', 'benefit_life_balanc', 'machin', 'elsewher', 'support', 'confid', 'team_support', 'pay_salari', 'specialist', 'ice', 'stack', 'micromanag', 'race', 'rang', 'grow', 'badg', 'compens_plan', 'comcast', 'repet', 'empti', 'huge', 'fix', 'tenur', 'bank_center', 'team_leader', 'lot_money', 'opportun_move', 'direct', 'unless', 'engag', 'glove', 'con', 'object', 'costco', 'shift_schedul', 'tight', 'costum', 'despit', 'flexibl', 'human', 'obtain', 'intern', 'aggress', 'lucki', 'time_employe', 'error', 'seri', 'jump', 'appropri', 'guid', 'collect', 'ago', 'spend', 'peac', 'nyc', 'depend', 'dull', 'resourc', 'competet', 'bonu', 'downtown', 'deduct', 'christma', 'healthcar', 'valu_employe', 'que', 'initi', 'goal', 'manag_train', 'train_program', 'opportun_promot', 'crew', 'littl', 'platform', 'paid_sick', 'pay_benifit', 'technic', 'minut_lunch_break', 'breakfast', 'hous', 'entir', 'pay_worklif', 'law', 'co_worker', 'volum', 'select', 'care_benefit', 'achiev', 'supplier', 'build', 'live', 'enviro', 'break_peopl', 'roll', 'sick_day', 'busi_season', 'quarterli', 'coordin', 'mark', 'internship', 'benefit_timer', 'insur_dental', 'temperatur', 'pace', 'sale_manag', 'lab', 'break_discount', 'break_15', 'set', 'break_pay', 'coverag', 'background', 'pay_lot', 'rep', 'insid', 'physic', 'begin', 'sick', 'allow', 'quick', 'hour_custom', 'time_holiday', 'schedul_worklif_balanc', 'theyr', 'vehicl', 'utc', 'idea', 'clinic', 'seat', 'hour', 'post', 'growth_opportun', 'temporari', 'internet', 'scale', 'manag_life_balanc', 'climat_control', 'concern', 'nearli', 'worklif_balanc_manag', 'labor', 'hassl', 'estat', 'updat', 'typic', 'cashier', 'trip', 'comfort', 'sweat', 'treat', 'picnic', 'matur', 'buy', 'claim', 'detail', 'particular', 'diem', 'quiet', 'disabl', 'set_schedul', 'cold', 'dedic', 'toler', 'fulltim', 'time', 'increas', 'prefer', 'mandatori_overtim', 'appoint', 'pay_union', 'current', 'privat', 'retir_benefit', 'revenu', 'prioriti', 'properli', 'heart', 'water', 'opportun_grow', 'vibe', 'benefit_time_employe', 'countri', 'comp', 'door', 'hub', 'manufactur', 'regular', 'dynam', 'eat', 'manag_cowork', 'remot', '10_min_break', 'premium', 'care', 'treatment', 'condit', 'benefit_commiss', 'lunch_break', 'perman', 'share', 'abus', 'form', 'collabor', 'overal', 'real', 'longev', 'applianc', 'paid_lunch', 'wouldnt', 'answer', 'worklif_balanc', 'brought', 'box', 'black', 'custom_manag', 'account', '45_minut_lunch', 'youll', 'forward', 'pass', 'anymor', 'home_life', 'health_dental', 'visibl', 'pay_competit', 'manag_friendli', 'union_employe', 'read', 'slightli', 'like', 'corpor', 'pay_low', 'write', 'feedback', 'hour_benefit', 'night_shift', 'spend_time', 'pharmaci', 'benefit_secur', 'paid_holiday_vacat', 'valu', 'famili_orient', 'disciplin', 'flight', 'descanso', 'lunch_time', 'care_employe', 'satellit', 'bathroom', 'career_path', 'individu', 'bond', 'seek', 'ahead', 'break_1_hour', 'resolut', 'balanc_secur', 'principl', 'incent', 'benefit_packag', 'make', 'improv', 'instant', 'situat', 'folk', 'relief', 'research', 'massiv', 'growth_pay', 'oil', 'reason', 'break_30_minut', 'occas', 'forklift', 'free_food', 'manag_lot', 'model', 'health', 'apart', 'drug', 'cross_train', 'okay', 'groceri', 'extrem', 'nasa', 'accommod', 'aerospac', 'finish', 'competit', 'hotel', 'warm', 'send', 'bit', 'health_care_benefit', 'half_hour_lunch', 'commiss', 'product_line', 'decid', 'soft', 'benefit_temp', 'heathcar', 'pretti', 'minut_break', 'surround', 'quit', 'confer', 'time_pay', 'lifework_balanc', 'theyll', 'recogn', 'economi', 'chemic', 'fastpac', 'cap', 'warehous', 'abil', 'postion', 'fanni', 'monthli', 'phone', 'definit', 'motor', 'employe_benefit', 'charg', 'break_healthcar', 'health_plan', 'extern', 'ton', 'satisfi', 'sound', 'choic', 'team_lead', 'sick_time', 'depart', 'soda', 'recommend', 'peopl_manag', 'balanc', 'loss', 'week', 'pay_hour', 'personnel', 'spot', 'hour_fast', 'consum', 'driver', 'connect', 'set_hour', 'entri_level', 'holiday_vacat', 'balanc_pay', 'wonder', 'health_dental_vision', 'off', 'day_vacat', 'perform_review', 'town', 'life_balanc_opportun', 'deliv', 'match', 'train_peopl', 'break_free', 'mgmt', 'healthcar_pay', 'provid', 'fast_pace_environ', 'singl', 'senior', 'perfect', 'manag_pay_benefit', 'meritocraci', 'fire', 'workday', 'transact', 'transpar', 'emc', 'base_salari', 'big', 'mechan', 'boost', 'tension', 'varieti', 'goe', 'ill', 'usa', 'creativ', 'period', 'pto', 'regul', 'mac', 'leisur', 'relax', 'unit', 'pressur', 'par', 'thrive', 'uniform', 'million', 'main', 'feel', 'crazi', '30_minut_lunch', 'whenev', 'balanc_manag', 'budget', 'shown', 'face', 'thirti', 'cabl', 'follow', 'minimum_wage', 'stand', 'futur', 'yearli', 'accur', 'name', 'truck', 'kid', 'site', 'contract', 'lose', 'altern', 'cubicl', 'applic', 'famili', 'commun', 'discount_product', 'schedul', 'redcard', 'bonu_structur', 'arent', 'reliabl', 'emphasi', 'activ', 'manag_care_employe', 'micro_manag', 'pay_employe', 'head', 'huddl', 'discount', 'coffe', 'payout', 'hour_weekend', 'term', 'guarante_hour', 'smoke', 'neg', 'mandatori', 'beer', 'solut', 'jpmorgan', 'lunch_manag', 'upper_manag', 'profit', 'till', 'shuttl', 'court', 'server', 'benefit_health', 'manag_environ', 'locker', 'transform', 'red_card', 'fast_pace_time', 'won', 'call', 'valuabl', 'tell', 'deadlin', 'bonus', 'quota', 'bad', 'directv', 'healthcar_benefit', 'qualif', 'intern_travel', 'dental_vision', 'inform', 'holiday_time', 'besid', 'remov', 'weekend', 'count', 'manag_employe', 'muscl', 'factori', 'date', 'promot', 'distanc', 'happen', 'anytim', 'input', 'job', 'support_staff', 'cash', 'hour_overtim', 'underwrit', 'direct_manag', 'toe', 'opportun_growth', 'benefit_employe', 'half_hour', 'float', 'restroom', 'andor', 'tech_compani', 'kitchen', 'vendor', 'curv', 'colleagu', 'cultur_worklif_balanc', 'park', 'lot_time', 'session', 'hang', 'home_offic', 'clock', 'insur', 'pay_structur', 'charlott', 'offic_environ', 'tree', 'train_support', 'ten', 'smart_peopl', 'start', 'mileag', 'let', 'deal_custom', 'tough', 'offer_home', 'referr', 'free_health', 'parttim_employe', 'centric', 'workforc', 'mix', 'hour_home', 'pay_industri', 'toward', 'lift', 'corner', 'advisor', 'honesti', 'vto', 'cohes', 'person', 'fine', 'hour_pay', 'demand', 'done', 'cheap', 'fund', 'bank_america', 'desir', 'agent', 'payment', '1_hour_lunch', 'pleas', 'day_hour', 'road', 'talk_peopl', 'minut', 'list', 'cool', 'patient', 'love', 'attitud', 'place', 'experienc', 'custom_servic', 'garag', 'constantli', 'benefit_union', 'hope', 'somtim', 'onlin', 'territori', 'studi', 'muy', 'push', 'round', 'program', 'schedul_hour', 'highli', 'free_time', 'hospit', 'mayb', 'system', 'pension', 'trust', 'workhom', 'recruit', 'pay_lunch', 'mckesson', 'houston', 'stress', 'adjust', 'incent_plan', 'walmart', 'contractor', 'capit', '30_minut_break', 'vast', 'union', 'leverag', 'effort', 'employe', 'buse', 'movement', 'enrol', 'ect', 'creat', 'ibm', 'consider', 'medicin', 'wont', 'tend', 'matern_leav', 'annual_rais', 'pay_health', 'leadership', 'compress', 'pay_healthcar', 'manag_store', 'salari_benefit', 'give', 'health_care_401k', 'owner', 'board', 'fresh', 'review', 'don', 'self', 'talk', 'heavili', 'call_center', 'shift_hour', 'leav', 'break_lunch', 'accomod', 'center', 'break_shift', 'red', 'fte', 'pack', 'knowledg', 'snack', 'held', 'benefit_401k', 'implement', 'mortgag_industri', 'interview', 'honest', 'percent', 'organ', 'free', 'hour_manag', 'hold', 'terribl', 'licens', 'expand', 'fifteen_minut_break', 'timer', 'surpris', 'final', 'break_hour_lunch', 'pay_better', 'colleg', 'workplac_cultur', 'lax', 'flexibl_life_balanc', 'son', 'respons', 'polici', 'deal', 'separ', 'stabl', 'secur', 'time_home', 'wear', 'truli', 'agil', 'specif', 'coupl', 'consult', 'compani', 'front', 'chanc_advanc', 'attent', 'wait', 'compens_manag', 'prior', 'holder', 'recent', 'laid', 'risk', 'train_class', 'structur', 'break_8', 'vacat_time', 'chanc', 'climat', 'pay_secur', 'hit', 'upward', 'winter', 'telephon', 'lunch_hour', 'unpaid', 'will', 'hour_peopl', 'pay_commiss', 'duti', 'daili_basi', 'dtv', 'report', 'accomplish', 'schedul_flexibl', 'role', 'size', 'break_lunch_break', 'time_benefit', 'hundr', 'fargo', 'industri', 'bodi', 'near', 'assign', 'expos', 'growth', 'temporari_employe', 'author', 'benefit_parttim', 'thru', 'envirn', 'insent', 'pay_check', 'perk', 'sever', 'wide', 'buck', 'morn', 'conveni', 'organiz', 'reloc', 'resid', 'agenc', 'lot_hour', 'person_growth', 'hour_shift', 'short', 'reach', 'grade', 'buis', 'advanc_pay', 'kind', 'break_day', 'att', 'wise', 'break_lot', 'polit', 'visit', 'client', 'pay_rais', 'your', 'item', 'competit_salari', 'plu', 'differenti', 'larger', 'hour_day', 'fedex', 'loos', 'short_shift', 'union_represent', 'absolut', 'holiday_weekend', 'sourc', 'multi', 'schedul_time', 'hat', 'meet', 'oppurtun', 'news', 'employe_recognit', 'worker_manag', 'print', 'public', 'pay_minimum_wage', 'money', 'bank_industri', 'titl', 'rais_hour', 'play', 'arriv', 'promot_opportun', 'pace_time', 'approach', 'offic_space', 'know', 'employe_moral', 'result', 'oil_ga', 'negoti', 'chair', 'pressur_sale', 'breath', 'posit', 'sometim', 'primarili', 'stock', 'paycheck', 'flexibl_hour', 'cost', 'search', 'compens_packag', 'annual', 'hoilday', 'enter', 'home_base', 'hora', 'crowd', 'starbuck', 'frontlin', 'health_insur_benefit', 'financ', 'key', 'hire', 'soon', 'pay_increas', 'atmospher', 'packag', 'pay_worklif_balanc', 'complet', 'recognit', 'quick_pace', 'pay_opportun', 'eye', 'contact', 'function', 'break_manag', 'hour_compens', 'micro', 'basic', 'hour_health', 'extend', 'custom_pay', 'sens', 'punch', 'manag_time', 'understand', 'bonus_pay', 'hourli_pay', 'probabl', 'short_break', 'benefit_short', 'pay_break', 'break_break', 'hourli_wage', 'blue', 'accept', 'benefit_low', 'benefit_health_insur', 'vend', 'couldnt', 'independ', 'day_day', 'divis', 'carri', 'experi', 'cart', 'focu', 'break_2', 'wish', 'divers', 'benefit_sometim', 'keep', 'social', 'forgiv', 'approv', 'drive', '40_hour_week', 'sold', 'life_balanc_manag', 'tie', 'uaw', 'militari', 'exist', 'notic', 'staff', 'everyday', 'rais', 'pay_life', 'regularli', 'holiday_pay', '12_hour_shift', 'trajectori', 'opportun_career', 'hour_break', 'stay_busi', 'figur', '30_min_break', 'fifteen', 'realist', 'prescript', 'qualifi', 'offic', 'servic', 'randomli', 'ideal', 'fairli', 'dollar', 'promo', 'repair', 'thorough', 'retir', 'quarter', 'lot_overtim', 'steadi', 'firm', 'solv', 'lock', 'salari_compens', 'bid', 'time_person', 'matter', 'evalu', 'profess', 'benefit_overtim', 'cowork_manag', 'rise', 'inclement', 'rush', 'drama', 'continu_educ', 'start_wage', 'space', 'lot_opportun', 'succeed', 'popular', 'energi', 'cafeteria_food', 'faster', 'break_overtim', 'ride', 'question', 'help', 'strict', 'america', 'class', 'store_discount', 'qualiti', 'etc', 'credit', 'agent_pay', 'time_day', 'address', 'late', 'payrol', 'meet_goal', 'innov', 'lunch_break_hour', 'commut', 'medic_insur', 'design', 'action', 'prepar', 'slight', 'busi_day', 'spirit', 'time_manag', 'come', 'administr', 'medic_benefit', 'averag_pay', 'frequent', 'famili_time', '10_minut_break', 'guidelin', 'teamwork', 'employ', 'consist_schedul', 'loan', 'short_day', 'tier', 'constant', 'admin', 'get', 'plenti', 'legal', 'clean', 'parti', 'return', 'setup', 'outstand', 'break_time', 'five', 'workout', 'bakeri', 'adapt', 'depend_manag', 'shift_pay', 'person_vehicl', 'lifestyl', 'person_life', 'fellow', 'dell', 'differ_locat', 'suck', 'shortag', 'true', 'unload', 'pepsi', 'pay_hard', 'compar', 'handl', 'mobil', 'pay_posit', 'perform', 'mind', 'rate_pay', 'beak', 'boa', 'invest', 'establish', 'econom', 'scope', 'document', 'person_time', 'vend_machin', 'ceil', 'break_benefit', 'cent', 'fork', 'exposur', 'none', 'challang', 'time_peopl', 'opportunti', 'friendli', 'peak_season', 'werent', 'multitask', 'spring', 'driven', 'corpor_environ', 'accord', 'career', 'shift_bid', 'add', 'pay_manag', 'reinforc', 'market', 'fair', 'seen', 'environ_cultur', 'manipul', 'vision', 'overtim_hour', 'test', 'ground', 'loyal', 'critic', 'schedul_pay', 'mid', 'signific', 'vacat_sick', 'learn', 'ownership', 'evolv', 'cafeteria', 'tax', 'envior', 'day_week', 'qualiti_life', 'pharmacist', 'home_day', 'neighborhood', 'out', 'excit', 'advanc_opportun', 'associ', 'flow', 'avail', 'schedul_day', 'mate', 'enforc', 'break_1', 'properti', 'certif', 'opportun_career_growth', 'progress', 'acquir', 'afternoon', 'break_schedul', 'technolog', 'transfer', 'life_insur', 'secur_advanc', 'dog', 'kept', 'convers', 'variou', 'exercis', 'arrang', 'pharmaci_manag', 'doesnt', 'schedual', 'product_custom', 'option', '10_hour_day', 'green', 'effici', 'safeti', 'teach', 'regist', 'assist', 'employe_appreci', 'view', 'break_employe', 'cultur_worklif', 'extra', 'time_break', 'alot', 'help_manag', 'extens', 'materi', 'environ_time', 'take', 'serv', 'equal', 'autom', 'request', 'opportun_advanc', 'grate', 'austin', 'throughout', 'network', 'workload', 'american', 'moral', 'oversea', 'rotat_schedul', 'teller', 'deli', 'window', 'branch', 'worth', 'hour_team']\n"
     ]
    }
   ],
   "source": [
    "pro_terms = df_pro[df_pro.topic == 1][\"term\"].values.tolist()\n",
    "con_terms = df_con[df_con.topic == 1][\"term\"].values.tolist()\n",
    "\n",
    "pro_con = list(set(pro_terms) & set(con_terms))\n",
    "print(len(pro_con))\n",
    "print(pro_con)"
   ]
  },
  {
   "cell_type": "code",
   "execution_count": 5,
   "metadata": {},
   "outputs": [
    {
     "name": "stdout",
     "output_type": "stream",
     "text": [
      "13061\n",
      "13061\n"
     ]
    }
   ],
   "source": [
    "just_pro = list(set(pro_terms) - set(con_terms))\n",
    "just_con = list(set(con_terms) - set(pro_terms))\n",
    "\n",
    "\n",
    "print(len(just_pro) + len(just_con) + 2*len(pro_con))\n",
    "print(len(pro_terms) + len(con_terms))"
   ]
  },
  {
   "cell_type": "code",
   "execution_count": 6,
   "metadata": {},
   "outputs": [
    {
     "data": {
      "text/html": [
       "<div>\n",
       "<style scoped>\n",
       "    .dataframe tbody tr th:only-of-type {\n",
       "        vertical-align: middle;\n",
       "    }\n",
       "\n",
       "    .dataframe tbody tr th {\n",
       "        vertical-align: top;\n",
       "    }\n",
       "\n",
       "    .dataframe thead th {\n",
       "        text-align: right;\n",
       "    }\n",
       "</style>\n",
       "<table border=\"1\" class=\"dataframe\">\n",
       "  <thead>\n",
       "    <tr style=\"text-align: right;\">\n",
       "      <th></th>\n",
       "      <th>topic</th>\n",
       "      <th>term</th>\n",
       "      <th>beta</th>\n",
       "      <th>procon</th>\n",
       "      <th>color</th>\n",
       "    </tr>\n",
       "  </thead>\n",
       "  <tbody>\n",
       "    <tr>\n",
       "      <th>0</th>\n",
       "      <td>1</td>\n",
       "      <td>1_hour_break</td>\n",
       "      <td>3.672673e-208</td>\n",
       "      <td>pro</td>\n",
       "      <td>#c67f1f</td>\n",
       "    </tr>\n",
       "    <tr>\n",
       "      <th>1</th>\n",
       "      <td>2</td>\n",
       "      <td>1_hour_break</td>\n",
       "      <td>1.351000e-189</td>\n",
       "      <td>pro</td>\n",
       "      <td>#c67f1f</td>\n",
       "    </tr>\n",
       "    <tr>\n",
       "      <th>2</th>\n",
       "      <td>3</td>\n",
       "      <td>1_hour_break</td>\n",
       "      <td>8.675901e-213</td>\n",
       "      <td>pro</td>\n",
       "      <td>#c67f1f</td>\n",
       "    </tr>\n",
       "    <tr>\n",
       "      <th>3</th>\n",
       "      <td>4</td>\n",
       "      <td>1_hour_break</td>\n",
       "      <td>4.690151e-197</td>\n",
       "      <td>pro</td>\n",
       "      <td>#c67f1f</td>\n",
       "    </tr>\n",
       "    <tr>\n",
       "      <th>4</th>\n",
       "      <td>5</td>\n",
       "      <td>1_hour_break</td>\n",
       "      <td>6.897081e-192</td>\n",
       "      <td>pro</td>\n",
       "      <td>#c67f1f</td>\n",
       "    </tr>\n",
       "  </tbody>\n",
       "</table>\n",
       "</div>"
      ],
      "text/plain": [
       "   topic          term           beta procon    color\n",
       "0      1  1_hour_break  3.672673e-208    pro  #c67f1f\n",
       "1      2  1_hour_break  1.351000e-189    pro  #c67f1f\n",
       "2      3  1_hour_break  8.675901e-213    pro  #c67f1f\n",
       "3      4  1_hour_break  4.690151e-197    pro  #c67f1f\n",
       "4      5  1_hour_break  6.897081e-192    pro  #c67f1f"
      ]
     },
     "metadata": {},
     "output_type": "display_data"
    },
    {
     "data": {
      "text/html": [
       "<div>\n",
       "<style scoped>\n",
       "    .dataframe tbody tr th:only-of-type {\n",
       "        vertical-align: middle;\n",
       "    }\n",
       "\n",
       "    .dataframe tbody tr th {\n",
       "        vertical-align: top;\n",
       "    }\n",
       "\n",
       "    .dataframe thead th {\n",
       "        text-align: right;\n",
       "    }\n",
       "</style>\n",
       "<table border=\"1\" class=\"dataframe\">\n",
       "  <thead>\n",
       "    <tr style=\"text-align: right;\">\n",
       "      <th></th>\n",
       "      <th>topic</th>\n",
       "      <th>term</th>\n",
       "      <th>beta</th>\n",
       "      <th>procon</th>\n",
       "      <th>color</th>\n",
       "    </tr>\n",
       "  </thead>\n",
       "  <tbody>\n",
       "    <tr>\n",
       "      <th>0</th>\n",
       "      <td>1</td>\n",
       "      <td>’_care</td>\n",
       "      <td>8.624717e-100</td>\n",
       "      <td>con</td>\n",
       "      <td>#20e560</td>\n",
       "    </tr>\n",
       "    <tr>\n",
       "      <th>1</th>\n",
       "      <td>2</td>\n",
       "      <td>’_care</td>\n",
       "      <td>2.555270e-93</td>\n",
       "      <td>con</td>\n",
       "      <td>#20e560</td>\n",
       "    </tr>\n",
       "    <tr>\n",
       "      <th>2</th>\n",
       "      <td>3</td>\n",
       "      <td>’_care</td>\n",
       "      <td>1.219269e-114</td>\n",
       "      <td>con</td>\n",
       "      <td>#20e560</td>\n",
       "    </tr>\n",
       "    <tr>\n",
       "      <th>3</th>\n",
       "      <td>4</td>\n",
       "      <td>’_care</td>\n",
       "      <td>3.194975e-91</td>\n",
       "      <td>con</td>\n",
       "      <td>#20e560</td>\n",
       "    </tr>\n",
       "    <tr>\n",
       "      <th>4</th>\n",
       "      <td>5</td>\n",
       "      <td>’_care</td>\n",
       "      <td>7.375773e-119</td>\n",
       "      <td>con</td>\n",
       "      <td>#20e560</td>\n",
       "    </tr>\n",
       "  </tbody>\n",
       "</table>\n",
       "</div>"
      ],
      "text/plain": [
       "   topic    term           beta procon    color\n",
       "0      1  ’_care  8.624717e-100    con  #20e560\n",
       "1      2  ’_care   2.555270e-93    con  #20e560\n",
       "2      3  ’_care  1.219269e-114    con  #20e560\n",
       "3      4  ’_care   3.194975e-91    con  #20e560\n",
       "4      5  ’_care  7.375773e-119    con  #20e560"
      ]
     },
     "metadata": {},
     "output_type": "display_data"
    }
   ],
   "source": [
    "\n",
    "n = len(just_con)\n",
    "for i in range(1, num_topics_pro+1):\n",
    "    topic = np.full(n, i)\n",
    "    beta = np.full(n, 0)\n",
    "    df_temp = pd.DataFrame()\n",
    "    df_temp[\"topic\"] = topic\n",
    "    df_temp[\"term\"] = just_con\n",
    "    df_temp[\"beta\"] = beta\n",
    "    df_pro = pd.concat([df_pro, df_temp], ignore_index=True, sort=False)\n",
    "    \n",
    "n = len(just_pro)\n",
    "for i in range(1, num_topics_con+1):\n",
    "    topic = np.full(n, i)\n",
    "    beta = np.full(n, 0)\n",
    "    df_temp = pd.DataFrame()\n",
    "    df_temp[\"topic\"] = topic\n",
    "    df_temp[\"term\"] = just_pro\n",
    "    df_temp[\"beta\"] = beta\n",
    "    df_con = pd.concat([df_con, df_temp], ignore_index=True, sort=False)\n",
    "    \n",
    "    \n",
    "df_pro[\"procon\"] = \"pro\"\n",
    "df_pro[\"color\"] = \"#c67f1f\"\n",
    "df_con[\"procon\"] = \"con\"\n",
    "df_con[\"color\"] = \"#20e560\"\n",
    "\n",
    "display(df_pro.head())\n",
    "display(df_con.head())"
   ]
  },
  {
   "cell_type": "code",
   "execution_count": 7,
   "metadata": {},
   "outputs": [],
   "source": [
    "df = pd.concat([df_pro, df_con], ignore_index=True, sort=False)\n"
   ]
  },
  {
   "cell_type": "code",
   "execution_count": 8,
   "metadata": {},
   "outputs": [
    {
     "name": "stdout",
     "output_type": "stream",
     "text": [
      "10965\n",
      "10965\n",
      "10965\n"
     ]
    }
   ],
   "source": [
    "print(df_pro.term.nunique())\n",
    "print(df_con.term.nunique())\n",
    "\n",
    "t26 = df[(df.topic==26) & (df.procon==\"pro\")].term.nunique()\n",
    "print(t26)"
   ]
  },
  {
   "cell_type": "markdown",
   "metadata": {},
   "source": [
    "## Computing topic word distribution"
   ]
  },
  {
   "cell_type": "code",
   "execution_count": 9,
   "metadata": {
    "scrolled": true
   },
   "outputs": [
    {
     "name": "stdout",
     "output_type": "stream",
     "text": [
      "50\n",
      "50\n"
     ]
    }
   ],
   "source": [
    "topic_word_distr = []\n",
    "imp_words = []\n",
    "pro_con = []\n",
    "color = []\n",
    "terms = df[(df.topic == 1) & (df.procon == \"pro\")].term.values.tolist()\n",
    "\n",
    "\n",
    "for i in range(1, num_topics_pro+1):\n",
    "    topic = df[(df.topic == i) & (df.procon == \"pro\")] \n",
    "    vals = topic.beta.values.tolist()\n",
    "    topic_word_distr += [np.asarray(vals)]\n",
    "    words = [terms[i] for i in np.asarray(vals).argsort()[-10:][::-1].tolist()]\n",
    "    imp_words.append(words)\n",
    "    pro_con.append(\"pro\")\n",
    "    color.append(\"#05890D\")\n",
    "\n",
    "for i in range(1, num_topics_con+1):\n",
    "    topic = df[(df.topic == i) & (df.procon == \"con\")] \n",
    "    vals = topic.beta.values.tolist()\n",
    "    topic_word_distr += [np.asarray(vals)]\n",
    "    words = [terms[i] for i in np.asarray(vals).argsort()[-10:][::-1].tolist()]\n",
    "    imp_words.append(words)\n",
    "    pro_con.append(\"con\")\n",
    "    color.append(\"#F42F04\")\n",
    "\n",
    "    \n",
    "print(len(topic_word_distr))\n",
    "print(len(imp_words))"
   ]
  },
  {
   "cell_type": "markdown",
   "metadata": {},
   "source": [
    "# Dissimilarity Measure\n"
   ]
  },
  {
   "cell_type": "code",
   "execution_count": 14,
   "metadata": {},
   "outputs": [
    {
     "ename": "AttributeError",
     "evalue": "module 'scipy.spatial.distance' has no attribute 'jensenshannon'",
     "output_type": "error",
     "traceback": [
      "\u001b[0;31m---------------------------------------------------------------------------\u001b[0m",
      "\u001b[0;31mAttributeError\u001b[0m                            Traceback (most recent call last)",
      "\u001b[0;32m<ipython-input-14-13c3f65ce9e5>\u001b[0m in \u001b[0;36m<module>\u001b[0;34m\u001b[0m\n\u001b[1;32m      8\u001b[0m     \u001b[0;32mfor\u001b[0m \u001b[0mj\u001b[0m \u001b[0;32min\u001b[0m \u001b[0mrange\u001b[0m\u001b[0;34m(\u001b[0m\u001b[0mtot_topics\u001b[0m\u001b[0;34m)\u001b[0m\u001b[0;34m:\u001b[0m\u001b[0;34m\u001b[0m\u001b[0;34m\u001b[0m\u001b[0m\n\u001b[1;32m      9\u001b[0m         \u001b[0mt2\u001b[0m \u001b[0;34m=\u001b[0m \u001b[0mtopic_word_distr\u001b[0m\u001b[0;34m[\u001b[0m\u001b[0mj\u001b[0m\u001b[0;34m]\u001b[0m\u001b[0;34m\u001b[0m\u001b[0;34m\u001b[0m\u001b[0m\n\u001b[0;32m---> 10\u001b[0;31m         \u001b[0md\u001b[0m \u001b[0;34m=\u001b[0m \u001b[0mdistance\u001b[0m\u001b[0;34m.\u001b[0m\u001b[0mjensenshannon\u001b[0m\u001b[0;34m(\u001b[0m\u001b[0mt1\u001b[0m\u001b[0;34m,\u001b[0m \u001b[0mt2\u001b[0m\u001b[0;34m)\u001b[0m\u001b[0;34m\u001b[0m\u001b[0;34m\u001b[0m\u001b[0m\n\u001b[0m\u001b[1;32m     11\u001b[0m         \u001b[0md1\u001b[0m\u001b[0;34m.\u001b[0m\u001b[0mappend\u001b[0m\u001b[0;34m(\u001b[0m\u001b[0md\u001b[0m\u001b[0;34m)\u001b[0m\u001b[0;34m\u001b[0m\u001b[0;34m\u001b[0m\u001b[0m\n\u001b[1;32m     12\u001b[0m     \u001b[0mdist\u001b[0m\u001b[0;34m.\u001b[0m\u001b[0mappend\u001b[0m\u001b[0;34m(\u001b[0m\u001b[0md1\u001b[0m\u001b[0;34m)\u001b[0m\u001b[0;34m\u001b[0m\u001b[0;34m\u001b[0m\u001b[0m\n",
      "\u001b[0;31mAttributeError\u001b[0m: module 'scipy.spatial.distance' has no attribute 'jensenshannon'"
     ]
    }
   ],
   "source": [
    "from scipy.spatial import distance\n",
    "\n",
    "dist = []\n",
    "tot_topics = num_topics_pro + num_topics_con\n",
    "for i in range(tot_topics): \n",
    "    t1 = topic_word_distr[i]\n",
    "    d1 = []\n",
    "    for j in range(tot_topics):\n",
    "        t2 = topic_word_distr[j]\n",
    "        d = distance.jensenshannon(t1, t2)\n",
    "        d1.append(d)\n",
    "    dist.append(d1)\n",
    "\n",
    "print(dist)"
   ]
  },
  {
   "cell_type": "markdown",
   "metadata": {},
   "source": [
    "# Dimensionality Reduction"
   ]
  },
  {
   "cell_type": "markdown",
   "metadata": {},
   "source": [
    "## TSNE\n"
   ]
  },
  {
   "cell_type": "code",
   "execution_count": 42,
   "metadata": {},
   "outputs": [
    {
     "name": "stdout",
     "output_type": "stream",
     "text": [
      "[t-SNE] Computing 49 nearest neighbors...\n",
      "[t-SNE] Indexed 50 samples in 0.001s...\n",
      "[t-SNE] Computed neighbors for 50 samples in 0.008s...\n",
      "[t-SNE] Computed conditional probabilities for sample 50 / 50\n",
      "[t-SNE] Mean sigma: 0.161373\n",
      "[t-SNE] KL divergence after 250 iterations with early exaggeration: 81.419525\n",
      "[t-SNE] KL divergence after 1000 iterations: 0.509217\n"
     ]
    }
   ],
   "source": [
    "# Clustering\n",
    "from sklearn.manifold import TSNE\n",
    "# tsne = TSNE(n_components=2)\n",
    "tsne = TSNE(n_components=2, verbose=1, random_state=0, angle=.99, init='pca')\n",
    "X_tsne = tsne.fit_transform(topic_word_distr)"
   ]
  },
  {
   "cell_type": "markdown",
   "metadata": {},
   "source": [
    "## PCA"
   ]
  },
  {
   "cell_type": "code",
   "execution_count": 15,
   "metadata": {},
   "outputs": [],
   "source": [
    "from sklearn.decomposition import PCA\n",
    "\n",
    "pca = PCA(n_components=2)\n",
    "X_tsne = pca.fit_transform(topic_word_distr)\n",
    "# X_tsne = pca.fit_transform(dist)"
   ]
  },
  {
   "cell_type": "markdown",
   "metadata": {},
   "source": [
    "# Visualization"
   ]
  },
  {
   "cell_type": "code",
   "execution_count": 16,
   "metadata": {},
   "outputs": [],
   "source": [
    "df_cluster = pd.DataFrame()\n",
    "df_cluster['X_tsne'] = X_tsne[:, 0]\n",
    "df_cluster['Y_tsne'] = X_tsne[:, 1]\n",
    "df_cluster['Topic'] = range(1, tot_topics+1)\n",
    "df_cluster['Topic_words'] = imp_words\n",
    "df_cluster['pro_con'] = pro_con\n",
    "df_cluster['color'] = color\n"
   ]
  },
  {
   "cell_type": "code",
   "execution_count": 17,
   "metadata": {},
   "outputs": [
    {
     "data": {
      "text/html": [
       "\n",
       "    <div class=\"bk-root\">\n",
       "        <a href=\"https://bokeh.pydata.org\" target=\"_blank\" class=\"bk-logo bk-logo-small bk-logo-notebook\"></a>\n",
       "        <span id=\"1002\">Loading BokehJS ...</span>\n",
       "    </div>"
      ]
     },
     "metadata": {},
     "output_type": "display_data"
    },
    {
     "data": {
      "application/javascript": [
       "\n",
       "(function(root) {\n",
       "  function now() {\n",
       "    return new Date();\n",
       "  }\n",
       "\n",
       "  var force = true;\n",
       "\n",
       "  if (typeof (root._bokeh_onload_callbacks) === \"undefined\" || force === true) {\n",
       "    root._bokeh_onload_callbacks = [];\n",
       "    root._bokeh_is_loading = undefined;\n",
       "  }\n",
       "\n",
       "  var JS_MIME_TYPE = 'application/javascript';\n",
       "  var HTML_MIME_TYPE = 'text/html';\n",
       "  var EXEC_MIME_TYPE = 'application/vnd.bokehjs_exec.v0+json';\n",
       "  var CLASS_NAME = 'output_bokeh rendered_html';\n",
       "\n",
       "  /**\n",
       "   * Render data to the DOM node\n",
       "   */\n",
       "  function render(props, node) {\n",
       "    var script = document.createElement(\"script\");\n",
       "    node.appendChild(script);\n",
       "  }\n",
       "\n",
       "  /**\n",
       "   * Handle when an output is cleared or removed\n",
       "   */\n",
       "  function handleClearOutput(event, handle) {\n",
       "    var cell = handle.cell;\n",
       "\n",
       "    var id = cell.output_area._bokeh_element_id;\n",
       "    var server_id = cell.output_area._bokeh_server_id;\n",
       "    // Clean up Bokeh references\n",
       "    if (id != null && id in Bokeh.index) {\n",
       "      Bokeh.index[id].model.document.clear();\n",
       "      delete Bokeh.index[id];\n",
       "    }\n",
       "\n",
       "    if (server_id !== undefined) {\n",
       "      // Clean up Bokeh references\n",
       "      var cmd = \"from bokeh.io.state import curstate; print(curstate().uuid_to_server['\" + server_id + \"'].get_sessions()[0].document.roots[0]._id)\";\n",
       "      cell.notebook.kernel.execute(cmd, {\n",
       "        iopub: {\n",
       "          output: function(msg) {\n",
       "            var id = msg.content.text.trim();\n",
       "            if (id in Bokeh.index) {\n",
       "              Bokeh.index[id].model.document.clear();\n",
       "              delete Bokeh.index[id];\n",
       "            }\n",
       "          }\n",
       "        }\n",
       "      });\n",
       "      // Destroy server and session\n",
       "      var cmd = \"import bokeh.io.notebook as ion; ion.destroy_server('\" + server_id + \"')\";\n",
       "      cell.notebook.kernel.execute(cmd);\n",
       "    }\n",
       "  }\n",
       "\n",
       "  /**\n",
       "   * Handle when a new output is added\n",
       "   */\n",
       "  function handleAddOutput(event, handle) {\n",
       "    var output_area = handle.output_area;\n",
       "    var output = handle.output;\n",
       "\n",
       "    // limit handleAddOutput to display_data with EXEC_MIME_TYPE content only\n",
       "    if ((output.output_type != \"display_data\") || (!output.data.hasOwnProperty(EXEC_MIME_TYPE))) {\n",
       "      return\n",
       "    }\n",
       "\n",
       "    var toinsert = output_area.element.find(\".\" + CLASS_NAME.split(' ')[0]);\n",
       "\n",
       "    if (output.metadata[EXEC_MIME_TYPE][\"id\"] !== undefined) {\n",
       "      toinsert[toinsert.length - 1].firstChild.textContent = output.data[JS_MIME_TYPE];\n",
       "      // store reference to embed id on output_area\n",
       "      output_area._bokeh_element_id = output.metadata[EXEC_MIME_TYPE][\"id\"];\n",
       "    }\n",
       "    if (output.metadata[EXEC_MIME_TYPE][\"server_id\"] !== undefined) {\n",
       "      var bk_div = document.createElement(\"div\");\n",
       "      bk_div.innerHTML = output.data[HTML_MIME_TYPE];\n",
       "      var script_attrs = bk_div.children[0].attributes;\n",
       "      for (var i = 0; i < script_attrs.length; i++) {\n",
       "        toinsert[toinsert.length - 1].firstChild.setAttribute(script_attrs[i].name, script_attrs[i].value);\n",
       "      }\n",
       "      // store reference to server id on output_area\n",
       "      output_area._bokeh_server_id = output.metadata[EXEC_MIME_TYPE][\"server_id\"];\n",
       "    }\n",
       "  }\n",
       "\n",
       "  function register_renderer(events, OutputArea) {\n",
       "\n",
       "    function append_mime(data, metadata, element) {\n",
       "      // create a DOM node to render to\n",
       "      var toinsert = this.create_output_subarea(\n",
       "        metadata,\n",
       "        CLASS_NAME,\n",
       "        EXEC_MIME_TYPE\n",
       "      );\n",
       "      this.keyboard_manager.register_events(toinsert);\n",
       "      // Render to node\n",
       "      var props = {data: data, metadata: metadata[EXEC_MIME_TYPE]};\n",
       "      render(props, toinsert[toinsert.length - 1]);\n",
       "      element.append(toinsert);\n",
       "      return toinsert\n",
       "    }\n",
       "\n",
       "    /* Handle when an output is cleared or removed */\n",
       "    events.on('clear_output.CodeCell', handleClearOutput);\n",
       "    events.on('delete.Cell', handleClearOutput);\n",
       "\n",
       "    /* Handle when a new output is added */\n",
       "    events.on('output_added.OutputArea', handleAddOutput);\n",
       "\n",
       "    /**\n",
       "     * Register the mime type and append_mime function with output_area\n",
       "     */\n",
       "    OutputArea.prototype.register_mime_type(EXEC_MIME_TYPE, append_mime, {\n",
       "      /* Is output safe? */\n",
       "      safe: true,\n",
       "      /* Index of renderer in `output_area.display_order` */\n",
       "      index: 0\n",
       "    });\n",
       "  }\n",
       "\n",
       "  // register the mime type if in Jupyter Notebook environment and previously unregistered\n",
       "  if (root.Jupyter !== undefined) {\n",
       "    var events = require('base/js/events');\n",
       "    var OutputArea = require('notebook/js/outputarea').OutputArea;\n",
       "\n",
       "    if (OutputArea.prototype.mime_types().indexOf(EXEC_MIME_TYPE) == -1) {\n",
       "      register_renderer(events, OutputArea);\n",
       "    }\n",
       "  }\n",
       "\n",
       "  \n",
       "  if (typeof (root._bokeh_timeout) === \"undefined\" || force === true) {\n",
       "    root._bokeh_timeout = Date.now() + 5000;\n",
       "    root._bokeh_failed_load = false;\n",
       "  }\n",
       "\n",
       "  var NB_LOAD_WARNING = {'data': {'text/html':\n",
       "     \"<div style='background-color: #fdd'>\\n\"+\n",
       "     \"<p>\\n\"+\n",
       "     \"BokehJS does not appear to have successfully loaded. If loading BokehJS from CDN, this \\n\"+\n",
       "     \"may be due to a slow or bad network connection. Possible fixes:\\n\"+\n",
       "     \"</p>\\n\"+\n",
       "     \"<ul>\\n\"+\n",
       "     \"<li>re-rerun `output_notebook()` to attempt to load from CDN again, or</li>\\n\"+\n",
       "     \"<li>use INLINE resources instead, as so:</li>\\n\"+\n",
       "     \"</ul>\\n\"+\n",
       "     \"<code>\\n\"+\n",
       "     \"from bokeh.resources import INLINE\\n\"+\n",
       "     \"output_notebook(resources=INLINE)\\n\"+\n",
       "     \"</code>\\n\"+\n",
       "     \"</div>\"}};\n",
       "\n",
       "  function display_loaded() {\n",
       "    var el = document.getElementById(\"1002\");\n",
       "    if (el != null) {\n",
       "      el.textContent = \"BokehJS is loading...\";\n",
       "    }\n",
       "    if (root.Bokeh !== undefined) {\n",
       "      if (el != null) {\n",
       "        el.textContent = \"BokehJS \" + root.Bokeh.version + \" successfully loaded.\";\n",
       "      }\n",
       "    } else if (Date.now() < root._bokeh_timeout) {\n",
       "      setTimeout(display_loaded, 100)\n",
       "    }\n",
       "  }\n",
       "\n",
       "\n",
       "  function run_callbacks() {\n",
       "    try {\n",
       "      root._bokeh_onload_callbacks.forEach(function(callback) { callback() });\n",
       "    }\n",
       "    finally {\n",
       "      delete root._bokeh_onload_callbacks\n",
       "    }\n",
       "    console.info(\"Bokeh: all callbacks have finished\");\n",
       "  }\n",
       "\n",
       "  function load_libs(js_urls, callback) {\n",
       "    root._bokeh_onload_callbacks.push(callback);\n",
       "    if (root._bokeh_is_loading > 0) {\n",
       "      console.log(\"Bokeh: BokehJS is being loaded, scheduling callback at\", now());\n",
       "      return null;\n",
       "    }\n",
       "    if (js_urls == null || js_urls.length === 0) {\n",
       "      run_callbacks();\n",
       "      return null;\n",
       "    }\n",
       "    console.log(\"Bokeh: BokehJS not loaded, scheduling load and callback at\", now());\n",
       "    root._bokeh_is_loading = js_urls.length;\n",
       "    for (var i = 0; i < js_urls.length; i++) {\n",
       "      var url = js_urls[i];\n",
       "      var s = document.createElement('script');\n",
       "      s.src = url;\n",
       "      s.async = false;\n",
       "      s.onreadystatechange = s.onload = function() {\n",
       "        root._bokeh_is_loading--;\n",
       "        if (root._bokeh_is_loading === 0) {\n",
       "          console.log(\"Bokeh: all BokehJS libraries loaded\");\n",
       "          run_callbacks()\n",
       "        }\n",
       "      };\n",
       "      s.onerror = function() {\n",
       "        console.warn(\"failed to load library \" + url);\n",
       "      };\n",
       "      console.log(\"Bokeh: injecting script tag for BokehJS library: \", url);\n",
       "      document.getElementsByTagName(\"head\")[0].appendChild(s);\n",
       "    }\n",
       "  };var element = document.getElementById(\"1002\");\n",
       "  if (element == null) {\n",
       "    console.log(\"Bokeh: ERROR: autoload.js configured with elementid '1002' but no matching script tag was found. \")\n",
       "    return false;\n",
       "  }\n",
       "\n",
       "  var js_urls = [\"https://cdn.pydata.org/bokeh/release/bokeh-1.0.2.min.js\", \"https://cdn.pydata.org/bokeh/release/bokeh-widgets-1.0.2.min.js\", \"https://cdn.pydata.org/bokeh/release/bokeh-tables-1.0.2.min.js\", \"https://cdn.pydata.org/bokeh/release/bokeh-gl-1.0.2.min.js\"];\n",
       "\n",
       "  var inline_js = [\n",
       "    function(Bokeh) {\n",
       "      Bokeh.set_log_level(\"info\");\n",
       "    },\n",
       "    \n",
       "    function(Bokeh) {\n",
       "      \n",
       "    },\n",
       "    function(Bokeh) {\n",
       "      console.log(\"Bokeh: injecting CSS: https://cdn.pydata.org/bokeh/release/bokeh-1.0.2.min.css\");\n",
       "      Bokeh.embed.inject_css(\"https://cdn.pydata.org/bokeh/release/bokeh-1.0.2.min.css\");\n",
       "      console.log(\"Bokeh: injecting CSS: https://cdn.pydata.org/bokeh/release/bokeh-widgets-1.0.2.min.css\");\n",
       "      Bokeh.embed.inject_css(\"https://cdn.pydata.org/bokeh/release/bokeh-widgets-1.0.2.min.css\");\n",
       "      console.log(\"Bokeh: injecting CSS: https://cdn.pydata.org/bokeh/release/bokeh-tables-1.0.2.min.css\");\n",
       "      Bokeh.embed.inject_css(\"https://cdn.pydata.org/bokeh/release/bokeh-tables-1.0.2.min.css\");\n",
       "    }\n",
       "  ];\n",
       "\n",
       "  function run_inline_js() {\n",
       "    \n",
       "    if ((root.Bokeh !== undefined) || (force === true)) {\n",
       "      for (var i = 0; i < inline_js.length; i++) {\n",
       "        inline_js[i].call(root, root.Bokeh);\n",
       "      }if (force === true) {\n",
       "        display_loaded();\n",
       "      }} else if (Date.now() < root._bokeh_timeout) {\n",
       "      setTimeout(run_inline_js, 100);\n",
       "    } else if (!root._bokeh_failed_load) {\n",
       "      console.log(\"Bokeh: BokehJS failed to load within specified timeout.\");\n",
       "      root._bokeh_failed_load = true;\n",
       "    } else if (force !== true) {\n",
       "      var cell = $(document.getElementById(\"1002\")).parents('.cell').data().cell;\n",
       "      cell.output_area.append_execute_result(NB_LOAD_WARNING)\n",
       "    }\n",
       "\n",
       "  }\n",
       "\n",
       "  if (root._bokeh_is_loading === 0) {\n",
       "    console.log(\"Bokeh: BokehJS loaded, going straight to plotting\");\n",
       "    run_inline_js();\n",
       "  } else {\n",
       "    load_libs(js_urls, function() {\n",
       "      console.log(\"Bokeh: BokehJS plotting callback run at\", now());\n",
       "      run_inline_js();\n",
       "    });\n",
       "  }\n",
       "}(window));"
      ],
      "application/vnd.bokehjs_load.v0+json": "\n(function(root) {\n  function now() {\n    return new Date();\n  }\n\n  var force = true;\n\n  if (typeof (root._bokeh_onload_callbacks) === \"undefined\" || force === true) {\n    root._bokeh_onload_callbacks = [];\n    root._bokeh_is_loading = undefined;\n  }\n\n  \n\n  \n  if (typeof (root._bokeh_timeout) === \"undefined\" || force === true) {\n    root._bokeh_timeout = Date.now() + 5000;\n    root._bokeh_failed_load = false;\n  }\n\n  var NB_LOAD_WARNING = {'data': {'text/html':\n     \"<div style='background-color: #fdd'>\\n\"+\n     \"<p>\\n\"+\n     \"BokehJS does not appear to have successfully loaded. If loading BokehJS from CDN, this \\n\"+\n     \"may be due to a slow or bad network connection. Possible fixes:\\n\"+\n     \"</p>\\n\"+\n     \"<ul>\\n\"+\n     \"<li>re-rerun `output_notebook()` to attempt to load from CDN again, or</li>\\n\"+\n     \"<li>use INLINE resources instead, as so:</li>\\n\"+\n     \"</ul>\\n\"+\n     \"<code>\\n\"+\n     \"from bokeh.resources import INLINE\\n\"+\n     \"output_notebook(resources=INLINE)\\n\"+\n     \"</code>\\n\"+\n     \"</div>\"}};\n\n  function display_loaded() {\n    var el = document.getElementById(\"1002\");\n    if (el != null) {\n      el.textContent = \"BokehJS is loading...\";\n    }\n    if (root.Bokeh !== undefined) {\n      if (el != null) {\n        el.textContent = \"BokehJS \" + root.Bokeh.version + \" successfully loaded.\";\n      }\n    } else if (Date.now() < root._bokeh_timeout) {\n      setTimeout(display_loaded, 100)\n    }\n  }\n\n\n  function run_callbacks() {\n    try {\n      root._bokeh_onload_callbacks.forEach(function(callback) { callback() });\n    }\n    finally {\n      delete root._bokeh_onload_callbacks\n    }\n    console.info(\"Bokeh: all callbacks have finished\");\n  }\n\n  function load_libs(js_urls, callback) {\n    root._bokeh_onload_callbacks.push(callback);\n    if (root._bokeh_is_loading > 0) {\n      console.log(\"Bokeh: BokehJS is being loaded, scheduling callback at\", now());\n      return null;\n    }\n    if (js_urls == null || js_urls.length === 0) {\n      run_callbacks();\n      return null;\n    }\n    console.log(\"Bokeh: BokehJS not loaded, scheduling load and callback at\", now());\n    root._bokeh_is_loading = js_urls.length;\n    for (var i = 0; i < js_urls.length; i++) {\n      var url = js_urls[i];\n      var s = document.createElement('script');\n      s.src = url;\n      s.async = false;\n      s.onreadystatechange = s.onload = function() {\n        root._bokeh_is_loading--;\n        if (root._bokeh_is_loading === 0) {\n          console.log(\"Bokeh: all BokehJS libraries loaded\");\n          run_callbacks()\n        }\n      };\n      s.onerror = function() {\n        console.warn(\"failed to load library \" + url);\n      };\n      console.log(\"Bokeh: injecting script tag for BokehJS library: \", url);\n      document.getElementsByTagName(\"head\")[0].appendChild(s);\n    }\n  };var element = document.getElementById(\"1002\");\n  if (element == null) {\n    console.log(\"Bokeh: ERROR: autoload.js configured with elementid '1002' but no matching script tag was found. \")\n    return false;\n  }\n\n  var js_urls = [\"https://cdn.pydata.org/bokeh/release/bokeh-1.0.2.min.js\", \"https://cdn.pydata.org/bokeh/release/bokeh-widgets-1.0.2.min.js\", \"https://cdn.pydata.org/bokeh/release/bokeh-tables-1.0.2.min.js\", \"https://cdn.pydata.org/bokeh/release/bokeh-gl-1.0.2.min.js\"];\n\n  var inline_js = [\n    function(Bokeh) {\n      Bokeh.set_log_level(\"info\");\n    },\n    \n    function(Bokeh) {\n      \n    },\n    function(Bokeh) {\n      console.log(\"Bokeh: injecting CSS: https://cdn.pydata.org/bokeh/release/bokeh-1.0.2.min.css\");\n      Bokeh.embed.inject_css(\"https://cdn.pydata.org/bokeh/release/bokeh-1.0.2.min.css\");\n      console.log(\"Bokeh: injecting CSS: https://cdn.pydata.org/bokeh/release/bokeh-widgets-1.0.2.min.css\");\n      Bokeh.embed.inject_css(\"https://cdn.pydata.org/bokeh/release/bokeh-widgets-1.0.2.min.css\");\n      console.log(\"Bokeh: injecting CSS: https://cdn.pydata.org/bokeh/release/bokeh-tables-1.0.2.min.css\");\n      Bokeh.embed.inject_css(\"https://cdn.pydata.org/bokeh/release/bokeh-tables-1.0.2.min.css\");\n    }\n  ];\n\n  function run_inline_js() {\n    \n    if ((root.Bokeh !== undefined) || (force === true)) {\n      for (var i = 0; i < inline_js.length; i++) {\n        inline_js[i].call(root, root.Bokeh);\n      }if (force === true) {\n        display_loaded();\n      }} else if (Date.now() < root._bokeh_timeout) {\n      setTimeout(run_inline_js, 100);\n    } else if (!root._bokeh_failed_load) {\n      console.log(\"Bokeh: BokehJS failed to load within specified timeout.\");\n      root._bokeh_failed_load = true;\n    } else if (force !== true) {\n      var cell = $(document.getElementById(\"1002\")).parents('.cell').data().cell;\n      cell.output_area.append_execute_result(NB_LOAD_WARNING)\n    }\n\n  }\n\n  if (root._bokeh_is_loading === 0) {\n    console.log(\"Bokeh: BokehJS loaded, going straight to plotting\");\n    run_inline_js();\n  } else {\n    load_libs(js_urls, function() {\n      console.log(\"Bokeh: BokehJS plotting callback run at\", now());\n      run_inline_js();\n    });\n  }\n}(window));"
     },
     "metadata": {},
     "output_type": "display_data"
    }
   ],
   "source": [
    "from bokeh.plotting import figure, show, output_notebook, save#, output_file\n",
    "from bokeh.models import HoverTool, value, LabelSet, Legend, ColumnDataSource\n",
    "output_notebook()"
   ]
  },
  {
   "cell_type": "code",
   "execution_count": 18,
   "metadata": {},
   "outputs": [],
   "source": [
    "source = ColumnDataSource(dict(\n",
    "    x=df_cluster['X_tsne'],\n",
    "    y=df_cluster['Y_tsne'],\n",
    "    color=df_cluster['color'],\n",
    "    label=df_cluster['Topic'],\n",
    "    topic_words = df_cluster[\"Topic_words\"],\n",
    "    pro_con = df_cluster[\"pro_con\"]\n",
    "))"
   ]
  },
  {
   "cell_type": "code",
   "execution_count": 20,
   "metadata": {},
   "outputs": [
    {
     "data": {
      "text/html": [
       "\n",
       "\n",
       "\n",
       "\n",
       "\n",
       "\n",
       "  <div class=\"bk-root\" id=\"7949ab67-7905-45a9-acf7-deae3e638f01\"></div>\n"
      ]
     },
     "metadata": {},
     "output_type": "display_data"
    },
    {
     "data": {
      "application/javascript": [
       "(function(root) {\n",
       "  function embed_document(root) {\n",
       "    \n",
       "  var docs_json = {\"3c78811c-dc30-4f3a-b53e-5a7bff68a7d0\":{\"roots\":{\"references\":[{\"attributes\":{\"min_border\":1,\"plot_height\":700,\"plot_width\":1000,\"renderers\":[{\"id\":\"1090\",\"type\":\"BoxAnnotation\"},{\"id\":\"1104\",\"type\":\"Legend\"},{\"id\":\"1100\",\"type\":\"GlyphRenderer\"}],\"title\":{\"id\":\"1071\",\"type\":\"Title\"},\"toolbar\":{\"id\":\"1088\",\"type\":\"Toolbar\"},\"x_range\":{\"id\":\"1074\",\"type\":\"DataRange1d\"},\"x_scale\":{\"id\":\"1078\",\"type\":\"LinearScale\"},\"y_range\":{\"id\":\"1076\",\"type\":\"DataRange1d\"},\"y_scale\":{\"id\":\"1080\",\"type\":\"LinearScale\"}},\"id\":\"1072\",\"subtype\":\"Figure\",\"type\":\"Plot\"},{\"attributes\":{\"plot\":null,\"text\":\"PCA visualization of topics\"},\"id\":\"1071\",\"type\":\"Title\"},{\"attributes\":{},\"id\":\"1041\",\"type\":\"UnionRenderers\"},{\"attributes\":{\"callback\":null},\"id\":\"1074\",\"type\":\"DataRange1d\"},{\"attributes\":{\"callback\":null},\"id\":\"1076\",\"type\":\"DataRange1d\"},{\"attributes\":{},\"id\":\"1078\",\"type\":\"LinearScale\"},{\"attributes\":{},\"id\":\"1040\",\"type\":\"Selection\"},{\"attributes\":{\"fill_alpha\":{\"value\":0.3},\"fill_color\":{\"field\":\"color\"},\"line_alpha\":{\"value\":0.8},\"line_color\":{\"field\":\"color\"},\"radius\":{\"units\":\"data\",\"value\":0.02},\"x\":{\"field\":\"x\"},\"y\":{\"field\":\"y\"}},\"id\":\"1098\",\"type\":\"Circle\"},{\"attributes\":{\"items\":[{\"id\":\"1105\",\"type\":\"LegendItem\"}],\"location\":\"top_left\",\"plot\":{\"id\":\"1072\",\"subtype\":\"Figure\",\"type\":\"Plot\"}},\"id\":\"1104\",\"type\":\"Legend\"},{\"attributes\":{},\"id\":\"1080\",\"type\":\"LinearScale\"},{\"attributes\":{},\"id\":\"1083\",\"type\":\"WheelZoomTool\"},{\"attributes\":{\"overlay\":{\"id\":\"1090\",\"type\":\"BoxAnnotation\"}},\"id\":\"1084\",\"type\":\"BoxZoomTool\"},{\"attributes\":{},\"id\":\"1082\",\"type\":\"PanTool\"},{\"attributes\":{},\"id\":\"1085\",\"type\":\"ResetTool\"},{\"attributes\":{\"source\":{\"id\":\"1003\",\"type\":\"ColumnDataSource\"}},\"id\":\"1101\",\"type\":\"CDSView\"},{\"attributes\":{\"data_source\":{\"id\":\"1003\",\"type\":\"ColumnDataSource\"},\"glyph\":{\"id\":\"1098\",\"type\":\"Circle\"},\"hover_glyph\":null,\"muted_glyph\":null,\"nonselection_glyph\":{\"id\":\"1099\",\"type\":\"Circle\"},\"selection_glyph\":null,\"view\":{\"id\":\"1101\",\"type\":\"CDSView\"}},\"id\":\"1100\",\"type\":\"GlyphRenderer\"},{\"attributes\":{},\"id\":\"1087\",\"type\":\"SaveTool\"},{\"attributes\":{\"callback\":null,\"data\":{\"color\":[\"#05890D\",\"#05890D\",\"#05890D\",\"#05890D\",\"#05890D\",\"#05890D\",\"#05890D\",\"#05890D\",\"#05890D\",\"#05890D\",\"#05890D\",\"#05890D\",\"#05890D\",\"#05890D\",\"#05890D\",\"#05890D\",\"#05890D\",\"#05890D\",\"#05890D\",\"#05890D\",\"#05890D\",\"#05890D\",\"#05890D\",\"#05890D\",\"#05890D\",\"#05890D\",\"#F42F04\",\"#F42F04\",\"#F42F04\",\"#F42F04\",\"#F42F04\",\"#F42F04\",\"#F42F04\",\"#F42F04\",\"#F42F04\",\"#F42F04\",\"#F42F04\",\"#F42F04\",\"#F42F04\",\"#F42F04\",\"#F42F04\",\"#F42F04\",\"#F42F04\",\"#F42F04\",\"#F42F04\",\"#F42F04\",\"#F42F04\",\"#F42F04\",\"#F42F04\",\"#F42F04\"],\"label\":[1,2,3,4,5,6,7,8,9,10,11,12,13,14,15,16,17,18,19,20,21,22,23,24,25,26,27,28,29,30,31,32,33,34,35,36,37,38,39,40,41,42,43,44,45,46,47,48,49,50],\"pro_con\":[\"pro\",\"pro\",\"pro\",\"pro\",\"pro\",\"pro\",\"pro\",\"pro\",\"pro\",\"pro\",\"pro\",\"pro\",\"pro\",\"pro\",\"pro\",\"pro\",\"pro\",\"pro\",\"pro\",\"pro\",\"pro\",\"pro\",\"pro\",\"pro\",\"pro\",\"pro\",\"con\",\"con\",\"con\",\"con\",\"con\",\"con\",\"con\",\"con\",\"con\",\"con\",\"con\",\"con\",\"con\",\"con\",\"con\",\"con\",\"con\",\"con\",\"con\",\"con\",\"con\",\"con\",\"con\",\"con\"],\"topic_words\":[[\"salari\",\"benefit\",\"competit\",\"salari_benefit\",\"competit_pay\",\"independ\",\"pretti\",\"peopl_benefit\",\"benefit_salari\",\"respons\"],[\"pay\",\"benefit\",\"benefit_pay\",\"weekli\",\"hard\",\"commiss\",\"structur\",\"pay_hour\",\"weekli_pay\",\"lunch_pay\"],[\"opportun\",\"advanc\",\"fast\",\"pace\",\"fast_pace\",\"growth\",\"career\",\"busi\",\"differ\",\"challeng\"],[\"lot\",\"event\",\"perk\",\"avail\",\"activ\",\"interact\",\"resourc\",\"intern\",\"learn_opportun\",\"network\"],[\"life\",\"balanc\",\"life_balanc\",\"abl\",\"develop\",\"profession\",\"person\",\"leadership\",\"relationship\",\"done\"],[\"cowork\",\"cultur\",\"reward\",\"amaz\",\"supervisor\",\"workplac\",\"benefit_cowork\",\"system\",\"cowork_manag\",\"benefit_cultur\"],[\"free\",\"lunch\",\"free_lunch\",\"food\",\"free_food\",\"drink\",\"coffe\",\"sometim\",\"free_coffe\",\"snack\"],[\"day\",\"decent\",\"decent_pay\",\"week\",\"gift\",\"card\",\"day_week\",\"short\",\"benefit_decent\",\"friday\"],[\"peopl\",\"discount\",\"custom\",\"meet\",\"help\",\"servic\",\"meet_peopl\",\"store\",\"enjoy\",\"love\"],[\"time\",\"paid\",\"vacat\",\"paid_time\",\"vacat_time\",\"paid_vacat\",\"sick\",\"flex\",\"benefit_paid\",\"benefit_time\"],[\"gym\",\"cafeteria\",\"locat\",\"offic\",\"site\",\"onsit\",\"parti\",\"nice\",\"facil\",\"build\"],[\"health\",\"care\",\"health_benefit\",\"benefit\",\"health_care\",\"plan\",\"match\",\"phone\",\"share\",\"benefit_401k\"],[\"pay_benefit\",\"option\",\"stock\",\"benifit\",\"wonder\",\"excel_pay\",\"stock_option\",\"benefit_peopl\",\"hourli\",\"better\"],[\"insur\",\"medic\",\"health_insur\",\"etc\",\"dental\",\"vision\",\"low\",\"stress\",\"unlimit\",\"medic_benefit\"],[\"employe\",\"friendli\",\"atmospher\",\"staff\",\"famili\",\"posit\",\"employe_discount\",\"appreci\",\"friendli_environ\",\"friendli_cowork\"],[\"hour\",\"flexibl\",\"hour_lunch\",\"flexibl_hour\",\"lunch\",\"fair\",\"remot\",\"1_hour_lunch\",\"hour_lunch_break\",\"steadi\"],[\"balanc\",\"worklif\",\"worklif_balanc\",\"commun\",\"leav\",\"overal\",\"polici\",\"volunt\",\"continu\",\"mobil\"],[\"break\",\"home\",\"lunch\",\"easi\",\"provid\",\"lunch_break\",\"minut\",\"close\",\"minut_break\",\"allow\"],[\"abil\",\"educ\",\"secur\",\"money\",\"travel\",\"move\",\"potenti\",\"depart\",\"extra\",\"big\"],[\"benefit\",\"compens\",\"holiday\",\"shift\",\"wage\",\"rais\",\"union\",\"weekend\",\"compens_benefit\",\"employ\"],[\"learn\",\"product\",\"experi\",\"skill\",\"technolog\",\"best\",\"recognit\",\"offer\",\"knowledg\",\"strong\"],[\"manag\",\"environ\",\"team\",\"fun\",\"nice\",\"worker\",\"support\",\"co_worker\",\"relax\",\"nice_peopl\"],[\"incent\",\"month\",\"sale\",\"set\",\"base\",\"goal\",\"award\",\"freedom\",\"game\",\"boss\"],[\"bonus\",\"overtim\",\"pto\",\"bonu\",\"reimburs\",\"tuition\",\"start\",\"tuition_reimburs\",\"dress\",\"check\"],[\"schedul\",\"excel\",\"train\",\"flexibl\",\"benefit\",\"flexibl_schedul\",\"healthcar\",\"excel_benefit\",\"packag\",\"awesom\"],[\"benefit\",\"plenti\",\"promot\",\"revenu\",\"benefit_promot\",\"benefit_divers\",\"benefit_plenti\",\"offer\",\"plenti_hour\",\"fantast\"],[\"comcast_servic\",\"peopl_decent_pay\",\"safeti_cultur\",\"sens\",\"cashier\",\"free_fruit\",\"cancer\",\"free_gym\",\"home_pto\",\"largest\"],[\"gather\",\"recogint\",\"target\",\"free_lunch_provid\",\"cowork_hour_lunch\",\"placement\",\"believ\",\"free_gift\",\"offer_home_posit\",\"discount_lunch\"],[\"creativ_environ\",\"sick_leav_paid\",\"employe_involv\",\"flexibl_hour_cowork\",\"cafeteria_food\",\"health_benefit_stock\",\"smart_peopl_learn\",\"share_program\",\"cup\",\"time_paid_holiday\"],[\"unlimit_sick\",\"door\",\"familylik\",\"vacat_benefit\",\"paid_vacat_time\",\"gym\",\"train_environ\",\"food_relax_environ\",\"beverag\",\"fanci\"],[\"flexibl_hour_peopl\",\"comprehens\",\"pool_tabl\",\"relax_manag\",\"boa\",\"fio\",\"compens_perk\",\"break_10\",\"flexibl_schedul_manag\",\"bodi\"],[\"meet\",\"accomplish\",\"holiday\",\"home_base\",\"lunch_team\",\"ham\",\"bonuss\",\"everyday_benefit\",\"admiss\",\"book\"],[\"free_travel\",\"suppli\",\"short\",\"cultur_divers\",\"includ\",\"freedom_manag\",\"pace_pay\",\"discount_healthcar\",\"fruit_drink_free\",\"pace_benefit\"],[\"career_opportun\",\"amount_pto\",\"there\",\"dicount\",\"atmospher_discount\",\"locat_home_offic\",\"learn_curv\",\"free_food_flexibl\",\"benefit_plenti\",\"pay_ok\"],[\"benefit_averag_pay\",\"bonus\",\"experinc\",\"upsid\",\"upt\",\"balanc_teamwork\",\"gym_cafeteria_site\",\"eye\",\"free_lunch_free\",\"explor\"],[\"truck\",\"overtim_employe\",\"costco_membership\",\"nearli\",\"free_surfac\",\"free_cabl_benefit\",\"paybenefit\",\"telecommut_opportun\",\"contest\",\"opportun_move\"],[\"peopl_flexibl_hour\",\"environ_learn\",\"nice_perk\",\"learn_environ\",\"opportuni\",\"seek\",\"moon\",\"length\",\"para\",\"time_benefit\"],[\"save\",\"healthcar_free\",\"mondayfriday\",\"discount_food\",\"day_free_lunch\",\"pago\",\"multicultur\",\"pension\",\"benefit_2\",\"plan_health\"],[\"diem\",\"discount_union\",\"partnership\",\"flexiabl_schedul\",\"pay_benefit_bonus\",\"googl_campu\",\"train_healthcar\",\"lot_overtim_avail\",\"taught\",\"day_3\"],[\"break_decent_pay\",\"grant\",\"balanc_teamwork\",\"grat\",\"child_care\",\"team_leader\",\"break_8\",\"engin_manufactur\",\"half_food\",\"channel\"],[\"stabl\",\"drink_peopl\",\"fast_fun_friendli\",\"matter\",\"time_team\",\"sign\",\"que\",\"401k_close_bond\",\"natur\",\"averag_pay\"],[\"nuclear\",\"offic_locat\",\"care_401k\",\"cloud\",\"manag_team_benefit\",\"benefit_discount_product\",\"knowleg\",\"centric\",\"club\",\"insur_employe_discount\"],[\"peopl_train\",\"pay_pay\",\"lot_learn\",\"free_food_time\",\"employe_base_perk\",\"plenti_hour\",\"give\",\"decent_pay_advanc\",\"lot_employe\",\"pepsi\"],[\"excel_facil\",\"lot_travel\",\"client_base\",\"night_shift\",\"lunch_improv\",\"sale_goal\",\"free_popcorn_coffe\",\"cabl_benefit\",\"overnight\",\"ship_discount\"],[\"deduct\",\"redcard\",\"pay_incent\",\"fun_pay\",\"manag_flexibl_schedul\",\"discount_lot\",\"cell_servic\",\"pay_flexibl_schedul\",\"empleado\",\"chip_manufactur\"],[\"common\",\"phone_servic_benefit\",\"chariti\",\"court\",\"free_park_free\",\"plenti_advanc\",\"coffe_shop\",\"contribut\",\"coverag\",\"ham\"],[\"benefit_hourli_pay\",\"prais\",\"prepar\",\"homeown\",\"hope\",\"pto_avail\",\"fill\",\"longterm\",\"tshirt\",\"lunch_breakfast\"],[\"hour_free\",\"backup\",\"six\",\"time_holiday_vacat\",\"time_manag\",\"balanc_competit_salari\",\"softwar\",\"master\",\"dtv\",\"easi\"],[\"opportun_educ\",\"biannual\",\"fed_ex\",\"role\",\"chocol\",\"cowork_paid\",\"environ_friendli_staff\",\"rotat_schedul\",\"right\",\"chronic\"],[\"life_balanc_manag\",\"cowork_train\",\"break_2_15\",\"salari_benefit\",\"lot_home\",\"site_flexibl\",\"gift_card\",\"seat\",\"free_bottl_water\",\"lead_edg_technolog\"]],\"x\":{\"__ndarray__\":\"dThb6smmwT9yej7Jq5HYPxOqeKFkDaG/FSfksG1Gor9a+RG/1gehv9++EqSJ8KK/7nBCPCLjob/DNnNIesqhvxr2HD3I86G/IXL1+GUvor8+iUH2Z5mgvz6Q4KVSVpU/52W4coLlob82XupvfF2hv0gJbk7ivKG/NQTmtQOZor8hqv1mZ12hv00cnRXYtqG/DkWipM3VoL9PTdqF4wW9P6MvcUsErqC/Zu4Z3UqWob9byySCWGqgv5+RuaGIwaC/CCAq5lu1nj93ygXL8BvqP9wx4fFem6C/I2H3rXKKoL/EsXv42n6gv6qhgoNunqC/JoM4OKdMo786fWFO8Yqhv7lOY1+LO6K/pkOQXfbOoL9gtg0ySWihvwhMy0q0b6C/d18fbw6PoL929zNKi1Khv+FvrT7NHqG/SuTRuQaKob80nKFvDACjv+54PoCuy6G/Ywg5hABcob/bo4aPTq6gv9y3EqH2maC/cweZs9PZoL9BO1Ww6guivxMaXFOW66W/BpJ5ifKPoL+FRsjGwPagvw==\",\"dtype\":\"float64\",\"shape\":[50]},\"y\":{\"__ndarray__\":\"UOFTV/DEcb/YbJmQariKv+zajkBJ74K/0qXD4jU3i78D45AcR82Cvy7Z2xt+gJG/IcNAcRwxhr+sqSyFG4OHvylESVcuwIm/LJFIhnKSib8NWceM/MKAv/pWNvDGeIC/kAIFQ0+riL+8PueQhZ6Ev6zmnrp16Ya/KUmxI5iZjr9oBHPAp1OEvxrviFhVLoG/z/Te6HPagb+FkPH/IOx1v58NTRKlg4C/UuAUCae9hb8n0xL8E9N+v2aGpEJnEYG/q1mZ/4u2gb9OCb0mSA6NP7J0SgCA7IC/M3flCfSpgL8seyYG4nWAv2lrDkyrQ4K/9rrFpS/9lL966U9QH7GPv5YvhRyOGou/UGcXSAHTgb8Dfoy1q9WEvwW060eYLIC/a/A7BMXEgL+q91E95IOEvwuOslLnUoO/2QdQlxm3hb982rWitr+Rv7rVKhJ9zn2/pmZA6rWrhL8ppHwAiFaBv8o1+EQB74C/CrA1gIM8gr+mWIUWaYCJv9CpIDqukt4/Kmcf8Ay6gL+mO0dLvvKDvw==\",\"dtype\":\"float64\",\"shape\":[50]}},\"selected\":{\"id\":\"1040\",\"type\":\"Selection\"},\"selection_policy\":{\"id\":\"1041\",\"type\":\"UnionRenderers\"}},\"id\":\"1003\",\"type\":\"ColumnDataSource\"},{\"attributes\":{\"active_drag\":\"auto\",\"active_inspect\":\"auto\",\"active_multi\":null,\"active_scroll\":\"auto\",\"active_tap\":\"auto\",\"tools\":[{\"id\":\"1082\",\"type\":\"PanTool\"},{\"id\":\"1083\",\"type\":\"WheelZoomTool\"},{\"id\":\"1084\",\"type\":\"BoxZoomTool\"},{\"id\":\"1085\",\"type\":\"ResetTool\"},{\"id\":\"1086\",\"type\":\"HoverTool\"},{\"id\":\"1087\",\"type\":\"SaveTool\"}]},\"id\":\"1088\",\"type\":\"Toolbar\"},{\"attributes\":{\"fill_alpha\":{\"value\":0.1},\"fill_color\":{\"value\":\"#1f77b4\"},\"line_alpha\":{\"value\":0.1},\"line_color\":{\"value\":\"#1f77b4\"},\"radius\":{\"units\":\"data\",\"value\":0.02},\"x\":{\"field\":\"x\"},\"y\":{\"field\":\"y\"}},\"id\":\"1099\",\"type\":\"Circle\"},{\"attributes\":{\"bottom_units\":\"screen\",\"fill_alpha\":{\"value\":0.5},\"fill_color\":{\"value\":\"lightgrey\"},\"left_units\":\"screen\",\"level\":\"overlay\",\"line_alpha\":{\"value\":1.0},\"line_color\":{\"value\":\"black\"},\"line_dash\":[4,4],\"line_width\":{\"value\":2},\"plot\":null,\"render_mode\":\"css\",\"right_units\":\"screen\",\"top_units\":\"screen\"},\"id\":\"1090\",\"type\":\"BoxAnnotation\"},{\"attributes\":{\"label\":{\"field\":\"pro_con\"},\"renderers\":[{\"id\":\"1100\",\"type\":\"GlyphRenderer\"}]},\"id\":\"1105\",\"type\":\"LegendItem\"},{\"attributes\":{\"callback\":null,\"tooltips\":[[\"Topic\",\"@label (@pro_con)  <br> Topic_words: @topic_words \"]]},\"id\":\"1086\",\"type\":\"HoverTool\"}],\"root_ids\":[\"1072\"]},\"title\":\"Bokeh Application\",\"version\":\"1.0.2\"}};\n",
       "  var render_items = [{\"docid\":\"3c78811c-dc30-4f3a-b53e-5a7bff68a7d0\",\"roots\":{\"1072\":\"7949ab67-7905-45a9-acf7-deae3e638f01\"}}];\n",
       "  root.Bokeh.embed.embed_items_notebook(docs_json, render_items);\n",
       "\n",
       "  }\n",
       "  if (root.Bokeh !== undefined) {\n",
       "    embed_document(root);\n",
       "  } else {\n",
       "    var attempts = 0;\n",
       "    var timer = setInterval(function(root) {\n",
       "      if (root.Bokeh !== undefined) {\n",
       "        embed_document(root);\n",
       "        clearInterval(timer);\n",
       "      }\n",
       "      attempts++;\n",
       "      if (attempts > 100) {\n",
       "        console.log(\"Bokeh: ERROR: Unable to run BokehJS code because BokehJS library is missing\");\n",
       "        clearInterval(timer);\n",
       "      }\n",
       "    }, 10, root)\n",
       "  }\n",
       "})(window);"
      ],
      "application/vnd.bokehjs_exec.v0+json": ""
     },
     "metadata": {
      "application/vnd.bokehjs_exec.v0+json": {
       "id": "1072"
      }
     },
     "output_type": "display_data"
    }
   ],
   "source": [
    "title = 'PCA visualization of topics'\n",
    "\n",
    "plot_lda = figure(plot_width=1000, plot_height=700,\n",
    "                     title=title, tools=\"pan,wheel_zoom,box_zoom,reset,hover,previewsave\",\n",
    "                     x_axis_type=None, y_axis_type=None, min_border=1)\n",
    "\n",
    "plot_lda.scatter(x='x', y='y',  legend='pro_con', source=source,\n",
    "                 color='color', alpha=0.8, fill_alpha=.3, radius=.02)#'msize', )\n",
    "\n",
    "# hover tools\n",
    "hover = plot_lda.select(dict(type=HoverTool))\n",
    "hover.tooltips = { \"Topic\": \"@label (@pro_con)  <br> Topic_words: @topic_words \"}\n",
    "plot_lda.legend.location = \"top_left\"\n",
    "\n",
    "show(plot_lda)"
   ]
  },
  {
   "cell_type": "code",
   "execution_count": null,
   "metadata": {},
   "outputs": [],
   "source": []
  }
 ],
 "metadata": {
  "kernelspec": {
   "display_name": "Python 3",
   "language": "python",
   "name": "python3"
  },
  "language_info": {
   "codemirror_mode": {
    "name": "ipython",
    "version": 3
   },
   "file_extension": ".py",
   "mimetype": "text/x-python",
   "name": "python",
   "nbconvert_exporter": "python",
   "pygments_lexer": "ipython3",
   "version": "3.7.3"
  }
 },
 "nbformat": 4,
 "nbformat_minor": 2
}
