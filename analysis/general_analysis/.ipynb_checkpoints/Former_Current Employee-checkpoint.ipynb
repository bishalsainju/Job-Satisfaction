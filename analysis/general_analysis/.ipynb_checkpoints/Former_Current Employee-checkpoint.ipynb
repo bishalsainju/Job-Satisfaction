{
 "cells": [
  {
   "cell_type": "code",
   "execution_count": 2,
   "metadata": {},
   "outputs": [],
   "source": [
    "import numpy as np\n",
    "import pandas as pd\n",
    "\n",
    "import warnings\n",
    "warnings.filterwarnings(\"ignore\",category=DeprecationWarning)\n",
    "\n",
    "\n",
    "import os\n",
    "root = os.path.expanduser('~')"
   ]
  },
  {
   "cell_type": "code",
   "execution_count": 3,
   "metadata": {},
   "outputs": [
    {
     "ename": "NameError",
     "evalue": "name 'company_index' is not defined",
     "output_type": "error",
     "traceback": [
      "\u001b[0;31m---------------------------------------------------------------------------\u001b[0m",
      "\u001b[0;31mNameError\u001b[0m                                 Traceback (most recent call last)",
      "\u001b[0;32m<ipython-input-3-35c4f70886a1>\u001b[0m in \u001b[0;36m<module>\u001b[0;34m\u001b[0m\n\u001b[1;32m     14\u001b[0m     \u001b[0;32mreturn\u001b[0m \u001b[0mdf_data\u001b[0m\u001b[0;34m.\u001b[0m\u001b[0mtolist\u001b[0m\u001b[0;34m(\u001b[0m\u001b[0;34m)\u001b[0m\u001b[0;34m\u001b[0m\u001b[0;34m\u001b[0m\u001b[0m\n\u001b[1;32m     15\u001b[0m \u001b[0;34m\u001b[0m\u001b[0m\n\u001b[0;32m---> 16\u001b[0;31m sentences = get_px_data(company_index=company_index, company_name=company_name, \n\u001b[0m\u001b[1;32m     17\u001b[0m                         uni=True, bi=True, tri=True)\n\u001b[1;32m     18\u001b[0m \u001b[0;34m\u001b[0m\u001b[0m\n",
      "\u001b[0;31mNameError\u001b[0m: name 'company_index' is not defined"
     ]
    }
   ],
   "source": [
    "def get_px_data(company_index=5, company_name='Amazon', uni=False, bi=False, tri=False):\n",
    "    data_path = root + '/Desktop/workspace/indeed/Job-Satisfaction/data/companies/'+f'{company_index}_{company_name}'+'/output_data/px_data1/cons.csv'\n",
    "    df = pd.read_csv(data_path)\n",
    "#     print(df.head())\n",
    "    if uni and bi and tri:\n",
    "        df_data = df['Unigrams'].fillna('') + ' ' + df['Bigrams'].fillna('') + ' ' + df['Trigrams'].fillna('')\n",
    "    elif uni:\n",
    "        df_data = df['Unigrams'].dropna()\n",
    "    elif bi:\n",
    "        df_data = df['Bigrams'].dropna()\n",
    "    elif tri:\n",
    "        df_data = df['Trigrams'].dropna()\n",
    "#     print(len(df_data.tolist()))\n",
    "    return df_data.tolist()\n",
    "    \n",
    "sentences = get_px_data(company_index=company_index, company_name=company_name, \n",
    "                        uni=True, bi=True, tri=True)\n",
    "\n",
    "print(len(sentences))\n",
    "sentences[:5]"
   ]
  },
  {
   "cell_type": "code",
   "execution_count": null,
   "metadata": {},
   "outputs": [],
   "source": [
    "def merge_data(company_list=[5], uni=False, bi=False, tri=False):\n",
    "    sentences = []\n",
    "    df_company_list = pd.read_csv( root + '/Desktop/workspace/indeed/Job-Satisfaction/data/scraper_data/review_site.csv')\n",
    "    sentences = []\n",
    "    for company_index in company_list:\n",
    "        company_name = df_company_list.iloc[company_index - 1]['Company_Name']\n",
    "        px_sents = get_px_data(company_index=company_index, company_name=company_name, \n",
    "                        uni=uni, bi=bi, tri=tri)\n",
    "        if len(px_sents) < 1000:\n",
    "            sentences.extend(px_sents)\n",
    "        else:\n",
    "            random.seed(42)\n",
    "            sentences.extend(random.sample(px_sents, 1000))\n",
    "    return sentences\n",
    "\n",
    "# sentences = merge_data(company_list=[5],\n",
    "#                         uni=True, bi=True, tri=True)\n",
    "sentences = merge_data(company_list=range(1, 51),\n",
    "                        uni=True, bi=True, tri=True)\n",
    "# sentences = merge_data(company_list=[5, 6, 7, 8, 9, 10],\n",
    "#                         uni=True, bi=True, tri=True)\n",
    "print(len(sentences))\n",
    "sentences[:5]"
   ]
  }
 ],
 "metadata": {
  "kernelspec": {
   "display_name": "Python 3",
   "language": "python",
   "name": "python3"
  },
  "language_info": {
   "codemirror_mode": {
    "name": "ipython",
    "version": 3
   },
   "file_extension": ".py",
   "mimetype": "text/x-python",
   "name": "python",
   "nbconvert_exporter": "python",
   "pygments_lexer": "ipython3",
   "version": "3.7.3"
  }
 },
 "nbformat": 4,
 "nbformat_minor": 2
}
