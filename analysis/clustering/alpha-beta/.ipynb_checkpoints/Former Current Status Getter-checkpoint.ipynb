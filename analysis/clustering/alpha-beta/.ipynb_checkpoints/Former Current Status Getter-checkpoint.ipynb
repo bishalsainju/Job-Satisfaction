{
 "cells": [
  {
   "cell_type": "code",
   "execution_count": 66,
   "metadata": {},
   "outputs": [
    {
     "data": {
      "text/html": [
       "<div>\n",
       "<style scoped>\n",
       "    .dataframe tbody tr th:only-of-type {\n",
       "        vertical-align: middle;\n",
       "    }\n",
       "\n",
       "    .dataframe tbody tr th {\n",
       "        vertical-align: top;\n",
       "    }\n",
       "\n",
       "    .dataframe thead th {\n",
       "        text-align: right;\n",
       "    }\n",
       "</style>\n",
       "<table border=\"1\" class=\"dataframe\">\n",
       "  <thead>\n",
       "    <tr style=\"text-align: right;\">\n",
       "      <th></th>\n",
       "      <th>document</th>\n",
       "      <th>topic</th>\n",
       "      <th>gamma</th>\n",
       "    </tr>\n",
       "  </thead>\n",
       "  <tbody>\n",
       "    <tr>\n",
       "      <th>0</th>\n",
       "      <td>1</td>\n",
       "      <td>1</td>\n",
       "      <td>0.332495</td>\n",
       "    </tr>\n",
       "    <tr>\n",
       "      <th>1</th>\n",
       "      <td>2</td>\n",
       "      <td>1</td>\n",
       "      <td>0.302397</td>\n",
       "    </tr>\n",
       "    <tr>\n",
       "      <th>2</th>\n",
       "      <td>3</td>\n",
       "      <td>1</td>\n",
       "      <td>0.105602</td>\n",
       "    </tr>\n",
       "    <tr>\n",
       "      <th>3</th>\n",
       "      <td>4</td>\n",
       "      <td>1</td>\n",
       "      <td>0.039059</td>\n",
       "    </tr>\n",
       "    <tr>\n",
       "      <th>4</th>\n",
       "      <td>5</td>\n",
       "      <td>1</td>\n",
       "      <td>0.037483</td>\n",
       "    </tr>\n",
       "  </tbody>\n",
       "</table>\n",
       "</div>"
      ],
      "text/plain": [
       "   document  topic     gamma\n",
       "0         1      1  0.332495\n",
       "1         2      1  0.302397\n",
       "2         3      1  0.105602\n",
       "3         4      1  0.039059\n",
       "4         5      1  0.037483"
      ]
     },
     "metadata": {},
     "output_type": "display_data"
    },
    {
     "name": "stdout",
     "output_type": "stream",
     "text": [
      "(329800, 3)\n"
     ]
    }
   ],
   "source": [
    "import pandas as pd\n",
    "import numpy as np\n",
    "\n",
    "num_topic = 10\n",
    "# path = f\"/Users/bishalsainju/Desktop/DataViz/whisper2/whisper/whisperVis/data/topicModeling/pro/{num_topic}/gamma.csv\"\n",
    "path = f\"/Users/bishalsainju/Desktop/DataViz/whisper2/whisper/whisperVis/data/topicModeling/con/{num_topic}/gamma.csv\"\n",
    "\n",
    "df = pd.read_csv(path)\n",
    "display(df.head())\n",
    "print(df.shape)"
   ]
  },
  {
   "cell_type": "code",
   "execution_count": 67,
   "metadata": {},
   "outputs": [
    {
     "name": "stdout",
     "output_type": "stream",
     "text": [
      "32980\n"
     ]
    }
   ],
   "source": [
    "num_docs = df[df.topic == 1][\"document\"].count()\n",
    "print(num_docs)"
   ]
  },
  {
   "cell_type": "markdown",
   "metadata": {},
   "source": [
    "## Getting the documents Review Text "
   ]
  },
  {
   "cell_type": "code",
   "execution_count": 70,
   "metadata": {},
   "outputs": [
    {
     "name": "stdout",
     "output_type": "stream",
     "text": [
      "(32988, 15)\n"
     ]
    }
   ],
   "source": [
    "# proFilePath = \"~/Desktop/R_js/data/pro_doc_sampled.csv\"\n",
    "proFilePath = \"~/Desktop/R_js/data/con_doc_sampled.csv\"\n",
    "\n",
    "proData = pd.read_csv(proFilePath)\n",
    "\n",
    "proData.head()\n",
    "print(proData.shape)"
   ]
  },
  {
   "cell_type": "code",
   "execution_count": 71,
   "metadata": {},
   "outputs": [
    {
     "data": {
      "text/html": [
       "<div>\n",
       "<style scoped>\n",
       "    .dataframe tbody tr th:only-of-type {\n",
       "        vertical-align: middle;\n",
       "    }\n",
       "\n",
       "    .dataframe tbody tr th {\n",
       "        vertical-align: top;\n",
       "    }\n",
       "\n",
       "    .dataframe thead th {\n",
       "        text-align: right;\n",
       "    }\n",
       "</style>\n",
       "<table border=\"1\" class=\"dataframe\">\n",
       "  <thead>\n",
       "    <tr style=\"text-align: right;\">\n",
       "      <th></th>\n",
       "      <th>Unnamed: 0</th>\n",
       "      <th>Ratings</th>\n",
       "      <th>Job_Status</th>\n",
       "      <th>Reviewed_Year</th>\n",
       "      <th>Review_Text</th>\n",
       "      <th>Px_Texts</th>\n",
       "      <th>Tknz_Texts</th>\n",
       "      <th>Doc_Length</th>\n",
       "      <th>Work_Life</th>\n",
       "      <th>Benefits</th>\n",
       "      <th>Job_Advancement</th>\n",
       "      <th>Management</th>\n",
       "      <th>Culture</th>\n",
       "      <th>Company_Index</th>\n",
       "      <th>Company_Name</th>\n",
       "      <th>Doc_Num</th>\n",
       "    </tr>\n",
       "  </thead>\n",
       "  <tbody>\n",
       "    <tr>\n",
       "      <th>0</th>\n",
       "      <td>0</td>\n",
       "      <td>1.0</td>\n",
       "      <td>0</td>\n",
       "      <td>2019</td>\n",
       "      <td>Management, communication, workforce, and clea...</td>\n",
       "      <td>clean commun manag manag_commun</td>\n",
       "      <td>['clean', 'commun', 'manag', 'manag_commun']</td>\n",
       "      <td>4</td>\n",
       "      <td>1.0</td>\n",
       "      <td>1.0</td>\n",
       "      <td>1.0</td>\n",
       "      <td>1.0</td>\n",
       "      <td>1.0</td>\n",
       "      <td>1</td>\n",
       "      <td>Walmart</td>\n",
       "      <td>1</td>\n",
       "    </tr>\n",
       "    <tr>\n",
       "      <th>1</th>\n",
       "      <td>1</td>\n",
       "      <td>1.0</td>\n",
       "      <td>1</td>\n",
       "      <td>2014</td>\n",
       "      <td>ovebearing managers lack of staffing poor wages</td>\n",
       "      <td>lack manag poor staf wage manag_lack</td>\n",
       "      <td>['lack', 'manag', 'poor', 'staf', 'wage', 'man...</td>\n",
       "      <td>6</td>\n",
       "      <td>3.0</td>\n",
       "      <td>1.0</td>\n",
       "      <td>1.0</td>\n",
       "      <td>1.0</td>\n",
       "      <td>3.0</td>\n",
       "      <td>1</td>\n",
       "      <td>Walmart</td>\n",
       "      <td>2</td>\n",
       "    </tr>\n",
       "    <tr>\n",
       "      <th>2</th>\n",
       "      <td>2</td>\n",
       "      <td>5.0</td>\n",
       "      <td>0</td>\n",
       "      <td>2015</td>\n",
       "      <td>Benefits, associate pay, and lack of help duri...</td>\n",
       "      <td>associ benefit help holiday lack pay lack_help...</td>\n",
       "      <td>['associ', 'benefit', 'help', 'holiday', 'lack...</td>\n",
       "      <td>8</td>\n",
       "      <td>5.0</td>\n",
       "      <td>5.0</td>\n",
       "      <td>5.0</td>\n",
       "      <td>5.0</td>\n",
       "      <td>5.0</td>\n",
       "      <td>1</td>\n",
       "      <td>Walmart</td>\n",
       "      <td>3</td>\n",
       "    </tr>\n",
       "    <tr>\n",
       "      <th>3</th>\n",
       "      <td>3</td>\n",
       "      <td>5.0</td>\n",
       "      <td>0</td>\n",
       "      <td>2018</td>\n",
       "      <td>had to waste our breaks waiting in line to pur...</td>\n",
       "      <td>break food item line wait wast</td>\n",
       "      <td>['break', 'food', 'item', 'line', 'wait', 'wast']</td>\n",
       "      <td>6</td>\n",
       "      <td>5.0</td>\n",
       "      <td>5.0</td>\n",
       "      <td>5.0</td>\n",
       "      <td>5.0</td>\n",
       "      <td>5.0</td>\n",
       "      <td>1</td>\n",
       "      <td>Walmart</td>\n",
       "      <td>4</td>\n",
       "    </tr>\n",
       "    <tr>\n",
       "      <th>4</th>\n",
       "      <td>4</td>\n",
       "      <td>5.0</td>\n",
       "      <td>0</td>\n",
       "      <td>2019</td>\n",
       "      <td>Short breaks, and get stationed in different d...</td>\n",
       "      <td>break depart differ short store time differ_de...</td>\n",
       "      <td>['break', 'depart', 'differ', 'short', 'store'...</td>\n",
       "      <td>8</td>\n",
       "      <td>5.0</td>\n",
       "      <td>5.0</td>\n",
       "      <td>5.0</td>\n",
       "      <td>3.0</td>\n",
       "      <td>4.0</td>\n",
       "      <td>1</td>\n",
       "      <td>Walmart</td>\n",
       "      <td>5</td>\n",
       "    </tr>\n",
       "  </tbody>\n",
       "</table>\n",
       "</div>"
      ],
      "text/plain": [
       "   Unnamed: 0  Ratings  Job_Status  Reviewed_Year  \\\n",
       "0           0      1.0           0           2019   \n",
       "1           1      1.0           1           2014   \n",
       "2           2      5.0           0           2015   \n",
       "3           3      5.0           0           2018   \n",
       "4           4      5.0           0           2019   \n",
       "\n",
       "                                         Review_Text  \\\n",
       "0  Management, communication, workforce, and clea...   \n",
       "1    ovebearing managers lack of staffing poor wages   \n",
       "2  Benefits, associate pay, and lack of help duri...   \n",
       "3  had to waste our breaks waiting in line to pur...   \n",
       "4  Short breaks, and get stationed in different d...   \n",
       "\n",
       "                                            Px_Texts  \\\n",
       "0                   clean commun manag manag_commun    \n",
       "1              lack manag poor staf wage manag_lack    \n",
       "2  associ benefit help holiday lack pay lack_help...   \n",
       "3                   break food item line wait wast     \n",
       "4  break depart differ short store time differ_de...   \n",
       "\n",
       "                                          Tknz_Texts  Doc_Length  Work_Life  \\\n",
       "0       ['clean', 'commun', 'manag', 'manag_commun']           4        1.0   \n",
       "1  ['lack', 'manag', 'poor', 'staf', 'wage', 'man...           6        3.0   \n",
       "2  ['associ', 'benefit', 'help', 'holiday', 'lack...           8        5.0   \n",
       "3  ['break', 'food', 'item', 'line', 'wait', 'wast']           6        5.0   \n",
       "4  ['break', 'depart', 'differ', 'short', 'store'...           8        5.0   \n",
       "\n",
       "   Benefits  Job_Advancement  Management  Culture  Company_Index Company_Name  \\\n",
       "0       1.0              1.0         1.0      1.0              1      Walmart   \n",
       "1       1.0              1.0         1.0      3.0              1      Walmart   \n",
       "2       5.0              5.0         5.0      5.0              1      Walmart   \n",
       "3       5.0              5.0         5.0      5.0              1      Walmart   \n",
       "4       5.0              5.0         3.0      4.0              1      Walmart   \n",
       "\n",
       "   Doc_Num  \n",
       "0        1  \n",
       "1        2  \n",
       "2        3  \n",
       "3        4  \n",
       "4        5  "
      ]
     },
     "execution_count": 71,
     "metadata": {},
     "output_type": "execute_result"
    }
   ],
   "source": [
    "# doc_removed = np.asarray([1139, 1991, 2100, 20740]) # For Pro\n",
    "doc_removed = np.asarray([1119, 7887, 7977, 8034, 10191, 13929, 22434, 24612]) # For Con\n",
    "\n",
    "\n",
    "proData.drop(proData.index[doc_removed-1], inplace = True)\n",
    "proData[\"Doc_Num\"] = range(1, num_docs+1)\n",
    "proData.head()\n",
    "\n"
   ]
  },
  {
   "cell_type": "code",
   "execution_count": 72,
   "metadata": {},
   "outputs": [
    {
     "name": "stdout",
     "output_type": "stream",
     "text": [
      "32980\n"
     ]
    }
   ],
   "source": [
    "former_doc = proData[proData.Job_Status == 0]\n",
    "current_doc = proData[proData.Job_Status == 1]\n",
    "\n",
    "print(former_doc.shape[0]+current_doc.shape[0])\n"
   ]
  },
  {
   "cell_type": "code",
   "execution_count": null,
   "metadata": {},
   "outputs": [],
   "source": [
    "print(len(former_doc))"
   ]
  },
  {
   "cell_type": "code",
   "execution_count": 73,
   "metadata": {},
   "outputs": [
    {
     "data": {
      "text/plain": [
       "topic\n",
       "1     3897.584733\n",
       "2     3824.301812\n",
       "3     2924.044194\n",
       "4     2949.557393\n",
       "5     3272.537423\n",
       "6     2350.138405\n",
       "7     4008.759584\n",
       "8     4156.006687\n",
       "9     3007.804074\n",
       "10    2589.265695\n",
       "Name: gamma, dtype: float64"
      ]
     },
     "execution_count": 73,
     "metadata": {},
     "output_type": "execute_result"
    }
   ],
   "source": [
    "df.groupby([\"topic\"])[\"gamma\"].sum()"
   ]
  },
  {
   "cell_type": "code",
   "execution_count": 75,
   "metadata": {},
   "outputs": [
    {
     "name": "stdout",
     "output_type": "stream",
     "text": [
      "[[1, 0.67, 0.33], [2, 0.67, 0.33], [3, 0.69, 0.31], [4, 0.71, 0.29], [5, 0.65, 0.35], [6, 0.67, 0.33], [7, 0.64, 0.36], [8, 0.65, 0.35], [9, 0.65, 0.35], [10, 0.65, 0.35]]\n"
     ]
    }
   ],
   "source": [
    "lst = []\n",
    "for t in range(1, num_topic+1):\n",
    "    \n",
    "    pro_top = df[df.topic == t]\n",
    "    former_gamma = pro_top.loc[pro_top['document'].isin(former_doc.Doc_Num.tolist())][\"gamma\"].sum()\n",
    "    current_gamma = pro_top.loc[pro_top['document'].isin(current_doc.Doc_Num.tolist())][\"gamma\"].sum()\n",
    "    tot_gamma = (former_gamma + current_gamma)\n",
    "#     print(f\"{t}: {tot_gamma}\")\n",
    "    lst.append([t, round(former_gamma/tot_gamma, 2), round(current_gamma/tot_gamma, 2)])\n",
    "\n",
    "print(lst)"
   ]
  },
  {
   "cell_type": "code",
   "execution_count": 76,
   "metadata": {},
   "outputs": [],
   "source": [
    " pro = pd.DataFrame(lst, columns=[\"Topic\", \"Former\", \"Current\"])"
   ]
  },
  {
   "cell_type": "code",
   "execution_count": 77,
   "metadata": {},
   "outputs": [
    {
     "data": {
      "text/html": [
       "<div>\n",
       "<style scoped>\n",
       "    .dataframe tbody tr th:only-of-type {\n",
       "        vertical-align: middle;\n",
       "    }\n",
       "\n",
       "    .dataframe tbody tr th {\n",
       "        vertical-align: top;\n",
       "    }\n",
       "\n",
       "    .dataframe thead th {\n",
       "        text-align: right;\n",
       "    }\n",
       "</style>\n",
       "<table border=\"1\" class=\"dataframe\">\n",
       "  <thead>\n",
       "    <tr style=\"text-align: right;\">\n",
       "      <th></th>\n",
       "      <th>Topic</th>\n",
       "      <th>Former</th>\n",
       "      <th>Current</th>\n",
       "    </tr>\n",
       "  </thead>\n",
       "  <tbody>\n",
       "    <tr>\n",
       "      <th>0</th>\n",
       "      <td>1</td>\n",
       "      <td>0.67</td>\n",
       "      <td>0.33</td>\n",
       "    </tr>\n",
       "    <tr>\n",
       "      <th>1</th>\n",
       "      <td>2</td>\n",
       "      <td>0.67</td>\n",
       "      <td>0.33</td>\n",
       "    </tr>\n",
       "    <tr>\n",
       "      <th>2</th>\n",
       "      <td>3</td>\n",
       "      <td>0.69</td>\n",
       "      <td>0.31</td>\n",
       "    </tr>\n",
       "    <tr>\n",
       "      <th>3</th>\n",
       "      <td>4</td>\n",
       "      <td>0.71</td>\n",
       "      <td>0.29</td>\n",
       "    </tr>\n",
       "    <tr>\n",
       "      <th>4</th>\n",
       "      <td>5</td>\n",
       "      <td>0.65</td>\n",
       "      <td>0.35</td>\n",
       "    </tr>\n",
       "    <tr>\n",
       "      <th>5</th>\n",
       "      <td>6</td>\n",
       "      <td>0.67</td>\n",
       "      <td>0.33</td>\n",
       "    </tr>\n",
       "    <tr>\n",
       "      <th>6</th>\n",
       "      <td>7</td>\n",
       "      <td>0.64</td>\n",
       "      <td>0.36</td>\n",
       "    </tr>\n",
       "    <tr>\n",
       "      <th>7</th>\n",
       "      <td>8</td>\n",
       "      <td>0.65</td>\n",
       "      <td>0.35</td>\n",
       "    </tr>\n",
       "    <tr>\n",
       "      <th>8</th>\n",
       "      <td>9</td>\n",
       "      <td>0.65</td>\n",
       "      <td>0.35</td>\n",
       "    </tr>\n",
       "    <tr>\n",
       "      <th>9</th>\n",
       "      <td>10</td>\n",
       "      <td>0.65</td>\n",
       "      <td>0.35</td>\n",
       "    </tr>\n",
       "  </tbody>\n",
       "</table>\n",
       "</div>"
      ],
      "text/plain": [
       "   Topic  Former  Current\n",
       "0      1    0.67     0.33\n",
       "1      2    0.67     0.33\n",
       "2      3    0.69     0.31\n",
       "3      4    0.71     0.29\n",
       "4      5    0.65     0.35\n",
       "5      6    0.67     0.33\n",
       "6      7    0.64     0.36\n",
       "7      8    0.65     0.35\n",
       "8      9    0.65     0.35\n",
       "9     10    0.65     0.35"
      ]
     },
     "execution_count": 77,
     "metadata": {},
     "output_type": "execute_result"
    }
   ],
   "source": [
    "pro"
   ]
  },
  {
   "cell_type": "code",
   "execution_count": null,
   "metadata": {},
   "outputs": [],
   "source": []
  }
 ],
 "metadata": {
  "kernelspec": {
   "display_name": "Python 3",
   "language": "python",
   "name": "python3"
  },
  "language_info": {
   "codemirror_mode": {
    "name": "ipython",
    "version": 3
   },
   "file_extension": ".py",
   "mimetype": "text/x-python",
   "name": "python",
   "nbconvert_exporter": "python",
   "pygments_lexer": "ipython3",
   "version": "3.7.3"
  }
 },
 "nbformat": 4,
 "nbformat_minor": 2
}
