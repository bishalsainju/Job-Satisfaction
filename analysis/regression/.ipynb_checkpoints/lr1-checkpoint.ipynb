{
 "cells": [
  {
   "cell_type": "code",
   "execution_count": 15,
   "metadata": {},
   "outputs": [],
   "source": [
    "## imports\n",
    "\n",
    "import numpy as np\n",
    "import pandas as pd\n",
    "\n",
    "import statsmodels.formula.api as sm\n",
    "\n",
    "# Plotting tools\n",
    "import matplotlib.pyplot as plt\n",
    "%matplotlib inline\n",
    "from pprint import pprint\n",
    "\n",
    "import warnings\n",
    "warnings.filterwarnings(\"ignore\",category=DeprecationWarning)\n",
    "\n",
    "import os\n",
    "root = os.path.expanduser('~')\n",
    "\n",
    "company_index='5'\n",
    "company_name='Amazon'\n",
    "img_path = root + '/Desktop/workspace/indeed/Job-Satisfaction/img/companies/'+f'{company_index}_{company_name}'\n",
    "img_flag = False\n",
    "\n",
    "if not os.path.exists(img_path):\n",
    "    os.makedirs(img_path)"
   ]
  },
  {
   "cell_type": "code",
   "execution_count": 16,
   "metadata": {},
   "outputs": [],
   "source": [
    "def merge_data(company_list=[5]):\n",
    "    df_ = pd.DataFrame()\n",
    "    df_company_list = pd.read_csv( root + '/Desktop/workspace/indeed/Job-Satisfaction/data/scraper_data/review_site.csv')\n",
    "    for company_index in company_list:\n",
    "        company_name = df_company_list.iloc[company_index - 1]['Company_Name']\n",
    "        data_path = root + '/Desktop/workspace/indeed/Job-Satisfaction/data/companies/'+\\\n",
    "                    f'{company_index}_{company_name}/{company_name}.csv'\n",
    "        df_ = pd.concat([df_, pd.read_csv(data_path)]).reset_index(drop=True)\n",
    "    return df_\n",
    "\n",
    "# df = merge_data(company_list=[5, 6])\n",
    "# df = merge_data(company_list=[1, 2, 3, 4, 5])\n",
    "df = merge_data(company_list=range(1, 51))\n",
    "\n",
    "\n",
    "\n"
   ]
  },
  {
   "cell_type": "code",
   "execution_count": 17,
   "metadata": {},
   "outputs": [
    {
     "name": "stderr",
     "output_type": "stream",
     "text": [
      "/anaconda3/lib/python3.7/site-packages/ipykernel_launcher.py:4: SettingWithCopyWarning: \n",
      "A value is trying to be set on a copy of a slice from a DataFrame\n",
      "\n",
      "See the caveats in the documentation: http://pandas.pydata.org/pandas-docs/stable/indexing.html#indexing-view-versus-copy\n",
      "  after removing the cwd from sys.path.\n"
     ]
    },
    {
     "data": {
      "text/plain": [
       "(682176, 6)"
      ]
     },
     "execution_count": 17,
     "metadata": {},
     "output_type": "execute_result"
    }
   ],
   "source": [
    "# filter only needed columns\n",
    "\n",
    "df_rating = df[['Rating_Number', 'Work_Life', 'Benefits', 'Job_Advancement', 'Management', 'Culture']]\n",
    "df_rating.dropna(inplace=True)\n",
    "df_rating.head()\n",
    "df_rating.shape"
   ]
  },
  {
   "cell_type": "code",
   "execution_count": 18,
   "metadata": {},
   "outputs": [
    {
     "name": "stdout",
     "output_type": "stream",
     "text": [
      "                            OLS Regression Results                            \n",
      "==============================================================================\n",
      "Dep. Variable:          Rating_Number   R-squared:                       0.383\n",
      "Model:                            OLS   Adj. R-squared:                  0.383\n",
      "Method:                 Least Squares   F-statistic:                 8.471e+04\n",
      "Date:                Mon, 22 Jul 2019   Prob (F-statistic):               0.00\n",
      "Time:                        13:19:24   Log-Likelihood:            -9.1846e+05\n",
      "No. Observations:              682176   AIC:                         1.837e+06\n",
      "Df Residuals:                  682170   BIC:                         1.837e+06\n",
      "Df Model:                           5                                         \n",
      "Covariance Type:            nonrobust                                         \n",
      "===================================================================================\n",
      "                      coef    std err          t      P>|t|      [0.025      0.975]\n",
      "-----------------------------------------------------------------------------------\n",
      "Intercept           2.1681      0.003    779.615      0.000       2.163       2.174\n",
      "Work_Life           0.1221      0.001     94.717      0.000       0.120       0.125\n",
      "Benefits           -0.0329      0.001    -28.264      0.000      -0.035      -0.031\n",
      "Job_Advancement     0.0821      0.001     60.590      0.000       0.079       0.085\n",
      "Management          0.1746      0.001    125.065      0.000       0.172       0.177\n",
      "Culture             0.1498      0.001    103.575      0.000       0.147       0.153\n",
      "==============================================================================\n",
      "Omnibus:                    36009.841   Durbin-Watson:                   1.936\n",
      "Prob(Omnibus):                  0.000   Jarque-Bera (JB):            63975.992\n",
      "Skew:                           0.417   Prob(JB):                         0.00\n",
      "Kurtosis:                       4.247   Cond. No.                         19.4\n",
      "==============================================================================\n",
      "\n",
      "Warnings:\n",
      "[1] Standard Errors assume that the covariance matrix of the errors is correctly specified.\n"
     ]
    }
   ],
   "source": [
    "result = sm.ols(formula=\"Rating_Number ~ Work_Life + Benefits + Job_Advancement + Management + Culture\", \n",
    "                data=df_rating).fit()\n",
    "\n",
    "print(result.summary())"
   ]
  },
  {
   "cell_type": "code",
   "execution_count": 19,
   "metadata": {},
   "outputs": [
    {
     "data": {
      "text/plain": [
       "Intercept          2.168063\n",
       "Work_Life          0.122071\n",
       "Benefits          -0.032949\n",
       "Job_Advancement    0.082079\n",
       "Management         0.174596\n",
       "Culture            0.149845\n",
       "dtype: float64"
      ]
     },
     "metadata": {},
     "output_type": "display_data"
    }
   ],
   "source": [
    "display(result.params)"
   ]
  },
  {
   "cell_type": "code",
   "execution_count": 22,
   "metadata": {},
   "outputs": [
    {
     "data": {
      "text/plain": [
       "Intercept          779.614870\n",
       "Work_Life           94.717061\n",
       "Benefits           -28.263582\n",
       "Job_Advancement     60.590226\n",
       "Management         125.064762\n",
       "Culture            103.575477\n",
       "dtype: float64"
      ]
     },
     "execution_count": 22,
     "metadata": {},
     "output_type": "execute_result"
    }
   ],
   "source": [
    "result.tvalues"
   ]
  },
  {
   "cell_type": "code",
   "execution_count": 28,
   "metadata": {},
   "outputs": [
    {
     "data": {
      "text/plain": [
       "1.2250906537837227e-175"
      ]
     },
     "execution_count": 28,
     "metadata": {},
     "output_type": "execute_result"
    }
   ],
   "source": [
    "result.pvalues[2]"
   ]
  },
  {
   "cell_type": "code",
   "execution_count": 25,
   "metadata": {},
   "outputs": [
    {
     "data": {
      "text/plain": [
       "0.3830451821324288"
      ]
     },
     "execution_count": 25,
     "metadata": {},
     "output_type": "execute_result"
    }
   ],
   "source": [
    "result.rsquared"
   ]
  },
  {
   "cell_type": "code",
   "execution_count": 11,
   "metadata": {},
   "outputs": [
    {
     "data": {
      "text/plain": [
       "['Work_Life', 'Benefits', 'Job_Advancement', 'Management', 'Culture']"
      ]
     },
     "execution_count": 11,
     "metadata": {},
     "output_type": "execute_result"
    }
   ],
   "source": [
    "ind_vars = df_rating.columns.tolist()\n",
    "ind_vars.remove('Rating_Number')\n",
    "ind_vars"
   ]
  },
  {
   "cell_type": "code",
   "execution_count": 12,
   "metadata": {
    "collapsed": true
   },
   "outputs": [
    {
     "name": "stdout",
     "output_type": "stream",
     "text": [
      "                            OLS Regression Results                            \n",
      "==============================================================================\n",
      "Dep. Variable:          Rating_Number   R-squared:                       0.304\n",
      "Model:                            OLS   Adj. R-squared:                  0.304\n",
      "Method:                 Least Squares   F-statistic:                 2.986e+05\n",
      "Date:                Sun, 21 Jul 2019   Prob (F-statistic):               0.00\n",
      "Time:                        18:27:35   Log-Likelihood:            -9.5934e+05\n",
      "No. Observations:              682176   AIC:                         1.919e+06\n",
      "Df Residuals:                  682174   BIC:                         1.919e+06\n",
      "Df Model:                           1                                         \n",
      "Covariance Type:            nonrobust                                         \n",
      "==============================================================================\n",
      "                 coef    std err          t      P>|t|      [0.025      0.975]\n",
      "------------------------------------------------------------------------------\n",
      "Intercept      2.3582      0.003    864.481      0.000       2.353       2.364\n",
      "Work_Life      0.4173      0.001    546.475      0.000       0.416       0.419\n",
      "==============================================================================\n",
      "Omnibus:                     5712.865   Durbin-Watson:                   1.939\n",
      "Prob(Omnibus):                  0.000   Jarque-Bera (JB):             9275.164\n",
      "Skew:                          -0.002   Prob(JB):                         0.00\n",
      "Kurtosis:                       3.571   Cond. No.                         8.67\n",
      "==============================================================================\n",
      "\n",
      "Warnings:\n",
      "[1] Standard Errors assume that the covariance matrix of the errors is correctly specified.\n",
      "                            OLS Regression Results                            \n",
      "==============================================================================\n",
      "Dep. Variable:          Rating_Number   R-squared:                       0.215\n",
      "Model:                            OLS   Adj. R-squared:                  0.215\n",
      "Method:                 Least Squares   F-statistic:                 1.872e+05\n",
      "Date:                Sun, 21 Jul 2019   Prob (F-statistic):               0.00\n",
      "Time:                        18:27:35   Log-Likelihood:            -1.0005e+06\n",
      "No. Observations:              682176   AIC:                         2.001e+06\n",
      "Df Residuals:                  682174   BIC:                         2.001e+06\n",
      "Df Model:                           1                                         \n",
      "Covariance Type:            nonrobust                                         \n",
      "==============================================================================\n",
      "                 coef    std err          t      P>|t|      [0.025      0.975]\n",
      "------------------------------------------------------------------------------\n",
      "Intercept      2.5548      0.003    871.335      0.000       2.549       2.561\n",
      "Benefits       0.3458      0.001    432.643      0.000       0.344       0.347\n",
      "==============================================================================\n",
      "Omnibus:                    12488.087   Durbin-Watson:                   1.942\n",
      "Prob(Omnibus):                  0.000   Jarque-Bera (JB):            13377.734\n",
      "Skew:                          -0.321   Prob(JB):                         0.00\n",
      "Kurtosis:                       3.241   Cond. No.                         8.99\n",
      "==============================================================================\n",
      "\n",
      "Warnings:\n",
      "[1] Standard Errors assume that the covariance matrix of the errors is correctly specified.\n",
      "                            OLS Regression Results                            \n",
      "==============================================================================\n",
      "Dep. Variable:          Rating_Number   R-squared:                       0.293\n",
      "Model:                            OLS   Adj. R-squared:                  0.293\n",
      "Method:                 Least Squares   F-statistic:                 2.830e+05\n",
      "Date:                Sun, 21 Jul 2019   Prob (F-statistic):               0.00\n",
      "Time:                        18:27:35   Log-Likelihood:            -9.6484e+05\n",
      "No. Observations:              682176   AIC:                         1.930e+06\n",
      "Df Residuals:                  682174   BIC:                         1.930e+06\n",
      "Df Model:                           1                                         \n",
      "Covariance Type:            nonrobust                                         \n",
      "===================================================================================\n",
      "                      coef    std err          t      P>|t|      [0.025      0.975]\n",
      "-----------------------------------------------------------------------------------\n",
      "Intercept           2.4808      0.003    959.139      0.000       2.476       2.486\n",
      "Job_Advancement     0.4038      0.001    531.940      0.000       0.402       0.405\n",
      "==============================================================================\n",
      "Omnibus:                     3444.087   Durbin-Watson:                   1.930\n",
      "Prob(Omnibus):                  0.000   Jarque-Bera (JB):             4668.010\n",
      "Skew:                          -0.063   Prob(JB):                         0.00\n",
      "Kurtosis:                       3.385   Cond. No.                         7.81\n",
      "==============================================================================\n",
      "\n",
      "Warnings:\n",
      "[1] Standard Errors assume that the covariance matrix of the errors is correctly specified.\n",
      "                            OLS Regression Results                            \n",
      "==============================================================================\n",
      "Dep. Variable:          Rating_Number   R-squared:                       0.340\n",
      "Model:                            OLS   Adj. R-squared:                  0.340\n",
      "Method:                 Least Squares   F-statistic:                 3.509e+05\n",
      "Date:                Sun, 21 Jul 2019   Prob (F-statistic):               0.00\n",
      "Time:                        18:27:36   Log-Likelihood:            -9.4162e+05\n",
      "No. Observations:              682176   AIC:                         1.883e+06\n",
      "Df Residuals:                  682174   BIC:                         1.883e+06\n",
      "Df Model:                           1                                         \n",
      "Covariance Type:            nonrobust                                         \n",
      "==============================================================================\n",
      "                 coef    std err          t      P>|t|      [0.025      0.975]\n",
      "------------------------------------------------------------------------------\n",
      "Intercept      2.4145      0.002    981.432      0.000       2.410       2.419\n",
      "Management     0.4299      0.001    592.396      0.000       0.428       0.431\n",
      "==============================================================================\n",
      "Omnibus:                     7689.652   Durbin-Watson:                   1.938\n",
      "Prob(Omnibus):                  0.000   Jarque-Bera (JB):            12619.525\n",
      "Skew:                           0.083   Prob(JB):                         0.00\n",
      "Kurtosis:                       3.646   Cond. No.                         7.65\n",
      "==============================================================================\n",
      "\n",
      "Warnings:\n",
      "[1] Standard Errors assume that the covariance matrix of the errors is correctly specified.\n",
      "                            OLS Regression Results                            \n",
      "==============================================================================\n",
      "Dep. Variable:          Rating_Number   R-squared:                       0.334\n",
      "Model:                            OLS   Adj. R-squared:                  0.334\n",
      "Method:                 Least Squares   F-statistic:                 3.422e+05\n",
      "Date:                Sun, 21 Jul 2019   Prob (F-statistic):               0.00\n",
      "Time:                        18:27:36   Log-Likelihood:            -9.4452e+05\n",
      "No. Observations:              682176   AIC:                         1.889e+06\n",
      "Df Residuals:                  682174   BIC:                         1.889e+06\n",
      "Df Model:                           1                                         \n",
      "Covariance Type:            nonrobust                                         \n",
      "==============================================================================\n",
      "                 coef    std err          t      P>|t|      [0.025      0.975]\n",
      "------------------------------------------------------------------------------\n",
      "Intercept      2.3318      0.003    892.641      0.000       2.327       2.337\n",
      "Culture        0.4280      0.001    584.986      0.000       0.427       0.429\n",
      "==============================================================================\n",
      "Omnibus:                    10615.393   Durbin-Watson:                   1.943\n",
      "Prob(Omnibus):                  0.000   Jarque-Bera (JB):            18110.864\n",
      "Skew:                           0.126   Prob(JB):                         0.00\n",
      "Kurtosis:                       3.757   Cond. No.                         8.48\n",
      "==============================================================================\n",
      "\n",
      "Warnings:\n",
      "[1] Standard Errors assume that the covariance matrix of the errors is correctly specified.\n"
     ]
    }
   ],
   "source": [
    "df_result = pd.DataFrame()\n",
    "\n",
    "for var in ind_vars:\n",
    "    result = sm.ols(formula=f\"Rating_Number ~ {var}\", \n",
    "                data=df_rating).fit()\n",
    "    \n",
    "    print(result.summary())"
   ]
  },
  {
   "cell_type": "code",
   "execution_count": null,
   "metadata": {},
   "outputs": [],
   "source": []
  }
 ],
 "metadata": {
  "kernelspec": {
   "display_name": "Python 3",
   "language": "python",
   "name": "python3"
  }
 },
 "nbformat": 4,
 "nbformat_minor": 2
}
