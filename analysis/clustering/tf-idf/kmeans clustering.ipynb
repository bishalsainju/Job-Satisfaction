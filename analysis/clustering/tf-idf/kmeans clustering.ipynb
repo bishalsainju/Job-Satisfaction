{
 "cells": [
  {
   "cell_type": "code",
   "execution_count": 46,
   "metadata": {
    "scrolled": true
   },
   "outputs": [
    {
     "data": {
      "text/html": [
       "<div>\n",
       "<style scoped>\n",
       "    .dataframe tbody tr th:only-of-type {\n",
       "        vertical-align: middle;\n",
       "    }\n",
       "\n",
       "    .dataframe tbody tr th {\n",
       "        vertical-align: top;\n",
       "    }\n",
       "\n",
       "    .dataframe thead th {\n",
       "        text-align: right;\n",
       "    }\n",
       "</style>\n",
       "<table border=\"1\" class=\"dataframe\">\n",
       "  <thead>\n",
       "    <tr style=\"text-align: right;\">\n",
       "      <th></th>\n",
       "      <th>Unnamed: 0</th>\n",
       "      <th>Ratings</th>\n",
       "      <th>Job_Status</th>\n",
       "      <th>Reviewed_Year</th>\n",
       "      <th>Review_Text</th>\n",
       "      <th>Px_Texts</th>\n",
       "      <th>Tknz_Texts</th>\n",
       "      <th>Doc_Length</th>\n",
       "      <th>Work_Life</th>\n",
       "      <th>Benefits</th>\n",
       "      <th>Job_Advancement</th>\n",
       "      <th>Management</th>\n",
       "      <th>Culture</th>\n",
       "      <th>Company_Index</th>\n",
       "      <th>Company_Name</th>\n",
       "    </tr>\n",
       "  </thead>\n",
       "  <tbody>\n",
       "    <tr>\n",
       "      <th>0</th>\n",
       "      <td>0</td>\n",
       "      <td>2.0</td>\n",
       "      <td>1</td>\n",
       "      <td>2017</td>\n",
       "      <td>hour lunch, friendly co-workers.</td>\n",
       "      <td>cowork friendli hour lunch friendli_cowork hou...</td>\n",
       "      <td>['cowork', 'friendli', 'hour', 'lunch', 'frien...</td>\n",
       "      <td>9</td>\n",
       "      <td>3.0</td>\n",
       "      <td>2.0</td>\n",
       "      <td>2.0</td>\n",
       "      <td>1.0</td>\n",
       "      <td>3.0</td>\n",
       "      <td>1</td>\n",
       "      <td>Walmart</td>\n",
       "    </tr>\n",
       "    <tr>\n",
       "      <th>1</th>\n",
       "      <td>1</td>\n",
       "      <td>3.0</td>\n",
       "      <td>1</td>\n",
       "      <td>2015</td>\n",
       "      <td>benefits, Medical, dental, myshare, 401k, stocks</td>\n",
       "      <td>benefit dental medic myshar stock</td>\n",
       "      <td>['benefit', 'dental', 'medic', 'myshar', 'stock']</td>\n",
       "      <td>5</td>\n",
       "      <td>3.0</td>\n",
       "      <td>4.0</td>\n",
       "      <td>4.0</td>\n",
       "      <td>3.0</td>\n",
       "      <td>3.0</td>\n",
       "      <td>1</td>\n",
       "      <td>Walmart</td>\n",
       "    </tr>\n",
       "    <tr>\n",
       "      <th>2</th>\n",
       "      <td>2</td>\n",
       "      <td>2.0</td>\n",
       "      <td>0</td>\n",
       "      <td>2012</td>\n",
       "      <td>discount card . schedule 3 on 3 off</td>\n",
       "      <td>card discount schedul discount_card</td>\n",
       "      <td>['card', 'discount', 'schedul', 'discount_card']</td>\n",
       "      <td>4</td>\n",
       "      <td>1.0</td>\n",
       "      <td>4.0</td>\n",
       "      <td>3.0</td>\n",
       "      <td>1.0</td>\n",
       "      <td>3.0</td>\n",
       "      <td>1</td>\n",
       "      <td>Walmart</td>\n",
       "    </tr>\n",
       "    <tr>\n",
       "      <th>3</th>\n",
       "      <td>3</td>\n",
       "      <td>4.0</td>\n",
       "      <td>0</td>\n",
       "      <td>2017</td>\n",
       "      <td>good break lengths and plenty of hours</td>\n",
       "      <td>break hour length plenti plenti_hour</td>\n",
       "      <td>['break', 'hour', 'length', 'plenti', 'plenti_...</td>\n",
       "      <td>5</td>\n",
       "      <td>4.0</td>\n",
       "      <td>3.0</td>\n",
       "      <td>3.0</td>\n",
       "      <td>4.0</td>\n",
       "      <td>4.0</td>\n",
       "      <td>1</td>\n",
       "      <td>Walmart</td>\n",
       "    </tr>\n",
       "    <tr>\n",
       "      <th>4</th>\n",
       "      <td>4</td>\n",
       "      <td>1.0</td>\n",
       "      <td>1</td>\n",
       "      <td>2016</td>\n",
       "      <td>My pay was good and my schedule allowed me to ...</td>\n",
       "      <td>allow job pay schedul pay_schedul</td>\n",
       "      <td>['allow', 'job', 'pay', 'schedul', 'pay_schedul']</td>\n",
       "      <td>5</td>\n",
       "      <td>3.0</td>\n",
       "      <td>3.0</td>\n",
       "      <td>1.0</td>\n",
       "      <td>1.0</td>\n",
       "      <td>1.0</td>\n",
       "      <td>1</td>\n",
       "      <td>Walmart</td>\n",
       "    </tr>\n",
       "    <tr>\n",
       "      <th>5</th>\n",
       "      <td>5</td>\n",
       "      <td>5.0</td>\n",
       "      <td>0</td>\n",
       "      <td>2015</td>\n",
       "      <td>Meeting new people, making new friends</td>\n",
       "      <td>friend meet peopl meet_peopl</td>\n",
       "      <td>['friend', 'meet', 'peopl', 'meet_peopl']</td>\n",
       "      <td>4</td>\n",
       "      <td>5.0</td>\n",
       "      <td>2.0</td>\n",
       "      <td>5.0</td>\n",
       "      <td>3.0</td>\n",
       "      <td>5.0</td>\n",
       "      <td>1</td>\n",
       "      <td>Walmart</td>\n",
       "    </tr>\n",
       "  </tbody>\n",
       "</table>\n",
       "</div>"
      ],
      "text/plain": [
       "   Unnamed: 0  Ratings  Job_Status  Reviewed_Year  \\\n",
       "0           0      2.0           1           2017   \n",
       "1           1      3.0           1           2015   \n",
       "2           2      2.0           0           2012   \n",
       "3           3      4.0           0           2017   \n",
       "4           4      1.0           1           2016   \n",
       "5           5      5.0           0           2015   \n",
       "\n",
       "                                         Review_Text  \\\n",
       "0                   hour lunch, friendly co-workers.   \n",
       "1   benefits, Medical, dental, myshare, 401k, stocks   \n",
       "2                discount card . schedule 3 on 3 off   \n",
       "3             good break lengths and plenty of hours   \n",
       "4  My pay was good and my schedule allowed me to ...   \n",
       "5             Meeting new people, making new friends   \n",
       "\n",
       "                                            Px_Texts  \\\n",
       "0  cowork friendli hour lunch friendli_cowork hou...   \n",
       "1                benefit dental medic myshar stock     \n",
       "2               card discount schedul discount_card    \n",
       "3              break hour length plenti plenti_hour    \n",
       "4                 allow job pay schedul pay_schedul    \n",
       "5                      friend meet peopl meet_peopl    \n",
       "\n",
       "                                          Tknz_Texts  Doc_Length  Work_Life  \\\n",
       "0  ['cowork', 'friendli', 'hour', 'lunch', 'frien...           9        3.0   \n",
       "1  ['benefit', 'dental', 'medic', 'myshar', 'stock']           5        3.0   \n",
       "2   ['card', 'discount', 'schedul', 'discount_card']           4        1.0   \n",
       "3  ['break', 'hour', 'length', 'plenti', 'plenti_...           5        4.0   \n",
       "4  ['allow', 'job', 'pay', 'schedul', 'pay_schedul']           5        3.0   \n",
       "5          ['friend', 'meet', 'peopl', 'meet_peopl']           4        5.0   \n",
       "\n",
       "   Benefits  Job_Advancement  Management  Culture  Company_Index Company_Name  \n",
       "0       2.0              2.0         1.0      3.0              1      Walmart  \n",
       "1       4.0              4.0         3.0      3.0              1      Walmart  \n",
       "2       4.0              3.0         1.0      3.0              1      Walmart  \n",
       "3       3.0              3.0         4.0      4.0              1      Walmart  \n",
       "4       3.0              1.0         1.0      1.0              1      Walmart  \n",
       "5       2.0              5.0         3.0      5.0              1      Walmart  "
      ]
     },
     "metadata": {},
     "output_type": "display_data"
    },
    {
     "name": "stdout",
     "output_type": "stream",
     "text": [
      "(33624, 15)\n"
     ]
    }
   ],
   "source": [
    "import pandas as pd\n",
    "import numpy as np\n",
    "import matplotlib.pyplot as plt\n",
    "\n",
    "procon= \"pro\"\n",
    "proFilePath = f\"~/Desktop/R_js/data/{procon}_doc_sampled.csv\"\n",
    "df = pd.read_csv(proFilePath)\n",
    "display(df.head(6))\n",
    "print(df.shape)"
   ]
  },
  {
   "cell_type": "code",
   "execution_count": 47,
   "metadata": {},
   "outputs": [
    {
     "name": "stdout",
     "output_type": "stream",
     "text": [
      "246608\n",
      "14894\n"
     ]
    }
   ],
   "source": [
    "# Form Corpus\n",
    "corpus = df.Px_Texts.tolist()\n",
    "\n",
    "# Checking total number of unique words in the corpus\n",
    "a = ' '.join(sent for sent in corpus)\n",
    "a = a.split(\" \")\n",
    "print(len(a))\n",
    "a = list(set(a))\n",
    "print(len(a))"
   ]
  },
  {
   "cell_type": "markdown",
   "metadata": {},
   "source": [
    "## Tf-idf Vectorizer"
   ]
  },
  {
   "cell_type": "code",
   "execution_count": 48,
   "metadata": {},
   "outputs": [
    {
     "name": "stdout",
     "output_type": "stream",
     "text": [
      "(33624, 14889)\n"
     ]
    }
   ],
   "source": [
    "# Tfidf Vectorizer\n",
    "from sklearn.feature_extraction.text import TfidfVectorizer\n",
    "vectorizer = TfidfVectorizer()\n",
    "tfidf = vectorizer.fit_transform(corpus)\n",
    "# print(vectorizer.get_feature_names())\n",
    "print(tfidf.shape)"
   ]
  },
  {
   "cell_type": "markdown",
   "metadata": {},
   "source": [
    "# Optimal Number of Clusters"
   ]
  },
  {
   "cell_type": "code",
   "execution_count": 5,
   "metadata": {},
   "outputs": [
    {
     "ename": "KeyboardInterrupt",
     "evalue": "",
     "output_type": "error",
     "traceback": [
      "\u001b[0;31m---------------------------------------------------------------------------\u001b[0m",
      "\u001b[0;31mKeyboardInterrupt\u001b[0m                         Traceback (most recent call last)",
      "\u001b[0;32m<ipython-input-5-3da4fa43c66e>\u001b[0m in \u001b[0;36m<module>\u001b[0;34m\u001b[0m\n\u001b[1;32m      4\u001b[0m \u001b[0;32mfor\u001b[0m \u001b[0mk\u001b[0m \u001b[0;32min\u001b[0m \u001b[0mK\u001b[0m\u001b[0;34m:\u001b[0m\u001b[0;34m\u001b[0m\u001b[0;34m\u001b[0m\u001b[0m\n\u001b[1;32m      5\u001b[0m     \u001b[0mkm\u001b[0m \u001b[0;34m=\u001b[0m \u001b[0mKMeans\u001b[0m\u001b[0;34m(\u001b[0m\u001b[0mn_clusters\u001b[0m\u001b[0;34m=\u001b[0m\u001b[0mk\u001b[0m\u001b[0;34m)\u001b[0m\u001b[0;34m\u001b[0m\u001b[0;34m\u001b[0m\u001b[0m\n\u001b[0;32m----> 6\u001b[0;31m     \u001b[0mkm\u001b[0m \u001b[0;34m=\u001b[0m \u001b[0mkm\u001b[0m\u001b[0;34m.\u001b[0m\u001b[0mfit\u001b[0m\u001b[0;34m(\u001b[0m\u001b[0mtfidf\u001b[0m\u001b[0;34m)\u001b[0m\u001b[0;34m\u001b[0m\u001b[0;34m\u001b[0m\u001b[0m\n\u001b[0m\u001b[1;32m      7\u001b[0m     \u001b[0mssd\u001b[0m\u001b[0;34m.\u001b[0m\u001b[0mappend\u001b[0m\u001b[0;34m(\u001b[0m\u001b[0mkm\u001b[0m\u001b[0;34m.\u001b[0m\u001b[0minertia_\u001b[0m\u001b[0;34m)\u001b[0m\u001b[0;34m\u001b[0m\u001b[0;34m\u001b[0m\u001b[0m\n",
      "\u001b[0;32m/usr/local/lib/python3.7/site-packages/sklearn/cluster/_kmeans.py\u001b[0m in \u001b[0;36mfit\u001b[0;34m(self, X, y, sample_weight)\u001b[0m\n\u001b[1;32m    935\u001b[0m                     \u001b[0mmax_iter\u001b[0m\u001b[0;34m=\u001b[0m\u001b[0mself\u001b[0m\u001b[0;34m.\u001b[0m\u001b[0mmax_iter\u001b[0m\u001b[0;34m,\u001b[0m \u001b[0minit\u001b[0m\u001b[0;34m=\u001b[0m\u001b[0minit\u001b[0m\u001b[0;34m,\u001b[0m \u001b[0mverbose\u001b[0m\u001b[0;34m=\u001b[0m\u001b[0mself\u001b[0m\u001b[0;34m.\u001b[0m\u001b[0mverbose\u001b[0m\u001b[0;34m,\u001b[0m\u001b[0;34m\u001b[0m\u001b[0;34m\u001b[0m\u001b[0m\n\u001b[1;32m    936\u001b[0m                     \u001b[0mprecompute_distances\u001b[0m\u001b[0;34m=\u001b[0m\u001b[0mprecompute_distances\u001b[0m\u001b[0;34m,\u001b[0m \u001b[0mtol\u001b[0m\u001b[0;34m=\u001b[0m\u001b[0mtol\u001b[0m\u001b[0;34m,\u001b[0m\u001b[0;34m\u001b[0m\u001b[0;34m\u001b[0m\u001b[0m\n\u001b[0;32m--> 937\u001b[0;31m                     x_squared_norms=x_squared_norms, random_state=seed)\n\u001b[0m\u001b[1;32m    938\u001b[0m                 \u001b[0;31m# determine if these results are the best so far\u001b[0m\u001b[0;34m\u001b[0m\u001b[0;34m\u001b[0m\u001b[0;34m\u001b[0m\u001b[0m\n\u001b[1;32m    939\u001b[0m                 \u001b[0;32mif\u001b[0m \u001b[0mbest_inertia\u001b[0m \u001b[0;32mis\u001b[0m \u001b[0;32mNone\u001b[0m \u001b[0;32mor\u001b[0m \u001b[0minertia\u001b[0m \u001b[0;34m<\u001b[0m \u001b[0mbest_inertia\u001b[0m\u001b[0;34m:\u001b[0m\u001b[0;34m\u001b[0m\u001b[0;34m\u001b[0m\u001b[0m\n",
      "\u001b[0;32m/usr/local/lib/python3.7/site-packages/sklearn/cluster/_kmeans.py\u001b[0m in \u001b[0;36m_kmeans_single_lloyd\u001b[0;34m(X, sample_weight, n_clusters, max_iter, init, verbose, x_squared_norms, random_state, tol, precompute_distances)\u001b[0m\n\u001b[1;32m    422\u001b[0m             _labels_inertia(X, sample_weight, x_squared_norms, centers,\n\u001b[1;32m    423\u001b[0m                             \u001b[0mprecompute_distances\u001b[0m\u001b[0;34m=\u001b[0m\u001b[0mprecompute_distances\u001b[0m\u001b[0;34m,\u001b[0m\u001b[0;34m\u001b[0m\u001b[0;34m\u001b[0m\u001b[0m\n\u001b[0;32m--> 424\u001b[0;31m                             distances=distances)\n\u001b[0m\u001b[1;32m    425\u001b[0m \u001b[0;34m\u001b[0m\u001b[0m\n\u001b[1;32m    426\u001b[0m         \u001b[0;31m# computation of the means is also called the M-step of EM\u001b[0m\u001b[0;34m\u001b[0m\u001b[0;34m\u001b[0m\u001b[0;34m\u001b[0m\u001b[0m\n",
      "\u001b[0;32m/usr/local/lib/python3.7/site-packages/sklearn/cluster/_kmeans.py\u001b[0m in \u001b[0;36m_labels_inertia\u001b[0;34m(X, sample_weight, x_squared_norms, centers, precompute_distances, distances)\u001b[0m\n\u001b[1;32m    555\u001b[0m         inertia = _k_means._assign_labels_csr(\n\u001b[1;32m    556\u001b[0m             \u001b[0mX\u001b[0m\u001b[0;34m,\u001b[0m \u001b[0msample_weight\u001b[0m\u001b[0;34m,\u001b[0m \u001b[0mx_squared_norms\u001b[0m\u001b[0;34m,\u001b[0m \u001b[0mcenters\u001b[0m\u001b[0;34m,\u001b[0m \u001b[0mlabels\u001b[0m\u001b[0;34m,\u001b[0m\u001b[0;34m\u001b[0m\u001b[0;34m\u001b[0m\u001b[0m\n\u001b[0;32m--> 557\u001b[0;31m             distances=distances)\n\u001b[0m\u001b[1;32m    558\u001b[0m     \u001b[0;32melse\u001b[0m\u001b[0;34m:\u001b[0m\u001b[0;34m\u001b[0m\u001b[0;34m\u001b[0m\u001b[0m\n\u001b[1;32m    559\u001b[0m         \u001b[0;32mif\u001b[0m \u001b[0mprecompute_distances\u001b[0m\u001b[0;34m:\u001b[0m\u001b[0;34m\u001b[0m\u001b[0;34m\u001b[0m\u001b[0m\n",
      "\u001b[0;31mKeyboardInterrupt\u001b[0m: "
     ]
    }
   ],
   "source": [
    "ssd = [] # Sum of Squared distances\n",
    "\n",
    "K = [8, 12, 16, 20]\n",
    "for k in K:\n",
    "    km = KMeans(n_clusters=k)\n",
    "    km = km.fit(tfidf)\n",
    "    ssd.append(km.inertia_)"
   ]
  },
  {
   "cell_type": "code",
   "execution_count": 9,
   "metadata": {},
   "outputs": [
    {
     "data": {
      "image/png": "[encoded data removed]",
      "text/plain": [
       "<Figure size 432x288 with 1 Axes>"
      ]
     },
     "metadata": {
      "needs_background": "light"
     },
     "output_type": "display_data"
    }
   ],
   "source": [
    "plt.plot(K, ssd, 'bx-')\n",
    "plt.xlabel('k')\n",
    "plt.ylabel('Sum_of_squared_distances')\n",
    "plt.title('Elbow Method For Optimal k')\n",
    "plt.show()\n"
   ]
  },
  {
   "cell_type": "markdown",
   "metadata": {},
   "source": [
    "\n",
    "# Train Model"
   ]
  },
  {
   "cell_type": "code",
   "execution_count": 58,
   "metadata": {},
   "outputs": [],
   "source": [
    "from sklearn.cluster import KMeans\n",
    "\n",
    "num_cluster = 20\n",
    "kmeans = KMeans(n_clusters=num_cluster).fit(tfidf)"
   ]
  },
  {
   "cell_type": "markdown",
   "metadata": {},
   "source": [
    "## Load K-means cluster from here"
   ]
  },
  {
   "cell_type": "code",
   "execution_count": 60,
   "metadata": {},
   "outputs": [],
   "source": [
    "from sklearn.externals import joblib\n",
    "import os\n",
    "\n",
    "# root = os.path.expanduser(\"~\")\n",
    "# model_path = root + \"/Desktop/workspace/indeed/Job-Satisfaction/data/models/cluster/\"\n",
    "# joblib.dump(kmeans, model_path + \"kmeans.pkl\")\n",
    "\n",
    "# kmeans = joblib.load(model_path + \"kmeans.pkl\")\n",
    "clusters = [i+1 for i in kmeans.labels_.tolist()]\n",
    "# display(clusters)"
   ]
  },
  {
   "cell_type": "code",
   "execution_count": 61,
   "metadata": {},
   "outputs": [
    {
     "data": {
      "text/html": [
       "<div>\n",
       "<style scoped>\n",
       "    .dataframe tbody tr th:only-of-type {\n",
       "        vertical-align: middle;\n",
       "    }\n",
       "\n",
       "    .dataframe tbody tr th {\n",
       "        vertical-align: top;\n",
       "    }\n",
       "\n",
       "    .dataframe thead th {\n",
       "        text-align: right;\n",
       "    }\n",
       "</style>\n",
       "<table border=\"1\" class=\"dataframe\">\n",
       "  <thead>\n",
       "    <tr style=\"text-align: right;\">\n",
       "      <th></th>\n",
       "      <th>Unnamed: 0</th>\n",
       "      <th>Ratings</th>\n",
       "      <th>Job_Status</th>\n",
       "      <th>Reviewed_Year</th>\n",
       "      <th>Review_Text</th>\n",
       "      <th>Px_Texts</th>\n",
       "      <th>Tknz_Texts</th>\n",
       "      <th>Doc_Length</th>\n",
       "      <th>Work_Life</th>\n",
       "      <th>Benefits</th>\n",
       "      <th>Job_Advancement</th>\n",
       "      <th>Management</th>\n",
       "      <th>Culture</th>\n",
       "      <th>Company_Index</th>\n",
       "      <th>Company_Name</th>\n",
       "      <th>Cluster</th>\n",
       "    </tr>\n",
       "  </thead>\n",
       "  <tbody>\n",
       "    <tr>\n",
       "      <th>0</th>\n",
       "      <td>0</td>\n",
       "      <td>2.0</td>\n",
       "      <td>1</td>\n",
       "      <td>2017</td>\n",
       "      <td>hour lunch, friendly co-workers.</td>\n",
       "      <td>cowork friendli hour lunch friendli_cowork hou...</td>\n",
       "      <td>['cowork', 'friendli', 'hour', 'lunch', 'frien...</td>\n",
       "      <td>9</td>\n",
       "      <td>3.0</td>\n",
       "      <td>2.0</td>\n",
       "      <td>2.0</td>\n",
       "      <td>1.0</td>\n",
       "      <td>3.0</td>\n",
       "      <td>1</td>\n",
       "      <td>Walmart</td>\n",
       "      <td>13</td>\n",
       "    </tr>\n",
       "    <tr>\n",
       "      <th>1</th>\n",
       "      <td>1</td>\n",
       "      <td>3.0</td>\n",
       "      <td>1</td>\n",
       "      <td>2015</td>\n",
       "      <td>benefits, Medical, dental, myshare, 401k, stocks</td>\n",
       "      <td>benefit dental medic myshar stock</td>\n",
       "      <td>['benefit', 'dental', 'medic', 'myshar', 'stock']</td>\n",
       "      <td>5</td>\n",
       "      <td>3.0</td>\n",
       "      <td>4.0</td>\n",
       "      <td>4.0</td>\n",
       "      <td>3.0</td>\n",
       "      <td>3.0</td>\n",
       "      <td>1</td>\n",
       "      <td>Walmart</td>\n",
       "      <td>1</td>\n",
       "    </tr>\n",
       "    <tr>\n",
       "      <th>2</th>\n",
       "      <td>2</td>\n",
       "      <td>2.0</td>\n",
       "      <td>0</td>\n",
       "      <td>2012</td>\n",
       "      <td>discount card . schedule 3 on 3 off</td>\n",
       "      <td>card discount schedul discount_card</td>\n",
       "      <td>['card', 'discount', 'schedul', 'discount_card']</td>\n",
       "      <td>4</td>\n",
       "      <td>1.0</td>\n",
       "      <td>4.0</td>\n",
       "      <td>3.0</td>\n",
       "      <td>1.0</td>\n",
       "      <td>3.0</td>\n",
       "      <td>1</td>\n",
       "      <td>Walmart</td>\n",
       "      <td>1</td>\n",
       "    </tr>\n",
       "    <tr>\n",
       "      <th>3</th>\n",
       "      <td>3</td>\n",
       "      <td>4.0</td>\n",
       "      <td>0</td>\n",
       "      <td>2017</td>\n",
       "      <td>good break lengths and plenty of hours</td>\n",
       "      <td>break hour length plenti plenti_hour</td>\n",
       "      <td>['break', 'hour', 'length', 'plenti', 'plenti_...</td>\n",
       "      <td>5</td>\n",
       "      <td>4.0</td>\n",
       "      <td>3.0</td>\n",
       "      <td>3.0</td>\n",
       "      <td>4.0</td>\n",
       "      <td>4.0</td>\n",
       "      <td>1</td>\n",
       "      <td>Walmart</td>\n",
       "      <td>1</td>\n",
       "    </tr>\n",
       "    <tr>\n",
       "      <th>4</th>\n",
       "      <td>4</td>\n",
       "      <td>1.0</td>\n",
       "      <td>1</td>\n",
       "      <td>2016</td>\n",
       "      <td>My pay was good and my schedule allowed me to ...</td>\n",
       "      <td>allow job pay schedul pay_schedul</td>\n",
       "      <td>['allow', 'job', 'pay', 'schedul', 'pay_schedul']</td>\n",
       "      <td>5</td>\n",
       "      <td>3.0</td>\n",
       "      <td>3.0</td>\n",
       "      <td>1.0</td>\n",
       "      <td>1.0</td>\n",
       "      <td>1.0</td>\n",
       "      <td>1</td>\n",
       "      <td>Walmart</td>\n",
       "      <td>3</td>\n",
       "    </tr>\n",
       "  </tbody>\n",
       "</table>\n",
       "</div>"
      ],
      "text/plain": [
       "   Unnamed: 0  Ratings  Job_Status  Reviewed_Year  \\\n",
       "0           0      2.0           1           2017   \n",
       "1           1      3.0           1           2015   \n",
       "2           2      2.0           0           2012   \n",
       "3           3      4.0           0           2017   \n",
       "4           4      1.0           1           2016   \n",
       "\n",
       "                                         Review_Text  \\\n",
       "0                   hour lunch, friendly co-workers.   \n",
       "1   benefits, Medical, dental, myshare, 401k, stocks   \n",
       "2                discount card . schedule 3 on 3 off   \n",
       "3             good break lengths and plenty of hours   \n",
       "4  My pay was good and my schedule allowed me to ...   \n",
       "\n",
       "                                            Px_Texts  \\\n",
       "0  cowork friendli hour lunch friendli_cowork hou...   \n",
       "1                benefit dental medic myshar stock     \n",
       "2               card discount schedul discount_card    \n",
       "3              break hour length plenti plenti_hour    \n",
       "4                 allow job pay schedul pay_schedul    \n",
       "\n",
       "                                          Tknz_Texts  Doc_Length  Work_Life  \\\n",
       "0  ['cowork', 'friendli', 'hour', 'lunch', 'frien...           9        3.0   \n",
       "1  ['benefit', 'dental', 'medic', 'myshar', 'stock']           5        3.0   \n",
       "2   ['card', 'discount', 'schedul', 'discount_card']           4        1.0   \n",
       "3  ['break', 'hour', 'length', 'plenti', 'plenti_...           5        4.0   \n",
       "4  ['allow', 'job', 'pay', 'schedul', 'pay_schedul']           5        3.0   \n",
       "\n",
       "   Benefits  Job_Advancement  Management  Culture  Company_Index Company_Name  \\\n",
       "0       2.0              2.0         1.0      3.0              1      Walmart   \n",
       "1       4.0              4.0         3.0      3.0              1      Walmart   \n",
       "2       4.0              3.0         1.0      3.0              1      Walmart   \n",
       "3       3.0              3.0         4.0      4.0              1      Walmart   \n",
       "4       3.0              1.0         1.0      1.0              1      Walmart   \n",
       "\n",
       "   Cluster  \n",
       "0       13  \n",
       "1        1  \n",
       "2        1  \n",
       "3        1  \n",
       "4        3  "
      ]
     },
     "execution_count": 61,
     "metadata": {},
     "output_type": "execute_result"
    }
   ],
   "source": [
    "df[\"Cluster\"] = clusters\n",
    "df.head()"
   ]
  },
  {
   "cell_type": "code",
   "execution_count": 62,
   "metadata": {},
   "outputs": [
    {
     "name": "stdout",
     "output_type": "stream",
     "text": [
      "K-Means Clustering\n",
      "Topic Proportion (pro/20 topics): \n"
     ]
    },
    {
     "data": {
      "text/plain": [
       "1     40.726862\n",
       "3      6.873067\n",
       "19     5.513919\n",
       "6      4.722817\n",
       "13     4.238044\n",
       "15     4.202355\n",
       "9      3.759220\n",
       "8      3.690816\n",
       "11     3.378539\n",
       "12     3.015703\n",
       "2      2.914585\n",
       "17     2.905663\n",
       "16     2.560671\n",
       "20     2.417916\n",
       "10     1.873662\n",
       "5      1.778492\n",
       "14     1.662503\n",
       "7      1.311563\n",
       "18     1.299667\n",
       "4      1.153938\n",
       "Name: Cluster, dtype: float64"
      ]
     },
     "execution_count": 62,
     "metadata": {},
     "output_type": "execute_result"
    }
   ],
   "source": [
    "print(\"K-Means Clustering\")\n",
    "print(f\"Topic Proportion ({procon}/{num_cluster} topics): \")\n",
    "df.Cluster.value_counts() * 100 / df.shape[0]"
   ]
  },
  {
   "cell_type": "code",
   "execution_count": 63,
   "metadata": {},
   "outputs": [],
   "source": [
    "# vocab = vectorizer.vocabulary_\n",
    "# inv_vocab = {v: k for k, v in vocab.items()}\n",
    "# print(inv_vocab)"
   ]
  },
  {
   "cell_type": "code",
   "execution_count": 64,
   "metadata": {},
   "outputs": [],
   "source": [
    "# print(inv_vocab[0])"
   ]
  },
  {
   "cell_type": "code",
   "execution_count": 65,
   "metadata": {},
   "outputs": [
    {
     "name": "stdout",
     "output_type": "stream",
     "text": [
      "050_cent_hour\n"
     ]
    }
   ],
   "source": [
    "feat_name = vectorizer.get_feature_names()\n",
    "print(vectorizer.get_feature_names()[0])"
   ]
  },
  {
   "cell_type": "code",
   "execution_count": 66,
   "metadata": {},
   "outputs": [
    {
     "name": "stdout",
     "output_type": "stream",
     "text": [
      "K-Means Clustering\n",
      "Top terms per cluster (pro/20 topics): \n",
      "\n",
      "Cluster 1: \n",
      "benefit, free, peopl, environ, manag, discount, food, team, custom, train\n",
      "\n",
      "Cluster 2: \n",
      "balanc, worklif_balanc, worklif, life_balanc, life, benefit, benefit_life_balanc, benefit_life, balanc_benefit, benefit_worklif_balanc\n",
      "\n",
      "Cluster 3: \n",
      "pay, benefit_pay, benefit, hour, peopl, competit, manag, time, rate, competit_pay\n",
      "\n",
      "Cluster 4: \n",
      "co_worker, co, worker, friendli, friendli_co_worker, nice, friendli_co, benefit, benefit_co_worker, pay\n",
      "\n",
      "Cluster 5: \n",
      "decent, decent_pay, pay, benefit, decent_pay_benefit, benefit_decent, decent_benefit, pay_decent, pay_benefit, benefit_decent_pay\n",
      "\n",
      "Cluster 6: \n",
      "free_lunch, lunch, free, sometim, free_lunch_sometim, lunch_sometim, occasion, time, occasion_free_lunch, holiday\n",
      "\n",
      "Cluster 7: \n",
      "atmospher, friendli_atmospher, friendli, fun_atmospher, fun, relax, team, famili, benefit, relax_atmospher\n",
      "\n",
      "Cluster 8: \n",
      "opportun, advanc, opportun_advanc, advanc_opportun, growth, career, benefit, career_advanc, lot, benefit_opportun\n",
      "\n",
      "Cluster 9: \n",
      "flexibl, flexibl_schedul, schedul, flexibl_hour, hour, benefit_flexibl, benefit, home, benefit_flexibl_schedul, pay\n",
      "\n",
      "Cluster 10: \n",
      "cafeteria, gym, onsit, site, free, onsit_gym, free_gym, cafe, cafeteria_site, food\n",
      "\n",
      "Cluster 11: \n",
      "learn, lot, learn_lot, opportun, skill, opportun_learn, learn_experi, experi, learn_opportun, differ\n",
      "\n",
      "Cluster 12: \n",
      "health, health_care, care, health_benefit, health_insur, insur, benefit, health_care_benefit, care_benefit, pay\n",
      "\n",
      "Cluster 13: \n",
      "cowork, friendli, environ, friendli_environ, manag, friendli_cowork, benefit, cowork_manag, custom, nice\n",
      "\n",
      "Cluster 14: \n",
      "meet, meet_peopl, peopl, differ, meet_lot, lot, lot_peopl, custom, meet_lot_peopl, everyday\n",
      "\n",
      "Cluster 15: \n",
      "employe, employe_discount, discount, benefit, appreci, employe_appreci, employe_benefit, benefit_employe, manag, care_employe\n",
      "\n",
      "Cluster 16: \n",
      "hour_lunch, lunch, hour, break, lunch_break, 1_hour_lunch, hour_lunch_break, minut, break_lunch, minut_break\n",
      "\n",
      "Cluster 17: \n",
      "pay_benefit, pay, benefit, excel_pay_benefit, excel_pay, excel, pay_benefit_peopl, benefit_peopl, peopl, competit_pay\n",
      "\n",
      "Cluster 18: \n",
      "fast_pace, pace, fast, fast_pace_environ, pace_environ, environ, fun, busi, friendli, benefit\n",
      "\n",
      "Cluster 19: \n",
      "time, paid, vacat, paid_time, vacat_time, benefit, paid_vacat, holiday, sick, day\n",
      "\n",
      "Cluster 20: \n",
      "excel, excel_benefit, benefit, pay, excel_pay, packag, pay_excel, benefit_excel, manag, benefit_packag\n",
      "\n"
     ]
    }
   ],
   "source": [
    "print(\"K-Means Clustering\")\n",
    "print(f\"Top terms per cluster ({procon}/{num_cluster} topics): \")\n",
    "print()\n",
    "\n",
    "\n",
    "order_centroids = kmeans.cluster_centers_.argsort()[:, ::-1]\n",
    "# print(len(order_centroids))\n",
    "# print((order_centroids))\n",
    "\n",
    "topics = {}\n",
    "for i in range(num_cluster): \n",
    "    print(f\"Cluster {i+1}: \")\n",
    "    words = [] \n",
    "    for ind in order_centroids[i, :10] :\n",
    "        words.append(feat_name[ind])\n",
    "    \n",
    "    topics[i] = \" \".join(words)\n",
    "    print(\", \".join(words))\n",
    "    print()\n",
    "    \n",
    "# print(topics)"
   ]
  },
  {
   "cell_type": "code",
   "execution_count": 16,
   "metadata": {},
   "outputs": [
    {
     "data": {
      "text/html": [
       "<div>\n",
       "<style scoped>\n",
       "    .dataframe tbody tr th:only-of-type {\n",
       "        vertical-align: middle;\n",
       "    }\n",
       "\n",
       "    .dataframe tbody tr th {\n",
       "        vertical-align: top;\n",
       "    }\n",
       "\n",
       "    .dataframe thead th {\n",
       "        text-align: right;\n",
       "    }\n",
       "</style>\n",
       "<table border=\"1\" class=\"dataframe\">\n",
       "  <thead>\n",
       "    <tr style=\"text-align: right;\">\n",
       "      <th></th>\n",
       "      <th>Unnamed: 0</th>\n",
       "      <th>Ratings</th>\n",
       "      <th>Job_Status</th>\n",
       "      <th>Reviewed_Year</th>\n",
       "      <th>Review_Text</th>\n",
       "      <th>Px_Texts</th>\n",
       "      <th>Tknz_Texts</th>\n",
       "      <th>Doc_Length</th>\n",
       "      <th>Work_Life</th>\n",
       "      <th>Benefits</th>\n",
       "      <th>Job_Advancement</th>\n",
       "      <th>Management</th>\n",
       "      <th>Culture</th>\n",
       "      <th>Company_Index</th>\n",
       "      <th>Company_Name</th>\n",
       "      <th>Cluster</th>\n",
       "      <th>Topic_Words</th>\n",
       "    </tr>\n",
       "  </thead>\n",
       "  <tbody>\n",
       "    <tr>\n",
       "      <th>0</th>\n",
       "      <td>0</td>\n",
       "      <td>1.0</td>\n",
       "      <td>0</td>\n",
       "      <td>2019</td>\n",
       "      <td>Management, communication, workforce, and clea...</td>\n",
       "      <td>clean commun manag manag_commun</td>\n",
       "      <td>['clean', 'commun', 'manag', 'manag_commun']</td>\n",
       "      <td>4</td>\n",
       "      <td>1.0</td>\n",
       "      <td>1.0</td>\n",
       "      <td>1.0</td>\n",
       "      <td>1.0</td>\n",
       "      <td>1.0</td>\n",
       "      <td>1</td>\n",
       "      <td>Walmart</td>\n",
       "      <td>9</td>\n",
       "      <td>manag upper upper_manag lack commun employe mi...</td>\n",
       "    </tr>\n",
       "    <tr>\n",
       "      <th>1</th>\n",
       "      <td>1</td>\n",
       "      <td>1.0</td>\n",
       "      <td>1</td>\n",
       "      <td>2014</td>\n",
       "      <td>ovebearing managers lack of staffing poor wages</td>\n",
       "      <td>lack manag poor staf wage manag_lack</td>\n",
       "      <td>['lack', 'manag', 'poor', 'staf', 'wage', 'man...</td>\n",
       "      <td>6</td>\n",
       "      <td>3.0</td>\n",
       "      <td>1.0</td>\n",
       "      <td>1.0</td>\n",
       "      <td>1.0</td>\n",
       "      <td>3.0</td>\n",
       "      <td>1</td>\n",
       "      <td>Walmart</td>\n",
       "      <td>10</td>\n",
       "      <td>poor_manag poor manag manag_poor poor_manag_po...</td>\n",
       "    </tr>\n",
       "    <tr>\n",
       "      <th>2</th>\n",
       "      <td>2</td>\n",
       "      <td>5.0</td>\n",
       "      <td>0</td>\n",
       "      <td>2015</td>\n",
       "      <td>Benefits, associate pay, and lack of help duri...</td>\n",
       "      <td>associ benefit help holiday lack pay lack_help...</td>\n",
       "      <td>['associ', 'benefit', 'help', 'holiday', 'lack...</td>\n",
       "      <td>8</td>\n",
       "      <td>5.0</td>\n",
       "      <td>5.0</td>\n",
       "      <td>5.0</td>\n",
       "      <td>5.0</td>\n",
       "      <td>5.0</td>\n",
       "      <td>1</td>\n",
       "      <td>Walmart</td>\n",
       "      <td>13</td>\n",
       "      <td>benefit chang constant health constant_chang m...</td>\n",
       "    </tr>\n",
       "    <tr>\n",
       "      <th>3</th>\n",
       "      <td>3</td>\n",
       "      <td>5.0</td>\n",
       "      <td>0</td>\n",
       "      <td>2018</td>\n",
       "      <td>had to waste our breaks waiting in line to pur...</td>\n",
       "      <td>break food item line wait wast</td>\n",
       "      <td>['break', 'food', 'item', 'line', 'wait', 'wast']</td>\n",
       "      <td>6</td>\n",
       "      <td>5.0</td>\n",
       "      <td>5.0</td>\n",
       "      <td>5.0</td>\n",
       "      <td>5.0</td>\n",
       "      <td>5.0</td>\n",
       "      <td>1</td>\n",
       "      <td>Walmart</td>\n",
       "      <td>5</td>\n",
       "      <td>employe pay custom lack peopl lot care health ...</td>\n",
       "    </tr>\n",
       "    <tr>\n",
       "      <th>4</th>\n",
       "      <td>4</td>\n",
       "      <td>5.0</td>\n",
       "      <td>0</td>\n",
       "      <td>2019</td>\n",
       "      <td>Short breaks, and get stationed in different d...</td>\n",
       "      <td>break depart differ short store time differ_de...</td>\n",
       "      <td>['break', 'depart', 'differ', 'short', 'store'...</td>\n",
       "      <td>8</td>\n",
       "      <td>5.0</td>\n",
       "      <td>5.0</td>\n",
       "      <td>5.0</td>\n",
       "      <td>3.0</td>\n",
       "      <td>4.0</td>\n",
       "      <td>1</td>\n",
       "      <td>Walmart</td>\n",
       "      <td>19</td>\n",
       "      <td>short_break short break short_break_hour hour ...</td>\n",
       "    </tr>\n",
       "  </tbody>\n",
       "</table>\n",
       "</div>"
      ],
      "text/plain": [
       "   Unnamed: 0  Ratings  Job_Status  Reviewed_Year  \\\n",
       "0           0      1.0           0           2019   \n",
       "1           1      1.0           1           2014   \n",
       "2           2      5.0           0           2015   \n",
       "3           3      5.0           0           2018   \n",
       "4           4      5.0           0           2019   \n",
       "\n",
       "                                         Review_Text  \\\n",
       "0  Management, communication, workforce, and clea...   \n",
       "1    ovebearing managers lack of staffing poor wages   \n",
       "2  Benefits, associate pay, and lack of help duri...   \n",
       "3  had to waste our breaks waiting in line to pur...   \n",
       "4  Short breaks, and get stationed in different d...   \n",
       "\n",
       "                                            Px_Texts  \\\n",
       "0                   clean commun manag manag_commun    \n",
       "1              lack manag poor staf wage manag_lack    \n",
       "2  associ benefit help holiday lack pay lack_help...   \n",
       "3                   break food item line wait wast     \n",
       "4  break depart differ short store time differ_de...   \n",
       "\n",
       "                                          Tknz_Texts  Doc_Length  Work_Life  \\\n",
       "0       ['clean', 'commun', 'manag', 'manag_commun']           4        1.0   \n",
       "1  ['lack', 'manag', 'poor', 'staf', 'wage', 'man...           6        3.0   \n",
       "2  ['associ', 'benefit', 'help', 'holiday', 'lack...           8        5.0   \n",
       "3  ['break', 'food', 'item', 'line', 'wait', 'wast']           6        5.0   \n",
       "4  ['break', 'depart', 'differ', 'short', 'store'...           8        5.0   \n",
       "\n",
       "   Benefits  Job_Advancement  Management  Culture  Company_Index Company_Name  \\\n",
       "0       1.0              1.0         1.0      1.0              1      Walmart   \n",
       "1       1.0              1.0         1.0      3.0              1      Walmart   \n",
       "2       5.0              5.0         5.0      5.0              1      Walmart   \n",
       "3       5.0              5.0         5.0      5.0              1      Walmart   \n",
       "4       5.0              5.0         3.0      4.0              1      Walmart   \n",
       "\n",
       "   Cluster                                        Topic_Words  \n",
       "0        9  manag upper upper_manag lack commun employe mi...  \n",
       "1       10  poor_manag poor manag manag_poor poor_manag_po...  \n",
       "2       13  benefit chang constant health constant_chang m...  \n",
       "3        5  employe pay custom lack peopl lot care health ...  \n",
       "4       19  short_break short break short_break_hour hour ...  "
      ]
     },
     "metadata": {},
     "output_type": "display_data"
    },
    {
     "name": "stdout",
     "output_type": "stream",
     "text": [
      "0\n"
     ]
    }
   ],
   "source": [
    "for i in range(num_cluster): \n",
    "    df.loc[df.Cluster == i, \"Topic_Words\"] = topics[i]\n",
    "\n",
    "display(df.head())\n",
    "print(df.Topic_Words.isna().sum())"
   ]
  },
  {
   "cell_type": "markdown",
   "metadata": {},
   "source": [
    "## Dissimilarity Measure between Documents"
   ]
  },
  {
   "cell_type": "code",
   "execution_count": 17,
   "metadata": {},
   "outputs": [
    {
     "name": "stdout",
     "output_type": "stream",
     "text": [
      "[[ 0.00000000e+00  9.54975604e-01  1.00000000e+00 ...  9.57173627e-01\n",
      "   1.00000000e+00  1.00000000e+00]\n",
      " [ 9.54975604e-01 -2.22044605e-16  9.26377332e-01 ...  9.56928893e-01\n",
      "   1.00000000e+00  1.00000000e+00]\n",
      " [ 1.00000000e+00  9.26377332e-01  0.00000000e+00 ...  9.48041837e-01\n",
      "   1.00000000e+00  1.00000000e+00]\n",
      " ...\n",
      " [ 9.57173627e-01  9.56928893e-01  9.48041837e-01 ... -2.22044605e-16\n",
      "   1.00000000e+00  1.00000000e+00]\n",
      " [ 1.00000000e+00  1.00000000e+00  1.00000000e+00 ...  1.00000000e+00\n",
      "  -2.22044605e-16  1.00000000e+00]\n",
      " [ 1.00000000e+00  1.00000000e+00  1.00000000e+00 ...  1.00000000e+00\n",
      "   1.00000000e+00 -2.22044605e-16]]\n"
     ]
    }
   ],
   "source": [
    "from sklearn.metrics.pairwise import cosine_similarity\n",
    "dist = 1 - cosine_similarity(tfidf)\n",
    "\n",
    "print(dist)"
   ]
  },
  {
   "cell_type": "code",
   "execution_count": 18,
   "metadata": {},
   "outputs": [
    {
     "name": "stdout",
     "output_type": "stream",
     "text": [
      "32988\n",
      "32988\n"
     ]
    }
   ],
   "source": [
    "print(len(dist[0]))\n",
    "print(len(dist))"
   ]
  },
  {
   "cell_type": "code",
   "execution_count": 19,
   "metadata": {
    "scrolled": true
   },
   "outputs": [
    {
     "name": "stdout",
     "output_type": "stream",
     "text": [
      "[[0.         0.         0.         ... 0.         0.         0.        ]\n",
      " [0.         0.         0.         ... 0.         0.         0.        ]\n",
      " [0.         0.         0.         ... 0.         0.         0.        ]\n",
      " ...\n",
      " [0.         0.         0.00717054 ... 0.         0.         0.        ]\n",
      " [0.         0.         0.         ... 0.         0.         0.        ]\n",
      " [0.         0.         0.         ... 0.         0.         0.        ]]\n",
      "<bound method KMeans.score of KMeans(algorithm='auto', copy_x=True, init='k-means++', max_iter=300,\n",
      "       n_clusters=20, n_init=10, n_jobs=None, precompute_distances='auto',\n",
      "       random_state=None, tol=0.0001, verbose=0)>\n"
     ]
    }
   ],
   "source": [
    "top_dist = kmeans.cluster_centers_\n",
    "print(top_dist)\n",
    "\n",
    "print(kmeans.score)"
   ]
  },
  {
   "cell_type": "markdown",
   "metadata": {},
   "source": [
    "## Dimensionality Reduction"
   ]
  },
  {
   "cell_type": "code",
   "execution_count": null,
   "metadata": {},
   "outputs": [
    {
     "name": "stdout",
     "output_type": "stream",
     "text": [
      "[t-SNE] Computing 91 nearest neighbors...\n",
      "[t-SNE] Indexed 32988 samples in 74.551s...\n"
     ]
    }
   ],
   "source": [
    "# Clustering\n",
    "from sklearn.manifold import TSNE\n",
    "# tsne = TSNE(n_components=2)\n",
    "tsne = TSNE(n_components=2, verbose=1, random_state=0, angle=.99, init='pca')\n",
    "X_tsne = tsne.fit_transform(tfidf.toarray())"
   ]
  },
  {
   "cell_type": "code",
   "execution_count": null,
   "metadata": {},
   "outputs": [],
   "source": [
    "# Generate random colors\n",
    "\n",
    "import random\n",
    "get_colors = lambda n: list(map(lambda i: \"#\" + \"%06x\" % random.randint(0, 0xFFFFFF),range(n)))\n",
    "colormap = np.asarray(get_colors(num_topics)) \n",
    "print(colormap)"
   ]
  },
  {
   "cell_type": "code",
   "execution_count": null,
   "metadata": {},
   "outputs": [],
   "source": [
    "df_cluster = pd.DataFrame()\n",
    "df_cluster['X_tsne'] = X_tsne[:, 0]\n",
    "df_cluster['Y_tsne'] = X_tsne[:, 1]\n",
    "df_cluster['Topic_Num'] = df.Cluster.tolist()\n",
    "df_cluster['Topic_Label'] = df.Topic_Words.tolist()\n",
    "df_cluster['Document'] = df.Review_Text.tolist()\n",
    "\n",
    "cluster_colors = dict()\n",
    "for c in range(num_topics): \n",
    "    cluster_colors[c] = colormap[c]\n",
    "    \n",
    "df_cluster['Colors'] = df_cluster['Topic_Num'].apply(lambda l: cluster_colors[l])\n",
    "df_cluster.sort_values(by=['Topic_Num'], inplace=True)\n",
    "\n",
    "display(df_cluster.head())"
   ]
  },
  {
   "cell_type": "code",
   "execution_count": null,
   "metadata": {},
   "outputs": [],
   "source": []
  }
 ],
 "metadata": {
  "kernelspec": {
   "display_name": "Python 3",
   "language": "python",
   "name": "python3"
  },
  "language_info": {
   "codemirror_mode": {
    "name": "ipython",
    "version": 3
   },
   "file_extension": ".py",
   "mimetype": "text/x-python",
   "name": "python",
   "nbconvert_exporter": "python",
   "pygments_lexer": "ipython3",
   "version": "3.7.6"
  }
 },
 "nbformat": 4,
 "nbformat_minor": 2
}
