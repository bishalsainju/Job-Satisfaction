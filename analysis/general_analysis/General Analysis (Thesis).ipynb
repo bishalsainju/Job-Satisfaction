{
 "cells": [
  {
   "cell_type": "code",
   "execution_count": 1,
   "metadata": {},
   "outputs": [],
   "source": [
    "import numpy as np\n",
    "import pandas as pd\n",
    "\n",
    "import warnings\n",
    "warnings.filterwarnings(\"ignore\",category=DeprecationWarning)\n",
    "\n",
    "\n",
    "import os\n",
    "root = os.path.expanduser('~')\n",
    "data_path = root + '/Desktop/workspace/indeed/Job-Satisfaction/data'"
   ]
  },
  {
   "cell_type": "code",
   "execution_count": 3,
   "metadata": {},
   "outputs": [
    {
     "data": {
      "text/html": [
       "<div>\n",
       "<style scoped>\n",
       "    .dataframe tbody tr th:only-of-type {\n",
       "        vertical-align: middle;\n",
       "    }\n",
       "\n",
       "    .dataframe tbody tr th {\n",
       "        vertical-align: top;\n",
       "    }\n",
       "\n",
       "    .dataframe thead th {\n",
       "        text-align: right;\n",
       "    }\n",
       "</style>\n",
       "<table border=\"1\" class=\"dataframe\">\n",
       "  <thead>\n",
       "    <tr style=\"text-align: right;\">\n",
       "      <th></th>\n",
       "      <th>Unnamed: 0</th>\n",
       "      <th>Review_Text</th>\n",
       "      <th>Unigrams</th>\n",
       "      <th>Bigrams</th>\n",
       "      <th>Trigrams</th>\n",
       "    </tr>\n",
       "  </thead>\n",
       "  <tbody>\n",
       "    <tr>\n",
       "      <th>0</th>\n",
       "      <td>0</td>\n",
       "      <td>Good pay</td>\n",
       "      <td>pay</td>\n",
       "      <td>NaN</td>\n",
       "      <td>NaN</td>\n",
       "    </tr>\n",
       "    <tr>\n",
       "      <th>1</th>\n",
       "      <td>1</td>\n",
       "      <td>The only good part for me was it was close to ...</td>\n",
       "      <td>close hous</td>\n",
       "      <td>NaN</td>\n",
       "      <td>NaN</td>\n",
       "    </tr>\n",
       "    <tr>\n",
       "      <th>2</th>\n",
       "      <td>2</td>\n",
       "      <td>All ways an relxing work evironment.</td>\n",
       "      <td>NaN</td>\n",
       "      <td>NaN</td>\n",
       "      <td>NaN</td>\n",
       "    </tr>\n",
       "    <tr>\n",
       "      <th>3</th>\n",
       "      <td>3</td>\n",
       "      <td>Flexible scheduling around your life and your ...</td>\n",
       "      <td>cowork flexibl life schedul</td>\n",
       "      <td>flexibl_schedul</td>\n",
       "      <td>NaN</td>\n",
       "    </tr>\n",
       "    <tr>\n",
       "      <th>4</th>\n",
       "      <td>4</td>\n",
       "      <td>Benefits</td>\n",
       "      <td>benefit</td>\n",
       "      <td>NaN</td>\n",
       "      <td>NaN</td>\n",
       "    </tr>\n",
       "  </tbody>\n",
       "</table>\n",
       "</div>"
      ],
      "text/plain": [
       "   Unnamed: 0                                        Review_Text  \\\n",
       "0           0                                           Good pay   \n",
       "1           1  The only good part for me was it was close to ...   \n",
       "2           2               All ways an relxing work evironment.   \n",
       "3           3  Flexible scheduling around your life and your ...   \n",
       "4           4                                           Benefits   \n",
       "\n",
       "                      Unigrams          Bigrams Trigrams  \n",
       "0                          pay              NaN      NaN  \n",
       "1                   close hous              NaN      NaN  \n",
       "2                          NaN              NaN      NaN  \n",
       "3  cowork flexibl life schedul  flexibl_schedul      NaN  \n",
       "4                      benefit              NaN      NaN  "
      ]
     },
     "execution_count": 3,
     "metadata": {},
     "output_type": "execute_result"
    }
   ],
   "source": [
    "pros = pd.read_csv(data_path+f'/companies/1_Walmart/output_data/px_data/pros.csv')\n",
    "pros.head()"
   ]
  },
  {
   "cell_type": "code",
   "execution_count": 2,
   "metadata": {},
   "outputs": [
    {
     "name": "stdout",
     "output_type": "stream",
     "text": [
      "(41709, 17)\n"
     ]
    },
    {
     "name": "stderr",
     "output_type": "stream",
     "text": [
      "/anaconda3/lib/python3.7/site-packages/ipykernel_launcher.py:7: FutureWarning: Sorting because non-concatenation axis is not aligned. A future version\n",
      "of pandas will change to not sort by default.\n",
      "\n",
      "To accept the future behavior, pass 'sort=False'.\n",
      "\n",
      "To retain the current behavior and silence the warning, pass 'sort=True'.\n",
      "\n",
      "  import sys\n"
     ]
    },
    {
     "name": "stdout",
     "output_type": "stream",
     "text": [
      "(682176, 18)\n"
     ]
    }
   ],
   "source": [
    "def merge_data(company_list=[5]):\n",
    "    df_company_list = pd.read_csv( data_path + '/scraper_data/review_site.csv')\n",
    "    df_company_merged = pd.DataFrame()\n",
    "    for company_index in company_list:\n",
    "        company_name = df_company_list.iloc[company_index - 1]['Company_Name']\n",
    "        df_company = pd.read_csv( data_path + f'/companies/{company_index}_{company_name}/{company_name}.csv')\n",
    "        df_company_merged = pd.concat([df_company_merged, df_company], ignore_index=True)\n",
    "    return df_company_merged\n",
    "\n",
    "print(merge_data([5, 6]).shape)\n",
    "df = merge_data([5, 6])\n",
    "df.head()\n",
    "print(merge_data(range(1, 51)).shape)\n"
   ]
  },
  {
   "cell_type": "code",
   "execution_count": 23,
   "metadata": {},
   "outputs": [
    {
     "data": {
      "text/plain": [
       "(26693, 15)"
      ]
     },
     "metadata": {},
     "output_type": "display_data"
    },
    {
     "data": {
      "text/plain": [
       "(14314, 15)"
      ]
     },
     "metadata": {},
     "output_type": "display_data"
    }
   ],
   "source": [
    "df_former = df[df.Reviewer_Job_Status == 'Former Employee']\n",
    "df_current = df[df.Reviewer_Job_Status == 'Current Employee']\n",
    "\n",
    "display(df_former.shape)\n",
    "display(df_current.shape)"
   ]
  },
  {
   "cell_type": "code",
   "execution_count": 27,
   "metadata": {},
   "outputs": [
    {
     "data": {
      "text/plain": [
       "41709"
      ]
     },
     "execution_count": 27,
     "metadata": {},
     "output_type": "execute_result"
    }
   ],
   "source": [
    "26693 + 14314 + 702"
   ]
  },
  {
   "cell_type": "code",
   "execution_count": 31,
   "metadata": {},
   "outputs": [
    {
     "data": {
      "text/html": [
       "<div>\n",
       "<style scoped>\n",
       "    .dataframe tbody tr th:only-of-type {\n",
       "        vertical-align: middle;\n",
       "    }\n",
       "\n",
       "    .dataframe tbody tr th {\n",
       "        vertical-align: top;\n",
       "    }\n",
       "\n",
       "    .dataframe thead th {\n",
       "        text-align: right;\n",
       "    }\n",
       "</style>\n",
       "<table border=\"1\" class=\"dataframe\">\n",
       "  <thead>\n",
       "    <tr style=\"text-align: right;\">\n",
       "      <th></th>\n",
       "      <th>Index</th>\n",
       "      <th>Rating_Number</th>\n",
       "      <th>Work_Life</th>\n",
       "      <th>Benefits</th>\n",
       "      <th>Job_Advancement</th>\n",
       "      <th>Management</th>\n",
       "      <th>Culture</th>\n",
       "      <th>Review_Title</th>\n",
       "      <th>Reviewer_Job_Title</th>\n",
       "      <th>Reviewer_Job_Status</th>\n",
       "      <th>Reviewer_Job_Location</th>\n",
       "      <th>Reviewed_Date</th>\n",
       "      <th>Review_Text</th>\n",
       "      <th>Pros</th>\n",
       "      <th>Cons</th>\n",
       "    </tr>\n",
       "  </thead>\n",
       "  <tbody>\n",
       "    <tr>\n",
       "      <th>5</th>\n",
       "      <td>6</td>\n",
       "      <td>4.0</td>\n",
       "      <td>4.0</td>\n",
       "      <td>5.0</td>\n",
       "      <td>2.0</td>\n",
       "      <td>4.0</td>\n",
       "      <td>4.0</td>\n",
       "      <td>Good side job w/ possible opportunity to advance</td>\n",
       "      <td>Prime Now Shopper</td>\n",
       "      <td>Whole Foods</td>\n",
       "      <td>Glendale, CA</td>\n",
       "      <td>July 13, 2019</td>\n",
       "      <td>Good pay relative to work difficulty, supporti...</td>\n",
       "      <td>NaN</td>\n",
       "      <td>NaN</td>\n",
       "    </tr>\n",
       "    <tr>\n",
       "      <th>66</th>\n",
       "      <td>67</td>\n",
       "      <td>5.0</td>\n",
       "      <td>4.0</td>\n",
       "      <td>5.0</td>\n",
       "      <td>4.0</td>\n",
       "      <td>4.0</td>\n",
       "      <td>4.0</td>\n",
       "      <td>Productive</td>\n",
       "      <td>Transportation Specialist</td>\n",
       "      <td>ROC</td>\n",
       "      <td>theadore</td>\n",
       "      <td>July 10, 2019</td>\n",
       "      <td>Amazon is a steady work place with fast paced ...</td>\n",
       "      <td>NaN</td>\n",
       "      <td>NaN</td>\n",
       "    </tr>\n",
       "    <tr>\n",
       "      <th>123</th>\n",
       "      <td>124</td>\n",
       "      <td>4.0</td>\n",
       "      <td>4.0</td>\n",
       "      <td>5.0</td>\n",
       "      <td>3.0</td>\n",
       "      <td>4.0</td>\n",
       "      <td>4.0</td>\n",
       "      <td>Fun place to work</td>\n",
       "      <td>Web Developer II</td>\n",
       "      <td>Contractor</td>\n",
       "      <td>Seattle, WA</td>\n",
       "      <td>July 8, 2019</td>\n",
       "      <td>- You can learn a lot very quickly in a very s...</td>\n",
       "      <td>NaN</td>\n",
       "      <td>NaN</td>\n",
       "    </tr>\n",
       "    <tr>\n",
       "      <th>337</th>\n",
       "      <td>338</td>\n",
       "      <td>5.0</td>\n",
       "      <td>0.0</td>\n",
       "      <td>0.0</td>\n",
       "      <td>0.0</td>\n",
       "      <td>0.0</td>\n",
       "      <td>0.0</td>\n",
       "      <td>Awesome work environment</td>\n",
       "      <td>Amazon Warehouse Associate</td>\n",
       "      <td>Via staffing agency</td>\n",
       "      <td>Carlisle, PA</td>\n",
       "      <td>June 27, 2019</td>\n",
       "      <td>I worked as a seasonal inbound employee and ab...</td>\n",
       "      <td>NaN</td>\n",
       "      <td>NaN</td>\n",
       "    </tr>\n",
       "    <tr>\n",
       "      <th>759</th>\n",
       "      <td>760</td>\n",
       "      <td>4.0</td>\n",
       "      <td>4.0</td>\n",
       "      <td>4.0</td>\n",
       "      <td>5.0</td>\n",
       "      <td>4.0</td>\n",
       "      <td>5.0</td>\n",
       "      <td>Very fast paced and productive environment</td>\n",
       "      <td>Amazon,</td>\n",
       "      <td>Stower</td>\n",
       "      <td>Richmond, VA</td>\n",
       "      <td>June 10, 2019</td>\n",
       "      <td>Amazon had a lot of benefits for myself and my...</td>\n",
       "      <td>hourly rate with overtime</td>\n",
       "      <td>long shifts and excessive walking</td>\n",
       "    </tr>\n",
       "  </tbody>\n",
       "</table>\n",
       "</div>"
      ],
      "text/plain": [
       "     Index  Rating_Number  Work_Life  Benefits  Job_Advancement  Management  \\\n",
       "5        6            4.0        4.0       5.0              2.0         4.0   \n",
       "66      67            5.0        4.0       5.0              4.0         4.0   \n",
       "123    124            4.0        4.0       5.0              3.0         4.0   \n",
       "337    338            5.0        0.0       0.0              0.0         0.0   \n",
       "759    760            4.0        4.0       4.0              5.0         4.0   \n",
       "\n",
       "     Culture                                      Review_Title  \\\n",
       "5        4.0  Good side job w/ possible opportunity to advance   \n",
       "66       4.0                                        Productive   \n",
       "123      4.0                                 Fun place to work   \n",
       "337      0.0                          Awesome work environment   \n",
       "759      5.0        Very fast paced and productive environment   \n",
       "\n",
       "              Reviewer_Job_Title  Reviewer_Job_Status Reviewer_Job_Location  \\\n",
       "5             Prime Now Shopper           Whole Foods          Glendale, CA   \n",
       "66     Transportation Specialist                  ROC              theadore   \n",
       "123            Web Developer II            Contractor           Seattle, WA   \n",
       "337  Amazon Warehouse Associate   Via staffing agency          Carlisle, PA   \n",
       "759                     Amazon,                Stower          Richmond, VA   \n",
       "\n",
       "     Reviewed_Date                                        Review_Text  \\\n",
       "5    July 13, 2019  Good pay relative to work difficulty, supporti...   \n",
       "66   July 10, 2019  Amazon is a steady work place with fast paced ...   \n",
       "123   July 8, 2019  - You can learn a lot very quickly in a very s...   \n",
       "337  June 27, 2019  I worked as a seasonal inbound employee and ab...   \n",
       "759  June 10, 2019  Amazon had a lot of benefits for myself and my...   \n",
       "\n",
       "                          Pros                               Cons  \n",
       "5                          NaN                                NaN  \n",
       "66                         NaN                                NaN  \n",
       "123                        NaN                                NaN  \n",
       "337                        NaN                                NaN  \n",
       "759  hourly rate with overtime  long shifts and excessive walking  "
      ]
     },
     "metadata": {},
     "output_type": "display_data"
    }
   ],
   "source": [
    "df_ = df[df.Reviewer_Job_Status != 'Former Employee']\n",
    "df_ = df_[df_.Reviewer_Job_Status != 'Current Employee']\n",
    "df_.shape\n",
    "display(df_.head())"
   ]
  },
  {
   "cell_type": "code",
   "execution_count": 41,
   "metadata": {},
   "outputs": [
    {
     "name": "stdout",
     "output_type": "stream",
     "text": [
      "41007\n"
     ]
    }
   ],
   "source": [
    "total_sample = df_former.shape[0] + df_current.shape[0]\n",
    "print(total_sample)"
   ]
  },
  {
   "cell_type": "code",
   "execution_count": 52,
   "metadata": {},
   "outputs": [
    {
     "data": {
      "text/html": [
       "<div>\n",
       "<style scoped>\n",
       "    .dataframe tbody tr th:only-of-type {\n",
       "        vertical-align: middle;\n",
       "    }\n",
       "\n",
       "    .dataframe tbody tr th {\n",
       "        vertical-align: top;\n",
       "    }\n",
       "\n",
       "    .dataframe thead th {\n",
       "        text-align: right;\n",
       "    }\n",
       "</style>\n",
       "<table border=\"1\" class=\"dataframe\">\n",
       "  <thead>\n",
       "    <tr style=\"text-align: right;\">\n",
       "      <th></th>\n",
       "      <th>Rating_Number</th>\n",
       "      <th>Count</th>\n",
       "    </tr>\n",
       "  </thead>\n",
       "  <tbody>\n",
       "    <tr>\n",
       "      <th>0</th>\n",
       "      <td>1.0</td>\n",
       "      <td>10.54</td>\n",
       "    </tr>\n",
       "    <tr>\n",
       "      <th>1</th>\n",
       "      <td>2.0</td>\n",
       "      <td>9.97</td>\n",
       "    </tr>\n",
       "    <tr>\n",
       "      <th>2</th>\n",
       "      <td>3.0</td>\n",
       "      <td>23.45</td>\n",
       "    </tr>\n",
       "    <tr>\n",
       "      <th>3</th>\n",
       "      <td>4.0</td>\n",
       "      <td>27.50</td>\n",
       "    </tr>\n",
       "    <tr>\n",
       "      <th>4</th>\n",
       "      <td>5.0</td>\n",
       "      <td>28.55</td>\n",
       "    </tr>\n",
       "  </tbody>\n",
       "</table>\n",
       "</div>"
      ],
      "text/plain": [
       "   Rating_Number  Count\n",
       "0            1.0  10.54\n",
       "1            2.0   9.97\n",
       "2            3.0  23.45\n",
       "3            4.0  27.50\n",
       "4            5.0  28.55"
      ]
     },
     "execution_count": 52,
     "metadata": {},
     "output_type": "execute_result"
    }
   ],
   "source": [
    "df_former_rating = df_former.groupby('Rating_Number')['Rating_Number']\\\n",
    "                    .count().reset_index(name=\"Count\")\n",
    "df_former_rating['Count'] = round((df_former_rating['Count']/df_former.shape[0])*100, 2)\n",
    "df_former_rating.head()"
   ]
  },
  {
   "cell_type": "code",
   "execution_count": 53,
   "metadata": {},
   "outputs": [
    {
     "data": {
      "text/html": [
       "<div>\n",
       "<style scoped>\n",
       "    .dataframe tbody tr th:only-of-type {\n",
       "        vertical-align: middle;\n",
       "    }\n",
       "\n",
       "    .dataframe tbody tr th {\n",
       "        vertical-align: top;\n",
       "    }\n",
       "\n",
       "    .dataframe thead th {\n",
       "        text-align: right;\n",
       "    }\n",
       "</style>\n",
       "<table border=\"1\" class=\"dataframe\">\n",
       "  <thead>\n",
       "    <tr style=\"text-align: right;\">\n",
       "      <th></th>\n",
       "      <th>Rating_Number</th>\n",
       "      <th>Count</th>\n",
       "    </tr>\n",
       "  </thead>\n",
       "  <tbody>\n",
       "    <tr>\n",
       "      <th>0</th>\n",
       "      <td>1.0</td>\n",
       "      <td>7.33</td>\n",
       "    </tr>\n",
       "    <tr>\n",
       "      <th>1</th>\n",
       "      <td>2.0</td>\n",
       "      <td>9.64</td>\n",
       "    </tr>\n",
       "    <tr>\n",
       "      <th>2</th>\n",
       "      <td>3.0</td>\n",
       "      <td>25.28</td>\n",
       "    </tr>\n",
       "    <tr>\n",
       "      <th>3</th>\n",
       "      <td>4.0</td>\n",
       "      <td>30.45</td>\n",
       "    </tr>\n",
       "    <tr>\n",
       "      <th>4</th>\n",
       "      <td>5.0</td>\n",
       "      <td>27.30</td>\n",
       "    </tr>\n",
       "  </tbody>\n",
       "</table>\n",
       "</div>"
      ],
      "text/plain": [
       "   Rating_Number  Count\n",
       "0            1.0   7.33\n",
       "1            2.0   9.64\n",
       "2            3.0  25.28\n",
       "3            4.0  30.45\n",
       "4            5.0  27.30"
      ]
     },
     "execution_count": 53,
     "metadata": {},
     "output_type": "execute_result"
    }
   ],
   "source": [
    "df_current_rating = df_current.groupby('Rating_Number')['Rating_Number']\\\n",
    "                    .count().reset_index(name=\"Count\")\n",
    "df_current_rating['Count'] = round((df_current_rating['Count']/df_current.shape[0])*100, 2)\n",
    "df_current_rating.head()"
   ]
  },
  {
   "cell_type": "code",
   "execution_count": 54,
   "metadata": {},
   "outputs": [
    {
     "data": {
      "text/html": [
       "<div>\n",
       "<style scoped>\n",
       "    .dataframe tbody tr th:only-of-type {\n",
       "        vertical-align: middle;\n",
       "    }\n",
       "\n",
       "    .dataframe tbody tr th {\n",
       "        vertical-align: top;\n",
       "    }\n",
       "\n",
       "    .dataframe thead th {\n",
       "        text-align: right;\n",
       "    }\n",
       "</style>\n",
       "<table border=\"1\" class=\"dataframe\">\n",
       "  <thead>\n",
       "    <tr style=\"text-align: right;\">\n",
       "      <th></th>\n",
       "      <th>Rating_Number</th>\n",
       "      <th>Count</th>\n",
       "    </tr>\n",
       "  </thead>\n",
       "  <tbody>\n",
       "    <tr>\n",
       "      <th>0</th>\n",
       "      <td>1.0</td>\n",
       "      <td>9.42</td>\n",
       "    </tr>\n",
       "    <tr>\n",
       "      <th>1</th>\n",
       "      <td>2.0</td>\n",
       "      <td>9.85</td>\n",
       "    </tr>\n",
       "    <tr>\n",
       "      <th>2</th>\n",
       "      <td>3.0</td>\n",
       "      <td>24.09</td>\n",
       "    </tr>\n",
       "    <tr>\n",
       "      <th>3</th>\n",
       "      <td>4.0</td>\n",
       "      <td>28.53</td>\n",
       "    </tr>\n",
       "    <tr>\n",
       "      <th>4</th>\n",
       "      <td>5.0</td>\n",
       "      <td>28.11</td>\n",
       "    </tr>\n",
       "  </tbody>\n",
       "</table>\n",
       "</div>"
      ],
      "text/plain": [
       "   Rating_Number  Count\n",
       "0            1.0   9.42\n",
       "1            2.0   9.85\n",
       "2            3.0  24.09\n",
       "3            4.0  28.53\n",
       "4            5.0  28.11"
      ]
     },
     "execution_count": 54,
     "metadata": {},
     "output_type": "execute_result"
    }
   ],
   "source": [
    "df_former_current = pd.concat([df_former, df_current], ignore_index=True)\n",
    "\n",
    "df_former_current_rating = df_former_current.groupby('Rating_Number')['Rating_Number']\\\n",
    "                    .count().reset_index(name=\"Count\")\n",
    "df_former_current_rating['Count'] = round((df_former_current_rating['Count']/total_sample)*100, 2)\n",
    "df_former_current_rating.head()"
   ]
  },
  {
   "cell_type": "code",
   "execution_count": 64,
   "metadata": {},
   "outputs": [
    {
     "data": {
      "image/png": "[encoded data removed]",
      "text/plain": [
       "<Figure size 432x288 with 1 Axes>"
      ]
     },
     "metadata": {
      "needs_background": "light"
     },
     "output_type": "display_data"
    }
   ],
   "source": [
    "import matplotlib.pyplot as plt\n",
    "\n",
    "plt.plot(df_former_rating['Rating_Number'], df_former_rating['Count'], marker='o', label='Former Employee')\n",
    "plt.plot(df_current_rating['Rating_Number'], df_current_rating['Count'], marker='o', label='Current Employee')\n",
    "plt.plot(df_former_current_rating['Rating_Number'], df_former_current_rating['Count'], marker='o', label='All Employee')\n",
    "\n",
    "plt.xlabel('Overall Rating Score')\n",
    "plt.ylabel('Percent of Sample')\n",
    "plt.title('Distribution of Rating by Employment Status')\n",
    "plt.legend()\n",
    "plt.show()\n",
    "\n"
   ]
  },
  {
   "cell_type": "code",
   "execution_count": null,
   "metadata": {},
   "outputs": [],
   "source": []
  }
 ],
 "metadata": {
  "kernelspec": {
   "display_name": "Python 3",
   "language": "python",
   "name": "python3"
  },
  "language_info": {
   "codemirror_mode": {
    "name": "ipython",
    "version": 3
   },
   "file_extension": ".py",
   "mimetype": "text/x-python",
   "name": "python",
   "nbconvert_exporter": "python",
   "pygments_lexer": "ipython3",
   "version": "3.7.6"
  }
 },
 "nbformat": 4,
 "nbformat_minor": 2
}
